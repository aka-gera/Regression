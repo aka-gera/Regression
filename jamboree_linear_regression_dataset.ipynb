{
  "cells": [
    {
      "cell_type": "markdown",
      "metadata": {
        "id": "view-in-github",
        "colab_type": "text"
      },
      "source": [
        "<a href=\"https://colab.research.google.com/github/aka-gera/Regression/blob/main/jamboree_linear_regression_dataset.ipynb\" target=\"_parent\"><img src=\"https://colab.research.google.com/assets/colab-badge.svg\" alt=\"Open In Colab\"/></a>"
      ]
    },
    {
      "cell_type": "markdown",
      "metadata": {
        "id": "b-sJZeE2p5X7"
      },
      "source": [
        "# **PREDICTING IVY LEAGUE ADMISSION**\n",
        "\n",
        "---\n",
        "\n",
        "We will conduct regression analysis on this dataset to predict the likelihood of Ivy League university admission based on the provided features.\n",
        "\n",
        "---\n",
        "\n",
        "The dataset is sourced from: [Jamboree Linear Regression Dataset](https://www.kaggle.com/datasets/ranitsarkar01/jamboree-linear-regression-dataset)\n",
        "\n",
        "---\n",
        "\n",
        "The algorithms demonstrate an average R2 score level of up to 57%, which indicates that approximately 57% of the variability in admission likelihood can be explained by the features considered in the analysis.\n",
        "\n",
        "---\n",
        "\n",
        "The most influential features contributing to the prediction, according to the well-performed machine learning model, are:\n",
        "\n",
        "1. Whether the applicant has research experience\n",
        "2. Letter of Recommendation (LOR) score provided by the applicant's recommenders\n",
        "\n",
        "---\n"
      ]
    },
    {
      "cell_type": "markdown",
      "source": [
        "##Dataset Description\n",
        "\n",
        "\n",
        "Here is a brief description of the dataset.\n",
        "\n",
        "\n",
        "\n",
        "| Column             | Description                                                                                     |\n",
        "|--------------------|-------------------------------------------------------------------------------------------------|\n",
        "| Serial No.         | Unique identifier for each entry in the dataset.                                                |\n",
        "| GRE Score          | The GRE (Graduate Record Examinations) score of the applicant.                                   |\n",
        "| TOEFL Score        | The TOEFL (Test of English as a Foreign Language) score of the applicant.                         |\n",
        "| University Rating  | Rating of the university where the applicant completed their undergraduate education (on a scale from 1 to 5). |\n",
        "| SOP                | Statement of Purpose (SOP) score provided by the applicant (on a scale from 1 to 5).             |\n",
        "| LOR                | Letter of Recommendation (LOR) score provided by the applicant's recommenders (on a scale from 1 to 5). |\n",
        "| CGPA               | Cumulative Grade Point Average (CGPA) of the applicant during their undergraduate studies.       |\n",
        "| Research           | Indicates whether the applicant has research experience (1 for yes, 0 for no).                   |\n",
        "| Chance of Admit    | Probability of admission for the applicant, as predicted by the model or determined by other means.|\n",
        "\n"
      ],
      "metadata": {
        "id": "0pOBc26R30lG"
      }
    },
    {
      "cell_type": "markdown",
      "source": [
        "# Preset Parameters"
      ],
      "metadata": {
        "id": "jBK6woJjoD36"
      }
    },
    {
      "cell_type": "code",
      "source": [
        "data_dir =  f'ranitsarkar01/jamboree-linear-regression-dataset'  # Dataset location\n",
        "\n",
        "view_hist_feat = [5,7,0, 1,-1]  # Features selected for histogram visualization\n",
        "\n",
        "target_switcher = -1  # Switch target to a feature which is in the last column\n",
        "\n",
        "feat = [0]  # Features to drop\n",
        "\n",
        "data_nan_drop = 'mode'  # Fill NaN values:\n",
        "                   #   Choose 'mode' to fill NaN values with the mode of the feature\n",
        "                   #   Choose 'mean' to fill NaN values with the mean of the feature\n",
        "                   #   Choose 'drop' to drop rows containing NaN values\n",
        "\n",
        "balanced_dataset = False  # Whether to balance the dataset or not\n",
        "\n",
        "confidence_interval_limit = [-3, 3]  # Define the limits of the confidence interval [-m, m] and eliminate the outliers\n",
        "\n",
        "correlation_percentage_threshold = 0.7  # Set the correlation threshold between features for removal\n",
        "\n",
        "pre_proc = 'X'  # Data preprocessing:\n",
        "                #   Choose 'XY' to standardize both 'X' and 'Y',\n",
        "                #   Choose 'X' to standardize only 'X',\n",
        "                #   Choose 'Y' to standardize only 'Y',\n",
        "\n",
        "target_values_label = True  # True if target values are float or integers\n",
        "\n",
        "####### Neural Network Parameters #######\n",
        "activation = 'relu'\n",
        "epoch = 10\n",
        "num_nodes = [2, 4]\n",
        "dropout_prob = [0.05, 0.1]\n",
        "lr = [0.01, 0.1]\n",
        "batch_size = [2, 4]\n"
      ],
      "metadata": {
        "id": "5DyRfcJEfTXC"
      },
      "execution_count": 47,
      "outputs": []
    },
    {
      "cell_type": "markdown",
      "source": [
        "# Import Dataset"
      ],
      "metadata": {
        "id": "yRLkhjgpmdcf"
      }
    },
    {
      "cell_type": "code",
      "source": [
        "! pip install kaggle"
      ],
      "metadata": {
        "colab": {
          "base_uri": "https://localhost:8080/"
        },
        "id": "ewjPGnzp_km2",
        "outputId": "1f0c1364-3c8b-4a7b-df9a-6971536462fb"
      },
      "execution_count": 2,
      "outputs": [
        {
          "output_type": "stream",
          "name": "stdout",
          "text": [
            "Requirement already satisfied: kaggle in /usr/local/lib/python3.10/dist-packages (1.6.12)\n",
            "Requirement already satisfied: six>=1.10 in /usr/local/lib/python3.10/dist-packages (from kaggle) (1.16.0)\n",
            "Requirement already satisfied: certifi>=2023.7.22 in /usr/local/lib/python3.10/dist-packages (from kaggle) (2024.2.2)\n",
            "Requirement already satisfied: python-dateutil in /usr/local/lib/python3.10/dist-packages (from kaggle) (2.8.2)\n",
            "Requirement already satisfied: requests in /usr/local/lib/python3.10/dist-packages (from kaggle) (2.31.0)\n",
            "Requirement already satisfied: tqdm in /usr/local/lib/python3.10/dist-packages (from kaggle) (4.66.4)\n",
            "Requirement already satisfied: python-slugify in /usr/local/lib/python3.10/dist-packages (from kaggle) (8.0.4)\n",
            "Requirement already satisfied: urllib3 in /usr/local/lib/python3.10/dist-packages (from kaggle) (2.0.7)\n",
            "Requirement already satisfied: bleach in /usr/local/lib/python3.10/dist-packages (from kaggle) (6.1.0)\n",
            "Requirement already satisfied: webencodings in /usr/local/lib/python3.10/dist-packages (from bleach->kaggle) (0.5.1)\n",
            "Requirement already satisfied: text-unidecode>=1.3 in /usr/local/lib/python3.10/dist-packages (from python-slugify->kaggle) (1.3)\n",
            "Requirement already satisfied: charset-normalizer<4,>=2 in /usr/local/lib/python3.10/dist-packages (from requests->kaggle) (3.3.2)\n",
            "Requirement already satisfied: idna<4,>=2.5 in /usr/local/lib/python3.10/dist-packages (from requests->kaggle) (3.7)\n"
          ]
        }
      ]
    },
    {
      "cell_type": "code",
      "source": [
        "from google.colab import drive\n",
        "drive.mount('/content/drive')"
      ],
      "metadata": {
        "colab": {
          "base_uri": "https://localhost:8080/"
        },
        "id": "AxNckLT9AO09",
        "outputId": "41732ae7-e2ef-4edf-d449-c74890b4374a"
      },
      "execution_count": 3,
      "outputs": [
        {
          "output_type": "stream",
          "name": "stdout",
          "text": [
            "Mounted at /content/drive\n"
          ]
        }
      ]
    },
    {
      "cell_type": "code",
      "source": [
        "!pwd\n",
        "%cd /content"
      ],
      "metadata": {
        "colab": {
          "base_uri": "https://localhost:8080/"
        },
        "id": "8tZtD5km7uqF",
        "outputId": "cca1b7ab-193d-4ac0-da60-17994e14d555"
      },
      "execution_count": 4,
      "outputs": [
        {
          "output_type": "stream",
          "name": "stdout",
          "text": [
            "/content\n",
            "/content\n"
          ]
        }
      ]
    },
    {
      "cell_type": "code",
      "source": [
        "! mkdir ~/.kaggle"
      ],
      "metadata": {
        "id": "2utvMZG0AyMc"
      },
      "execution_count": 5,
      "outputs": []
    },
    {
      "cell_type": "code",
      "source": [
        "! cp /content/drive/MyDrive/Kaggle_API/kaggle.json ~/.kaggle"
      ],
      "metadata": {
        "id": "85Nc5kg7BJkU"
      },
      "execution_count": 6,
      "outputs": []
    },
    {
      "cell_type": "code",
      "source": [
        "! chmod 600 ~/.kaggle/kaggle.json"
      ],
      "metadata": {
        "id": "ZCX-JmVMBW2G"
      },
      "execution_count": 7,
      "outputs": []
    },
    {
      "cell_type": "code",
      "source": [
        "! kaggle datasets download {data_dir}"
      ],
      "metadata": {
        "colab": {
          "base_uri": "https://localhost:8080/"
        },
        "id": "jyQQtXxRBmDN",
        "outputId": "65dfe6d2-0626-4b43-8fad-a4af4f73f319"
      },
      "execution_count": 8,
      "outputs": [
        {
          "output_type": "stream",
          "name": "stdout",
          "text": [
            "Dataset URL: https://www.kaggle.com/datasets/ranitsarkar01/jamboree-linear-regression-dataset\n",
            "License(s): Attribution-NonCommercial 4.0 International (CC BY-NC 4.0)\n",
            "Downloading jamboree-linear-regression-dataset.zip to /content\n",
            "  0% 0.00/5.34k [00:00<?, ?B/s]\n",
            "100% 5.34k/5.34k [00:00<00:00, 13.7MB/s]\n"
          ]
        }
      ]
    },
    {
      "cell_type": "code",
      "source": [
        "import os\n",
        "file_names = os.listdir()\n",
        "zip_file =   [file for file in file_names if file.endswith('.zip')]\n",
        "zip_file"
      ],
      "metadata": {
        "colab": {
          "base_uri": "https://localhost:8080/"
        },
        "id": "bhhnh1KvzENs",
        "outputId": "60ad8499-6db0-46fb-9f0b-683f6bde6069"
      },
      "execution_count": 9,
      "outputs": [
        {
          "output_type": "execute_result",
          "data": {
            "text/plain": [
              "['jamboree-linear-regression-dataset.zip']"
            ]
          },
          "metadata": {},
          "execution_count": 9
        }
      ]
    },
    {
      "cell_type": "code",
      "source": [
        "import zipfile\n",
        "\n",
        "# Open the zip file\n",
        "with zipfile.ZipFile(zip_file[-1], 'r') as zip_ref:\n",
        "    zip_ref.extractall()\n",
        "    unzipped_file_names = zip_ref.namelist()\n",
        "unzipped_file_names"
      ],
      "metadata": {
        "colab": {
          "base_uri": "https://localhost:8080/"
        },
        "id": "eS_9ghMWuuP7",
        "outputId": "d50de5ab-96c6-4dca-a5d0-c6ff95fb1905"
      },
      "execution_count": 10,
      "outputs": [
        {
          "output_type": "execute_result",
          "data": {
            "text/plain": [
              "['jamboree_dataset.csv']"
            ]
          },
          "metadata": {},
          "execution_count": 10
        }
      ]
    },
    {
      "cell_type": "markdown",
      "metadata": {
        "id": "FpgaUHtcn-uj"
      },
      "source": [
        "# Import the helper classes"
      ]
    },
    {
      "cell_type": "code",
      "source": [
        "!pwd\n",
        "%cd /content/drive/MyDrive/ML2023/data-analysis"
      ],
      "metadata": {
        "colab": {
          "base_uri": "https://localhost:8080/"
        },
        "id": "19W5o-_3EPCP",
        "outputId": "e00f060b-fb0b-4483-c9fa-e0415d238397"
      },
      "execution_count": 11,
      "outputs": [
        {
          "output_type": "stream",
          "name": "stdout",
          "text": [
            "/content\n",
            "/content/drive/MyDrive/ML2023/data-analysis\n"
          ]
        }
      ]
    },
    {
      "cell_type": "code",
      "source": [
        "!pip install aka-mlearning==0.0.1\n",
        "from aka_MLearning import aka_ML_analysis,aka_regression"
      ],
      "metadata": {
        "colab": {
          "base_uri": "https://localhost:8080/"
        },
        "id": "9z7-nMFuvFhi",
        "outputId": "8de6c840-a8b6-403b-e138-76331ab5fc61"
      },
      "execution_count": 12,
      "outputs": [
        {
          "output_type": "stream",
          "name": "stdout",
          "text": [
            "Collecting aka-mlearning==0.0.1\n",
            "  Downloading aka_mlearning-0.0.1.tar.gz (4.8 kB)\n",
            "  Preparing metadata (setup.py) ... \u001b[?25l\u001b[?25hdone\n",
            "Requirement already satisfied: xgboost in /usr/local/lib/python3.10/dist-packages (from aka-mlearning==0.0.1) (2.0.3)\n",
            "Collecting catboost (from aka-mlearning==0.0.1)\n",
            "  Downloading catboost-1.2.5-cp310-cp310-manylinux2014_x86_64.whl (98.2 MB)\n",
            "\u001b[2K     \u001b[90m━━━━━━━━━━━━━━━━━━━━━━━━━━━━━━━━━━━━━━━━\u001b[0m \u001b[32m98.2/98.2 MB\u001b[0m \u001b[31m5.2 MB/s\u001b[0m eta \u001b[36m0:00:00\u001b[0m\n",
            "\u001b[?25hRequirement already satisfied: pandas>=1.3.5 in /usr/local/lib/python3.10/dist-packages (from aka-mlearning==0.0.1) (2.0.3)\n",
            "Requirement already satisfied: matplotlib in /usr/local/lib/python3.10/dist-packages (from aka-mlearning==0.0.1) (3.7.1)\n",
            "Requirement already satisfied: python-dateutil>=2.8.2 in /usr/local/lib/python3.10/dist-packages (from pandas>=1.3.5->aka-mlearning==0.0.1) (2.8.2)\n",
            "Requirement already satisfied: pytz>=2020.1 in /usr/local/lib/python3.10/dist-packages (from pandas>=1.3.5->aka-mlearning==0.0.1) (2023.4)\n",
            "Requirement already satisfied: tzdata>=2022.1 in /usr/local/lib/python3.10/dist-packages (from pandas>=1.3.5->aka-mlearning==0.0.1) (2024.1)\n",
            "Requirement already satisfied: numpy>=1.21.0 in /usr/local/lib/python3.10/dist-packages (from pandas>=1.3.5->aka-mlearning==0.0.1) (1.25.2)\n",
            "Requirement already satisfied: graphviz in /usr/local/lib/python3.10/dist-packages (from catboost->aka-mlearning==0.0.1) (0.20.3)\n",
            "Requirement already satisfied: scipy in /usr/local/lib/python3.10/dist-packages (from catboost->aka-mlearning==0.0.1) (1.11.4)\n",
            "Requirement already satisfied: plotly in /usr/local/lib/python3.10/dist-packages (from catboost->aka-mlearning==0.0.1) (5.15.0)\n",
            "Requirement already satisfied: six in /usr/local/lib/python3.10/dist-packages (from catboost->aka-mlearning==0.0.1) (1.16.0)\n",
            "Requirement already satisfied: contourpy>=1.0.1 in /usr/local/lib/python3.10/dist-packages (from matplotlib->aka-mlearning==0.0.1) (1.2.1)\n",
            "Requirement already satisfied: cycler>=0.10 in /usr/local/lib/python3.10/dist-packages (from matplotlib->aka-mlearning==0.0.1) (0.12.1)\n",
            "Requirement already satisfied: fonttools>=4.22.0 in /usr/local/lib/python3.10/dist-packages (from matplotlib->aka-mlearning==0.0.1) (4.51.0)\n",
            "Requirement already satisfied: kiwisolver>=1.0.1 in /usr/local/lib/python3.10/dist-packages (from matplotlib->aka-mlearning==0.0.1) (1.4.5)\n",
            "Requirement already satisfied: packaging>=20.0 in /usr/local/lib/python3.10/dist-packages (from matplotlib->aka-mlearning==0.0.1) (24.0)\n",
            "Requirement already satisfied: pillow>=6.2.0 in /usr/local/lib/python3.10/dist-packages (from matplotlib->aka-mlearning==0.0.1) (9.4.0)\n",
            "Requirement already satisfied: pyparsing>=2.3.1 in /usr/local/lib/python3.10/dist-packages (from matplotlib->aka-mlearning==0.0.1) (3.1.2)\n",
            "Requirement already satisfied: tenacity>=6.2.0 in /usr/local/lib/python3.10/dist-packages (from plotly->catboost->aka-mlearning==0.0.1) (8.3.0)\n",
            "Building wheels for collected packages: aka-mlearning\n",
            "  Building wheel for aka-mlearning (setup.py) ... \u001b[?25l\u001b[?25hdone\n",
            "  Created wheel for aka-mlearning: filename=aka_mlearning-0.0.1-py3-none-any.whl size=5222 sha256=5c5d2753dc75fe076b61e10a7901d4ae3a15d97a3102e50339f9f3157597f246\n",
            "  Stored in directory: /root/.cache/pip/wheels/a9/32/37/dc5b42ab80d79613dd21357f887d4b9b1d5c93a64ccb4372ab\n",
            "Successfully built aka-mlearning\n",
            "Installing collected packages: catboost, aka-mlearning\n",
            "Successfully installed aka-mlearning-0.0.1 catboost-1.2.5\n"
          ]
        }
      ]
    },
    {
      "cell_type": "code",
      "source": [
        "!pip install aka-data-prep==0.1.2\n",
        "from aka_data_prep import aka_encoding,aka_df_prepare,aka_plot_prep,aka_cleaned_data,aka_plot_shap,aka_plot_ML\n",
        "aka_plot_ = aka_plot_prep()"
      ],
      "metadata": {
        "colab": {
          "base_uri": "https://localhost:8080/"
        },
        "id": "k1NcmlbyoFGo",
        "outputId": "992eb29b-1e4b-4db6-cac1-5951ad083b6a"
      },
      "execution_count": 13,
      "outputs": [
        {
          "output_type": "stream",
          "name": "stdout",
          "text": [
            "Collecting aka-data-prep==0.1.2\n",
            "  Downloading aka-data-prep-0.1.2.tar.gz (7.7 kB)\n",
            "  Preparing metadata (setup.py) ... \u001b[?25l\u001b[?25hdone\n",
            "Requirement already satisfied: pandas>=1.3.5 in /usr/local/lib/python3.10/dist-packages (from aka-data-prep==0.1.2) (2.0.3)\n",
            "Requirement already satisfied: matplotlib in /usr/local/lib/python3.10/dist-packages (from aka-data-prep==0.1.2) (3.7.1)\n",
            "Collecting shap (from aka-data-prep==0.1.2)\n",
            "  Downloading shap-0.45.1-cp310-cp310-manylinux_2_12_x86_64.manylinux2010_x86_64.manylinux_2_17_x86_64.manylinux2014_x86_64.whl (540 kB)\n",
            "\u001b[2K     \u001b[90m━━━━━━━━━━━━━━━━━━━━━━━━━━━━━━━━━━━━━━━━\u001b[0m \u001b[32m540.5/540.5 kB\u001b[0m \u001b[31m5.5 MB/s\u001b[0m eta \u001b[36m0:00:00\u001b[0m\n",
            "\u001b[?25hRequirement already satisfied: python-dateutil>=2.8.2 in /usr/local/lib/python3.10/dist-packages (from pandas>=1.3.5->aka-data-prep==0.1.2) (2.8.2)\n",
            "Requirement already satisfied: pytz>=2020.1 in /usr/local/lib/python3.10/dist-packages (from pandas>=1.3.5->aka-data-prep==0.1.2) (2023.4)\n",
            "Requirement already satisfied: tzdata>=2022.1 in /usr/local/lib/python3.10/dist-packages (from pandas>=1.3.5->aka-data-prep==0.1.2) (2024.1)\n",
            "Requirement already satisfied: numpy>=1.21.0 in /usr/local/lib/python3.10/dist-packages (from pandas>=1.3.5->aka-data-prep==0.1.2) (1.25.2)\n",
            "Requirement already satisfied: contourpy>=1.0.1 in /usr/local/lib/python3.10/dist-packages (from matplotlib->aka-data-prep==0.1.2) (1.2.1)\n",
            "Requirement already satisfied: cycler>=0.10 in /usr/local/lib/python3.10/dist-packages (from matplotlib->aka-data-prep==0.1.2) (0.12.1)\n",
            "Requirement already satisfied: fonttools>=4.22.0 in /usr/local/lib/python3.10/dist-packages (from matplotlib->aka-data-prep==0.1.2) (4.51.0)\n",
            "Requirement already satisfied: kiwisolver>=1.0.1 in /usr/local/lib/python3.10/dist-packages (from matplotlib->aka-data-prep==0.1.2) (1.4.5)\n",
            "Requirement already satisfied: packaging>=20.0 in /usr/local/lib/python3.10/dist-packages (from matplotlib->aka-data-prep==0.1.2) (24.0)\n",
            "Requirement already satisfied: pillow>=6.2.0 in /usr/local/lib/python3.10/dist-packages (from matplotlib->aka-data-prep==0.1.2) (9.4.0)\n",
            "Requirement already satisfied: pyparsing>=2.3.1 in /usr/local/lib/python3.10/dist-packages (from matplotlib->aka-data-prep==0.1.2) (3.1.2)\n",
            "Requirement already satisfied: scipy in /usr/local/lib/python3.10/dist-packages (from shap->aka-data-prep==0.1.2) (1.11.4)\n",
            "Requirement already satisfied: scikit-learn in /usr/local/lib/python3.10/dist-packages (from shap->aka-data-prep==0.1.2) (1.2.2)\n",
            "Requirement already satisfied: tqdm>=4.27.0 in /usr/local/lib/python3.10/dist-packages (from shap->aka-data-prep==0.1.2) (4.66.4)\n",
            "Collecting slicer==0.0.8 (from shap->aka-data-prep==0.1.2)\n",
            "  Downloading slicer-0.0.8-py3-none-any.whl (15 kB)\n",
            "Requirement already satisfied: numba in /usr/local/lib/python3.10/dist-packages (from shap->aka-data-prep==0.1.2) (0.58.1)\n",
            "Requirement already satisfied: cloudpickle in /usr/local/lib/python3.10/dist-packages (from shap->aka-data-prep==0.1.2) (2.2.1)\n",
            "Requirement already satisfied: six>=1.5 in /usr/local/lib/python3.10/dist-packages (from python-dateutil>=2.8.2->pandas>=1.3.5->aka-data-prep==0.1.2) (1.16.0)\n",
            "Requirement already satisfied: llvmlite<0.42,>=0.41.0dev0 in /usr/local/lib/python3.10/dist-packages (from numba->shap->aka-data-prep==0.1.2) (0.41.1)\n",
            "Requirement already satisfied: joblib>=1.1.1 in /usr/local/lib/python3.10/dist-packages (from scikit-learn->shap->aka-data-prep==0.1.2) (1.4.2)\n",
            "Requirement already satisfied: threadpoolctl>=2.0.0 in /usr/local/lib/python3.10/dist-packages (from scikit-learn->shap->aka-data-prep==0.1.2) (3.5.0)\n",
            "Building wheels for collected packages: aka-data-prep\n",
            "  Building wheel for aka-data-prep (setup.py) ... \u001b[?25l\u001b[?25hdone\n",
            "  Created wheel for aka-data-prep: filename=aka_data_prep-0.1.2-py3-none-any.whl size=7988 sha256=c9538d0dbf026187a85d73311298ea5eca3fe262a017633f4ea3b113ffc78301\n",
            "  Stored in directory: /root/.cache/pip/wheels/f2/de/d6/05cbd71695a5fc82a0e740c266bf8e77f99f7219d78f1a954d\n",
            "Successfully built aka-data-prep\n",
            "Installing collected packages: slicer, shap, aka-data-prep\n",
            "Successfully installed aka-data-prep-0.1.2 shap-0.45.1 slicer-0.0.8\n"
          ]
        }
      ]
    },
    {
      "cell_type": "code",
      "source": [
        "from aka_data_analysis.aka_nn import aka_nn"
      ],
      "metadata": {
        "id": "kePy6mir7XgM"
      },
      "execution_count": 14,
      "outputs": []
    },
    {
      "cell_type": "code",
      "execution_count": 15,
      "metadata": {
        "id": "U97UXNVGwY7b"
      },
      "outputs": [],
      "source": [
        "import matplotlib.pyplot as plt\n",
        "import numpy as np\n",
        "import pandas as pd\n"
      ]
    },
    {
      "cell_type": "markdown",
      "metadata": {
        "id": "emCQ05DcRoSj"
      },
      "source": [
        "# Dataset Information"
      ]
    },
    {
      "cell_type": "code",
      "execution_count": 45,
      "metadata": {
        "id": "xFLpKTpMJeny",
        "colab": {
          "base_uri": "https://localhost:8080/",
          "height": 206
        },
        "outputId": "c67c600d-1955-4226-8542-64e4d2a59ae8"
      },
      "outputs": [
        {
          "output_type": "execute_result",
          "data": {
            "text/plain": [
              "   Serial No.  GRE Score  TOEFL Score  University Rating  SOP  LOR   CGPA  \\\n",
              "0           1        337          118                  4  4.5   4.5  9.65   \n",
              "1           2        324          107                  4  4.0   4.5  8.87   \n",
              "2           3        316          104                  3  3.0   3.5  8.00   \n",
              "3           4        322          110                  3  3.5   2.5  8.67   \n",
              "4           5        314          103                  2  2.0   3.0  8.21   \n",
              "\n",
              "   Research  Chance of Admit   \n",
              "0         1              0.92  \n",
              "1         1              0.76  \n",
              "2         1              0.72  \n",
              "3         1              0.80  \n",
              "4         0              0.65  "
            ],
            "text/html": [
              "\n",
              "  <div id=\"df-f3ec15c9-426d-4f7c-b05a-7f861aa71e10\" class=\"colab-df-container\">\n",
              "    <div>\n",
              "<style scoped>\n",
              "    .dataframe tbody tr th:only-of-type {\n",
              "        vertical-align: middle;\n",
              "    }\n",
              "\n",
              "    .dataframe tbody tr th {\n",
              "        vertical-align: top;\n",
              "    }\n",
              "\n",
              "    .dataframe thead th {\n",
              "        text-align: right;\n",
              "    }\n",
              "</style>\n",
              "<table border=\"1\" class=\"dataframe\">\n",
              "  <thead>\n",
              "    <tr style=\"text-align: right;\">\n",
              "      <th></th>\n",
              "      <th>Serial No.</th>\n",
              "      <th>GRE Score</th>\n",
              "      <th>TOEFL Score</th>\n",
              "      <th>University Rating</th>\n",
              "      <th>SOP</th>\n",
              "      <th>LOR</th>\n",
              "      <th>CGPA</th>\n",
              "      <th>Research</th>\n",
              "      <th>Chance of Admit</th>\n",
              "    </tr>\n",
              "  </thead>\n",
              "  <tbody>\n",
              "    <tr>\n",
              "      <th>0</th>\n",
              "      <td>1</td>\n",
              "      <td>337</td>\n",
              "      <td>118</td>\n",
              "      <td>4</td>\n",
              "      <td>4.5</td>\n",
              "      <td>4.5</td>\n",
              "      <td>9.65</td>\n",
              "      <td>1</td>\n",
              "      <td>0.92</td>\n",
              "    </tr>\n",
              "    <tr>\n",
              "      <th>1</th>\n",
              "      <td>2</td>\n",
              "      <td>324</td>\n",
              "      <td>107</td>\n",
              "      <td>4</td>\n",
              "      <td>4.0</td>\n",
              "      <td>4.5</td>\n",
              "      <td>8.87</td>\n",
              "      <td>1</td>\n",
              "      <td>0.76</td>\n",
              "    </tr>\n",
              "    <tr>\n",
              "      <th>2</th>\n",
              "      <td>3</td>\n",
              "      <td>316</td>\n",
              "      <td>104</td>\n",
              "      <td>3</td>\n",
              "      <td>3.0</td>\n",
              "      <td>3.5</td>\n",
              "      <td>8.00</td>\n",
              "      <td>1</td>\n",
              "      <td>0.72</td>\n",
              "    </tr>\n",
              "    <tr>\n",
              "      <th>3</th>\n",
              "      <td>4</td>\n",
              "      <td>322</td>\n",
              "      <td>110</td>\n",
              "      <td>3</td>\n",
              "      <td>3.5</td>\n",
              "      <td>2.5</td>\n",
              "      <td>8.67</td>\n",
              "      <td>1</td>\n",
              "      <td>0.80</td>\n",
              "    </tr>\n",
              "    <tr>\n",
              "      <th>4</th>\n",
              "      <td>5</td>\n",
              "      <td>314</td>\n",
              "      <td>103</td>\n",
              "      <td>2</td>\n",
              "      <td>2.0</td>\n",
              "      <td>3.0</td>\n",
              "      <td>8.21</td>\n",
              "      <td>0</td>\n",
              "      <td>0.65</td>\n",
              "    </tr>\n",
              "  </tbody>\n",
              "</table>\n",
              "</div>\n",
              "    <div class=\"colab-df-buttons\">\n",
              "\n",
              "  <div class=\"colab-df-container\">\n",
              "    <button class=\"colab-df-convert\" onclick=\"convertToInteractive('df-f3ec15c9-426d-4f7c-b05a-7f861aa71e10')\"\n",
              "            title=\"Convert this dataframe to an interactive table.\"\n",
              "            style=\"display:none;\">\n",
              "\n",
              "  <svg xmlns=\"http://www.w3.org/2000/svg\" height=\"24px\" viewBox=\"0 -960 960 960\">\n",
              "    <path d=\"M120-120v-720h720v720H120Zm60-500h600v-160H180v160Zm220 220h160v-160H400v160Zm0 220h160v-160H400v160ZM180-400h160v-160H180v160Zm440 0h160v-160H620v160ZM180-180h160v-160H180v160Zm440 0h160v-160H620v160Z\"/>\n",
              "  </svg>\n",
              "    </button>\n",
              "\n",
              "  <style>\n",
              "    .colab-df-container {\n",
              "      display:flex;\n",
              "      gap: 12px;\n",
              "    }\n",
              "\n",
              "    .colab-df-convert {\n",
              "      background-color: #E8F0FE;\n",
              "      border: none;\n",
              "      border-radius: 50%;\n",
              "      cursor: pointer;\n",
              "      display: none;\n",
              "      fill: #1967D2;\n",
              "      height: 32px;\n",
              "      padding: 0 0 0 0;\n",
              "      width: 32px;\n",
              "    }\n",
              "\n",
              "    .colab-df-convert:hover {\n",
              "      background-color: #E2EBFA;\n",
              "      box-shadow: 0px 1px 2px rgba(60, 64, 67, 0.3), 0px 1px 3px 1px rgba(60, 64, 67, 0.15);\n",
              "      fill: #174EA6;\n",
              "    }\n",
              "\n",
              "    .colab-df-buttons div {\n",
              "      margin-bottom: 4px;\n",
              "    }\n",
              "\n",
              "    [theme=dark] .colab-df-convert {\n",
              "      background-color: #3B4455;\n",
              "      fill: #D2E3FC;\n",
              "    }\n",
              "\n",
              "    [theme=dark] .colab-df-convert:hover {\n",
              "      background-color: #434B5C;\n",
              "      box-shadow: 0px 1px 3px 1px rgba(0, 0, 0, 0.15);\n",
              "      filter: drop-shadow(0px 1px 2px rgba(0, 0, 0, 0.3));\n",
              "      fill: #FFFFFF;\n",
              "    }\n",
              "  </style>\n",
              "\n",
              "    <script>\n",
              "      const buttonEl =\n",
              "        document.querySelector('#df-f3ec15c9-426d-4f7c-b05a-7f861aa71e10 button.colab-df-convert');\n",
              "      buttonEl.style.display =\n",
              "        google.colab.kernel.accessAllowed ? 'block' : 'none';\n",
              "\n",
              "      async function convertToInteractive(key) {\n",
              "        const element = document.querySelector('#df-f3ec15c9-426d-4f7c-b05a-7f861aa71e10');\n",
              "        const dataTable =\n",
              "          await google.colab.kernel.invokeFunction('convertToInteractive',\n",
              "                                                    [key], {});\n",
              "        if (!dataTable) return;\n",
              "\n",
              "        const docLinkHtml = 'Like what you see? Visit the ' +\n",
              "          '<a target=\"_blank\" href=https://colab.research.google.com/notebooks/data_table.ipynb>data table notebook</a>'\n",
              "          + ' to learn more about interactive tables.';\n",
              "        element.innerHTML = '';\n",
              "        dataTable['output_type'] = 'display_data';\n",
              "        await google.colab.output.renderOutput(dataTable, element);\n",
              "        const docLink = document.createElement('div');\n",
              "        docLink.innerHTML = docLinkHtml;\n",
              "        element.appendChild(docLink);\n",
              "      }\n",
              "    </script>\n",
              "  </div>\n",
              "\n",
              "\n",
              "<div id=\"df-66f8d289-4d69-4a8e-a43b-861dee2474da\">\n",
              "  <button class=\"colab-df-quickchart\" onclick=\"quickchart('df-66f8d289-4d69-4a8e-a43b-861dee2474da')\"\n",
              "            title=\"Suggest charts\"\n",
              "            style=\"display:none;\">\n",
              "\n",
              "<svg xmlns=\"http://www.w3.org/2000/svg\" height=\"24px\"viewBox=\"0 0 24 24\"\n",
              "     width=\"24px\">\n",
              "    <g>\n",
              "        <path d=\"M19 3H5c-1.1 0-2 .9-2 2v14c0 1.1.9 2 2 2h14c1.1 0 2-.9 2-2V5c0-1.1-.9-2-2-2zM9 17H7v-7h2v7zm4 0h-2V7h2v10zm4 0h-2v-4h2v4z\"/>\n",
              "    </g>\n",
              "</svg>\n",
              "  </button>\n",
              "\n",
              "<style>\n",
              "  .colab-df-quickchart {\n",
              "      --bg-color: #E8F0FE;\n",
              "      --fill-color: #1967D2;\n",
              "      --hover-bg-color: #E2EBFA;\n",
              "      --hover-fill-color: #174EA6;\n",
              "      --disabled-fill-color: #AAA;\n",
              "      --disabled-bg-color: #DDD;\n",
              "  }\n",
              "\n",
              "  [theme=dark] .colab-df-quickchart {\n",
              "      --bg-color: #3B4455;\n",
              "      --fill-color: #D2E3FC;\n",
              "      --hover-bg-color: #434B5C;\n",
              "      --hover-fill-color: #FFFFFF;\n",
              "      --disabled-bg-color: #3B4455;\n",
              "      --disabled-fill-color: #666;\n",
              "  }\n",
              "\n",
              "  .colab-df-quickchart {\n",
              "    background-color: var(--bg-color);\n",
              "    border: none;\n",
              "    border-radius: 50%;\n",
              "    cursor: pointer;\n",
              "    display: none;\n",
              "    fill: var(--fill-color);\n",
              "    height: 32px;\n",
              "    padding: 0;\n",
              "    width: 32px;\n",
              "  }\n",
              "\n",
              "  .colab-df-quickchart:hover {\n",
              "    background-color: var(--hover-bg-color);\n",
              "    box-shadow: 0 1px 2px rgba(60, 64, 67, 0.3), 0 1px 3px 1px rgba(60, 64, 67, 0.15);\n",
              "    fill: var(--button-hover-fill-color);\n",
              "  }\n",
              "\n",
              "  .colab-df-quickchart-complete:disabled,\n",
              "  .colab-df-quickchart-complete:disabled:hover {\n",
              "    background-color: var(--disabled-bg-color);\n",
              "    fill: var(--disabled-fill-color);\n",
              "    box-shadow: none;\n",
              "  }\n",
              "\n",
              "  .colab-df-spinner {\n",
              "    border: 2px solid var(--fill-color);\n",
              "    border-color: transparent;\n",
              "    border-bottom-color: var(--fill-color);\n",
              "    animation:\n",
              "      spin 1s steps(1) infinite;\n",
              "  }\n",
              "\n",
              "  @keyframes spin {\n",
              "    0% {\n",
              "      border-color: transparent;\n",
              "      border-bottom-color: var(--fill-color);\n",
              "      border-left-color: var(--fill-color);\n",
              "    }\n",
              "    20% {\n",
              "      border-color: transparent;\n",
              "      border-left-color: var(--fill-color);\n",
              "      border-top-color: var(--fill-color);\n",
              "    }\n",
              "    30% {\n",
              "      border-color: transparent;\n",
              "      border-left-color: var(--fill-color);\n",
              "      border-top-color: var(--fill-color);\n",
              "      border-right-color: var(--fill-color);\n",
              "    }\n",
              "    40% {\n",
              "      border-color: transparent;\n",
              "      border-right-color: var(--fill-color);\n",
              "      border-top-color: var(--fill-color);\n",
              "    }\n",
              "    60% {\n",
              "      border-color: transparent;\n",
              "      border-right-color: var(--fill-color);\n",
              "    }\n",
              "    80% {\n",
              "      border-color: transparent;\n",
              "      border-right-color: var(--fill-color);\n",
              "      border-bottom-color: var(--fill-color);\n",
              "    }\n",
              "    90% {\n",
              "      border-color: transparent;\n",
              "      border-bottom-color: var(--fill-color);\n",
              "    }\n",
              "  }\n",
              "</style>\n",
              "\n",
              "  <script>\n",
              "    async function quickchart(key) {\n",
              "      const quickchartButtonEl =\n",
              "        document.querySelector('#' + key + ' button');\n",
              "      quickchartButtonEl.disabled = true;  // To prevent multiple clicks.\n",
              "      quickchartButtonEl.classList.add('colab-df-spinner');\n",
              "      try {\n",
              "        const charts = await google.colab.kernel.invokeFunction(\n",
              "            'suggestCharts', [key], {});\n",
              "      } catch (error) {\n",
              "        console.error('Error during call to suggestCharts:', error);\n",
              "      }\n",
              "      quickchartButtonEl.classList.remove('colab-df-spinner');\n",
              "      quickchartButtonEl.classList.add('colab-df-quickchart-complete');\n",
              "    }\n",
              "    (() => {\n",
              "      let quickchartButtonEl =\n",
              "        document.querySelector('#df-66f8d289-4d69-4a8e-a43b-861dee2474da button');\n",
              "      quickchartButtonEl.style.display =\n",
              "        google.colab.kernel.accessAllowed ? 'block' : 'none';\n",
              "    })();\n",
              "  </script>\n",
              "</div>\n",
              "\n",
              "    </div>\n",
              "  </div>\n"
            ],
            "application/vnd.google.colaboratory.intrinsic+json": {
              "type": "dataframe",
              "variable_name": "df",
              "summary": "{\n  \"name\": \"df\",\n  \"rows\": 500,\n  \"fields\": [\n    {\n      \"column\": \"Serial No.\",\n      \"properties\": {\n        \"dtype\": \"number\",\n        \"std\": 144,\n        \"min\": 1,\n        \"max\": 500,\n        \"num_unique_values\": 500,\n        \"samples\": [\n          362,\n          74,\n          375\n        ],\n        \"semantic_type\": \"\",\n        \"description\": \"\"\n      }\n    },\n    {\n      \"column\": \"GRE Score\",\n      \"properties\": {\n        \"dtype\": \"number\",\n        \"std\": 11,\n        \"min\": 290,\n        \"max\": 340,\n        \"num_unique_values\": 49,\n        \"samples\": [\n          307,\n          335,\n          297\n        ],\n        \"semantic_type\": \"\",\n        \"description\": \"\"\n      }\n    },\n    {\n      \"column\": \"TOEFL Score\",\n      \"properties\": {\n        \"dtype\": \"number\",\n        \"std\": 6,\n        \"min\": 92,\n        \"max\": 120,\n        \"num_unique_values\": 29,\n        \"samples\": [\n          94,\n          119,\n          112\n        ],\n        \"semantic_type\": \"\",\n        \"description\": \"\"\n      }\n    },\n    {\n      \"column\": \"University Rating\",\n      \"properties\": {\n        \"dtype\": \"number\",\n        \"std\": 1,\n        \"min\": 1,\n        \"max\": 5,\n        \"num_unique_values\": 5,\n        \"samples\": [\n          3,\n          1,\n          2\n        ],\n        \"semantic_type\": \"\",\n        \"description\": \"\"\n      }\n    },\n    {\n      \"column\": \"SOP\",\n      \"properties\": {\n        \"dtype\": \"number\",\n        \"std\": 0.9910036207566072,\n        \"min\": 1.0,\n        \"max\": 5.0,\n        \"num_unique_values\": 9,\n        \"samples\": [\n          1.0,\n          4.0,\n          5.0\n        ],\n        \"semantic_type\": \"\",\n        \"description\": \"\"\n      }\n    },\n    {\n      \"column\": \"LOR \",\n      \"properties\": {\n        \"dtype\": \"number\",\n        \"std\": 0.9254495738978193,\n        \"min\": 1.0,\n        \"max\": 5.0,\n        \"num_unique_values\": 9,\n        \"samples\": [\n          5.0,\n          3.5,\n          1.5\n        ],\n        \"semantic_type\": \"\",\n        \"description\": \"\"\n      }\n    },\n    {\n      \"column\": \"CGPA\",\n      \"properties\": {\n        \"dtype\": \"number\",\n        \"std\": 0.6048128003332054,\n        \"min\": 6.8,\n        \"max\": 9.92,\n        \"num_unique_values\": 184,\n        \"samples\": [\n          9.6,\n          8.9,\n          8.24\n        ],\n        \"semantic_type\": \"\",\n        \"description\": \"\"\n      }\n    },\n    {\n      \"column\": \"Research\",\n      \"properties\": {\n        \"dtype\": \"number\",\n        \"std\": 0,\n        \"min\": 0,\n        \"max\": 1,\n        \"num_unique_values\": 2,\n        \"samples\": [\n          0,\n          1\n        ],\n        \"semantic_type\": \"\",\n        \"description\": \"\"\n      }\n    },\n    {\n      \"column\": \"Chance of Admit \",\n      \"properties\": {\n        \"dtype\": \"number\",\n        \"std\": 0.14114040395030228,\n        \"min\": 0.34,\n        \"max\": 0.97,\n        \"num_unique_values\": 61,\n        \"samples\": [\n          0.92,\n          0.9\n        ],\n        \"semantic_type\": \"\",\n        \"description\": \"\"\n      }\n    }\n  ]\n}"
            }
          },
          "metadata": {},
          "execution_count": 45
        }
      ],
      "source": [
        "df = aka_df_prepare().df_get(f'/content/{unzipped_file_names[0]}')\n",
        "df.head()"
      ]
    },
    {
      "cell_type": "code",
      "source": [
        "df.info()"
      ],
      "metadata": {
        "colab": {
          "base_uri": "https://localhost:8080/"
        },
        "id": "HocXbsTv0iNc",
        "outputId": "351c303e-5c1c-4ced-ffe9-23b37833404b"
      },
      "execution_count": 46,
      "outputs": [
        {
          "output_type": "stream",
          "name": "stdout",
          "text": [
            "<class 'pandas.core.frame.DataFrame'>\n",
            "RangeIndex: 500 entries, 0 to 499\n",
            "Data columns (total 9 columns):\n",
            " #   Column             Non-Null Count  Dtype  \n",
            "---  ------             --------------  -----  \n",
            " 0   Serial No.         500 non-null    int64  \n",
            " 1   GRE Score          500 non-null    int64  \n",
            " 2   TOEFL Score        500 non-null    int64  \n",
            " 3   University Rating  500 non-null    int64  \n",
            " 4   SOP                500 non-null    float64\n",
            " 5   LOR                500 non-null    float64\n",
            " 6   CGPA               500 non-null    float64\n",
            " 7   Research           500 non-null    int64  \n",
            " 8   Chance of Admit    500 non-null    float64\n",
            "dtypes: float64(4), int64(5)\n",
            "memory usage: 35.3 KB\n"
          ]
        }
      ]
    },
    {
      "cell_type": "code",
      "source": [
        "df.describe()"
      ],
      "metadata": {
        "colab": {
          "base_uri": "https://localhost:8080/",
          "height": 300
        },
        "id": "3kQ36P8Z7DGL",
        "outputId": "0c4b8452-8957-4590-ce6a-f44bbeecd778"
      },
      "execution_count": 18,
      "outputs": [
        {
          "output_type": "execute_result",
          "data": {
            "text/plain": [
              "       Serial No.   GRE Score  TOEFL Score  University Rating         SOP  \\\n",
              "count  500.000000  500.000000   500.000000         500.000000  500.000000   \n",
              "mean   250.500000  316.472000   107.192000           3.114000    3.374000   \n",
              "std    144.481833   11.295148     6.081868           1.143512    0.991004   \n",
              "min      1.000000  290.000000    92.000000           1.000000    1.000000   \n",
              "25%    125.750000  308.000000   103.000000           2.000000    2.500000   \n",
              "50%    250.500000  317.000000   107.000000           3.000000    3.500000   \n",
              "75%    375.250000  325.000000   112.000000           4.000000    4.000000   \n",
              "max    500.000000  340.000000   120.000000           5.000000    5.000000   \n",
              "\n",
              "            LOR         CGPA    Research  Chance of Admit   \n",
              "count  500.00000  500.000000  500.000000         500.00000  \n",
              "mean     3.48400    8.576440    0.560000           0.72174  \n",
              "std      0.92545    0.604813    0.496884           0.14114  \n",
              "min      1.00000    6.800000    0.000000           0.34000  \n",
              "25%      3.00000    8.127500    0.000000           0.63000  \n",
              "50%      3.50000    8.560000    1.000000           0.72000  \n",
              "75%      4.00000    9.040000    1.000000           0.82000  \n",
              "max      5.00000    9.920000    1.000000           0.97000  "
            ],
            "text/html": [
              "\n",
              "  <div id=\"df-df225fca-f544-40d6-8af6-88910dbc2b00\" class=\"colab-df-container\">\n",
              "    <div>\n",
              "<style scoped>\n",
              "    .dataframe tbody tr th:only-of-type {\n",
              "        vertical-align: middle;\n",
              "    }\n",
              "\n",
              "    .dataframe tbody tr th {\n",
              "        vertical-align: top;\n",
              "    }\n",
              "\n",
              "    .dataframe thead th {\n",
              "        text-align: right;\n",
              "    }\n",
              "</style>\n",
              "<table border=\"1\" class=\"dataframe\">\n",
              "  <thead>\n",
              "    <tr style=\"text-align: right;\">\n",
              "      <th></th>\n",
              "      <th>Serial No.</th>\n",
              "      <th>GRE Score</th>\n",
              "      <th>TOEFL Score</th>\n",
              "      <th>University Rating</th>\n",
              "      <th>SOP</th>\n",
              "      <th>LOR</th>\n",
              "      <th>CGPA</th>\n",
              "      <th>Research</th>\n",
              "      <th>Chance of Admit</th>\n",
              "    </tr>\n",
              "  </thead>\n",
              "  <tbody>\n",
              "    <tr>\n",
              "      <th>count</th>\n",
              "      <td>500.000000</td>\n",
              "      <td>500.000000</td>\n",
              "      <td>500.000000</td>\n",
              "      <td>500.000000</td>\n",
              "      <td>500.000000</td>\n",
              "      <td>500.00000</td>\n",
              "      <td>500.000000</td>\n",
              "      <td>500.000000</td>\n",
              "      <td>500.00000</td>\n",
              "    </tr>\n",
              "    <tr>\n",
              "      <th>mean</th>\n",
              "      <td>250.500000</td>\n",
              "      <td>316.472000</td>\n",
              "      <td>107.192000</td>\n",
              "      <td>3.114000</td>\n",
              "      <td>3.374000</td>\n",
              "      <td>3.48400</td>\n",
              "      <td>8.576440</td>\n",
              "      <td>0.560000</td>\n",
              "      <td>0.72174</td>\n",
              "    </tr>\n",
              "    <tr>\n",
              "      <th>std</th>\n",
              "      <td>144.481833</td>\n",
              "      <td>11.295148</td>\n",
              "      <td>6.081868</td>\n",
              "      <td>1.143512</td>\n",
              "      <td>0.991004</td>\n",
              "      <td>0.92545</td>\n",
              "      <td>0.604813</td>\n",
              "      <td>0.496884</td>\n",
              "      <td>0.14114</td>\n",
              "    </tr>\n",
              "    <tr>\n",
              "      <th>min</th>\n",
              "      <td>1.000000</td>\n",
              "      <td>290.000000</td>\n",
              "      <td>92.000000</td>\n",
              "      <td>1.000000</td>\n",
              "      <td>1.000000</td>\n",
              "      <td>1.00000</td>\n",
              "      <td>6.800000</td>\n",
              "      <td>0.000000</td>\n",
              "      <td>0.34000</td>\n",
              "    </tr>\n",
              "    <tr>\n",
              "      <th>25%</th>\n",
              "      <td>125.750000</td>\n",
              "      <td>308.000000</td>\n",
              "      <td>103.000000</td>\n",
              "      <td>2.000000</td>\n",
              "      <td>2.500000</td>\n",
              "      <td>3.00000</td>\n",
              "      <td>8.127500</td>\n",
              "      <td>0.000000</td>\n",
              "      <td>0.63000</td>\n",
              "    </tr>\n",
              "    <tr>\n",
              "      <th>50%</th>\n",
              "      <td>250.500000</td>\n",
              "      <td>317.000000</td>\n",
              "      <td>107.000000</td>\n",
              "      <td>3.000000</td>\n",
              "      <td>3.500000</td>\n",
              "      <td>3.50000</td>\n",
              "      <td>8.560000</td>\n",
              "      <td>1.000000</td>\n",
              "      <td>0.72000</td>\n",
              "    </tr>\n",
              "    <tr>\n",
              "      <th>75%</th>\n",
              "      <td>375.250000</td>\n",
              "      <td>325.000000</td>\n",
              "      <td>112.000000</td>\n",
              "      <td>4.000000</td>\n",
              "      <td>4.000000</td>\n",
              "      <td>4.00000</td>\n",
              "      <td>9.040000</td>\n",
              "      <td>1.000000</td>\n",
              "      <td>0.82000</td>\n",
              "    </tr>\n",
              "    <tr>\n",
              "      <th>max</th>\n",
              "      <td>500.000000</td>\n",
              "      <td>340.000000</td>\n",
              "      <td>120.000000</td>\n",
              "      <td>5.000000</td>\n",
              "      <td>5.000000</td>\n",
              "      <td>5.00000</td>\n",
              "      <td>9.920000</td>\n",
              "      <td>1.000000</td>\n",
              "      <td>0.97000</td>\n",
              "    </tr>\n",
              "  </tbody>\n",
              "</table>\n",
              "</div>\n",
              "    <div class=\"colab-df-buttons\">\n",
              "\n",
              "  <div class=\"colab-df-container\">\n",
              "    <button class=\"colab-df-convert\" onclick=\"convertToInteractive('df-df225fca-f544-40d6-8af6-88910dbc2b00')\"\n",
              "            title=\"Convert this dataframe to an interactive table.\"\n",
              "            style=\"display:none;\">\n",
              "\n",
              "  <svg xmlns=\"http://www.w3.org/2000/svg\" height=\"24px\" viewBox=\"0 -960 960 960\">\n",
              "    <path d=\"M120-120v-720h720v720H120Zm60-500h600v-160H180v160Zm220 220h160v-160H400v160Zm0 220h160v-160H400v160ZM180-400h160v-160H180v160Zm440 0h160v-160H620v160ZM180-180h160v-160H180v160Zm440 0h160v-160H620v160Z\"/>\n",
              "  </svg>\n",
              "    </button>\n",
              "\n",
              "  <style>\n",
              "    .colab-df-container {\n",
              "      display:flex;\n",
              "      gap: 12px;\n",
              "    }\n",
              "\n",
              "    .colab-df-convert {\n",
              "      background-color: #E8F0FE;\n",
              "      border: none;\n",
              "      border-radius: 50%;\n",
              "      cursor: pointer;\n",
              "      display: none;\n",
              "      fill: #1967D2;\n",
              "      height: 32px;\n",
              "      padding: 0 0 0 0;\n",
              "      width: 32px;\n",
              "    }\n",
              "\n",
              "    .colab-df-convert:hover {\n",
              "      background-color: #E2EBFA;\n",
              "      box-shadow: 0px 1px 2px rgba(60, 64, 67, 0.3), 0px 1px 3px 1px rgba(60, 64, 67, 0.15);\n",
              "      fill: #174EA6;\n",
              "    }\n",
              "\n",
              "    .colab-df-buttons div {\n",
              "      margin-bottom: 4px;\n",
              "    }\n",
              "\n",
              "    [theme=dark] .colab-df-convert {\n",
              "      background-color: #3B4455;\n",
              "      fill: #D2E3FC;\n",
              "    }\n",
              "\n",
              "    [theme=dark] .colab-df-convert:hover {\n",
              "      background-color: #434B5C;\n",
              "      box-shadow: 0px 1px 3px 1px rgba(0, 0, 0, 0.15);\n",
              "      filter: drop-shadow(0px 1px 2px rgba(0, 0, 0, 0.3));\n",
              "      fill: #FFFFFF;\n",
              "    }\n",
              "  </style>\n",
              "\n",
              "    <script>\n",
              "      const buttonEl =\n",
              "        document.querySelector('#df-df225fca-f544-40d6-8af6-88910dbc2b00 button.colab-df-convert');\n",
              "      buttonEl.style.display =\n",
              "        google.colab.kernel.accessAllowed ? 'block' : 'none';\n",
              "\n",
              "      async function convertToInteractive(key) {\n",
              "        const element = document.querySelector('#df-df225fca-f544-40d6-8af6-88910dbc2b00');\n",
              "        const dataTable =\n",
              "          await google.colab.kernel.invokeFunction('convertToInteractive',\n",
              "                                                    [key], {});\n",
              "        if (!dataTable) return;\n",
              "\n",
              "        const docLinkHtml = 'Like what you see? Visit the ' +\n",
              "          '<a target=\"_blank\" href=https://colab.research.google.com/notebooks/data_table.ipynb>data table notebook</a>'\n",
              "          + ' to learn more about interactive tables.';\n",
              "        element.innerHTML = '';\n",
              "        dataTable['output_type'] = 'display_data';\n",
              "        await google.colab.output.renderOutput(dataTable, element);\n",
              "        const docLink = document.createElement('div');\n",
              "        docLink.innerHTML = docLinkHtml;\n",
              "        element.appendChild(docLink);\n",
              "      }\n",
              "    </script>\n",
              "  </div>\n",
              "\n",
              "\n",
              "<div id=\"df-dd95dd1e-19a0-429c-9b7a-b2468dc3c30e\">\n",
              "  <button class=\"colab-df-quickchart\" onclick=\"quickchart('df-dd95dd1e-19a0-429c-9b7a-b2468dc3c30e')\"\n",
              "            title=\"Suggest charts\"\n",
              "            style=\"display:none;\">\n",
              "\n",
              "<svg xmlns=\"http://www.w3.org/2000/svg\" height=\"24px\"viewBox=\"0 0 24 24\"\n",
              "     width=\"24px\">\n",
              "    <g>\n",
              "        <path d=\"M19 3H5c-1.1 0-2 .9-2 2v14c0 1.1.9 2 2 2h14c1.1 0 2-.9 2-2V5c0-1.1-.9-2-2-2zM9 17H7v-7h2v7zm4 0h-2V7h2v10zm4 0h-2v-4h2v4z\"/>\n",
              "    </g>\n",
              "</svg>\n",
              "  </button>\n",
              "\n",
              "<style>\n",
              "  .colab-df-quickchart {\n",
              "      --bg-color: #E8F0FE;\n",
              "      --fill-color: #1967D2;\n",
              "      --hover-bg-color: #E2EBFA;\n",
              "      --hover-fill-color: #174EA6;\n",
              "      --disabled-fill-color: #AAA;\n",
              "      --disabled-bg-color: #DDD;\n",
              "  }\n",
              "\n",
              "  [theme=dark] .colab-df-quickchart {\n",
              "      --bg-color: #3B4455;\n",
              "      --fill-color: #D2E3FC;\n",
              "      --hover-bg-color: #434B5C;\n",
              "      --hover-fill-color: #FFFFFF;\n",
              "      --disabled-bg-color: #3B4455;\n",
              "      --disabled-fill-color: #666;\n",
              "  }\n",
              "\n",
              "  .colab-df-quickchart {\n",
              "    background-color: var(--bg-color);\n",
              "    border: none;\n",
              "    border-radius: 50%;\n",
              "    cursor: pointer;\n",
              "    display: none;\n",
              "    fill: var(--fill-color);\n",
              "    height: 32px;\n",
              "    padding: 0;\n",
              "    width: 32px;\n",
              "  }\n",
              "\n",
              "  .colab-df-quickchart:hover {\n",
              "    background-color: var(--hover-bg-color);\n",
              "    box-shadow: 0 1px 2px rgba(60, 64, 67, 0.3), 0 1px 3px 1px rgba(60, 64, 67, 0.15);\n",
              "    fill: var(--button-hover-fill-color);\n",
              "  }\n",
              "\n",
              "  .colab-df-quickchart-complete:disabled,\n",
              "  .colab-df-quickchart-complete:disabled:hover {\n",
              "    background-color: var(--disabled-bg-color);\n",
              "    fill: var(--disabled-fill-color);\n",
              "    box-shadow: none;\n",
              "  }\n",
              "\n",
              "  .colab-df-spinner {\n",
              "    border: 2px solid var(--fill-color);\n",
              "    border-color: transparent;\n",
              "    border-bottom-color: var(--fill-color);\n",
              "    animation:\n",
              "      spin 1s steps(1) infinite;\n",
              "  }\n",
              "\n",
              "  @keyframes spin {\n",
              "    0% {\n",
              "      border-color: transparent;\n",
              "      border-bottom-color: var(--fill-color);\n",
              "      border-left-color: var(--fill-color);\n",
              "    }\n",
              "    20% {\n",
              "      border-color: transparent;\n",
              "      border-left-color: var(--fill-color);\n",
              "      border-top-color: var(--fill-color);\n",
              "    }\n",
              "    30% {\n",
              "      border-color: transparent;\n",
              "      border-left-color: var(--fill-color);\n",
              "      border-top-color: var(--fill-color);\n",
              "      border-right-color: var(--fill-color);\n",
              "    }\n",
              "    40% {\n",
              "      border-color: transparent;\n",
              "      border-right-color: var(--fill-color);\n",
              "      border-top-color: var(--fill-color);\n",
              "    }\n",
              "    60% {\n",
              "      border-color: transparent;\n",
              "      border-right-color: var(--fill-color);\n",
              "    }\n",
              "    80% {\n",
              "      border-color: transparent;\n",
              "      border-right-color: var(--fill-color);\n",
              "      border-bottom-color: var(--fill-color);\n",
              "    }\n",
              "    90% {\n",
              "      border-color: transparent;\n",
              "      border-bottom-color: var(--fill-color);\n",
              "    }\n",
              "  }\n",
              "</style>\n",
              "\n",
              "  <script>\n",
              "    async function quickchart(key) {\n",
              "      const quickchartButtonEl =\n",
              "        document.querySelector('#' + key + ' button');\n",
              "      quickchartButtonEl.disabled = true;  // To prevent multiple clicks.\n",
              "      quickchartButtonEl.classList.add('colab-df-spinner');\n",
              "      try {\n",
              "        const charts = await google.colab.kernel.invokeFunction(\n",
              "            'suggestCharts', [key], {});\n",
              "      } catch (error) {\n",
              "        console.error('Error during call to suggestCharts:', error);\n",
              "      }\n",
              "      quickchartButtonEl.classList.remove('colab-df-spinner');\n",
              "      quickchartButtonEl.classList.add('colab-df-quickchart-complete');\n",
              "    }\n",
              "    (() => {\n",
              "      let quickchartButtonEl =\n",
              "        document.querySelector('#df-dd95dd1e-19a0-429c-9b7a-b2468dc3c30e button');\n",
              "      quickchartButtonEl.style.display =\n",
              "        google.colab.kernel.accessAllowed ? 'block' : 'none';\n",
              "    })();\n",
              "  </script>\n",
              "</div>\n",
              "\n",
              "    </div>\n",
              "  </div>\n"
            ],
            "application/vnd.google.colaboratory.intrinsic+json": {
              "type": "dataframe",
              "summary": "{\n  \"name\": \"df\",\n  \"rows\": 8,\n  \"fields\": [\n    {\n      \"column\": \"Serial No.\",\n      \"properties\": {\n        \"dtype\": \"number\",\n        \"std\": 179.8977277873755,\n        \"min\": 1.0,\n        \"max\": 500.0,\n        \"num_unique_values\": 6,\n        \"samples\": [\n          500.0,\n          250.5,\n          375.25\n        ],\n        \"semantic_type\": \"\",\n        \"description\": \"\"\n      }\n    },\n    {\n      \"column\": \"GRE Score\",\n      \"properties\": {\n        \"dtype\": \"number\",\n        \"std\": 134.31959598717793,\n        \"min\": 11.2951483723547,\n        \"max\": 500.0,\n        \"num_unique_values\": 8,\n        \"samples\": [\n          316.472,\n          317.0,\n          500.0\n        ],\n        \"semantic_type\": \"\",\n        \"description\": \"\"\n      }\n    },\n    {\n      \"column\": \"TOEFL Score\",\n      \"properties\": {\n        \"dtype\": \"number\",\n        \"std\": 148.54698537663884,\n        \"min\": 6.081867659564528,\n        \"max\": 500.0,\n        \"num_unique_values\": 8,\n        \"samples\": [\n          107.192,\n          107.0,\n          500.0\n        ],\n        \"semantic_type\": \"\",\n        \"description\": \"\"\n      }\n    },\n    {\n      \"column\": \"University Rating\",\n      \"properties\": {\n        \"dtype\": \"number\",\n        \"std\": 175.8093363236959,\n        \"min\": 1.0,\n        \"max\": 500.0,\n        \"num_unique_values\": 8,\n        \"samples\": [\n          3.114,\n          3.0,\n          500.0\n        ],\n        \"semantic_type\": \"\",\n        \"description\": \"\"\n      }\n    },\n    {\n      \"column\": \"SOP\",\n      \"properties\": {\n        \"dtype\": \"number\",\n        \"std\": 175.75364204315028,\n        \"min\": 0.9910036207566072,\n        \"max\": 500.0,\n        \"num_unique_values\": 8,\n        \"samples\": [\n          3.374,\n          3.5,\n          500.0\n        ],\n        \"semantic_type\": \"\",\n        \"description\": \"\"\n      }\n    },\n    {\n      \"column\": \"LOR \",\n      \"properties\": {\n        \"dtype\": \"number\",\n        \"std\": 175.72621272918164,\n        \"min\": 0.9254495738978193,\n        \"max\": 500.0,\n        \"num_unique_values\": 8,\n        \"samples\": [\n          3.484,\n          3.5,\n          500.0\n        ],\n        \"semantic_type\": \"\",\n        \"description\": \"\"\n      }\n    },\n    {\n      \"column\": \"CGPA\",\n      \"properties\": {\n        \"dtype\": \"number\",\n        \"std\": 174.19317432229437,\n        \"min\": 0.6048128003332054,\n        \"max\": 500.0,\n        \"num_unique_values\": 8,\n        \"samples\": [\n          8.576439999999998,\n          8.56,\n          500.0\n        ],\n        \"semantic_type\": \"\",\n        \"description\": \"\"\n      }\n    },\n    {\n      \"column\": \"Research\",\n      \"properties\": {\n        \"dtype\": \"number\",\n        \"std\": 176.57228090801308,\n        \"min\": 0.0,\n        \"max\": 500.0,\n        \"num_unique_values\": 5,\n        \"samples\": [\n          0.56,\n          1.0,\n          0.49688407860903566\n        ],\n        \"semantic_type\": \"\",\n        \"description\": \"\"\n      }\n    },\n    {\n      \"column\": \"Chance of Admit \",\n      \"properties\": {\n        \"dtype\": \"number\",\n        \"std\": 176.5575452133998,\n        \"min\": 0.14114040395030228,\n        \"max\": 500.0,\n        \"num_unique_values\": 8,\n        \"samples\": [\n          0.72174,\n          0.72,\n          500.0\n        ],\n        \"semantic_type\": \"\",\n        \"description\": \"\"\n      }\n    }\n  ]\n}"
            }
          },
          "metadata": {},
          "execution_count": 18
        }
      ]
    },
    {
      "cell_type": "code",
      "source": [
        "# view_hist_feat = [0,1,2,-2,-1]\n",
        "fig = aka_plot_.Plot_histogram_Features(df,view_hist_feat )\n",
        "if fig is not None:\n",
        "    fig.show()"
      ],
      "metadata": {
        "colab": {
          "base_uri": "https://localhost:8080/",
          "height": 817
        },
        "id": "ZBrUYRWXSQIx",
        "outputId": "d2768509-3ace-4d10-f686-e1aea1a93edb"
      },
      "execution_count": 48,
      "outputs": [
        {
          "output_type": "display_data",
          "data": {
            "text/html": [
              "<html>\n",
              "<head><meta charset=\"utf-8\" /></head>\n",
              "<body>\n",
              "    <div>            <script src=\"https://cdnjs.cloudflare.com/ajax/libs/mathjax/2.7.5/MathJax.js?config=TeX-AMS-MML_SVG\"></script><script type=\"text/javascript\">if (window.MathJax && window.MathJax.Hub && window.MathJax.Hub.Config) {window.MathJax.Hub.Config({SVG: {font: \"STIX-Web\"}});}</script>                <script type=\"text/javascript\">window.PlotlyConfig = {MathJaxConfig: 'local'};</script>\n",
              "        <script charset=\"utf-8\" src=\"https://cdn.plot.ly/plotly-2.24.1.min.js\"></script>                <div id=\"60addd08-c849-46e0-a21c-6fef46909410\" class=\"plotly-graph-div\" style=\"height:780px; width:1470px;\"></div>            <script type=\"text/javascript\">                                    window.PLOTLYENV=window.PLOTLYENV || {};                                    if (document.getElementById(\"60addd08-c849-46e0-a21c-6fef46909410\")) {                    Plotly.newPlot(                        \"60addd08-c849-46e0-a21c-6fef46909410\",                        [{\"showlegend\":false,\"x\":[4.5,4.5,3.5,2.5,3.0,3.0,4.0,4.0,1.5,3.0,4.0,4.5,4.5,3.0,2.0,2.5,3.0,3.0,3.0,3.0,2.0,2.0,5.0,4.5,3.5,4.5,3.5,2.5,2.0,2.0,3.0,4.0,4.5,4.0,5.0,5.0,4.0,2.0,1.5,3.5,3.0,2.5,2.0,4.0,4.0,4.0,5.0,4.0,5.0,4.0,4.5,3.5,3.0,2.5,3.5,3.0,3.0,2.0,2.0,2.0,3.0,3.0,3.0,3.0,3.5,3.5,3.0,3.5,4.0,4.0,5.0,5.0,5.0,4.0,5.0,4.0,3.0,2.0,2.0,2.0,3.0,5.0,4.5,4.5,4.5,3.5,3.5,3.0,3.5,3.5,4.0,3.5,3.0,3.0,2.5,2.5,3.0,4.0,4.5,4.0,3.5,3.0,3.5,4.0,3.0,4.5,4.5,4.5,5.0,4.0,3.0,4.0,3.5,3.5,3.0,4.5,3.5,2.5,3.5,3.5,5.0,4.5,2.5,3.5,3.0,3.0,3.0,2.0,3.0,5.0,4.5,4.5,3.5,4.5,4.0,4.0,4.0,3.0,3.0,3.5,3.0,3.5,3.5,4.0,3.5,2.5,2.5,3.0,3.5,3.0,4.0,5.0,5.0,4.0,3.5,3.0,2.5,2.5,2.5,2.0,2.0,3.0,3.0,3.0,4.0,4.0,5.0,3.0,4.0,3.0,3.5,4.5,5.0,4.5,4.0,3.5,4.5,3.5,3.0,3.0,3.0,2.5,3.5,4.0,4.0,4.5,3.0,3.5,3.5,5.0,4.0,5.0,4.0,5.0,3.0,3.5,2.5,2.5,4.5,4.5,3.0,3.0,4.5,5.0,4.0,3.0,3.0,4.0,3.0,4.0,4.0,4.0,5.0,4.5,5.0,4.5,4.5,4.0,3.5,3.5,4.0,4.0,4.0,4.0,2.0,2.5,4.0,3.0,3.5,3.0,4.5,2.5,3.5,3.5,4.0,4.0,4.5,5.0,3.5,2.0,3.0,2.0,3.0,3.0,4.0,2.5,3.5,3.5,4.0,4.0,2.5,3.0,3.5,4.5,5.0,4.5,4.0,5.0,5.0,4.5,3.5,4.0,4.0,1.5,2.5,2.5,2.5,3.5,5.0,5.0,3.0,2.0,1.5,1.5,2.5,3.0,4.5,3.0,3.5,4.0,4.0,4.5,3.5,3.0,4.5,4.0,4.0,4.5,5.0,3.5,3.0,2.0,2.0,3.0,2.0,2.5,3.5,4.5,4.5,3.5,2.5,3.0,3.0,3.5,2.0,3.5,3.5,4.0,3.0,3.0,3.5,4.0,4.5,3.0,4.0,3.0,2.0,2.5,2.0,3.0,3.5,4.0,4.0,2.5,2.5,4.0,2.0,2.0,3.5,1.5,3.0,2.0,2.5,3.5,4.0,4.5,2.5,5.0,4.0,4.0,3.0,3.5,3.0,3.5,2.0,2.0,2.0,1.0,2.0,3.0,3.5,4.0,3.5,2.5,3.0,3.5,4.0,3.5,2.0,1.5,5.0,3.5,5.0,3.0,4.0,3.0,4.5,2.5,2.0,3.0,2.5,3.0,4.0,3.0,2.5,2.5,2.0,2.0,2.5,3.0,4.0,3.5,4.0,3.5,5.0,5.0,3.5,3.5,2.0,4.0,2.5,3.0,3.5,3.0,4.0,3.5,3.5,4.5,4.0,4.0,3.0,3.0,3.0,3.5,2.5,3.0,2.5,4.0,4.0,2.5,4.0,1.5,2.0,2.0,4.0,4.5,2.5,2.0,4.0,3.5,3.0,4.5,2.5,5.0,5.0,5.0,5.0,5.0,4.5,4.5,3.5,3.5,4.0,5.0,3.0,4.0,4.0,3.5,3.5,3.0,1.5,3.0,4.5,4.5,5.0,5.0,5.0,5.0,4.0,4.5,4.5,4.5,3.5,4.0,3.5,2.5,2.0,1.5,3.0,3.5,4.5,2.0,3.0,3.0,3.0,4.5,4.5,5.0,5.0,3.5,4.0,4.0,4.5,3.5,2.5,2.5,2.0,2.0,4.5,4.0,4.0,2.5,2.5,3.0,3.0,3.5,2.5,4.0,4.0,4.5,4.5,3.5,4.5,1.5,2.0,4.0,5.0,5.0,5.0,4.5],\"type\":\"histogram\",\"xaxis\":\"x\",\"yaxis\":\"y\"},{\"showlegend\":false,\"x\":[1,1,1,1,0,1,1,0,0,0,1,1,1,1,1,0,0,1,0,0,1,0,1,1,1,1,0,1,0,0,1,1,1,1,1,1,0,0,0,0,1,1,1,0,1,1,1,0,1,1,1,1,1,1,0,0,0,0,1,0,0,0,1,1,0,0,0,1,1,1,1,1,1,1,0,1,1,0,1,0,1,1,1,1,1,0,0,0,0,1,1,0,0,1,0,0,0,1,1,1,1,0,0,0,1,1,1,1,1,0,0,1,1,0,1,1,0,0,0,1,1,1,0,0,0,1,1,1,1,1,1,0,0,0,1,1,0,1,1,0,1,1,1,1,1,1,0,1,1,1,1,1,1,0,0,0,0,0,0,0,0,0,0,0,1,0,0,0,1,0,1,1,1,1,1,1,1,0,0,0,0,0,0,0,0,1,1,1,1,1,1,1,1,1,0,1,0,0,0,0,1,1,1,1,0,0,0,1,0,1,1,1,1,1,1,1,1,1,1,0,0,0,0,0,0,0,0,0,0,1,0,1,0,0,1,1,1,1,0,0,0,0,1,1,0,1,0,0,1,1,1,0,1,1,0,0,0,1,1,1,1,0,1,1,1,0,0,1,0,0,1,0,0,1,0,1,1,0,0,0,1,1,1,1,1,1,1,1,0,0,0,0,0,1,1,0,0,0,1,0,0,0,1,1,0,1,1,1,0,0,1,1,1,0,0,0,0,0,1,1,1,1,0,0,0,1,0,0,1,0,1,1,1,1,1,1,0,1,1,1,1,1,0,0,0,0,0,0,0,0,1,1,1,0,0,0,1,1,0,0,1,1,1,0,1,1,1,0,0,1,0,1,1,1,0,0,0,0,0,1,1,1,1,0,1,1,0,0,0,1,0,0,1,0,1,1,1,1,0,1,0,0,1,1,1,0,1,1,1,0,0,0,1,1,1,1,0,0,0,1,0,1,1,1,1,1,0,1,0,1,1,1,1,0,0,0,1,1,1,0,0,1,1,1,1,1,1,1,0,0,1,1,1,1,0,0,0,0,1,1,1,1,0,0,0,0,1,1,1,1,1,0,1,0,1,0,0,0,1,1,1,1,1,0,1,1,0,0,1,0,1,0,1,1,1,1,1,1,0,0],\"type\":\"histogram\",\"xaxis\":\"x2\",\"yaxis\":\"y2\"},{\"showlegend\":false,\"x\":[1,2,3,4,5,6,7,8,9,10,11,12,13,14,15,16,17,18,19,20,21,22,23,24,25,26,27,28,29,30,31,32,33,34,35,36,37,38,39,40,41,42,43,44,45,46,47,48,49,50,51,52,53,54,55,56,57,58,59,60,61,62,63,64,65,66,67,68,69,70,71,72,73,74,75,76,77,78,79,80,81,82,83,84,85,86,87,88,89,90,91,92,93,94,95,96,97,98,99,100,101,102,103,104,105,106,107,108,109,110,111,112,113,114,115,116,117,118,119,120,121,122,123,124,125,126,127,128,129,130,131,132,133,134,135,136,137,138,139,140,141,142,143,144,145,146,147,148,149,150,151,152,153,154,155,156,157,158,159,160,161,162,163,164,165,166,167,168,169,170,171,172,173,174,175,176,177,178,179,180,181,182,183,184,185,186,187,188,189,190,191,192,193,194,195,196,197,198,199,200,201,202,203,204,205,206,207,208,209,210,211,212,213,214,215,216,217,218,219,220,221,222,223,224,225,226,227,228,229,230,231,232,233,234,235,236,237,238,239,240,241,242,243,244,245,246,247,248,249,250,251,252,253,254,255,256,257,258,259,260,261,262,263,264,265,266,267,268,269,270,271,272,273,274,275,276,277,278,279,280,281,282,283,284,285,286,287,288,289,290,291,292,293,294,295,296,297,298,299,300,301,302,303,304,305,306,307,308,309,310,311,312,313,314,315,316,317,318,319,320,321,322,323,324,325,326,327,328,329,330,331,332,333,334,335,336,337,338,339,340,341,342,343,344,345,346,347,348,349,350,351,352,353,354,355,356,357,358,359,360,361,362,363,364,365,366,367,368,369,370,371,372,373,374,375,376,377,378,379,380,381,382,383,384,385,386,387,388,389,390,391,392,393,394,395,396,397,398,399,400,401,402,403,404,405,406,407,408,409,410,411,412,413,414,415,416,417,418,419,420,421,422,423,424,425,426,427,428,429,430,431,432,433,434,435,436,437,438,439,440,441,442,443,444,445,446,447,448,449,450,451,452,453,454,455,456,457,458,459,460,461,462,463,464,465,466,467,468,469,470,471,472,473,474,475,476,477,478,479,480,481,482,483,484,485,486,487,488,489,490,491,492,493,494,495,496,497,498,499,500],\"type\":\"histogram\",\"xaxis\":\"x3\",\"yaxis\":\"y3\"},{\"showlegend\":false,\"x\":[337,324,316,322,314,330,321,308,302,323,325,327,328,307,311,314,317,319,318,303,312,325,328,334,336,340,322,298,295,310,300,327,338,340,331,320,299,300,304,307,308,316,313,332,326,322,329,339,321,327,313,312,334,324,322,320,316,298,300,311,309,307,304,315,325,325,327,316,318,328,332,336,321,314,314,329,327,301,296,294,312,340,320,322,340,319,315,317,314,316,318,299,298,301,303,304,306,331,332,323,322,312,314,317,326,316,329,338,331,304,305,321,301,320,311,310,299,290,296,327,335,334,310,308,301,300,323,319,326,333,339,303,309,323,333,314,312,316,326,318,329,332,331,340,325,320,315,326,339,311,334,332,321,324,326,312,315,309,306,297,315,298,318,317,329,322,302,313,293,311,312,334,322,323,321,320,329,319,309,307,300,305,299,314,316,327,317,335,331,324,324,323,322,336,316,307,306,310,311,313,317,315,340,334,298,295,315,310,305,301,325,328,338,333,331,330,322,321,324,312,313,316,324,308,305,296,306,312,318,324,313,319,312,304,330,326,325,329,310,299,296,317,324,325,314,328,316,311,324,321,320,316,318,335,321,307,309,324,326,331,327,312,308,324,325,313,312,314,327,308,306,299,294,312,315,322,329,320,308,304,311,317,312,321,340,331,336,324,314,313,307,300,302,312,316,317,310,320,330,305,309,319,322,323,313,321,323,325,312,308,320,328,311,301,305,308,298,300,324,327,317,323,314,305,315,326,299,295,324,297,327,311,308,319,312,325,319,332,323,324,312,326,308,305,295,316,304,299,302,313,318,325,303,300,297,317,327,301,314,321,322,334,338,306,313,330,320,311,298,301,310,324,336,321,315,304,297,290,303,311,322,319,324,300,340,335,302,307,296,320,314,318,326,317,329,324,325,330,312,333,304,315,324,330,311,302,322,298,297,300,301,313,314,317,321,327,315,316,309,308,299,321,322,334,325,323,312,310,316,340,311,320,324,316,306,309,310,317,318,312,305,332,331,321,324,328,327,320,312,315,320,324,328,319,310,305,299,295,312,329,319,301,307,304,298,305,314,318,323,326,320,311,327,316,308,300,304,309,318,325,321,323,328,304,317,311,319,327,322,302,307,297,298,300,301,332,337,330,312,327],\"type\":\"histogram\",\"xaxis\":\"x4\",\"yaxis\":\"y4\"},{\"showlegend\":false,\"x\":[0.92,0.76,0.72,0.8,0.65,0.9,0.75,0.68,0.5,0.45,0.52,0.84,0.78,0.62,0.61,0.54,0.66,0.65,0.63,0.62,0.64,0.7,0.94,0.95,0.97,0.94,0.76,0.44,0.46,0.54,0.65,0.74,0.91,0.9,0.94,0.88,0.64,0.58,0.52,0.48,0.46,0.49,0.53,0.87,0.91,0.88,0.86,0.89,0.82,0.78,0.76,0.56,0.78,0.72,0.7,0.64,0.64,0.46,0.36,0.42,0.48,0.47,0.54,0.56,0.52,0.55,0.61,0.57,0.68,0.78,0.94,0.96,0.93,0.84,0.74,0.72,0.74,0.64,0.44,0.46,0.5,0.96,0.92,0.92,0.94,0.76,0.72,0.66,0.64,0.74,0.64,0.38,0.34,0.44,0.36,0.42,0.48,0.86,0.9,0.79,0.71,0.64,0.62,0.57,0.74,0.69,0.87,0.91,0.93,0.68,0.61,0.69,0.62,0.72,0.59,0.66,0.56,0.45,0.47,0.71,0.94,0.94,0.57,0.61,0.57,0.64,0.85,0.78,0.84,0.92,0.96,0.77,0.71,0.79,0.89,0.82,0.76,0.71,0.8,0.78,0.84,0.9,0.92,0.97,0.8,0.81,0.75,0.83,0.96,0.79,0.93,0.94,0.86,0.79,0.8,0.77,0.7,0.65,0.61,0.52,0.57,0.53,0.67,0.68,0.81,0.78,0.65,0.64,0.64,0.65,0.68,0.89,0.86,0.89,0.87,0.85,0.9,0.82,0.72,0.73,0.71,0.71,0.68,0.75,0.72,0.89,0.84,0.93,0.93,0.88,0.9,0.87,0.86,0.94,0.77,0.78,0.73,0.73,0.7,0.72,0.73,0.72,0.97,0.97,0.69,0.57,0.63,0.66,0.64,0.68,0.79,0.82,0.95,0.96,0.94,0.93,0.91,0.85,0.84,0.74,0.76,0.75,0.76,0.71,0.67,0.61,0.63,0.64,0.71,0.82,0.73,0.74,0.69,0.64,0.91,0.88,0.85,0.86,0.7,0.59,0.6,0.65,0.7,0.76,0.63,0.81,0.72,0.71,0.8,0.77,0.74,0.7,0.71,0.93,0.85,0.79,0.76,0.78,0.77,0.9,0.87,0.71,0.7,0.7,0.75,0.71,0.72,0.73,0.83,0.77,0.72,0.54,0.49,0.52,0.58,0.78,0.89,0.7,0.66,0.67,0.68,0.8,0.81,0.8,0.94,0.93,0.92,0.89,0.82,0.79,0.58,0.56,0.56,0.64,0.61,0.68,0.76,0.86,0.9,0.71,0.62,0.66,0.65,0.73,0.62,0.74,0.79,0.8,0.69,0.7,0.76,0.84,0.78,0.67,0.66,0.65,0.54,0.58,0.79,0.8,0.75,0.73,0.72,0.62,0.67,0.81,0.63,0.69,0.8,0.43,0.8,0.73,0.75,0.71,0.73,0.83,0.72,0.94,0.81,0.81,0.75,0.79,0.58,0.59,0.47,0.49,0.47,0.42,0.57,0.62,0.74,0.73,0.64,0.63,0.59,0.73,0.79,0.68,0.7,0.81,0.85,0.93,0.91,0.69,0.77,0.86,0.74,0.57,0.51,0.67,0.72,0.89,0.95,0.79,0.39,0.38,0.34,0.47,0.56,0.71,0.78,0.73,0.82,0.62,0.96,0.96,0.46,0.53,0.49,0.76,0.64,0.71,0.84,0.77,0.89,0.82,0.84,0.91,0.67,0.95,0.63,0.66,0.78,0.91,0.62,0.52,0.61,0.58,0.57,0.61,0.54,0.56,0.59,0.49,0.72,0.76,0.65,0.52,0.6,0.58,0.42,0.77,0.73,0.94,0.91,0.92,0.71,0.71,0.69,0.95,0.74,0.73,0.86,0.71,0.64,0.55,0.58,0.61,0.67,0.66,0.53,0.79,0.92,0.87,0.92,0.91,0.93,0.84,0.8,0.79,0.82,0.89,0.93,0.73,0.71,0.59,0.51,0.37,0.69,0.89,0.77,0.68,0.62,0.57,0.45,0.54,0.71,0.78,0.81,0.86,0.87,0.64,0.9,0.67,0.67,0.59,0.62,0.65,0.71,0.79,0.8,0.78,0.83,0.71,0.73,0.7,0.68,0.79,0.76,0.65,0.67,0.54,0.53,0.62,0.68,0.87,0.96,0.93,0.73,0.84],\"type\":\"histogram\",\"xaxis\":\"x5\",\"yaxis\":\"y5\"}],                        {\"template\":{\"data\":{\"barpolar\":[{\"marker\":{\"line\":{\"color\":\"rgb(17,17,17)\",\"width\":0.5},\"pattern\":{\"fillmode\":\"overlay\",\"size\":10,\"solidity\":0.2}},\"type\":\"barpolar\"}],\"bar\":[{\"error_x\":{\"color\":\"#f2f5fa\"},\"error_y\":{\"color\":\"#f2f5fa\"},\"marker\":{\"line\":{\"color\":\"rgb(17,17,17)\",\"width\":0.5},\"pattern\":{\"fillmode\":\"overlay\",\"size\":10,\"solidity\":0.2}},\"type\":\"bar\"}],\"carpet\":[{\"aaxis\":{\"endlinecolor\":\"#A2B1C6\",\"gridcolor\":\"#506784\",\"linecolor\":\"#506784\",\"minorgridcolor\":\"#506784\",\"startlinecolor\":\"#A2B1C6\"},\"baxis\":{\"endlinecolor\":\"#A2B1C6\",\"gridcolor\":\"#506784\",\"linecolor\":\"#506784\",\"minorgridcolor\":\"#506784\",\"startlinecolor\":\"#A2B1C6\"},\"type\":\"carpet\"}],\"choropleth\":[{\"colorbar\":{\"outlinewidth\":0,\"ticks\":\"\"},\"type\":\"choropleth\"}],\"contourcarpet\":[{\"colorbar\":{\"outlinewidth\":0,\"ticks\":\"\"},\"type\":\"contourcarpet\"}],\"contour\":[{\"colorbar\":{\"outlinewidth\":0,\"ticks\":\"\"},\"colorscale\":[[0.0,\"#0d0887\"],[0.1111111111111111,\"#46039f\"],[0.2222222222222222,\"#7201a8\"],[0.3333333333333333,\"#9c179e\"],[0.4444444444444444,\"#bd3786\"],[0.5555555555555556,\"#d8576b\"],[0.6666666666666666,\"#ed7953\"],[0.7777777777777778,\"#fb9f3a\"],[0.8888888888888888,\"#fdca26\"],[1.0,\"#f0f921\"]],\"type\":\"contour\"}],\"heatmapgl\":[{\"colorbar\":{\"outlinewidth\":0,\"ticks\":\"\"},\"colorscale\":[[0.0,\"#0d0887\"],[0.1111111111111111,\"#46039f\"],[0.2222222222222222,\"#7201a8\"],[0.3333333333333333,\"#9c179e\"],[0.4444444444444444,\"#bd3786\"],[0.5555555555555556,\"#d8576b\"],[0.6666666666666666,\"#ed7953\"],[0.7777777777777778,\"#fb9f3a\"],[0.8888888888888888,\"#fdca26\"],[1.0,\"#f0f921\"]],\"type\":\"heatmapgl\"}],\"heatmap\":[{\"colorbar\":{\"outlinewidth\":0,\"ticks\":\"\"},\"colorscale\":[[0.0,\"#0d0887\"],[0.1111111111111111,\"#46039f\"],[0.2222222222222222,\"#7201a8\"],[0.3333333333333333,\"#9c179e\"],[0.4444444444444444,\"#bd3786\"],[0.5555555555555556,\"#d8576b\"],[0.6666666666666666,\"#ed7953\"],[0.7777777777777778,\"#fb9f3a\"],[0.8888888888888888,\"#fdca26\"],[1.0,\"#f0f921\"]],\"type\":\"heatmap\"}],\"histogram2dcontour\":[{\"colorbar\":{\"outlinewidth\":0,\"ticks\":\"\"},\"colorscale\":[[0.0,\"#0d0887\"],[0.1111111111111111,\"#46039f\"],[0.2222222222222222,\"#7201a8\"],[0.3333333333333333,\"#9c179e\"],[0.4444444444444444,\"#bd3786\"],[0.5555555555555556,\"#d8576b\"],[0.6666666666666666,\"#ed7953\"],[0.7777777777777778,\"#fb9f3a\"],[0.8888888888888888,\"#fdca26\"],[1.0,\"#f0f921\"]],\"type\":\"histogram2dcontour\"}],\"histogram2d\":[{\"colorbar\":{\"outlinewidth\":0,\"ticks\":\"\"},\"colorscale\":[[0.0,\"#0d0887\"],[0.1111111111111111,\"#46039f\"],[0.2222222222222222,\"#7201a8\"],[0.3333333333333333,\"#9c179e\"],[0.4444444444444444,\"#bd3786\"],[0.5555555555555556,\"#d8576b\"],[0.6666666666666666,\"#ed7953\"],[0.7777777777777778,\"#fb9f3a\"],[0.8888888888888888,\"#fdca26\"],[1.0,\"#f0f921\"]],\"type\":\"histogram2d\"}],\"histogram\":[{\"marker\":{\"pattern\":{\"fillmode\":\"overlay\",\"size\":10,\"solidity\":0.2}},\"type\":\"histogram\"}],\"mesh3d\":[{\"colorbar\":{\"outlinewidth\":0,\"ticks\":\"\"},\"type\":\"mesh3d\"}],\"parcoords\":[{\"line\":{\"colorbar\":{\"outlinewidth\":0,\"ticks\":\"\"}},\"type\":\"parcoords\"}],\"pie\":[{\"automargin\":true,\"type\":\"pie\"}],\"scatter3d\":[{\"line\":{\"colorbar\":{\"outlinewidth\":0,\"ticks\":\"\"}},\"marker\":{\"colorbar\":{\"outlinewidth\":0,\"ticks\":\"\"}},\"type\":\"scatter3d\"}],\"scattercarpet\":[{\"marker\":{\"colorbar\":{\"outlinewidth\":0,\"ticks\":\"\"}},\"type\":\"scattercarpet\"}],\"scattergeo\":[{\"marker\":{\"colorbar\":{\"outlinewidth\":0,\"ticks\":\"\"}},\"type\":\"scattergeo\"}],\"scattergl\":[{\"marker\":{\"line\":{\"color\":\"#283442\"}},\"type\":\"scattergl\"}],\"scattermapbox\":[{\"marker\":{\"colorbar\":{\"outlinewidth\":0,\"ticks\":\"\"}},\"type\":\"scattermapbox\"}],\"scatterpolargl\":[{\"marker\":{\"colorbar\":{\"outlinewidth\":0,\"ticks\":\"\"}},\"type\":\"scatterpolargl\"}],\"scatterpolar\":[{\"marker\":{\"colorbar\":{\"outlinewidth\":0,\"ticks\":\"\"}},\"type\":\"scatterpolar\"}],\"scatter\":[{\"marker\":{\"line\":{\"color\":\"#283442\"}},\"type\":\"scatter\"}],\"scatterternary\":[{\"marker\":{\"colorbar\":{\"outlinewidth\":0,\"ticks\":\"\"}},\"type\":\"scatterternary\"}],\"surface\":[{\"colorbar\":{\"outlinewidth\":0,\"ticks\":\"\"},\"colorscale\":[[0.0,\"#0d0887\"],[0.1111111111111111,\"#46039f\"],[0.2222222222222222,\"#7201a8\"],[0.3333333333333333,\"#9c179e\"],[0.4444444444444444,\"#bd3786\"],[0.5555555555555556,\"#d8576b\"],[0.6666666666666666,\"#ed7953\"],[0.7777777777777778,\"#fb9f3a\"],[0.8888888888888888,\"#fdca26\"],[1.0,\"#f0f921\"]],\"type\":\"surface\"}],\"table\":[{\"cells\":{\"fill\":{\"color\":\"#506784\"},\"line\":{\"color\":\"rgb(17,17,17)\"}},\"header\":{\"fill\":{\"color\":\"#2a3f5f\"},\"line\":{\"color\":\"rgb(17,17,17)\"}},\"type\":\"table\"}]},\"layout\":{\"annotationdefaults\":{\"arrowcolor\":\"#f2f5fa\",\"arrowhead\":0,\"arrowwidth\":1},\"autotypenumbers\":\"strict\",\"coloraxis\":{\"colorbar\":{\"outlinewidth\":0,\"ticks\":\"\"}},\"colorscale\":{\"diverging\":[[0,\"#8e0152\"],[0.1,\"#c51b7d\"],[0.2,\"#de77ae\"],[0.3,\"#f1b6da\"],[0.4,\"#fde0ef\"],[0.5,\"#f7f7f7\"],[0.6,\"#e6f5d0\"],[0.7,\"#b8e186\"],[0.8,\"#7fbc41\"],[0.9,\"#4d9221\"],[1,\"#276419\"]],\"sequential\":[[0.0,\"#0d0887\"],[0.1111111111111111,\"#46039f\"],[0.2222222222222222,\"#7201a8\"],[0.3333333333333333,\"#9c179e\"],[0.4444444444444444,\"#bd3786\"],[0.5555555555555556,\"#d8576b\"],[0.6666666666666666,\"#ed7953\"],[0.7777777777777778,\"#fb9f3a\"],[0.8888888888888888,\"#fdca26\"],[1.0,\"#f0f921\"]],\"sequentialminus\":[[0.0,\"#0d0887\"],[0.1111111111111111,\"#46039f\"],[0.2222222222222222,\"#7201a8\"],[0.3333333333333333,\"#9c179e\"],[0.4444444444444444,\"#bd3786\"],[0.5555555555555556,\"#d8576b\"],[0.6666666666666666,\"#ed7953\"],[0.7777777777777778,\"#fb9f3a\"],[0.8888888888888888,\"#fdca26\"],[1.0,\"#f0f921\"]]},\"colorway\":[\"#636efa\",\"#EF553B\",\"#00cc96\",\"#ab63fa\",\"#FFA15A\",\"#19d3f3\",\"#FF6692\",\"#B6E880\",\"#FF97FF\",\"#FECB52\"],\"font\":{\"color\":\"#f2f5fa\"},\"geo\":{\"bgcolor\":\"rgb(17,17,17)\",\"lakecolor\":\"rgb(17,17,17)\",\"landcolor\":\"rgb(17,17,17)\",\"showlakes\":true,\"showland\":true,\"subunitcolor\":\"#506784\"},\"hoverlabel\":{\"align\":\"left\"},\"hovermode\":\"closest\",\"mapbox\":{\"style\":\"dark\"},\"paper_bgcolor\":\"rgb(17,17,17)\",\"plot_bgcolor\":\"rgb(17,17,17)\",\"polar\":{\"angularaxis\":{\"gridcolor\":\"#506784\",\"linecolor\":\"#506784\",\"ticks\":\"\"},\"bgcolor\":\"rgb(17,17,17)\",\"radialaxis\":{\"gridcolor\":\"#506784\",\"linecolor\":\"#506784\",\"ticks\":\"\"}},\"scene\":{\"xaxis\":{\"backgroundcolor\":\"rgb(17,17,17)\",\"gridcolor\":\"#506784\",\"gridwidth\":2,\"linecolor\":\"#506784\",\"showbackground\":true,\"ticks\":\"\",\"zerolinecolor\":\"#C8D4E3\"},\"yaxis\":{\"backgroundcolor\":\"rgb(17,17,17)\",\"gridcolor\":\"#506784\",\"gridwidth\":2,\"linecolor\":\"#506784\",\"showbackground\":true,\"ticks\":\"\",\"zerolinecolor\":\"#C8D4E3\"},\"zaxis\":{\"backgroundcolor\":\"rgb(17,17,17)\",\"gridcolor\":\"#506784\",\"gridwidth\":2,\"linecolor\":\"#506784\",\"showbackground\":true,\"ticks\":\"\",\"zerolinecolor\":\"#C8D4E3\"}},\"shapedefaults\":{\"line\":{\"color\":\"#f2f5fa\"}},\"sliderdefaults\":{\"bgcolor\":\"#C8D4E3\",\"bordercolor\":\"rgb(17,17,17)\",\"borderwidth\":1,\"tickwidth\":0},\"ternary\":{\"aaxis\":{\"gridcolor\":\"#506784\",\"linecolor\":\"#506784\",\"ticks\":\"\"},\"baxis\":{\"gridcolor\":\"#506784\",\"linecolor\":\"#506784\",\"ticks\":\"\"},\"bgcolor\":\"rgb(17,17,17)\",\"caxis\":{\"gridcolor\":\"#506784\",\"linecolor\":\"#506784\",\"ticks\":\"\"}},\"title\":{\"x\":0.05},\"updatemenudefaults\":{\"bgcolor\":\"#506784\",\"borderwidth\":0},\"xaxis\":{\"automargin\":true,\"gridcolor\":\"#283442\",\"linecolor\":\"#506784\",\"ticks\":\"\",\"title\":{\"standoff\":15},\"zerolinecolor\":\"#283442\",\"zerolinewidth\":2},\"yaxis\":{\"automargin\":true,\"gridcolor\":\"#283442\",\"linecolor\":\"#506784\",\"ticks\":\"\",\"title\":{\"standoff\":15},\"zerolinecolor\":\"#283442\",\"zerolinewidth\":2}}},\"xaxis\":{\"anchor\":\"y\",\"domain\":[0.0,0.2888888888888889]},\"yaxis\":{\"anchor\":\"x\",\"domain\":[0.625,1.0]},\"xaxis2\":{\"anchor\":\"y2\",\"domain\":[0.35555555555555557,0.6444444444444445]},\"yaxis2\":{\"anchor\":\"x2\",\"domain\":[0.625,1.0]},\"xaxis3\":{\"anchor\":\"y3\",\"domain\":[0.7111111111111111,1.0]},\"yaxis3\":{\"anchor\":\"x3\",\"domain\":[0.625,1.0]},\"xaxis4\":{\"anchor\":\"y4\",\"domain\":[0.0,0.2888888888888889]},\"yaxis4\":{\"anchor\":\"x4\",\"domain\":[0.0,0.375]},\"xaxis5\":{\"anchor\":\"y5\",\"domain\":[0.35555555555555557,0.6444444444444445]},\"yaxis5\":{\"anchor\":\"x5\",\"domain\":[0.0,0.375]},\"xaxis6\":{\"anchor\":\"y6\",\"domain\":[0.7111111111111111,1.0]},\"yaxis6\":{\"anchor\":\"x6\",\"domain\":[0.0,0.375]},\"annotations\":[{\"font\":{\"size\":16},\"showarrow\":false,\"text\":\"LOR \",\"x\":0.14444444444444446,\"xanchor\":\"center\",\"xref\":\"paper\",\"y\":1.0,\"yanchor\":\"bottom\",\"yref\":\"paper\"},{\"font\":{\"size\":16},\"showarrow\":false,\"text\":\"Research\",\"x\":0.5,\"xanchor\":\"center\",\"xref\":\"paper\",\"y\":1.0,\"yanchor\":\"bottom\",\"yref\":\"paper\"},{\"font\":{\"size\":16},\"showarrow\":false,\"text\":\"Serial No.\",\"x\":0.8555555555555556,\"xanchor\":\"center\",\"xref\":\"paper\",\"y\":1.0,\"yanchor\":\"bottom\",\"yref\":\"paper\"},{\"font\":{\"size\":16},\"showarrow\":false,\"text\":\"GRE Score\",\"x\":0.14444444444444446,\"xanchor\":\"center\",\"xref\":\"paper\",\"y\":0.375,\"yanchor\":\"bottom\",\"yref\":\"paper\"},{\"font\":{\"size\":16},\"showarrow\":false,\"text\":\"Chance of Admit \",\"x\":0.5,\"xanchor\":\"center\",\"xref\":\"paper\",\"y\":0.375,\"yanchor\":\"bottom\",\"yref\":\"paper\"}],\"height\":780,\"width\":1470,\"font\":{\"color\":\"white\",\"size\":20},\"title\":{\"x\":0.5,\"y\":0.9},\"barmode\":\"overlay\"},                        {\"responsive\": true}                    ).then(function(){\n",
              "                            \n",
              "var gd = document.getElementById('60addd08-c849-46e0-a21c-6fef46909410');\n",
              "var x = new MutationObserver(function (mutations, observer) {{\n",
              "        var display = window.getComputedStyle(gd).display;\n",
              "        if (!display || display === 'none') {{\n",
              "            console.log([gd, 'removed!']);\n",
              "            Plotly.purge(gd);\n",
              "            observer.disconnect();\n",
              "        }}\n",
              "}});\n",
              "\n",
              "// Listen for the removal of the full notebook cells\n",
              "var notebookContainer = gd.closest('#notebook-container');\n",
              "if (notebookContainer) {{\n",
              "    x.observe(notebookContainer, {childList: true});\n",
              "}}\n",
              "\n",
              "// Listen for the clearing of the current output cell\n",
              "var outputEl = gd.closest('.output');\n",
              "if (outputEl) {{\n",
              "    x.observe(outputEl, {childList: true});\n",
              "}}\n",
              "\n",
              "                        })                };                            </script>        </div>\n",
              "</body>\n",
              "</html>"
            ]
          },
          "metadata": {}
        }
      ]
    },
    {
      "cell_type": "code",
      "source": [
        "aka_plot_.plot_box(df,view_hist_feat)"
      ],
      "metadata": {
        "colab": {
          "base_uri": "https://localhost:8080/",
          "height": 542
        },
        "id": "z6Dur-GUo7zl",
        "outputId": "1f021d2e-f2ae-4b45-a787-2f2013759742"
      },
      "execution_count": 49,
      "outputs": [
        {
          "output_type": "display_data",
          "data": {
            "text/html": [
              "<html>\n",
              "<head><meta charset=\"utf-8\" /></head>\n",
              "<body>\n",
              "    <div>            <script src=\"https://cdnjs.cloudflare.com/ajax/libs/mathjax/2.7.5/MathJax.js?config=TeX-AMS-MML_SVG\"></script><script type=\"text/javascript\">if (window.MathJax && window.MathJax.Hub && window.MathJax.Hub.Config) {window.MathJax.Hub.Config({SVG: {font: \"STIX-Web\"}});}</script>                <script type=\"text/javascript\">window.PlotlyConfig = {MathJaxConfig: 'local'};</script>\n",
              "        <script charset=\"utf-8\" src=\"https://cdn.plot.ly/plotly-2.24.1.min.js\"></script>                <div id=\"2b2897dd-2f54-4298-9efc-6f9541398375\" class=\"plotly-graph-div\" style=\"height:525px; width:100%;\"></div>            <script type=\"text/javascript\">                                    window.PLOTLYENV=window.PLOTLYENV || {};                                    if (document.getElementById(\"2b2897dd-2f54-4298-9efc-6f9541398375\")) {                    Plotly.newPlot(                        \"2b2897dd-2f54-4298-9efc-6f9541398375\",                        [{\"alignmentgroup\":\"True\",\"hovertemplate\":\"variable=%{x}\\u003cbr\\u003evalue=%{y}\\u003cextra\\u003e\\u003c\\u002fextra\\u003e\",\"legendgroup\":\"\",\"marker\":{\"color\":\"#636efa\"},\"name\":\"\",\"notched\":false,\"offsetgroup\":\"\",\"orientation\":\"v\",\"showlegend\":false,\"x\":[\"Chance of Admit \",\"Chance of Admit \",\"Chance of Admit \",\"Chance of Admit \",\"Chance of Admit \",\"Chance of Admit \",\"Chance of Admit \",\"Chance of Admit \",\"Chance of Admit \",\"Chance of Admit \",\"Chance of Admit \",\"Chance of Admit \",\"Chance of Admit \",\"Chance of Admit \",\"Chance of Admit \",\"Chance of Admit \",\"Chance of Admit \",\"Chance of Admit \",\"Chance of Admit \",\"Chance of Admit \",\"Chance of Admit \",\"Chance of Admit \",\"Chance of Admit \",\"Chance of Admit \",\"Chance of Admit \",\"Chance of Admit \",\"Chance of Admit \",\"Chance of Admit \",\"Chance of Admit \",\"Chance of Admit \",\"Chance of Admit \",\"Chance of Admit \",\"Chance of Admit \",\"Chance of Admit \",\"Chance of Admit \",\"Chance of Admit \",\"Chance of Admit \",\"Chance of Admit \",\"Chance of Admit \",\"Chance of Admit \",\"Chance of Admit \",\"Chance of Admit \",\"Chance of Admit \",\"Chance of Admit \",\"Chance of Admit \",\"Chance of Admit \",\"Chance of Admit \",\"Chance of Admit \",\"Chance of Admit \",\"Chance of Admit \",\"Chance of Admit \",\"Chance of Admit \",\"Chance of Admit \",\"Chance of Admit \",\"Chance of Admit \",\"Chance of Admit \",\"Chance of Admit \",\"Chance of Admit \",\"Chance of Admit \",\"Chance of Admit \",\"Chance of Admit \",\"Chance of Admit \",\"Chance of Admit \",\"Chance of Admit \",\"Chance of Admit \",\"Chance of Admit \",\"Chance of Admit \",\"Chance of Admit \",\"Chance of Admit \",\"Chance of Admit \",\"Chance of Admit \",\"Chance of Admit \",\"Chance of Admit \",\"Chance of Admit \",\"Chance of Admit \",\"Chance of Admit \",\"Chance of Admit \",\"Chance of Admit \",\"Chance of Admit \",\"Chance of Admit \",\"Chance of Admit \",\"Chance of Admit \",\"Chance of Admit \",\"Chance of Admit \",\"Chance of Admit \",\"Chance of Admit \",\"Chance of Admit \",\"Chance of Admit \",\"Chance of Admit \",\"Chance of Admit \",\"Chance of Admit \",\"Chance of Admit \",\"Chance of Admit \",\"Chance of Admit \",\"Chance of Admit \",\"Chance of Admit \",\"Chance of Admit \",\"Chance of Admit \",\"Chance of Admit \",\"Chance of Admit \",\"Chance of Admit \",\"Chance of Admit \",\"Chance of Admit \",\"Chance of Admit \",\"Chance of Admit \",\"Chance of Admit \",\"Chance of Admit \",\"Chance of Admit \",\"Chance of Admit \",\"Chance of Admit \",\"Chance of Admit \",\"Chance of Admit \",\"Chance of Admit \",\"Chance of Admit \",\"Chance of Admit \",\"Chance of Admit \",\"Chance of Admit \",\"Chance of Admit \",\"Chance of Admit \",\"Chance of Admit \",\"Chance of Admit \",\"Chance of Admit \",\"Chance of Admit \",\"Chance of Admit \",\"Chance of Admit \",\"Chance of Admit \",\"Chance of Admit \",\"Chance of Admit \",\"Chance of Admit \",\"Chance of Admit \",\"Chance of Admit \",\"Chance of Admit \",\"Chance of Admit \",\"Chance of Admit \",\"Chance of Admit \",\"Chance of Admit \",\"Chance of Admit \",\"Chance of Admit \",\"Chance of Admit \",\"Chance of Admit \",\"Chance of Admit \",\"Chance of Admit \",\"Chance of Admit \",\"Chance of Admit \",\"Chance of Admit \",\"Chance of Admit \",\"Chance of Admit \",\"Chance of Admit \",\"Chance of Admit \",\"Chance of Admit \",\"Chance of Admit \",\"Chance of Admit \",\"Chance of Admit \",\"Chance of Admit \",\"Chance of Admit \",\"Chance of Admit \",\"Chance of Admit \",\"Chance of Admit \",\"Chance of Admit \",\"Chance of Admit \",\"Chance of Admit \",\"Chance of Admit \",\"Chance of Admit \",\"Chance of Admit \",\"Chance of Admit \",\"Chance of Admit \",\"Chance of Admit \",\"Chance of Admit \",\"Chance of Admit \",\"Chance of Admit \",\"Chance of Admit \",\"Chance of Admit \",\"Chance of Admit \",\"Chance of Admit \",\"Chance of Admit \",\"Chance of Admit \",\"Chance of Admit \",\"Chance of Admit \",\"Chance of Admit \",\"Chance of Admit \",\"Chance of Admit \",\"Chance of Admit \",\"Chance of Admit \",\"Chance of Admit \",\"Chance of Admit \",\"Chance of Admit \",\"Chance of Admit \",\"Chance of Admit \",\"Chance of Admit \",\"Chance of Admit \",\"Chance of Admit \",\"Chance of Admit \",\"Chance of Admit \",\"Chance of Admit \",\"Chance of Admit \",\"Chance of Admit \",\"Chance of Admit \",\"Chance of Admit \",\"Chance of Admit \",\"Chance of Admit \",\"Chance of Admit \",\"Chance of Admit \",\"Chance of Admit \",\"Chance of Admit \",\"Chance of Admit \",\"Chance of Admit \",\"Chance of Admit \",\"Chance of Admit \",\"Chance of Admit \",\"Chance of Admit \",\"Chance of Admit \",\"Chance of Admit \",\"Chance of Admit \",\"Chance of Admit \",\"Chance of Admit \",\"Chance of Admit \",\"Chance of Admit \",\"Chance of Admit \",\"Chance of Admit \",\"Chance of Admit \",\"Chance of Admit \",\"Chance of Admit \",\"Chance of Admit \",\"Chance of Admit \",\"Chance of Admit \",\"Chance of Admit \",\"Chance of Admit \",\"Chance of Admit \",\"Chance of Admit \",\"Chance of Admit \",\"Chance of Admit \",\"Chance of Admit \",\"Chance of Admit \",\"Chance of Admit \",\"Chance of Admit \",\"Chance of Admit \",\"Chance of Admit \",\"Chance of Admit \",\"Chance of Admit \",\"Chance of Admit \",\"Chance of Admit \",\"Chance of Admit \",\"Chance of Admit \",\"Chance of Admit \",\"Chance of Admit \",\"Chance of Admit \",\"Chance of Admit \",\"Chance of Admit \",\"Chance of Admit \",\"Chance of Admit \",\"Chance of Admit \",\"Chance of Admit \",\"Chance of Admit \",\"Chance of Admit \",\"Chance of Admit \",\"Chance of Admit \",\"Chance of Admit \",\"Chance of Admit \",\"Chance of Admit \",\"Chance of Admit \",\"Chance of Admit \",\"Chance of Admit \",\"Chance of Admit \",\"Chance of Admit \",\"Chance of Admit \",\"Chance of Admit \",\"Chance of Admit \",\"Chance of Admit \",\"Chance of Admit \",\"Chance of Admit \",\"Chance of Admit \",\"Chance of Admit \",\"Chance of Admit \",\"Chance of Admit \",\"Chance of Admit \",\"Chance of Admit \",\"Chance of Admit \",\"Chance of Admit \",\"Chance of Admit \",\"Chance of Admit \",\"Chance of Admit \",\"Chance of Admit \",\"Chance of Admit \",\"Chance of Admit \",\"Chance of Admit \",\"Chance of Admit \",\"Chance of Admit \",\"Chance of Admit \",\"Chance of Admit \",\"Chance of Admit \",\"Chance of Admit \",\"Chance of Admit \",\"Chance of Admit \",\"Chance of Admit \",\"Chance of Admit \",\"Chance of Admit \",\"Chance of Admit \",\"Chance of Admit \",\"Chance of Admit \",\"Chance of Admit \",\"Chance of Admit \",\"Chance of Admit \",\"Chance of Admit \",\"Chance of Admit \",\"Chance of Admit \",\"Chance of Admit \",\"Chance of Admit \",\"Chance of Admit \",\"Chance of Admit \",\"Chance of Admit \",\"Chance of Admit \",\"Chance of Admit \",\"Chance of Admit \",\"Chance of Admit \",\"Chance of Admit \",\"Chance of Admit \",\"Chance of Admit \",\"Chance of Admit \",\"Chance of Admit \",\"Chance of Admit \",\"Chance of Admit \",\"Chance of Admit \",\"Chance of Admit \",\"Chance of Admit \",\"Chance of Admit \",\"Chance of Admit \",\"Chance of Admit \",\"Chance of Admit \",\"Chance of Admit \",\"Chance of Admit \",\"Chance of Admit \",\"Chance of Admit \",\"Chance of Admit \",\"Chance of Admit \",\"Chance of Admit \",\"Chance of Admit \",\"Chance of Admit \",\"Chance of Admit \",\"Chance of Admit \",\"Chance of Admit \",\"Chance of Admit \",\"Chance of Admit \",\"Chance of Admit \",\"Chance of Admit \",\"Chance of Admit \",\"Chance of Admit \",\"Chance of Admit \",\"Chance of Admit \",\"Chance of Admit \",\"Chance of Admit \",\"Chance of Admit \",\"Chance of Admit \",\"Chance of Admit \",\"Chance of Admit \",\"Chance of Admit \",\"Chance of Admit \",\"Chance of Admit \",\"Chance of Admit \",\"Chance of Admit \",\"Chance of Admit \",\"Chance of Admit \",\"Chance of Admit \",\"Chance of Admit \",\"Chance of Admit \",\"Chance of Admit \",\"Chance of Admit \",\"Chance of Admit \",\"Chance of Admit \",\"Chance of Admit \",\"Chance of Admit \",\"Chance of Admit \",\"Chance of Admit \",\"Chance of Admit \",\"Chance of Admit \",\"Chance of Admit \",\"Chance of Admit \",\"Chance of Admit \",\"Chance of Admit \",\"Chance of Admit \",\"Chance of Admit \",\"Chance of Admit \",\"Chance of Admit \",\"Chance of Admit \",\"Chance of Admit \",\"Chance of Admit \",\"Chance of Admit \",\"Chance of Admit \",\"Chance of Admit \",\"Chance of Admit \",\"Chance of Admit \",\"Chance of Admit \",\"Chance of Admit \",\"Chance of Admit \",\"Chance of Admit \",\"Chance of Admit \",\"Chance of Admit \",\"Chance of Admit \",\"Chance of Admit \",\"Chance of Admit \",\"Chance of Admit \",\"Chance of Admit \",\"Chance of Admit \",\"Chance of Admit \",\"Chance of Admit \",\"Chance of Admit \",\"Chance of Admit \",\"Chance of Admit \",\"Chance of Admit \",\"Chance of Admit \",\"Chance of Admit \",\"Chance of Admit \",\"Chance of Admit \",\"Chance of Admit \",\"Chance of Admit \",\"Chance of Admit \",\"Chance of Admit \",\"Chance of Admit \",\"Chance of Admit \",\"Chance of Admit \",\"Chance of Admit \",\"Chance of Admit \",\"Chance of Admit \",\"Chance of Admit \",\"Chance of Admit \",\"Chance of Admit \",\"Chance of Admit \",\"Chance of Admit \",\"Chance of Admit \",\"Chance of Admit \",\"Chance of Admit \",\"Chance of Admit \",\"Chance of Admit \",\"Chance of Admit \",\"Chance of Admit \",\"Chance of Admit \",\"Chance of Admit \",\"Chance of Admit \",\"Chance of Admit \",\"Chance of Admit \",\"Chance of Admit \",\"Chance of Admit \",\"Chance of Admit \",\"Chance of Admit \",\"Chance of Admit \",\"Chance of Admit \",\"Chance of Admit \",\"Chance of Admit \",\"Chance of Admit \",\"Chance of Admit \",\"Chance of Admit \",\"Chance of Admit \",\"Chance of Admit \",\"Chance of Admit \",\"Chance of Admit \",\"Chance of Admit \",\"Chance of Admit \",\"Chance of Admit \",\"Chance of Admit \",\"Chance of Admit \",\"Chance of Admit \",\"Chance of Admit \",\"Chance of Admit \",\"Chance of Admit \",\"Chance of Admit \",\"Chance of Admit \",\"Chance of Admit \",\"Chance of Admit \",\"Chance of Admit \",\"Chance of Admit \",\"Chance of Admit \",\"Chance of Admit \",\"Chance of Admit \",\"Chance of Admit \",\"Chance of Admit \",\"Chance of Admit \",\"Chance of Admit \",\"Chance of Admit \",\"Chance of Admit \",\"Chance of Admit \",\"Chance of Admit \",\"Chance of Admit \",\"Chance of Admit \",\"Chance of Admit \",\"Chance of Admit \",\"Chance of Admit \",\"Chance of Admit \",\"Chance of Admit \",\"Chance of Admit \",\"Chance of Admit \",\"Chance of Admit \",\"Chance of Admit \",\"Chance of Admit \",\"Chance of Admit \",\"Chance of Admit \",\"Chance of Admit \",\"Chance of Admit \",\"Chance of Admit \",\"Chance of Admit \",\"Chance of Admit \",\"Chance of Admit \",\"Research\",\"Research\",\"Research\",\"Research\",\"Research\",\"Research\",\"Research\",\"Research\",\"Research\",\"Research\",\"Research\",\"Research\",\"Research\",\"Research\",\"Research\",\"Research\",\"Research\",\"Research\",\"Research\",\"Research\",\"Research\",\"Research\",\"Research\",\"Research\",\"Research\",\"Research\",\"Research\",\"Research\",\"Research\",\"Research\",\"Research\",\"Research\",\"Research\",\"Research\",\"Research\",\"Research\",\"Research\",\"Research\",\"Research\",\"Research\",\"Research\",\"Research\",\"Research\",\"Research\",\"Research\",\"Research\",\"Research\",\"Research\",\"Research\",\"Research\",\"Research\",\"Research\",\"Research\",\"Research\",\"Research\",\"Research\",\"Research\",\"Research\",\"Research\",\"Research\",\"Research\",\"Research\",\"Research\",\"Research\",\"Research\",\"Research\",\"Research\",\"Research\",\"Research\",\"Research\",\"Research\",\"Research\",\"Research\",\"Research\",\"Research\",\"Research\",\"Research\",\"Research\",\"Research\",\"Research\",\"Research\",\"Research\",\"Research\",\"Research\",\"Research\",\"Research\",\"Research\",\"Research\",\"Research\",\"Research\",\"Research\",\"Research\",\"Research\",\"Research\",\"Research\",\"Research\",\"Research\",\"Research\",\"Research\",\"Research\",\"Research\",\"Research\",\"Research\",\"Research\",\"Research\",\"Research\",\"Research\",\"Research\",\"Research\",\"Research\",\"Research\",\"Research\",\"Research\",\"Research\",\"Research\",\"Research\",\"Research\",\"Research\",\"Research\",\"Research\",\"Research\",\"Research\",\"Research\",\"Research\",\"Research\",\"Research\",\"Research\",\"Research\",\"Research\",\"Research\",\"Research\",\"Research\",\"Research\",\"Research\",\"Research\",\"Research\",\"Research\",\"Research\",\"Research\",\"Research\",\"Research\",\"Research\",\"Research\",\"Research\",\"Research\",\"Research\",\"Research\",\"Research\",\"Research\",\"Research\",\"Research\",\"Research\",\"Research\",\"Research\",\"Research\",\"Research\",\"Research\",\"Research\",\"Research\",\"Research\",\"Research\",\"Research\",\"Research\",\"Research\",\"Research\",\"Research\",\"Research\",\"Research\",\"Research\",\"Research\",\"Research\",\"Research\",\"Research\",\"Research\",\"Research\",\"Research\",\"Research\",\"Research\",\"Research\",\"Research\",\"Research\",\"Research\",\"Research\",\"Research\",\"Research\",\"Research\",\"Research\",\"Research\",\"Research\",\"Research\",\"Research\",\"Research\",\"Research\",\"Research\",\"Research\",\"Research\",\"Research\",\"Research\",\"Research\",\"Research\",\"Research\",\"Research\",\"Research\",\"Research\",\"Research\",\"Research\",\"Research\",\"Research\",\"Research\",\"Research\",\"Research\",\"Research\",\"Research\",\"Research\",\"Research\",\"Research\",\"Research\",\"Research\",\"Research\",\"Research\",\"Research\",\"Research\",\"Research\",\"Research\",\"Research\",\"Research\",\"Research\",\"Research\",\"Research\",\"Research\",\"Research\",\"Research\",\"Research\",\"Research\",\"Research\",\"Research\",\"Research\",\"Research\",\"Research\",\"Research\",\"Research\",\"Research\",\"Research\",\"Research\",\"Research\",\"Research\",\"Research\",\"Research\",\"Research\",\"Research\",\"Research\",\"Research\",\"Research\",\"Research\",\"Research\",\"Research\",\"Research\",\"Research\",\"Research\",\"Research\",\"Research\",\"Research\",\"Research\",\"Research\",\"Research\",\"Research\",\"Research\",\"Research\",\"Research\",\"Research\",\"Research\",\"Research\",\"Research\",\"Research\",\"Research\",\"Research\",\"Research\",\"Research\",\"Research\",\"Research\",\"Research\",\"Research\",\"Research\",\"Research\",\"Research\",\"Research\",\"Research\",\"Research\",\"Research\",\"Research\",\"Research\",\"Research\",\"Research\",\"Research\",\"Research\",\"Research\",\"Research\",\"Research\",\"Research\",\"Research\",\"Research\",\"Research\",\"Research\",\"Research\",\"Research\",\"Research\",\"Research\",\"Research\",\"Research\",\"Research\",\"Research\",\"Research\",\"Research\",\"Research\",\"Research\",\"Research\",\"Research\",\"Research\",\"Research\",\"Research\",\"Research\",\"Research\",\"Research\",\"Research\",\"Research\",\"Research\",\"Research\",\"Research\",\"Research\",\"Research\",\"Research\",\"Research\",\"Research\",\"Research\",\"Research\",\"Research\",\"Research\",\"Research\",\"Research\",\"Research\",\"Research\",\"Research\",\"Research\",\"Research\",\"Research\",\"Research\",\"Research\",\"Research\",\"Research\",\"Research\",\"Research\",\"Research\",\"Research\",\"Research\",\"Research\",\"Research\",\"Research\",\"Research\",\"Research\",\"Research\",\"Research\",\"Research\",\"Research\",\"Research\",\"Research\",\"Research\",\"Research\",\"Research\",\"Research\",\"Research\",\"Research\",\"Research\",\"Research\",\"Research\",\"Research\",\"Research\",\"Research\",\"Research\",\"Research\",\"Research\",\"Research\",\"Research\",\"Research\",\"Research\",\"Research\",\"Research\",\"Research\",\"Research\",\"Research\",\"Research\",\"Research\",\"Research\",\"Research\",\"Research\",\"Research\",\"Research\",\"Research\",\"Research\",\"Research\",\"Research\",\"Research\",\"Research\",\"Research\",\"Research\",\"Research\",\"Research\",\"Research\",\"Research\",\"Research\",\"Research\",\"Research\",\"Research\",\"Research\",\"Research\",\"Research\",\"Research\",\"Research\",\"Research\",\"Research\",\"Research\",\"Research\",\"Research\",\"Research\",\"Research\",\"Research\",\"Research\",\"Research\",\"Research\",\"Research\",\"Research\",\"Research\",\"Research\",\"Research\",\"Research\",\"Research\",\"Research\",\"Research\",\"Research\",\"Research\",\"Research\",\"Research\",\"Research\",\"Research\",\"Research\",\"Research\",\"Research\",\"Research\",\"Research\",\"Research\",\"Research\",\"Research\",\"Research\",\"Research\",\"Research\",\"Research\",\"Research\",\"Research\",\"Research\",\"Research\",\"Research\",\"Research\",\"Research\",\"Research\",\"Research\",\"Research\",\"Research\",\"Research\",\"Research\",\"Research\",\"Research\",\"Research\",\"Research\",\"Research\",\"Research\",\"Research\",\"Research\",\"Research\",\"Research\",\"Research\",\"Research\",\"Research\",\"Research\",\"Research\",\"Research\",\"Research\",\"Research\",\"Research\",\"Research\",\"Research\",\"Research\",\"Research\",\"Research\",\"Research\",\"Research\",\"Research\",\"Research\",\"Research\",\"Research\",\"Research\",\"Research\",\"LOR \",\"LOR \",\"LOR \",\"LOR \",\"LOR \",\"LOR \",\"LOR \",\"LOR \",\"LOR \",\"LOR \",\"LOR \",\"LOR \",\"LOR \",\"LOR \",\"LOR \",\"LOR \",\"LOR \",\"LOR \",\"LOR \",\"LOR \",\"LOR \",\"LOR \",\"LOR \",\"LOR \",\"LOR \",\"LOR \",\"LOR \",\"LOR \",\"LOR \",\"LOR \",\"LOR \",\"LOR \",\"LOR \",\"LOR \",\"LOR \",\"LOR \",\"LOR \",\"LOR \",\"LOR \",\"LOR \",\"LOR \",\"LOR \",\"LOR \",\"LOR \",\"LOR \",\"LOR \",\"LOR \",\"LOR \",\"LOR \",\"LOR \",\"LOR \",\"LOR \",\"LOR \",\"LOR \",\"LOR \",\"LOR \",\"LOR \",\"LOR \",\"LOR \",\"LOR \",\"LOR \",\"LOR \",\"LOR \",\"LOR \",\"LOR \",\"LOR \",\"LOR \",\"LOR \",\"LOR \",\"LOR \",\"LOR \",\"LOR \",\"LOR \",\"LOR \",\"LOR \",\"LOR \",\"LOR \",\"LOR \",\"LOR \",\"LOR \",\"LOR \",\"LOR \",\"LOR \",\"LOR \",\"LOR \",\"LOR \",\"LOR \",\"LOR \",\"LOR \",\"LOR \",\"LOR \",\"LOR \",\"LOR \",\"LOR \",\"LOR \",\"LOR \",\"LOR \",\"LOR \",\"LOR \",\"LOR \",\"LOR \",\"LOR \",\"LOR \",\"LOR \",\"LOR \",\"LOR \",\"LOR \",\"LOR \",\"LOR \",\"LOR \",\"LOR \",\"LOR \",\"LOR \",\"LOR \",\"LOR \",\"LOR \",\"LOR \",\"LOR \",\"LOR \",\"LOR \",\"LOR \",\"LOR \",\"LOR \",\"LOR \",\"LOR \",\"LOR \",\"LOR \",\"LOR \",\"LOR \",\"LOR \",\"LOR \",\"LOR \",\"LOR \",\"LOR \",\"LOR \",\"LOR \",\"LOR \",\"LOR \",\"LOR \",\"LOR \",\"LOR \",\"LOR \",\"LOR \",\"LOR \",\"LOR \",\"LOR \",\"LOR \",\"LOR \",\"LOR \",\"LOR \",\"LOR \",\"LOR \",\"LOR \",\"LOR \",\"LOR \",\"LOR \",\"LOR \",\"LOR \",\"LOR \",\"LOR \",\"LOR \",\"LOR \",\"LOR \",\"LOR \",\"LOR \",\"LOR \",\"LOR \",\"LOR \",\"LOR \",\"LOR \",\"LOR \",\"LOR \",\"LOR \",\"LOR \",\"LOR \",\"LOR \",\"LOR \",\"LOR \",\"LOR \",\"LOR \",\"LOR \",\"LOR \",\"LOR \",\"LOR \",\"LOR \",\"LOR \",\"LOR \",\"LOR \",\"LOR \",\"LOR \",\"LOR \",\"LOR \",\"LOR \",\"LOR \",\"LOR \",\"LOR \",\"LOR \",\"LOR \",\"LOR \",\"LOR \",\"LOR \",\"LOR \",\"LOR \",\"LOR \",\"LOR \",\"LOR \",\"LOR \",\"LOR \",\"LOR \",\"LOR \",\"LOR \",\"LOR \",\"LOR \",\"LOR \",\"LOR \",\"LOR \",\"LOR \",\"LOR \",\"LOR \",\"LOR \",\"LOR \",\"LOR \",\"LOR \",\"LOR \",\"LOR \",\"LOR \",\"LOR \",\"LOR \",\"LOR \",\"LOR \",\"LOR \",\"LOR \",\"LOR \",\"LOR \",\"LOR \",\"LOR \",\"LOR \",\"LOR \",\"LOR \",\"LOR \",\"LOR \",\"LOR \",\"LOR \",\"LOR \",\"LOR \",\"LOR \",\"LOR \",\"LOR \",\"LOR \",\"LOR \",\"LOR \",\"LOR \",\"LOR \",\"LOR \",\"LOR \",\"LOR \",\"LOR \",\"LOR \",\"LOR \",\"LOR \",\"LOR \",\"LOR \",\"LOR \",\"LOR \",\"LOR \",\"LOR \",\"LOR \",\"LOR \",\"LOR \",\"LOR \",\"LOR \",\"LOR \",\"LOR \",\"LOR \",\"LOR \",\"LOR \",\"LOR \",\"LOR \",\"LOR \",\"LOR \",\"LOR \",\"LOR \",\"LOR \",\"LOR \",\"LOR \",\"LOR \",\"LOR \",\"LOR \",\"LOR \",\"LOR \",\"LOR \",\"LOR \",\"LOR \",\"LOR \",\"LOR \",\"LOR \",\"LOR \",\"LOR \",\"LOR \",\"LOR \",\"LOR \",\"LOR \",\"LOR \",\"LOR \",\"LOR \",\"LOR \",\"LOR \",\"LOR \",\"LOR \",\"LOR \",\"LOR \",\"LOR \",\"LOR \",\"LOR \",\"LOR \",\"LOR \",\"LOR \",\"LOR \",\"LOR \",\"LOR \",\"LOR \",\"LOR \",\"LOR \",\"LOR \",\"LOR \",\"LOR \",\"LOR \",\"LOR \",\"LOR \",\"LOR \",\"LOR \",\"LOR \",\"LOR \",\"LOR \",\"LOR \",\"LOR \",\"LOR \",\"LOR \",\"LOR \",\"LOR \",\"LOR \",\"LOR \",\"LOR \",\"LOR \",\"LOR \",\"LOR \",\"LOR \",\"LOR \",\"LOR \",\"LOR \",\"LOR \",\"LOR \",\"LOR \",\"LOR \",\"LOR \",\"LOR \",\"LOR \",\"LOR \",\"LOR \",\"LOR \",\"LOR \",\"LOR \",\"LOR \",\"LOR \",\"LOR \",\"LOR \",\"LOR \",\"LOR \",\"LOR \",\"LOR \",\"LOR \",\"LOR \",\"LOR \",\"LOR \",\"LOR \",\"LOR \",\"LOR \",\"LOR \",\"LOR \",\"LOR \",\"LOR \",\"LOR \",\"LOR \",\"LOR \",\"LOR \",\"LOR \",\"LOR \",\"LOR \",\"LOR \",\"LOR \",\"LOR \",\"LOR \",\"LOR \",\"LOR \",\"LOR \",\"LOR \",\"LOR \",\"LOR \",\"LOR \",\"LOR \",\"LOR \",\"LOR \",\"LOR \",\"LOR \",\"LOR \",\"LOR \",\"LOR \",\"LOR \",\"LOR \",\"LOR \",\"LOR \",\"LOR \",\"LOR \",\"LOR \",\"LOR \",\"LOR \",\"LOR \",\"LOR \",\"LOR \",\"LOR \",\"LOR \",\"LOR \",\"LOR \",\"LOR \",\"LOR \",\"LOR \",\"LOR \",\"LOR \",\"LOR \",\"LOR \",\"LOR \",\"LOR \",\"LOR \",\"LOR \",\"LOR \",\"LOR \",\"LOR \",\"LOR \",\"LOR \",\"LOR \",\"LOR \",\"LOR \",\"LOR \",\"LOR \",\"LOR \",\"LOR \",\"LOR \",\"LOR \",\"LOR \",\"LOR \",\"LOR \",\"LOR \",\"LOR \",\"LOR \",\"LOR \",\"LOR \",\"LOR \",\"LOR \",\"LOR \",\"LOR \",\"LOR \",\"LOR \",\"LOR \",\"LOR \",\"LOR \",\"LOR \",\"LOR \",\"LOR \",\"LOR \",\"LOR \",\"LOR \",\"LOR \",\"LOR \",\"LOR \",\"LOR \",\"LOR \",\"LOR \",\"LOR \",\"LOR \",\"LOR \",\"LOR \",\"LOR \",\"LOR \",\"LOR \",\"LOR \",\"LOR \",\"LOR \",\"LOR \",\"LOR \",\"LOR \",\"LOR \",\"LOR \",\"LOR \",\"LOR \",\"LOR \",\"LOR \",\"LOR \",\"LOR \",\"LOR \",\"LOR \",\"GRE Score\",\"GRE Score\",\"GRE Score\",\"GRE Score\",\"GRE Score\",\"GRE Score\",\"GRE Score\",\"GRE Score\",\"GRE Score\",\"GRE Score\",\"GRE Score\",\"GRE Score\",\"GRE Score\",\"GRE Score\",\"GRE Score\",\"GRE Score\",\"GRE Score\",\"GRE Score\",\"GRE Score\",\"GRE Score\",\"GRE Score\",\"GRE Score\",\"GRE Score\",\"GRE Score\",\"GRE Score\",\"GRE Score\",\"GRE Score\",\"GRE Score\",\"GRE Score\",\"GRE Score\",\"GRE Score\",\"GRE Score\",\"GRE Score\",\"GRE Score\",\"GRE Score\",\"GRE Score\",\"GRE Score\",\"GRE Score\",\"GRE Score\",\"GRE Score\",\"GRE Score\",\"GRE Score\",\"GRE Score\",\"GRE Score\",\"GRE Score\",\"GRE Score\",\"GRE Score\",\"GRE Score\",\"GRE Score\",\"GRE Score\",\"GRE Score\",\"GRE Score\",\"GRE Score\",\"GRE Score\",\"GRE Score\",\"GRE Score\",\"GRE Score\",\"GRE Score\",\"GRE Score\",\"GRE Score\",\"GRE Score\",\"GRE Score\",\"GRE Score\",\"GRE Score\",\"GRE Score\",\"GRE Score\",\"GRE Score\",\"GRE Score\",\"GRE Score\",\"GRE Score\",\"GRE Score\",\"GRE Score\",\"GRE Score\",\"GRE Score\",\"GRE Score\",\"GRE Score\",\"GRE Score\",\"GRE Score\",\"GRE Score\",\"GRE Score\",\"GRE Score\",\"GRE Score\",\"GRE Score\",\"GRE Score\",\"GRE Score\",\"GRE Score\",\"GRE Score\",\"GRE Score\",\"GRE Score\",\"GRE Score\",\"GRE Score\",\"GRE Score\",\"GRE Score\",\"GRE Score\",\"GRE Score\",\"GRE Score\",\"GRE Score\",\"GRE Score\",\"GRE Score\",\"GRE Score\",\"GRE Score\",\"GRE Score\",\"GRE Score\",\"GRE Score\",\"GRE Score\",\"GRE Score\",\"GRE Score\",\"GRE Score\",\"GRE Score\",\"GRE Score\",\"GRE Score\",\"GRE Score\",\"GRE Score\",\"GRE Score\",\"GRE Score\",\"GRE Score\",\"GRE Score\",\"GRE Score\",\"GRE Score\",\"GRE Score\",\"GRE Score\",\"GRE Score\",\"GRE Score\",\"GRE Score\",\"GRE Score\",\"GRE Score\",\"GRE Score\",\"GRE Score\",\"GRE Score\",\"GRE Score\",\"GRE Score\",\"GRE Score\",\"GRE Score\",\"GRE Score\",\"GRE Score\",\"GRE Score\",\"GRE Score\",\"GRE Score\",\"GRE Score\",\"GRE Score\",\"GRE Score\",\"GRE Score\",\"GRE Score\",\"GRE Score\",\"GRE Score\",\"GRE Score\",\"GRE Score\",\"GRE Score\",\"GRE Score\",\"GRE Score\",\"GRE Score\",\"GRE Score\",\"GRE Score\",\"GRE Score\",\"GRE Score\",\"GRE Score\",\"GRE Score\",\"GRE Score\",\"GRE Score\",\"GRE Score\",\"GRE Score\",\"GRE Score\",\"GRE Score\",\"GRE Score\",\"GRE Score\",\"GRE Score\",\"GRE Score\",\"GRE Score\",\"GRE Score\",\"GRE Score\",\"GRE Score\",\"GRE Score\",\"GRE Score\",\"GRE Score\",\"GRE Score\",\"GRE Score\",\"GRE Score\",\"GRE Score\",\"GRE Score\",\"GRE Score\",\"GRE Score\",\"GRE Score\",\"GRE Score\",\"GRE Score\",\"GRE Score\",\"GRE Score\",\"GRE Score\",\"GRE Score\",\"GRE Score\",\"GRE Score\",\"GRE Score\",\"GRE Score\",\"GRE Score\",\"GRE Score\",\"GRE Score\",\"GRE Score\",\"GRE Score\",\"GRE Score\",\"GRE Score\",\"GRE Score\",\"GRE Score\",\"GRE Score\",\"GRE Score\",\"GRE Score\",\"GRE Score\",\"GRE Score\",\"GRE Score\",\"GRE Score\",\"GRE Score\",\"GRE Score\",\"GRE Score\",\"GRE Score\",\"GRE Score\",\"GRE Score\",\"GRE Score\",\"GRE Score\",\"GRE Score\",\"GRE Score\",\"GRE Score\",\"GRE Score\",\"GRE Score\",\"GRE Score\",\"GRE Score\",\"GRE Score\",\"GRE Score\",\"GRE Score\",\"GRE Score\",\"GRE Score\",\"GRE Score\",\"GRE Score\",\"GRE Score\",\"GRE Score\",\"GRE Score\",\"GRE Score\",\"GRE Score\",\"GRE Score\",\"GRE Score\",\"GRE Score\",\"GRE Score\",\"GRE Score\",\"GRE Score\",\"GRE Score\",\"GRE Score\",\"GRE Score\",\"GRE Score\",\"GRE Score\",\"GRE Score\",\"GRE Score\",\"GRE Score\",\"GRE Score\",\"GRE Score\",\"GRE Score\",\"GRE Score\",\"GRE Score\",\"GRE Score\",\"GRE Score\",\"GRE Score\",\"GRE Score\",\"GRE Score\",\"GRE Score\",\"GRE Score\",\"GRE Score\",\"GRE Score\",\"GRE Score\",\"GRE Score\",\"GRE Score\",\"GRE Score\",\"GRE Score\",\"GRE Score\",\"GRE Score\",\"GRE Score\",\"GRE Score\",\"GRE Score\",\"GRE Score\",\"GRE Score\",\"GRE Score\",\"GRE Score\",\"GRE Score\",\"GRE Score\",\"GRE Score\",\"GRE Score\",\"GRE Score\",\"GRE Score\",\"GRE Score\",\"GRE Score\",\"GRE Score\",\"GRE Score\",\"GRE Score\",\"GRE Score\",\"GRE Score\",\"GRE Score\",\"GRE Score\",\"GRE Score\",\"GRE Score\",\"GRE Score\",\"GRE Score\",\"GRE Score\",\"GRE Score\",\"GRE Score\",\"GRE Score\",\"GRE Score\",\"GRE Score\",\"GRE Score\",\"GRE Score\",\"GRE Score\",\"GRE Score\",\"GRE Score\",\"GRE Score\",\"GRE Score\",\"GRE Score\",\"GRE Score\",\"GRE Score\",\"GRE Score\",\"GRE Score\",\"GRE Score\",\"GRE Score\",\"GRE Score\",\"GRE Score\",\"GRE Score\",\"GRE Score\",\"GRE Score\",\"GRE Score\",\"GRE Score\",\"GRE Score\",\"GRE Score\",\"GRE Score\",\"GRE Score\",\"GRE Score\",\"GRE Score\",\"GRE Score\",\"GRE Score\",\"GRE Score\",\"GRE Score\",\"GRE Score\",\"GRE Score\",\"GRE Score\",\"GRE Score\",\"GRE Score\",\"GRE Score\",\"GRE Score\",\"GRE Score\",\"GRE Score\",\"GRE Score\",\"GRE Score\",\"GRE Score\",\"GRE Score\",\"GRE Score\",\"GRE Score\",\"GRE Score\",\"GRE Score\",\"GRE Score\",\"GRE Score\",\"GRE Score\",\"GRE Score\",\"GRE Score\",\"GRE Score\",\"GRE Score\",\"GRE Score\",\"GRE Score\",\"GRE Score\",\"GRE Score\",\"GRE Score\",\"GRE Score\",\"GRE Score\",\"GRE Score\",\"GRE Score\",\"GRE Score\",\"GRE Score\",\"GRE Score\",\"GRE Score\",\"GRE Score\",\"GRE Score\",\"GRE Score\",\"GRE Score\",\"GRE Score\",\"GRE Score\",\"GRE Score\",\"GRE Score\",\"GRE Score\",\"GRE Score\",\"GRE Score\",\"GRE Score\",\"GRE Score\",\"GRE Score\",\"GRE Score\",\"GRE Score\",\"GRE Score\",\"GRE Score\",\"GRE Score\",\"GRE Score\",\"GRE Score\",\"GRE Score\",\"GRE Score\",\"GRE Score\",\"GRE Score\",\"GRE Score\",\"GRE Score\",\"GRE Score\",\"GRE Score\",\"GRE Score\",\"GRE Score\",\"GRE Score\",\"GRE Score\",\"GRE Score\",\"GRE Score\",\"GRE Score\",\"GRE Score\",\"GRE Score\",\"GRE Score\",\"GRE Score\",\"GRE Score\",\"GRE Score\",\"GRE Score\",\"GRE Score\",\"GRE Score\",\"GRE Score\",\"GRE Score\",\"GRE Score\",\"GRE Score\",\"GRE Score\",\"GRE Score\",\"GRE Score\",\"GRE Score\",\"GRE Score\",\"GRE Score\",\"GRE Score\",\"GRE Score\",\"GRE Score\",\"GRE Score\",\"GRE Score\",\"GRE Score\",\"GRE Score\",\"GRE Score\",\"GRE Score\",\"GRE Score\",\"GRE Score\",\"GRE Score\",\"GRE Score\",\"GRE Score\",\"GRE Score\",\"GRE Score\",\"GRE Score\",\"GRE Score\",\"GRE Score\",\"GRE Score\",\"GRE Score\",\"GRE Score\",\"GRE Score\",\"GRE Score\",\"GRE Score\",\"GRE Score\",\"GRE Score\",\"GRE Score\",\"GRE Score\",\"GRE Score\",\"GRE Score\",\"GRE Score\",\"GRE Score\",\"GRE Score\",\"GRE Score\",\"GRE Score\",\"GRE Score\",\"GRE Score\",\"GRE Score\",\"GRE Score\",\"GRE Score\",\"GRE Score\",\"GRE Score\",\"GRE Score\",\"GRE Score\",\"GRE Score\",\"GRE Score\",\"GRE Score\",\"GRE Score\",\"GRE Score\",\"GRE Score\",\"GRE Score\",\"GRE Score\",\"GRE Score\",\"GRE Score\",\"GRE Score\",\"GRE Score\",\"GRE Score\",\"GRE Score\",\"GRE Score\",\"GRE Score\",\"GRE Score\",\"GRE Score\",\"GRE Score\",\"GRE Score\",\"GRE Score\",\"GRE Score\",\"GRE Score\",\"GRE Score\",\"GRE Score\",\"GRE Score\",\"GRE Score\",\"GRE Score\",\"GRE Score\",\"GRE Score\",\"Serial No.\",\"Serial No.\",\"Serial No.\",\"Serial No.\",\"Serial No.\",\"Serial No.\",\"Serial No.\",\"Serial No.\",\"Serial No.\",\"Serial No.\",\"Serial No.\",\"Serial No.\",\"Serial No.\",\"Serial No.\",\"Serial No.\",\"Serial No.\",\"Serial No.\",\"Serial No.\",\"Serial No.\",\"Serial No.\",\"Serial No.\",\"Serial No.\",\"Serial No.\",\"Serial No.\",\"Serial No.\",\"Serial No.\",\"Serial No.\",\"Serial No.\",\"Serial No.\",\"Serial No.\",\"Serial No.\",\"Serial No.\",\"Serial No.\",\"Serial No.\",\"Serial No.\",\"Serial No.\",\"Serial No.\",\"Serial No.\",\"Serial No.\",\"Serial No.\",\"Serial No.\",\"Serial No.\",\"Serial No.\",\"Serial No.\",\"Serial No.\",\"Serial No.\",\"Serial No.\",\"Serial No.\",\"Serial No.\",\"Serial No.\",\"Serial No.\",\"Serial No.\",\"Serial No.\",\"Serial No.\",\"Serial No.\",\"Serial No.\",\"Serial No.\",\"Serial No.\",\"Serial No.\",\"Serial No.\",\"Serial No.\",\"Serial No.\",\"Serial No.\",\"Serial No.\",\"Serial No.\",\"Serial No.\",\"Serial No.\",\"Serial No.\",\"Serial No.\",\"Serial No.\",\"Serial No.\",\"Serial No.\",\"Serial No.\",\"Serial No.\",\"Serial No.\",\"Serial No.\",\"Serial No.\",\"Serial No.\",\"Serial No.\",\"Serial No.\",\"Serial No.\",\"Serial No.\",\"Serial No.\",\"Serial No.\",\"Serial No.\",\"Serial No.\",\"Serial No.\",\"Serial No.\",\"Serial No.\",\"Serial No.\",\"Serial No.\",\"Serial No.\",\"Serial No.\",\"Serial No.\",\"Serial No.\",\"Serial No.\",\"Serial No.\",\"Serial No.\",\"Serial No.\",\"Serial No.\",\"Serial No.\",\"Serial No.\",\"Serial No.\",\"Serial No.\",\"Serial No.\",\"Serial No.\",\"Serial No.\",\"Serial No.\",\"Serial No.\",\"Serial No.\",\"Serial No.\",\"Serial No.\",\"Serial No.\",\"Serial No.\",\"Serial No.\",\"Serial No.\",\"Serial No.\",\"Serial No.\",\"Serial No.\",\"Serial No.\",\"Serial No.\",\"Serial No.\",\"Serial No.\",\"Serial No.\",\"Serial No.\",\"Serial No.\",\"Serial No.\",\"Serial No.\",\"Serial No.\",\"Serial No.\",\"Serial No.\",\"Serial No.\",\"Serial No.\",\"Serial No.\",\"Serial No.\",\"Serial No.\",\"Serial No.\",\"Serial No.\",\"Serial No.\",\"Serial No.\",\"Serial No.\",\"Serial No.\",\"Serial No.\",\"Serial No.\",\"Serial No.\",\"Serial No.\",\"Serial No.\",\"Serial No.\",\"Serial No.\",\"Serial No.\",\"Serial No.\",\"Serial No.\",\"Serial No.\",\"Serial No.\",\"Serial No.\",\"Serial No.\",\"Serial No.\",\"Serial No.\",\"Serial No.\",\"Serial No.\",\"Serial No.\",\"Serial No.\",\"Serial No.\",\"Serial No.\",\"Serial No.\",\"Serial No.\",\"Serial No.\",\"Serial No.\",\"Serial No.\",\"Serial No.\",\"Serial No.\",\"Serial No.\",\"Serial No.\",\"Serial No.\",\"Serial No.\",\"Serial No.\",\"Serial No.\",\"Serial No.\",\"Serial No.\",\"Serial No.\",\"Serial No.\",\"Serial No.\",\"Serial No.\",\"Serial No.\",\"Serial No.\",\"Serial No.\",\"Serial No.\",\"Serial No.\",\"Serial No.\",\"Serial No.\",\"Serial No.\",\"Serial No.\",\"Serial No.\",\"Serial No.\",\"Serial No.\",\"Serial No.\",\"Serial No.\",\"Serial No.\",\"Serial No.\",\"Serial No.\",\"Serial No.\",\"Serial No.\",\"Serial No.\",\"Serial No.\",\"Serial No.\",\"Serial No.\",\"Serial No.\",\"Serial No.\",\"Serial No.\",\"Serial No.\",\"Serial No.\",\"Serial No.\",\"Serial No.\",\"Serial No.\",\"Serial No.\",\"Serial No.\",\"Serial No.\",\"Serial No.\",\"Serial No.\",\"Serial No.\",\"Serial No.\",\"Serial No.\",\"Serial No.\",\"Serial No.\",\"Serial No.\",\"Serial No.\",\"Serial No.\",\"Serial No.\",\"Serial No.\",\"Serial No.\",\"Serial No.\",\"Serial No.\",\"Serial No.\",\"Serial No.\",\"Serial No.\",\"Serial No.\",\"Serial No.\",\"Serial No.\",\"Serial No.\",\"Serial No.\",\"Serial No.\",\"Serial No.\",\"Serial No.\",\"Serial No.\",\"Serial No.\",\"Serial No.\",\"Serial No.\",\"Serial No.\",\"Serial No.\",\"Serial No.\",\"Serial No.\",\"Serial No.\",\"Serial No.\",\"Serial No.\",\"Serial No.\",\"Serial No.\",\"Serial No.\",\"Serial No.\",\"Serial No.\",\"Serial No.\",\"Serial No.\",\"Serial No.\",\"Serial No.\",\"Serial No.\",\"Serial No.\",\"Serial No.\",\"Serial No.\",\"Serial No.\",\"Serial No.\",\"Serial No.\",\"Serial No.\",\"Serial No.\",\"Serial No.\",\"Serial No.\",\"Serial No.\",\"Serial No.\",\"Serial No.\",\"Serial No.\",\"Serial No.\",\"Serial No.\",\"Serial No.\",\"Serial No.\",\"Serial No.\",\"Serial No.\",\"Serial No.\",\"Serial No.\",\"Serial No.\",\"Serial No.\",\"Serial No.\",\"Serial No.\",\"Serial No.\",\"Serial No.\",\"Serial No.\",\"Serial No.\",\"Serial No.\",\"Serial No.\",\"Serial No.\",\"Serial No.\",\"Serial No.\",\"Serial No.\",\"Serial No.\",\"Serial No.\",\"Serial No.\",\"Serial No.\",\"Serial No.\",\"Serial No.\",\"Serial No.\",\"Serial No.\",\"Serial No.\",\"Serial No.\",\"Serial No.\",\"Serial No.\",\"Serial No.\",\"Serial No.\",\"Serial No.\",\"Serial No.\",\"Serial No.\",\"Serial No.\",\"Serial No.\",\"Serial No.\",\"Serial No.\",\"Serial No.\",\"Serial No.\",\"Serial No.\",\"Serial No.\",\"Serial No.\",\"Serial No.\",\"Serial No.\",\"Serial No.\",\"Serial No.\",\"Serial No.\",\"Serial No.\",\"Serial No.\",\"Serial No.\",\"Serial No.\",\"Serial No.\",\"Serial No.\",\"Serial No.\",\"Serial No.\",\"Serial No.\",\"Serial No.\",\"Serial No.\",\"Serial No.\",\"Serial No.\",\"Serial No.\",\"Serial No.\",\"Serial No.\",\"Serial No.\",\"Serial No.\",\"Serial No.\",\"Serial No.\",\"Serial No.\",\"Serial No.\",\"Serial No.\",\"Serial No.\",\"Serial No.\",\"Serial No.\",\"Serial No.\",\"Serial No.\",\"Serial No.\",\"Serial No.\",\"Serial No.\",\"Serial No.\",\"Serial No.\",\"Serial No.\",\"Serial No.\",\"Serial No.\",\"Serial No.\",\"Serial No.\",\"Serial No.\",\"Serial No.\",\"Serial No.\",\"Serial No.\",\"Serial No.\",\"Serial No.\",\"Serial No.\",\"Serial No.\",\"Serial No.\",\"Serial No.\",\"Serial No.\",\"Serial No.\",\"Serial No.\",\"Serial No.\",\"Serial No.\",\"Serial No.\",\"Serial No.\",\"Serial No.\",\"Serial No.\",\"Serial No.\",\"Serial No.\",\"Serial No.\",\"Serial No.\",\"Serial No.\",\"Serial No.\",\"Serial No.\",\"Serial No.\",\"Serial No.\",\"Serial No.\",\"Serial No.\",\"Serial No.\",\"Serial No.\",\"Serial No.\",\"Serial No.\",\"Serial No.\",\"Serial No.\",\"Serial No.\",\"Serial No.\",\"Serial No.\",\"Serial No.\",\"Serial No.\",\"Serial No.\",\"Serial No.\",\"Serial No.\",\"Serial No.\",\"Serial No.\",\"Serial No.\",\"Serial No.\",\"Serial No.\",\"Serial No.\",\"Serial No.\",\"Serial No.\",\"Serial No.\",\"Serial No.\",\"Serial No.\",\"Serial No.\",\"Serial No.\",\"Serial No.\",\"Serial No.\",\"Serial No.\",\"Serial No.\",\"Serial No.\",\"Serial No.\",\"Serial No.\",\"Serial No.\",\"Serial No.\",\"Serial No.\",\"Serial No.\",\"Serial No.\",\"Serial No.\",\"Serial No.\",\"Serial No.\",\"Serial No.\",\"Serial No.\",\"Serial No.\",\"Serial No.\",\"Serial No.\",\"Serial No.\",\"Serial No.\",\"Serial No.\",\"Serial No.\",\"Serial No.\",\"Serial No.\",\"Serial No.\",\"Serial No.\",\"Serial No.\",\"Serial No.\",\"Serial No.\",\"Serial No.\",\"Serial No.\",\"Serial No.\",\"Serial No.\",\"Serial No.\",\"Serial No.\",\"Serial No.\",\"Serial No.\",\"Serial No.\",\"Serial No.\",\"Serial No.\",\"Serial No.\",\"Serial No.\",\"Serial No.\",\"Serial No.\",\"Serial No.\",\"Serial No.\",\"Serial No.\",\"Serial No.\",\"Serial No.\",\"Serial No.\",\"Serial No.\",\"Serial No.\",\"Serial No.\",\"Serial No.\",\"Serial No.\",\"Serial No.\",\"Serial No.\",\"Serial No.\",\"Serial No.\",\"Serial No.\",\"Serial No.\",\"Serial No.\",\"Serial No.\",\"Serial No.\",\"Serial No.\",\"Serial No.\",\"Serial No.\",\"Serial No.\",\"Serial No.\",\"Serial No.\",\"Serial No.\",\"Serial No.\"],\"x0\":\" \",\"xaxis\":\"x\",\"y\":[0.92,0.76,0.72,0.8,0.65,0.9,0.75,0.68,0.5,0.45,0.52,0.84,0.78,0.62,0.61,0.54,0.66,0.65,0.63,0.62,0.64,0.7,0.94,0.95,0.97,0.94,0.76,0.44,0.46,0.54,0.65,0.74,0.91,0.9,0.94,0.88,0.64,0.58,0.52,0.48,0.46,0.49,0.53,0.87,0.91,0.88,0.86,0.89,0.82,0.78,0.76,0.56,0.78,0.72,0.7,0.64,0.64,0.46,0.36,0.42,0.48,0.47,0.54,0.56,0.52,0.55,0.61,0.57,0.68,0.78,0.94,0.96,0.93,0.84,0.74,0.72,0.74,0.64,0.44,0.46,0.5,0.96,0.92,0.92,0.94,0.76,0.72,0.66,0.64,0.74,0.64,0.38,0.34,0.44,0.36,0.42,0.48,0.86,0.9,0.79,0.71,0.64,0.62,0.57,0.74,0.69,0.87,0.91,0.93,0.68,0.61,0.69,0.62,0.72,0.59,0.66,0.56,0.45,0.47,0.71,0.94,0.94,0.57,0.61,0.57,0.64,0.85,0.78,0.84,0.92,0.96,0.77,0.71,0.79,0.89,0.82,0.76,0.71,0.8,0.78,0.84,0.9,0.92,0.97,0.8,0.81,0.75,0.83,0.96,0.79,0.93,0.94,0.86,0.79,0.8,0.77,0.7,0.65,0.61,0.52,0.57,0.53,0.67,0.68,0.81,0.78,0.65,0.64,0.64,0.65,0.68,0.89,0.86,0.89,0.87,0.85,0.9,0.82,0.72,0.73,0.71,0.71,0.68,0.75,0.72,0.89,0.84,0.93,0.93,0.88,0.9,0.87,0.86,0.94,0.77,0.78,0.73,0.73,0.7,0.72,0.73,0.72,0.97,0.97,0.69,0.57,0.63,0.66,0.64,0.68,0.79,0.82,0.95,0.96,0.94,0.93,0.91,0.85,0.84,0.74,0.76,0.75,0.76,0.71,0.67,0.61,0.63,0.64,0.71,0.82,0.73,0.74,0.69,0.64,0.91,0.88,0.85,0.86,0.7,0.59,0.6,0.65,0.7,0.76,0.63,0.81,0.72,0.71,0.8,0.77,0.74,0.7,0.71,0.93,0.85,0.79,0.76,0.78,0.77,0.9,0.87,0.71,0.7,0.7,0.75,0.71,0.72,0.73,0.83,0.77,0.72,0.54,0.49,0.52,0.58,0.78,0.89,0.7,0.66,0.67,0.68,0.8,0.81,0.8,0.94,0.93,0.92,0.89,0.82,0.79,0.58,0.56,0.56,0.64,0.61,0.68,0.76,0.86,0.9,0.71,0.62,0.66,0.65,0.73,0.62,0.74,0.79,0.8,0.69,0.7,0.76,0.84,0.78,0.67,0.66,0.65,0.54,0.58,0.79,0.8,0.75,0.73,0.72,0.62,0.67,0.81,0.63,0.69,0.8,0.43,0.8,0.73,0.75,0.71,0.73,0.83,0.72,0.94,0.81,0.81,0.75,0.79,0.58,0.59,0.47,0.49,0.47,0.42,0.57,0.62,0.74,0.73,0.64,0.63,0.59,0.73,0.79,0.68,0.7,0.81,0.85,0.93,0.91,0.69,0.77,0.86,0.74,0.57,0.51,0.67,0.72,0.89,0.95,0.79,0.39,0.38,0.34,0.47,0.56,0.71,0.78,0.73,0.82,0.62,0.96,0.96,0.46,0.53,0.49,0.76,0.64,0.71,0.84,0.77,0.89,0.82,0.84,0.91,0.67,0.95,0.63,0.66,0.78,0.91,0.62,0.52,0.61,0.58,0.57,0.61,0.54,0.56,0.59,0.49,0.72,0.76,0.65,0.52,0.6,0.58,0.42,0.77,0.73,0.94,0.91,0.92,0.71,0.71,0.69,0.95,0.74,0.73,0.86,0.71,0.64,0.55,0.58,0.61,0.67,0.66,0.53,0.79,0.92,0.87,0.92,0.91,0.93,0.84,0.8,0.79,0.82,0.89,0.93,0.73,0.71,0.59,0.51,0.37,0.69,0.89,0.77,0.68,0.62,0.57,0.45,0.54,0.71,0.78,0.81,0.86,0.87,0.64,0.9,0.67,0.67,0.59,0.62,0.65,0.71,0.79,0.8,0.78,0.83,0.71,0.73,0.7,0.68,0.79,0.76,0.65,0.67,0.54,0.53,0.62,0.68,0.87,0.96,0.93,0.73,0.84,1.0,1.0,1.0,1.0,0.0,1.0,1.0,0.0,0.0,0.0,1.0,1.0,1.0,1.0,1.0,0.0,0.0,1.0,0.0,0.0,1.0,0.0,1.0,1.0,1.0,1.0,0.0,1.0,0.0,0.0,1.0,1.0,1.0,1.0,1.0,1.0,0.0,0.0,0.0,0.0,1.0,1.0,1.0,0.0,1.0,1.0,1.0,0.0,1.0,1.0,1.0,1.0,1.0,1.0,0.0,0.0,0.0,0.0,1.0,0.0,0.0,0.0,1.0,1.0,0.0,0.0,0.0,1.0,1.0,1.0,1.0,1.0,1.0,1.0,0.0,1.0,1.0,0.0,1.0,0.0,1.0,1.0,1.0,1.0,1.0,0.0,0.0,0.0,0.0,1.0,1.0,0.0,0.0,1.0,0.0,0.0,0.0,1.0,1.0,1.0,1.0,0.0,0.0,0.0,1.0,1.0,1.0,1.0,1.0,0.0,0.0,1.0,1.0,0.0,1.0,1.0,0.0,0.0,0.0,1.0,1.0,1.0,0.0,0.0,0.0,1.0,1.0,1.0,1.0,1.0,1.0,0.0,0.0,0.0,1.0,1.0,0.0,1.0,1.0,0.0,1.0,1.0,1.0,1.0,1.0,1.0,0.0,1.0,1.0,1.0,1.0,1.0,1.0,0.0,0.0,0.0,0.0,0.0,0.0,0.0,0.0,0.0,0.0,0.0,1.0,0.0,0.0,0.0,1.0,0.0,1.0,1.0,1.0,1.0,1.0,1.0,1.0,0.0,0.0,0.0,0.0,0.0,0.0,0.0,0.0,1.0,1.0,1.0,1.0,1.0,1.0,1.0,1.0,1.0,0.0,1.0,0.0,0.0,0.0,0.0,1.0,1.0,1.0,1.0,0.0,0.0,0.0,1.0,0.0,1.0,1.0,1.0,1.0,1.0,1.0,1.0,1.0,1.0,1.0,0.0,0.0,0.0,0.0,0.0,0.0,0.0,0.0,0.0,0.0,1.0,0.0,1.0,0.0,0.0,1.0,1.0,1.0,1.0,0.0,0.0,0.0,0.0,1.0,1.0,0.0,1.0,0.0,0.0,1.0,1.0,1.0,0.0,1.0,1.0,0.0,0.0,0.0,1.0,1.0,1.0,1.0,0.0,1.0,1.0,1.0,0.0,0.0,1.0,0.0,0.0,1.0,0.0,0.0,1.0,0.0,1.0,1.0,0.0,0.0,0.0,1.0,1.0,1.0,1.0,1.0,1.0,1.0,1.0,0.0,0.0,0.0,0.0,0.0,1.0,1.0,0.0,0.0,0.0,1.0,0.0,0.0,0.0,1.0,1.0,0.0,1.0,1.0,1.0,0.0,0.0,1.0,1.0,1.0,0.0,0.0,0.0,0.0,0.0,1.0,1.0,1.0,1.0,0.0,0.0,0.0,1.0,0.0,0.0,1.0,0.0,1.0,1.0,1.0,1.0,1.0,1.0,0.0,1.0,1.0,1.0,1.0,1.0,0.0,0.0,0.0,0.0,0.0,0.0,0.0,0.0,1.0,1.0,1.0,0.0,0.0,0.0,1.0,1.0,0.0,0.0,1.0,1.0,1.0,0.0,1.0,1.0,1.0,0.0,0.0,1.0,0.0,1.0,1.0,1.0,0.0,0.0,0.0,0.0,0.0,1.0,1.0,1.0,1.0,0.0,1.0,1.0,0.0,0.0,0.0,1.0,0.0,0.0,1.0,0.0,1.0,1.0,1.0,1.0,0.0,1.0,0.0,0.0,1.0,1.0,1.0,0.0,1.0,1.0,1.0,0.0,0.0,0.0,1.0,1.0,1.0,1.0,0.0,0.0,0.0,1.0,0.0,1.0,1.0,1.0,1.0,1.0,0.0,1.0,0.0,1.0,1.0,1.0,1.0,0.0,0.0,0.0,1.0,1.0,1.0,0.0,0.0,1.0,1.0,1.0,1.0,1.0,1.0,1.0,0.0,0.0,1.0,1.0,1.0,1.0,0.0,0.0,0.0,0.0,1.0,1.0,1.0,1.0,0.0,0.0,0.0,0.0,1.0,1.0,1.0,1.0,1.0,0.0,1.0,0.0,1.0,0.0,0.0,0.0,1.0,1.0,1.0,1.0,1.0,0.0,1.0,1.0,0.0,0.0,1.0,0.0,1.0,0.0,1.0,1.0,1.0,1.0,1.0,1.0,0.0,0.0,4.5,4.5,3.5,2.5,3.0,3.0,4.0,4.0,1.5,3.0,4.0,4.5,4.5,3.0,2.0,2.5,3.0,3.0,3.0,3.0,2.0,2.0,5.0,4.5,3.5,4.5,3.5,2.5,2.0,2.0,3.0,4.0,4.5,4.0,5.0,5.0,4.0,2.0,1.5,3.5,3.0,2.5,2.0,4.0,4.0,4.0,5.0,4.0,5.0,4.0,4.5,3.5,3.0,2.5,3.5,3.0,3.0,2.0,2.0,2.0,3.0,3.0,3.0,3.0,3.5,3.5,3.0,3.5,4.0,4.0,5.0,5.0,5.0,4.0,5.0,4.0,3.0,2.0,2.0,2.0,3.0,5.0,4.5,4.5,4.5,3.5,3.5,3.0,3.5,3.5,4.0,3.5,3.0,3.0,2.5,2.5,3.0,4.0,4.5,4.0,3.5,3.0,3.5,4.0,3.0,4.5,4.5,4.5,5.0,4.0,3.0,4.0,3.5,3.5,3.0,4.5,3.5,2.5,3.5,3.5,5.0,4.5,2.5,3.5,3.0,3.0,3.0,2.0,3.0,5.0,4.5,4.5,3.5,4.5,4.0,4.0,4.0,3.0,3.0,3.5,3.0,3.5,3.5,4.0,3.5,2.5,2.5,3.0,3.5,3.0,4.0,5.0,5.0,4.0,3.5,3.0,2.5,2.5,2.5,2.0,2.0,3.0,3.0,3.0,4.0,4.0,5.0,3.0,4.0,3.0,3.5,4.5,5.0,4.5,4.0,3.5,4.5,3.5,3.0,3.0,3.0,2.5,3.5,4.0,4.0,4.5,3.0,3.5,3.5,5.0,4.0,5.0,4.0,5.0,3.0,3.5,2.5,2.5,4.5,4.5,3.0,3.0,4.5,5.0,4.0,3.0,3.0,4.0,3.0,4.0,4.0,4.0,5.0,4.5,5.0,4.5,4.5,4.0,3.5,3.5,4.0,4.0,4.0,4.0,2.0,2.5,4.0,3.0,3.5,3.0,4.5,2.5,3.5,3.5,4.0,4.0,4.5,5.0,3.5,2.0,3.0,2.0,3.0,3.0,4.0,2.5,3.5,3.5,4.0,4.0,2.5,3.0,3.5,4.5,5.0,4.5,4.0,5.0,5.0,4.5,3.5,4.0,4.0,1.5,2.5,2.5,2.5,3.5,5.0,5.0,3.0,2.0,1.5,1.5,2.5,3.0,4.5,3.0,3.5,4.0,4.0,4.5,3.5,3.0,4.5,4.0,4.0,4.5,5.0,3.5,3.0,2.0,2.0,3.0,2.0,2.5,3.5,4.5,4.5,3.5,2.5,3.0,3.0,3.5,2.0,3.5,3.5,4.0,3.0,3.0,3.5,4.0,4.5,3.0,4.0,3.0,2.0,2.5,2.0,3.0,3.5,4.0,4.0,2.5,2.5,4.0,2.0,2.0,3.5,1.5,3.0,2.0,2.5,3.5,4.0,4.5,2.5,5.0,4.0,4.0,3.0,3.5,3.0,3.5,2.0,2.0,2.0,1.0,2.0,3.0,3.5,4.0,3.5,2.5,3.0,3.5,4.0,3.5,2.0,1.5,5.0,3.5,5.0,3.0,4.0,3.0,4.5,2.5,2.0,3.0,2.5,3.0,4.0,3.0,2.5,2.5,2.0,2.0,2.5,3.0,4.0,3.5,4.0,3.5,5.0,5.0,3.5,3.5,2.0,4.0,2.5,3.0,3.5,3.0,4.0,3.5,3.5,4.5,4.0,4.0,3.0,3.0,3.0,3.5,2.5,3.0,2.5,4.0,4.0,2.5,4.0,1.5,2.0,2.0,4.0,4.5,2.5,2.0,4.0,3.5,3.0,4.5,2.5,5.0,5.0,5.0,5.0,5.0,4.5,4.5,3.5,3.5,4.0,5.0,3.0,4.0,4.0,3.5,3.5,3.0,1.5,3.0,4.5,4.5,5.0,5.0,5.0,5.0,4.0,4.5,4.5,4.5,3.5,4.0,3.5,2.5,2.0,1.5,3.0,3.5,4.5,2.0,3.0,3.0,3.0,4.5,4.5,5.0,5.0,3.5,4.0,4.0,4.5,3.5,2.5,2.5,2.0,2.0,4.5,4.0,4.0,2.5,2.5,3.0,3.0,3.5,2.5,4.0,4.0,4.5,4.5,3.5,4.5,1.5,2.0,4.0,5.0,5.0,5.0,4.5,337.0,324.0,316.0,322.0,314.0,330.0,321.0,308.0,302.0,323.0,325.0,327.0,328.0,307.0,311.0,314.0,317.0,319.0,318.0,303.0,312.0,325.0,328.0,334.0,336.0,340.0,322.0,298.0,295.0,310.0,300.0,327.0,338.0,340.0,331.0,320.0,299.0,300.0,304.0,307.0,308.0,316.0,313.0,332.0,326.0,322.0,329.0,339.0,321.0,327.0,313.0,312.0,334.0,324.0,322.0,320.0,316.0,298.0,300.0,311.0,309.0,307.0,304.0,315.0,325.0,325.0,327.0,316.0,318.0,328.0,332.0,336.0,321.0,314.0,314.0,329.0,327.0,301.0,296.0,294.0,312.0,340.0,320.0,322.0,340.0,319.0,315.0,317.0,314.0,316.0,318.0,299.0,298.0,301.0,303.0,304.0,306.0,331.0,332.0,323.0,322.0,312.0,314.0,317.0,326.0,316.0,329.0,338.0,331.0,304.0,305.0,321.0,301.0,320.0,311.0,310.0,299.0,290.0,296.0,327.0,335.0,334.0,310.0,308.0,301.0,300.0,323.0,319.0,326.0,333.0,339.0,303.0,309.0,323.0,333.0,314.0,312.0,316.0,326.0,318.0,329.0,332.0,331.0,340.0,325.0,320.0,315.0,326.0,339.0,311.0,334.0,332.0,321.0,324.0,326.0,312.0,315.0,309.0,306.0,297.0,315.0,298.0,318.0,317.0,329.0,322.0,302.0,313.0,293.0,311.0,312.0,334.0,322.0,323.0,321.0,320.0,329.0,319.0,309.0,307.0,300.0,305.0,299.0,314.0,316.0,327.0,317.0,335.0,331.0,324.0,324.0,323.0,322.0,336.0,316.0,307.0,306.0,310.0,311.0,313.0,317.0,315.0,340.0,334.0,298.0,295.0,315.0,310.0,305.0,301.0,325.0,328.0,338.0,333.0,331.0,330.0,322.0,321.0,324.0,312.0,313.0,316.0,324.0,308.0,305.0,296.0,306.0,312.0,318.0,324.0,313.0,319.0,312.0,304.0,330.0,326.0,325.0,329.0,310.0,299.0,296.0,317.0,324.0,325.0,314.0,328.0,316.0,311.0,324.0,321.0,320.0,316.0,318.0,335.0,321.0,307.0,309.0,324.0,326.0,331.0,327.0,312.0,308.0,324.0,325.0,313.0,312.0,314.0,327.0,308.0,306.0,299.0,294.0,312.0,315.0,322.0,329.0,320.0,308.0,304.0,311.0,317.0,312.0,321.0,340.0,331.0,336.0,324.0,314.0,313.0,307.0,300.0,302.0,312.0,316.0,317.0,310.0,320.0,330.0,305.0,309.0,319.0,322.0,323.0,313.0,321.0,323.0,325.0,312.0,308.0,320.0,328.0,311.0,301.0,305.0,308.0,298.0,300.0,324.0,327.0,317.0,323.0,314.0,305.0,315.0,326.0,299.0,295.0,324.0,297.0,327.0,311.0,308.0,319.0,312.0,325.0,319.0,332.0,323.0,324.0,312.0,326.0,308.0,305.0,295.0,316.0,304.0,299.0,302.0,313.0,318.0,325.0,303.0,300.0,297.0,317.0,327.0,301.0,314.0,321.0,322.0,334.0,338.0,306.0,313.0,330.0,320.0,311.0,298.0,301.0,310.0,324.0,336.0,321.0,315.0,304.0,297.0,290.0,303.0,311.0,322.0,319.0,324.0,300.0,340.0,335.0,302.0,307.0,296.0,320.0,314.0,318.0,326.0,317.0,329.0,324.0,325.0,330.0,312.0,333.0,304.0,315.0,324.0,330.0,311.0,302.0,322.0,298.0,297.0,300.0,301.0,313.0,314.0,317.0,321.0,327.0,315.0,316.0,309.0,308.0,299.0,321.0,322.0,334.0,325.0,323.0,312.0,310.0,316.0,340.0,311.0,320.0,324.0,316.0,306.0,309.0,310.0,317.0,318.0,312.0,305.0,332.0,331.0,321.0,324.0,328.0,327.0,320.0,312.0,315.0,320.0,324.0,328.0,319.0,310.0,305.0,299.0,295.0,312.0,329.0,319.0,301.0,307.0,304.0,298.0,305.0,314.0,318.0,323.0,326.0,320.0,311.0,327.0,316.0,308.0,300.0,304.0,309.0,318.0,325.0,321.0,323.0,328.0,304.0,317.0,311.0,319.0,327.0,322.0,302.0,307.0,297.0,298.0,300.0,301.0,332.0,337.0,330.0,312.0,327.0,1.0,2.0,3.0,4.0,5.0,6.0,7.0,8.0,9.0,10.0,11.0,12.0,13.0,14.0,15.0,16.0,17.0,18.0,19.0,20.0,21.0,22.0,23.0,24.0,25.0,26.0,27.0,28.0,29.0,30.0,31.0,32.0,33.0,34.0,35.0,36.0,37.0,38.0,39.0,40.0,41.0,42.0,43.0,44.0,45.0,46.0,47.0,48.0,49.0,50.0,51.0,52.0,53.0,54.0,55.0,56.0,57.0,58.0,59.0,60.0,61.0,62.0,63.0,64.0,65.0,66.0,67.0,68.0,69.0,70.0,71.0,72.0,73.0,74.0,75.0,76.0,77.0,78.0,79.0,80.0,81.0,82.0,83.0,84.0,85.0,86.0,87.0,88.0,89.0,90.0,91.0,92.0,93.0,94.0,95.0,96.0,97.0,98.0,99.0,100.0,101.0,102.0,103.0,104.0,105.0,106.0,107.0,108.0,109.0,110.0,111.0,112.0,113.0,114.0,115.0,116.0,117.0,118.0,119.0,120.0,121.0,122.0,123.0,124.0,125.0,126.0,127.0,128.0,129.0,130.0,131.0,132.0,133.0,134.0,135.0,136.0,137.0,138.0,139.0,140.0,141.0,142.0,143.0,144.0,145.0,146.0,147.0,148.0,149.0,150.0,151.0,152.0,153.0,154.0,155.0,156.0,157.0,158.0,159.0,160.0,161.0,162.0,163.0,164.0,165.0,166.0,167.0,168.0,169.0,170.0,171.0,172.0,173.0,174.0,175.0,176.0,177.0,178.0,179.0,180.0,181.0,182.0,183.0,184.0,185.0,186.0,187.0,188.0,189.0,190.0,191.0,192.0,193.0,194.0,195.0,196.0,197.0,198.0,199.0,200.0,201.0,202.0,203.0,204.0,205.0,206.0,207.0,208.0,209.0,210.0,211.0,212.0,213.0,214.0,215.0,216.0,217.0,218.0,219.0,220.0,221.0,222.0,223.0,224.0,225.0,226.0,227.0,228.0,229.0,230.0,231.0,232.0,233.0,234.0,235.0,236.0,237.0,238.0,239.0,240.0,241.0,242.0,243.0,244.0,245.0,246.0,247.0,248.0,249.0,250.0,251.0,252.0,253.0,254.0,255.0,256.0,257.0,258.0,259.0,260.0,261.0,262.0,263.0,264.0,265.0,266.0,267.0,268.0,269.0,270.0,271.0,272.0,273.0,274.0,275.0,276.0,277.0,278.0,279.0,280.0,281.0,282.0,283.0,284.0,285.0,286.0,287.0,288.0,289.0,290.0,291.0,292.0,293.0,294.0,295.0,296.0,297.0,298.0,299.0,300.0,301.0,302.0,303.0,304.0,305.0,306.0,307.0,308.0,309.0,310.0,311.0,312.0,313.0,314.0,315.0,316.0,317.0,318.0,319.0,320.0,321.0,322.0,323.0,324.0,325.0,326.0,327.0,328.0,329.0,330.0,331.0,332.0,333.0,334.0,335.0,336.0,337.0,338.0,339.0,340.0,341.0,342.0,343.0,344.0,345.0,346.0,347.0,348.0,349.0,350.0,351.0,352.0,353.0,354.0,355.0,356.0,357.0,358.0,359.0,360.0,361.0,362.0,363.0,364.0,365.0,366.0,367.0,368.0,369.0,370.0,371.0,372.0,373.0,374.0,375.0,376.0,377.0,378.0,379.0,380.0,381.0,382.0,383.0,384.0,385.0,386.0,387.0,388.0,389.0,390.0,391.0,392.0,393.0,394.0,395.0,396.0,397.0,398.0,399.0,400.0,401.0,402.0,403.0,404.0,405.0,406.0,407.0,408.0,409.0,410.0,411.0,412.0,413.0,414.0,415.0,416.0,417.0,418.0,419.0,420.0,421.0,422.0,423.0,424.0,425.0,426.0,427.0,428.0,429.0,430.0,431.0,432.0,433.0,434.0,435.0,436.0,437.0,438.0,439.0,440.0,441.0,442.0,443.0,444.0,445.0,446.0,447.0,448.0,449.0,450.0,451.0,452.0,453.0,454.0,455.0,456.0,457.0,458.0,459.0,460.0,461.0,462.0,463.0,464.0,465.0,466.0,467.0,468.0,469.0,470.0,471.0,472.0,473.0,474.0,475.0,476.0,477.0,478.0,479.0,480.0,481.0,482.0,483.0,484.0,485.0,486.0,487.0,488.0,489.0,490.0,491.0,492.0,493.0,494.0,495.0,496.0,497.0,498.0,499.0,500.0],\"y0\":\" \",\"yaxis\":\"y\",\"type\":\"box\"}],                        {\"template\":{\"data\":{\"barpolar\":[{\"marker\":{\"line\":{\"color\":\"rgb(17,17,17)\",\"width\":0.5},\"pattern\":{\"fillmode\":\"overlay\",\"size\":10,\"solidity\":0.2}},\"type\":\"barpolar\"}],\"bar\":[{\"error_x\":{\"color\":\"#f2f5fa\"},\"error_y\":{\"color\":\"#f2f5fa\"},\"marker\":{\"line\":{\"color\":\"rgb(17,17,17)\",\"width\":0.5},\"pattern\":{\"fillmode\":\"overlay\",\"size\":10,\"solidity\":0.2}},\"type\":\"bar\"}],\"carpet\":[{\"aaxis\":{\"endlinecolor\":\"#A2B1C6\",\"gridcolor\":\"#506784\",\"linecolor\":\"#506784\",\"minorgridcolor\":\"#506784\",\"startlinecolor\":\"#A2B1C6\"},\"baxis\":{\"endlinecolor\":\"#A2B1C6\",\"gridcolor\":\"#506784\",\"linecolor\":\"#506784\",\"minorgridcolor\":\"#506784\",\"startlinecolor\":\"#A2B1C6\"},\"type\":\"carpet\"}],\"choropleth\":[{\"colorbar\":{\"outlinewidth\":0,\"ticks\":\"\"},\"type\":\"choropleth\"}],\"contourcarpet\":[{\"colorbar\":{\"outlinewidth\":0,\"ticks\":\"\"},\"type\":\"contourcarpet\"}],\"contour\":[{\"colorbar\":{\"outlinewidth\":0,\"ticks\":\"\"},\"colorscale\":[[0.0,\"#0d0887\"],[0.1111111111111111,\"#46039f\"],[0.2222222222222222,\"#7201a8\"],[0.3333333333333333,\"#9c179e\"],[0.4444444444444444,\"#bd3786\"],[0.5555555555555556,\"#d8576b\"],[0.6666666666666666,\"#ed7953\"],[0.7777777777777778,\"#fb9f3a\"],[0.8888888888888888,\"#fdca26\"],[1.0,\"#f0f921\"]],\"type\":\"contour\"}],\"heatmapgl\":[{\"colorbar\":{\"outlinewidth\":0,\"ticks\":\"\"},\"colorscale\":[[0.0,\"#0d0887\"],[0.1111111111111111,\"#46039f\"],[0.2222222222222222,\"#7201a8\"],[0.3333333333333333,\"#9c179e\"],[0.4444444444444444,\"#bd3786\"],[0.5555555555555556,\"#d8576b\"],[0.6666666666666666,\"#ed7953\"],[0.7777777777777778,\"#fb9f3a\"],[0.8888888888888888,\"#fdca26\"],[1.0,\"#f0f921\"]],\"type\":\"heatmapgl\"}],\"heatmap\":[{\"colorbar\":{\"outlinewidth\":0,\"ticks\":\"\"},\"colorscale\":[[0.0,\"#0d0887\"],[0.1111111111111111,\"#46039f\"],[0.2222222222222222,\"#7201a8\"],[0.3333333333333333,\"#9c179e\"],[0.4444444444444444,\"#bd3786\"],[0.5555555555555556,\"#d8576b\"],[0.6666666666666666,\"#ed7953\"],[0.7777777777777778,\"#fb9f3a\"],[0.8888888888888888,\"#fdca26\"],[1.0,\"#f0f921\"]],\"type\":\"heatmap\"}],\"histogram2dcontour\":[{\"colorbar\":{\"outlinewidth\":0,\"ticks\":\"\"},\"colorscale\":[[0.0,\"#0d0887\"],[0.1111111111111111,\"#46039f\"],[0.2222222222222222,\"#7201a8\"],[0.3333333333333333,\"#9c179e\"],[0.4444444444444444,\"#bd3786\"],[0.5555555555555556,\"#d8576b\"],[0.6666666666666666,\"#ed7953\"],[0.7777777777777778,\"#fb9f3a\"],[0.8888888888888888,\"#fdca26\"],[1.0,\"#f0f921\"]],\"type\":\"histogram2dcontour\"}],\"histogram2d\":[{\"colorbar\":{\"outlinewidth\":0,\"ticks\":\"\"},\"colorscale\":[[0.0,\"#0d0887\"],[0.1111111111111111,\"#46039f\"],[0.2222222222222222,\"#7201a8\"],[0.3333333333333333,\"#9c179e\"],[0.4444444444444444,\"#bd3786\"],[0.5555555555555556,\"#d8576b\"],[0.6666666666666666,\"#ed7953\"],[0.7777777777777778,\"#fb9f3a\"],[0.8888888888888888,\"#fdca26\"],[1.0,\"#f0f921\"]],\"type\":\"histogram2d\"}],\"histogram\":[{\"marker\":{\"pattern\":{\"fillmode\":\"overlay\",\"size\":10,\"solidity\":0.2}},\"type\":\"histogram\"}],\"mesh3d\":[{\"colorbar\":{\"outlinewidth\":0,\"ticks\":\"\"},\"type\":\"mesh3d\"}],\"parcoords\":[{\"line\":{\"colorbar\":{\"outlinewidth\":0,\"ticks\":\"\"}},\"type\":\"parcoords\"}],\"pie\":[{\"automargin\":true,\"type\":\"pie\"}],\"scatter3d\":[{\"line\":{\"colorbar\":{\"outlinewidth\":0,\"ticks\":\"\"}},\"marker\":{\"colorbar\":{\"outlinewidth\":0,\"ticks\":\"\"}},\"type\":\"scatter3d\"}],\"scattercarpet\":[{\"marker\":{\"colorbar\":{\"outlinewidth\":0,\"ticks\":\"\"}},\"type\":\"scattercarpet\"}],\"scattergeo\":[{\"marker\":{\"colorbar\":{\"outlinewidth\":0,\"ticks\":\"\"}},\"type\":\"scattergeo\"}],\"scattergl\":[{\"marker\":{\"line\":{\"color\":\"#283442\"}},\"type\":\"scattergl\"}],\"scattermapbox\":[{\"marker\":{\"colorbar\":{\"outlinewidth\":0,\"ticks\":\"\"}},\"type\":\"scattermapbox\"}],\"scatterpolargl\":[{\"marker\":{\"colorbar\":{\"outlinewidth\":0,\"ticks\":\"\"}},\"type\":\"scatterpolargl\"}],\"scatterpolar\":[{\"marker\":{\"colorbar\":{\"outlinewidth\":0,\"ticks\":\"\"}},\"type\":\"scatterpolar\"}],\"scatter\":[{\"marker\":{\"line\":{\"color\":\"#283442\"}},\"type\":\"scatter\"}],\"scatterternary\":[{\"marker\":{\"colorbar\":{\"outlinewidth\":0,\"ticks\":\"\"}},\"type\":\"scatterternary\"}],\"surface\":[{\"colorbar\":{\"outlinewidth\":0,\"ticks\":\"\"},\"colorscale\":[[0.0,\"#0d0887\"],[0.1111111111111111,\"#46039f\"],[0.2222222222222222,\"#7201a8\"],[0.3333333333333333,\"#9c179e\"],[0.4444444444444444,\"#bd3786\"],[0.5555555555555556,\"#d8576b\"],[0.6666666666666666,\"#ed7953\"],[0.7777777777777778,\"#fb9f3a\"],[0.8888888888888888,\"#fdca26\"],[1.0,\"#f0f921\"]],\"type\":\"surface\"}],\"table\":[{\"cells\":{\"fill\":{\"color\":\"#506784\"},\"line\":{\"color\":\"rgb(17,17,17)\"}},\"header\":{\"fill\":{\"color\":\"#2a3f5f\"},\"line\":{\"color\":\"rgb(17,17,17)\"}},\"type\":\"table\"}]},\"layout\":{\"annotationdefaults\":{\"arrowcolor\":\"#f2f5fa\",\"arrowhead\":0,\"arrowwidth\":1},\"autotypenumbers\":\"strict\",\"coloraxis\":{\"colorbar\":{\"outlinewidth\":0,\"ticks\":\"\"}},\"colorscale\":{\"diverging\":[[0,\"#8e0152\"],[0.1,\"#c51b7d\"],[0.2,\"#de77ae\"],[0.3,\"#f1b6da\"],[0.4,\"#fde0ef\"],[0.5,\"#f7f7f7\"],[0.6,\"#e6f5d0\"],[0.7,\"#b8e186\"],[0.8,\"#7fbc41\"],[0.9,\"#4d9221\"],[1,\"#276419\"]],\"sequential\":[[0.0,\"#0d0887\"],[0.1111111111111111,\"#46039f\"],[0.2222222222222222,\"#7201a8\"],[0.3333333333333333,\"#9c179e\"],[0.4444444444444444,\"#bd3786\"],[0.5555555555555556,\"#d8576b\"],[0.6666666666666666,\"#ed7953\"],[0.7777777777777778,\"#fb9f3a\"],[0.8888888888888888,\"#fdca26\"],[1.0,\"#f0f921\"]],\"sequentialminus\":[[0.0,\"#0d0887\"],[0.1111111111111111,\"#46039f\"],[0.2222222222222222,\"#7201a8\"],[0.3333333333333333,\"#9c179e\"],[0.4444444444444444,\"#bd3786\"],[0.5555555555555556,\"#d8576b\"],[0.6666666666666666,\"#ed7953\"],[0.7777777777777778,\"#fb9f3a\"],[0.8888888888888888,\"#fdca26\"],[1.0,\"#f0f921\"]]},\"colorway\":[\"#636efa\",\"#EF553B\",\"#00cc96\",\"#ab63fa\",\"#FFA15A\",\"#19d3f3\",\"#FF6692\",\"#B6E880\",\"#FF97FF\",\"#FECB52\"],\"font\":{\"color\":\"#f2f5fa\"},\"geo\":{\"bgcolor\":\"rgb(17,17,17)\",\"lakecolor\":\"rgb(17,17,17)\",\"landcolor\":\"rgb(17,17,17)\",\"showlakes\":true,\"showland\":true,\"subunitcolor\":\"#506784\"},\"hoverlabel\":{\"align\":\"left\"},\"hovermode\":\"closest\",\"mapbox\":{\"style\":\"dark\"},\"paper_bgcolor\":\"rgb(17,17,17)\",\"plot_bgcolor\":\"rgb(17,17,17)\",\"polar\":{\"angularaxis\":{\"gridcolor\":\"#506784\",\"linecolor\":\"#506784\",\"ticks\":\"\"},\"bgcolor\":\"rgb(17,17,17)\",\"radialaxis\":{\"gridcolor\":\"#506784\",\"linecolor\":\"#506784\",\"ticks\":\"\"}},\"scene\":{\"xaxis\":{\"backgroundcolor\":\"rgb(17,17,17)\",\"gridcolor\":\"#506784\",\"gridwidth\":2,\"linecolor\":\"#506784\",\"showbackground\":true,\"ticks\":\"\",\"zerolinecolor\":\"#C8D4E3\"},\"yaxis\":{\"backgroundcolor\":\"rgb(17,17,17)\",\"gridcolor\":\"#506784\",\"gridwidth\":2,\"linecolor\":\"#506784\",\"showbackground\":true,\"ticks\":\"\",\"zerolinecolor\":\"#C8D4E3\"},\"zaxis\":{\"backgroundcolor\":\"rgb(17,17,17)\",\"gridcolor\":\"#506784\",\"gridwidth\":2,\"linecolor\":\"#506784\",\"showbackground\":true,\"ticks\":\"\",\"zerolinecolor\":\"#C8D4E3\"}},\"shapedefaults\":{\"line\":{\"color\":\"#f2f5fa\"}},\"sliderdefaults\":{\"bgcolor\":\"#C8D4E3\",\"bordercolor\":\"rgb(17,17,17)\",\"borderwidth\":1,\"tickwidth\":0},\"ternary\":{\"aaxis\":{\"gridcolor\":\"#506784\",\"linecolor\":\"#506784\",\"ticks\":\"\"},\"baxis\":{\"gridcolor\":\"#506784\",\"linecolor\":\"#506784\",\"ticks\":\"\"},\"bgcolor\":\"rgb(17,17,17)\",\"caxis\":{\"gridcolor\":\"#506784\",\"linecolor\":\"#506784\",\"ticks\":\"\"}},\"title\":{\"x\":0.05},\"updatemenudefaults\":{\"bgcolor\":\"#506784\",\"borderwidth\":0},\"xaxis\":{\"automargin\":true,\"gridcolor\":\"#283442\",\"linecolor\":\"#506784\",\"ticks\":\"\",\"title\":{\"standoff\":15},\"zerolinecolor\":\"#283442\",\"zerolinewidth\":2},\"yaxis\":{\"automargin\":true,\"gridcolor\":\"#283442\",\"linecolor\":\"#506784\",\"ticks\":\"\",\"title\":{\"standoff\":15},\"zerolinecolor\":\"#283442\",\"zerolinewidth\":2}}},\"xaxis\":{\"anchor\":\"y\",\"domain\":[0.0,1.0],\"title\":{\"text\":\"variable\",\"font\":{\"size\":14},\"standoff\":25}},\"yaxis\":{\"anchor\":\"x\",\"domain\":[0.0,1.0],\"title\":{\"text\":\"value\"}},\"legend\":{\"tracegroupgap\":0},\"margin\":{\"t\":60},\"boxmode\":\"group\",\"font\":{\"color\":\"white\",\"size\":20},\"title\":{\"text\":\"Box Plot\"},\"barmode\":\"overlay\"},                        {\"responsive\": true}                    ).then(function(){\n",
              "                            \n",
              "var gd = document.getElementById('2b2897dd-2f54-4298-9efc-6f9541398375');\n",
              "var x = new MutationObserver(function (mutations, observer) {{\n",
              "        var display = window.getComputedStyle(gd).display;\n",
              "        if (!display || display === 'none') {{\n",
              "            console.log([gd, 'removed!']);\n",
              "            Plotly.purge(gd);\n",
              "            observer.disconnect();\n",
              "        }}\n",
              "}});\n",
              "\n",
              "// Listen for the removal of the full notebook cells\n",
              "var notebookContainer = gd.closest('#notebook-container');\n",
              "if (notebookContainer) {{\n",
              "    x.observe(notebookContainer, {childList: true});\n",
              "}}\n",
              "\n",
              "// Listen for the clearing of the current output cell\n",
              "var outputEl = gd.closest('.output');\n",
              "if (outputEl) {{\n",
              "    x.observe(outputEl, {childList: true});\n",
              "}}\n",
              "\n",
              "                        })                };                            </script>        </div>\n",
              "</body>\n",
              "</html>"
            ]
          },
          "metadata": {}
        }
      ]
    },
    {
      "cell_type": "code",
      "execution_count": 21,
      "metadata": {
        "colab": {
          "base_uri": "https://localhost:8080/"
        },
        "id": "8iUAkCmTtYT5",
        "outputId": "06383d65-fe2c-402c-c585-ac7f45290c12"
      },
      "outputs": [
        {
          "output_type": "stream",
          "name": "stdout",
          "text": [
            "<class 'pandas.core.frame.DataFrame'>\n",
            "RangeIndex: 500 entries, 0 to 499\n",
            "Data columns (total 9 columns):\n",
            " #   Column             Non-Null Count  Dtype  \n",
            "---  ------             --------------  -----  \n",
            " 0   Serial No.         500 non-null    int64  \n",
            " 1   GRE Score          500 non-null    int64  \n",
            " 2   TOEFL Score        500 non-null    int64  \n",
            " 3   University Rating  500 non-null    int64  \n",
            " 4   SOP                500 non-null    float64\n",
            " 5   LOR                500 non-null    float64\n",
            " 6   CGPA               500 non-null    float64\n",
            " 7   Research           500 non-null    int64  \n",
            " 8   Chance of Admit    500 non-null    float64\n",
            "dtypes: float64(4), int64(5)\n",
            "memory usage: 35.3 KB\n"
          ]
        }
      ],
      "source": [
        "df.info()"
      ]
    },
    {
      "cell_type": "markdown",
      "source": [
        "# Null Values"
      ],
      "metadata": {
        "id": "T9trL_ildVwy"
      }
    },
    {
      "cell_type": "code",
      "source": [
        "df_null = df[df.columns[df.isnull().sum()>0]].isnull().astype(float)\n",
        "aka_plot_.plot_heatmap(df_null)"
      ],
      "metadata": {
        "colab": {
          "base_uri": "https://localhost:8080/",
          "height": 69
        },
        "id": "QjDTC8T3cY8B",
        "outputId": "05fd774f-f2e1-4ad7-cd17-87bdc007c5a2"
      },
      "execution_count": 22,
      "outputs": [
        {
          "output_type": "stream",
          "name": "stdout",
          "text": [
            "Empty list is provided\n"
          ]
        },
        {
          "output_type": "execute_result",
          "data": {
            "text/plain": [
              "<Figure size 300x200 with 0 Axes>"
            ]
          },
          "metadata": {},
          "execution_count": 22
        },
        {
          "output_type": "display_data",
          "data": {
            "text/plain": [
              "<Figure size 300x200 with 0 Axes>"
            ]
          },
          "metadata": {}
        }
      ]
    },
    {
      "cell_type": "code",
      "source": [
        "aka_df_prepare().missing_data_processing(df, data_nan_drop=data_nan_drop)"
      ],
      "metadata": {
        "id": "9ynCNaSFpd52"
      },
      "execution_count": 25,
      "outputs": []
    },
    {
      "cell_type": "markdown",
      "source": [
        "# Clean Dataset"
      ],
      "metadata": {
        "id": "tufVDJy9nmly"
      }
    },
    {
      "cell_type": "markdown",
      "source": [
        "## Drop Duplicate data"
      ],
      "metadata": {
        "id": "nfkpctzENqNm"
      }
    },
    {
      "cell_type": "code",
      "source": [
        "df.drop_duplicates()"
      ],
      "metadata": {
        "id": "YwM7bJgfnkU_",
        "colab": {
          "base_uri": "https://localhost:8080/",
          "height": 424
        },
        "outputId": "c74e8c87-545d-4873-d2b5-f84bddb4987d"
      },
      "execution_count": 26,
      "outputs": [
        {
          "output_type": "execute_result",
          "data": {
            "text/plain": [
              "     Serial No.  GRE Score  TOEFL Score  University Rating  SOP  LOR   CGPA  \\\n",
              "0             1        337          118                  4  4.5   4.5  9.65   \n",
              "1             2        324          107                  4  4.0   4.5  8.87   \n",
              "2             3        316          104                  3  3.0   3.5  8.00   \n",
              "3             4        322          110                  3  3.5   2.5  8.67   \n",
              "4             5        314          103                  2  2.0   3.0  8.21   \n",
              "..          ...        ...          ...                ...  ...   ...   ...   \n",
              "495         496        332          108                  5  4.5   4.0  9.02   \n",
              "496         497        337          117                  5  5.0   5.0  9.87   \n",
              "497         498        330          120                  5  4.5   5.0  9.56   \n",
              "498         499        312          103                  4  4.0   5.0  8.43   \n",
              "499         500        327          113                  4  4.5   4.5  9.04   \n",
              "\n",
              "     Research  Chance of Admit   \n",
              "0           1              0.92  \n",
              "1           1              0.76  \n",
              "2           1              0.72  \n",
              "3           1              0.80  \n",
              "4           0              0.65  \n",
              "..        ...               ...  \n",
              "495         1              0.87  \n",
              "496         1              0.96  \n",
              "497         1              0.93  \n",
              "498         0              0.73  \n",
              "499         0              0.84  \n",
              "\n",
              "[500 rows x 9 columns]"
            ],
            "text/html": [
              "\n",
              "  <div id=\"df-59ae0125-2043-40a0-9384-3e90d56190b5\" class=\"colab-df-container\">\n",
              "    <div>\n",
              "<style scoped>\n",
              "    .dataframe tbody tr th:only-of-type {\n",
              "        vertical-align: middle;\n",
              "    }\n",
              "\n",
              "    .dataframe tbody tr th {\n",
              "        vertical-align: top;\n",
              "    }\n",
              "\n",
              "    .dataframe thead th {\n",
              "        text-align: right;\n",
              "    }\n",
              "</style>\n",
              "<table border=\"1\" class=\"dataframe\">\n",
              "  <thead>\n",
              "    <tr style=\"text-align: right;\">\n",
              "      <th></th>\n",
              "      <th>Serial No.</th>\n",
              "      <th>GRE Score</th>\n",
              "      <th>TOEFL Score</th>\n",
              "      <th>University Rating</th>\n",
              "      <th>SOP</th>\n",
              "      <th>LOR</th>\n",
              "      <th>CGPA</th>\n",
              "      <th>Research</th>\n",
              "      <th>Chance of Admit</th>\n",
              "    </tr>\n",
              "  </thead>\n",
              "  <tbody>\n",
              "    <tr>\n",
              "      <th>0</th>\n",
              "      <td>1</td>\n",
              "      <td>337</td>\n",
              "      <td>118</td>\n",
              "      <td>4</td>\n",
              "      <td>4.5</td>\n",
              "      <td>4.5</td>\n",
              "      <td>9.65</td>\n",
              "      <td>1</td>\n",
              "      <td>0.92</td>\n",
              "    </tr>\n",
              "    <tr>\n",
              "      <th>1</th>\n",
              "      <td>2</td>\n",
              "      <td>324</td>\n",
              "      <td>107</td>\n",
              "      <td>4</td>\n",
              "      <td>4.0</td>\n",
              "      <td>4.5</td>\n",
              "      <td>8.87</td>\n",
              "      <td>1</td>\n",
              "      <td>0.76</td>\n",
              "    </tr>\n",
              "    <tr>\n",
              "      <th>2</th>\n",
              "      <td>3</td>\n",
              "      <td>316</td>\n",
              "      <td>104</td>\n",
              "      <td>3</td>\n",
              "      <td>3.0</td>\n",
              "      <td>3.5</td>\n",
              "      <td>8.00</td>\n",
              "      <td>1</td>\n",
              "      <td>0.72</td>\n",
              "    </tr>\n",
              "    <tr>\n",
              "      <th>3</th>\n",
              "      <td>4</td>\n",
              "      <td>322</td>\n",
              "      <td>110</td>\n",
              "      <td>3</td>\n",
              "      <td>3.5</td>\n",
              "      <td>2.5</td>\n",
              "      <td>8.67</td>\n",
              "      <td>1</td>\n",
              "      <td>0.80</td>\n",
              "    </tr>\n",
              "    <tr>\n",
              "      <th>4</th>\n",
              "      <td>5</td>\n",
              "      <td>314</td>\n",
              "      <td>103</td>\n",
              "      <td>2</td>\n",
              "      <td>2.0</td>\n",
              "      <td>3.0</td>\n",
              "      <td>8.21</td>\n",
              "      <td>0</td>\n",
              "      <td>0.65</td>\n",
              "    </tr>\n",
              "    <tr>\n",
              "      <th>...</th>\n",
              "      <td>...</td>\n",
              "      <td>...</td>\n",
              "      <td>...</td>\n",
              "      <td>...</td>\n",
              "      <td>...</td>\n",
              "      <td>...</td>\n",
              "      <td>...</td>\n",
              "      <td>...</td>\n",
              "      <td>...</td>\n",
              "    </tr>\n",
              "    <tr>\n",
              "      <th>495</th>\n",
              "      <td>496</td>\n",
              "      <td>332</td>\n",
              "      <td>108</td>\n",
              "      <td>5</td>\n",
              "      <td>4.5</td>\n",
              "      <td>4.0</td>\n",
              "      <td>9.02</td>\n",
              "      <td>1</td>\n",
              "      <td>0.87</td>\n",
              "    </tr>\n",
              "    <tr>\n",
              "      <th>496</th>\n",
              "      <td>497</td>\n",
              "      <td>337</td>\n",
              "      <td>117</td>\n",
              "      <td>5</td>\n",
              "      <td>5.0</td>\n",
              "      <td>5.0</td>\n",
              "      <td>9.87</td>\n",
              "      <td>1</td>\n",
              "      <td>0.96</td>\n",
              "    </tr>\n",
              "    <tr>\n",
              "      <th>497</th>\n",
              "      <td>498</td>\n",
              "      <td>330</td>\n",
              "      <td>120</td>\n",
              "      <td>5</td>\n",
              "      <td>4.5</td>\n",
              "      <td>5.0</td>\n",
              "      <td>9.56</td>\n",
              "      <td>1</td>\n",
              "      <td>0.93</td>\n",
              "    </tr>\n",
              "    <tr>\n",
              "      <th>498</th>\n",
              "      <td>499</td>\n",
              "      <td>312</td>\n",
              "      <td>103</td>\n",
              "      <td>4</td>\n",
              "      <td>4.0</td>\n",
              "      <td>5.0</td>\n",
              "      <td>8.43</td>\n",
              "      <td>0</td>\n",
              "      <td>0.73</td>\n",
              "    </tr>\n",
              "    <tr>\n",
              "      <th>499</th>\n",
              "      <td>500</td>\n",
              "      <td>327</td>\n",
              "      <td>113</td>\n",
              "      <td>4</td>\n",
              "      <td>4.5</td>\n",
              "      <td>4.5</td>\n",
              "      <td>9.04</td>\n",
              "      <td>0</td>\n",
              "      <td>0.84</td>\n",
              "    </tr>\n",
              "  </tbody>\n",
              "</table>\n",
              "<p>500 rows × 9 columns</p>\n",
              "</div>\n",
              "    <div class=\"colab-df-buttons\">\n",
              "\n",
              "  <div class=\"colab-df-container\">\n",
              "    <button class=\"colab-df-convert\" onclick=\"convertToInteractive('df-59ae0125-2043-40a0-9384-3e90d56190b5')\"\n",
              "            title=\"Convert this dataframe to an interactive table.\"\n",
              "            style=\"display:none;\">\n",
              "\n",
              "  <svg xmlns=\"http://www.w3.org/2000/svg\" height=\"24px\" viewBox=\"0 -960 960 960\">\n",
              "    <path d=\"M120-120v-720h720v720H120Zm60-500h600v-160H180v160Zm220 220h160v-160H400v160Zm0 220h160v-160H400v160ZM180-400h160v-160H180v160Zm440 0h160v-160H620v160ZM180-180h160v-160H180v160Zm440 0h160v-160H620v160Z\"/>\n",
              "  </svg>\n",
              "    </button>\n",
              "\n",
              "  <style>\n",
              "    .colab-df-container {\n",
              "      display:flex;\n",
              "      gap: 12px;\n",
              "    }\n",
              "\n",
              "    .colab-df-convert {\n",
              "      background-color: #E8F0FE;\n",
              "      border: none;\n",
              "      border-radius: 50%;\n",
              "      cursor: pointer;\n",
              "      display: none;\n",
              "      fill: #1967D2;\n",
              "      height: 32px;\n",
              "      padding: 0 0 0 0;\n",
              "      width: 32px;\n",
              "    }\n",
              "\n",
              "    .colab-df-convert:hover {\n",
              "      background-color: #E2EBFA;\n",
              "      box-shadow: 0px 1px 2px rgba(60, 64, 67, 0.3), 0px 1px 3px 1px rgba(60, 64, 67, 0.15);\n",
              "      fill: #174EA6;\n",
              "    }\n",
              "\n",
              "    .colab-df-buttons div {\n",
              "      margin-bottom: 4px;\n",
              "    }\n",
              "\n",
              "    [theme=dark] .colab-df-convert {\n",
              "      background-color: #3B4455;\n",
              "      fill: #D2E3FC;\n",
              "    }\n",
              "\n",
              "    [theme=dark] .colab-df-convert:hover {\n",
              "      background-color: #434B5C;\n",
              "      box-shadow: 0px 1px 3px 1px rgba(0, 0, 0, 0.15);\n",
              "      filter: drop-shadow(0px 1px 2px rgba(0, 0, 0, 0.3));\n",
              "      fill: #FFFFFF;\n",
              "    }\n",
              "  </style>\n",
              "\n",
              "    <script>\n",
              "      const buttonEl =\n",
              "        document.querySelector('#df-59ae0125-2043-40a0-9384-3e90d56190b5 button.colab-df-convert');\n",
              "      buttonEl.style.display =\n",
              "        google.colab.kernel.accessAllowed ? 'block' : 'none';\n",
              "\n",
              "      async function convertToInteractive(key) {\n",
              "        const element = document.querySelector('#df-59ae0125-2043-40a0-9384-3e90d56190b5');\n",
              "        const dataTable =\n",
              "          await google.colab.kernel.invokeFunction('convertToInteractive',\n",
              "                                                    [key], {});\n",
              "        if (!dataTable) return;\n",
              "\n",
              "        const docLinkHtml = 'Like what you see? Visit the ' +\n",
              "          '<a target=\"_blank\" href=https://colab.research.google.com/notebooks/data_table.ipynb>data table notebook</a>'\n",
              "          + ' to learn more about interactive tables.';\n",
              "        element.innerHTML = '';\n",
              "        dataTable['output_type'] = 'display_data';\n",
              "        await google.colab.output.renderOutput(dataTable, element);\n",
              "        const docLink = document.createElement('div');\n",
              "        docLink.innerHTML = docLinkHtml;\n",
              "        element.appendChild(docLink);\n",
              "      }\n",
              "    </script>\n",
              "  </div>\n",
              "\n",
              "\n",
              "<div id=\"df-1860ef75-2534-4be6-91bf-86c6fa2c3774\">\n",
              "  <button class=\"colab-df-quickchart\" onclick=\"quickchart('df-1860ef75-2534-4be6-91bf-86c6fa2c3774')\"\n",
              "            title=\"Suggest charts\"\n",
              "            style=\"display:none;\">\n",
              "\n",
              "<svg xmlns=\"http://www.w3.org/2000/svg\" height=\"24px\"viewBox=\"0 0 24 24\"\n",
              "     width=\"24px\">\n",
              "    <g>\n",
              "        <path d=\"M19 3H5c-1.1 0-2 .9-2 2v14c0 1.1.9 2 2 2h14c1.1 0 2-.9 2-2V5c0-1.1-.9-2-2-2zM9 17H7v-7h2v7zm4 0h-2V7h2v10zm4 0h-2v-4h2v4z\"/>\n",
              "    </g>\n",
              "</svg>\n",
              "  </button>\n",
              "\n",
              "<style>\n",
              "  .colab-df-quickchart {\n",
              "      --bg-color: #E8F0FE;\n",
              "      --fill-color: #1967D2;\n",
              "      --hover-bg-color: #E2EBFA;\n",
              "      --hover-fill-color: #174EA6;\n",
              "      --disabled-fill-color: #AAA;\n",
              "      --disabled-bg-color: #DDD;\n",
              "  }\n",
              "\n",
              "  [theme=dark] .colab-df-quickchart {\n",
              "      --bg-color: #3B4455;\n",
              "      --fill-color: #D2E3FC;\n",
              "      --hover-bg-color: #434B5C;\n",
              "      --hover-fill-color: #FFFFFF;\n",
              "      --disabled-bg-color: #3B4455;\n",
              "      --disabled-fill-color: #666;\n",
              "  }\n",
              "\n",
              "  .colab-df-quickchart {\n",
              "    background-color: var(--bg-color);\n",
              "    border: none;\n",
              "    border-radius: 50%;\n",
              "    cursor: pointer;\n",
              "    display: none;\n",
              "    fill: var(--fill-color);\n",
              "    height: 32px;\n",
              "    padding: 0;\n",
              "    width: 32px;\n",
              "  }\n",
              "\n",
              "  .colab-df-quickchart:hover {\n",
              "    background-color: var(--hover-bg-color);\n",
              "    box-shadow: 0 1px 2px rgba(60, 64, 67, 0.3), 0 1px 3px 1px rgba(60, 64, 67, 0.15);\n",
              "    fill: var(--button-hover-fill-color);\n",
              "  }\n",
              "\n",
              "  .colab-df-quickchart-complete:disabled,\n",
              "  .colab-df-quickchart-complete:disabled:hover {\n",
              "    background-color: var(--disabled-bg-color);\n",
              "    fill: var(--disabled-fill-color);\n",
              "    box-shadow: none;\n",
              "  }\n",
              "\n",
              "  .colab-df-spinner {\n",
              "    border: 2px solid var(--fill-color);\n",
              "    border-color: transparent;\n",
              "    border-bottom-color: var(--fill-color);\n",
              "    animation:\n",
              "      spin 1s steps(1) infinite;\n",
              "  }\n",
              "\n",
              "  @keyframes spin {\n",
              "    0% {\n",
              "      border-color: transparent;\n",
              "      border-bottom-color: var(--fill-color);\n",
              "      border-left-color: var(--fill-color);\n",
              "    }\n",
              "    20% {\n",
              "      border-color: transparent;\n",
              "      border-left-color: var(--fill-color);\n",
              "      border-top-color: var(--fill-color);\n",
              "    }\n",
              "    30% {\n",
              "      border-color: transparent;\n",
              "      border-left-color: var(--fill-color);\n",
              "      border-top-color: var(--fill-color);\n",
              "      border-right-color: var(--fill-color);\n",
              "    }\n",
              "    40% {\n",
              "      border-color: transparent;\n",
              "      border-right-color: var(--fill-color);\n",
              "      border-top-color: var(--fill-color);\n",
              "    }\n",
              "    60% {\n",
              "      border-color: transparent;\n",
              "      border-right-color: var(--fill-color);\n",
              "    }\n",
              "    80% {\n",
              "      border-color: transparent;\n",
              "      border-right-color: var(--fill-color);\n",
              "      border-bottom-color: var(--fill-color);\n",
              "    }\n",
              "    90% {\n",
              "      border-color: transparent;\n",
              "      border-bottom-color: var(--fill-color);\n",
              "    }\n",
              "  }\n",
              "</style>\n",
              "\n",
              "  <script>\n",
              "    async function quickchart(key) {\n",
              "      const quickchartButtonEl =\n",
              "        document.querySelector('#' + key + ' button');\n",
              "      quickchartButtonEl.disabled = true;  // To prevent multiple clicks.\n",
              "      quickchartButtonEl.classList.add('colab-df-spinner');\n",
              "      try {\n",
              "        const charts = await google.colab.kernel.invokeFunction(\n",
              "            'suggestCharts', [key], {});\n",
              "      } catch (error) {\n",
              "        console.error('Error during call to suggestCharts:', error);\n",
              "      }\n",
              "      quickchartButtonEl.classList.remove('colab-df-spinner');\n",
              "      quickchartButtonEl.classList.add('colab-df-quickchart-complete');\n",
              "    }\n",
              "    (() => {\n",
              "      let quickchartButtonEl =\n",
              "        document.querySelector('#df-1860ef75-2534-4be6-91bf-86c6fa2c3774 button');\n",
              "      quickchartButtonEl.style.display =\n",
              "        google.colab.kernel.accessAllowed ? 'block' : 'none';\n",
              "    })();\n",
              "  </script>\n",
              "</div>\n",
              "\n",
              "    </div>\n",
              "  </div>\n"
            ],
            "application/vnd.google.colaboratory.intrinsic+json": {
              "type": "dataframe",
              "summary": "{\n  \"name\": \"df\",\n  \"rows\": 500,\n  \"fields\": [\n    {\n      \"column\": \"Serial No.\",\n      \"properties\": {\n        \"dtype\": \"number\",\n        \"std\": 144,\n        \"min\": 1,\n        \"max\": 500,\n        \"num_unique_values\": 500,\n        \"samples\": [\n          362,\n          74,\n          375\n        ],\n        \"semantic_type\": \"\",\n        \"description\": \"\"\n      }\n    },\n    {\n      \"column\": \"GRE Score\",\n      \"properties\": {\n        \"dtype\": \"number\",\n        \"std\": 11,\n        \"min\": 290,\n        \"max\": 340,\n        \"num_unique_values\": 49,\n        \"samples\": [\n          307,\n          335,\n          297\n        ],\n        \"semantic_type\": \"\",\n        \"description\": \"\"\n      }\n    },\n    {\n      \"column\": \"TOEFL Score\",\n      \"properties\": {\n        \"dtype\": \"number\",\n        \"std\": 6,\n        \"min\": 92,\n        \"max\": 120,\n        \"num_unique_values\": 29,\n        \"samples\": [\n          94,\n          119,\n          112\n        ],\n        \"semantic_type\": \"\",\n        \"description\": \"\"\n      }\n    },\n    {\n      \"column\": \"University Rating\",\n      \"properties\": {\n        \"dtype\": \"number\",\n        \"std\": 1,\n        \"min\": 1,\n        \"max\": 5,\n        \"num_unique_values\": 5,\n        \"samples\": [\n          3,\n          1,\n          2\n        ],\n        \"semantic_type\": \"\",\n        \"description\": \"\"\n      }\n    },\n    {\n      \"column\": \"SOP\",\n      \"properties\": {\n        \"dtype\": \"number\",\n        \"std\": 0.9910036207566072,\n        \"min\": 1.0,\n        \"max\": 5.0,\n        \"num_unique_values\": 9,\n        \"samples\": [\n          1.0,\n          4.0,\n          5.0\n        ],\n        \"semantic_type\": \"\",\n        \"description\": \"\"\n      }\n    },\n    {\n      \"column\": \"LOR \",\n      \"properties\": {\n        \"dtype\": \"number\",\n        \"std\": 0.9254495738978193,\n        \"min\": 1.0,\n        \"max\": 5.0,\n        \"num_unique_values\": 9,\n        \"samples\": [\n          5.0,\n          3.5,\n          1.5\n        ],\n        \"semantic_type\": \"\",\n        \"description\": \"\"\n      }\n    },\n    {\n      \"column\": \"CGPA\",\n      \"properties\": {\n        \"dtype\": \"number\",\n        \"std\": 0.6048128003332054,\n        \"min\": 6.8,\n        \"max\": 9.92,\n        \"num_unique_values\": 184,\n        \"samples\": [\n          9.6,\n          8.9,\n          8.24\n        ],\n        \"semantic_type\": \"\",\n        \"description\": \"\"\n      }\n    },\n    {\n      \"column\": \"Research\",\n      \"properties\": {\n        \"dtype\": \"number\",\n        \"std\": 0,\n        \"min\": 0,\n        \"max\": 1,\n        \"num_unique_values\": 2,\n        \"samples\": [\n          0,\n          1\n        ],\n        \"semantic_type\": \"\",\n        \"description\": \"\"\n      }\n    },\n    {\n      \"column\": \"Chance of Admit \",\n      \"properties\": {\n        \"dtype\": \"number\",\n        \"std\": 0.14114040395030228,\n        \"min\": 0.34,\n        \"max\": 0.97,\n        \"num_unique_values\": 61,\n        \"samples\": [\n          0.92,\n          0.9\n        ],\n        \"semantic_type\": \"\",\n        \"description\": \"\"\n      }\n    }\n  ]\n}"
            }
          },
          "metadata": {},
          "execution_count": 26
        }
      ]
    },
    {
      "cell_type": "markdown",
      "metadata": {
        "id": "xhpDvWQjWkTn"
      },
      "source": [
        "## Swap the target and the last feature"
      ]
    },
    {
      "cell_type": "code",
      "execution_count": 27,
      "metadata": {
        "colab": {
          "base_uri": "https://localhost:8080/",
          "height": 223
        },
        "id": "1pAqlbkSWVNq",
        "outputId": "9223b85b-f845-46e5-9e1e-f5a0cfe579b2"
      },
      "outputs": [
        {
          "output_type": "stream",
          "name": "stdout",
          "text": [
            "Invalid feature indices or feat_a is equal to feat_b.\n"
          ]
        },
        {
          "output_type": "execute_result",
          "data": {
            "text/plain": [
              "   Serial No.  GRE Score  TOEFL Score  University Rating  SOP  LOR   CGPA  \\\n",
              "0           1        337          118                  4  4.5   4.5  9.65   \n",
              "1           2        324          107                  4  4.0   4.5  8.87   \n",
              "2           3        316          104                  3  3.0   3.5  8.00   \n",
              "3           4        322          110                  3  3.5   2.5  8.67   \n",
              "4           5        314          103                  2  2.0   3.0  8.21   \n",
              "\n",
              "   Research  Chance of Admit   \n",
              "0         1              0.92  \n",
              "1         1              0.76  \n",
              "2         1              0.72  \n",
              "3         1              0.80  \n",
              "4         0              0.65  "
            ],
            "text/html": [
              "\n",
              "  <div id=\"df-06c1bb42-61b0-495d-87a6-cbeccefe1249\" class=\"colab-df-container\">\n",
              "    <div>\n",
              "<style scoped>\n",
              "    .dataframe tbody tr th:only-of-type {\n",
              "        vertical-align: middle;\n",
              "    }\n",
              "\n",
              "    .dataframe tbody tr th {\n",
              "        vertical-align: top;\n",
              "    }\n",
              "\n",
              "    .dataframe thead th {\n",
              "        text-align: right;\n",
              "    }\n",
              "</style>\n",
              "<table border=\"1\" class=\"dataframe\">\n",
              "  <thead>\n",
              "    <tr style=\"text-align: right;\">\n",
              "      <th></th>\n",
              "      <th>Serial No.</th>\n",
              "      <th>GRE Score</th>\n",
              "      <th>TOEFL Score</th>\n",
              "      <th>University Rating</th>\n",
              "      <th>SOP</th>\n",
              "      <th>LOR</th>\n",
              "      <th>CGPA</th>\n",
              "      <th>Research</th>\n",
              "      <th>Chance of Admit</th>\n",
              "    </tr>\n",
              "  </thead>\n",
              "  <tbody>\n",
              "    <tr>\n",
              "      <th>0</th>\n",
              "      <td>1</td>\n",
              "      <td>337</td>\n",
              "      <td>118</td>\n",
              "      <td>4</td>\n",
              "      <td>4.5</td>\n",
              "      <td>4.5</td>\n",
              "      <td>9.65</td>\n",
              "      <td>1</td>\n",
              "      <td>0.92</td>\n",
              "    </tr>\n",
              "    <tr>\n",
              "      <th>1</th>\n",
              "      <td>2</td>\n",
              "      <td>324</td>\n",
              "      <td>107</td>\n",
              "      <td>4</td>\n",
              "      <td>4.0</td>\n",
              "      <td>4.5</td>\n",
              "      <td>8.87</td>\n",
              "      <td>1</td>\n",
              "      <td>0.76</td>\n",
              "    </tr>\n",
              "    <tr>\n",
              "      <th>2</th>\n",
              "      <td>3</td>\n",
              "      <td>316</td>\n",
              "      <td>104</td>\n",
              "      <td>3</td>\n",
              "      <td>3.0</td>\n",
              "      <td>3.5</td>\n",
              "      <td>8.00</td>\n",
              "      <td>1</td>\n",
              "      <td>0.72</td>\n",
              "    </tr>\n",
              "    <tr>\n",
              "      <th>3</th>\n",
              "      <td>4</td>\n",
              "      <td>322</td>\n",
              "      <td>110</td>\n",
              "      <td>3</td>\n",
              "      <td>3.5</td>\n",
              "      <td>2.5</td>\n",
              "      <td>8.67</td>\n",
              "      <td>1</td>\n",
              "      <td>0.80</td>\n",
              "    </tr>\n",
              "    <tr>\n",
              "      <th>4</th>\n",
              "      <td>5</td>\n",
              "      <td>314</td>\n",
              "      <td>103</td>\n",
              "      <td>2</td>\n",
              "      <td>2.0</td>\n",
              "      <td>3.0</td>\n",
              "      <td>8.21</td>\n",
              "      <td>0</td>\n",
              "      <td>0.65</td>\n",
              "    </tr>\n",
              "  </tbody>\n",
              "</table>\n",
              "</div>\n",
              "    <div class=\"colab-df-buttons\">\n",
              "\n",
              "  <div class=\"colab-df-container\">\n",
              "    <button class=\"colab-df-convert\" onclick=\"convertToInteractive('df-06c1bb42-61b0-495d-87a6-cbeccefe1249')\"\n",
              "            title=\"Convert this dataframe to an interactive table.\"\n",
              "            style=\"display:none;\">\n",
              "\n",
              "  <svg xmlns=\"http://www.w3.org/2000/svg\" height=\"24px\" viewBox=\"0 -960 960 960\">\n",
              "    <path d=\"M120-120v-720h720v720H120Zm60-500h600v-160H180v160Zm220 220h160v-160H400v160Zm0 220h160v-160H400v160ZM180-400h160v-160H180v160Zm440 0h160v-160H620v160ZM180-180h160v-160H180v160Zm440 0h160v-160H620v160Z\"/>\n",
              "  </svg>\n",
              "    </button>\n",
              "\n",
              "  <style>\n",
              "    .colab-df-container {\n",
              "      display:flex;\n",
              "      gap: 12px;\n",
              "    }\n",
              "\n",
              "    .colab-df-convert {\n",
              "      background-color: #E8F0FE;\n",
              "      border: none;\n",
              "      border-radius: 50%;\n",
              "      cursor: pointer;\n",
              "      display: none;\n",
              "      fill: #1967D2;\n",
              "      height: 32px;\n",
              "      padding: 0 0 0 0;\n",
              "      width: 32px;\n",
              "    }\n",
              "\n",
              "    .colab-df-convert:hover {\n",
              "      background-color: #E2EBFA;\n",
              "      box-shadow: 0px 1px 2px rgba(60, 64, 67, 0.3), 0px 1px 3px 1px rgba(60, 64, 67, 0.15);\n",
              "      fill: #174EA6;\n",
              "    }\n",
              "\n",
              "    .colab-df-buttons div {\n",
              "      margin-bottom: 4px;\n",
              "    }\n",
              "\n",
              "    [theme=dark] .colab-df-convert {\n",
              "      background-color: #3B4455;\n",
              "      fill: #D2E3FC;\n",
              "    }\n",
              "\n",
              "    [theme=dark] .colab-df-convert:hover {\n",
              "      background-color: #434B5C;\n",
              "      box-shadow: 0px 1px 3px 1px rgba(0, 0, 0, 0.15);\n",
              "      filter: drop-shadow(0px 1px 2px rgba(0, 0, 0, 0.3));\n",
              "      fill: #FFFFFF;\n",
              "    }\n",
              "  </style>\n",
              "\n",
              "    <script>\n",
              "      const buttonEl =\n",
              "        document.querySelector('#df-06c1bb42-61b0-495d-87a6-cbeccefe1249 button.colab-df-convert');\n",
              "      buttonEl.style.display =\n",
              "        google.colab.kernel.accessAllowed ? 'block' : 'none';\n",
              "\n",
              "      async function convertToInteractive(key) {\n",
              "        const element = document.querySelector('#df-06c1bb42-61b0-495d-87a6-cbeccefe1249');\n",
              "        const dataTable =\n",
              "          await google.colab.kernel.invokeFunction('convertToInteractive',\n",
              "                                                    [key], {});\n",
              "        if (!dataTable) return;\n",
              "\n",
              "        const docLinkHtml = 'Like what you see? Visit the ' +\n",
              "          '<a target=\"_blank\" href=https://colab.research.google.com/notebooks/data_table.ipynb>data table notebook</a>'\n",
              "          + ' to learn more about interactive tables.';\n",
              "        element.innerHTML = '';\n",
              "        dataTable['output_type'] = 'display_data';\n",
              "        await google.colab.output.renderOutput(dataTable, element);\n",
              "        const docLink = document.createElement('div');\n",
              "        docLink.innerHTML = docLinkHtml;\n",
              "        element.appendChild(docLink);\n",
              "      }\n",
              "    </script>\n",
              "  </div>\n",
              "\n",
              "\n",
              "<div id=\"df-4a8ee514-0bf4-4bb8-a4dd-86d91fc029fe\">\n",
              "  <button class=\"colab-df-quickchart\" onclick=\"quickchart('df-4a8ee514-0bf4-4bb8-a4dd-86d91fc029fe')\"\n",
              "            title=\"Suggest charts\"\n",
              "            style=\"display:none;\">\n",
              "\n",
              "<svg xmlns=\"http://www.w3.org/2000/svg\" height=\"24px\"viewBox=\"0 0 24 24\"\n",
              "     width=\"24px\">\n",
              "    <g>\n",
              "        <path d=\"M19 3H5c-1.1 0-2 .9-2 2v14c0 1.1.9 2 2 2h14c1.1 0 2-.9 2-2V5c0-1.1-.9-2-2-2zM9 17H7v-7h2v7zm4 0h-2V7h2v10zm4 0h-2v-4h2v4z\"/>\n",
              "    </g>\n",
              "</svg>\n",
              "  </button>\n",
              "\n",
              "<style>\n",
              "  .colab-df-quickchart {\n",
              "      --bg-color: #E8F0FE;\n",
              "      --fill-color: #1967D2;\n",
              "      --hover-bg-color: #E2EBFA;\n",
              "      --hover-fill-color: #174EA6;\n",
              "      --disabled-fill-color: #AAA;\n",
              "      --disabled-bg-color: #DDD;\n",
              "  }\n",
              "\n",
              "  [theme=dark] .colab-df-quickchart {\n",
              "      --bg-color: #3B4455;\n",
              "      --fill-color: #D2E3FC;\n",
              "      --hover-bg-color: #434B5C;\n",
              "      --hover-fill-color: #FFFFFF;\n",
              "      --disabled-bg-color: #3B4455;\n",
              "      --disabled-fill-color: #666;\n",
              "  }\n",
              "\n",
              "  .colab-df-quickchart {\n",
              "    background-color: var(--bg-color);\n",
              "    border: none;\n",
              "    border-radius: 50%;\n",
              "    cursor: pointer;\n",
              "    display: none;\n",
              "    fill: var(--fill-color);\n",
              "    height: 32px;\n",
              "    padding: 0;\n",
              "    width: 32px;\n",
              "  }\n",
              "\n",
              "  .colab-df-quickchart:hover {\n",
              "    background-color: var(--hover-bg-color);\n",
              "    box-shadow: 0 1px 2px rgba(60, 64, 67, 0.3), 0 1px 3px 1px rgba(60, 64, 67, 0.15);\n",
              "    fill: var(--button-hover-fill-color);\n",
              "  }\n",
              "\n",
              "  .colab-df-quickchart-complete:disabled,\n",
              "  .colab-df-quickchart-complete:disabled:hover {\n",
              "    background-color: var(--disabled-bg-color);\n",
              "    fill: var(--disabled-fill-color);\n",
              "    box-shadow: none;\n",
              "  }\n",
              "\n",
              "  .colab-df-spinner {\n",
              "    border: 2px solid var(--fill-color);\n",
              "    border-color: transparent;\n",
              "    border-bottom-color: var(--fill-color);\n",
              "    animation:\n",
              "      spin 1s steps(1) infinite;\n",
              "  }\n",
              "\n",
              "  @keyframes spin {\n",
              "    0% {\n",
              "      border-color: transparent;\n",
              "      border-bottom-color: var(--fill-color);\n",
              "      border-left-color: var(--fill-color);\n",
              "    }\n",
              "    20% {\n",
              "      border-color: transparent;\n",
              "      border-left-color: var(--fill-color);\n",
              "      border-top-color: var(--fill-color);\n",
              "    }\n",
              "    30% {\n",
              "      border-color: transparent;\n",
              "      border-left-color: var(--fill-color);\n",
              "      border-top-color: var(--fill-color);\n",
              "      border-right-color: var(--fill-color);\n",
              "    }\n",
              "    40% {\n",
              "      border-color: transparent;\n",
              "      border-right-color: var(--fill-color);\n",
              "      border-top-color: var(--fill-color);\n",
              "    }\n",
              "    60% {\n",
              "      border-color: transparent;\n",
              "      border-right-color: var(--fill-color);\n",
              "    }\n",
              "    80% {\n",
              "      border-color: transparent;\n",
              "      border-right-color: var(--fill-color);\n",
              "      border-bottom-color: var(--fill-color);\n",
              "    }\n",
              "    90% {\n",
              "      border-color: transparent;\n",
              "      border-bottom-color: var(--fill-color);\n",
              "    }\n",
              "  }\n",
              "</style>\n",
              "\n",
              "  <script>\n",
              "    async function quickchart(key) {\n",
              "      const quickchartButtonEl =\n",
              "        document.querySelector('#' + key + ' button');\n",
              "      quickchartButtonEl.disabled = true;  // To prevent multiple clicks.\n",
              "      quickchartButtonEl.classList.add('colab-df-spinner');\n",
              "      try {\n",
              "        const charts = await google.colab.kernel.invokeFunction(\n",
              "            'suggestCharts', [key], {});\n",
              "      } catch (error) {\n",
              "        console.error('Error during call to suggestCharts:', error);\n",
              "      }\n",
              "      quickchartButtonEl.classList.remove('colab-df-spinner');\n",
              "      quickchartButtonEl.classList.add('colab-df-quickchart-complete');\n",
              "    }\n",
              "    (() => {\n",
              "      let quickchartButtonEl =\n",
              "        document.querySelector('#df-4a8ee514-0bf4-4bb8-a4dd-86d91fc029fe button');\n",
              "      quickchartButtonEl.style.display =\n",
              "        google.colab.kernel.accessAllowed ? 'block' : 'none';\n",
              "    })();\n",
              "  </script>\n",
              "</div>\n",
              "\n",
              "    </div>\n",
              "  </div>\n"
            ],
            "application/vnd.google.colaboratory.intrinsic+json": {
              "type": "dataframe",
              "variable_name": "df",
              "summary": "{\n  \"name\": \"df\",\n  \"rows\": 500,\n  \"fields\": [\n    {\n      \"column\": \"Serial No.\",\n      \"properties\": {\n        \"dtype\": \"number\",\n        \"std\": 144,\n        \"min\": 1,\n        \"max\": 500,\n        \"num_unique_values\": 500,\n        \"samples\": [\n          362,\n          74,\n          375\n        ],\n        \"semantic_type\": \"\",\n        \"description\": \"\"\n      }\n    },\n    {\n      \"column\": \"GRE Score\",\n      \"properties\": {\n        \"dtype\": \"number\",\n        \"std\": 11,\n        \"min\": 290,\n        \"max\": 340,\n        \"num_unique_values\": 49,\n        \"samples\": [\n          307,\n          335,\n          297\n        ],\n        \"semantic_type\": \"\",\n        \"description\": \"\"\n      }\n    },\n    {\n      \"column\": \"TOEFL Score\",\n      \"properties\": {\n        \"dtype\": \"number\",\n        \"std\": 6,\n        \"min\": 92,\n        \"max\": 120,\n        \"num_unique_values\": 29,\n        \"samples\": [\n          94,\n          119,\n          112\n        ],\n        \"semantic_type\": \"\",\n        \"description\": \"\"\n      }\n    },\n    {\n      \"column\": \"University Rating\",\n      \"properties\": {\n        \"dtype\": \"number\",\n        \"std\": 1,\n        \"min\": 1,\n        \"max\": 5,\n        \"num_unique_values\": 5,\n        \"samples\": [\n          3,\n          1,\n          2\n        ],\n        \"semantic_type\": \"\",\n        \"description\": \"\"\n      }\n    },\n    {\n      \"column\": \"SOP\",\n      \"properties\": {\n        \"dtype\": \"number\",\n        \"std\": 0.9910036207566072,\n        \"min\": 1.0,\n        \"max\": 5.0,\n        \"num_unique_values\": 9,\n        \"samples\": [\n          1.0,\n          4.0,\n          5.0\n        ],\n        \"semantic_type\": \"\",\n        \"description\": \"\"\n      }\n    },\n    {\n      \"column\": \"LOR \",\n      \"properties\": {\n        \"dtype\": \"number\",\n        \"std\": 0.9254495738978193,\n        \"min\": 1.0,\n        \"max\": 5.0,\n        \"num_unique_values\": 9,\n        \"samples\": [\n          5.0,\n          3.5,\n          1.5\n        ],\n        \"semantic_type\": \"\",\n        \"description\": \"\"\n      }\n    },\n    {\n      \"column\": \"CGPA\",\n      \"properties\": {\n        \"dtype\": \"number\",\n        \"std\": 0.6048128003332054,\n        \"min\": 6.8,\n        \"max\": 9.92,\n        \"num_unique_values\": 184,\n        \"samples\": [\n          9.6,\n          8.9,\n          8.24\n        ],\n        \"semantic_type\": \"\",\n        \"description\": \"\"\n      }\n    },\n    {\n      \"column\": \"Research\",\n      \"properties\": {\n        \"dtype\": \"number\",\n        \"std\": 0,\n        \"min\": 0,\n        \"max\": 1,\n        \"num_unique_values\": 2,\n        \"samples\": [\n          0,\n          1\n        ],\n        \"semantic_type\": \"\",\n        \"description\": \"\"\n      }\n    },\n    {\n      \"column\": \"Chance of Admit \",\n      \"properties\": {\n        \"dtype\": \"number\",\n        \"std\": 0.14114040395030228,\n        \"min\": 0.34,\n        \"max\": 0.97,\n        \"num_unique_values\": 61,\n        \"samples\": [\n          0.92,\n          0.9\n        ],\n        \"semantic_type\": \"\",\n        \"description\": \"\"\n      }\n    }\n  ]\n}"
            }
          },
          "metadata": {},
          "execution_count": 27
        }
      ],
      "source": [
        "# target_switcher = -1\n",
        "df = aka_df_prepare().swap_features(df,target_switcher)\n",
        "df.head()"
      ]
    },
    {
      "cell_type": "markdown",
      "metadata": {
        "id": "LmFTFmq0aUm6"
      },
      "source": [
        "### Drop feature(s)\n"
      ]
    },
    {
      "cell_type": "code",
      "execution_count": 28,
      "metadata": {
        "colab": {
          "base_uri": "https://localhost:8080/",
          "height": 206
        },
        "id": "76ACXdCrapdG",
        "outputId": "134db3e4-5bef-412e-a533-8e95ae6792eb"
      },
      "outputs": [
        {
          "output_type": "execute_result",
          "data": {
            "text/plain": [
              "   GRE Score  TOEFL Score  University Rating  SOP  LOR   CGPA  Research  \\\n",
              "0        337          118                  4  4.5   4.5  9.65         1   \n",
              "1        324          107                  4  4.0   4.5  8.87         1   \n",
              "2        316          104                  3  3.0   3.5  8.00         1   \n",
              "3        322          110                  3  3.5   2.5  8.67         1   \n",
              "4        314          103                  2  2.0   3.0  8.21         0   \n",
              "\n",
              "   Chance of Admit   \n",
              "0              0.92  \n",
              "1              0.76  \n",
              "2              0.72  \n",
              "3              0.80  \n",
              "4              0.65  "
            ],
            "text/html": [
              "\n",
              "  <div id=\"df-9f807a4c-5c1c-42d5-8566-1437d3217cf0\" class=\"colab-df-container\">\n",
              "    <div>\n",
              "<style scoped>\n",
              "    .dataframe tbody tr th:only-of-type {\n",
              "        vertical-align: middle;\n",
              "    }\n",
              "\n",
              "    .dataframe tbody tr th {\n",
              "        vertical-align: top;\n",
              "    }\n",
              "\n",
              "    .dataframe thead th {\n",
              "        text-align: right;\n",
              "    }\n",
              "</style>\n",
              "<table border=\"1\" class=\"dataframe\">\n",
              "  <thead>\n",
              "    <tr style=\"text-align: right;\">\n",
              "      <th></th>\n",
              "      <th>GRE Score</th>\n",
              "      <th>TOEFL Score</th>\n",
              "      <th>University Rating</th>\n",
              "      <th>SOP</th>\n",
              "      <th>LOR</th>\n",
              "      <th>CGPA</th>\n",
              "      <th>Research</th>\n",
              "      <th>Chance of Admit</th>\n",
              "    </tr>\n",
              "  </thead>\n",
              "  <tbody>\n",
              "    <tr>\n",
              "      <th>0</th>\n",
              "      <td>337</td>\n",
              "      <td>118</td>\n",
              "      <td>4</td>\n",
              "      <td>4.5</td>\n",
              "      <td>4.5</td>\n",
              "      <td>9.65</td>\n",
              "      <td>1</td>\n",
              "      <td>0.92</td>\n",
              "    </tr>\n",
              "    <tr>\n",
              "      <th>1</th>\n",
              "      <td>324</td>\n",
              "      <td>107</td>\n",
              "      <td>4</td>\n",
              "      <td>4.0</td>\n",
              "      <td>4.5</td>\n",
              "      <td>8.87</td>\n",
              "      <td>1</td>\n",
              "      <td>0.76</td>\n",
              "    </tr>\n",
              "    <tr>\n",
              "      <th>2</th>\n",
              "      <td>316</td>\n",
              "      <td>104</td>\n",
              "      <td>3</td>\n",
              "      <td>3.0</td>\n",
              "      <td>3.5</td>\n",
              "      <td>8.00</td>\n",
              "      <td>1</td>\n",
              "      <td>0.72</td>\n",
              "    </tr>\n",
              "    <tr>\n",
              "      <th>3</th>\n",
              "      <td>322</td>\n",
              "      <td>110</td>\n",
              "      <td>3</td>\n",
              "      <td>3.5</td>\n",
              "      <td>2.5</td>\n",
              "      <td>8.67</td>\n",
              "      <td>1</td>\n",
              "      <td>0.80</td>\n",
              "    </tr>\n",
              "    <tr>\n",
              "      <th>4</th>\n",
              "      <td>314</td>\n",
              "      <td>103</td>\n",
              "      <td>2</td>\n",
              "      <td>2.0</td>\n",
              "      <td>3.0</td>\n",
              "      <td>8.21</td>\n",
              "      <td>0</td>\n",
              "      <td>0.65</td>\n",
              "    </tr>\n",
              "  </tbody>\n",
              "</table>\n",
              "</div>\n",
              "    <div class=\"colab-df-buttons\">\n",
              "\n",
              "  <div class=\"colab-df-container\">\n",
              "    <button class=\"colab-df-convert\" onclick=\"convertToInteractive('df-9f807a4c-5c1c-42d5-8566-1437d3217cf0')\"\n",
              "            title=\"Convert this dataframe to an interactive table.\"\n",
              "            style=\"display:none;\">\n",
              "\n",
              "  <svg xmlns=\"http://www.w3.org/2000/svg\" height=\"24px\" viewBox=\"0 -960 960 960\">\n",
              "    <path d=\"M120-120v-720h720v720H120Zm60-500h600v-160H180v160Zm220 220h160v-160H400v160Zm0 220h160v-160H400v160ZM180-400h160v-160H180v160Zm440 0h160v-160H620v160ZM180-180h160v-160H180v160Zm440 0h160v-160H620v160Z\"/>\n",
              "  </svg>\n",
              "    </button>\n",
              "\n",
              "  <style>\n",
              "    .colab-df-container {\n",
              "      display:flex;\n",
              "      gap: 12px;\n",
              "    }\n",
              "\n",
              "    .colab-df-convert {\n",
              "      background-color: #E8F0FE;\n",
              "      border: none;\n",
              "      border-radius: 50%;\n",
              "      cursor: pointer;\n",
              "      display: none;\n",
              "      fill: #1967D2;\n",
              "      height: 32px;\n",
              "      padding: 0 0 0 0;\n",
              "      width: 32px;\n",
              "    }\n",
              "\n",
              "    .colab-df-convert:hover {\n",
              "      background-color: #E2EBFA;\n",
              "      box-shadow: 0px 1px 2px rgba(60, 64, 67, 0.3), 0px 1px 3px 1px rgba(60, 64, 67, 0.15);\n",
              "      fill: #174EA6;\n",
              "    }\n",
              "\n",
              "    .colab-df-buttons div {\n",
              "      margin-bottom: 4px;\n",
              "    }\n",
              "\n",
              "    [theme=dark] .colab-df-convert {\n",
              "      background-color: #3B4455;\n",
              "      fill: #D2E3FC;\n",
              "    }\n",
              "\n",
              "    [theme=dark] .colab-df-convert:hover {\n",
              "      background-color: #434B5C;\n",
              "      box-shadow: 0px 1px 3px 1px rgba(0, 0, 0, 0.15);\n",
              "      filter: drop-shadow(0px 1px 2px rgba(0, 0, 0, 0.3));\n",
              "      fill: #FFFFFF;\n",
              "    }\n",
              "  </style>\n",
              "\n",
              "    <script>\n",
              "      const buttonEl =\n",
              "        document.querySelector('#df-9f807a4c-5c1c-42d5-8566-1437d3217cf0 button.colab-df-convert');\n",
              "      buttonEl.style.display =\n",
              "        google.colab.kernel.accessAllowed ? 'block' : 'none';\n",
              "\n",
              "      async function convertToInteractive(key) {\n",
              "        const element = document.querySelector('#df-9f807a4c-5c1c-42d5-8566-1437d3217cf0');\n",
              "        const dataTable =\n",
              "          await google.colab.kernel.invokeFunction('convertToInteractive',\n",
              "                                                    [key], {});\n",
              "        if (!dataTable) return;\n",
              "\n",
              "        const docLinkHtml = 'Like what you see? Visit the ' +\n",
              "          '<a target=\"_blank\" href=https://colab.research.google.com/notebooks/data_table.ipynb>data table notebook</a>'\n",
              "          + ' to learn more about interactive tables.';\n",
              "        element.innerHTML = '';\n",
              "        dataTable['output_type'] = 'display_data';\n",
              "        await google.colab.output.renderOutput(dataTable, element);\n",
              "        const docLink = document.createElement('div');\n",
              "        docLink.innerHTML = docLinkHtml;\n",
              "        element.appendChild(docLink);\n",
              "      }\n",
              "    </script>\n",
              "  </div>\n",
              "\n",
              "\n",
              "<div id=\"df-3a5eb3e5-8a01-44c8-83fd-b69a2f4b7650\">\n",
              "  <button class=\"colab-df-quickchart\" onclick=\"quickchart('df-3a5eb3e5-8a01-44c8-83fd-b69a2f4b7650')\"\n",
              "            title=\"Suggest charts\"\n",
              "            style=\"display:none;\">\n",
              "\n",
              "<svg xmlns=\"http://www.w3.org/2000/svg\" height=\"24px\"viewBox=\"0 0 24 24\"\n",
              "     width=\"24px\">\n",
              "    <g>\n",
              "        <path d=\"M19 3H5c-1.1 0-2 .9-2 2v14c0 1.1.9 2 2 2h14c1.1 0 2-.9 2-2V5c0-1.1-.9-2-2-2zM9 17H7v-7h2v7zm4 0h-2V7h2v10zm4 0h-2v-4h2v4z\"/>\n",
              "    </g>\n",
              "</svg>\n",
              "  </button>\n",
              "\n",
              "<style>\n",
              "  .colab-df-quickchart {\n",
              "      --bg-color: #E8F0FE;\n",
              "      --fill-color: #1967D2;\n",
              "      --hover-bg-color: #E2EBFA;\n",
              "      --hover-fill-color: #174EA6;\n",
              "      --disabled-fill-color: #AAA;\n",
              "      --disabled-bg-color: #DDD;\n",
              "  }\n",
              "\n",
              "  [theme=dark] .colab-df-quickchart {\n",
              "      --bg-color: #3B4455;\n",
              "      --fill-color: #D2E3FC;\n",
              "      --hover-bg-color: #434B5C;\n",
              "      --hover-fill-color: #FFFFFF;\n",
              "      --disabled-bg-color: #3B4455;\n",
              "      --disabled-fill-color: #666;\n",
              "  }\n",
              "\n",
              "  .colab-df-quickchart {\n",
              "    background-color: var(--bg-color);\n",
              "    border: none;\n",
              "    border-radius: 50%;\n",
              "    cursor: pointer;\n",
              "    display: none;\n",
              "    fill: var(--fill-color);\n",
              "    height: 32px;\n",
              "    padding: 0;\n",
              "    width: 32px;\n",
              "  }\n",
              "\n",
              "  .colab-df-quickchart:hover {\n",
              "    background-color: var(--hover-bg-color);\n",
              "    box-shadow: 0 1px 2px rgba(60, 64, 67, 0.3), 0 1px 3px 1px rgba(60, 64, 67, 0.15);\n",
              "    fill: var(--button-hover-fill-color);\n",
              "  }\n",
              "\n",
              "  .colab-df-quickchart-complete:disabled,\n",
              "  .colab-df-quickchart-complete:disabled:hover {\n",
              "    background-color: var(--disabled-bg-color);\n",
              "    fill: var(--disabled-fill-color);\n",
              "    box-shadow: none;\n",
              "  }\n",
              "\n",
              "  .colab-df-spinner {\n",
              "    border: 2px solid var(--fill-color);\n",
              "    border-color: transparent;\n",
              "    border-bottom-color: var(--fill-color);\n",
              "    animation:\n",
              "      spin 1s steps(1) infinite;\n",
              "  }\n",
              "\n",
              "  @keyframes spin {\n",
              "    0% {\n",
              "      border-color: transparent;\n",
              "      border-bottom-color: var(--fill-color);\n",
              "      border-left-color: var(--fill-color);\n",
              "    }\n",
              "    20% {\n",
              "      border-color: transparent;\n",
              "      border-left-color: var(--fill-color);\n",
              "      border-top-color: var(--fill-color);\n",
              "    }\n",
              "    30% {\n",
              "      border-color: transparent;\n",
              "      border-left-color: var(--fill-color);\n",
              "      border-top-color: var(--fill-color);\n",
              "      border-right-color: var(--fill-color);\n",
              "    }\n",
              "    40% {\n",
              "      border-color: transparent;\n",
              "      border-right-color: var(--fill-color);\n",
              "      border-top-color: var(--fill-color);\n",
              "    }\n",
              "    60% {\n",
              "      border-color: transparent;\n",
              "      border-right-color: var(--fill-color);\n",
              "    }\n",
              "    80% {\n",
              "      border-color: transparent;\n",
              "      border-right-color: var(--fill-color);\n",
              "      border-bottom-color: var(--fill-color);\n",
              "    }\n",
              "    90% {\n",
              "      border-color: transparent;\n",
              "      border-bottom-color: var(--fill-color);\n",
              "    }\n",
              "  }\n",
              "</style>\n",
              "\n",
              "  <script>\n",
              "    async function quickchart(key) {\n",
              "      const quickchartButtonEl =\n",
              "        document.querySelector('#' + key + ' button');\n",
              "      quickchartButtonEl.disabled = true;  // To prevent multiple clicks.\n",
              "      quickchartButtonEl.classList.add('colab-df-spinner');\n",
              "      try {\n",
              "        const charts = await google.colab.kernel.invokeFunction(\n",
              "            'suggestCharts', [key], {});\n",
              "      } catch (error) {\n",
              "        console.error('Error during call to suggestCharts:', error);\n",
              "      }\n",
              "      quickchartButtonEl.classList.remove('colab-df-spinner');\n",
              "      quickchartButtonEl.classList.add('colab-df-quickchart-complete');\n",
              "    }\n",
              "    (() => {\n",
              "      let quickchartButtonEl =\n",
              "        document.querySelector('#df-3a5eb3e5-8a01-44c8-83fd-b69a2f4b7650 button');\n",
              "      quickchartButtonEl.style.display =\n",
              "        google.colab.kernel.accessAllowed ? 'block' : 'none';\n",
              "    })();\n",
              "  </script>\n",
              "</div>\n",
              "\n",
              "    </div>\n",
              "  </div>\n"
            ],
            "application/vnd.google.colaboratory.intrinsic+json": {
              "type": "dataframe",
              "variable_name": "df",
              "summary": "{\n  \"name\": \"df\",\n  \"rows\": 500,\n  \"fields\": [\n    {\n      \"column\": \"GRE Score\",\n      \"properties\": {\n        \"dtype\": \"number\",\n        \"std\": 11,\n        \"min\": 290,\n        \"max\": 340,\n        \"num_unique_values\": 49,\n        \"samples\": [\n          307,\n          335,\n          297\n        ],\n        \"semantic_type\": \"\",\n        \"description\": \"\"\n      }\n    },\n    {\n      \"column\": \"TOEFL Score\",\n      \"properties\": {\n        \"dtype\": \"number\",\n        \"std\": 6,\n        \"min\": 92,\n        \"max\": 120,\n        \"num_unique_values\": 29,\n        \"samples\": [\n          94,\n          119,\n          112\n        ],\n        \"semantic_type\": \"\",\n        \"description\": \"\"\n      }\n    },\n    {\n      \"column\": \"University Rating\",\n      \"properties\": {\n        \"dtype\": \"number\",\n        \"std\": 1,\n        \"min\": 1,\n        \"max\": 5,\n        \"num_unique_values\": 5,\n        \"samples\": [\n          3,\n          1,\n          2\n        ],\n        \"semantic_type\": \"\",\n        \"description\": \"\"\n      }\n    },\n    {\n      \"column\": \"SOP\",\n      \"properties\": {\n        \"dtype\": \"number\",\n        \"std\": 0.9910036207566072,\n        \"min\": 1.0,\n        \"max\": 5.0,\n        \"num_unique_values\": 9,\n        \"samples\": [\n          1.0,\n          4.0,\n          5.0\n        ],\n        \"semantic_type\": \"\",\n        \"description\": \"\"\n      }\n    },\n    {\n      \"column\": \"LOR \",\n      \"properties\": {\n        \"dtype\": \"number\",\n        \"std\": 0.9254495738978193,\n        \"min\": 1.0,\n        \"max\": 5.0,\n        \"num_unique_values\": 9,\n        \"samples\": [\n          5.0,\n          3.5,\n          1.5\n        ],\n        \"semantic_type\": \"\",\n        \"description\": \"\"\n      }\n    },\n    {\n      \"column\": \"CGPA\",\n      \"properties\": {\n        \"dtype\": \"number\",\n        \"std\": 0.6048128003332054,\n        \"min\": 6.8,\n        \"max\": 9.92,\n        \"num_unique_values\": 184,\n        \"samples\": [\n          9.6,\n          8.9,\n          8.24\n        ],\n        \"semantic_type\": \"\",\n        \"description\": \"\"\n      }\n    },\n    {\n      \"column\": \"Research\",\n      \"properties\": {\n        \"dtype\": \"number\",\n        \"std\": 0,\n        \"min\": 0,\n        \"max\": 1,\n        \"num_unique_values\": 2,\n        \"samples\": [\n          0,\n          1\n        ],\n        \"semantic_type\": \"\",\n        \"description\": \"\"\n      }\n    },\n    {\n      \"column\": \"Chance of Admit \",\n      \"properties\": {\n        \"dtype\": \"number\",\n        \"std\": 0.14114040395030228,\n        \"min\": 0.34,\n        \"max\": 0.97,\n        \"num_unique_values\": 61,\n        \"samples\": [\n          0.92,\n          0.9\n        ],\n        \"semantic_type\": \"\",\n        \"description\": \"\"\n      }\n    }\n  ]\n}"
            }
          },
          "metadata": {},
          "execution_count": 28
        }
      ],
      "source": [
        "# feat =  []\n",
        "df = aka_df_prepare().drop_feature(df,feat)"
      ]
    },
    {
      "cell_type": "markdown",
      "metadata": {
        "id": "4JD1xdyLtwiT"
      },
      "source": [
        "## Transforming Categorical Variables into Numerical Representations Using Encoding"
      ]
    },
    {
      "cell_type": "code",
      "execution_count": 29,
      "metadata": {
        "id": "xLfFY8Dgb5jG"
      },
      "outputs": [],
      "source": [
        "# data_nan = 'drop'                    # Choose 'drop' to drop rows containing NaN values\n",
        "df_encod = aka_encoding(df)\n",
        "df = df_encod.label_encoding()"
      ]
    },
    {
      "cell_type": "markdown",
      "source": [
        "## Correlation Matrix"
      ],
      "metadata": {
        "id": "VK48IBfjMYTT"
      }
    },
    {
      "cell_type": "code",
      "source": [
        "aka_plot_.Plot_Correlation_Matrix(df)"
      ],
      "metadata": {
        "colab": {
          "base_uri": "https://localhost:8080/",
          "height": 917
        },
        "id": "kGFzlKLRLgGN",
        "outputId": "8ee83b01-8b8c-437a-9972-2abdb95e921e"
      },
      "execution_count": 30,
      "outputs": [
        {
          "output_type": "display_data",
          "data": {
            "text/html": [
              "<html>\n",
              "<head><meta charset=\"utf-8\" /></head>\n",
              "<body>\n",
              "    <div>            <script src=\"https://cdnjs.cloudflare.com/ajax/libs/mathjax/2.7.5/MathJax.js?config=TeX-AMS-MML_SVG\"></script><script type=\"text/javascript\">if (window.MathJax && window.MathJax.Hub && window.MathJax.Hub.Config) {window.MathJax.Hub.Config({SVG: {font: \"STIX-Web\"}});}</script>                <script type=\"text/javascript\">window.PlotlyConfig = {MathJaxConfig: 'local'};</script>\n",
              "        <script charset=\"utf-8\" src=\"https://cdn.plot.ly/plotly-2.24.1.min.js\"></script>                <div id=\"7b591e48-acb7-4f52-a74f-9eb6d38176f3\" class=\"plotly-graph-div\" style=\"height:900px; width:1000px;\"></div>            <script type=\"text/javascript\">                                    window.PLOTLYENV=window.PLOTLYENV || {};                                    if (document.getElementById(\"7b591e48-acb7-4f52-a74f-9eb6d38176f3\")) {                    Plotly.newPlot(                        \"7b591e48-acb7-4f52-a74f-9eb6d38176f3\",                        [{\"coloraxis\":\"coloraxis\",\"name\":\"0\",\"x\":[\"GRE Score\",\"TOEFL Score\",\"University Rating\",\"SOP\",\"LOR \",\"CGPA\",\"Research\",\"Chance of Admit \"],\"y\":[\"GRE Score\",\"TOEFL Score\",\"University Rating\",\"SOP\",\"LOR \",\"CGPA\",\"Research\",\"Chance of Admit \"],\"z\":[[1.0,0.8272004035317205,0.6353762113238999,0.613497673462411,0.5246793925817066,0.8258779536403557,0.5633981217777558,0.8103506354632601],[0.8272004035317205,1.0,0.6497991951468041,0.6444103878875802,0.5415632950080219,0.8105735363036219,0.4670120606097315,0.7922276143050825],[0.6353762113238999,0.6497991951468041,1.0,0.7280235718785819,0.6086507072838123,0.705254345086194,0.4270474518133466,0.6901323687886894],[0.613497673462411,0.6444103878875802,0.7280235718785819,1.0,0.6637068525149349,0.7121543243652497,0.40811584579179017,0.6841365241316723],[0.5246793925817066,0.5415632950080219,0.6086507072838123,0.6637068525149349,1.0,0.6374692057544713,0.37252560351059255,0.645364513528011],[0.8258779536403557,0.8105735363036219,0.705254345086194,0.7121543243652497,0.6374692057544713,1.0,0.5013110005346983,0.882412574904574],[0.5633981217777558,0.4670120606097315,0.4270474518133466,0.40811584579179017,0.37252560351059255,0.5013110005346983,1.0,0.5458710294711379],[0.8103506354632601,0.7922276143050825,0.6901323687886894,0.6841365241316723,0.645364513528011,0.882412574904574,0.5458710294711379,1.0]],\"type\":\"heatmap\",\"xaxis\":\"x\",\"yaxis\":\"y\",\"hovertemplate\":\"x: %{x}\\u003cbr\\u003ey: %{y}\\u003cbr\\u003eCorrelation: %{z}\\u003cextra\\u003e\\u003c\\u002fextra\\u003e\"}],                        {\"template\":{\"data\":{\"barpolar\":[{\"marker\":{\"line\":{\"color\":\"rgb(17,17,17)\",\"width\":0.5},\"pattern\":{\"fillmode\":\"overlay\",\"size\":10,\"solidity\":0.2}},\"type\":\"barpolar\"}],\"bar\":[{\"error_x\":{\"color\":\"#f2f5fa\"},\"error_y\":{\"color\":\"#f2f5fa\"},\"marker\":{\"line\":{\"color\":\"rgb(17,17,17)\",\"width\":0.5},\"pattern\":{\"fillmode\":\"overlay\",\"size\":10,\"solidity\":0.2}},\"type\":\"bar\"}],\"carpet\":[{\"aaxis\":{\"endlinecolor\":\"#A2B1C6\",\"gridcolor\":\"#506784\",\"linecolor\":\"#506784\",\"minorgridcolor\":\"#506784\",\"startlinecolor\":\"#A2B1C6\"},\"baxis\":{\"endlinecolor\":\"#A2B1C6\",\"gridcolor\":\"#506784\",\"linecolor\":\"#506784\",\"minorgridcolor\":\"#506784\",\"startlinecolor\":\"#A2B1C6\"},\"type\":\"carpet\"}],\"choropleth\":[{\"colorbar\":{\"outlinewidth\":0,\"ticks\":\"\"},\"type\":\"choropleth\"}],\"contourcarpet\":[{\"colorbar\":{\"outlinewidth\":0,\"ticks\":\"\"},\"type\":\"contourcarpet\"}],\"contour\":[{\"colorbar\":{\"outlinewidth\":0,\"ticks\":\"\"},\"colorscale\":[[0.0,\"#0d0887\"],[0.1111111111111111,\"#46039f\"],[0.2222222222222222,\"#7201a8\"],[0.3333333333333333,\"#9c179e\"],[0.4444444444444444,\"#bd3786\"],[0.5555555555555556,\"#d8576b\"],[0.6666666666666666,\"#ed7953\"],[0.7777777777777778,\"#fb9f3a\"],[0.8888888888888888,\"#fdca26\"],[1.0,\"#f0f921\"]],\"type\":\"contour\"}],\"heatmapgl\":[{\"colorbar\":{\"outlinewidth\":0,\"ticks\":\"\"},\"colorscale\":[[0.0,\"#0d0887\"],[0.1111111111111111,\"#46039f\"],[0.2222222222222222,\"#7201a8\"],[0.3333333333333333,\"#9c179e\"],[0.4444444444444444,\"#bd3786\"],[0.5555555555555556,\"#d8576b\"],[0.6666666666666666,\"#ed7953\"],[0.7777777777777778,\"#fb9f3a\"],[0.8888888888888888,\"#fdca26\"],[1.0,\"#f0f921\"]],\"type\":\"heatmapgl\"}],\"heatmap\":[{\"colorbar\":{\"outlinewidth\":0,\"ticks\":\"\"},\"colorscale\":[[0.0,\"#0d0887\"],[0.1111111111111111,\"#46039f\"],[0.2222222222222222,\"#7201a8\"],[0.3333333333333333,\"#9c179e\"],[0.4444444444444444,\"#bd3786\"],[0.5555555555555556,\"#d8576b\"],[0.6666666666666666,\"#ed7953\"],[0.7777777777777778,\"#fb9f3a\"],[0.8888888888888888,\"#fdca26\"],[1.0,\"#f0f921\"]],\"type\":\"heatmap\"}],\"histogram2dcontour\":[{\"colorbar\":{\"outlinewidth\":0,\"ticks\":\"\"},\"colorscale\":[[0.0,\"#0d0887\"],[0.1111111111111111,\"#46039f\"],[0.2222222222222222,\"#7201a8\"],[0.3333333333333333,\"#9c179e\"],[0.4444444444444444,\"#bd3786\"],[0.5555555555555556,\"#d8576b\"],[0.6666666666666666,\"#ed7953\"],[0.7777777777777778,\"#fb9f3a\"],[0.8888888888888888,\"#fdca26\"],[1.0,\"#f0f921\"]],\"type\":\"histogram2dcontour\"}],\"histogram2d\":[{\"colorbar\":{\"outlinewidth\":0,\"ticks\":\"\"},\"colorscale\":[[0.0,\"#0d0887\"],[0.1111111111111111,\"#46039f\"],[0.2222222222222222,\"#7201a8\"],[0.3333333333333333,\"#9c179e\"],[0.4444444444444444,\"#bd3786\"],[0.5555555555555556,\"#d8576b\"],[0.6666666666666666,\"#ed7953\"],[0.7777777777777778,\"#fb9f3a\"],[0.8888888888888888,\"#fdca26\"],[1.0,\"#f0f921\"]],\"type\":\"histogram2d\"}],\"histogram\":[{\"marker\":{\"pattern\":{\"fillmode\":\"overlay\",\"size\":10,\"solidity\":0.2}},\"type\":\"histogram\"}],\"mesh3d\":[{\"colorbar\":{\"outlinewidth\":0,\"ticks\":\"\"},\"type\":\"mesh3d\"}],\"parcoords\":[{\"line\":{\"colorbar\":{\"outlinewidth\":0,\"ticks\":\"\"}},\"type\":\"parcoords\"}],\"pie\":[{\"automargin\":true,\"type\":\"pie\"}],\"scatter3d\":[{\"line\":{\"colorbar\":{\"outlinewidth\":0,\"ticks\":\"\"}},\"marker\":{\"colorbar\":{\"outlinewidth\":0,\"ticks\":\"\"}},\"type\":\"scatter3d\"}],\"scattercarpet\":[{\"marker\":{\"colorbar\":{\"outlinewidth\":0,\"ticks\":\"\"}},\"type\":\"scattercarpet\"}],\"scattergeo\":[{\"marker\":{\"colorbar\":{\"outlinewidth\":0,\"ticks\":\"\"}},\"type\":\"scattergeo\"}],\"scattergl\":[{\"marker\":{\"line\":{\"color\":\"#283442\"}},\"type\":\"scattergl\"}],\"scattermapbox\":[{\"marker\":{\"colorbar\":{\"outlinewidth\":0,\"ticks\":\"\"}},\"type\":\"scattermapbox\"}],\"scatterpolargl\":[{\"marker\":{\"colorbar\":{\"outlinewidth\":0,\"ticks\":\"\"}},\"type\":\"scatterpolargl\"}],\"scatterpolar\":[{\"marker\":{\"colorbar\":{\"outlinewidth\":0,\"ticks\":\"\"}},\"type\":\"scatterpolar\"}],\"scatter\":[{\"marker\":{\"line\":{\"color\":\"#283442\"}},\"type\":\"scatter\"}],\"scatterternary\":[{\"marker\":{\"colorbar\":{\"outlinewidth\":0,\"ticks\":\"\"}},\"type\":\"scatterternary\"}],\"surface\":[{\"colorbar\":{\"outlinewidth\":0,\"ticks\":\"\"},\"colorscale\":[[0.0,\"#0d0887\"],[0.1111111111111111,\"#46039f\"],[0.2222222222222222,\"#7201a8\"],[0.3333333333333333,\"#9c179e\"],[0.4444444444444444,\"#bd3786\"],[0.5555555555555556,\"#d8576b\"],[0.6666666666666666,\"#ed7953\"],[0.7777777777777778,\"#fb9f3a\"],[0.8888888888888888,\"#fdca26\"],[1.0,\"#f0f921\"]],\"type\":\"surface\"}],\"table\":[{\"cells\":{\"fill\":{\"color\":\"#506784\"},\"line\":{\"color\":\"rgb(17,17,17)\"}},\"header\":{\"fill\":{\"color\":\"#2a3f5f\"},\"line\":{\"color\":\"rgb(17,17,17)\"}},\"type\":\"table\"}]},\"layout\":{\"annotationdefaults\":{\"arrowcolor\":\"#f2f5fa\",\"arrowhead\":0,\"arrowwidth\":1},\"autotypenumbers\":\"strict\",\"coloraxis\":{\"colorbar\":{\"outlinewidth\":0,\"ticks\":\"\"}},\"colorscale\":{\"diverging\":[[0,\"#8e0152\"],[0.1,\"#c51b7d\"],[0.2,\"#de77ae\"],[0.3,\"#f1b6da\"],[0.4,\"#fde0ef\"],[0.5,\"#f7f7f7\"],[0.6,\"#e6f5d0\"],[0.7,\"#b8e186\"],[0.8,\"#7fbc41\"],[0.9,\"#4d9221\"],[1,\"#276419\"]],\"sequential\":[[0.0,\"#0d0887\"],[0.1111111111111111,\"#46039f\"],[0.2222222222222222,\"#7201a8\"],[0.3333333333333333,\"#9c179e\"],[0.4444444444444444,\"#bd3786\"],[0.5555555555555556,\"#d8576b\"],[0.6666666666666666,\"#ed7953\"],[0.7777777777777778,\"#fb9f3a\"],[0.8888888888888888,\"#fdca26\"],[1.0,\"#f0f921\"]],\"sequentialminus\":[[0.0,\"#0d0887\"],[0.1111111111111111,\"#46039f\"],[0.2222222222222222,\"#7201a8\"],[0.3333333333333333,\"#9c179e\"],[0.4444444444444444,\"#bd3786\"],[0.5555555555555556,\"#d8576b\"],[0.6666666666666666,\"#ed7953\"],[0.7777777777777778,\"#fb9f3a\"],[0.8888888888888888,\"#fdca26\"],[1.0,\"#f0f921\"]]},\"colorway\":[\"#636efa\",\"#EF553B\",\"#00cc96\",\"#ab63fa\",\"#FFA15A\",\"#19d3f3\",\"#FF6692\",\"#B6E880\",\"#FF97FF\",\"#FECB52\"],\"font\":{\"color\":\"#f2f5fa\"},\"geo\":{\"bgcolor\":\"rgb(17,17,17)\",\"lakecolor\":\"rgb(17,17,17)\",\"landcolor\":\"rgb(17,17,17)\",\"showlakes\":true,\"showland\":true,\"subunitcolor\":\"#506784\"},\"hoverlabel\":{\"align\":\"left\"},\"hovermode\":\"closest\",\"mapbox\":{\"style\":\"dark\"},\"paper_bgcolor\":\"rgb(17,17,17)\",\"plot_bgcolor\":\"rgb(17,17,17)\",\"polar\":{\"angularaxis\":{\"gridcolor\":\"#506784\",\"linecolor\":\"#506784\",\"ticks\":\"\"},\"bgcolor\":\"rgb(17,17,17)\",\"radialaxis\":{\"gridcolor\":\"#506784\",\"linecolor\":\"#506784\",\"ticks\":\"\"}},\"scene\":{\"xaxis\":{\"backgroundcolor\":\"rgb(17,17,17)\",\"gridcolor\":\"#506784\",\"gridwidth\":2,\"linecolor\":\"#506784\",\"showbackground\":true,\"ticks\":\"\",\"zerolinecolor\":\"#C8D4E3\"},\"yaxis\":{\"backgroundcolor\":\"rgb(17,17,17)\",\"gridcolor\":\"#506784\",\"gridwidth\":2,\"linecolor\":\"#506784\",\"showbackground\":true,\"ticks\":\"\",\"zerolinecolor\":\"#C8D4E3\"},\"zaxis\":{\"backgroundcolor\":\"rgb(17,17,17)\",\"gridcolor\":\"#506784\",\"gridwidth\":2,\"linecolor\":\"#506784\",\"showbackground\":true,\"ticks\":\"\",\"zerolinecolor\":\"#C8D4E3\"}},\"shapedefaults\":{\"line\":{\"color\":\"#f2f5fa\"}},\"sliderdefaults\":{\"bgcolor\":\"#C8D4E3\",\"bordercolor\":\"rgb(17,17,17)\",\"borderwidth\":1,\"tickwidth\":0},\"ternary\":{\"aaxis\":{\"gridcolor\":\"#506784\",\"linecolor\":\"#506784\",\"ticks\":\"\"},\"baxis\":{\"gridcolor\":\"#506784\",\"linecolor\":\"#506784\",\"ticks\":\"\"},\"bgcolor\":\"rgb(17,17,17)\",\"caxis\":{\"gridcolor\":\"#506784\",\"linecolor\":\"#506784\",\"ticks\":\"\"}},\"title\":{\"x\":0.05},\"updatemenudefaults\":{\"bgcolor\":\"#506784\",\"borderwidth\":0},\"xaxis\":{\"automargin\":true,\"gridcolor\":\"#283442\",\"linecolor\":\"#506784\",\"ticks\":\"\",\"title\":{\"standoff\":15},\"zerolinecolor\":\"#283442\",\"zerolinewidth\":2},\"yaxis\":{\"automargin\":true,\"gridcolor\":\"#283442\",\"linecolor\":\"#506784\",\"ticks\":\"\",\"title\":{\"standoff\":15},\"zerolinecolor\":\"#283442\",\"zerolinewidth\":2}}},\"xaxis\":{\"anchor\":\"y\",\"domain\":[0.0,1.0],\"scaleanchor\":\"y\",\"constrain\":\"domain\",\"title\":{\"font\":{\"size\":14},\"standoff\":25}},\"yaxis\":{\"anchor\":\"x\",\"domain\":[0.0,1.0],\"autorange\":\"reversed\",\"constrain\":\"domain\"},\"coloraxis\":{\"colorbar\":{\"title\":{\"text\":\"Correlation\"}},\"colorscale\":[[0.0,\"#0d0887\"],[0.1111111111111111,\"#46039f\"],[0.2222222222222222,\"#7201a8\"],[0.3333333333333333,\"#9c179e\"],[0.4444444444444444,\"#bd3786\"],[0.5555555555555556,\"#d8576b\"],[0.6666666666666666,\"#ed7953\"],[0.7777777777777778,\"#fb9f3a\"],[0.8888888888888888,\"#fdca26\"],[1.0,\"#f0f921\"]]},\"margin\":{\"t\":60},\"font\":{\"color\":\"white\",\"size\":20},\"title\":{\"text\":\"Correlation Matrix\"},\"barmode\":\"overlay\",\"height\":900,\"width\":1000},                        {\"responsive\": true}                    ).then(function(){\n",
              "                            \n",
              "var gd = document.getElementById('7b591e48-acb7-4f52-a74f-9eb6d38176f3');\n",
              "var x = new MutationObserver(function (mutations, observer) {{\n",
              "        var display = window.getComputedStyle(gd).display;\n",
              "        if (!display || display === 'none') {{\n",
              "            console.log([gd, 'removed!']);\n",
              "            Plotly.purge(gd);\n",
              "            observer.disconnect();\n",
              "        }}\n",
              "}});\n",
              "\n",
              "// Listen for the removal of the full notebook cells\n",
              "var notebookContainer = gd.closest('#notebook-container');\n",
              "if (notebookContainer) {{\n",
              "    x.observe(notebookContainer, {childList: true});\n",
              "}}\n",
              "\n",
              "// Listen for the clearing of the current output cell\n",
              "var outputEl = gd.closest('.output');\n",
              "if (outputEl) {{\n",
              "    x.observe(outputEl, {childList: true});\n",
              "}}\n",
              "\n",
              "                        })                };                            </script>        </div>\n",
              "</body>\n",
              "</html>"
            ]
          },
          "metadata": {}
        }
      ]
    },
    {
      "cell_type": "code",
      "execution_count": 31,
      "metadata": {
        "id": "OEyFThCDdg2l",
        "colab": {
          "base_uri": "https://localhost:8080/"
        },
        "outputId": "800ce684-f984-4abd-fae4-b08ac011c3e9"
      },
      "outputs": [
        {
          "output_type": "stream",
          "name": "stdout",
          "text": [
            "We dropped 0 outliers and remove 5 feature(s)\n",
            "The filtered dataset's shape is (500, 3) \n"
          ]
        }
      ],
      "source": [
        "\n",
        "# confidence_interval_limit =   [-3,3]             # Define the limits m of the confidence interval [-m, m] and eliminate the outliers'''\n",
        "\n",
        "# correlation_percentage_threshold = .7      # Set the limit of the correlation between the feature to be removed\n",
        "\n",
        "df_filtered,corr_tmp = aka_cleaned_data().filter_drop_corr_df(df,confidence_interval_limit,correlation_percentage_threshold)\n",
        "\n",
        "print(f'We dropped {df.shape[0]-df_filtered.shape[0]} outliers and remove {df.shape[1]-df_filtered.shape[1]} feature(s)')\n",
        "print(f'The filtered dataset\\'s shape is {df_filtered.shape} ')"
      ]
    },
    {
      "cell_type": "markdown",
      "metadata": {
        "id": "OAeEyQirWmYQ"
      },
      "source": [
        "## Graph the features that are highly correlated\n"
      ]
    },
    {
      "cell_type": "code",
      "source": [
        "aka_plot_.Plot_scatter(df,list(corr_tmp)).show()"
      ],
      "metadata": {
        "colab": {
          "base_uri": "https://localhost:8080/",
          "height": 1000
        },
        "id": "xKi5-JgSrZhA",
        "outputId": "e0bb726a-c6a6-4acc-f71f-c8f5c753b712"
      },
      "execution_count": 32,
      "outputs": [
        {
          "output_type": "display_data",
          "data": {
            "text/html": [
              "<html>\n",
              "<head><meta charset=\"utf-8\" /></head>\n",
              "<body>\n",
              "    <div>            <script src=\"https://cdnjs.cloudflare.com/ajax/libs/mathjax/2.7.5/MathJax.js?config=TeX-AMS-MML_SVG\"></script><script type=\"text/javascript\">if (window.MathJax && window.MathJax.Hub && window.MathJax.Hub.Config) {window.MathJax.Hub.Config({SVG: {font: \"STIX-Web\"}});}</script>                <script type=\"text/javascript\">window.PlotlyConfig = {MathJaxConfig: 'local'};</script>\n",
              "        <script charset=\"utf-8\" src=\"https://cdn.plot.ly/plotly-2.24.1.min.js\"></script>                <div id=\"0dfd7b92-6e69-4d72-8b83-e2f298b42e3e\" class=\"plotly-graph-div\" style=\"height:1170px; width:1470px;\"></div>            <script type=\"text/javascript\">                                    window.PLOTLYENV=window.PLOTLYENV || {};                                    if (document.getElementById(\"0dfd7b92-6e69-4d72-8b83-e2f298b42e3e\")) {                    Plotly.newPlot(                        \"0dfd7b92-6e69-4d72-8b83-e2f298b42e3e\",                        [{\"hovertemplate\":\"TOEFL Score=%{x}\\u003cbr\\u003eGRE Score=%{y}\\u003cextra\\u003e\\u003c\\u002fextra\\u003e\",\"legendgroup\":\"\",\"marker\":{\"color\":\"#636efa\",\"symbol\":\"circle\"},\"mode\":\"markers\",\"name\":\"\",\"orientation\":\"v\",\"showlegend\":false,\"x\":[118,107,104,110,103,115,109,101,102,108,106,111,112,109,104,105,107,106,110,102,107,114,116,119,119,120,109,98,93,99,97,103,118,114,112,110,106,105,105,108,110,105,107,117,113,110,114,119,110,111,98,100,116,112,110,103,102,99,99,104,100,101,105,107,111,112,114,107,109,115,118,112,111,108,106,114,112,99,95,93,105,120,110,115,115,103,106,107,108,109,106,97,98,97,99,100,100,120,119,113,107,105,106,104,112,110,111,117,116,103,108,109,107,110,105,106,102,104,99,104,117,119,106,108,106,100,113,112,112,118,114,105,105,112,113,109,103,100,116,109,110,118,115,120,112,113,105,114,116,106,114,116,112,105,108,109,105,104,106,100,103,99,109,105,111,110,102,102,97,99,101,117,110,113,111,111,119,110,108,102,104,107,100,110,106,113,107,118,115,112,111,110,114,118,109,107,105,106,104,107,103,110,120,120,105,99,99,102,106,104,108,110,120,119,117,116,112,109,110,104,103,110,113,109,105,99,110,110,112,111,104,106,107,100,113,111,112,114,104,100,101,103,115,114,107,110,105,104,110,111,104,99,100,115,114,110,99,100,102,119,108,104,103,111,110,102,105,107,113,108,105,96,95,99,100,110,113,101,103,102,102,110,106,111,112,116,118,114,104,109,105,102,99,98,101,100,107,120,114,112,106,108,105,107,106,109,110,112,108,110,104,108,107,100,105,104,101,99,111,113,106,104,107,102,104,116,100,101,112,96,113,105,106,108,107,111,110,118,108,107,107,110,106,103,96,98,97,94,99,101,107,110,100,102,98,106,109,104,105,107,110,116,115,103,102,114,104,98,92,98,103,110,119,109,105,101,96,100,98,99,104,105,110,100,113,117,101,105,97,108,102,106,112,104,111,110,107,116,103,117,100,105,109,116,101,99,103,100,101,98,96,94,102,101,110,106,104,103,111,102,100,112,112,119,114,111,106,101,103,115,104,112,112,111,103,105,110,106,110,105,104,112,116,114,113,116,118,108,109,101,112,113,116,103,105,102,100,99,100,113,105,102,105,107,97,96,99,101,110,114,110,103,116,102,105,101,104,105,103,110,102,107,113,103,106,101,102,115,112,110,105,99,101,95,99,108,117,120,103,113],\"xaxis\":\"x\",\"y\":[337,324,316,322,314,330,321,308,302,323,325,327,328,307,311,314,317,319,318,303,312,325,328,334,336,340,322,298,295,310,300,327,338,340,331,320,299,300,304,307,308,316,313,332,326,322,329,339,321,327,313,312,334,324,322,320,316,298,300,311,309,307,304,315,325,325,327,316,318,328,332,336,321,314,314,329,327,301,296,294,312,340,320,322,340,319,315,317,314,316,318,299,298,301,303,304,306,331,332,323,322,312,314,317,326,316,329,338,331,304,305,321,301,320,311,310,299,290,296,327,335,334,310,308,301,300,323,319,326,333,339,303,309,323,333,314,312,316,326,318,329,332,331,340,325,320,315,326,339,311,334,332,321,324,326,312,315,309,306,297,315,298,318,317,329,322,302,313,293,311,312,334,322,323,321,320,329,319,309,307,300,305,299,314,316,327,317,335,331,324,324,323,322,336,316,307,306,310,311,313,317,315,340,334,298,295,315,310,305,301,325,328,338,333,331,330,322,321,324,312,313,316,324,308,305,296,306,312,318,324,313,319,312,304,330,326,325,329,310,299,296,317,324,325,314,328,316,311,324,321,320,316,318,335,321,307,309,324,326,331,327,312,308,324,325,313,312,314,327,308,306,299,294,312,315,322,329,320,308,304,311,317,312,321,340,331,336,324,314,313,307,300,302,312,316,317,310,320,330,305,309,319,322,323,313,321,323,325,312,308,320,328,311,301,305,308,298,300,324,327,317,323,314,305,315,326,299,295,324,297,327,311,308,319,312,325,319,332,323,324,312,326,308,305,295,316,304,299,302,313,318,325,303,300,297,317,327,301,314,321,322,334,338,306,313,330,320,311,298,301,310,324,336,321,315,304,297,290,303,311,322,319,324,300,340,335,302,307,296,320,314,318,326,317,329,324,325,330,312,333,304,315,324,330,311,302,322,298,297,300,301,313,314,317,321,327,315,316,309,308,299,321,322,334,325,323,312,310,316,340,311,320,324,316,306,309,310,317,318,312,305,332,331,321,324,328,327,320,312,315,320,324,328,319,310,305,299,295,312,329,319,301,307,304,298,305,314,318,323,326,320,311,327,316,308,300,304,309,318,325,321,323,328,304,317,311,319,327,322,302,307,297,298,300,301,332,337,330,312,327],\"yaxis\":\"y\",\"type\":\"scatter\"},{\"hovertemplate\":\"\\u003cb\\u003eOLS trendline\\u003c\\u002fb\\u003e\\u003cbr\\u003eGRE Score = 1.53626 * TOEFL Score + 151.797\\u003cbr\\u003eR\\u003csup\\u003e2\\u003c\\u002fsup\\u003e=0.684261\\u003cbr\\u003e\\u003cbr\\u003eTOEFL Score=%{x}\\u003cbr\\u003eGRE Score=%{y} \\u003cb\\u003e(trend)\\u003c\\u002fb\\u003e\\u003cextra\\u003e\\u003c\\u002fextra\\u003e\",\"legendgroup\":\"\",\"marker\":{\"color\":\"#636efa\",\"symbol\":\"circle\"},\"mode\":\"lines\",\"name\":\"\",\"showlegend\":false,\"x\":[92,93,93,94,94,95,95,95,96,96,96,96,96,96,97,97,97,97,97,97,97,98,98,98,98,98,98,98,98,98,98,99,99,99,99,99,99,99,99,99,99,99,99,99,99,99,99,99,99,99,99,99,99,99,100,100,100,100,100,100,100,100,100,100,100,100,100,100,100,100,100,100,100,100,100,100,100,100,101,101,101,101,101,101,101,101,101,101,101,101,101,101,101,101,101,101,101,101,102,102,102,102,102,102,102,102,102,102,102,102,102,102,102,102,102,102,102,102,102,102,102,102,103,103,103,103,103,103,103,103,103,103,103,103,103,103,103,103,103,103,103,103,103,103,103,103,103,104,104,104,104,104,104,104,104,104,104,104,104,104,104,104,104,104,104,104,104,104,104,104,104,104,104,104,104,104,105,105,105,105,105,105,105,105,105,105,105,105,105,105,105,105,105,105,105,105,105,105,105,105,105,105,105,105,105,105,105,105,105,105,105,105,105,106,106,106,106,106,106,106,106,106,106,106,106,106,106,106,106,106,106,106,106,106,106,106,106,106,106,106,106,107,107,107,107,107,107,107,107,107,107,107,107,107,107,107,107,107,107,107,107,107,107,107,107,107,107,107,107,108,108,108,108,108,108,108,108,108,108,108,108,108,108,108,108,108,108,108,109,109,109,109,109,109,109,109,109,109,109,109,109,109,109,109,109,109,109,110,110,110,110,110,110,110,110,110,110,110,110,110,110,110,110,110,110,110,110,110,110,110,110,110,110,110,110,110,110,110,110,110,110,110,110,110,110,110,110,110,110,110,110,111,111,111,111,111,111,111,111,111,111,111,111,111,111,111,111,111,111,111,111,112,112,112,112,112,112,112,112,112,112,112,112,112,112,112,112,112,112,112,112,112,112,112,112,112,112,112,112,113,113,113,113,113,113,113,113,113,113,113,113,113,113,113,113,113,113,113,114,114,114,114,114,114,114,114,114,114,114,114,114,114,114,114,114,114,115,115,115,115,115,115,115,115,115,115,115,116,116,116,116,116,116,116,116,116,116,116,116,116,116,116,116,117,117,117,117,117,117,117,117,118,118,118,118,118,118,118,118,118,118,119,119,119,119,119,119,119,119,119,119,120,120,120,120,120,120,120,120,120],\"xaxis\":\"x\",\"y\":[293.1330849221304,294.66934842120025,294.66934842120025,296.20561192027014,296.20561192027014,297.74187541934,297.74187541934,297.74187541934,299.2781389184098,299.2781389184098,299.2781389184098,299.2781389184098,299.2781389184098,299.2781389184098,300.81440241747964,300.81440241747964,300.81440241747964,300.81440241747964,300.81440241747964,300.81440241747964,300.81440241747964,302.3506659165495,302.3506659165495,302.3506659165495,302.3506659165495,302.3506659165495,302.3506659165495,302.3506659165495,302.3506659165495,302.3506659165495,302.3506659165495,303.8869294156193,303.8869294156193,303.8869294156193,303.8869294156193,303.8869294156193,303.8869294156193,303.8869294156193,303.8869294156193,303.8869294156193,303.8869294156193,303.8869294156193,303.8869294156193,303.8869294156193,303.8869294156193,303.8869294156193,303.8869294156193,303.8869294156193,303.8869294156193,303.8869294156193,303.8869294156193,303.8869294156193,303.8869294156193,303.8869294156193,305.42319291468914,305.42319291468914,305.42319291468914,305.42319291468914,305.42319291468914,305.42319291468914,305.42319291468914,305.42319291468914,305.42319291468914,305.42319291468914,305.42319291468914,305.42319291468914,305.42319291468914,305.42319291468914,305.42319291468914,305.42319291468914,305.42319291468914,305.42319291468914,305.42319291468914,305.42319291468914,305.42319291468914,305.42319291468914,305.42319291468914,305.42319291468914,306.95945641375897,306.95945641375897,306.95945641375897,306.95945641375897,306.95945641375897,306.95945641375897,306.95945641375897,306.95945641375897,306.95945641375897,306.95945641375897,306.95945641375897,306.95945641375897,306.95945641375897,306.95945641375897,306.95945641375897,306.95945641375897,306.95945641375897,306.95945641375897,306.95945641375897,306.95945641375897,308.4957199128288,308.4957199128288,308.4957199128288,308.4957199128288,308.4957199128288,308.4957199128288,308.4957199128288,308.4957199128288,308.4957199128288,308.4957199128288,308.4957199128288,308.4957199128288,308.4957199128288,308.4957199128288,308.4957199128288,308.4957199128288,308.4957199128288,308.4957199128288,308.4957199128288,308.4957199128288,308.4957199128288,308.4957199128288,308.4957199128288,308.4957199128288,310.03198341189864,310.03198341189864,310.03198341189864,310.03198341189864,310.03198341189864,310.03198341189864,310.03198341189864,310.03198341189864,310.03198341189864,310.03198341189864,310.03198341189864,310.03198341189864,310.03198341189864,310.03198341189864,310.03198341189864,310.03198341189864,310.03198341189864,310.03198341189864,310.03198341189864,310.03198341189864,310.03198341189864,310.03198341189864,310.03198341189864,310.03198341189864,310.03198341189864,311.56824691096847,311.56824691096847,311.56824691096847,311.56824691096847,311.56824691096847,311.56824691096847,311.56824691096847,311.56824691096847,311.56824691096847,311.56824691096847,311.56824691096847,311.56824691096847,311.56824691096847,311.56824691096847,311.56824691096847,311.56824691096847,311.56824691096847,311.56824691096847,311.56824691096847,311.56824691096847,311.56824691096847,311.56824691096847,311.56824691096847,311.56824691096847,311.56824691096847,311.56824691096847,311.56824691096847,311.56824691096847,311.56824691096847,313.1045104100383,313.1045104100383,313.1045104100383,313.1045104100383,313.1045104100383,313.1045104100383,313.1045104100383,313.1045104100383,313.1045104100383,313.1045104100383,313.1045104100383,313.1045104100383,313.1045104100383,313.1045104100383,313.1045104100383,313.1045104100383,313.1045104100383,313.1045104100383,313.1045104100383,313.1045104100383,313.1045104100383,313.1045104100383,313.1045104100383,313.1045104100383,313.1045104100383,313.1045104100383,313.1045104100383,313.1045104100383,313.1045104100383,313.1045104100383,313.1045104100383,313.1045104100383,313.1045104100383,313.1045104100383,313.1045104100383,313.1045104100383,313.1045104100383,314.64077390910813,314.64077390910813,314.64077390910813,314.64077390910813,314.64077390910813,314.64077390910813,314.64077390910813,314.64077390910813,314.64077390910813,314.64077390910813,314.64077390910813,314.64077390910813,314.64077390910813,314.64077390910813,314.64077390910813,314.64077390910813,314.64077390910813,314.64077390910813,314.64077390910813,314.64077390910813,314.64077390910813,314.64077390910813,314.64077390910813,314.64077390910813,314.64077390910813,314.64077390910813,314.64077390910813,314.64077390910813,316.17703740817797,316.17703740817797,316.17703740817797,316.17703740817797,316.17703740817797,316.17703740817797,316.17703740817797,316.17703740817797,316.17703740817797,316.17703740817797,316.17703740817797,316.17703740817797,316.17703740817797,316.17703740817797,316.17703740817797,316.17703740817797,316.17703740817797,316.17703740817797,316.17703740817797,316.17703740817797,316.17703740817797,316.17703740817797,316.17703740817797,316.17703740817797,316.17703740817797,316.17703740817797,316.17703740817797,316.17703740817797,317.71330090724786,317.71330090724786,317.71330090724786,317.71330090724786,317.71330090724786,317.71330090724786,317.71330090724786,317.71330090724786,317.71330090724786,317.71330090724786,317.71330090724786,317.71330090724786,317.71330090724786,317.71330090724786,317.71330090724786,317.71330090724786,317.71330090724786,317.71330090724786,317.71330090724786,319.2495644063177,319.2495644063177,319.2495644063177,319.2495644063177,319.2495644063177,319.2495644063177,319.2495644063177,319.2495644063177,319.2495644063177,319.2495644063177,319.2495644063177,319.2495644063177,319.2495644063177,319.2495644063177,319.2495644063177,319.2495644063177,319.2495644063177,319.2495644063177,319.2495644063177,320.7858279053875,320.7858279053875,320.7858279053875,320.7858279053875,320.7858279053875,320.7858279053875,320.7858279053875,320.7858279053875,320.7858279053875,320.7858279053875,320.7858279053875,320.7858279053875,320.7858279053875,320.7858279053875,320.7858279053875,320.7858279053875,320.7858279053875,320.7858279053875,320.7858279053875,320.7858279053875,320.7858279053875,320.7858279053875,320.7858279053875,320.7858279053875,320.7858279053875,320.7858279053875,320.7858279053875,320.7858279053875,320.7858279053875,320.7858279053875,320.7858279053875,320.7858279053875,320.7858279053875,320.7858279053875,320.7858279053875,320.7858279053875,320.7858279053875,320.7858279053875,320.7858279053875,320.7858279053875,320.7858279053875,320.7858279053875,320.7858279053875,320.7858279053875,322.32209140445735,322.32209140445735,322.32209140445735,322.32209140445735,322.32209140445735,322.32209140445735,322.32209140445735,322.32209140445735,322.32209140445735,322.32209140445735,322.32209140445735,322.32209140445735,322.32209140445735,322.32209140445735,322.32209140445735,322.32209140445735,322.32209140445735,322.32209140445735,322.32209140445735,322.32209140445735,323.8583549035272,323.8583549035272,323.8583549035272,323.8583549035272,323.8583549035272,323.8583549035272,323.8583549035272,323.8583549035272,323.8583549035272,323.8583549035272,323.8583549035272,323.8583549035272,323.8583549035272,323.8583549035272,323.8583549035272,323.8583549035272,323.8583549035272,323.8583549035272,323.8583549035272,323.8583549035272,323.8583549035272,323.8583549035272,323.8583549035272,323.8583549035272,323.8583549035272,323.8583549035272,323.8583549035272,323.8583549035272,325.3946184025971,325.3946184025971,325.3946184025971,325.3946184025971,325.3946184025971,325.3946184025971,325.3946184025971,325.3946184025971,325.3946184025971,325.3946184025971,325.3946184025971,325.3946184025971,325.3946184025971,325.3946184025971,325.3946184025971,325.3946184025971,325.3946184025971,325.3946184025971,325.3946184025971,326.9308819016669,326.9308819016669,326.9308819016669,326.9308819016669,326.9308819016669,326.9308819016669,326.9308819016669,326.9308819016669,326.9308819016669,326.9308819016669,326.9308819016669,326.9308819016669,326.9308819016669,326.9308819016669,326.9308819016669,326.9308819016669,326.9308819016669,326.9308819016669,328.46714540073674,328.46714540073674,328.46714540073674,328.46714540073674,328.46714540073674,328.46714540073674,328.46714540073674,328.46714540073674,328.46714540073674,328.46714540073674,328.46714540073674,330.0034088998066,330.0034088998066,330.0034088998066,330.0034088998066,330.0034088998066,330.0034088998066,330.0034088998066,330.0034088998066,330.0034088998066,330.0034088998066,330.0034088998066,330.0034088998066,330.0034088998066,330.0034088998066,330.0034088998066,330.0034088998066,331.5396723988764,331.5396723988764,331.5396723988764,331.5396723988764,331.5396723988764,331.5396723988764,331.5396723988764,331.5396723988764,333.07593589794624,333.07593589794624,333.07593589794624,333.07593589794624,333.07593589794624,333.07593589794624,333.07593589794624,333.07593589794624,333.07593589794624,333.07593589794624,334.61219939701607,334.61219939701607,334.61219939701607,334.61219939701607,334.61219939701607,334.61219939701607,334.61219939701607,334.61219939701607,334.61219939701607,334.61219939701607,336.1484628960859,336.1484628960859,336.1484628960859,336.1484628960859,336.1484628960859,336.1484628960859,336.1484628960859,336.1484628960859,336.1484628960859],\"yaxis\":\"y\",\"type\":\"scatter\"},{\"hovertemplate\":\"SOP=%{x}\\u003cbr\\u003eUniversity Rating=%{y}\\u003cextra\\u003e\\u003c\\u002fextra\\u003e\",\"legendgroup\":\"\",\"marker\":{\"color\":\"#636efa\",\"symbol\":\"circle\"},\"mode\":\"markers\",\"name\":\"\",\"orientation\":\"v\",\"showlegend\":false,\"x\":[4.5,4.0,3.0,3.5,2.0,4.5,3.0,3.0,2.0,3.5,3.5,4.0,4.0,4.0,3.5,3.5,4.0,4.0,4.0,3.5,3.0,3.0,5.0,5.0,4.0,4.5,4.5,1.5,2.0,1.5,3.0,4.0,3.0,4.0,4.0,5.0,4.0,1.0,3.0,4.0,3.5,2.5,2.5,4.5,4.5,5.0,4.0,4.5,3.5,3.0,2.5,1.5,4.0,4.0,3.0,3.0,2.0,4.0,3.0,2.0,3.0,4.0,3.0,4.0,3.0,3.5,3.0,3.5,3.5,4.5,5.0,5.0,5.0,4.5,3.0,2.0,3.0,3.0,3.0,1.5,2.0,5.0,5.0,4.0,4.5,4.5,4.5,3.5,4.5,4.5,4.0,5.0,4.0,3.0,2.0,1.5,3.0,4.0,5.0,4.0,3.5,2.5,4.0,4.5,3.5,4.0,4.5,3.5,5.0,5.0,3.0,4.0,3.5,4.0,3.5,4.5,4.0,2.0,3.0,3.0,5.0,4.5,1.5,3.5,2.5,2.0,4.0,2.5,3.5,5.0,4.0,5.0,3.5,4.0,4.0,3.5,5.0,1.5,4.5,3.5,4.0,4.5,4.0,4.5,3.0,2.0,2.0,3.0,4.0,3.5,4.0,5.0,5.0,3.0,3.0,3.0,2.0,2.0,2.0,1.5,1.5,1.5,3.0,3.5,4.5,4.5,3.5,2.0,2.0,2.5,2.5,4.0,4.0,4.0,4.0,4.5,4.5,3.5,2.5,3.0,3.5,2.5,3.0,4.0,2.5,4.5,3.5,4.5,4.5,5.0,4.5,4.0,4.5,4.5,3.5,3.0,3.0,3.5,4.5,4.0,2.5,3.5,4.5,4.0,3.5,2.5,3.5,3.5,3.0,3.5,4.5,5.0,5.0,5.0,4.5,5.0,4.5,4.0,3.0,3.5,4.0,3.5,4.5,3.0,3.0,2.5,3.5,3.5,4.0,3.0,4.0,3.5,2.5,2.5,5.0,4.5,4.0,4.5,2.0,1.5,2.5,2.5,3.5,3.5,2.5,4.0,3.0,2.5,3.5,3.5,3.0,2.5,2.5,4.5,4.0,4.0,4.0,4.0,5.0,5.0,5.0,3.5,2.5,2.5,3.0,2.5,2.0,3.0,4.5,4.5,2.5,1.5,1.5,1.0,2.0,3.5,5.0,2.5,3.0,3.0,4.5,4.0,4.0,2.5,5.0,4.0,4.5,5.0,5.0,4.0,2.5,1.5,1.0,3.5,2.5,3.0,3.5,4.0,4.5,3.0,2.5,2.5,3.0,3.5,2.5,3.5,4.0,4.0,3.5,3.5,3.0,4.5,4.5,3.5,3.0,2.5,1.5,1.0,2.5,3.5,4.0,4.0,2.5,2.0,3.0,3.5,2.0,2.5,4.0,2.5,3.5,3.0,3.5,3.0,4.5,4.0,3.0,5.0,4.0,3.5,3.0,3.5,3.0,2.5,1.5,1.5,1.5,1.0,2.0,2.5,3.0,3.5,3.0,3.5,2.5,2.0,3.5,3.5,2.5,2.0,4.0,4.0,4.5,2.5,3.5,4.5,3.5,1.0,2.0,2.0,2.5,3.5,4.5,3.0,2.0,2.0,2.5,1.5,2.0,2.5,3.5,3.0,4.5,3.0,5.0,5.0,2.5,2.0,1.5,3.5,2.0,2.0,4.0,3.0,4.5,3.5,3.0,5.0,3.5,5.0,3.5,3.0,3.5,4.0,2.0,2.5,3.0,2.5,2.0,2.0,3.0,2.5,2.5,3.0,3.5,4.0,4.0,3.5,2.5,2.0,2.0,3.0,3.5,4.5,4.0,4.0,3.0,3.5,2.0,5.0,4.0,3.5,4.5,4.0,3.5,2.5,1.5,1.5,2.5,1.5,2.5,1.5,4.5,4.5,4.0,4.5,5.0,3.5,2.5,3.5,3.0,4.5,5.0,2.5,3.0,1.5,2.0,2.0,3.0,4.0,4.0,2.5,3.0,3.5,2.0,3.0,3.5,3.5,4.0,4.0,4.0,2.0,4.0,4.0,3.0,3.5,2.5,3.5,4.0,4.5,3.5,3.0,4.0,5.0,3.5,2.5,2.5,3.5,3.0,4.0,2.5,3.0,2.5,3.0,2.5,4.5,5.0,4.5,4.0,4.5],\"xaxis\":\"x2\",\"y\":[4,4,3,3,2,5,3,2,1,3,3,4,4,3,3,3,3,3,3,3,3,4,5,5,5,5,5,2,1,2,2,3,4,5,5,5,2,1,1,2,3,2,2,4,5,5,5,5,3,4,3,2,4,4,3,3,3,2,1,2,2,3,2,2,3,4,3,2,3,4,5,5,5,4,3,2,3,2,2,1,3,4,5,5,5,4,3,2,3,4,2,3,2,2,3,4,2,3,4,3,3,2,2,2,3,3,4,4,5,5,5,4,3,2,3,4,3,4,2,5,5,5,4,3,4,3,3,3,3,5,5,5,5,5,5,4,3,2,2,1,2,2,5,4,2,2,3,3,4,2,4,5,5,3,3,3,3,2,2,1,1,1,3,3,4,5,3,3,2,2,2,5,4,4,4,4,4,3,3,3,3,2,2,3,2,4,3,5,5,5,5,5,5,5,3,2,2,2,3,3,3,2,5,5,3,2,2,3,2,3,4,4,4,5,4,5,4,4,4,3,3,3,4,2,2,2,2,2,3,4,3,3,2,2,5,5,4,5,3,1,1,2,3,3,2,4,3,2,3,3,3,2,2,4,4,4,3,3,4,4,5,3,2,3,2,3,2,3,4,4,2,2,1,1,1,3,5,2,2,2,3,3,3,3,4,5,5,5,4,3,2,2,2,1,2,2,3,3,3,3,2,2,2,3,2,3,3,4,3,4,3,4,4,3,2,2,2,1,3,4,3,3,2,2,3,3,3,2,4,2,3,2,3,3,4,4,3,5,5,5,3,3,3,2,2,1,2,1,1,3,3,4,2,3,2,2,3,2,2,2,3,4,5,2,3,4,3,1,1,1,2,3,4,3,2,2,2,1,1,1,3,3,4,3,4,5,2,2,2,3,2,3,4,2,4,3,3,4,3,4,2,2,3,4,3,3,4,3,3,1,1,2,4,3,4,4,3,3,2,2,3,3,4,5,5,5,3,3,2,5,3,2,4,4,3,2,1,1,1,2,2,1,4,5,5,5,4,3,2,3,4,4,4,3,2,2,2,1,1,4,4,3,4,3,2,4,4,5,4,4,5,3,4,2,4,3,3,4,3,4,3,4,4,5,3,2,3,4,3,3,2,4,4,2,3,5,5,5,4,4],\"yaxis\":\"y2\",\"type\":\"scatter\"},{\"hovertemplate\":\"\\u003cb\\u003eOLS trendline\\u003c\\u002fb\\u003e\\u003cbr\\u003eUniversity Rating = 0.840061 * SOP + 0.279634\\u003cbr\\u003eR\\u003csup\\u003e2\\u003c\\u002fsup\\u003e=0.530018\\u003cbr\\u003e\\u003cbr\\u003eSOP=%{x}\\u003cbr\\u003eUniversity Rating=%{y} \\u003cb\\u003e(trend)\\u003c\\u002fb\\u003e\\u003cextra\\u003e\\u003c\\u002fextra\\u003e\",\"legendgroup\":\"\",\"marker\":{\"color\":\"#636efa\",\"symbol\":\"circle\"},\"mode\":\"lines\",\"name\":\"\",\"showlegend\":false,\"x\":[1.0,1.0,1.0,1.0,1.0,1.0,1.5,1.5,1.5,1.5,1.5,1.5,1.5,1.5,1.5,1.5,1.5,1.5,1.5,1.5,1.5,1.5,1.5,1.5,1.5,1.5,1.5,1.5,1.5,1.5,1.5,2.0,2.0,2.0,2.0,2.0,2.0,2.0,2.0,2.0,2.0,2.0,2.0,2.0,2.0,2.0,2.0,2.0,2.0,2.0,2.0,2.0,2.0,2.0,2.0,2.0,2.0,2.0,2.0,2.0,2.0,2.0,2.0,2.0,2.0,2.0,2.0,2.0,2.0,2.0,2.0,2.0,2.0,2.0,2.5,2.5,2.5,2.5,2.5,2.5,2.5,2.5,2.5,2.5,2.5,2.5,2.5,2.5,2.5,2.5,2.5,2.5,2.5,2.5,2.5,2.5,2.5,2.5,2.5,2.5,2.5,2.5,2.5,2.5,2.5,2.5,2.5,2.5,2.5,2.5,2.5,2.5,2.5,2.5,2.5,2.5,2.5,2.5,2.5,2.5,2.5,2.5,2.5,2.5,2.5,2.5,2.5,2.5,2.5,2.5,2.5,2.5,2.5,2.5,2.5,2.5,2.5,2.5,3.0,3.0,3.0,3.0,3.0,3.0,3.0,3.0,3.0,3.0,3.0,3.0,3.0,3.0,3.0,3.0,3.0,3.0,3.0,3.0,3.0,3.0,3.0,3.0,3.0,3.0,3.0,3.0,3.0,3.0,3.0,3.0,3.0,3.0,3.0,3.0,3.0,3.0,3.0,3.0,3.0,3.0,3.0,3.0,3.0,3.0,3.0,3.0,3.0,3.0,3.0,3.0,3.0,3.0,3.0,3.0,3.0,3.0,3.0,3.0,3.0,3.0,3.0,3.0,3.0,3.0,3.0,3.0,3.0,3.0,3.0,3.0,3.0,3.0,3.0,3.0,3.0,3.0,3.0,3.0,3.5,3.5,3.5,3.5,3.5,3.5,3.5,3.5,3.5,3.5,3.5,3.5,3.5,3.5,3.5,3.5,3.5,3.5,3.5,3.5,3.5,3.5,3.5,3.5,3.5,3.5,3.5,3.5,3.5,3.5,3.5,3.5,3.5,3.5,3.5,3.5,3.5,3.5,3.5,3.5,3.5,3.5,3.5,3.5,3.5,3.5,3.5,3.5,3.5,3.5,3.5,3.5,3.5,3.5,3.5,3.5,3.5,3.5,3.5,3.5,3.5,3.5,3.5,3.5,3.5,3.5,3.5,3.5,3.5,3.5,3.5,3.5,3.5,3.5,3.5,3.5,3.5,3.5,3.5,3.5,3.5,3.5,3.5,3.5,3.5,3.5,3.5,3.5,4.0,4.0,4.0,4.0,4.0,4.0,4.0,4.0,4.0,4.0,4.0,4.0,4.0,4.0,4.0,4.0,4.0,4.0,4.0,4.0,4.0,4.0,4.0,4.0,4.0,4.0,4.0,4.0,4.0,4.0,4.0,4.0,4.0,4.0,4.0,4.0,4.0,4.0,4.0,4.0,4.0,4.0,4.0,4.0,4.0,4.0,4.0,4.0,4.0,4.0,4.0,4.0,4.0,4.0,4.0,4.0,4.0,4.0,4.0,4.0,4.0,4.0,4.0,4.0,4.0,4.0,4.0,4.0,4.0,4.0,4.0,4.0,4.0,4.0,4.0,4.0,4.0,4.0,4.0,4.0,4.0,4.0,4.0,4.0,4.0,4.0,4.0,4.0,4.0,4.5,4.5,4.5,4.5,4.5,4.5,4.5,4.5,4.5,4.5,4.5,4.5,4.5,4.5,4.5,4.5,4.5,4.5,4.5,4.5,4.5,4.5,4.5,4.5,4.5,4.5,4.5,4.5,4.5,4.5,4.5,4.5,4.5,4.5,4.5,4.5,4.5,4.5,4.5,4.5,4.5,4.5,4.5,4.5,4.5,4.5,4.5,4.5,4.5,4.5,4.5,4.5,4.5,4.5,4.5,4.5,4.5,4.5,4.5,4.5,4.5,4.5,4.5,5.0,5.0,5.0,5.0,5.0,5.0,5.0,5.0,5.0,5.0,5.0,5.0,5.0,5.0,5.0,5.0,5.0,5.0,5.0,5.0,5.0,5.0,5.0,5.0,5.0,5.0,5.0,5.0,5.0,5.0,5.0,5.0,5.0,5.0,5.0,5.0,5.0,5.0,5.0,5.0,5.0,5.0],\"xaxis\":\"x2\",\"y\":[1.1196950589925292,1.1196950589925292,1.1196950589925292,1.1196950589925292,1.1196950589925292,1.1196950589925292,1.5397255857422052,1.5397255857422052,1.5397255857422052,1.5397255857422052,1.5397255857422052,1.5397255857422052,1.5397255857422052,1.5397255857422052,1.5397255857422052,1.5397255857422052,1.5397255857422052,1.5397255857422052,1.5397255857422052,1.5397255857422052,1.5397255857422052,1.5397255857422052,1.5397255857422052,1.5397255857422052,1.5397255857422052,1.5397255857422052,1.5397255857422052,1.5397255857422052,1.5397255857422052,1.5397255857422052,1.5397255857422052,1.9597561124918816,1.9597561124918816,1.9597561124918816,1.9597561124918816,1.9597561124918816,1.9597561124918816,1.9597561124918816,1.9597561124918816,1.9597561124918816,1.9597561124918816,1.9597561124918816,1.9597561124918816,1.9597561124918816,1.9597561124918816,1.9597561124918816,1.9597561124918816,1.9597561124918816,1.9597561124918816,1.9597561124918816,1.9597561124918816,1.9597561124918816,1.9597561124918816,1.9597561124918816,1.9597561124918816,1.9597561124918816,1.9597561124918816,1.9597561124918816,1.9597561124918816,1.9597561124918816,1.9597561124918816,1.9597561124918816,1.9597561124918816,1.9597561124918816,1.9597561124918816,1.9597561124918816,1.9597561124918816,1.9597561124918816,1.9597561124918816,1.9597561124918816,1.9597561124918816,1.9597561124918816,1.9597561124918816,1.9597561124918816,2.379786639241558,2.379786639241558,2.379786639241558,2.379786639241558,2.379786639241558,2.379786639241558,2.379786639241558,2.379786639241558,2.379786639241558,2.379786639241558,2.379786639241558,2.379786639241558,2.379786639241558,2.379786639241558,2.379786639241558,2.379786639241558,2.379786639241558,2.379786639241558,2.379786639241558,2.379786639241558,2.379786639241558,2.379786639241558,2.379786639241558,2.379786639241558,2.379786639241558,2.379786639241558,2.379786639241558,2.379786639241558,2.379786639241558,2.379786639241558,2.379786639241558,2.379786639241558,2.379786639241558,2.379786639241558,2.379786639241558,2.379786639241558,2.379786639241558,2.379786639241558,2.379786639241558,2.379786639241558,2.379786639241558,2.379786639241558,2.379786639241558,2.379786639241558,2.379786639241558,2.379786639241558,2.379786639241558,2.379786639241558,2.379786639241558,2.379786639241558,2.379786639241558,2.379786639241558,2.379786639241558,2.379786639241558,2.379786639241558,2.379786639241558,2.379786639241558,2.379786639241558,2.379786639241558,2.379786639241558,2.379786639241558,2.379786639241558,2.379786639241558,2.379786639241558,2.799817165991234,2.799817165991234,2.799817165991234,2.799817165991234,2.799817165991234,2.799817165991234,2.799817165991234,2.799817165991234,2.799817165991234,2.799817165991234,2.799817165991234,2.799817165991234,2.799817165991234,2.799817165991234,2.799817165991234,2.799817165991234,2.799817165991234,2.799817165991234,2.799817165991234,2.799817165991234,2.799817165991234,2.799817165991234,2.799817165991234,2.799817165991234,2.799817165991234,2.799817165991234,2.799817165991234,2.799817165991234,2.799817165991234,2.799817165991234,2.799817165991234,2.799817165991234,2.799817165991234,2.799817165991234,2.799817165991234,2.799817165991234,2.799817165991234,2.799817165991234,2.799817165991234,2.799817165991234,2.799817165991234,2.799817165991234,2.799817165991234,2.799817165991234,2.799817165991234,2.799817165991234,2.799817165991234,2.799817165991234,2.799817165991234,2.799817165991234,2.799817165991234,2.799817165991234,2.799817165991234,2.799817165991234,2.799817165991234,2.799817165991234,2.799817165991234,2.799817165991234,2.799817165991234,2.799817165991234,2.799817165991234,2.799817165991234,2.799817165991234,2.799817165991234,2.799817165991234,2.799817165991234,2.799817165991234,2.799817165991234,2.799817165991234,2.799817165991234,2.799817165991234,2.799817165991234,2.799817165991234,2.799817165991234,2.799817165991234,2.799817165991234,2.799817165991234,2.799817165991234,2.799817165991234,2.799817165991234,3.21984769274091,3.21984769274091,3.21984769274091,3.21984769274091,3.21984769274091,3.21984769274091,3.21984769274091,3.21984769274091,3.21984769274091,3.21984769274091,3.21984769274091,3.21984769274091,3.21984769274091,3.21984769274091,3.21984769274091,3.21984769274091,3.21984769274091,3.21984769274091,3.21984769274091,3.21984769274091,3.21984769274091,3.21984769274091,3.21984769274091,3.21984769274091,3.21984769274091,3.21984769274091,3.21984769274091,3.21984769274091,3.21984769274091,3.21984769274091,3.21984769274091,3.21984769274091,3.21984769274091,3.21984769274091,3.21984769274091,3.21984769274091,3.21984769274091,3.21984769274091,3.21984769274091,3.21984769274091,3.21984769274091,3.21984769274091,3.21984769274091,3.21984769274091,3.21984769274091,3.21984769274091,3.21984769274091,3.21984769274091,3.21984769274091,3.21984769274091,3.21984769274091,3.21984769274091,3.21984769274091,3.21984769274091,3.21984769274091,3.21984769274091,3.21984769274091,3.21984769274091,3.21984769274091,3.21984769274091,3.21984769274091,3.21984769274091,3.21984769274091,3.21984769274091,3.21984769274091,3.21984769274091,3.21984769274091,3.21984769274091,3.21984769274091,3.21984769274091,3.21984769274091,3.21984769274091,3.21984769274091,3.21984769274091,3.21984769274091,3.21984769274091,3.21984769274091,3.21984769274091,3.21984769274091,3.21984769274091,3.21984769274091,3.21984769274091,3.21984769274091,3.21984769274091,3.21984769274091,3.21984769274091,3.21984769274091,3.21984769274091,3.6398782194905865,3.6398782194905865,3.6398782194905865,3.6398782194905865,3.6398782194905865,3.6398782194905865,3.6398782194905865,3.6398782194905865,3.6398782194905865,3.6398782194905865,3.6398782194905865,3.6398782194905865,3.6398782194905865,3.6398782194905865,3.6398782194905865,3.6398782194905865,3.6398782194905865,3.6398782194905865,3.6398782194905865,3.6398782194905865,3.6398782194905865,3.6398782194905865,3.6398782194905865,3.6398782194905865,3.6398782194905865,3.6398782194905865,3.6398782194905865,3.6398782194905865,3.6398782194905865,3.6398782194905865,3.6398782194905865,3.6398782194905865,3.6398782194905865,3.6398782194905865,3.6398782194905865,3.6398782194905865,3.6398782194905865,3.6398782194905865,3.6398782194905865,3.6398782194905865,3.6398782194905865,3.6398782194905865,3.6398782194905865,3.6398782194905865,3.6398782194905865,3.6398782194905865,3.6398782194905865,3.6398782194905865,3.6398782194905865,3.6398782194905865,3.6398782194905865,3.6398782194905865,3.6398782194905865,3.6398782194905865,3.6398782194905865,3.6398782194905865,3.6398782194905865,3.6398782194905865,3.6398782194905865,3.6398782194905865,3.6398782194905865,3.6398782194905865,3.6398782194905865,3.6398782194905865,3.6398782194905865,3.6398782194905865,3.6398782194905865,3.6398782194905865,3.6398782194905865,3.6398782194905865,3.6398782194905865,3.6398782194905865,3.6398782194905865,3.6398782194905865,3.6398782194905865,3.6398782194905865,3.6398782194905865,3.6398782194905865,3.6398782194905865,3.6398782194905865,3.6398782194905865,3.6398782194905865,3.6398782194905865,3.6398782194905865,3.6398782194905865,3.6398782194905865,3.6398782194905865,3.6398782194905865,3.6398782194905865,4.0599087462402625,4.0599087462402625,4.0599087462402625,4.0599087462402625,4.0599087462402625,4.0599087462402625,4.0599087462402625,4.0599087462402625,4.0599087462402625,4.0599087462402625,4.0599087462402625,4.0599087462402625,4.0599087462402625,4.0599087462402625,4.0599087462402625,4.0599087462402625,4.0599087462402625,4.0599087462402625,4.0599087462402625,4.0599087462402625,4.0599087462402625,4.0599087462402625,4.0599087462402625,4.0599087462402625,4.0599087462402625,4.0599087462402625,4.0599087462402625,4.0599087462402625,4.0599087462402625,4.0599087462402625,4.0599087462402625,4.0599087462402625,4.0599087462402625,4.0599087462402625,4.0599087462402625,4.0599087462402625,4.0599087462402625,4.0599087462402625,4.0599087462402625,4.0599087462402625,4.0599087462402625,4.0599087462402625,4.0599087462402625,4.0599087462402625,4.0599087462402625,4.0599087462402625,4.0599087462402625,4.0599087462402625,4.0599087462402625,4.0599087462402625,4.0599087462402625,4.0599087462402625,4.0599087462402625,4.0599087462402625,4.0599087462402625,4.0599087462402625,4.0599087462402625,4.0599087462402625,4.0599087462402625,4.0599087462402625,4.0599087462402625,4.0599087462402625,4.0599087462402625,4.479939272989939,4.479939272989939,4.479939272989939,4.479939272989939,4.479939272989939,4.479939272989939,4.479939272989939,4.479939272989939,4.479939272989939,4.479939272989939,4.479939272989939,4.479939272989939,4.479939272989939,4.479939272989939,4.479939272989939,4.479939272989939,4.479939272989939,4.479939272989939,4.479939272989939,4.479939272989939,4.479939272989939,4.479939272989939,4.479939272989939,4.479939272989939,4.479939272989939,4.479939272989939,4.479939272989939,4.479939272989939,4.479939272989939,4.479939272989939,4.479939272989939,4.479939272989939,4.479939272989939,4.479939272989939,4.479939272989939,4.479939272989939,4.479939272989939,4.479939272989939,4.479939272989939,4.479939272989939,4.479939272989939,4.479939272989939],\"yaxis\":\"y2\",\"type\":\"scatter\"},{\"hovertemplate\":\"CGPA=%{x}\\u003cbr\\u003eGRE Score=%{y}\\u003cextra\\u003e\\u003c\\u002fextra\\u003e\",\"legendgroup\":\"\",\"marker\":{\"color\":\"#636efa\",\"symbol\":\"circle\"},\"mode\":\"markers\",\"name\":\"\",\"orientation\":\"v\",\"showlegend\":false,\"x\":[9.65,8.87,8.0,8.67,8.21,9.34,8.2,7.9,8.0,8.6,8.4,9.0,9.1,8.0,8.2,8.3,8.7,8.0,8.8,8.5,7.9,8.4,9.5,9.7,9.8,9.6,8.8,7.5,7.2,7.3,8.1,8.3,9.4,9.6,9.8,9.2,8.4,7.8,7.5,7.7,8.0,8.2,8.5,9.1,9.4,9.1,9.3,9.7,8.85,8.4,8.3,7.9,8.0,8.1,8.0,7.7,7.4,7.6,6.8,8.3,8.1,8.2,8.2,8.5,8.7,8.92,9.02,8.64,9.22,9.16,9.64,9.76,9.45,9.04,8.9,8.56,8.72,8.22,7.54,7.36,8.02,9.5,9.22,9.36,9.45,8.66,8.42,8.28,8.14,8.76,7.92,7.66,8.03,7.88,7.66,7.84,8.0,8.96,9.24,8.88,8.46,8.12,8.25,8.47,9.05,8.78,9.18,9.46,9.38,8.64,8.48,8.68,8.34,8.56,8.45,9.04,8.62,7.46,7.28,8.84,9.56,9.48,8.36,8.22,8.47,8.66,9.32,8.71,9.1,9.35,9.76,8.65,8.56,8.78,9.28,8.77,8.45,8.16,9.08,9.12,9.15,9.36,9.44,9.92,8.96,8.64,8.48,9.11,9.8,8.26,9.43,9.28,9.06,8.75,8.89,8.69,8.34,8.26,8.14,7.9,7.86,7.46,8.5,8.56,9.01,8.97,8.33,8.27,7.8,7.98,8.04,9.07,9.13,9.23,8.97,8.87,9.16,9.04,8.12,8.27,8.16,8.42,7.88,8.8,8.32,9.11,8.68,9.44,9.36,9.08,9.16,8.98,8.94,9.53,8.76,8.52,8.26,8.33,8.43,8.69,8.54,8.46,9.91,9.87,8.54,7.65,7.89,8.02,8.16,8.12,9.06,9.14,9.66,9.78,9.42,9.36,9.26,9.13,8.97,8.42,8.75,8.56,8.79,8.45,8.23,8.03,8.45,8.53,8.67,9.01,8.65,8.33,8.27,8.07,9.31,9.23,9.17,9.19,8.37,7.89,7.68,8.15,8.76,9.04,8.56,9.02,8.73,8.48,8.87,8.83,8.57,9.0,8.54,9.68,9.12,8.37,8.56,8.64,8.76,9.34,9.13,8.09,8.36,8.79,8.76,8.68,8.45,8.17,9.14,8.34,8.22,7.86,7.64,8.01,7.95,8.96,9.45,8.62,8.49,8.73,8.64,9.11,8.79,8.9,9.66,9.26,9.19,9.08,9.02,9.0,7.65,7.87,7.97,8.18,8.32,8.57,8.67,9.11,9.24,8.65,8.0,8.76,8.45,8.55,8.43,8.8,9.1,9.0,8.53,8.6,8.74,9.18,9.0,8.04,8.13,8.07,7.86,8.01,8.8,8.69,8.5,8.44,8.27,8.18,8.33,9.14,8.02,7.86,8.77,7.89,8.66,8.12,8.21,8.54,8.65,9.11,8.79,9.47,8.74,8.66,8.46,8.76,8.24,8.13,7.34,7.43,7.64,7.34,7.25,8.04,8.27,8.67,8.06,8.17,7.67,8.12,8.77,7.89,7.64,8.44,8.64,9.54,9.23,8.36,8.9,9.17,8.34,7.46,7.88,8.03,8.24,9.22,9.62,8.54,7.65,7.66,7.43,7.56,7.65,8.43,8.84,8.67,9.15,8.26,9.74,9.82,7.96,8.1,7.8,8.44,8.24,8.65,9.12,8.76,9.23,9.04,9.11,9.45,8.78,9.66,8.22,8.34,8.94,9.23,7.64,7.45,8.02,7.95,7.67,8.02,7.56,8.13,7.88,7.94,8.35,8.75,8.1,7.68,8.03,7.98,7.42,8.95,9.02,9.54,9.46,9.86,8.57,8.65,8.74,9.06,8.13,8.78,9.22,8.54,8.21,7.68,7.23,7.65,8.54,8.46,7.79,8.66,9.44,9.16,9.25,9.08,9.67,8.97,9.02,9.13,8.86,9.25,9.6,8.76,8.01,7.64,7.88,7.57,8.53,9.36,8.66,8.13,7.94,7.86,7.21,8.26,8.73,8.78,8.88,9.16,9.27,8.09,9.48,8.15,7.95,7.88,8.12,8.18,8.49,8.96,9.01,8.48,8.77,7.92,7.89,8.34,8.37,9.14,8.62,8.5,8.12,7.81,7.69,8.22,8.45,9.02,9.87,9.56,8.43,9.04],\"xaxis\":\"x3\",\"y\":[337,324,316,322,314,330,321,308,302,323,325,327,328,307,311,314,317,319,318,303,312,325,328,334,336,340,322,298,295,310,300,327,338,340,331,320,299,300,304,307,308,316,313,332,326,322,329,339,321,327,313,312,334,324,322,320,316,298,300,311,309,307,304,315,325,325,327,316,318,328,332,336,321,314,314,329,327,301,296,294,312,340,320,322,340,319,315,317,314,316,318,299,298,301,303,304,306,331,332,323,322,312,314,317,326,316,329,338,331,304,305,321,301,320,311,310,299,290,296,327,335,334,310,308,301,300,323,319,326,333,339,303,309,323,333,314,312,316,326,318,329,332,331,340,325,320,315,326,339,311,334,332,321,324,326,312,315,309,306,297,315,298,318,317,329,322,302,313,293,311,312,334,322,323,321,320,329,319,309,307,300,305,299,314,316,327,317,335,331,324,324,323,322,336,316,307,306,310,311,313,317,315,340,334,298,295,315,310,305,301,325,328,338,333,331,330,322,321,324,312,313,316,324,308,305,296,306,312,318,324,313,319,312,304,330,326,325,329,310,299,296,317,324,325,314,328,316,311,324,321,320,316,318,335,321,307,309,324,326,331,327,312,308,324,325,313,312,314,327,308,306,299,294,312,315,322,329,320,308,304,311,317,312,321,340,331,336,324,314,313,307,300,302,312,316,317,310,320,330,305,309,319,322,323,313,321,323,325,312,308,320,328,311,301,305,308,298,300,324,327,317,323,314,305,315,326,299,295,324,297,327,311,308,319,312,325,319,332,323,324,312,326,308,305,295,316,304,299,302,313,318,325,303,300,297,317,327,301,314,321,322,334,338,306,313,330,320,311,298,301,310,324,336,321,315,304,297,290,303,311,322,319,324,300,340,335,302,307,296,320,314,318,326,317,329,324,325,330,312,333,304,315,324,330,311,302,322,298,297,300,301,313,314,317,321,327,315,316,309,308,299,321,322,334,325,323,312,310,316,340,311,320,324,316,306,309,310,317,318,312,305,332,331,321,324,328,327,320,312,315,320,324,328,319,310,305,299,295,312,329,319,301,307,304,298,305,314,318,323,326,320,311,327,316,308,300,304,309,318,325,321,323,328,304,317,311,319,327,322,302,307,297,298,300,301,332,337,330,312,327],\"yaxis\":\"y3\",\"type\":\"scatter\"},{\"hovertemplate\":\"\\u003cb\\u003eOLS trendline\\u003c\\u002fb\\u003e\\u003cbr\\u003eGRE Score = 15.4236 * CGPA + 184.192\\u003cbr\\u003eR\\u003csup\\u003e2\\u003c\\u002fsup\\u003e=0.682074\\u003cbr\\u003e\\u003cbr\\u003eCGPA=%{x}\\u003cbr\\u003eGRE Score=%{y} \\u003cb\\u003e(trend)\\u003c\\u002fb\\u003e\\u003cextra\\u003e\\u003c\\u002fextra\\u003e\",\"legendgroup\":\"\",\"marker\":{\"color\":\"#636efa\",\"symbol\":\"circle\"},\"mode\":\"lines\",\"name\":\"\",\"showlegend\":false,\"x\":[6.8,7.2,7.21,7.23,7.25,7.28,7.3,7.34,7.34,7.36,7.4,7.42,7.43,7.43,7.45,7.46,7.46,7.46,7.5,7.5,7.54,7.56,7.56,7.57,7.6,7.64,7.64,7.64,7.64,7.64,7.65,7.65,7.65,7.65,7.65,7.66,7.66,7.66,7.67,7.67,7.68,7.68,7.68,7.69,7.7,7.7,7.79,7.8,7.8,7.8,7.81,7.84,7.86,7.86,7.86,7.86,7.86,7.87,7.88,7.88,7.88,7.88,7.88,7.88,7.89,7.89,7.89,7.89,7.89,7.9,7.9,7.9,7.9,7.92,7.92,7.94,7.94,7.95,7.95,7.95,7.96,7.97,7.98,7.98,8.0,8.0,8.0,8.0,8.0,8.0,8.0,8.0,8.0,8.01,8.01,8.01,8.02,8.02,8.02,8.02,8.02,8.03,8.03,8.03,8.03,8.04,8.04,8.04,8.06,8.07,8.07,8.09,8.09,8.1,8.1,8.1,8.1,8.1,8.12,8.12,8.12,8.12,8.12,8.12,8.12,8.13,8.13,8.13,8.13,8.13,8.14,8.14,8.15,8.15,8.16,8.16,8.16,8.17,8.17,8.18,8.18,8.18,8.2,8.2,8.2,8.2,8.2,8.21,8.21,8.21,8.22,8.22,8.22,8.22,8.22,8.23,8.24,8.24,8.24,8.25,8.26,8.26,8.26,8.26,8.26,8.27,8.27,8.27,8.27,8.27,8.28,8.3,8.3,8.3,8.3,8.32,8.32,8.33,8.33,8.33,8.33,8.34,8.34,8.34,8.34,8.34,8.34,8.35,8.36,8.36,8.36,8.37,8.37,8.37,8.4,8.4,8.4,8.4,8.42,8.42,8.42,8.43,8.43,8.43,8.43,8.44,8.44,8.44,8.45,8.45,8.45,8.45,8.45,8.45,8.45,8.46,8.46,8.46,8.46,8.47,8.47,8.48,8.48,8.48,8.48,8.49,8.49,8.5,8.5,8.5,8.5,8.5,8.5,8.52,8.53,8.53,8.53,8.54,8.54,8.54,8.54,8.54,8.54,8.54,8.55,8.56,8.56,8.56,8.56,8.56,8.56,8.56,8.57,8.57,8.57,8.6,8.6,8.62,8.62,8.62,8.64,8.64,8.64,8.64,8.64,8.64,8.65,8.65,8.65,8.65,8.65,8.65,8.66,8.66,8.66,8.66,8.66,8.66,8.67,8.67,8.67,8.67,8.67,8.68,8.68,8.68,8.69,8.69,8.69,8.7,8.7,8.71,8.72,8.73,8.73,8.73,8.74,8.74,8.74,8.75,8.75,8.75,8.76,8.76,8.76,8.76,8.76,8.76,8.76,8.76,8.76,8.77,8.77,8.77,8.77,8.78,8.78,8.78,8.78,8.78,8.79,8.79,8.79,8.79,8.8,8.8,8.8,8.8,8.8,8.83,8.84,8.84,8.85,8.86,8.87,8.87,8.87,8.88,8.88,8.89,8.9,8.9,8.9,8.92,8.94,8.94,8.95,8.96,8.96,8.96,8.96,8.97,8.97,8.97,8.97,8.98,9.0,9.0,9.0,9.0,9.0,9.01,9.01,9.01,9.02,9.02,9.02,9.02,9.02,9.02,9.04,9.04,9.04,9.04,9.04,9.04,9.05,9.06,9.06,9.06,9.07,9.08,9.08,9.08,9.08,9.1,9.1,9.1,9.1,9.1,9.11,9.11,9.11,9.11,9.11,9.11,9.12,9.12,9.12,9.13,9.13,9.13,9.13,9.14,9.14,9.14,9.14,9.15,9.15,9.16,9.16,9.16,9.16,9.16,9.17,9.17,9.18,9.18,9.19,9.19,9.2,9.22,9.22,9.22,9.22,9.23,9.23,9.23,9.23,9.23,9.24,9.24,9.25,9.25,9.26,9.26,9.27,9.28,9.28,9.3,9.31,9.32,9.34,9.34,9.35,9.36,9.36,9.36,9.36,9.36,9.38,9.4,9.4,9.42,9.43,9.44,9.44,9.44,9.45,9.45,9.45,9.45,9.46,9.46,9.47,9.48,9.48,9.5,9.5,9.53,9.54,9.54,9.56,9.56,9.6,9.6,9.6,9.62,9.64,9.65,9.66,9.66,9.66,9.67,9.68,9.7,9.7,9.74,9.76,9.76,9.78,9.8,9.8,9.8,9.82,9.86,9.87,9.87,9.91,9.92],\"xaxis\":\"x3\",\"y\":[289.07283153108943,295.2422869517983,295.396523337316,295.70499610835145,296.0134688793869,296.47617803594005,296.7846508069755,297.4015963490464,297.4015963490464,297.7100691200818,298.3270146621527,298.63548743318813,298.78972381870585,298.78972381870585,299.0981965897413,299.252432975259,299.252432975259,299.252432975259,299.8693785173299,299.8693785173299,300.4863240594008,300.7947968304362,300.7947968304362,300.94903321595393,301.4117423725071,302.028687914578,302.028687914578,302.028687914578,302.028687914578,302.028687914578,302.1829243000957,302.1829243000957,302.1829243000957,302.1829243000957,302.1829243000957,302.3371606856134,302.3371606856134,302.3371606856134,302.49139707113113,302.49139707113113,302.64563345664885,302.64563345664885,302.64563345664885,302.7998698421666,302.9541062276843,302.9541062276843,304.34223369734383,304.4964700828615,304.4964700828615,304.4964700828615,304.6507064683792,305.11341562493243,305.42188839596787,305.42188839596787,305.42188839596787,305.42188839596787,305.42188839596787,305.5761247814856,305.7303611670033,305.7303611670033,305.7303611670033,305.7303611670033,305.7303611670033,305.7303611670033,305.88459755252103,305.88459755252103,305.88459755252103,305.88459755252103,305.88459755252103,306.03883393803875,306.03883393803875,306.03883393803875,306.03883393803875,306.3473067090742,306.3473067090742,306.65577948010963,306.65577948010963,306.81001586562735,306.81001586562735,306.81001586562735,306.96425225114507,307.1184886366628,307.2727250221805,307.2727250221805,307.58119779321595,307.58119779321595,307.58119779321595,307.58119779321595,307.58119779321595,307.58119779321595,307.58119779321595,307.58119779321595,307.58119779321595,307.73543417873367,307.73543417873367,307.73543417873367,307.8896705642514,307.8896705642514,307.8896705642514,307.8896705642514,307.8896705642514,308.0439069497691,308.0439069497691,308.0439069497691,308.0439069497691,308.19814333528683,308.19814333528683,308.19814333528683,308.50661610632227,308.66085249184,308.66085249184,308.96932526287543,308.96932526287543,309.12356164839315,309.12356164839315,309.12356164839315,309.12356164839315,309.12356164839315,309.4320344194286,309.4320344194286,309.4320344194286,309.4320344194286,309.4320344194286,309.4320344194286,309.4320344194286,309.58627080494637,309.58627080494637,309.58627080494637,309.58627080494637,309.58627080494637,309.7405071904641,309.7405071904641,309.89474357598175,309.89474357598175,310.04897996149947,310.04897996149947,310.04897996149947,310.2032163470172,310.2032163470172,310.3574527325349,310.3574527325349,310.3574527325349,310.66592550357035,310.66592550357035,310.66592550357035,310.66592550357035,310.66592550357035,310.8201618890881,310.8201618890881,310.8201618890881,310.97439827460585,310.97439827460585,310.97439827460585,310.97439827460585,310.97439827460585,311.12863466012357,311.2828710456413,311.2828710456413,311.2828710456413,311.437107431159,311.5913438166767,311.5913438166767,311.5913438166767,311.5913438166767,311.5913438166767,311.7455802021944,311.7455802021944,311.7455802021944,311.7455802021944,311.7455802021944,311.8998165877121,312.2082893587476,312.2082893587476,312.2082893587476,312.2082893587476,312.51676212978305,312.51676212978305,312.67099851530077,312.67099851530077,312.67099851530077,312.67099851530077,312.8252349008185,312.8252349008185,312.8252349008185,312.8252349008185,312.8252349008185,312.8252349008185,312.9794712863362,313.1337076718539,313.1337076718539,313.1337076718539,313.28794405737165,313.28794405737165,313.28794405737165,313.7506532139248,313.7506532139248,313.7506532139248,313.7506532139248,314.05912598496025,314.05912598496025,314.05912598496025,314.21336237047797,314.21336237047797,314.21336237047797,314.21336237047797,314.3675987559957,314.3675987559957,314.3675987559957,314.5218351415134,314.5218351415134,314.5218351415134,314.5218351415134,314.5218351415134,314.5218351415134,314.5218351415134,314.6760715270311,314.6760715270311,314.6760715270311,314.6760715270311,314.83030791254885,314.83030791254885,314.98454429806657,314.98454429806657,314.98454429806657,314.98454429806657,315.1387806835843,315.1387806835843,315.293017069102,315.293017069102,315.293017069102,315.293017069102,315.293017069102,315.293017069102,315.60148984013745,315.75572622565517,315.75572622565517,315.75572622565517,315.9099626111729,315.9099626111729,315.9099626111729,315.9099626111729,315.9099626111729,315.9099626111729,315.9099626111729,316.0641989966906,316.2184353822083,316.2184353822083,316.2184353822083,316.2184353822083,316.2184353822083,316.2184353822083,316.2184353822083,316.37267176772605,316.37267176772605,316.37267176772605,316.8353809242792,316.8353809242792,317.14385369531465,317.14385369531465,317.14385369531465,317.4523264663501,317.4523264663501,317.4523264663501,317.4523264663501,317.4523264663501,317.4523264663501,317.6065628518678,317.6065628518678,317.6065628518678,317.6065628518678,317.6065628518678,317.6065628518678,317.7607992373855,317.7607992373855,317.7607992373855,317.7607992373855,317.7607992373855,317.7607992373855,317.91503562290325,317.91503562290325,317.91503562290325,317.91503562290325,317.91503562290325,318.06927200842097,318.06927200842097,318.06927200842097,318.2235083939387,318.2235083939387,318.2235083939387,318.3777447794564,318.3777447794564,318.5319811649741,318.68621755049185,318.84045393600957,318.84045393600957,318.84045393600957,318.9946903215273,318.9946903215273,318.9946903215273,319.148926707045,319.148926707045,319.148926707045,319.3031630925627,319.3031630925627,319.3031630925627,319.3031630925627,319.3031630925627,319.3031630925627,319.3031630925627,319.3031630925627,319.3031630925627,319.45739947808045,319.45739947808045,319.45739947808045,319.45739947808045,319.61163586359817,319.61163586359817,319.61163586359817,319.61163586359817,319.61163586359817,319.7658722491159,319.7658722491159,319.7658722491159,319.7658722491159,319.9201086346336,319.9201086346336,319.9201086346336,319.9201086346336,319.9201086346336,320.38281779118677,320.5370541767045,320.5370541767045,320.6912905622222,320.8455269477399,320.99976333325765,320.99976333325765,320.99976333325765,321.1539997187754,321.1539997187754,321.3082361042931,321.4624724898108,321.4624724898108,321.4624724898108,321.77094526084625,322.0794180318817,322.0794180318817,322.2336544173994,322.3878908029172,322.3878908029172,322.3878908029172,322.3878908029172,322.5421271884349,322.5421271884349,322.5421271884349,322.5421271884349,322.6963635739526,323.00483634498806,323.00483634498806,323.00483634498806,323.00483634498806,323.00483634498806,323.1590727305057,323.1590727305057,323.1590727305057,323.31330911602345,323.31330911602345,323.31330911602345,323.31330911602345,323.31330911602345,323.31330911602345,323.6217818870589,323.6217818870589,323.6217818870589,323.6217818870589,323.6217818870589,323.6217818870589,323.77601827257666,323.9302546580944,323.9302546580944,323.9302546580944,324.0844910436121,324.2387274291298,324.2387274291298,324.2387274291298,324.2387274291298,324.54720020016526,324.54720020016526,324.54720020016526,324.54720020016526,324.54720020016526,324.701436585683,324.701436585683,324.701436585683,324.701436585683,324.701436585683,324.701436585683,324.85567297120065,324.85567297120065,324.85567297120065,325.0099093567184,325.0099093567184,325.0099093567184,325.0099093567184,325.16414574223614,325.16414574223614,325.16414574223614,325.16414574223614,325.31838212775386,325.31838212775386,325.4726185132716,325.4726185132716,325.4726185132716,325.4726185132716,325.4726185132716,325.6268548987893,325.6268548987893,325.781091284307,325.781091284307,325.93532766982474,325.93532766982474,326.08956405534246,326.39803682637796,326.39803682637796,326.39803682637796,326.39803682637796,326.5522732118957,326.5522732118957,326.5522732118957,326.5522732118957,326.5522732118957,326.70650959741334,326.70650959741334,326.86074598293106,326.86074598293106,327.0149823684488,327.0149823684488,327.1692187539665,327.3234551394842,327.3234551394842,327.6319279105197,327.78616429603744,327.94040068155516,328.2488734525906,328.2488734525906,328.4031098381083,328.557346223626,328.557346223626,328.557346223626,328.557346223626,328.557346223626,328.8658189946615,329.1742917656969,329.1742917656969,329.48276453673236,329.6370009222501,329.7912373077678,329.7912373077678,329.7912373077678,329.9454736932855,329.9454736932855,329.9454736932855,329.9454736932855,330.09971007880324,330.09971007880324,330.25394646432096,330.4081828498387,330.4081828498387,330.7166556208741,330.7166556208741,331.1793647774273,331.333601162945,331.333601162945,331.64207393398044,331.64207393398044,332.2590194760513,332.2590194760513,332.2590194760513,332.56749224708676,332.8759650181222,333.0302014036399,333.18443778915764,333.18443778915764,333.18443778915764,333.33867417467536,333.4929105601931,333.8013833312285,333.8013833312285,334.4183288732994,334.72680164433484,334.72680164433484,335.0352744153703,335.3437471864057,335.3437471864057,335.3437471864057,335.65221995744116,336.26916549951204,336.42340188502976,336.42340188502976,337.04034742710064,337.19458381261836],\"yaxis\":\"y3\",\"type\":\"scatter\"},{\"hovertemplate\":\"CGPA=%{x}\\u003cbr\\u003eTOEFL Score=%{y}\\u003cextra\\u003e\\u003c\\u002fextra\\u003e\",\"legendgroup\":\"\",\"marker\":{\"color\":\"#636efa\",\"symbol\":\"circle\"},\"mode\":\"markers\",\"name\":\"\",\"orientation\":\"v\",\"showlegend\":false,\"x\":[9.65,8.87,8.0,8.67,8.21,9.34,8.2,7.9,8.0,8.6,8.4,9.0,9.1,8.0,8.2,8.3,8.7,8.0,8.8,8.5,7.9,8.4,9.5,9.7,9.8,9.6,8.8,7.5,7.2,7.3,8.1,8.3,9.4,9.6,9.8,9.2,8.4,7.8,7.5,7.7,8.0,8.2,8.5,9.1,9.4,9.1,9.3,9.7,8.85,8.4,8.3,7.9,8.0,8.1,8.0,7.7,7.4,7.6,6.8,8.3,8.1,8.2,8.2,8.5,8.7,8.92,9.02,8.64,9.22,9.16,9.64,9.76,9.45,9.04,8.9,8.56,8.72,8.22,7.54,7.36,8.02,9.5,9.22,9.36,9.45,8.66,8.42,8.28,8.14,8.76,7.92,7.66,8.03,7.88,7.66,7.84,8.0,8.96,9.24,8.88,8.46,8.12,8.25,8.47,9.05,8.78,9.18,9.46,9.38,8.64,8.48,8.68,8.34,8.56,8.45,9.04,8.62,7.46,7.28,8.84,9.56,9.48,8.36,8.22,8.47,8.66,9.32,8.71,9.1,9.35,9.76,8.65,8.56,8.78,9.28,8.77,8.45,8.16,9.08,9.12,9.15,9.36,9.44,9.92,8.96,8.64,8.48,9.11,9.8,8.26,9.43,9.28,9.06,8.75,8.89,8.69,8.34,8.26,8.14,7.9,7.86,7.46,8.5,8.56,9.01,8.97,8.33,8.27,7.8,7.98,8.04,9.07,9.13,9.23,8.97,8.87,9.16,9.04,8.12,8.27,8.16,8.42,7.88,8.8,8.32,9.11,8.68,9.44,9.36,9.08,9.16,8.98,8.94,9.53,8.76,8.52,8.26,8.33,8.43,8.69,8.54,8.46,9.91,9.87,8.54,7.65,7.89,8.02,8.16,8.12,9.06,9.14,9.66,9.78,9.42,9.36,9.26,9.13,8.97,8.42,8.75,8.56,8.79,8.45,8.23,8.03,8.45,8.53,8.67,9.01,8.65,8.33,8.27,8.07,9.31,9.23,9.17,9.19,8.37,7.89,7.68,8.15,8.76,9.04,8.56,9.02,8.73,8.48,8.87,8.83,8.57,9.0,8.54,9.68,9.12,8.37,8.56,8.64,8.76,9.34,9.13,8.09,8.36,8.79,8.76,8.68,8.45,8.17,9.14,8.34,8.22,7.86,7.64,8.01,7.95,8.96,9.45,8.62,8.49,8.73,8.64,9.11,8.79,8.9,9.66,9.26,9.19,9.08,9.02,9.0,7.65,7.87,7.97,8.18,8.32,8.57,8.67,9.11,9.24,8.65,8.0,8.76,8.45,8.55,8.43,8.8,9.1,9.0,8.53,8.6,8.74,9.18,9.0,8.04,8.13,8.07,7.86,8.01,8.8,8.69,8.5,8.44,8.27,8.18,8.33,9.14,8.02,7.86,8.77,7.89,8.66,8.12,8.21,8.54,8.65,9.11,8.79,9.47,8.74,8.66,8.46,8.76,8.24,8.13,7.34,7.43,7.64,7.34,7.25,8.04,8.27,8.67,8.06,8.17,7.67,8.12,8.77,7.89,7.64,8.44,8.64,9.54,9.23,8.36,8.9,9.17,8.34,7.46,7.88,8.03,8.24,9.22,9.62,8.54,7.65,7.66,7.43,7.56,7.65,8.43,8.84,8.67,9.15,8.26,9.74,9.82,7.96,8.1,7.8,8.44,8.24,8.65,9.12,8.76,9.23,9.04,9.11,9.45,8.78,9.66,8.22,8.34,8.94,9.23,7.64,7.45,8.02,7.95,7.67,8.02,7.56,8.13,7.88,7.94,8.35,8.75,8.1,7.68,8.03,7.98,7.42,8.95,9.02,9.54,9.46,9.86,8.57,8.65,8.74,9.06,8.13,8.78,9.22,8.54,8.21,7.68,7.23,7.65,8.54,8.46,7.79,8.66,9.44,9.16,9.25,9.08,9.67,8.97,9.02,9.13,8.86,9.25,9.6,8.76,8.01,7.64,7.88,7.57,8.53,9.36,8.66,8.13,7.94,7.86,7.21,8.26,8.73,8.78,8.88,9.16,9.27,8.09,9.48,8.15,7.95,7.88,8.12,8.18,8.49,8.96,9.01,8.48,8.77,7.92,7.89,8.34,8.37,9.14,8.62,8.5,8.12,7.81,7.69,8.22,8.45,9.02,9.87,9.56,8.43,9.04],\"xaxis\":\"x4\",\"y\":[118,107,104,110,103,115,109,101,102,108,106,111,112,109,104,105,107,106,110,102,107,114,116,119,119,120,109,98,93,99,97,103,118,114,112,110,106,105,105,108,110,105,107,117,113,110,114,119,110,111,98,100,116,112,110,103,102,99,99,104,100,101,105,107,111,112,114,107,109,115,118,112,111,108,106,114,112,99,95,93,105,120,110,115,115,103,106,107,108,109,106,97,98,97,99,100,100,120,119,113,107,105,106,104,112,110,111,117,116,103,108,109,107,110,105,106,102,104,99,104,117,119,106,108,106,100,113,112,112,118,114,105,105,112,113,109,103,100,116,109,110,118,115,120,112,113,105,114,116,106,114,116,112,105,108,109,105,104,106,100,103,99,109,105,111,110,102,102,97,99,101,117,110,113,111,111,119,110,108,102,104,107,100,110,106,113,107,118,115,112,111,110,114,118,109,107,105,106,104,107,103,110,120,120,105,99,99,102,106,104,108,110,120,119,117,116,112,109,110,104,103,110,113,109,105,99,110,110,112,111,104,106,107,100,113,111,112,114,104,100,101,103,115,114,107,110,105,104,110,111,104,99,100,115,114,110,99,100,102,119,108,104,103,111,110,102,105,107,113,108,105,96,95,99,100,110,113,101,103,102,102,110,106,111,112,116,118,114,104,109,105,102,99,98,101,100,107,120,114,112,106,108,105,107,106,109,110,112,108,110,104,108,107,100,105,104,101,99,111,113,106,104,107,102,104,116,100,101,112,96,113,105,106,108,107,111,110,118,108,107,107,110,106,103,96,98,97,94,99,101,107,110,100,102,98,106,109,104,105,107,110,116,115,103,102,114,104,98,92,98,103,110,119,109,105,101,96,100,98,99,104,105,110,100,113,117,101,105,97,108,102,106,112,104,111,110,107,116,103,117,100,105,109,116,101,99,103,100,101,98,96,94,102,101,110,106,104,103,111,102,100,112,112,119,114,111,106,101,103,115,104,112,112,111,103,105,110,106,110,105,104,112,116,114,113,116,118,108,109,101,112,113,116,103,105,102,100,99,100,113,105,102,105,107,97,96,99,101,110,114,110,103,116,102,105,101,104,105,103,110,102,107,113,103,106,101,102,115,112,110,105,99,101,95,99,108,117,120,103,113],\"yaxis\":\"y4\",\"type\":\"scatter\"},{\"hovertemplate\":\"\\u003cb\\u003eOLS trendline\\u003c\\u002fb\\u003e\\u003cbr\\u003eTOEFL Score = 8.15095 * CGPA + 37.2858\\u003cbr\\u003eR\\u003csup\\u003e2\\u003c\\u002fsup\\u003e=0.657029\\u003cbr\\u003e\\u003cbr\\u003eCGPA=%{x}\\u003cbr\\u003eTOEFL Score=%{y} \\u003cb\\u003e(trend)\\u003c\\u002fb\\u003e\\u003cextra\\u003e\\u003c\\u002fextra\\u003e\",\"legendgroup\":\"\",\"marker\":{\"color\":\"#636efa\",\"symbol\":\"circle\"},\"mode\":\"lines\",\"name\":\"\",\"showlegend\":false,\"x\":[6.8,7.2,7.21,7.23,7.25,7.28,7.3,7.34,7.34,7.36,7.4,7.42,7.43,7.43,7.45,7.46,7.46,7.46,7.5,7.5,7.54,7.56,7.56,7.57,7.6,7.64,7.64,7.64,7.64,7.64,7.65,7.65,7.65,7.65,7.65,7.66,7.66,7.66,7.67,7.67,7.68,7.68,7.68,7.69,7.7,7.7,7.79,7.8,7.8,7.8,7.81,7.84,7.86,7.86,7.86,7.86,7.86,7.87,7.88,7.88,7.88,7.88,7.88,7.88,7.89,7.89,7.89,7.89,7.89,7.9,7.9,7.9,7.9,7.92,7.92,7.94,7.94,7.95,7.95,7.95,7.96,7.97,7.98,7.98,8.0,8.0,8.0,8.0,8.0,8.0,8.0,8.0,8.0,8.01,8.01,8.01,8.02,8.02,8.02,8.02,8.02,8.03,8.03,8.03,8.03,8.04,8.04,8.04,8.06,8.07,8.07,8.09,8.09,8.1,8.1,8.1,8.1,8.1,8.12,8.12,8.12,8.12,8.12,8.12,8.12,8.13,8.13,8.13,8.13,8.13,8.14,8.14,8.15,8.15,8.16,8.16,8.16,8.17,8.17,8.18,8.18,8.18,8.2,8.2,8.2,8.2,8.2,8.21,8.21,8.21,8.22,8.22,8.22,8.22,8.22,8.23,8.24,8.24,8.24,8.25,8.26,8.26,8.26,8.26,8.26,8.27,8.27,8.27,8.27,8.27,8.28,8.3,8.3,8.3,8.3,8.32,8.32,8.33,8.33,8.33,8.33,8.34,8.34,8.34,8.34,8.34,8.34,8.35,8.36,8.36,8.36,8.37,8.37,8.37,8.4,8.4,8.4,8.4,8.42,8.42,8.42,8.43,8.43,8.43,8.43,8.44,8.44,8.44,8.45,8.45,8.45,8.45,8.45,8.45,8.45,8.46,8.46,8.46,8.46,8.47,8.47,8.48,8.48,8.48,8.48,8.49,8.49,8.5,8.5,8.5,8.5,8.5,8.5,8.52,8.53,8.53,8.53,8.54,8.54,8.54,8.54,8.54,8.54,8.54,8.55,8.56,8.56,8.56,8.56,8.56,8.56,8.56,8.57,8.57,8.57,8.6,8.6,8.62,8.62,8.62,8.64,8.64,8.64,8.64,8.64,8.64,8.65,8.65,8.65,8.65,8.65,8.65,8.66,8.66,8.66,8.66,8.66,8.66,8.67,8.67,8.67,8.67,8.67,8.68,8.68,8.68,8.69,8.69,8.69,8.7,8.7,8.71,8.72,8.73,8.73,8.73,8.74,8.74,8.74,8.75,8.75,8.75,8.76,8.76,8.76,8.76,8.76,8.76,8.76,8.76,8.76,8.77,8.77,8.77,8.77,8.78,8.78,8.78,8.78,8.78,8.79,8.79,8.79,8.79,8.8,8.8,8.8,8.8,8.8,8.83,8.84,8.84,8.85,8.86,8.87,8.87,8.87,8.88,8.88,8.89,8.9,8.9,8.9,8.92,8.94,8.94,8.95,8.96,8.96,8.96,8.96,8.97,8.97,8.97,8.97,8.98,9.0,9.0,9.0,9.0,9.0,9.01,9.01,9.01,9.02,9.02,9.02,9.02,9.02,9.02,9.04,9.04,9.04,9.04,9.04,9.04,9.05,9.06,9.06,9.06,9.07,9.08,9.08,9.08,9.08,9.1,9.1,9.1,9.1,9.1,9.11,9.11,9.11,9.11,9.11,9.11,9.12,9.12,9.12,9.13,9.13,9.13,9.13,9.14,9.14,9.14,9.14,9.15,9.15,9.16,9.16,9.16,9.16,9.16,9.17,9.17,9.18,9.18,9.19,9.19,9.2,9.22,9.22,9.22,9.22,9.23,9.23,9.23,9.23,9.23,9.24,9.24,9.25,9.25,9.26,9.26,9.27,9.28,9.28,9.3,9.31,9.32,9.34,9.34,9.35,9.36,9.36,9.36,9.36,9.36,9.38,9.4,9.4,9.42,9.43,9.44,9.44,9.44,9.45,9.45,9.45,9.45,9.46,9.46,9.47,9.48,9.48,9.5,9.5,9.53,9.54,9.54,9.56,9.56,9.6,9.6,9.6,9.62,9.64,9.65,9.66,9.66,9.66,9.67,9.68,9.7,9.7,9.74,9.76,9.76,9.78,9.8,9.8,9.8,9.82,9.86,9.87,9.87,9.91,9.92],\"xaxis\":\"x4\",\"y\":[92.71232026895532,95.97270164542616,96.05421117983792,96.21723024866147,96.38024931748501,96.6247779207203,96.78779698954385,97.11383512719092,97.11383512719092,97.27685419601448,97.60289233366156,97.7659114024851,97.84742093689687,97.84742093689687,98.01044000572041,98.09194954013218,98.09194954013218,98.09194954013218,98.41798767777925,98.41798767777925,98.74402581542634,98.90704488424987,98.90704488424987,98.98855441866166,99.23308302189696,99.55912115954405,99.55912115954405,99.55912115954405,99.55912115954405,99.55912115954405,99.64063069395581,99.64063069395581,99.64063069395581,99.64063069395581,99.64063069395581,99.72214022836758,99.72214022836758,99.72214022836758,99.80364976277936,99.80364976277936,99.88515929719112,99.88515929719112,99.88515929719112,99.9666688316029,100.04817836601467,100.04817836601467,100.78176417572061,100.86327371013238,100.86327371013238,100.86327371013238,100.94478324454414,101.18931184777945,101.352330916603,101.352330916603,101.352330916603,101.352330916603,101.352330916603,101.43384045101476,101.51534998542654,101.51534998542654,101.51534998542654,101.51534998542654,101.51534998542654,101.51534998542654,101.5968595198383,101.5968595198383,101.5968595198383,101.5968595198383,101.5968595198383,101.67836905425008,101.67836905425008,101.67836905425008,101.67836905425008,101.84138812307361,101.84138812307361,102.00440719189716,102.00440719189716,102.08591672630892,102.08591672630892,102.08591672630892,102.1674262607207,102.24893579513247,102.33044532954425,102.33044532954425,102.49346439836778,102.49346439836778,102.49346439836778,102.49346439836778,102.49346439836778,102.49346439836778,102.49346439836778,102.49346439836778,102.49346439836778,102.57497393277954,102.57497393277954,102.57497393277954,102.65648346719131,102.65648346719131,102.65648346719131,102.65648346719131,102.65648346719131,102.73799300160309,102.73799300160309,102.73799300160309,102.73799300160309,102.81950253601485,102.81950253601485,102.81950253601485,102.9825216048384,103.06403113925018,103.06403113925018,103.2270502080737,103.2270502080737,103.30855974248547,103.30855974248547,103.30855974248547,103.30855974248547,103.30855974248547,103.47157881130902,103.47157881130902,103.47157881130902,103.47157881130902,103.47157881130902,103.47157881130902,103.47157881130902,103.5530883457208,103.5530883457208,103.5530883457208,103.5530883457208,103.5530883457208,103.63459788013256,103.63459788013256,103.71610741454434,103.71610741454434,103.7976169489561,103.7976169489561,103.7976169489561,103.87912648336787,103.87912648336787,103.96063601777963,103.96063601777963,103.96063601777963,104.12365508660318,104.12365508660318,104.12365508660318,104.12365508660318,104.12365508660318,104.20516462101496,104.20516462101496,104.20516462101496,104.28667415542672,104.28667415542672,104.28667415542672,104.28667415542672,104.28667415542672,104.3681836898385,104.44969322425027,104.44969322425027,104.44969322425027,104.53120275866203,104.6127122930738,104.6127122930738,104.6127122930738,104.6127122930738,104.6127122930738,104.69422182748558,104.69422182748558,104.69422182748558,104.69422182748558,104.69422182748558,104.77573136189734,104.93875043072089,104.93875043072089,104.93875043072089,104.93875043072089,105.10176949954443,105.10176949954443,105.1832790339562,105.1832790339562,105.1832790339562,105.1832790339562,105.26478856836796,105.26478856836796,105.26478856836796,105.26478856836796,105.26478856836796,105.26478856836796,105.34629810277974,105.4278076371915,105.4278076371915,105.4278076371915,105.50931717160327,105.50931717160327,105.50931717160327,105.7538457748386,105.7538457748386,105.7538457748386,105.7538457748386,105.91686484366213,105.91686484366213,105.91686484366213,105.9983743780739,105.9983743780739,105.9983743780739,105.9983743780739,106.07988391248567,106.07988391248567,106.07988391248567,106.16139344689743,106.16139344689743,106.16139344689743,106.16139344689743,106.16139344689743,106.16139344689743,106.16139344689743,106.24290298130921,106.24290298130921,106.24290298130921,106.24290298130921,106.324412515721,106.324412515721,106.40592205013276,106.40592205013276,106.40592205013276,106.40592205013276,106.48743158454452,106.48743158454452,106.56894111895629,106.56894111895629,106.56894111895629,106.56894111895629,106.56894111895629,106.56894111895629,106.73196018777983,106.8134697221916,106.8134697221916,106.8134697221916,106.89497925660336,106.89497925660336,106.89497925660336,106.89497925660336,106.89497925660336,106.89497925660336,106.89497925660336,106.97648879101516,107.05799832542692,107.05799832542692,107.05799832542692,107.05799832542692,107.05799832542692,107.05799832542692,107.05799832542692,107.13950785983869,107.13950785983869,107.13950785983869,107.384036463074,107.384036463074,107.54705553189753,107.54705553189753,107.54705553189753,107.71007460072109,107.71007460072109,107.71007460072109,107.71007460072109,107.71007460072109,107.71007460072109,107.79158413513285,107.79158413513285,107.79158413513285,107.79158413513285,107.79158413513285,107.79158413513285,107.87309366954462,107.87309366954462,107.87309366954462,107.87309366954462,107.87309366954462,107.87309366954462,107.9546032039564,107.9546032039564,107.9546032039564,107.9546032039564,107.9546032039564,108.03611273836816,108.03611273836816,108.03611273836816,108.11762227277993,108.11762227277993,108.11762227277993,108.19913180719169,108.19913180719169,108.28064134160348,108.36215087601525,108.44366041042701,108.44366041042701,108.44366041042701,108.52516994483878,108.52516994483878,108.52516994483878,108.60667947925056,108.60667947925056,108.60667947925056,108.68818901366232,108.68818901366232,108.68818901366232,108.68818901366232,108.68818901366232,108.68818901366232,108.68818901366232,108.68818901366232,108.68818901366232,108.76969854807409,108.76969854807409,108.76969854807409,108.76969854807409,108.85120808248585,108.85120808248585,108.85120808248585,108.85120808248585,108.85120808248585,108.93271761689763,108.93271761689763,108.93271761689763,108.93271761689763,109.01422715130941,109.01422715130941,109.01422715130941,109.01422715130941,109.01422715130941,109.25875575454472,109.34026528895649,109.34026528895649,109.42177482336825,109.50328435778002,109.5847938921918,109.5847938921918,109.5847938921918,109.66630342660358,109.66630342660358,109.74781296101534,109.8293224954271,109.8293224954271,109.8293224954271,109.99234156425065,110.15536063307418,110.15536063307418,110.23687016748596,110.31837970189774,110.31837970189774,110.31837970189774,110.31837970189774,110.3998892363095,110.3998892363095,110.3998892363095,110.3998892363095,110.48139877072127,110.64441783954481,110.64441783954481,110.64441783954481,110.64441783954481,110.64441783954481,110.72592737395658,110.72592737395658,110.72592737395658,110.80743690836835,110.80743690836835,110.80743690836835,110.80743690836835,110.80743690836835,110.80743690836835,110.97045597719189,110.97045597719189,110.97045597719189,110.97045597719189,110.97045597719189,110.97045597719189,111.05196551160367,111.13347504601543,111.13347504601543,111.13347504601543,111.21498458042721,111.29649411483898,111.29649411483898,111.29649411483898,111.29649411483898,111.45951318366251,111.45951318366251,111.45951318366251,111.45951318366251,111.45951318366251,111.54102271807429,111.54102271807429,111.54102271807429,111.54102271807429,111.54102271807429,111.54102271807429,111.62253225248605,111.62253225248605,111.62253225248605,111.70404178689783,111.70404178689783,111.70404178689783,111.70404178689783,111.7855513213096,111.7855513213096,111.7855513213096,111.7855513213096,111.86706085572138,111.86706085572138,111.94857039013314,111.94857039013314,111.94857039013314,111.94857039013314,111.94857039013314,112.0300799245449,112.0300799245449,112.11158945895667,112.11158945895667,112.19309899336845,112.19309899336845,112.27460852778022,112.43762759660376,112.43762759660376,112.43762759660376,112.43762759660376,112.51913713101554,112.51913713101554,112.51913713101554,112.51913713101554,112.51913713101554,112.6006466654273,112.6006466654273,112.68215619983907,112.68215619983907,112.76366573425084,112.76366573425084,112.84517526866262,112.92668480307438,112.92668480307438,113.08970387189792,113.1712134063097,113.25272294072147,113.415742009545,113.415742009545,113.49725154395678,113.57876107836854,113.57876107836854,113.57876107836854,113.57876107836854,113.57876107836854,113.74178014719209,113.90479921601563,113.90479921601563,114.06781828483916,114.14932781925094,114.23083735366271,114.23083735366271,114.23083735366271,114.31234688807447,114.31234688807447,114.31234688807447,114.31234688807447,114.39385642248625,114.39385642248625,114.47536595689803,114.5568754913098,114.5568754913098,114.71989456013333,114.71989456013333,114.96442316336864,115.0459326977804,115.0459326977804,115.20895176660396,115.20895176660396,115.53498990425103,115.53498990425103,115.53498990425103,115.69800897307456,115.86102804189812,115.94253757630989,116.02404711072165,116.02404711072165,116.02404711072165,116.10555664513343,116.1870661795452,116.35008524836873,116.35008524836873,116.67612338601582,116.83914245483936,116.83914245483936,117.00216152366289,117.16518059248645,117.16518059248645,117.16518059248645,117.32819966130998,117.65423779895706,117.73574733336883,117.73574733336883,118.06178547101592,118.14329500542769],\"yaxis\":\"y4\",\"type\":\"scatter\"},{\"hovertemplate\":\"CGPA=%{x}\\u003cbr\\u003eUniversity Rating=%{y}\\u003cextra\\u003e\\u003c\\u002fextra\\u003e\",\"legendgroup\":\"\",\"marker\":{\"color\":\"#636efa\",\"symbol\":\"circle\"},\"mode\":\"markers\",\"name\":\"\",\"orientation\":\"v\",\"showlegend\":false,\"x\":[9.65,8.87,8.0,8.67,8.21,9.34,8.2,7.9,8.0,8.6,8.4,9.0,9.1,8.0,8.2,8.3,8.7,8.0,8.8,8.5,7.9,8.4,9.5,9.7,9.8,9.6,8.8,7.5,7.2,7.3,8.1,8.3,9.4,9.6,9.8,9.2,8.4,7.8,7.5,7.7,8.0,8.2,8.5,9.1,9.4,9.1,9.3,9.7,8.85,8.4,8.3,7.9,8.0,8.1,8.0,7.7,7.4,7.6,6.8,8.3,8.1,8.2,8.2,8.5,8.7,8.92,9.02,8.64,9.22,9.16,9.64,9.76,9.45,9.04,8.9,8.56,8.72,8.22,7.54,7.36,8.02,9.5,9.22,9.36,9.45,8.66,8.42,8.28,8.14,8.76,7.92,7.66,8.03,7.88,7.66,7.84,8.0,8.96,9.24,8.88,8.46,8.12,8.25,8.47,9.05,8.78,9.18,9.46,9.38,8.64,8.48,8.68,8.34,8.56,8.45,9.04,8.62,7.46,7.28,8.84,9.56,9.48,8.36,8.22,8.47,8.66,9.32,8.71,9.1,9.35,9.76,8.65,8.56,8.78,9.28,8.77,8.45,8.16,9.08,9.12,9.15,9.36,9.44,9.92,8.96,8.64,8.48,9.11,9.8,8.26,9.43,9.28,9.06,8.75,8.89,8.69,8.34,8.26,8.14,7.9,7.86,7.46,8.5,8.56,9.01,8.97,8.33,8.27,7.8,7.98,8.04,9.07,9.13,9.23,8.97,8.87,9.16,9.04,8.12,8.27,8.16,8.42,7.88,8.8,8.32,9.11,8.68,9.44,9.36,9.08,9.16,8.98,8.94,9.53,8.76,8.52,8.26,8.33,8.43,8.69,8.54,8.46,9.91,9.87,8.54,7.65,7.89,8.02,8.16,8.12,9.06,9.14,9.66,9.78,9.42,9.36,9.26,9.13,8.97,8.42,8.75,8.56,8.79,8.45,8.23,8.03,8.45,8.53,8.67,9.01,8.65,8.33,8.27,8.07,9.31,9.23,9.17,9.19,8.37,7.89,7.68,8.15,8.76,9.04,8.56,9.02,8.73,8.48,8.87,8.83,8.57,9.0,8.54,9.68,9.12,8.37,8.56,8.64,8.76,9.34,9.13,8.09,8.36,8.79,8.76,8.68,8.45,8.17,9.14,8.34,8.22,7.86,7.64,8.01,7.95,8.96,9.45,8.62,8.49,8.73,8.64,9.11,8.79,8.9,9.66,9.26,9.19,9.08,9.02,9.0,7.65,7.87,7.97,8.18,8.32,8.57,8.67,9.11,9.24,8.65,8.0,8.76,8.45,8.55,8.43,8.8,9.1,9.0,8.53,8.6,8.74,9.18,9.0,8.04,8.13,8.07,7.86,8.01,8.8,8.69,8.5,8.44,8.27,8.18,8.33,9.14,8.02,7.86,8.77,7.89,8.66,8.12,8.21,8.54,8.65,9.11,8.79,9.47,8.74,8.66,8.46,8.76,8.24,8.13,7.34,7.43,7.64,7.34,7.25,8.04,8.27,8.67,8.06,8.17,7.67,8.12,8.77,7.89,7.64,8.44,8.64,9.54,9.23,8.36,8.9,9.17,8.34,7.46,7.88,8.03,8.24,9.22,9.62,8.54,7.65,7.66,7.43,7.56,7.65,8.43,8.84,8.67,9.15,8.26,9.74,9.82,7.96,8.1,7.8,8.44,8.24,8.65,9.12,8.76,9.23,9.04,9.11,9.45,8.78,9.66,8.22,8.34,8.94,9.23,7.64,7.45,8.02,7.95,7.67,8.02,7.56,8.13,7.88,7.94,8.35,8.75,8.1,7.68,8.03,7.98,7.42,8.95,9.02,9.54,9.46,9.86,8.57,8.65,8.74,9.06,8.13,8.78,9.22,8.54,8.21,7.68,7.23,7.65,8.54,8.46,7.79,8.66,9.44,9.16,9.25,9.08,9.67,8.97,9.02,9.13,8.86,9.25,9.6,8.76,8.01,7.64,7.88,7.57,8.53,9.36,8.66,8.13,7.94,7.86,7.21,8.26,8.73,8.78,8.88,9.16,9.27,8.09,9.48,8.15,7.95,7.88,8.12,8.18,8.49,8.96,9.01,8.48,8.77,7.92,7.89,8.34,8.37,9.14,8.62,8.5,8.12,7.81,7.69,8.22,8.45,9.02,9.87,9.56,8.43,9.04],\"xaxis\":\"x5\",\"y\":[4,4,3,3,2,5,3,2,1,3,3,4,4,3,3,3,3,3,3,3,3,4,5,5,5,5,5,2,1,2,2,3,4,5,5,5,2,1,1,2,3,2,2,4,5,5,5,5,3,4,3,2,4,4,3,3,3,2,1,2,2,3,2,2,3,4,3,2,3,4,5,5,5,4,3,2,3,2,2,1,3,4,5,5,5,4,3,2,3,4,2,3,2,2,3,4,2,3,4,3,3,2,2,2,3,3,4,4,5,5,5,4,3,2,3,4,3,4,2,5,5,5,4,3,4,3,3,3,3,5,5,5,5,5,5,4,3,2,2,1,2,2,5,4,2,2,3,3,4,2,4,5,5,3,3,3,3,2,2,1,1,1,3,3,4,5,3,3,2,2,2,5,4,4,4,4,4,3,3,3,3,2,2,3,2,4,3,5,5,5,5,5,5,5,3,2,2,2,3,3,3,2,5,5,3,2,2,3,2,3,4,4,4,5,4,5,4,4,4,3,3,3,4,2,2,2,2,2,3,4,3,3,2,2,5,5,4,5,3,1,1,2,3,3,2,4,3,2,3,3,3,2,2,4,4,4,3,3,4,4,5,3,2,3,2,3,2,3,4,4,2,2,1,1,1,3,5,2,2,2,3,3,3,3,4,5,5,5,4,3,2,2,2,1,2,2,3,3,3,3,2,2,2,3,2,3,3,4,3,4,3,4,4,3,2,2,2,1,3,4,3,3,2,2,3,3,3,2,4,2,3,2,3,3,4,4,3,5,5,5,3,3,3,2,2,1,2,1,1,3,3,4,2,3,2,2,3,2,2,2,3,4,5,2,3,4,3,1,1,1,2,3,4,3,2,2,2,1,1,1,3,3,4,3,4,5,2,2,2,3,2,3,4,2,4,3,3,4,3,4,2,2,3,4,3,3,4,3,3,1,1,2,4,3,4,4,3,3,2,2,3,3,4,5,5,5,3,3,2,5,3,2,4,4,3,2,1,1,1,2,2,1,4,5,5,5,4,3,2,3,4,4,4,3,2,2,2,1,1,4,4,3,4,3,2,4,4,5,4,4,5,3,4,2,4,3,3,4,3,4,3,4,4,5,3,2,3,4,3,3,2,4,4,2,3,5,5,5,4,4],\"yaxis\":\"y5\",\"type\":\"scatter\"},{\"hovertemplate\":\"\\u003cb\\u003eOLS trendline\\u003c\\u002fb\\u003e\\u003cbr\\u003eUniversity Rating = 1.33342 * CGPA + -8.32196\\u003cbr\\u003eR\\u003csup\\u003e2\\u003c\\u002fsup\\u003e=0.497384\\u003cbr\\u003e\\u003cbr\\u003eCGPA=%{x}\\u003cbr\\u003eUniversity Rating=%{y} \\u003cb\\u003e(trend)\\u003c\\u002fb\\u003e\\u003cextra\\u003e\\u003c\\u002fextra\\u003e\",\"legendgroup\":\"\",\"marker\":{\"color\":\"#636efa\",\"symbol\":\"circle\"},\"mode\":\"lines\",\"name\":\"\",\"showlegend\":false,\"x\":[6.8,7.2,7.21,7.23,7.25,7.28,7.3,7.34,7.34,7.36,7.4,7.42,7.43,7.43,7.45,7.46,7.46,7.46,7.5,7.5,7.54,7.56,7.56,7.57,7.6,7.64,7.64,7.64,7.64,7.64,7.65,7.65,7.65,7.65,7.65,7.66,7.66,7.66,7.67,7.67,7.68,7.68,7.68,7.69,7.7,7.7,7.79,7.8,7.8,7.8,7.81,7.84,7.86,7.86,7.86,7.86,7.86,7.87,7.88,7.88,7.88,7.88,7.88,7.88,7.89,7.89,7.89,7.89,7.89,7.9,7.9,7.9,7.9,7.92,7.92,7.94,7.94,7.95,7.95,7.95,7.96,7.97,7.98,7.98,8.0,8.0,8.0,8.0,8.0,8.0,8.0,8.0,8.0,8.01,8.01,8.01,8.02,8.02,8.02,8.02,8.02,8.03,8.03,8.03,8.03,8.04,8.04,8.04,8.06,8.07,8.07,8.09,8.09,8.1,8.1,8.1,8.1,8.1,8.12,8.12,8.12,8.12,8.12,8.12,8.12,8.13,8.13,8.13,8.13,8.13,8.14,8.14,8.15,8.15,8.16,8.16,8.16,8.17,8.17,8.18,8.18,8.18,8.2,8.2,8.2,8.2,8.2,8.21,8.21,8.21,8.22,8.22,8.22,8.22,8.22,8.23,8.24,8.24,8.24,8.25,8.26,8.26,8.26,8.26,8.26,8.27,8.27,8.27,8.27,8.27,8.28,8.3,8.3,8.3,8.3,8.32,8.32,8.33,8.33,8.33,8.33,8.34,8.34,8.34,8.34,8.34,8.34,8.35,8.36,8.36,8.36,8.37,8.37,8.37,8.4,8.4,8.4,8.4,8.42,8.42,8.42,8.43,8.43,8.43,8.43,8.44,8.44,8.44,8.45,8.45,8.45,8.45,8.45,8.45,8.45,8.46,8.46,8.46,8.46,8.47,8.47,8.48,8.48,8.48,8.48,8.49,8.49,8.5,8.5,8.5,8.5,8.5,8.5,8.52,8.53,8.53,8.53,8.54,8.54,8.54,8.54,8.54,8.54,8.54,8.55,8.56,8.56,8.56,8.56,8.56,8.56,8.56,8.57,8.57,8.57,8.6,8.6,8.62,8.62,8.62,8.64,8.64,8.64,8.64,8.64,8.64,8.65,8.65,8.65,8.65,8.65,8.65,8.66,8.66,8.66,8.66,8.66,8.66,8.67,8.67,8.67,8.67,8.67,8.68,8.68,8.68,8.69,8.69,8.69,8.7,8.7,8.71,8.72,8.73,8.73,8.73,8.74,8.74,8.74,8.75,8.75,8.75,8.76,8.76,8.76,8.76,8.76,8.76,8.76,8.76,8.76,8.77,8.77,8.77,8.77,8.78,8.78,8.78,8.78,8.78,8.79,8.79,8.79,8.79,8.8,8.8,8.8,8.8,8.8,8.83,8.84,8.84,8.85,8.86,8.87,8.87,8.87,8.88,8.88,8.89,8.9,8.9,8.9,8.92,8.94,8.94,8.95,8.96,8.96,8.96,8.96,8.97,8.97,8.97,8.97,8.98,9.0,9.0,9.0,9.0,9.0,9.01,9.01,9.01,9.02,9.02,9.02,9.02,9.02,9.02,9.04,9.04,9.04,9.04,9.04,9.04,9.05,9.06,9.06,9.06,9.07,9.08,9.08,9.08,9.08,9.1,9.1,9.1,9.1,9.1,9.11,9.11,9.11,9.11,9.11,9.11,9.12,9.12,9.12,9.13,9.13,9.13,9.13,9.14,9.14,9.14,9.14,9.15,9.15,9.16,9.16,9.16,9.16,9.16,9.17,9.17,9.18,9.18,9.19,9.19,9.2,9.22,9.22,9.22,9.22,9.23,9.23,9.23,9.23,9.23,9.24,9.24,9.25,9.25,9.26,9.26,9.27,9.28,9.28,9.3,9.31,9.32,9.34,9.34,9.35,9.36,9.36,9.36,9.36,9.36,9.38,9.4,9.4,9.42,9.43,9.44,9.44,9.44,9.45,9.45,9.45,9.45,9.46,9.46,9.47,9.48,9.48,9.5,9.5,9.53,9.54,9.54,9.56,9.56,9.6,9.6,9.6,9.62,9.64,9.65,9.66,9.66,9.66,9.67,9.68,9.7,9.7,9.74,9.76,9.76,9.78,9.8,9.8,9.8,9.82,9.86,9.87,9.87,9.91,9.92],\"xaxis\":\"x5\",\"y\":[0.7452676523807931,1.2786337886126304,1.2919679420184256,1.3186362488300176,1.3453045556416097,1.3853070158589968,1.411975322670589,1.465311936293773,1.465311936293773,1.491980243105365,1.5453168567285491,1.5719851635401394,1.5853193169459363,1.5853193169459363,1.6119876237575284,1.6253217771633235,1.6253217771633235,1.6253217771633235,1.6786583907865076,1.6786583907865076,1.7319950044096917,1.758663311221282,1.758663311221282,1.7719974646270789,1.811999924844466,1.8653365384676501,1.8653365384676501,1.8653365384676501,1.8653365384676501,1.8653365384676501,1.878670691873447,1.878670691873447,1.878670691873447,1.878670691873447,1.878670691873447,1.8920048452792422,1.8920048452792422,1.8920048452792422,1.9053389986850373,1.9053389986850373,1.9186731520908342,1.9186731520908342,1.9186731520908342,1.9320073054966311,1.9453414589024263,1.9453414589024263,2.0653488395545896,2.0786829929603847,2.0786829929603847,2.0786829929603847,2.09201714636618,2.132019606583569,2.158687913395161,2.158687913395161,2.158687913395161,2.158687913395161,2.158687913395161,2.172022066800956,2.185356220206753,2.185356220206753,2.185356220206753,2.185356220206753,2.185356220206753,2.185356220206753,2.198690373612548,2.198690373612548,2.198690373612548,2.198690373612548,2.198690373612548,2.212024527018345,2.212024527018345,2.212024527018345,2.212024527018345,2.2386928338299352,2.2386928338299352,2.265361140641529,2.265361140641529,2.278695294047324,2.278695294047324,2.278695294047324,2.2920294474531193,2.3053636008589145,2.3186977542647114,2.3186977542647114,2.3453660610763034,2.3453660610763034,2.3453660610763034,2.3453660610763034,2.3453660610763034,2.3453660610763034,2.3453660610763034,2.3453660610763034,2.3453660610763034,2.3587002144820985,2.3587002144820985,2.3587002144820985,2.3720343678878955,2.3720343678878955,2.3720343678878955,2.3720343678878955,2.3720343678878955,2.3853685212936906,2.3853685212936906,2.3853685212936906,2.3853685212936906,2.3987026746994857,2.3987026746994857,2.3987026746994857,2.4253709815110795,2.4387051349168747,2.4387051349168747,2.4653734417284667,2.4653734417284667,2.478707595134262,2.478707595134262,2.478707595134262,2.478707595134262,2.478707595134262,2.505375901945854,2.505375901945854,2.505375901945854,2.505375901945854,2.505375901945854,2.505375901945854,2.505375901945854,2.518710055351651,2.518710055351651,2.518710055351651,2.518710055351651,2.518710055351651,2.5320442087574477,2.5320442087574477,2.545378362163243,2.545378362163243,2.558712515569038,2.558712515569038,2.558712515569038,2.572046668974833,2.572046668974833,2.58538082238063,2.58538082238063,2.58538082238063,2.6120491291922203,2.6120491291922203,2.6120491291922203,2.6120491291922203,2.6120491291922203,2.625383282598019,2.625383282598019,2.625383282598019,2.638717436003814,2.638717436003814,2.638717436003814,2.638717436003814,2.638717436003814,2.6520515894096093,2.665385742815406,2.665385742815406,2.665385742815406,2.6787198962212013,2.6920540496269965,2.6920540496269965,2.6920540496269965,2.6920540496269965,2.6920540496269965,2.7053882030327934,2.7053882030327934,2.7053882030327934,2.7053882030327934,2.7053882030327934,2.7187223564385885,2.7453906632501823,2.7453906632501823,2.7453906632501823,2.7453906632501823,2.7720589700617726,2.7720589700617726,2.7853931234675695,2.7853931234675695,2.7853931234675695,2.7853931234675695,2.7987272768733646,2.7987272768733646,2.7987272768733646,2.7987272768733646,2.7987272768733646,2.7987272768733646,2.81206143027916,2.8253955836849567,2.8253955836849567,2.8253955836849567,2.838729737090752,2.838729737090752,2.838729737090752,2.878732197308141,2.878732197308141,2.878732197308141,2.878732197308141,2.905400504119733,2.905400504119733,2.905400504119733,2.918734657525528,2.918734657525528,2.918734657525528,2.918734657525528,2.932068810931323,2.932068810931323,2.932068810931323,2.9454029643371182,2.9454029643371182,2.9454029643371182,2.9454029643371182,2.9454029643371182,2.9454029643371182,2.9454029643371182,2.958737117742917,2.958737117742917,2.958737117742917,2.958737117742917,2.972071271148712,2.972071271148712,2.985405424554509,2.985405424554509,2.985405424554509,2.985405424554509,2.998739577960304,2.998739577960304,3.0120737313660992,3.0120737313660992,3.0120737313660992,3.0120737313660992,3.0120737313660992,3.0120737313660992,3.0387420381776913,3.0520761915834864,3.0520761915834864,3.0520761915834864,3.0654103449892816,3.0654103449892816,3.0654103449892816,3.0654103449892816,3.0654103449892816,3.0654103449892816,3.0654103449892816,3.0787444983950802,3.0920786518008754,3.0920786518008754,3.0920786518008754,3.0920786518008754,3.0920786518008754,3.0920786518008754,3.0920786518008754,3.1054128052066705,3.1054128052066705,3.1054128052066705,3.1454152654240577,3.1454152654240577,3.1720835722356497,3.1720835722356497,3.1720835722356497,3.1987518790472436,3.1987518790472436,3.1987518790472436,3.1987518790472436,3.1987518790472436,3.1987518790472436,3.2120860324530387,3.2120860324530387,3.2120860324530387,3.2120860324530387,3.2120860324530387,3.2120860324530387,3.225420185858834,3.225420185858834,3.225420185858834,3.225420185858834,3.225420185858834,3.225420185858834,3.2387543392646307,3.2387543392646307,3.2387543392646307,3.2387543392646307,3.2387543392646307,3.252088492670426,3.252088492670426,3.252088492670426,3.265422646076221,3.265422646076221,3.265422646076221,3.278756799482016,3.278756799482016,3.292090952887815,3.30542510629361,3.318759259699407,3.318759259699407,3.318759259699407,3.332093413105202,3.332093413105202,3.332093413105202,3.345427566510997,3.345427566510997,3.345427566510997,3.3587617199167923,3.3587617199167923,3.3587617199167923,3.3587617199167923,3.3587617199167923,3.3587617199167923,3.3587617199167923,3.3587617199167923,3.3587617199167923,3.372095873322589,3.372095873322589,3.372095873322589,3.372095873322589,3.3854300267283843,3.3854300267283843,3.3854300267283843,3.3854300267283843,3.3854300267283843,3.3987641801341795,3.3987641801341795,3.3987641801341795,3.3987641801341795,3.412098333539978,3.412098333539978,3.412098333539978,3.412098333539978,3.412098333539978,3.4521007937573653,3.4654349471631605,3.4654349471631605,3.4787691005689556,3.4921032539747525,3.5054374073805477,3.5054374073805477,3.5054374073805477,3.5187715607863463,3.5187715607863463,3.5321057141921415,3.5454398675979366,3.5454398675979366,3.5454398675979366,3.5721081744095287,3.598776481221119,3.598776481221119,3.612110634626916,3.6254447880327128,3.6254447880327128,3.6254447880327128,3.6254447880327128,3.638778941438508,3.638778941438508,3.638778941438508,3.638778941438508,3.652113094844305,3.678781401655895,3.678781401655895,3.678781401655895,3.678781401655895,3.678781401655895,3.692115555061692,3.692115555061692,3.692115555061692,3.705449708467487,3.705449708467487,3.705449708467487,3.705449708467487,3.705449708467487,3.705449708467487,3.7321180152790774,3.7321180152790774,3.7321180152790774,3.7321180152790774,3.7321180152790774,3.7321180152790774,3.745452168684876,3.758786322090671,3.758786322090671,3.758786322090671,3.772120475496468,3.7854546289022633,3.7854546289022633,3.7854546289022633,3.7854546289022633,3.8121229357138535,3.8121229357138535,3.8121229357138535,3.8121229357138535,3.8121229357138535,3.8254570891196504,3.8254570891196504,3.8254570891196504,3.8254570891196504,3.8254570891196504,3.8254570891196504,3.8387912425254456,3.8387912425254456,3.8387912425254456,3.8521253959312443,3.8521253959312443,3.8521253959312443,3.8521253959312443,3.8654595493370394,3.8654595493370394,3.8654595493370394,3.8654595493370394,3.8787937027428345,3.8787937027428345,3.8921278561486297,3.8921278561486297,3.8921278561486297,3.8921278561486297,3.8921278561486297,3.9054620095544266,3.9054620095544266,3.9187961629602217,3.9187961629602217,3.932130316366017,3.932130316366017,3.9454644697718138,3.972132776583406,3.972132776583406,3.972132776583406,3.972132776583406,3.9854669299892027,3.9854669299892027,3.9854669299892027,3.9854669299892027,3.9854669299892027,3.998801083394998,3.998801083394998,4.012135236800793,4.012135236800793,4.02546939020659,4.02546939020659,4.038803543612385,4.05213769701818,4.05213769701818,4.078806003829774,4.092140157235569,4.105474310641366,4.132142617452956,4.132142617452956,4.145476770858751,4.158810924264548,4.158810924264548,4.158810924264548,4.158810924264548,4.158810924264548,4.185479231076142,4.212147537887732,4.212147537887732,4.2388158446993245,4.25214999810512,4.265484151510915,4.265484151510915,4.265484151510915,4.278818304916712,4.278818304916712,4.278818304916712,4.278818304916712,4.292152458322509,4.292152458322509,4.3054866117283055,4.318820765134101,4.318820765134101,4.345489071945691,4.345489071945691,4.385491532163078,4.398825685568875,4.398825685568875,4.425493992380467,4.425493992380467,4.478830606003651,4.478830606003651,4.478830606003651,4.505498912815241,4.532167219626835,4.54550137303263,4.558835526438427,4.558835526438427,4.558835526438427,4.572169679844222,4.5855038332500175,4.61217214006161,4.61217214006161,4.665508753684794,4.692177060496386,4.692177060496386,4.718845367307976,4.74551367411957,4.74551367411957,4.74551367411957,4.772181980931162,4.825518594554344,4.838852747960139,4.838852747960139,4.892189361583325,4.90552351498912],\"yaxis\":\"y5\",\"type\":\"scatter\"},{\"hovertemplate\":\"CGPA=%{x}\\u003cbr\\u003eSOP=%{y}\\u003cextra\\u003e\\u003c\\u002fextra\\u003e\",\"legendgroup\":\"\",\"marker\":{\"color\":\"#636efa\",\"symbol\":\"circle\"},\"mode\":\"markers\",\"name\":\"\",\"orientation\":\"v\",\"showlegend\":false,\"x\":[9.65,8.87,8.0,8.67,8.21,9.34,8.2,7.9,8.0,8.6,8.4,9.0,9.1,8.0,8.2,8.3,8.7,8.0,8.8,8.5,7.9,8.4,9.5,9.7,9.8,9.6,8.8,7.5,7.2,7.3,8.1,8.3,9.4,9.6,9.8,9.2,8.4,7.8,7.5,7.7,8.0,8.2,8.5,9.1,9.4,9.1,9.3,9.7,8.85,8.4,8.3,7.9,8.0,8.1,8.0,7.7,7.4,7.6,6.8,8.3,8.1,8.2,8.2,8.5,8.7,8.92,9.02,8.64,9.22,9.16,9.64,9.76,9.45,9.04,8.9,8.56,8.72,8.22,7.54,7.36,8.02,9.5,9.22,9.36,9.45,8.66,8.42,8.28,8.14,8.76,7.92,7.66,8.03,7.88,7.66,7.84,8.0,8.96,9.24,8.88,8.46,8.12,8.25,8.47,9.05,8.78,9.18,9.46,9.38,8.64,8.48,8.68,8.34,8.56,8.45,9.04,8.62,7.46,7.28,8.84,9.56,9.48,8.36,8.22,8.47,8.66,9.32,8.71,9.1,9.35,9.76,8.65,8.56,8.78,9.28,8.77,8.45,8.16,9.08,9.12,9.15,9.36,9.44,9.92,8.96,8.64,8.48,9.11,9.8,8.26,9.43,9.28,9.06,8.75,8.89,8.69,8.34,8.26,8.14,7.9,7.86,7.46,8.5,8.56,9.01,8.97,8.33,8.27,7.8,7.98,8.04,9.07,9.13,9.23,8.97,8.87,9.16,9.04,8.12,8.27,8.16,8.42,7.88,8.8,8.32,9.11,8.68,9.44,9.36,9.08,9.16,8.98,8.94,9.53,8.76,8.52,8.26,8.33,8.43,8.69,8.54,8.46,9.91,9.87,8.54,7.65,7.89,8.02,8.16,8.12,9.06,9.14,9.66,9.78,9.42,9.36,9.26,9.13,8.97,8.42,8.75,8.56,8.79,8.45,8.23,8.03,8.45,8.53,8.67,9.01,8.65,8.33,8.27,8.07,9.31,9.23,9.17,9.19,8.37,7.89,7.68,8.15,8.76,9.04,8.56,9.02,8.73,8.48,8.87,8.83,8.57,9.0,8.54,9.68,9.12,8.37,8.56,8.64,8.76,9.34,9.13,8.09,8.36,8.79,8.76,8.68,8.45,8.17,9.14,8.34,8.22,7.86,7.64,8.01,7.95,8.96,9.45,8.62,8.49,8.73,8.64,9.11,8.79,8.9,9.66,9.26,9.19,9.08,9.02,9.0,7.65,7.87,7.97,8.18,8.32,8.57,8.67,9.11,9.24,8.65,8.0,8.76,8.45,8.55,8.43,8.8,9.1,9.0,8.53,8.6,8.74,9.18,9.0,8.04,8.13,8.07,7.86,8.01,8.8,8.69,8.5,8.44,8.27,8.18,8.33,9.14,8.02,7.86,8.77,7.89,8.66,8.12,8.21,8.54,8.65,9.11,8.79,9.47,8.74,8.66,8.46,8.76,8.24,8.13,7.34,7.43,7.64,7.34,7.25,8.04,8.27,8.67,8.06,8.17,7.67,8.12,8.77,7.89,7.64,8.44,8.64,9.54,9.23,8.36,8.9,9.17,8.34,7.46,7.88,8.03,8.24,9.22,9.62,8.54,7.65,7.66,7.43,7.56,7.65,8.43,8.84,8.67,9.15,8.26,9.74,9.82,7.96,8.1,7.8,8.44,8.24,8.65,9.12,8.76,9.23,9.04,9.11,9.45,8.78,9.66,8.22,8.34,8.94,9.23,7.64,7.45,8.02,7.95,7.67,8.02,7.56,8.13,7.88,7.94,8.35,8.75,8.1,7.68,8.03,7.98,7.42,8.95,9.02,9.54,9.46,9.86,8.57,8.65,8.74,9.06,8.13,8.78,9.22,8.54,8.21,7.68,7.23,7.65,8.54,8.46,7.79,8.66,9.44,9.16,9.25,9.08,9.67,8.97,9.02,9.13,8.86,9.25,9.6,8.76,8.01,7.64,7.88,7.57,8.53,9.36,8.66,8.13,7.94,7.86,7.21,8.26,8.73,8.78,8.88,9.16,9.27,8.09,9.48,8.15,7.95,7.88,8.12,8.18,8.49,8.96,9.01,8.48,8.77,7.92,7.89,8.34,8.37,9.14,8.62,8.5,8.12,7.81,7.69,8.22,8.45,9.02,9.87,9.56,8.43,9.04],\"xaxis\":\"x6\",\"y\":[4.5,4.0,3.0,3.5,2.0,4.5,3.0,3.0,2.0,3.5,3.5,4.0,4.0,4.0,3.5,3.5,4.0,4.0,4.0,3.5,3.0,3.0,5.0,5.0,4.0,4.5,4.5,1.5,2.0,1.5,3.0,4.0,3.0,4.0,4.0,5.0,4.0,1.0,3.0,4.0,3.5,2.5,2.5,4.5,4.5,5.0,4.0,4.5,3.5,3.0,2.5,1.5,4.0,4.0,3.0,3.0,2.0,4.0,3.0,2.0,3.0,4.0,3.0,4.0,3.0,3.5,3.0,3.5,3.5,4.5,5.0,5.0,5.0,4.5,3.0,2.0,3.0,3.0,3.0,1.5,2.0,5.0,5.0,4.0,4.5,4.5,4.5,3.5,4.5,4.5,4.0,5.0,4.0,3.0,2.0,1.5,3.0,4.0,5.0,4.0,3.5,2.5,4.0,4.5,3.5,4.0,4.5,3.5,5.0,5.0,3.0,4.0,3.5,4.0,3.5,4.5,4.0,2.0,3.0,3.0,5.0,4.5,1.5,3.5,2.5,2.0,4.0,2.5,3.5,5.0,4.0,5.0,3.5,4.0,4.0,3.5,5.0,1.5,4.5,3.5,4.0,4.5,4.0,4.5,3.0,2.0,2.0,3.0,4.0,3.5,4.0,5.0,5.0,3.0,3.0,3.0,2.0,2.0,2.0,1.5,1.5,1.5,3.0,3.5,4.5,4.5,3.5,2.0,2.0,2.5,2.5,4.0,4.0,4.0,4.0,4.5,4.5,3.5,2.5,3.0,3.5,2.5,3.0,4.0,2.5,4.5,3.5,4.5,4.5,5.0,4.5,4.0,4.5,4.5,3.5,3.0,3.0,3.5,4.5,4.0,2.5,3.5,4.5,4.0,3.5,2.5,3.5,3.5,3.0,3.5,4.5,5.0,5.0,5.0,4.5,5.0,4.5,4.0,3.0,3.5,4.0,3.5,4.5,3.0,3.0,2.5,3.5,3.5,4.0,3.0,4.0,3.5,2.5,2.5,5.0,4.5,4.0,4.5,2.0,1.5,2.5,2.5,3.5,3.5,2.5,4.0,3.0,2.5,3.5,3.5,3.0,2.5,2.5,4.5,4.0,4.0,4.0,4.0,5.0,5.0,5.0,3.5,2.5,2.5,3.0,2.5,2.0,3.0,4.5,4.5,2.5,1.5,1.5,1.0,2.0,3.5,5.0,2.5,3.0,3.0,4.5,4.0,4.0,2.5,5.0,4.0,4.5,5.0,5.0,4.0,2.5,1.5,1.0,3.5,2.5,3.0,3.5,4.0,4.5,3.0,2.5,2.5,3.0,3.5,2.5,3.5,4.0,4.0,3.5,3.5,3.0,4.5,4.5,3.5,3.0,2.5,1.5,1.0,2.5,3.5,4.0,4.0,2.5,2.0,3.0,3.5,2.0,2.5,4.0,2.5,3.5,3.0,3.5,3.0,4.5,4.0,3.0,5.0,4.0,3.5,3.0,3.5,3.0,2.5,1.5,1.5,1.5,1.0,2.0,2.5,3.0,3.5,3.0,3.5,2.5,2.0,3.5,3.5,2.5,2.0,4.0,4.0,4.5,2.5,3.5,4.5,3.5,1.0,2.0,2.0,2.5,3.5,4.5,3.0,2.0,2.0,2.5,1.5,2.0,2.5,3.5,3.0,4.5,3.0,5.0,5.0,2.5,2.0,1.5,3.5,2.0,2.0,4.0,3.0,4.5,3.5,3.0,5.0,3.5,5.0,3.5,3.0,3.5,4.0,2.0,2.5,3.0,2.5,2.0,2.0,3.0,2.5,2.5,3.0,3.5,4.0,4.0,3.5,2.5,2.0,2.0,3.0,3.5,4.5,4.0,4.0,3.0,3.5,2.0,5.0,4.0,3.5,4.5,4.0,3.5,2.5,1.5,1.5,2.5,1.5,2.5,1.5,4.5,4.5,4.0,4.5,5.0,3.5,2.5,3.5,3.0,4.5,5.0,2.5,3.0,1.5,2.0,2.0,3.0,4.0,4.0,2.5,3.0,3.5,2.0,3.0,3.5,3.5,4.0,4.0,4.0,2.0,4.0,4.0,3.0,3.5,2.5,3.5,4.0,4.5,3.5,3.0,4.0,5.0,3.5,2.5,2.5,3.5,3.0,4.0,2.5,3.0,2.5,3.0,2.5,4.5,5.0,4.5,4.0,4.5],\"yaxis\":\"y6\",\"type\":\"scatter\"},{\"hovertemplate\":\"\\u003cb\\u003eOLS trendline\\u003c\\u002fb\\u003e\\u003cbr\\u003eSOP = 1.16689 * CGPA + -6.63373\\u003cbr\\u003eR\\u003csup\\u003e2\\u003c\\u002fsup\\u003e=0.507164\\u003cbr\\u003e\\u003cbr\\u003eCGPA=%{x}\\u003cbr\\u003eSOP=%{y} \\u003cb\\u003e(trend)\\u003c\\u002fb\\u003e\\u003cextra\\u003e\\u003c\\u002fextra\\u003e\",\"legendgroup\":\"\",\"marker\":{\"color\":\"#636efa\",\"symbol\":\"circle\"},\"mode\":\"lines\",\"name\":\"\",\"showlegend\":false,\"x\":[6.8,7.2,7.21,7.23,7.25,7.28,7.3,7.34,7.34,7.36,7.4,7.42,7.43,7.43,7.45,7.46,7.46,7.46,7.5,7.5,7.54,7.56,7.56,7.57,7.6,7.64,7.64,7.64,7.64,7.64,7.65,7.65,7.65,7.65,7.65,7.66,7.66,7.66,7.67,7.67,7.68,7.68,7.68,7.69,7.7,7.7,7.79,7.8,7.8,7.8,7.81,7.84,7.86,7.86,7.86,7.86,7.86,7.87,7.88,7.88,7.88,7.88,7.88,7.88,7.89,7.89,7.89,7.89,7.89,7.9,7.9,7.9,7.9,7.92,7.92,7.94,7.94,7.95,7.95,7.95,7.96,7.97,7.98,7.98,8.0,8.0,8.0,8.0,8.0,8.0,8.0,8.0,8.0,8.01,8.01,8.01,8.02,8.02,8.02,8.02,8.02,8.03,8.03,8.03,8.03,8.04,8.04,8.04,8.06,8.07,8.07,8.09,8.09,8.1,8.1,8.1,8.1,8.1,8.12,8.12,8.12,8.12,8.12,8.12,8.12,8.13,8.13,8.13,8.13,8.13,8.14,8.14,8.15,8.15,8.16,8.16,8.16,8.17,8.17,8.18,8.18,8.18,8.2,8.2,8.2,8.2,8.2,8.21,8.21,8.21,8.22,8.22,8.22,8.22,8.22,8.23,8.24,8.24,8.24,8.25,8.26,8.26,8.26,8.26,8.26,8.27,8.27,8.27,8.27,8.27,8.28,8.3,8.3,8.3,8.3,8.32,8.32,8.33,8.33,8.33,8.33,8.34,8.34,8.34,8.34,8.34,8.34,8.35,8.36,8.36,8.36,8.37,8.37,8.37,8.4,8.4,8.4,8.4,8.42,8.42,8.42,8.43,8.43,8.43,8.43,8.44,8.44,8.44,8.45,8.45,8.45,8.45,8.45,8.45,8.45,8.46,8.46,8.46,8.46,8.47,8.47,8.48,8.48,8.48,8.48,8.49,8.49,8.5,8.5,8.5,8.5,8.5,8.5,8.52,8.53,8.53,8.53,8.54,8.54,8.54,8.54,8.54,8.54,8.54,8.55,8.56,8.56,8.56,8.56,8.56,8.56,8.56,8.57,8.57,8.57,8.6,8.6,8.62,8.62,8.62,8.64,8.64,8.64,8.64,8.64,8.64,8.65,8.65,8.65,8.65,8.65,8.65,8.66,8.66,8.66,8.66,8.66,8.66,8.67,8.67,8.67,8.67,8.67,8.68,8.68,8.68,8.69,8.69,8.69,8.7,8.7,8.71,8.72,8.73,8.73,8.73,8.74,8.74,8.74,8.75,8.75,8.75,8.76,8.76,8.76,8.76,8.76,8.76,8.76,8.76,8.76,8.77,8.77,8.77,8.77,8.78,8.78,8.78,8.78,8.78,8.79,8.79,8.79,8.79,8.8,8.8,8.8,8.8,8.8,8.83,8.84,8.84,8.85,8.86,8.87,8.87,8.87,8.88,8.88,8.89,8.9,8.9,8.9,8.92,8.94,8.94,8.95,8.96,8.96,8.96,8.96,8.97,8.97,8.97,8.97,8.98,9.0,9.0,9.0,9.0,9.0,9.01,9.01,9.01,9.02,9.02,9.02,9.02,9.02,9.02,9.04,9.04,9.04,9.04,9.04,9.04,9.05,9.06,9.06,9.06,9.07,9.08,9.08,9.08,9.08,9.1,9.1,9.1,9.1,9.1,9.11,9.11,9.11,9.11,9.11,9.11,9.12,9.12,9.12,9.13,9.13,9.13,9.13,9.14,9.14,9.14,9.14,9.15,9.15,9.16,9.16,9.16,9.16,9.16,9.17,9.17,9.18,9.18,9.19,9.19,9.2,9.22,9.22,9.22,9.22,9.23,9.23,9.23,9.23,9.23,9.24,9.24,9.25,9.25,9.26,9.26,9.27,9.28,9.28,9.3,9.31,9.32,9.34,9.34,9.35,9.36,9.36,9.36,9.36,9.36,9.38,9.4,9.4,9.42,9.43,9.44,9.44,9.44,9.45,9.45,9.45,9.45,9.46,9.46,9.47,9.48,9.48,9.5,9.5,9.53,9.54,9.54,9.56,9.56,9.6,9.6,9.6,9.62,9.64,9.65,9.66,9.66,9.66,9.67,9.68,9.7,9.7,9.74,9.76,9.76,9.78,9.8,9.8,9.8,9.82,9.86,9.87,9.87,9.91,9.92],\"xaxis\":\"x6\",\"y\":[1.3010972554647688,1.767851605633699,1.7795204643879208,1.8028581818963678,1.8261958994048149,1.8612024756674854,1.8845401931759307,1.931215628192823,1.931215628192823,1.95455334570127,2.001228780718164,2.0245664982266094,2.036235356980833,2.036235356980833,2.05957307448928,2.0712419332435017,2.0712419332435017,2.0712419332435017,2.117917368260396,2.117917368260396,2.164592803277288,2.187930520785735,2.187930520785735,2.1995993795399587,2.2346059558026274,2.2812813908195197,2.2812813908195197,2.2812813908195197,2.2812813908195197,2.2812813908195197,2.292950249573745,2.292950249573745,2.292950249573745,2.292950249573745,2.292950249573745,2.304619108327967,2.304619108327967,2.304619108327967,2.3162879670821903,2.3162879670821903,2.327956825836414,2.327956825836414,2.327956825836414,2.3396256845906374,2.351294543344861,2.351294543344861,2.456314272132869,2.4679831308870925,2.4679831308870925,2.4679831308870925,2.479651989641316,2.514658565903985,2.537996283412432,2.537996283412432,2.537996283412432,2.537996283412432,2.537996283412432,2.5496651421666554,2.561334000920879,2.561334000920879,2.561334000920879,2.561334000920879,2.561334000920879,2.561334000920879,2.5730028596751024,2.5730028596751024,2.5730028596751024,2.5730028596751024,2.5730028596751024,2.584671718429326,2.584671718429326,2.584671718429326,2.584671718429326,2.6080094359377712,2.6080094359377712,2.6313471534462183,2.6313471534462183,2.643016012200442,2.643016012200442,2.643016012200442,2.6546848709546653,2.666353729708887,2.6780225884631124,2.6780225884631124,2.7013603059715576,2.7013603059715576,2.7013603059715576,2.7013603059715576,2.7013603059715576,2.7013603059715576,2.7013603059715576,2.7013603059715576,2.7013603059715576,2.713029164725781,2.713029164725781,2.713029164725781,2.724698023480003,2.724698023480003,2.724698023480003,2.724698023480003,2.724698023480003,2.7363668822342264,2.7363668822342264,2.7363668822342264,2.7363668822342264,2.74803574098845,2.74803574098845,2.74803574098845,2.771373458496897,2.7830423172511205,2.7830423172511205,2.8063800347595658,2.8063800347595658,2.8180488935137893,2.8180488935137893,2.8180488935137893,2.8180488935137893,2.8180488935137893,2.8413866110222363,2.8413866110222363,2.8413866110222363,2.8413866110222363,2.8413866110222363,2.8413866110222363,2.8413866110222363,2.85305546977646,2.85305546977646,2.85305546977646,2.85305546977646,2.85305546977646,2.8647243285306834,2.8647243285306834,2.876393187284907,2.876393187284907,2.8880620460391304,2.8880620460391304,2.8880620460391304,2.899730904793352,2.899730904793352,2.9113997635475757,2.9113997635475757,2.9113997635475757,2.934737481056021,2.934737481056021,2.934737481056021,2.934737481056021,2.934737481056021,2.9464063398102462,2.9464063398102462,2.9464063398102462,2.9580751985644698,2.9580751985644698,2.9580751985644698,2.9580751985644698,2.9580751985644698,2.9697440573186933,2.981412916072915,2.981412916072915,2.981412916072915,2.9930817748271386,3.004750633581362,3.004750633581362,3.004750633581362,3.004750633581362,3.004750633581362,3.016419492335584,3.016419492335584,3.016419492335584,3.016419492335584,3.016419492335584,3.0280883510898073,3.051426068598256,3.051426068598256,3.051426068598256,3.051426068598256,3.0747637861067014,3.0747637861067014,3.086432644860925,3.086432644860925,3.086432644860925,3.086432644860925,3.0981015036151485,3.0981015036151485,3.0981015036151485,3.0981015036151485,3.0981015036151485,3.0981015036151485,3.10977036236937,3.1214392211235937,3.1214392211235937,3.1214392211235937,3.1331080798778173,3.1331080798778173,3.1331080798778173,3.168114656140488,3.168114656140488,3.168114656140488,3.168114656140488,3.191452373648933,3.191452373648933,3.191452373648933,3.2031212324031566,3.2031212324031566,3.2031212324031566,3.2031212324031566,3.21479009115738,3.21479009115738,3.21479009115738,3.226458949911602,3.226458949911602,3.226458949911602,3.226458949911602,3.226458949911602,3.226458949911602,3.226458949911602,3.238127808665827,3.238127808665827,3.238127808665827,3.238127808665827,3.2497966674200507,3.2497966674200507,3.261465526174274,3.261465526174274,3.261465526174274,3.261465526174274,3.273134384928496,3.273134384928496,3.2848032436827195,3.2848032436827195,3.2848032436827195,3.2848032436827195,3.2848032436827195,3.2848032436827195,3.3081409611911665,3.3198098199453883,3.3198098199453883,3.3198098199453883,3.331478678699612,3.331478678699612,3.331478678699612,3.331478678699612,3.331478678699612,3.331478678699612,3.331478678699612,3.343147537453837,3.3548163962080606,3.3548163962080606,3.3548163962080606,3.3548163962080606,3.3548163962080606,3.3548163962080606,3.3548163962080606,3.3664852549622823,3.3664852549622823,3.3664852549622823,3.401491831224951,3.401491831224951,3.424829548733398,3.424829548733398,3.424829548733398,3.448167266241845,3.448167266241845,3.448167266241845,3.448167266241845,3.448167266241845,3.448167266241845,3.4598361249960687,3.4598361249960687,3.4598361249960687,3.4598361249960687,3.4598361249960687,3.4598361249960687,3.4715049837502923,3.4715049837502923,3.4715049837502923,3.4715049837502923,3.4715049837502923,3.4715049837502923,3.483173842504514,3.483173842504514,3.483173842504514,3.483173842504514,3.483173842504514,3.4948427012587375,3.4948427012587375,3.4948427012587375,3.506511560012961,3.506511560012961,3.506511560012961,3.5181804187671846,3.5181804187671846,3.529849277521408,3.5415181362756316,3.553186995029855,3.553186995029855,3.553186995029855,3.564855853784077,3.564855853784077,3.564855853784077,3.5765247125383004,3.5765247125383004,3.5765247125383004,3.588193571292524,3.588193571292524,3.588193571292524,3.588193571292524,3.588193571292524,3.588193571292524,3.588193571292524,3.588193571292524,3.588193571292524,3.5998624300467474,3.5998624300467474,3.5998624300467474,3.5998624300467474,3.611531288800969,3.611531288800969,3.611531288800969,3.611531288800969,3.611531288800969,3.6232001475551927,3.6232001475551927,3.6232001475551927,3.6232001475551927,3.634869006309418,3.634869006309418,3.634869006309418,3.634869006309418,3.634869006309418,3.669875582572087,3.6815444413263103,3.6815444413263103,3.693213300080532,3.7048821588347556,3.716551017588979,3.716551017588979,3.716551017588979,3.7282198763432044,3.7282198763432044,3.739888735097426,3.7515575938516497,3.7515575938516497,3.7515575938516497,3.774895311360095,3.798233028868542,3.798233028868542,3.8099018876227655,3.821570746376989,3.821570746376989,3.821570746376989,3.821570746376989,3.8332396051312125,3.8332396051312125,3.8332396051312125,3.8332396051312125,3.844908463885436,3.8682461813938813,3.8682461813938813,3.8682461813938813,3.8682461813938813,3.8682461813938813,3.879915040148105,3.879915040148105,3.879915040148105,3.8915838989023284,3.8915838989023284,3.8915838989023284,3.8915838989023284,3.8915838989023284,3.8915838989023284,3.9149216164107736,3.9149216164107736,3.9149216164107736,3.9149216164107736,3.9149216164107736,3.9149216164107736,3.926590475164999,3.9382593339192224,3.9382593339192224,3.9382593339192224,3.949928192673444,3.9615970514276677,3.9615970514276677,3.9615970514276677,3.9615970514276677,3.984934768936113,3.984934768936113,3.984934768936113,3.984934768936113,3.984934768936113,3.9966036276903365,3.9966036276903365,3.9966036276903365,3.9966036276903365,3.9966036276903365,3.9966036276903365,4.00827248644456,4.00827248644456,4.00827248644456,4.019941345198785,4.019941345198785,4.019941345198785,4.019941345198785,4.031610203953007,4.031610203953007,4.031610203953007,4.031610203953007,4.043279062707231,4.043279062707231,4.054947921461454,4.054947921461454,4.054947921461454,4.054947921461454,4.054947921461454,4.066616780215678,4.066616780215678,4.078285638969899,4.078285638969899,4.089954497724123,4.089954497724123,4.101623356478346,4.1249610739867935,4.1249610739867935,4.1249610739867935,4.1249610739867935,4.136629932741017,4.136629932741017,4.136629932741017,4.136629932741017,4.136629932741017,4.1482987914952405,4.1482987914952405,4.159967650249462,4.159967650249462,4.171636509003686,4.171636509003686,4.183305367757909,4.194974226512131,4.194974226512131,4.21831194402058,4.229980802774803,4.241649661529025,4.264987379037472,4.264987379037472,4.276656237791696,4.288325096545917,4.288325096545917,4.288325096545917,4.288325096545917,4.288325096545917,4.311662814054366,4.3350005315628115,4.3350005315628115,4.3583382490712586,4.37000710782548,4.381675966579704,4.381675966579704,4.381675966579704,4.393344825333927,4.393344825333927,4.393344825333927,4.393344825333927,4.405013684088153,4.405013684088153,4.416682542842374,4.428351401596598,4.428351401596598,4.451689119105043,4.451689119105043,4.486695695367712,4.4983645541219355,4.4983645541219355,4.521702271630384,4.521702271630384,4.568377706647277,4.568377706647277,4.568377706647277,4.591715424155722,4.615053141664171,4.626722000418392,4.638390859172616,4.638390859172616,4.638390859172616,4.6500597179268395,4.661728576681061,4.685066294189508,4.685066294189508,4.731741729206402,4.755079446714848,4.755079446714848,4.778417164223295,4.801754881731742,4.801754881731742,4.801754881731742,4.825092599240189,4.871768034257079,4.883436893011303,4.883436893011303,4.930112328028197,4.94178118678242],\"yaxis\":\"y6\",\"type\":\"scatter\"},{\"hovertemplate\":\"Chance of Admit =%{x}\\u003cbr\\u003eGRE Score=%{y}\\u003cextra\\u003e\\u003c\\u002fextra\\u003e\",\"legendgroup\":\"\",\"marker\":{\"color\":\"#636efa\",\"symbol\":\"circle\"},\"mode\":\"markers\",\"name\":\"\",\"orientation\":\"v\",\"showlegend\":false,\"x\":[0.92,0.76,0.72,0.8,0.65,0.9,0.75,0.68,0.5,0.45,0.52,0.84,0.78,0.62,0.61,0.54,0.66,0.65,0.63,0.62,0.64,0.7,0.94,0.95,0.97,0.94,0.76,0.44,0.46,0.54,0.65,0.74,0.91,0.9,0.94,0.88,0.64,0.58,0.52,0.48,0.46,0.49,0.53,0.87,0.91,0.88,0.86,0.89,0.82,0.78,0.76,0.56,0.78,0.72,0.7,0.64,0.64,0.46,0.36,0.42,0.48,0.47,0.54,0.56,0.52,0.55,0.61,0.57,0.68,0.78,0.94,0.96,0.93,0.84,0.74,0.72,0.74,0.64,0.44,0.46,0.5,0.96,0.92,0.92,0.94,0.76,0.72,0.66,0.64,0.74,0.64,0.38,0.34,0.44,0.36,0.42,0.48,0.86,0.9,0.79,0.71,0.64,0.62,0.57,0.74,0.69,0.87,0.91,0.93,0.68,0.61,0.69,0.62,0.72,0.59,0.66,0.56,0.45,0.47,0.71,0.94,0.94,0.57,0.61,0.57,0.64,0.85,0.78,0.84,0.92,0.96,0.77,0.71,0.79,0.89,0.82,0.76,0.71,0.8,0.78,0.84,0.9,0.92,0.97,0.8,0.81,0.75,0.83,0.96,0.79,0.93,0.94,0.86,0.79,0.8,0.77,0.7,0.65,0.61,0.52,0.57,0.53,0.67,0.68,0.81,0.78,0.65,0.64,0.64,0.65,0.68,0.89,0.86,0.89,0.87,0.85,0.9,0.82,0.72,0.73,0.71,0.71,0.68,0.75,0.72,0.89,0.84,0.93,0.93,0.88,0.9,0.87,0.86,0.94,0.77,0.78,0.73,0.73,0.7,0.72,0.73,0.72,0.97,0.97,0.69,0.57,0.63,0.66,0.64,0.68,0.79,0.82,0.95,0.96,0.94,0.93,0.91,0.85,0.84,0.74,0.76,0.75,0.76,0.71,0.67,0.61,0.63,0.64,0.71,0.82,0.73,0.74,0.69,0.64,0.91,0.88,0.85,0.86,0.7,0.59,0.6,0.65,0.7,0.76,0.63,0.81,0.72,0.71,0.8,0.77,0.74,0.7,0.71,0.93,0.85,0.79,0.76,0.78,0.77,0.9,0.87,0.71,0.7,0.7,0.75,0.71,0.72,0.73,0.83,0.77,0.72,0.54,0.49,0.52,0.58,0.78,0.89,0.7,0.66,0.67,0.68,0.8,0.81,0.8,0.94,0.93,0.92,0.89,0.82,0.79,0.58,0.56,0.56,0.64,0.61,0.68,0.76,0.86,0.9,0.71,0.62,0.66,0.65,0.73,0.62,0.74,0.79,0.8,0.69,0.7,0.76,0.84,0.78,0.67,0.66,0.65,0.54,0.58,0.79,0.8,0.75,0.73,0.72,0.62,0.67,0.81,0.63,0.69,0.8,0.43,0.8,0.73,0.75,0.71,0.73,0.83,0.72,0.94,0.81,0.81,0.75,0.79,0.58,0.59,0.47,0.49,0.47,0.42,0.57,0.62,0.74,0.73,0.64,0.63,0.59,0.73,0.79,0.68,0.7,0.81,0.85,0.93,0.91,0.69,0.77,0.86,0.74,0.57,0.51,0.67,0.72,0.89,0.95,0.79,0.39,0.38,0.34,0.47,0.56,0.71,0.78,0.73,0.82,0.62,0.96,0.96,0.46,0.53,0.49,0.76,0.64,0.71,0.84,0.77,0.89,0.82,0.84,0.91,0.67,0.95,0.63,0.66,0.78,0.91,0.62,0.52,0.61,0.58,0.57,0.61,0.54,0.56,0.59,0.49,0.72,0.76,0.65,0.52,0.6,0.58,0.42,0.77,0.73,0.94,0.91,0.92,0.71,0.71,0.69,0.95,0.74,0.73,0.86,0.71,0.64,0.55,0.58,0.61,0.67,0.66,0.53,0.79,0.92,0.87,0.92,0.91,0.93,0.84,0.8,0.79,0.82,0.89,0.93,0.73,0.71,0.59,0.51,0.37,0.69,0.89,0.77,0.68,0.62,0.57,0.45,0.54,0.71,0.78,0.81,0.86,0.87,0.64,0.9,0.67,0.67,0.59,0.62,0.65,0.71,0.79,0.8,0.78,0.83,0.71,0.73,0.7,0.68,0.79,0.76,0.65,0.67,0.54,0.53,0.62,0.68,0.87,0.96,0.93,0.73,0.84],\"xaxis\":\"x7\",\"y\":[337,324,316,322,314,330,321,308,302,323,325,327,328,307,311,314,317,319,318,303,312,325,328,334,336,340,322,298,295,310,300,327,338,340,331,320,299,300,304,307,308,316,313,332,326,322,329,339,321,327,313,312,334,324,322,320,316,298,300,311,309,307,304,315,325,325,327,316,318,328,332,336,321,314,314,329,327,301,296,294,312,340,320,322,340,319,315,317,314,316,318,299,298,301,303,304,306,331,332,323,322,312,314,317,326,316,329,338,331,304,305,321,301,320,311,310,299,290,296,327,335,334,310,308,301,300,323,319,326,333,339,303,309,323,333,314,312,316,326,318,329,332,331,340,325,320,315,326,339,311,334,332,321,324,326,312,315,309,306,297,315,298,318,317,329,322,302,313,293,311,312,334,322,323,321,320,329,319,309,307,300,305,299,314,316,327,317,335,331,324,324,323,322,336,316,307,306,310,311,313,317,315,340,334,298,295,315,310,305,301,325,328,338,333,331,330,322,321,324,312,313,316,324,308,305,296,306,312,318,324,313,319,312,304,330,326,325,329,310,299,296,317,324,325,314,328,316,311,324,321,320,316,318,335,321,307,309,324,326,331,327,312,308,324,325,313,312,314,327,308,306,299,294,312,315,322,329,320,308,304,311,317,312,321,340,331,336,324,314,313,307,300,302,312,316,317,310,320,330,305,309,319,322,323,313,321,323,325,312,308,320,328,311,301,305,308,298,300,324,327,317,323,314,305,315,326,299,295,324,297,327,311,308,319,312,325,319,332,323,324,312,326,308,305,295,316,304,299,302,313,318,325,303,300,297,317,327,301,314,321,322,334,338,306,313,330,320,311,298,301,310,324,336,321,315,304,297,290,303,311,322,319,324,300,340,335,302,307,296,320,314,318,326,317,329,324,325,330,312,333,304,315,324,330,311,302,322,298,297,300,301,313,314,317,321,327,315,316,309,308,299,321,322,334,325,323,312,310,316,340,311,320,324,316,306,309,310,317,318,312,305,332,331,321,324,328,327,320,312,315,320,324,328,319,310,305,299,295,312,329,319,301,307,304,298,305,314,318,323,326,320,311,327,316,308,300,304,309,318,325,321,323,328,304,317,311,319,327,322,302,307,297,298,300,301,332,337,330,312,327],\"yaxis\":\"y7\",\"type\":\"scatter\"},{\"hovertemplate\":\"\\u003cb\\u003eOLS trendline\\u003c\\u002fb\\u003e\\u003cbr\\u003eGRE Score = 64.8505 * Chance of Admit  + 269.667\\u003cbr\\u003eR\\u003csup\\u003e2\\u003c\\u002fsup\\u003e=0.656668\\u003cbr\\u003e\\u003cbr\\u003eChance of Admit =%{x}\\u003cbr\\u003eGRE Score=%{y} \\u003cb\\u003e(trend)\\u003c\\u002fb\\u003e\\u003cextra\\u003e\\u003c\\u002fextra\\u003e\",\"legendgroup\":\"\",\"marker\":{\"color\":\"#636efa\",\"symbol\":\"circle\"},\"mode\":\"lines\",\"name\":\"\",\"showlegend\":false,\"x\":[0.34,0.34,0.36,0.36,0.37,0.38,0.38,0.39,0.42,0.42,0.42,0.42,0.43,0.44,0.44,0.44,0.45,0.45,0.45,0.46,0.46,0.46,0.46,0.46,0.47,0.47,0.47,0.47,0.47,0.48,0.48,0.48,0.49,0.49,0.49,0.49,0.49,0.5,0.5,0.51,0.51,0.52,0.52,0.52,0.52,0.52,0.52,0.52,0.53,0.53,0.53,0.53,0.53,0.54,0.54,0.54,0.54,0.54,0.54,0.54,0.54,0.55,0.55,0.56,0.56,0.56,0.56,0.56,0.56,0.56,0.57,0.57,0.57,0.57,0.57,0.57,0.57,0.57,0.57,0.57,0.58,0.58,0.58,0.58,0.58,0.58,0.58,0.58,0.59,0.59,0.59,0.59,0.59,0.59,0.59,0.6,0.6,0.61,0.61,0.61,0.61,0.61,0.61,0.61,0.61,0.61,0.61,0.62,0.62,0.62,0.62,0.62,0.62,0.62,0.62,0.62,0.62,0.62,0.62,0.62,0.63,0.63,0.63,0.63,0.63,0.63,0.63,0.64,0.64,0.64,0.64,0.64,0.64,0.64,0.64,0.64,0.64,0.64,0.64,0.64,0.64,0.64,0.64,0.64,0.64,0.64,0.65,0.65,0.65,0.65,0.65,0.65,0.65,0.65,0.65,0.65,0.65,0.65,0.66,0.66,0.66,0.66,0.66,0.66,0.66,0.66,0.66,0.67,0.67,0.67,0.67,0.67,0.67,0.67,0.67,0.67,0.67,0.67,0.68,0.68,0.68,0.68,0.68,0.68,0.68,0.68,0.68,0.68,0.68,0.68,0.68,0.69,0.69,0.69,0.69,0.69,0.69,0.69,0.69,0.69,0.7,0.7,0.7,0.7,0.7,0.7,0.7,0.7,0.7,0.7,0.7,0.7,0.7,0.71,0.71,0.71,0.71,0.71,0.71,0.71,0.71,0.71,0.71,0.71,0.71,0.71,0.71,0.71,0.71,0.71,0.71,0.71,0.71,0.71,0.71,0.71,0.72,0.72,0.72,0.72,0.72,0.72,0.72,0.72,0.72,0.72,0.72,0.72,0.72,0.72,0.72,0.72,0.73,0.73,0.73,0.73,0.73,0.73,0.73,0.73,0.73,0.73,0.73,0.73,0.73,0.73,0.73,0.73,0.73,0.73,0.74,0.74,0.74,0.74,0.74,0.74,0.74,0.74,0.74,0.74,0.74,0.74,0.75,0.75,0.75,0.75,0.75,0.75,0.75,0.75,0.76,0.76,0.76,0.76,0.76,0.76,0.76,0.76,0.76,0.76,0.76,0.76,0.76,0.76,0.77,0.77,0.77,0.77,0.77,0.77,0.77,0.77,0.77,0.77,0.78,0.78,0.78,0.78,0.78,0.78,0.78,0.78,0.78,0.78,0.78,0.78,0.78,0.78,0.78,0.79,0.79,0.79,0.79,0.79,0.79,0.79,0.79,0.79,0.79,0.79,0.79,0.79,0.79,0.79,0.79,0.8,0.8,0.8,0.8,0.8,0.8,0.8,0.8,0.8,0.8,0.8,0.8,0.8,0.81,0.81,0.81,0.81,0.81,0.81,0.81,0.81,0.81,0.82,0.82,0.82,0.82,0.82,0.82,0.82,0.82,0.82,0.83,0.83,0.83,0.83,0.84,0.84,0.84,0.84,0.84,0.84,0.84,0.84,0.84,0.84,0.84,0.85,0.85,0.85,0.85,0.85,0.85,0.86,0.86,0.86,0.86,0.86,0.86,0.86,0.86,0.86,0.86,0.87,0.87,0.87,0.87,0.87,0.87,0.87,0.87,0.88,0.88,0.88,0.88,0.89,0.89,0.89,0.89,0.89,0.89,0.89,0.89,0.89,0.89,0.89,0.9,0.9,0.9,0.9,0.9,0.9,0.9,0.9,0.9,0.91,0.91,0.91,0.91,0.91,0.91,0.91,0.91,0.91,0.91,0.92,0.92,0.92,0.92,0.92,0.92,0.92,0.92,0.92,0.93,0.93,0.93,0.93,0.93,0.93,0.93,0.93,0.93,0.93,0.93,0.93,0.94,0.94,0.94,0.94,0.94,0.94,0.94,0.94,0.94,0.94,0.94,0.94,0.94,0.95,0.95,0.95,0.95,0.95,0.96,0.96,0.96,0.96,0.96,0.96,0.96,0.96,0.97,0.97,0.97,0.97],\"xaxis\":\"x7\",\"y\":[291.7159568910917,291.7159568910917,293.0129675847004,293.0129675847004,293.6614729315047,294.309978278309,294.309978278309,294.9584836251134,296.9039996655264,296.9039996655264,296.9039996655264,296.9039996655264,297.5525050123307,298.201010359135,298.201010359135,298.201010359135,298.8495157059394,298.8495157059394,298.8495157059394,299.4980210527437,299.4980210527437,299.4980210527437,299.4980210527437,299.4980210527437,300.146526399548,300.146526399548,300.146526399548,300.146526399548,300.146526399548,300.7950317463524,300.7950317463524,300.7950317463524,301.4435370931567,301.4435370931567,301.4435370931567,301.4435370931567,301.4435370931567,302.092042439961,302.092042439961,302.7405477867654,302.7405477867654,303.3890531335697,303.3890531335697,303.3890531335697,303.3890531335697,303.3890531335697,303.3890531335697,303.3890531335697,304.037558480374,304.037558480374,304.037558480374,304.037558480374,304.037558480374,304.6860638271784,304.6860638271784,304.6860638271784,304.6860638271784,304.6860638271784,304.6860638271784,304.6860638271784,304.6860638271784,305.3345691739827,305.3345691739827,305.983074520787,305.983074520787,305.983074520787,305.983074520787,305.983074520787,305.983074520787,305.983074520787,306.6315798675913,306.6315798675913,306.6315798675913,306.6315798675913,306.6315798675913,306.6315798675913,306.6315798675913,306.6315798675913,306.6315798675913,306.6315798675913,307.2800852143957,307.2800852143957,307.2800852143957,307.2800852143957,307.2800852143957,307.2800852143957,307.2800852143957,307.2800852143957,307.9285905612,307.9285905612,307.9285905612,307.9285905612,307.9285905612,307.9285905612,307.9285905612,308.57709590800437,308.57709590800437,309.2256012548087,309.2256012548087,309.2256012548087,309.2256012548087,309.2256012548087,309.2256012548087,309.2256012548087,309.2256012548087,309.2256012548087,309.2256012548087,309.874106601613,309.874106601613,309.874106601613,309.874106601613,309.874106601613,309.874106601613,309.874106601613,309.874106601613,309.874106601613,309.874106601613,309.874106601613,309.874106601613,309.874106601613,310.5226119484173,310.5226119484173,310.5226119484173,310.5226119484173,310.5226119484173,310.5226119484173,310.5226119484173,311.1711172952217,311.1711172952217,311.1711172952217,311.1711172952217,311.1711172952217,311.1711172952217,311.1711172952217,311.1711172952217,311.1711172952217,311.1711172952217,311.1711172952217,311.1711172952217,311.1711172952217,311.1711172952217,311.1711172952217,311.1711172952217,311.1711172952217,311.1711172952217,311.1711172952217,311.819622642026,311.819622642026,311.819622642026,311.819622642026,311.819622642026,311.819622642026,311.819622642026,311.819622642026,311.819622642026,311.819622642026,311.819622642026,311.819622642026,312.46812798883036,312.46812798883036,312.46812798883036,312.46812798883036,312.46812798883036,312.46812798883036,312.46812798883036,312.46812798883036,312.46812798883036,313.1166333356347,313.1166333356347,313.1166333356347,313.1166333356347,313.1166333356347,313.1166333356347,313.1166333356347,313.1166333356347,313.1166333356347,313.1166333356347,313.1166333356347,313.765138682439,313.765138682439,313.765138682439,313.765138682439,313.765138682439,313.765138682439,313.765138682439,313.765138682439,313.765138682439,313.765138682439,313.765138682439,313.765138682439,313.765138682439,314.4136440292433,314.4136440292433,314.4136440292433,314.4136440292433,314.4136440292433,314.4136440292433,314.4136440292433,314.4136440292433,314.4136440292433,315.06214937604767,315.06214937604767,315.06214937604767,315.06214937604767,315.06214937604767,315.06214937604767,315.06214937604767,315.06214937604767,315.06214937604767,315.06214937604767,315.06214937604767,315.06214937604767,315.06214937604767,315.710654722852,315.710654722852,315.710654722852,315.710654722852,315.710654722852,315.710654722852,315.710654722852,315.710654722852,315.710654722852,315.710654722852,315.710654722852,315.710654722852,315.710654722852,315.710654722852,315.710654722852,315.710654722852,315.710654722852,315.710654722852,315.710654722852,315.710654722852,315.710654722852,315.710654722852,315.710654722852,316.3591600696563,316.3591600696563,316.3591600696563,316.3591600696563,316.3591600696563,316.3591600696563,316.3591600696563,316.3591600696563,316.3591600696563,316.3591600696563,316.3591600696563,316.3591600696563,316.3591600696563,316.3591600696563,316.3591600696563,316.3591600696563,317.00766541646067,317.00766541646067,317.00766541646067,317.00766541646067,317.00766541646067,317.00766541646067,317.00766541646067,317.00766541646067,317.00766541646067,317.00766541646067,317.00766541646067,317.00766541646067,317.00766541646067,317.00766541646067,317.00766541646067,317.00766541646067,317.00766541646067,317.00766541646067,317.656170763265,317.656170763265,317.656170763265,317.656170763265,317.656170763265,317.656170763265,317.656170763265,317.656170763265,317.656170763265,317.656170763265,317.656170763265,317.656170763265,318.3046761100693,318.3046761100693,318.3046761100693,318.3046761100693,318.3046761100693,318.3046761100693,318.3046761100693,318.3046761100693,318.95318145687366,318.95318145687366,318.95318145687366,318.95318145687366,318.95318145687366,318.95318145687366,318.95318145687366,318.95318145687366,318.95318145687366,318.95318145687366,318.95318145687366,318.95318145687366,318.95318145687366,318.95318145687366,319.601686803678,319.601686803678,319.601686803678,319.601686803678,319.601686803678,319.601686803678,319.601686803678,319.601686803678,319.601686803678,319.601686803678,320.2501921504823,320.2501921504823,320.2501921504823,320.2501921504823,320.2501921504823,320.2501921504823,320.2501921504823,320.2501921504823,320.2501921504823,320.2501921504823,320.2501921504823,320.2501921504823,320.2501921504823,320.2501921504823,320.2501921504823,320.89869749728666,320.89869749728666,320.89869749728666,320.89869749728666,320.89869749728666,320.89869749728666,320.89869749728666,320.89869749728666,320.89869749728666,320.89869749728666,320.89869749728666,320.89869749728666,320.89869749728666,320.89869749728666,320.89869749728666,320.89869749728666,321.547202844091,321.547202844091,321.547202844091,321.547202844091,321.547202844091,321.547202844091,321.547202844091,321.547202844091,321.547202844091,321.547202844091,321.547202844091,321.547202844091,321.547202844091,322.1957081908953,322.1957081908953,322.1957081908953,322.1957081908953,322.1957081908953,322.1957081908953,322.1957081908953,322.1957081908953,322.1957081908953,322.84421353769966,322.84421353769966,322.84421353769966,322.84421353769966,322.84421353769966,322.84421353769966,322.84421353769966,322.84421353769966,322.84421353769966,323.492718884504,323.492718884504,323.492718884504,323.492718884504,324.1412242313083,324.1412242313083,324.1412242313083,324.1412242313083,324.1412242313083,324.1412242313083,324.1412242313083,324.1412242313083,324.1412242313083,324.1412242313083,324.1412242313083,324.78972957811266,324.78972957811266,324.78972957811266,324.78972957811266,324.78972957811266,324.78972957811266,325.43823492491697,325.43823492491697,325.43823492491697,325.43823492491697,325.43823492491697,325.43823492491697,325.43823492491697,325.43823492491697,325.43823492491697,325.43823492491697,326.0867402717213,326.0867402717213,326.0867402717213,326.0867402717213,326.0867402717213,326.0867402717213,326.0867402717213,326.0867402717213,326.73524561852565,326.73524561852565,326.73524561852565,326.73524561852565,327.38375096532997,327.38375096532997,327.38375096532997,327.38375096532997,327.38375096532997,327.38375096532997,327.38375096532997,327.38375096532997,327.38375096532997,327.38375096532997,327.38375096532997,328.0322563121343,328.0322563121343,328.0322563121343,328.0322563121343,328.0322563121343,328.0322563121343,328.0322563121343,328.0322563121343,328.0322563121343,328.68076165893865,328.68076165893865,328.68076165893865,328.68076165893865,328.68076165893865,328.68076165893865,328.68076165893865,328.68076165893865,328.68076165893865,328.68076165893865,329.32926700574296,329.32926700574296,329.32926700574296,329.32926700574296,329.32926700574296,329.32926700574296,329.32926700574296,329.32926700574296,329.32926700574296,329.9777723525473,329.9777723525473,329.9777723525473,329.9777723525473,329.9777723525473,329.9777723525473,329.9777723525473,329.9777723525473,329.9777723525473,329.9777723525473,329.9777723525473,329.9777723525473,330.6262776993516,330.6262776993516,330.6262776993516,330.6262776993516,330.6262776993516,330.6262776993516,330.6262776993516,330.6262776993516,330.6262776993516,330.6262776993516,330.6262776993516,330.6262776993516,330.6262776993516,331.27478304615596,331.27478304615596,331.27478304615596,331.27478304615596,331.27478304615596,331.9232883929603,331.9232883929603,331.9232883929603,331.9232883929603,331.9232883929603,331.9232883929603,331.9232883929603,331.9232883929603,332.57179373976464,332.57179373976464,332.57179373976464,332.57179373976464],\"yaxis\":\"y7\",\"type\":\"scatter\"},{\"hovertemplate\":\"Chance of Admit =%{x}\\u003cbr\\u003eTOEFL Score=%{y}\\u003cextra\\u003e\\u003c\\u002fextra\\u003e\",\"legendgroup\":\"\",\"marker\":{\"color\":\"#636efa\",\"symbol\":\"circle\"},\"mode\":\"markers\",\"name\":\"\",\"orientation\":\"v\",\"showlegend\":false,\"x\":[0.92,0.76,0.72,0.8,0.65,0.9,0.75,0.68,0.5,0.45,0.52,0.84,0.78,0.62,0.61,0.54,0.66,0.65,0.63,0.62,0.64,0.7,0.94,0.95,0.97,0.94,0.76,0.44,0.46,0.54,0.65,0.74,0.91,0.9,0.94,0.88,0.64,0.58,0.52,0.48,0.46,0.49,0.53,0.87,0.91,0.88,0.86,0.89,0.82,0.78,0.76,0.56,0.78,0.72,0.7,0.64,0.64,0.46,0.36,0.42,0.48,0.47,0.54,0.56,0.52,0.55,0.61,0.57,0.68,0.78,0.94,0.96,0.93,0.84,0.74,0.72,0.74,0.64,0.44,0.46,0.5,0.96,0.92,0.92,0.94,0.76,0.72,0.66,0.64,0.74,0.64,0.38,0.34,0.44,0.36,0.42,0.48,0.86,0.9,0.79,0.71,0.64,0.62,0.57,0.74,0.69,0.87,0.91,0.93,0.68,0.61,0.69,0.62,0.72,0.59,0.66,0.56,0.45,0.47,0.71,0.94,0.94,0.57,0.61,0.57,0.64,0.85,0.78,0.84,0.92,0.96,0.77,0.71,0.79,0.89,0.82,0.76,0.71,0.8,0.78,0.84,0.9,0.92,0.97,0.8,0.81,0.75,0.83,0.96,0.79,0.93,0.94,0.86,0.79,0.8,0.77,0.7,0.65,0.61,0.52,0.57,0.53,0.67,0.68,0.81,0.78,0.65,0.64,0.64,0.65,0.68,0.89,0.86,0.89,0.87,0.85,0.9,0.82,0.72,0.73,0.71,0.71,0.68,0.75,0.72,0.89,0.84,0.93,0.93,0.88,0.9,0.87,0.86,0.94,0.77,0.78,0.73,0.73,0.7,0.72,0.73,0.72,0.97,0.97,0.69,0.57,0.63,0.66,0.64,0.68,0.79,0.82,0.95,0.96,0.94,0.93,0.91,0.85,0.84,0.74,0.76,0.75,0.76,0.71,0.67,0.61,0.63,0.64,0.71,0.82,0.73,0.74,0.69,0.64,0.91,0.88,0.85,0.86,0.7,0.59,0.6,0.65,0.7,0.76,0.63,0.81,0.72,0.71,0.8,0.77,0.74,0.7,0.71,0.93,0.85,0.79,0.76,0.78,0.77,0.9,0.87,0.71,0.7,0.7,0.75,0.71,0.72,0.73,0.83,0.77,0.72,0.54,0.49,0.52,0.58,0.78,0.89,0.7,0.66,0.67,0.68,0.8,0.81,0.8,0.94,0.93,0.92,0.89,0.82,0.79,0.58,0.56,0.56,0.64,0.61,0.68,0.76,0.86,0.9,0.71,0.62,0.66,0.65,0.73,0.62,0.74,0.79,0.8,0.69,0.7,0.76,0.84,0.78,0.67,0.66,0.65,0.54,0.58,0.79,0.8,0.75,0.73,0.72,0.62,0.67,0.81,0.63,0.69,0.8,0.43,0.8,0.73,0.75,0.71,0.73,0.83,0.72,0.94,0.81,0.81,0.75,0.79,0.58,0.59,0.47,0.49,0.47,0.42,0.57,0.62,0.74,0.73,0.64,0.63,0.59,0.73,0.79,0.68,0.7,0.81,0.85,0.93,0.91,0.69,0.77,0.86,0.74,0.57,0.51,0.67,0.72,0.89,0.95,0.79,0.39,0.38,0.34,0.47,0.56,0.71,0.78,0.73,0.82,0.62,0.96,0.96,0.46,0.53,0.49,0.76,0.64,0.71,0.84,0.77,0.89,0.82,0.84,0.91,0.67,0.95,0.63,0.66,0.78,0.91,0.62,0.52,0.61,0.58,0.57,0.61,0.54,0.56,0.59,0.49,0.72,0.76,0.65,0.52,0.6,0.58,0.42,0.77,0.73,0.94,0.91,0.92,0.71,0.71,0.69,0.95,0.74,0.73,0.86,0.71,0.64,0.55,0.58,0.61,0.67,0.66,0.53,0.79,0.92,0.87,0.92,0.91,0.93,0.84,0.8,0.79,0.82,0.89,0.93,0.73,0.71,0.59,0.51,0.37,0.69,0.89,0.77,0.68,0.62,0.57,0.45,0.54,0.71,0.78,0.81,0.86,0.87,0.64,0.9,0.67,0.67,0.59,0.62,0.65,0.71,0.79,0.8,0.78,0.83,0.71,0.73,0.7,0.68,0.79,0.76,0.65,0.67,0.54,0.53,0.62,0.68,0.87,0.96,0.93,0.73,0.84],\"xaxis\":\"x8\",\"y\":[118,107,104,110,103,115,109,101,102,108,106,111,112,109,104,105,107,106,110,102,107,114,116,119,119,120,109,98,93,99,97,103,118,114,112,110,106,105,105,108,110,105,107,117,113,110,114,119,110,111,98,100,116,112,110,103,102,99,99,104,100,101,105,107,111,112,114,107,109,115,118,112,111,108,106,114,112,99,95,93,105,120,110,115,115,103,106,107,108,109,106,97,98,97,99,100,100,120,119,113,107,105,106,104,112,110,111,117,116,103,108,109,107,110,105,106,102,104,99,104,117,119,106,108,106,100,113,112,112,118,114,105,105,112,113,109,103,100,116,109,110,118,115,120,112,113,105,114,116,106,114,116,112,105,108,109,105,104,106,100,103,99,109,105,111,110,102,102,97,99,101,117,110,113,111,111,119,110,108,102,104,107,100,110,106,113,107,118,115,112,111,110,114,118,109,107,105,106,104,107,103,110,120,120,105,99,99,102,106,104,108,110,120,119,117,116,112,109,110,104,103,110,113,109,105,99,110,110,112,111,104,106,107,100,113,111,112,114,104,100,101,103,115,114,107,110,105,104,110,111,104,99,100,115,114,110,99,100,102,119,108,104,103,111,110,102,105,107,113,108,105,96,95,99,100,110,113,101,103,102,102,110,106,111,112,116,118,114,104,109,105,102,99,98,101,100,107,120,114,112,106,108,105,107,106,109,110,112,108,110,104,108,107,100,105,104,101,99,111,113,106,104,107,102,104,116,100,101,112,96,113,105,106,108,107,111,110,118,108,107,107,110,106,103,96,98,97,94,99,101,107,110,100,102,98,106,109,104,105,107,110,116,115,103,102,114,104,98,92,98,103,110,119,109,105,101,96,100,98,99,104,105,110,100,113,117,101,105,97,108,102,106,112,104,111,110,107,116,103,117,100,105,109,116,101,99,103,100,101,98,96,94,102,101,110,106,104,103,111,102,100,112,112,119,114,111,106,101,103,115,104,112,112,111,103,105,110,106,110,105,104,112,116,114,113,116,118,108,109,101,112,113,116,103,105,102,100,99,100,113,105,102,105,107,97,96,99,101,110,114,110,103,116,102,105,101,104,105,103,110,102,107,113,103,106,101,102,115,112,110,105,99,101,95,99,108,117,120,103,113],\"yaxis\":\"y8\",\"type\":\"scatter\"},{\"hovertemplate\":\"\\u003cb\\u003eOLS trendline\\u003c\\u002fb\\u003e\\u003cbr\\u003eTOEFL Score = 34.1378 * Chance of Admit  + 82.5534\\u003cbr\\u003eR\\u003csup\\u003e2\\u003c\\u002fsup\\u003e=0.627625\\u003cbr\\u003e\\u003cbr\\u003eChance of Admit =%{x}\\u003cbr\\u003eTOEFL Score=%{y} \\u003cb\\u003e(trend)\\u003c\\u002fb\\u003e\\u003cextra\\u003e\\u003c\\u002fextra\\u003e\",\"legendgroup\":\"\",\"marker\":{\"color\":\"#636efa\",\"symbol\":\"circle\"},\"mode\":\"lines\",\"name\":\"\",\"showlegend\":false,\"x\":[0.34,0.34,0.36,0.36,0.37,0.38,0.38,0.39,0.42,0.42,0.42,0.42,0.43,0.44,0.44,0.44,0.45,0.45,0.45,0.46,0.46,0.46,0.46,0.46,0.47,0.47,0.47,0.47,0.47,0.48,0.48,0.48,0.49,0.49,0.49,0.49,0.49,0.5,0.5,0.51,0.51,0.52,0.52,0.52,0.52,0.52,0.52,0.52,0.53,0.53,0.53,0.53,0.53,0.54,0.54,0.54,0.54,0.54,0.54,0.54,0.54,0.55,0.55,0.56,0.56,0.56,0.56,0.56,0.56,0.56,0.57,0.57,0.57,0.57,0.57,0.57,0.57,0.57,0.57,0.57,0.58,0.58,0.58,0.58,0.58,0.58,0.58,0.58,0.59,0.59,0.59,0.59,0.59,0.59,0.59,0.6,0.6,0.61,0.61,0.61,0.61,0.61,0.61,0.61,0.61,0.61,0.61,0.62,0.62,0.62,0.62,0.62,0.62,0.62,0.62,0.62,0.62,0.62,0.62,0.62,0.63,0.63,0.63,0.63,0.63,0.63,0.63,0.64,0.64,0.64,0.64,0.64,0.64,0.64,0.64,0.64,0.64,0.64,0.64,0.64,0.64,0.64,0.64,0.64,0.64,0.64,0.65,0.65,0.65,0.65,0.65,0.65,0.65,0.65,0.65,0.65,0.65,0.65,0.66,0.66,0.66,0.66,0.66,0.66,0.66,0.66,0.66,0.67,0.67,0.67,0.67,0.67,0.67,0.67,0.67,0.67,0.67,0.67,0.68,0.68,0.68,0.68,0.68,0.68,0.68,0.68,0.68,0.68,0.68,0.68,0.68,0.69,0.69,0.69,0.69,0.69,0.69,0.69,0.69,0.69,0.7,0.7,0.7,0.7,0.7,0.7,0.7,0.7,0.7,0.7,0.7,0.7,0.7,0.71,0.71,0.71,0.71,0.71,0.71,0.71,0.71,0.71,0.71,0.71,0.71,0.71,0.71,0.71,0.71,0.71,0.71,0.71,0.71,0.71,0.71,0.71,0.72,0.72,0.72,0.72,0.72,0.72,0.72,0.72,0.72,0.72,0.72,0.72,0.72,0.72,0.72,0.72,0.73,0.73,0.73,0.73,0.73,0.73,0.73,0.73,0.73,0.73,0.73,0.73,0.73,0.73,0.73,0.73,0.73,0.73,0.74,0.74,0.74,0.74,0.74,0.74,0.74,0.74,0.74,0.74,0.74,0.74,0.75,0.75,0.75,0.75,0.75,0.75,0.75,0.75,0.76,0.76,0.76,0.76,0.76,0.76,0.76,0.76,0.76,0.76,0.76,0.76,0.76,0.76,0.77,0.77,0.77,0.77,0.77,0.77,0.77,0.77,0.77,0.77,0.78,0.78,0.78,0.78,0.78,0.78,0.78,0.78,0.78,0.78,0.78,0.78,0.78,0.78,0.78,0.79,0.79,0.79,0.79,0.79,0.79,0.79,0.79,0.79,0.79,0.79,0.79,0.79,0.79,0.79,0.79,0.8,0.8,0.8,0.8,0.8,0.8,0.8,0.8,0.8,0.8,0.8,0.8,0.8,0.81,0.81,0.81,0.81,0.81,0.81,0.81,0.81,0.81,0.82,0.82,0.82,0.82,0.82,0.82,0.82,0.82,0.82,0.83,0.83,0.83,0.83,0.84,0.84,0.84,0.84,0.84,0.84,0.84,0.84,0.84,0.84,0.84,0.85,0.85,0.85,0.85,0.85,0.85,0.86,0.86,0.86,0.86,0.86,0.86,0.86,0.86,0.86,0.86,0.87,0.87,0.87,0.87,0.87,0.87,0.87,0.87,0.88,0.88,0.88,0.88,0.89,0.89,0.89,0.89,0.89,0.89,0.89,0.89,0.89,0.89,0.89,0.9,0.9,0.9,0.9,0.9,0.9,0.9,0.9,0.9,0.91,0.91,0.91,0.91,0.91,0.91,0.91,0.91,0.91,0.91,0.92,0.92,0.92,0.92,0.92,0.92,0.92,0.92,0.92,0.93,0.93,0.93,0.93,0.93,0.93,0.93,0.93,0.93,0.93,0.93,0.93,0.94,0.94,0.94,0.94,0.94,0.94,0.94,0.94,0.94,0.94,0.94,0.94,0.94,0.95,0.95,0.95,0.95,0.95,0.96,0.96,0.96,0.96,0.96,0.96,0.96,0.96,0.97,0.97,0.97,0.97],\"xaxis\":\"x8\",\"y\":[94.16023453897608,94.16023453897608,94.84299062746689,94.84299062746689,95.18436867171229,95.5257467159577,95.5257467159577,95.86712476020308,96.89125889293929,96.89125889293929,96.89125889293929,96.89125889293929,97.2326369371847,97.5740149814301,97.5740149814301,97.5740149814301,97.9153930256755,97.9153930256755,97.9153930256755,98.25677106992089,98.25677106992089,98.25677106992089,98.25677106992089,98.25677106992089,98.59814911416629,98.59814911416629,98.59814911416629,98.59814911416629,98.59814911416629,98.93952715841169,98.93952715841169,98.93952715841169,99.2809052026571,99.2809052026571,99.2809052026571,99.2809052026571,99.2809052026571,99.6222832469025,99.6222832469025,99.9636612911479,99.9636612911479,100.3050393353933,100.3050393353933,100.3050393353933,100.3050393353933,100.3050393353933,100.3050393353933,100.3050393353933,100.6464173796387,100.6464173796387,100.6464173796387,100.6464173796387,100.6464173796387,100.98779542388411,100.98779542388411,100.98779542388411,100.98779542388411,100.98779542388411,100.98779542388411,100.98779542388411,100.98779542388411,101.32917346812951,101.32917346812951,101.67055151237491,101.67055151237491,101.67055151237491,101.67055151237491,101.67055151237491,101.67055151237491,101.67055151237491,102.0119295566203,102.0119295566203,102.0119295566203,102.0119295566203,102.0119295566203,102.0119295566203,102.0119295566203,102.0119295566203,102.0119295566203,102.0119295566203,102.3533076008657,102.3533076008657,102.3533076008657,102.3533076008657,102.3533076008657,102.3533076008657,102.3533076008657,102.3533076008657,102.69468564511111,102.69468564511111,102.69468564511111,102.69468564511111,102.69468564511111,102.69468564511111,102.69468564511111,103.03606368935651,103.03606368935651,103.37744173360191,103.37744173360191,103.37744173360191,103.37744173360191,103.37744173360191,103.37744173360191,103.37744173360191,103.37744173360191,103.37744173360191,103.37744173360191,103.7188197778473,103.7188197778473,103.7188197778473,103.7188197778473,103.7188197778473,103.7188197778473,103.7188197778473,103.7188197778473,103.7188197778473,103.7188197778473,103.7188197778473,103.7188197778473,103.7188197778473,104.0601978220927,104.0601978220927,104.0601978220927,104.0601978220927,104.0601978220927,104.0601978220927,104.0601978220927,104.4015758663381,104.4015758663381,104.4015758663381,104.4015758663381,104.4015758663381,104.4015758663381,104.4015758663381,104.4015758663381,104.4015758663381,104.4015758663381,104.4015758663381,104.4015758663381,104.4015758663381,104.4015758663381,104.4015758663381,104.4015758663381,104.4015758663381,104.4015758663381,104.4015758663381,104.74295391058351,104.74295391058351,104.74295391058351,104.74295391058351,104.74295391058351,104.74295391058351,104.74295391058351,104.74295391058351,104.74295391058351,104.74295391058351,104.74295391058351,104.74295391058351,105.08433195482891,105.08433195482891,105.08433195482891,105.08433195482891,105.08433195482891,105.08433195482891,105.08433195482891,105.08433195482891,105.08433195482891,105.42570999907431,105.42570999907431,105.42570999907431,105.42570999907431,105.42570999907431,105.42570999907431,105.42570999907431,105.42570999907431,105.42570999907431,105.42570999907431,105.42570999907431,105.76708804331972,105.76708804331972,105.76708804331972,105.76708804331972,105.76708804331972,105.76708804331972,105.76708804331972,105.76708804331972,105.76708804331972,105.76708804331972,105.76708804331972,105.76708804331972,105.76708804331972,106.10846608756512,106.10846608756512,106.10846608756512,106.10846608756512,106.10846608756512,106.10846608756512,106.10846608756512,106.10846608756512,106.10846608756512,106.44984413181052,106.44984413181052,106.44984413181052,106.44984413181052,106.44984413181052,106.44984413181052,106.44984413181052,106.44984413181052,106.44984413181052,106.44984413181052,106.44984413181052,106.44984413181052,106.44984413181052,106.79122217605592,106.79122217605592,106.79122217605592,106.79122217605592,106.79122217605592,106.79122217605592,106.79122217605592,106.79122217605592,106.79122217605592,106.79122217605592,106.79122217605592,106.79122217605592,106.79122217605592,106.79122217605592,106.79122217605592,106.79122217605592,106.79122217605592,106.79122217605592,106.79122217605592,106.79122217605592,106.79122217605592,106.79122217605592,106.79122217605592,107.13260022030131,107.13260022030131,107.13260022030131,107.13260022030131,107.13260022030131,107.13260022030131,107.13260022030131,107.13260022030131,107.13260022030131,107.13260022030131,107.13260022030131,107.13260022030131,107.13260022030131,107.13260022030131,107.13260022030131,107.13260022030131,107.47397826454672,107.47397826454672,107.47397826454672,107.47397826454672,107.47397826454672,107.47397826454672,107.47397826454672,107.47397826454672,107.47397826454672,107.47397826454672,107.47397826454672,107.47397826454672,107.47397826454672,107.47397826454672,107.47397826454672,107.47397826454672,107.47397826454672,107.47397826454672,107.81535630879212,107.81535630879212,107.81535630879212,107.81535630879212,107.81535630879212,107.81535630879212,107.81535630879212,107.81535630879212,107.81535630879212,107.81535630879212,107.81535630879212,107.81535630879212,108.15673435303752,108.15673435303752,108.15673435303752,108.15673435303752,108.15673435303752,108.15673435303752,108.15673435303752,108.15673435303752,108.49811239728292,108.49811239728292,108.49811239728292,108.49811239728292,108.49811239728292,108.49811239728292,108.49811239728292,108.49811239728292,108.49811239728292,108.49811239728292,108.49811239728292,108.49811239728292,108.49811239728292,108.49811239728292,108.83949044152833,108.83949044152833,108.83949044152833,108.83949044152833,108.83949044152833,108.83949044152833,108.83949044152833,108.83949044152833,108.83949044152833,108.83949044152833,109.18086848577373,109.18086848577373,109.18086848577373,109.18086848577373,109.18086848577373,109.18086848577373,109.18086848577373,109.18086848577373,109.18086848577373,109.18086848577373,109.18086848577373,109.18086848577373,109.18086848577373,109.18086848577373,109.18086848577373,109.52224653001912,109.52224653001912,109.52224653001912,109.52224653001912,109.52224653001912,109.52224653001912,109.52224653001912,109.52224653001912,109.52224653001912,109.52224653001912,109.52224653001912,109.52224653001912,109.52224653001912,109.52224653001912,109.52224653001912,109.52224653001912,109.86362457426452,109.86362457426452,109.86362457426452,109.86362457426452,109.86362457426452,109.86362457426452,109.86362457426452,109.86362457426452,109.86362457426452,109.86362457426452,109.86362457426452,109.86362457426452,109.86362457426452,110.20500261850992,110.20500261850992,110.20500261850992,110.20500261850992,110.20500261850992,110.20500261850992,110.20500261850992,110.20500261850992,110.20500261850992,110.54638066275533,110.54638066275533,110.54638066275533,110.54638066275533,110.54638066275533,110.54638066275533,110.54638066275533,110.54638066275533,110.54638066275533,110.88775870700073,110.88775870700073,110.88775870700073,110.88775870700073,111.22913675124613,111.22913675124613,111.22913675124613,111.22913675124613,111.22913675124613,111.22913675124613,111.22913675124613,111.22913675124613,111.22913675124613,111.22913675124613,111.22913675124613,111.57051479549153,111.57051479549153,111.57051479549153,111.57051479549153,111.57051479549153,111.57051479549153,111.91189283973694,111.91189283973694,111.91189283973694,111.91189283973694,111.91189283973694,111.91189283973694,111.91189283973694,111.91189283973694,111.91189283973694,111.91189283973694,112.25327088398234,112.25327088398234,112.25327088398234,112.25327088398234,112.25327088398234,112.25327088398234,112.25327088398234,112.25327088398234,112.59464892822774,112.59464892822774,112.59464892822774,112.59464892822774,112.93602697247313,112.93602697247313,112.93602697247313,112.93602697247313,112.93602697247313,112.93602697247313,112.93602697247313,112.93602697247313,112.93602697247313,112.93602697247313,112.93602697247313,113.27740501671853,113.27740501671853,113.27740501671853,113.27740501671853,113.27740501671853,113.27740501671853,113.27740501671853,113.27740501671853,113.27740501671853,113.61878306096393,113.61878306096393,113.61878306096393,113.61878306096393,113.61878306096393,113.61878306096393,113.61878306096393,113.61878306096393,113.61878306096393,113.61878306096393,113.96016110520934,113.96016110520934,113.96016110520934,113.96016110520934,113.96016110520934,113.96016110520934,113.96016110520934,113.96016110520934,113.96016110520934,114.30153914945474,114.30153914945474,114.30153914945474,114.30153914945474,114.30153914945474,114.30153914945474,114.30153914945474,114.30153914945474,114.30153914945474,114.30153914945474,114.30153914945474,114.30153914945474,114.64291719370013,114.64291719370013,114.64291719370013,114.64291719370013,114.64291719370013,114.64291719370013,114.64291719370013,114.64291719370013,114.64291719370013,114.64291719370013,114.64291719370013,114.64291719370013,114.64291719370013,114.98429523794553,114.98429523794553,114.98429523794553,114.98429523794553,114.98429523794553,115.32567328219093,115.32567328219093,115.32567328219093,115.32567328219093,115.32567328219093,115.32567328219093,115.32567328219093,115.32567328219093,115.66705132643634,115.66705132643634,115.66705132643634,115.66705132643634],\"yaxis\":\"y8\",\"type\":\"scatter\"},{\"hovertemplate\":\"Chance of Admit =%{x}\\u003cbr\\u003eCGPA=%{y}\\u003cextra\\u003e\\u003c\\u002fextra\\u003e\",\"legendgroup\":\"\",\"marker\":{\"color\":\"#636efa\",\"symbol\":\"circle\"},\"mode\":\"markers\",\"name\":\"\",\"orientation\":\"v\",\"showlegend\":false,\"x\":[0.92,0.76,0.72,0.8,0.65,0.9,0.75,0.68,0.5,0.45,0.52,0.84,0.78,0.62,0.61,0.54,0.66,0.65,0.63,0.62,0.64,0.7,0.94,0.95,0.97,0.94,0.76,0.44,0.46,0.54,0.65,0.74,0.91,0.9,0.94,0.88,0.64,0.58,0.52,0.48,0.46,0.49,0.53,0.87,0.91,0.88,0.86,0.89,0.82,0.78,0.76,0.56,0.78,0.72,0.7,0.64,0.64,0.46,0.36,0.42,0.48,0.47,0.54,0.56,0.52,0.55,0.61,0.57,0.68,0.78,0.94,0.96,0.93,0.84,0.74,0.72,0.74,0.64,0.44,0.46,0.5,0.96,0.92,0.92,0.94,0.76,0.72,0.66,0.64,0.74,0.64,0.38,0.34,0.44,0.36,0.42,0.48,0.86,0.9,0.79,0.71,0.64,0.62,0.57,0.74,0.69,0.87,0.91,0.93,0.68,0.61,0.69,0.62,0.72,0.59,0.66,0.56,0.45,0.47,0.71,0.94,0.94,0.57,0.61,0.57,0.64,0.85,0.78,0.84,0.92,0.96,0.77,0.71,0.79,0.89,0.82,0.76,0.71,0.8,0.78,0.84,0.9,0.92,0.97,0.8,0.81,0.75,0.83,0.96,0.79,0.93,0.94,0.86,0.79,0.8,0.77,0.7,0.65,0.61,0.52,0.57,0.53,0.67,0.68,0.81,0.78,0.65,0.64,0.64,0.65,0.68,0.89,0.86,0.89,0.87,0.85,0.9,0.82,0.72,0.73,0.71,0.71,0.68,0.75,0.72,0.89,0.84,0.93,0.93,0.88,0.9,0.87,0.86,0.94,0.77,0.78,0.73,0.73,0.7,0.72,0.73,0.72,0.97,0.97,0.69,0.57,0.63,0.66,0.64,0.68,0.79,0.82,0.95,0.96,0.94,0.93,0.91,0.85,0.84,0.74,0.76,0.75,0.76,0.71,0.67,0.61,0.63,0.64,0.71,0.82,0.73,0.74,0.69,0.64,0.91,0.88,0.85,0.86,0.7,0.59,0.6,0.65,0.7,0.76,0.63,0.81,0.72,0.71,0.8,0.77,0.74,0.7,0.71,0.93,0.85,0.79,0.76,0.78,0.77,0.9,0.87,0.71,0.7,0.7,0.75,0.71,0.72,0.73,0.83,0.77,0.72,0.54,0.49,0.52,0.58,0.78,0.89,0.7,0.66,0.67,0.68,0.8,0.81,0.8,0.94,0.93,0.92,0.89,0.82,0.79,0.58,0.56,0.56,0.64,0.61,0.68,0.76,0.86,0.9,0.71,0.62,0.66,0.65,0.73,0.62,0.74,0.79,0.8,0.69,0.7,0.76,0.84,0.78,0.67,0.66,0.65,0.54,0.58,0.79,0.8,0.75,0.73,0.72,0.62,0.67,0.81,0.63,0.69,0.8,0.43,0.8,0.73,0.75,0.71,0.73,0.83,0.72,0.94,0.81,0.81,0.75,0.79,0.58,0.59,0.47,0.49,0.47,0.42,0.57,0.62,0.74,0.73,0.64,0.63,0.59,0.73,0.79,0.68,0.7,0.81,0.85,0.93,0.91,0.69,0.77,0.86,0.74,0.57,0.51,0.67,0.72,0.89,0.95,0.79,0.39,0.38,0.34,0.47,0.56,0.71,0.78,0.73,0.82,0.62,0.96,0.96,0.46,0.53,0.49,0.76,0.64,0.71,0.84,0.77,0.89,0.82,0.84,0.91,0.67,0.95,0.63,0.66,0.78,0.91,0.62,0.52,0.61,0.58,0.57,0.61,0.54,0.56,0.59,0.49,0.72,0.76,0.65,0.52,0.6,0.58,0.42,0.77,0.73,0.94,0.91,0.92,0.71,0.71,0.69,0.95,0.74,0.73,0.86,0.71,0.64,0.55,0.58,0.61,0.67,0.66,0.53,0.79,0.92,0.87,0.92,0.91,0.93,0.84,0.8,0.79,0.82,0.89,0.93,0.73,0.71,0.59,0.51,0.37,0.69,0.89,0.77,0.68,0.62,0.57,0.45,0.54,0.71,0.78,0.81,0.86,0.87,0.64,0.9,0.67,0.67,0.59,0.62,0.65,0.71,0.79,0.8,0.78,0.83,0.71,0.73,0.7,0.68,0.79,0.76,0.65,0.67,0.54,0.53,0.62,0.68,0.87,0.96,0.93,0.73,0.84],\"xaxis\":\"x9\",\"y\":[9.65,8.87,8.0,8.67,8.21,9.34,8.2,7.9,8.0,8.6,8.4,9.0,9.1,8.0,8.2,8.3,8.7,8.0,8.8,8.5,7.9,8.4,9.5,9.7,9.8,9.6,8.8,7.5,7.2,7.3,8.1,8.3,9.4,9.6,9.8,9.2,8.4,7.8,7.5,7.7,8.0,8.2,8.5,9.1,9.4,9.1,9.3,9.7,8.85,8.4,8.3,7.9,8.0,8.1,8.0,7.7,7.4,7.6,6.8,8.3,8.1,8.2,8.2,8.5,8.7,8.92,9.02,8.64,9.22,9.16,9.64,9.76,9.45,9.04,8.9,8.56,8.72,8.22,7.54,7.36,8.02,9.5,9.22,9.36,9.45,8.66,8.42,8.28,8.14,8.76,7.92,7.66,8.03,7.88,7.66,7.84,8.0,8.96,9.24,8.88,8.46,8.12,8.25,8.47,9.05,8.78,9.18,9.46,9.38,8.64,8.48,8.68,8.34,8.56,8.45,9.04,8.62,7.46,7.28,8.84,9.56,9.48,8.36,8.22,8.47,8.66,9.32,8.71,9.1,9.35,9.76,8.65,8.56,8.78,9.28,8.77,8.45,8.16,9.08,9.12,9.15,9.36,9.44,9.92,8.96,8.64,8.48,9.11,9.8,8.26,9.43,9.28,9.06,8.75,8.89,8.69,8.34,8.26,8.14,7.9,7.86,7.46,8.5,8.56,9.01,8.97,8.33,8.27,7.8,7.98,8.04,9.07,9.13,9.23,8.97,8.87,9.16,9.04,8.12,8.27,8.16,8.42,7.88,8.8,8.32,9.11,8.68,9.44,9.36,9.08,9.16,8.98,8.94,9.53,8.76,8.52,8.26,8.33,8.43,8.69,8.54,8.46,9.91,9.87,8.54,7.65,7.89,8.02,8.16,8.12,9.06,9.14,9.66,9.78,9.42,9.36,9.26,9.13,8.97,8.42,8.75,8.56,8.79,8.45,8.23,8.03,8.45,8.53,8.67,9.01,8.65,8.33,8.27,8.07,9.31,9.23,9.17,9.19,8.37,7.89,7.68,8.15,8.76,9.04,8.56,9.02,8.73,8.48,8.87,8.83,8.57,9.0,8.54,9.68,9.12,8.37,8.56,8.64,8.76,9.34,9.13,8.09,8.36,8.79,8.76,8.68,8.45,8.17,9.14,8.34,8.22,7.86,7.64,8.01,7.95,8.96,9.45,8.62,8.49,8.73,8.64,9.11,8.79,8.9,9.66,9.26,9.19,9.08,9.02,9.0,7.65,7.87,7.97,8.18,8.32,8.57,8.67,9.11,9.24,8.65,8.0,8.76,8.45,8.55,8.43,8.8,9.1,9.0,8.53,8.6,8.74,9.18,9.0,8.04,8.13,8.07,7.86,8.01,8.8,8.69,8.5,8.44,8.27,8.18,8.33,9.14,8.02,7.86,8.77,7.89,8.66,8.12,8.21,8.54,8.65,9.11,8.79,9.47,8.74,8.66,8.46,8.76,8.24,8.13,7.34,7.43,7.64,7.34,7.25,8.04,8.27,8.67,8.06,8.17,7.67,8.12,8.77,7.89,7.64,8.44,8.64,9.54,9.23,8.36,8.9,9.17,8.34,7.46,7.88,8.03,8.24,9.22,9.62,8.54,7.65,7.66,7.43,7.56,7.65,8.43,8.84,8.67,9.15,8.26,9.74,9.82,7.96,8.1,7.8,8.44,8.24,8.65,9.12,8.76,9.23,9.04,9.11,9.45,8.78,9.66,8.22,8.34,8.94,9.23,7.64,7.45,8.02,7.95,7.67,8.02,7.56,8.13,7.88,7.94,8.35,8.75,8.1,7.68,8.03,7.98,7.42,8.95,9.02,9.54,9.46,9.86,8.57,8.65,8.74,9.06,8.13,8.78,9.22,8.54,8.21,7.68,7.23,7.65,8.54,8.46,7.79,8.66,9.44,9.16,9.25,9.08,9.67,8.97,9.02,9.13,8.86,9.25,9.6,8.76,8.01,7.64,7.88,7.57,8.53,9.36,8.66,8.13,7.94,7.86,7.21,8.26,8.73,8.78,8.88,9.16,9.27,8.09,9.48,8.15,7.95,7.88,8.12,8.18,8.49,8.96,9.01,8.48,8.77,7.92,7.89,8.34,8.37,9.14,8.62,8.5,8.12,7.81,7.69,8.22,8.45,9.02,9.87,9.56,8.43,9.04],\"yaxis\":\"y9\",\"type\":\"scatter\"},{\"hovertemplate\":\"\\u003cb\\u003eOLS trendline\\u003c\\u002fb\\u003e\\u003cbr\\u003eCGPA = 3.7813 * Chance of Admit  + 5.84732\\u003cbr\\u003eR\\u003csup\\u003e2\\u003c\\u002fsup\\u003e=0.778652\\u003cbr\\u003e\\u003cbr\\u003eChance of Admit =%{x}\\u003cbr\\u003eCGPA=%{y} \\u003cb\\u003e(trend)\\u003c\\u002fb\\u003e\\u003cextra\\u003e\\u003c\\u002fextra\\u003e\",\"legendgroup\":\"\",\"marker\":{\"color\":\"#636efa\",\"symbol\":\"circle\"},\"mode\":\"lines\",\"name\":\"\",\"showlegend\":false,\"x\":[0.34,0.34,0.36,0.36,0.37,0.38,0.38,0.39,0.42,0.42,0.42,0.42,0.43,0.44,0.44,0.44,0.45,0.45,0.45,0.46,0.46,0.46,0.46,0.46,0.47,0.47,0.47,0.47,0.47,0.48,0.48,0.48,0.49,0.49,0.49,0.49,0.49,0.5,0.5,0.51,0.51,0.52,0.52,0.52,0.52,0.52,0.52,0.52,0.53,0.53,0.53,0.53,0.53,0.54,0.54,0.54,0.54,0.54,0.54,0.54,0.54,0.55,0.55,0.56,0.56,0.56,0.56,0.56,0.56,0.56,0.57,0.57,0.57,0.57,0.57,0.57,0.57,0.57,0.57,0.57,0.58,0.58,0.58,0.58,0.58,0.58,0.58,0.58,0.59,0.59,0.59,0.59,0.59,0.59,0.59,0.6,0.6,0.61,0.61,0.61,0.61,0.61,0.61,0.61,0.61,0.61,0.61,0.62,0.62,0.62,0.62,0.62,0.62,0.62,0.62,0.62,0.62,0.62,0.62,0.62,0.63,0.63,0.63,0.63,0.63,0.63,0.63,0.64,0.64,0.64,0.64,0.64,0.64,0.64,0.64,0.64,0.64,0.64,0.64,0.64,0.64,0.64,0.64,0.64,0.64,0.64,0.65,0.65,0.65,0.65,0.65,0.65,0.65,0.65,0.65,0.65,0.65,0.65,0.66,0.66,0.66,0.66,0.66,0.66,0.66,0.66,0.66,0.67,0.67,0.67,0.67,0.67,0.67,0.67,0.67,0.67,0.67,0.67,0.68,0.68,0.68,0.68,0.68,0.68,0.68,0.68,0.68,0.68,0.68,0.68,0.68,0.69,0.69,0.69,0.69,0.69,0.69,0.69,0.69,0.69,0.7,0.7,0.7,0.7,0.7,0.7,0.7,0.7,0.7,0.7,0.7,0.7,0.7,0.71,0.71,0.71,0.71,0.71,0.71,0.71,0.71,0.71,0.71,0.71,0.71,0.71,0.71,0.71,0.71,0.71,0.71,0.71,0.71,0.71,0.71,0.71,0.72,0.72,0.72,0.72,0.72,0.72,0.72,0.72,0.72,0.72,0.72,0.72,0.72,0.72,0.72,0.72,0.73,0.73,0.73,0.73,0.73,0.73,0.73,0.73,0.73,0.73,0.73,0.73,0.73,0.73,0.73,0.73,0.73,0.73,0.74,0.74,0.74,0.74,0.74,0.74,0.74,0.74,0.74,0.74,0.74,0.74,0.75,0.75,0.75,0.75,0.75,0.75,0.75,0.75,0.76,0.76,0.76,0.76,0.76,0.76,0.76,0.76,0.76,0.76,0.76,0.76,0.76,0.76,0.77,0.77,0.77,0.77,0.77,0.77,0.77,0.77,0.77,0.77,0.78,0.78,0.78,0.78,0.78,0.78,0.78,0.78,0.78,0.78,0.78,0.78,0.78,0.78,0.78,0.79,0.79,0.79,0.79,0.79,0.79,0.79,0.79,0.79,0.79,0.79,0.79,0.79,0.79,0.79,0.79,0.8,0.8,0.8,0.8,0.8,0.8,0.8,0.8,0.8,0.8,0.8,0.8,0.8,0.81,0.81,0.81,0.81,0.81,0.81,0.81,0.81,0.81,0.82,0.82,0.82,0.82,0.82,0.82,0.82,0.82,0.82,0.83,0.83,0.83,0.83,0.84,0.84,0.84,0.84,0.84,0.84,0.84,0.84,0.84,0.84,0.84,0.85,0.85,0.85,0.85,0.85,0.85,0.86,0.86,0.86,0.86,0.86,0.86,0.86,0.86,0.86,0.86,0.87,0.87,0.87,0.87,0.87,0.87,0.87,0.87,0.88,0.88,0.88,0.88,0.89,0.89,0.89,0.89,0.89,0.89,0.89,0.89,0.89,0.89,0.89,0.9,0.9,0.9,0.9,0.9,0.9,0.9,0.9,0.9,0.91,0.91,0.91,0.91,0.91,0.91,0.91,0.91,0.91,0.91,0.92,0.92,0.92,0.92,0.92,0.92,0.92,0.92,0.92,0.93,0.93,0.93,0.93,0.93,0.93,0.93,0.93,0.93,0.93,0.93,0.93,0.94,0.94,0.94,0.94,0.94,0.94,0.94,0.94,0.94,0.94,0.94,0.94,0.94,0.95,0.95,0.95,0.95,0.95,0.96,0.96,0.96,0.96,0.96,0.96,0.96,0.96,0.97,0.97,0.97,0.97],\"xaxis\":\"x9\",\"y\":[7.13296596725788,7.13296596725788,7.208591997160018,7.208591997160018,7.246405012111087,7.284218027062155,7.284218027062155,7.322031042013224,7.435470086866431,7.435470086866431,7.435470086866431,7.435470086866431,7.4732831018175,7.511096116768568,7.511096116768568,7.511096116768568,7.548909131719638,7.548909131719638,7.548909131719638,7.586722146670707,7.586722146670707,7.586722146670707,7.586722146670707,7.586722146670707,7.624535161621775,7.624535161621775,7.624535161621775,7.624535161621775,7.624535161621775,7.662348176572844,7.662348176572844,7.662348176572844,7.700161191523913,7.700161191523913,7.700161191523913,7.700161191523913,7.700161191523913,7.737974206474982,7.737974206474982,7.775787221426051,7.775787221426051,7.81360023637712,7.81360023637712,7.81360023637712,7.81360023637712,7.81360023637712,7.81360023637712,7.81360023637712,7.8514132513281885,7.8514132513281885,7.8514132513281885,7.8514132513281885,7.8514132513281885,7.889226266279257,7.889226266279257,7.889226266279257,7.889226266279257,7.889226266279257,7.889226266279257,7.889226266279257,7.889226266279257,7.927039281230327,7.927039281230327,7.9648522961813955,7.9648522961813955,7.9648522961813955,7.9648522961813955,7.9648522961813955,7.9648522961813955,7.9648522961813955,8.002665311132464,8.002665311132464,8.002665311132464,8.002665311132464,8.002665311132464,8.002665311132464,8.002665311132464,8.002665311132464,8.002665311132464,8.002665311132464,8.040478326083534,8.040478326083534,8.040478326083534,8.040478326083534,8.040478326083534,8.040478326083534,8.040478326083534,8.040478326083534,8.078291341034602,8.078291341034602,8.078291341034602,8.078291341034602,8.078291341034602,8.078291341034602,8.078291341034602,8.116104355985671,8.116104355985671,8.153917370936739,8.153917370936739,8.153917370936739,8.153917370936739,8.153917370936739,8.153917370936739,8.153917370936739,8.153917370936739,8.153917370936739,8.153917370936739,8.191730385887809,8.191730385887809,8.191730385887809,8.191730385887809,8.191730385887809,8.191730385887809,8.191730385887809,8.191730385887809,8.191730385887809,8.191730385887809,8.191730385887809,8.191730385887809,8.191730385887809,8.229543400838878,8.229543400838878,8.229543400838878,8.229543400838878,8.229543400838878,8.229543400838878,8.229543400838878,8.267356415789946,8.267356415789946,8.267356415789946,8.267356415789946,8.267356415789946,8.267356415789946,8.267356415789946,8.267356415789946,8.267356415789946,8.267356415789946,8.267356415789946,8.267356415789946,8.267356415789946,8.267356415789946,8.267356415789946,8.267356415789946,8.267356415789946,8.267356415789946,8.267356415789946,8.305169430741016,8.305169430741016,8.305169430741016,8.305169430741016,8.305169430741016,8.305169430741016,8.305169430741016,8.305169430741016,8.305169430741016,8.305169430741016,8.305169430741016,8.305169430741016,8.342982445692083,8.342982445692083,8.342982445692083,8.342982445692083,8.342982445692083,8.342982445692083,8.342982445692083,8.342982445692083,8.342982445692083,8.380795460643153,8.380795460643153,8.380795460643153,8.380795460643153,8.380795460643153,8.380795460643153,8.380795460643153,8.380795460643153,8.380795460643153,8.380795460643153,8.380795460643153,8.418608475594223,8.418608475594223,8.418608475594223,8.418608475594223,8.418608475594223,8.418608475594223,8.418608475594223,8.418608475594223,8.418608475594223,8.418608475594223,8.418608475594223,8.418608475594223,8.418608475594223,8.45642149054529,8.45642149054529,8.45642149054529,8.45642149054529,8.45642149054529,8.45642149054529,8.45642149054529,8.45642149054529,8.45642149054529,8.494234505496358,8.494234505496358,8.494234505496358,8.494234505496358,8.494234505496358,8.494234505496358,8.494234505496358,8.494234505496358,8.494234505496358,8.494234505496358,8.494234505496358,8.494234505496358,8.494234505496358,8.532047520447428,8.532047520447428,8.532047520447428,8.532047520447428,8.532047520447428,8.532047520447428,8.532047520447428,8.532047520447428,8.532047520447428,8.532047520447428,8.532047520447428,8.532047520447428,8.532047520447428,8.532047520447428,8.532047520447428,8.532047520447428,8.532047520447428,8.532047520447428,8.532047520447428,8.532047520447428,8.532047520447428,8.532047520447428,8.532047520447428,8.569860535398497,8.569860535398497,8.569860535398497,8.569860535398497,8.569860535398497,8.569860535398497,8.569860535398497,8.569860535398497,8.569860535398497,8.569860535398497,8.569860535398497,8.569860535398497,8.569860535398497,8.569860535398497,8.569860535398497,8.569860535398497,8.607673550349567,8.607673550349567,8.607673550349567,8.607673550349567,8.607673550349567,8.607673550349567,8.607673550349567,8.607673550349567,8.607673550349567,8.607673550349567,8.607673550349567,8.607673550349567,8.607673550349567,8.607673550349567,8.607673550349567,8.607673550349567,8.607673550349567,8.607673550349567,8.645486565300635,8.645486565300635,8.645486565300635,8.645486565300635,8.645486565300635,8.645486565300635,8.645486565300635,8.645486565300635,8.645486565300635,8.645486565300635,8.645486565300635,8.645486565300635,8.683299580251703,8.683299580251703,8.683299580251703,8.683299580251703,8.683299580251703,8.683299580251703,8.683299580251703,8.683299580251703,8.721112595202772,8.721112595202772,8.721112595202772,8.721112595202772,8.721112595202772,8.721112595202772,8.721112595202772,8.721112595202772,8.721112595202772,8.721112595202772,8.721112595202772,8.721112595202772,8.721112595202772,8.721112595202772,8.758925610153842,8.758925610153842,8.758925610153842,8.758925610153842,8.758925610153842,8.758925610153842,8.758925610153842,8.758925610153842,8.758925610153842,8.758925610153842,8.796738625104911,8.796738625104911,8.796738625104911,8.796738625104911,8.796738625104911,8.796738625104911,8.796738625104911,8.796738625104911,8.796738625104911,8.796738625104911,8.796738625104911,8.796738625104911,8.796738625104911,8.796738625104911,8.796738625104911,8.83455164005598,8.83455164005598,8.83455164005598,8.83455164005598,8.83455164005598,8.83455164005598,8.83455164005598,8.83455164005598,8.83455164005598,8.83455164005598,8.83455164005598,8.83455164005598,8.83455164005598,8.83455164005598,8.83455164005598,8.83455164005598,8.872364655007049,8.872364655007049,8.872364655007049,8.872364655007049,8.872364655007049,8.872364655007049,8.872364655007049,8.872364655007049,8.872364655007049,8.872364655007049,8.872364655007049,8.872364655007049,8.872364655007049,8.910177669958117,8.910177669958117,8.910177669958117,8.910177669958117,8.910177669958117,8.910177669958117,8.910177669958117,8.910177669958117,8.910177669958117,8.947990684909186,8.947990684909186,8.947990684909186,8.947990684909186,8.947990684909186,8.947990684909186,8.947990684909186,8.947990684909186,8.947990684909186,8.985803699860254,8.985803699860254,8.985803699860254,8.985803699860254,9.023616714811324,9.023616714811324,9.023616714811324,9.023616714811324,9.023616714811324,9.023616714811324,9.023616714811324,9.023616714811324,9.023616714811324,9.023616714811324,9.023616714811324,9.061429729762391,9.061429729762391,9.061429729762391,9.061429729762391,9.061429729762391,9.061429729762391,9.099242744713461,9.099242744713461,9.099242744713461,9.099242744713461,9.099242744713461,9.099242744713461,9.099242744713461,9.099242744713461,9.099242744713461,9.099242744713461,9.13705575966453,9.13705575966453,9.13705575966453,9.13705575966453,9.13705575966453,9.13705575966453,9.13705575966453,9.13705575966453,9.174868774615598,9.174868774615598,9.174868774615598,9.174868774615598,9.212681789566668,9.212681789566668,9.212681789566668,9.212681789566668,9.212681789566668,9.212681789566668,9.212681789566668,9.212681789566668,9.212681789566668,9.212681789566668,9.212681789566668,9.250494804517736,9.250494804517736,9.250494804517736,9.250494804517736,9.250494804517736,9.250494804517736,9.250494804517736,9.250494804517736,9.250494804517736,9.288307819468805,9.288307819468805,9.288307819468805,9.288307819468805,9.288307819468805,9.288307819468805,9.288307819468805,9.288307819468805,9.288307819468805,9.288307819468805,9.326120834419875,9.326120834419875,9.326120834419875,9.326120834419875,9.326120834419875,9.326120834419875,9.326120834419875,9.326120834419875,9.326120834419875,9.363933849370945,9.363933849370945,9.363933849370945,9.363933849370945,9.363933849370945,9.363933849370945,9.363933849370945,9.363933849370945,9.363933849370945,9.363933849370945,9.363933849370945,9.363933849370945,9.401746864322012,9.401746864322012,9.401746864322012,9.401746864322012,9.401746864322012,9.401746864322012,9.401746864322012,9.401746864322012,9.401746864322012,9.401746864322012,9.401746864322012,9.401746864322012,9.401746864322012,9.43955987927308,9.43955987927308,9.43955987927308,9.43955987927308,9.43955987927308,9.47737289422415,9.47737289422415,9.47737289422415,9.47737289422415,9.47737289422415,9.47737289422415,9.47737289422415,9.47737289422415,9.51518590917522,9.51518590917522,9.51518590917522,9.51518590917522],\"yaxis\":\"y9\",\"type\":\"scatter\"}],                        {\"template\":{\"data\":{\"barpolar\":[{\"marker\":{\"line\":{\"color\":\"rgb(17,17,17)\",\"width\":0.5},\"pattern\":{\"fillmode\":\"overlay\",\"size\":10,\"solidity\":0.2}},\"type\":\"barpolar\"}],\"bar\":[{\"error_x\":{\"color\":\"#f2f5fa\"},\"error_y\":{\"color\":\"#f2f5fa\"},\"marker\":{\"line\":{\"color\":\"rgb(17,17,17)\",\"width\":0.5},\"pattern\":{\"fillmode\":\"overlay\",\"size\":10,\"solidity\":0.2}},\"type\":\"bar\"}],\"carpet\":[{\"aaxis\":{\"endlinecolor\":\"#A2B1C6\",\"gridcolor\":\"#506784\",\"linecolor\":\"#506784\",\"minorgridcolor\":\"#506784\",\"startlinecolor\":\"#A2B1C6\"},\"baxis\":{\"endlinecolor\":\"#A2B1C6\",\"gridcolor\":\"#506784\",\"linecolor\":\"#506784\",\"minorgridcolor\":\"#506784\",\"startlinecolor\":\"#A2B1C6\"},\"type\":\"carpet\"}],\"choropleth\":[{\"colorbar\":{\"outlinewidth\":0,\"ticks\":\"\"},\"type\":\"choropleth\"}],\"contourcarpet\":[{\"colorbar\":{\"outlinewidth\":0,\"ticks\":\"\"},\"type\":\"contourcarpet\"}],\"contour\":[{\"colorbar\":{\"outlinewidth\":0,\"ticks\":\"\"},\"colorscale\":[[0.0,\"#0d0887\"],[0.1111111111111111,\"#46039f\"],[0.2222222222222222,\"#7201a8\"],[0.3333333333333333,\"#9c179e\"],[0.4444444444444444,\"#bd3786\"],[0.5555555555555556,\"#d8576b\"],[0.6666666666666666,\"#ed7953\"],[0.7777777777777778,\"#fb9f3a\"],[0.8888888888888888,\"#fdca26\"],[1.0,\"#f0f921\"]],\"type\":\"contour\"}],\"heatmapgl\":[{\"colorbar\":{\"outlinewidth\":0,\"ticks\":\"\"},\"colorscale\":[[0.0,\"#0d0887\"],[0.1111111111111111,\"#46039f\"],[0.2222222222222222,\"#7201a8\"],[0.3333333333333333,\"#9c179e\"],[0.4444444444444444,\"#bd3786\"],[0.5555555555555556,\"#d8576b\"],[0.6666666666666666,\"#ed7953\"],[0.7777777777777778,\"#fb9f3a\"],[0.8888888888888888,\"#fdca26\"],[1.0,\"#f0f921\"]],\"type\":\"heatmapgl\"}],\"heatmap\":[{\"colorbar\":{\"outlinewidth\":0,\"ticks\":\"\"},\"colorscale\":[[0.0,\"#0d0887\"],[0.1111111111111111,\"#46039f\"],[0.2222222222222222,\"#7201a8\"],[0.3333333333333333,\"#9c179e\"],[0.4444444444444444,\"#bd3786\"],[0.5555555555555556,\"#d8576b\"],[0.6666666666666666,\"#ed7953\"],[0.7777777777777778,\"#fb9f3a\"],[0.8888888888888888,\"#fdca26\"],[1.0,\"#f0f921\"]],\"type\":\"heatmap\"}],\"histogram2dcontour\":[{\"colorbar\":{\"outlinewidth\":0,\"ticks\":\"\"},\"colorscale\":[[0.0,\"#0d0887\"],[0.1111111111111111,\"#46039f\"],[0.2222222222222222,\"#7201a8\"],[0.3333333333333333,\"#9c179e\"],[0.4444444444444444,\"#bd3786\"],[0.5555555555555556,\"#d8576b\"],[0.6666666666666666,\"#ed7953\"],[0.7777777777777778,\"#fb9f3a\"],[0.8888888888888888,\"#fdca26\"],[1.0,\"#f0f921\"]],\"type\":\"histogram2dcontour\"}],\"histogram2d\":[{\"colorbar\":{\"outlinewidth\":0,\"ticks\":\"\"},\"colorscale\":[[0.0,\"#0d0887\"],[0.1111111111111111,\"#46039f\"],[0.2222222222222222,\"#7201a8\"],[0.3333333333333333,\"#9c179e\"],[0.4444444444444444,\"#bd3786\"],[0.5555555555555556,\"#d8576b\"],[0.6666666666666666,\"#ed7953\"],[0.7777777777777778,\"#fb9f3a\"],[0.8888888888888888,\"#fdca26\"],[1.0,\"#f0f921\"]],\"type\":\"histogram2d\"}],\"histogram\":[{\"marker\":{\"pattern\":{\"fillmode\":\"overlay\",\"size\":10,\"solidity\":0.2}},\"type\":\"histogram\"}],\"mesh3d\":[{\"colorbar\":{\"outlinewidth\":0,\"ticks\":\"\"},\"type\":\"mesh3d\"}],\"parcoords\":[{\"line\":{\"colorbar\":{\"outlinewidth\":0,\"ticks\":\"\"}},\"type\":\"parcoords\"}],\"pie\":[{\"automargin\":true,\"type\":\"pie\"}],\"scatter3d\":[{\"line\":{\"colorbar\":{\"outlinewidth\":0,\"ticks\":\"\"}},\"marker\":{\"colorbar\":{\"outlinewidth\":0,\"ticks\":\"\"}},\"type\":\"scatter3d\"}],\"scattercarpet\":[{\"marker\":{\"colorbar\":{\"outlinewidth\":0,\"ticks\":\"\"}},\"type\":\"scattercarpet\"}],\"scattergeo\":[{\"marker\":{\"colorbar\":{\"outlinewidth\":0,\"ticks\":\"\"}},\"type\":\"scattergeo\"}],\"scattergl\":[{\"marker\":{\"line\":{\"color\":\"#283442\"}},\"type\":\"scattergl\"}],\"scattermapbox\":[{\"marker\":{\"colorbar\":{\"outlinewidth\":0,\"ticks\":\"\"}},\"type\":\"scattermapbox\"}],\"scatterpolargl\":[{\"marker\":{\"colorbar\":{\"outlinewidth\":0,\"ticks\":\"\"}},\"type\":\"scatterpolargl\"}],\"scatterpolar\":[{\"marker\":{\"colorbar\":{\"outlinewidth\":0,\"ticks\":\"\"}},\"type\":\"scatterpolar\"}],\"scatter\":[{\"marker\":{\"line\":{\"color\":\"#283442\"}},\"type\":\"scatter\"}],\"scatterternary\":[{\"marker\":{\"colorbar\":{\"outlinewidth\":0,\"ticks\":\"\"}},\"type\":\"scatterternary\"}],\"surface\":[{\"colorbar\":{\"outlinewidth\":0,\"ticks\":\"\"},\"colorscale\":[[0.0,\"#0d0887\"],[0.1111111111111111,\"#46039f\"],[0.2222222222222222,\"#7201a8\"],[0.3333333333333333,\"#9c179e\"],[0.4444444444444444,\"#bd3786\"],[0.5555555555555556,\"#d8576b\"],[0.6666666666666666,\"#ed7953\"],[0.7777777777777778,\"#fb9f3a\"],[0.8888888888888888,\"#fdca26\"],[1.0,\"#f0f921\"]],\"type\":\"surface\"}],\"table\":[{\"cells\":{\"fill\":{\"color\":\"#506784\"},\"line\":{\"color\":\"rgb(17,17,17)\"}},\"header\":{\"fill\":{\"color\":\"#2a3f5f\"},\"line\":{\"color\":\"rgb(17,17,17)\"}},\"type\":\"table\"}]},\"layout\":{\"annotationdefaults\":{\"arrowcolor\":\"#f2f5fa\",\"arrowhead\":0,\"arrowwidth\":1},\"autotypenumbers\":\"strict\",\"coloraxis\":{\"colorbar\":{\"outlinewidth\":0,\"ticks\":\"\"}},\"colorscale\":{\"diverging\":[[0,\"#8e0152\"],[0.1,\"#c51b7d\"],[0.2,\"#de77ae\"],[0.3,\"#f1b6da\"],[0.4,\"#fde0ef\"],[0.5,\"#f7f7f7\"],[0.6,\"#e6f5d0\"],[0.7,\"#b8e186\"],[0.8,\"#7fbc41\"],[0.9,\"#4d9221\"],[1,\"#276419\"]],\"sequential\":[[0.0,\"#0d0887\"],[0.1111111111111111,\"#46039f\"],[0.2222222222222222,\"#7201a8\"],[0.3333333333333333,\"#9c179e\"],[0.4444444444444444,\"#bd3786\"],[0.5555555555555556,\"#d8576b\"],[0.6666666666666666,\"#ed7953\"],[0.7777777777777778,\"#fb9f3a\"],[0.8888888888888888,\"#fdca26\"],[1.0,\"#f0f921\"]],\"sequentialminus\":[[0.0,\"#0d0887\"],[0.1111111111111111,\"#46039f\"],[0.2222222222222222,\"#7201a8\"],[0.3333333333333333,\"#9c179e\"],[0.4444444444444444,\"#bd3786\"],[0.5555555555555556,\"#d8576b\"],[0.6666666666666666,\"#ed7953\"],[0.7777777777777778,\"#fb9f3a\"],[0.8888888888888888,\"#fdca26\"],[1.0,\"#f0f921\"]]},\"colorway\":[\"#636efa\",\"#EF553B\",\"#00cc96\",\"#ab63fa\",\"#FFA15A\",\"#19d3f3\",\"#FF6692\",\"#B6E880\",\"#FF97FF\",\"#FECB52\"],\"font\":{\"color\":\"#f2f5fa\"},\"geo\":{\"bgcolor\":\"rgb(17,17,17)\",\"lakecolor\":\"rgb(17,17,17)\",\"landcolor\":\"rgb(17,17,17)\",\"showlakes\":true,\"showland\":true,\"subunitcolor\":\"#506784\"},\"hoverlabel\":{\"align\":\"left\"},\"hovermode\":\"closest\",\"mapbox\":{\"style\":\"dark\"},\"paper_bgcolor\":\"rgb(17,17,17)\",\"plot_bgcolor\":\"rgb(17,17,17)\",\"polar\":{\"angularaxis\":{\"gridcolor\":\"#506784\",\"linecolor\":\"#506784\",\"ticks\":\"\"},\"bgcolor\":\"rgb(17,17,17)\",\"radialaxis\":{\"gridcolor\":\"#506784\",\"linecolor\":\"#506784\",\"ticks\":\"\"}},\"scene\":{\"xaxis\":{\"backgroundcolor\":\"rgb(17,17,17)\",\"gridcolor\":\"#506784\",\"gridwidth\":2,\"linecolor\":\"#506784\",\"showbackground\":true,\"ticks\":\"\",\"zerolinecolor\":\"#C8D4E3\"},\"yaxis\":{\"backgroundcolor\":\"rgb(17,17,17)\",\"gridcolor\":\"#506784\",\"gridwidth\":2,\"linecolor\":\"#506784\",\"showbackground\":true,\"ticks\":\"\",\"zerolinecolor\":\"#C8D4E3\"},\"zaxis\":{\"backgroundcolor\":\"rgb(17,17,17)\",\"gridcolor\":\"#506784\",\"gridwidth\":2,\"linecolor\":\"#506784\",\"showbackground\":true,\"ticks\":\"\",\"zerolinecolor\":\"#C8D4E3\"}},\"shapedefaults\":{\"line\":{\"color\":\"#f2f5fa\"}},\"sliderdefaults\":{\"bgcolor\":\"#C8D4E3\",\"bordercolor\":\"rgb(17,17,17)\",\"borderwidth\":1,\"tickwidth\":0},\"ternary\":{\"aaxis\":{\"gridcolor\":\"#506784\",\"linecolor\":\"#506784\",\"ticks\":\"\"},\"baxis\":{\"gridcolor\":\"#506784\",\"linecolor\":\"#506784\",\"ticks\":\"\"},\"bgcolor\":\"rgb(17,17,17)\",\"caxis\":{\"gridcolor\":\"#506784\",\"linecolor\":\"#506784\",\"ticks\":\"\"}},\"title\":{\"x\":0.05},\"updatemenudefaults\":{\"bgcolor\":\"#506784\",\"borderwidth\":0},\"xaxis\":{\"automargin\":true,\"gridcolor\":\"#283442\",\"linecolor\":\"#506784\",\"ticks\":\"\",\"title\":{\"standoff\":15},\"zerolinecolor\":\"#283442\",\"zerolinewidth\":2},\"yaxis\":{\"automargin\":true,\"gridcolor\":\"#283442\",\"linecolor\":\"#506784\",\"ticks\":\"\",\"title\":{\"standoff\":15},\"zerolinecolor\":\"#283442\",\"zerolinewidth\":2}}},\"xaxis\":{\"anchor\":\"y\",\"domain\":[0.0,0.2888888888888889],\"title\":{\"text\":\"TOEFL Score\"}},\"yaxis\":{\"anchor\":\"x\",\"domain\":[0.7777777777777778,1.0],\"title\":{\"text\":\"GRE Score\"}},\"xaxis2\":{\"anchor\":\"y2\",\"domain\":[0.35555555555555557,0.6444444444444445],\"title\":{\"text\":\"SOP\"}},\"yaxis2\":{\"anchor\":\"x2\",\"domain\":[0.7777777777777778,1.0],\"title\":{\"text\":\"University Rating\"}},\"xaxis3\":{\"anchor\":\"y3\",\"domain\":[0.7111111111111111,1.0],\"title\":{\"text\":\"CGPA\"}},\"yaxis3\":{\"anchor\":\"x3\",\"domain\":[0.7777777777777778,1.0],\"title\":{\"text\":\"GRE Score\"}},\"xaxis4\":{\"anchor\":\"y4\",\"domain\":[0.0,0.2888888888888889],\"title\":{\"text\":\"CGPA\"}},\"yaxis4\":{\"anchor\":\"x4\",\"domain\":[0.3888888888888889,0.6111111111111112],\"title\":{\"text\":\"TOEFL Score\"}},\"xaxis5\":{\"anchor\":\"y5\",\"domain\":[0.35555555555555557,0.6444444444444445],\"title\":{\"text\":\"CGPA\"}},\"yaxis5\":{\"anchor\":\"x5\",\"domain\":[0.3888888888888889,0.6111111111111112],\"title\":{\"text\":\"University Rating\"}},\"xaxis6\":{\"anchor\":\"y6\",\"domain\":[0.7111111111111111,1.0],\"title\":{\"text\":\"CGPA\"}},\"yaxis6\":{\"anchor\":\"x6\",\"domain\":[0.3888888888888889,0.6111111111111112],\"title\":{\"text\":\"SOP\"}},\"xaxis7\":{\"anchor\":\"y7\",\"domain\":[0.0,0.2888888888888889],\"title\":{\"text\":\"Chance of Admit \"}},\"yaxis7\":{\"anchor\":\"x7\",\"domain\":[0.0,0.22222222222222224],\"title\":{\"text\":\"GRE Score\"}},\"xaxis8\":{\"anchor\":\"y8\",\"domain\":[0.35555555555555557,0.6444444444444445],\"title\":{\"text\":\"Chance of Admit \"}},\"yaxis8\":{\"anchor\":\"x8\",\"domain\":[0.0,0.22222222222222224],\"title\":{\"text\":\"TOEFL Score\"}},\"xaxis9\":{\"anchor\":\"y9\",\"domain\":[0.7111111111111111,1.0],\"title\":{\"text\":\"Chance of Admit \"}},\"yaxis9\":{\"anchor\":\"x9\",\"domain\":[0.0,0.22222222222222224],\"title\":{\"text\":\"CGPA\"}},\"font\":{\"color\":\"white\",\"size\":20},\"title\":{\"x\":0.5,\"y\":0.9},\"barmode\":\"overlay\",\"height\":1170,\"width\":1470},                        {\"responsive\": true}                    ).then(function(){\n",
              "                            \n",
              "var gd = document.getElementById('0dfd7b92-6e69-4d72-8b83-e2f298b42e3e');\n",
              "var x = new MutationObserver(function (mutations, observer) {{\n",
              "        var display = window.getComputedStyle(gd).display;\n",
              "        if (!display || display === 'none') {{\n",
              "            console.log([gd, 'removed!']);\n",
              "            Plotly.purge(gd);\n",
              "            observer.disconnect();\n",
              "        }}\n",
              "}});\n",
              "\n",
              "// Listen for the removal of the full notebook cells\n",
              "var notebookContainer = gd.closest('#notebook-container');\n",
              "if (notebookContainer) {{\n",
              "    x.observe(notebookContainer, {childList: true});\n",
              "}}\n",
              "\n",
              "// Listen for the clearing of the current output cell\n",
              "var outputEl = gd.closest('.output');\n",
              "if (outputEl) {{\n",
              "    x.observe(outputEl, {childList: true});\n",
              "}}\n",
              "\n",
              "                        })                };                            </script>        </div>\n",
              "</body>\n",
              "</html>"
            ]
          },
          "metadata": {}
        }
      ]
    },
    {
      "cell_type": "code",
      "execution_count": 33,
      "metadata": {
        "id": "hcLxqqDVjHmT",
        "colab": {
          "base_uri": "https://localhost:8080/",
          "height": 427
        },
        "outputId": "4dd5ee23-befa-434c-885d-4cf6e2a0f288"
      },
      "outputs": [
        {
          "output_type": "display_data",
          "data": {
            "text/html": [
              "<html>\n",
              "<head><meta charset=\"utf-8\" /></head>\n",
              "<body>\n",
              "    <div>            <script src=\"https://cdnjs.cloudflare.com/ajax/libs/mathjax/2.7.5/MathJax.js?config=TeX-AMS-MML_SVG\"></script><script type=\"text/javascript\">if (window.MathJax && window.MathJax.Hub && window.MathJax.Hub.Config) {window.MathJax.Hub.Config({SVG: {font: \"STIX-Web\"}});}</script>                <script type=\"text/javascript\">window.PlotlyConfig = {MathJaxConfig: 'local'};</script>\n",
              "        <script charset=\"utf-8\" src=\"https://cdn.plot.ly/plotly-2.24.1.min.js\"></script>                <div id=\"0455cf45-1351-4b7d-8487-df8a61d30d10\" class=\"plotly-graph-div\" style=\"height:390px; width:1470px;\"></div>            <script type=\"text/javascript\">                                    window.PLOTLYENV=window.PLOTLYENV || {};                                    if (document.getElementById(\"0455cf45-1351-4b7d-8487-df8a61d30d10\")) {                    Plotly.newPlot(                        \"0455cf45-1351-4b7d-8487-df8a61d30d10\",                        [{\"alignmentgroup\":\"True\",\"hovertemplate\":\"variable=%{x}\\u003cbr\\u003evalue=%{y}\\u003cextra\\u003e\\u003c\\u002fextra\\u003e\",\"legendgroup\":\"\",\"marker\":{\"color\":\"#636efa\"},\"name\":\"\",\"notched\":false,\"offsetgroup\":\"\",\"orientation\":\"v\",\"showlegend\":false,\"x\":[\"true\",\"true\",\"true\",\"true\",\"true\",\"true\",\"true\",\"true\",\"true\",\"true\",\"true\",\"true\",\"true\",\"true\",\"true\",\"true\",\"true\",\"true\",\"true\",\"true\",\"true\",\"true\",\"true\",\"true\",\"true\",\"true\",\"true\",\"true\",\"true\",\"true\",\"true\",\"true\",\"true\",\"true\",\"true\",\"true\",\"true\",\"true\",\"true\",\"true\",\"true\",\"true\",\"true\",\"true\",\"true\",\"true\",\"true\",\"true\",\"true\",\"true\",\"true\",\"true\",\"true\",\"true\",\"true\",\"true\",\"true\",\"true\",\"true\",\"true\",\"true\",\"true\",\"true\",\"true\",\"true\",\"true\",\"true\",\"true\",\"true\",\"true\",\"true\",\"true\",\"true\",\"true\",\"true\",\"true\",\"true\",\"true\",\"true\",\"true\",\"true\",\"true\",\"true\",\"true\",\"true\",\"true\",\"true\",\"true\",\"true\",\"true\",\"true\",\"true\",\"true\",\"true\",\"true\",\"true\",\"true\",\"true\",\"true\",\"true\",\"true\",\"true\",\"true\",\"true\",\"true\",\"true\",\"true\",\"true\",\"true\",\"true\",\"true\",\"true\",\"true\",\"true\",\"true\",\"true\",\"true\",\"true\",\"true\",\"true\",\"true\",\"true\",\"true\",\"true\",\"true\",\"true\",\"true\",\"true\",\"true\",\"true\",\"true\",\"true\",\"true\",\"true\",\"true\",\"true\",\"true\",\"true\",\"true\",\"true\",\"true\",\"true\",\"true\",\"true\",\"true\",\"true\",\"true\",\"true\",\"true\",\"true\",\"true\",\"true\",\"true\",\"true\",\"true\",\"true\",\"true\",\"true\",\"true\",\"true\",\"true\",\"true\",\"true\",\"true\",\"true\",\"true\",\"true\",\"true\",\"true\",\"true\",\"true\",\"true\",\"true\",\"true\",\"true\",\"true\",\"true\",\"true\",\"true\",\"true\",\"true\",\"true\",\"true\",\"true\",\"true\",\"true\",\"true\",\"true\",\"true\",\"true\",\"true\",\"true\",\"true\",\"true\",\"true\",\"true\",\"true\",\"true\",\"true\",\"true\",\"true\",\"true\",\"true\",\"true\",\"true\",\"true\",\"true\",\"true\",\"true\",\"true\",\"true\",\"true\",\"true\",\"true\",\"true\",\"true\",\"true\",\"true\",\"true\",\"true\",\"true\",\"true\",\"true\",\"true\",\"true\",\"true\",\"true\",\"true\",\"true\",\"true\",\"true\",\"true\",\"true\",\"true\",\"true\",\"true\",\"true\",\"true\",\"true\",\"true\",\"true\",\"true\",\"true\",\"true\",\"true\",\"true\",\"true\",\"true\",\"true\",\"true\",\"true\",\"true\",\"true\",\"true\",\"true\",\"true\",\"true\",\"true\",\"true\",\"true\",\"true\",\"true\",\"true\",\"true\",\"true\",\"true\",\"true\",\"true\",\"true\",\"true\",\"true\",\"true\",\"true\",\"true\",\"true\",\"true\",\"true\",\"true\",\"true\",\"true\",\"true\",\"true\",\"true\",\"true\",\"true\",\"true\",\"true\",\"true\",\"true\",\"true\",\"true\",\"true\",\"true\",\"true\",\"true\",\"true\",\"true\",\"true\",\"true\",\"true\",\"true\",\"true\",\"true\",\"true\",\"true\",\"true\",\"true\",\"true\",\"true\",\"true\",\"true\",\"true\",\"true\",\"true\",\"true\",\"true\",\"true\",\"true\",\"true\",\"true\",\"true\",\"true\",\"true\",\"true\",\"true\",\"true\",\"true\",\"true\",\"true\",\"true\",\"true\",\"true\",\"true\",\"true\",\"true\",\"true\",\"true\",\"true\",\"true\",\"true\",\"true\",\"true\",\"true\",\"true\",\"true\",\"true\",\"true\",\"true\",\"true\",\"true\",\"true\",\"true\",\"true\",\"true\",\"true\",\"true\",\"true\",\"true\",\"true\",\"true\",\"true\",\"true\",\"true\",\"true\",\"true\",\"true\",\"true\",\"true\",\"true\",\"true\",\"true\",\"true\",\"true\",\"true\",\"true\",\"true\",\"true\",\"true\",\"true\",\"true\",\"true\",\"true\",\"true\",\"true\",\"true\",\"true\",\"true\",\"true\",\"true\",\"true\",\"true\",\"true\",\"true\",\"true\",\"true\",\"true\",\"true\",\"true\",\"true\",\"true\",\"true\",\"true\",\"true\",\"true\",\"true\",\"true\",\"true\",\"true\",\"true\",\"true\",\"true\",\"true\",\"true\",\"true\",\"true\",\"true\",\"true\",\"true\",\"true\",\"true\",\"true\",\"true\",\"true\",\"true\",\"true\",\"true\",\"true\",\"true\",\"true\",\"true\",\"true\",\"true\",\"true\",\"true\",\"true\",\"true\",\"true\",\"true\",\"true\",\"true\",\"true\",\"true\",\"true\",\"true\",\"true\",\"true\",\"true\",\"true\",\"true\",\"true\",\"true\",\"true\",\"true\",\"true\",\"true\",\"true\",\"true\",\"true\",\"true\",\"true\",\"true\",\"true\",\"true\",\"true\",\"true\",\"true\",\"true\",\"true\",\"true\",\"true\",\"true\",\"true\",\"true\",\"true\",\"true\",\"true\",\"true\",\"true\",\"true\",\"true\",\"true\",\"true\",\"true\",\"true\",\"true\",\"true\",\"true\",\"true\",\"true\",\"true\",\"true\",\"true\",\"true\",\"true\",\"true\",\"true\",\"true\",\"true\",\"true\",\"true\",\"filtered\",\"filtered\",\"filtered\",\"filtered\",\"filtered\",\"filtered\",\"filtered\",\"filtered\",\"filtered\",\"filtered\",\"filtered\",\"filtered\",\"filtered\",\"filtered\",\"filtered\",\"filtered\",\"filtered\",\"filtered\",\"filtered\",\"filtered\",\"filtered\",\"filtered\",\"filtered\",\"filtered\",\"filtered\",\"filtered\",\"filtered\",\"filtered\",\"filtered\",\"filtered\",\"filtered\",\"filtered\",\"filtered\",\"filtered\",\"filtered\",\"filtered\",\"filtered\",\"filtered\",\"filtered\",\"filtered\",\"filtered\",\"filtered\",\"filtered\",\"filtered\",\"filtered\",\"filtered\",\"filtered\",\"filtered\",\"filtered\",\"filtered\",\"filtered\",\"filtered\",\"filtered\",\"filtered\",\"filtered\",\"filtered\",\"filtered\",\"filtered\",\"filtered\",\"filtered\",\"filtered\",\"filtered\",\"filtered\",\"filtered\",\"filtered\",\"filtered\",\"filtered\",\"filtered\",\"filtered\",\"filtered\",\"filtered\",\"filtered\",\"filtered\",\"filtered\",\"filtered\",\"filtered\",\"filtered\",\"filtered\",\"filtered\",\"filtered\",\"filtered\",\"filtered\",\"filtered\",\"filtered\",\"filtered\",\"filtered\",\"filtered\",\"filtered\",\"filtered\",\"filtered\",\"filtered\",\"filtered\",\"filtered\",\"filtered\",\"filtered\",\"filtered\",\"filtered\",\"filtered\",\"filtered\",\"filtered\",\"filtered\",\"filtered\",\"filtered\",\"filtered\",\"filtered\",\"filtered\",\"filtered\",\"filtered\",\"filtered\",\"filtered\",\"filtered\",\"filtered\",\"filtered\",\"filtered\",\"filtered\",\"filtered\",\"filtered\",\"filtered\",\"filtered\",\"filtered\",\"filtered\",\"filtered\",\"filtered\",\"filtered\",\"filtered\",\"filtered\",\"filtered\",\"filtered\",\"filtered\",\"filtered\",\"filtered\",\"filtered\",\"filtered\",\"filtered\",\"filtered\",\"filtered\",\"filtered\",\"filtered\",\"filtered\",\"filtered\",\"filtered\",\"filtered\",\"filtered\",\"filtered\",\"filtered\",\"filtered\",\"filtered\",\"filtered\",\"filtered\",\"filtered\",\"filtered\",\"filtered\",\"filtered\",\"filtered\",\"filtered\",\"filtered\",\"filtered\",\"filtered\",\"filtered\",\"filtered\",\"filtered\",\"filtered\",\"filtered\",\"filtered\",\"filtered\",\"filtered\",\"filtered\",\"filtered\",\"filtered\",\"filtered\",\"filtered\",\"filtered\",\"filtered\",\"filtered\",\"filtered\",\"filtered\",\"filtered\",\"filtered\",\"filtered\",\"filtered\",\"filtered\",\"filtered\",\"filtered\",\"filtered\",\"filtered\",\"filtered\",\"filtered\",\"filtered\",\"filtered\",\"filtered\",\"filtered\",\"filtered\",\"filtered\",\"filtered\",\"filtered\",\"filtered\",\"filtered\",\"filtered\",\"filtered\",\"filtered\",\"filtered\",\"filtered\",\"filtered\",\"filtered\",\"filtered\",\"filtered\",\"filtered\",\"filtered\",\"filtered\",\"filtered\",\"filtered\",\"filtered\",\"filtered\",\"filtered\",\"filtered\",\"filtered\",\"filtered\",\"filtered\",\"filtered\",\"filtered\",\"filtered\",\"filtered\",\"filtered\",\"filtered\",\"filtered\",\"filtered\",\"filtered\",\"filtered\",\"filtered\",\"filtered\",\"filtered\",\"filtered\",\"filtered\",\"filtered\",\"filtered\",\"filtered\",\"filtered\",\"filtered\",\"filtered\",\"filtered\",\"filtered\",\"filtered\",\"filtered\",\"filtered\",\"filtered\",\"filtered\",\"filtered\",\"filtered\",\"filtered\",\"filtered\",\"filtered\",\"filtered\",\"filtered\",\"filtered\",\"filtered\",\"filtered\",\"filtered\",\"filtered\",\"filtered\",\"filtered\",\"filtered\",\"filtered\",\"filtered\",\"filtered\",\"filtered\",\"filtered\",\"filtered\",\"filtered\",\"filtered\",\"filtered\",\"filtered\",\"filtered\",\"filtered\",\"filtered\",\"filtered\",\"filtered\",\"filtered\",\"filtered\",\"filtered\",\"filtered\",\"filtered\",\"filtered\",\"filtered\",\"filtered\",\"filtered\",\"filtered\",\"filtered\",\"filtered\",\"filtered\",\"filtered\",\"filtered\",\"filtered\",\"filtered\",\"filtered\",\"filtered\",\"filtered\",\"filtered\",\"filtered\",\"filtered\",\"filtered\",\"filtered\",\"filtered\",\"filtered\",\"filtered\",\"filtered\",\"filtered\",\"filtered\",\"filtered\",\"filtered\",\"filtered\",\"filtered\",\"filtered\",\"filtered\",\"filtered\",\"filtered\",\"filtered\",\"filtered\",\"filtered\",\"filtered\",\"filtered\",\"filtered\",\"filtered\",\"filtered\",\"filtered\",\"filtered\",\"filtered\",\"filtered\",\"filtered\",\"filtered\",\"filtered\",\"filtered\",\"filtered\",\"filtered\",\"filtered\",\"filtered\",\"filtered\",\"filtered\",\"filtered\",\"filtered\",\"filtered\",\"filtered\",\"filtered\",\"filtered\",\"filtered\",\"filtered\",\"filtered\",\"filtered\",\"filtered\",\"filtered\",\"filtered\",\"filtered\",\"filtered\",\"filtered\",\"filtered\",\"filtered\",\"filtered\",\"filtered\",\"filtered\",\"filtered\",\"filtered\",\"filtered\",\"filtered\",\"filtered\",\"filtered\",\"filtered\",\"filtered\",\"filtered\",\"filtered\",\"filtered\",\"filtered\",\"filtered\",\"filtered\",\"filtered\",\"filtered\",\"filtered\",\"filtered\",\"filtered\",\"filtered\",\"filtered\",\"filtered\",\"filtered\",\"filtered\",\"filtered\",\"filtered\",\"filtered\",\"filtered\",\"filtered\",\"filtered\",\"filtered\",\"filtered\",\"filtered\",\"filtered\",\"filtered\",\"filtered\",\"filtered\",\"filtered\",\"filtered\",\"filtered\",\"filtered\",\"filtered\",\"filtered\",\"filtered\",\"filtered\",\"filtered\",\"filtered\",\"filtered\",\"filtered\",\"filtered\",\"filtered\",\"filtered\",\"filtered\",\"filtered\",\"filtered\",\"filtered\",\"filtered\",\"filtered\",\"filtered\",\"filtered\",\"filtered\",\"filtered\",\"filtered\",\"filtered\",\"filtered\",\"filtered\",\"filtered\",\"filtered\",\"filtered\",\"filtered\",\"filtered\",\"filtered\",\"filtered\",\"filtered\",\"filtered\",\"filtered\",\"filtered\",\"filtered\",\"filtered\",\"filtered\",\"filtered\",\"filtered\",\"filtered\",\"filtered\",\"filtered\",\"filtered\",\"filtered\",\"filtered\",\"filtered\",\"filtered\",\"filtered\",\"filtered\",\"filtered\",\"filtered\",\"filtered\",\"filtered\",\"filtered\",\"filtered\",\"filtered\",\"filtered\",\"filtered\",\"filtered\",\"filtered\",\"filtered\",\"filtered\",\"filtered\",\"filtered\",\"filtered\",\"filtered\",\"filtered\",\"filtered\",\"filtered\",\"filtered\",\"filtered\",\"filtered\",\"filtered\",\"filtered\",\"filtered\",\"filtered\",\"filtered\",\"filtered\",\"filtered\",\"filtered\",\"filtered\",\"filtered\",\"filtered\",\"filtered\",\"filtered\",\"filtered\",\"filtered\",\"filtered\",\"filtered\",\"filtered\",\"filtered\",\"filtered\",\"filtered\",\"filtered\",\"filtered\",\"filtered\",\"filtered\",\"filtered\",\"filtered\"],\"x0\":\" \",\"xaxis\":\"x\",\"y\":[337.0,324.0,316.0,322.0,314.0,330.0,321.0,308.0,302.0,323.0,325.0,327.0,328.0,307.0,311.0,314.0,317.0,319.0,318.0,303.0,312.0,325.0,328.0,334.0,336.0,340.0,322.0,298.0,295.0,310.0,300.0,327.0,338.0,340.0,331.0,320.0,299.0,300.0,304.0,307.0,308.0,316.0,313.0,332.0,326.0,322.0,329.0,339.0,321.0,327.0,313.0,312.0,334.0,324.0,322.0,320.0,316.0,298.0,300.0,311.0,309.0,307.0,304.0,315.0,325.0,325.0,327.0,316.0,318.0,328.0,332.0,336.0,321.0,314.0,314.0,329.0,327.0,301.0,296.0,294.0,312.0,340.0,320.0,322.0,340.0,319.0,315.0,317.0,314.0,316.0,318.0,299.0,298.0,301.0,303.0,304.0,306.0,331.0,332.0,323.0,322.0,312.0,314.0,317.0,326.0,316.0,329.0,338.0,331.0,304.0,305.0,321.0,301.0,320.0,311.0,310.0,299.0,290.0,296.0,327.0,335.0,334.0,310.0,308.0,301.0,300.0,323.0,319.0,326.0,333.0,339.0,303.0,309.0,323.0,333.0,314.0,312.0,316.0,326.0,318.0,329.0,332.0,331.0,340.0,325.0,320.0,315.0,326.0,339.0,311.0,334.0,332.0,321.0,324.0,326.0,312.0,315.0,309.0,306.0,297.0,315.0,298.0,318.0,317.0,329.0,322.0,302.0,313.0,293.0,311.0,312.0,334.0,322.0,323.0,321.0,320.0,329.0,319.0,309.0,307.0,300.0,305.0,299.0,314.0,316.0,327.0,317.0,335.0,331.0,324.0,324.0,323.0,322.0,336.0,316.0,307.0,306.0,310.0,311.0,313.0,317.0,315.0,340.0,334.0,298.0,295.0,315.0,310.0,305.0,301.0,325.0,328.0,338.0,333.0,331.0,330.0,322.0,321.0,324.0,312.0,313.0,316.0,324.0,308.0,305.0,296.0,306.0,312.0,318.0,324.0,313.0,319.0,312.0,304.0,330.0,326.0,325.0,329.0,310.0,299.0,296.0,317.0,324.0,325.0,314.0,328.0,316.0,311.0,324.0,321.0,320.0,316.0,318.0,335.0,321.0,307.0,309.0,324.0,326.0,331.0,327.0,312.0,308.0,324.0,325.0,313.0,312.0,314.0,327.0,308.0,306.0,299.0,294.0,312.0,315.0,322.0,329.0,320.0,308.0,304.0,311.0,317.0,312.0,321.0,340.0,331.0,336.0,324.0,314.0,313.0,307.0,300.0,302.0,312.0,316.0,317.0,310.0,320.0,330.0,305.0,309.0,319.0,322.0,323.0,313.0,321.0,323.0,325.0,312.0,308.0,320.0,328.0,311.0,301.0,305.0,308.0,298.0,300.0,324.0,327.0,317.0,323.0,314.0,305.0,315.0,326.0,299.0,295.0,324.0,297.0,327.0,311.0,308.0,319.0,312.0,325.0,319.0,332.0,323.0,324.0,312.0,326.0,308.0,305.0,295.0,316.0,304.0,299.0,302.0,313.0,318.0,325.0,303.0,300.0,297.0,317.0,327.0,301.0,314.0,321.0,322.0,334.0,338.0,306.0,313.0,330.0,320.0,311.0,298.0,301.0,310.0,324.0,336.0,321.0,315.0,304.0,297.0,290.0,303.0,311.0,322.0,319.0,324.0,300.0,340.0,335.0,302.0,307.0,296.0,320.0,314.0,318.0,326.0,317.0,329.0,324.0,325.0,330.0,312.0,333.0,304.0,315.0,324.0,330.0,311.0,302.0,322.0,298.0,297.0,300.0,301.0,313.0,314.0,317.0,321.0,327.0,315.0,316.0,309.0,308.0,299.0,321.0,322.0,334.0,325.0,323.0,312.0,310.0,316.0,340.0,311.0,320.0,324.0,316.0,306.0,309.0,310.0,317.0,318.0,312.0,305.0,332.0,331.0,321.0,324.0,328.0,327.0,320.0,312.0,315.0,320.0,324.0,328.0,319.0,310.0,305.0,299.0,295.0,312.0,329.0,319.0,301.0,307.0,304.0,298.0,305.0,314.0,318.0,323.0,326.0,320.0,311.0,327.0,316.0,308.0,300.0,304.0,309.0,318.0,325.0,321.0,323.0,328.0,304.0,317.0,311.0,319.0,327.0,322.0,302.0,307.0,297.0,298.0,300.0,301.0,332.0,337.0,330.0,312.0,327.0,4.5,4.5,3.5,2.5,3.0,3.0,4.0,4.0,1.5,3.0,4.0,4.5,4.5,3.0,2.0,2.5,3.0,3.0,3.0,3.0,2.0,2.0,5.0,4.5,3.5,4.5,3.5,2.5,2.0,2.0,3.0,4.0,4.5,4.0,5.0,5.0,4.0,2.0,1.5,3.5,3.0,2.5,2.0,4.0,4.0,4.0,5.0,4.0,5.0,4.0,4.5,3.5,3.0,2.5,3.5,3.0,3.0,2.0,2.0,2.0,3.0,3.0,3.0,3.0,3.5,3.5,3.0,3.5,4.0,4.0,5.0,5.0,5.0,4.0,5.0,4.0,3.0,2.0,2.0,2.0,3.0,5.0,4.5,4.5,4.5,3.5,3.5,3.0,3.5,3.5,4.0,3.5,3.0,3.0,2.5,2.5,3.0,4.0,4.5,4.0,3.5,3.0,3.5,4.0,3.0,4.5,4.5,4.5,5.0,4.0,3.0,4.0,3.5,3.5,3.0,4.5,3.5,2.5,3.5,3.5,5.0,4.5,2.5,3.5,3.0,3.0,3.0,2.0,3.0,5.0,4.5,4.5,3.5,4.5,4.0,4.0,4.0,3.0,3.0,3.5,3.0,3.5,3.5,4.0,3.5,2.5,2.5,3.0,3.5,3.0,4.0,5.0,5.0,4.0,3.5,3.0,2.5,2.5,2.5,2.0,2.0,3.0,3.0,3.0,4.0,4.0,5.0,3.0,4.0,3.0,3.5,4.5,5.0,4.5,4.0,3.5,4.5,3.5,3.0,3.0,3.0,2.5,3.5,4.0,4.0,4.5,3.0,3.5,3.5,5.0,4.0,5.0,4.0,5.0,3.0,3.5,2.5,2.5,4.5,4.5,3.0,3.0,4.5,5.0,4.0,3.0,3.0,4.0,3.0,4.0,4.0,4.0,5.0,4.5,5.0,4.5,4.5,4.0,3.5,3.5,4.0,4.0,4.0,4.0,2.0,2.5,4.0,3.0,3.5,3.0,4.5,2.5,3.5,3.5,4.0,4.0,4.5,5.0,3.5,2.0,3.0,2.0,3.0,3.0,4.0,2.5,3.5,3.5,4.0,4.0,2.5,3.0,3.5,4.5,5.0,4.5,4.0,5.0,5.0,4.5,3.5,4.0,4.0,1.5,2.5,2.5,2.5,3.5,5.0,5.0,3.0,2.0,1.5,1.5,2.5,3.0,4.5,3.0,3.5,4.0,4.0,4.5,3.5,3.0,4.5,4.0,4.0,4.5,5.0,3.5,3.0,2.0,2.0,3.0,2.0,2.5,3.5,4.5,4.5,3.5,2.5,3.0,3.0,3.5,2.0,3.5,3.5,4.0,3.0,3.0,3.5,4.0,4.5,3.0,4.0,3.0,2.0,2.5,2.0,3.0,3.5,4.0,4.0,2.5,2.5,4.0,2.0,2.0,3.5,1.5,3.0,2.0,2.5,3.5,4.0,4.5,2.5,5.0,4.0,4.0,3.0,3.5,3.0,3.5,2.0,2.0,2.0,1.0,2.0,3.0,3.5,4.0,3.5,2.5,3.0,3.5,4.0,3.5,2.0,1.5,5.0,3.5,5.0,3.0,4.0,3.0,4.5,2.5,2.0,3.0,2.5,3.0,4.0,3.0,2.5,2.5,2.0,2.0,2.5,3.0,4.0,3.5,4.0,3.5,5.0,5.0,3.5,3.5,2.0,4.0,2.5,3.0,3.5,3.0,4.0,3.5,3.5,4.5,4.0,4.0,3.0,3.0,3.0,3.5,2.5,3.0,2.5,4.0,4.0,2.5,4.0,1.5,2.0,2.0,4.0,4.5,2.5,2.0,4.0,3.5,3.0,4.5,2.5,5.0,5.0,5.0,5.0,5.0,4.5,4.5,3.5,3.5,4.0,5.0,3.0,4.0,4.0,3.5,3.5,3.0,1.5,3.0,4.5,4.5,5.0,5.0,5.0,5.0,4.0,4.5,4.5,4.5,3.5,4.0,3.5,2.5,2.0,1.5,3.0,3.5,4.5,2.0,3.0,3.0,3.0,4.5,4.5,5.0,5.0,3.5,4.0,4.0,4.5,3.5,2.5,2.5,2.0,2.0,4.5,4.0,4.0,2.5,2.5,3.0,3.0,3.5,2.5,4.0,4.0,4.5,4.5,3.5,4.5,1.5,2.0,4.0,5.0,5.0,5.0,4.5],\"y0\":\" \",\"yaxis\":\"y\",\"type\":\"box\"},{\"alignmentgroup\":\"True\",\"hovertemplate\":\"variable=%{x}\\u003cbr\\u003evalue=%{y}\\u003cextra\\u003e\\u003c\\u002fextra\\u003e\",\"legendgroup\":\"\",\"marker\":{\"color\":\"#636efa\"},\"name\":\"\",\"notched\":false,\"offsetgroup\":\"\",\"orientation\":\"v\",\"showlegend\":false,\"x\":[\"true\",\"true\",\"true\",\"true\",\"true\",\"true\",\"true\",\"true\",\"true\",\"true\",\"true\",\"true\",\"true\",\"true\",\"true\",\"true\",\"true\",\"true\",\"true\",\"true\",\"true\",\"true\",\"true\",\"true\",\"true\",\"true\",\"true\",\"true\",\"true\",\"true\",\"true\",\"true\",\"true\",\"true\",\"true\",\"true\",\"true\",\"true\",\"true\",\"true\",\"true\",\"true\",\"true\",\"true\",\"true\",\"true\",\"true\",\"true\",\"true\",\"true\",\"true\",\"true\",\"true\",\"true\",\"true\",\"true\",\"true\",\"true\",\"true\",\"true\",\"true\",\"true\",\"true\",\"true\",\"true\",\"true\",\"true\",\"true\",\"true\",\"true\",\"true\",\"true\",\"true\",\"true\",\"true\",\"true\",\"true\",\"true\",\"true\",\"true\",\"true\",\"true\",\"true\",\"true\",\"true\",\"true\",\"true\",\"true\",\"true\",\"true\",\"true\",\"true\",\"true\",\"true\",\"true\",\"true\",\"true\",\"true\",\"true\",\"true\",\"true\",\"true\",\"true\",\"true\",\"true\",\"true\",\"true\",\"true\",\"true\",\"true\",\"true\",\"true\",\"true\",\"true\",\"true\",\"true\",\"true\",\"true\",\"true\",\"true\",\"true\",\"true\",\"true\",\"true\",\"true\",\"true\",\"true\",\"true\",\"true\",\"true\",\"true\",\"true\",\"true\",\"true\",\"true\",\"true\",\"true\",\"true\",\"true\",\"true\",\"true\",\"true\",\"true\",\"true\",\"true\",\"true\",\"true\",\"true\",\"true\",\"true\",\"true\",\"true\",\"true\",\"true\",\"true\",\"true\",\"true\",\"true\",\"true\",\"true\",\"true\",\"true\",\"true\",\"true\",\"true\",\"true\",\"true\",\"true\",\"true\",\"true\",\"true\",\"true\",\"true\",\"true\",\"true\",\"true\",\"true\",\"true\",\"true\",\"true\",\"true\",\"true\",\"true\",\"true\",\"true\",\"true\",\"true\",\"true\",\"true\",\"true\",\"true\",\"true\",\"true\",\"true\",\"true\",\"true\",\"true\",\"true\",\"true\",\"true\",\"true\",\"true\",\"true\",\"true\",\"true\",\"true\",\"true\",\"true\",\"true\",\"true\",\"true\",\"true\",\"true\",\"true\",\"true\",\"true\",\"true\",\"true\",\"true\",\"true\",\"true\",\"true\",\"true\",\"true\",\"true\",\"true\",\"true\",\"true\",\"true\",\"true\",\"true\",\"true\",\"true\",\"true\",\"true\",\"true\",\"true\",\"true\",\"true\",\"true\",\"true\",\"true\",\"true\",\"true\",\"true\",\"true\",\"true\",\"true\",\"true\",\"true\",\"true\",\"true\",\"true\",\"true\",\"true\",\"true\",\"true\",\"true\",\"true\",\"true\",\"true\",\"true\",\"true\",\"true\",\"true\",\"true\",\"true\",\"true\",\"true\",\"true\",\"true\",\"true\",\"true\",\"true\",\"true\",\"true\",\"true\",\"true\",\"true\",\"true\",\"true\",\"true\",\"true\",\"true\",\"true\",\"true\",\"true\",\"true\",\"true\",\"true\",\"true\",\"true\",\"true\",\"true\",\"true\",\"true\",\"true\",\"true\",\"true\",\"true\",\"true\",\"true\",\"true\",\"true\",\"true\",\"true\",\"true\",\"true\",\"true\",\"true\",\"true\",\"true\",\"true\",\"true\",\"true\",\"true\",\"true\",\"true\",\"true\",\"true\",\"true\",\"true\",\"true\",\"true\",\"true\",\"true\",\"true\",\"true\",\"true\",\"true\",\"true\",\"true\",\"true\",\"true\",\"true\",\"true\",\"true\",\"true\",\"true\",\"true\",\"true\",\"true\",\"true\",\"true\",\"true\",\"true\",\"true\",\"true\",\"true\",\"true\",\"true\",\"true\",\"true\",\"true\",\"true\",\"true\",\"true\",\"true\",\"true\",\"true\",\"true\",\"true\",\"true\",\"true\",\"true\",\"true\",\"true\",\"true\",\"true\",\"true\",\"true\",\"true\",\"true\",\"true\",\"true\",\"true\",\"true\",\"true\",\"true\",\"true\",\"true\",\"true\",\"true\",\"true\",\"true\",\"true\",\"true\",\"true\",\"true\",\"true\",\"true\",\"true\",\"true\",\"true\",\"true\",\"true\",\"true\",\"true\",\"true\",\"true\",\"true\",\"true\",\"true\",\"true\",\"true\",\"true\",\"true\",\"true\",\"true\",\"true\",\"true\",\"true\",\"true\",\"true\",\"true\",\"true\",\"true\",\"true\",\"true\",\"true\",\"true\",\"true\",\"true\",\"true\",\"true\",\"true\",\"true\",\"true\",\"true\",\"true\",\"true\",\"true\",\"true\",\"true\",\"true\",\"true\",\"true\",\"true\",\"true\",\"true\",\"true\",\"true\",\"true\",\"true\",\"true\",\"true\",\"true\",\"true\",\"true\",\"true\",\"true\",\"true\",\"true\",\"true\",\"true\",\"true\",\"true\",\"true\",\"true\",\"true\",\"true\",\"true\",\"true\",\"true\",\"true\",\"true\",\"true\",\"true\",\"true\",\"true\",\"true\",\"true\",\"true\",\"true\",\"true\",\"true\",\"true\",\"true\",\"true\",\"true\",\"true\",\"true\",\"true\",\"true\",\"true\",\"true\",\"true\",\"true\",\"true\",\"true\",\"true\",\"true\",\"true\",\"true\",\"true\",\"true\",\"true\",\"true\",\"true\",\"true\",\"filtered\",\"filtered\",\"filtered\",\"filtered\",\"filtered\",\"filtered\",\"filtered\",\"filtered\",\"filtered\",\"filtered\",\"filtered\",\"filtered\",\"filtered\",\"filtered\",\"filtered\",\"filtered\",\"filtered\",\"filtered\",\"filtered\",\"filtered\",\"filtered\",\"filtered\",\"filtered\",\"filtered\",\"filtered\",\"filtered\",\"filtered\",\"filtered\",\"filtered\",\"filtered\",\"filtered\",\"filtered\",\"filtered\",\"filtered\",\"filtered\",\"filtered\",\"filtered\",\"filtered\",\"filtered\",\"filtered\",\"filtered\",\"filtered\",\"filtered\",\"filtered\",\"filtered\",\"filtered\",\"filtered\",\"filtered\",\"filtered\",\"filtered\",\"filtered\",\"filtered\",\"filtered\",\"filtered\",\"filtered\",\"filtered\",\"filtered\",\"filtered\",\"filtered\",\"filtered\",\"filtered\",\"filtered\",\"filtered\",\"filtered\",\"filtered\",\"filtered\",\"filtered\",\"filtered\",\"filtered\",\"filtered\",\"filtered\",\"filtered\",\"filtered\",\"filtered\",\"filtered\",\"filtered\",\"filtered\",\"filtered\",\"filtered\",\"filtered\",\"filtered\",\"filtered\",\"filtered\",\"filtered\",\"filtered\",\"filtered\",\"filtered\",\"filtered\",\"filtered\",\"filtered\",\"filtered\",\"filtered\",\"filtered\",\"filtered\",\"filtered\",\"filtered\",\"filtered\",\"filtered\",\"filtered\",\"filtered\",\"filtered\",\"filtered\",\"filtered\",\"filtered\",\"filtered\",\"filtered\",\"filtered\",\"filtered\",\"filtered\",\"filtered\",\"filtered\",\"filtered\",\"filtered\",\"filtered\",\"filtered\",\"filtered\",\"filtered\",\"filtered\",\"filtered\",\"filtered\",\"filtered\",\"filtered\",\"filtered\",\"filtered\",\"filtered\",\"filtered\",\"filtered\",\"filtered\",\"filtered\",\"filtered\",\"filtered\",\"filtered\",\"filtered\",\"filtered\",\"filtered\",\"filtered\",\"filtered\",\"filtered\",\"filtered\",\"filtered\",\"filtered\",\"filtered\",\"filtered\",\"filtered\",\"filtered\",\"filtered\",\"filtered\",\"filtered\",\"filtered\",\"filtered\",\"filtered\",\"filtered\",\"filtered\",\"filtered\",\"filtered\",\"filtered\",\"filtered\",\"filtered\",\"filtered\",\"filtered\",\"filtered\",\"filtered\",\"filtered\",\"filtered\",\"filtered\",\"filtered\",\"filtered\",\"filtered\",\"filtered\",\"filtered\",\"filtered\",\"filtered\",\"filtered\",\"filtered\",\"filtered\",\"filtered\",\"filtered\",\"filtered\",\"filtered\",\"filtered\",\"filtered\",\"filtered\",\"filtered\",\"filtered\",\"filtered\",\"filtered\",\"filtered\",\"filtered\",\"filtered\",\"filtered\",\"filtered\",\"filtered\",\"filtered\",\"filtered\",\"filtered\",\"filtered\",\"filtered\",\"filtered\",\"filtered\",\"filtered\",\"filtered\",\"filtered\",\"filtered\",\"filtered\",\"filtered\",\"filtered\",\"filtered\",\"filtered\",\"filtered\",\"filtered\",\"filtered\",\"filtered\",\"filtered\",\"filtered\",\"filtered\",\"filtered\",\"filtered\",\"filtered\",\"filtered\",\"filtered\",\"filtered\",\"filtered\",\"filtered\",\"filtered\",\"filtered\",\"filtered\",\"filtered\",\"filtered\",\"filtered\",\"filtered\",\"filtered\",\"filtered\",\"filtered\",\"filtered\",\"filtered\",\"filtered\",\"filtered\",\"filtered\",\"filtered\",\"filtered\",\"filtered\",\"filtered\",\"filtered\",\"filtered\",\"filtered\",\"filtered\",\"filtered\",\"filtered\",\"filtered\",\"filtered\",\"filtered\",\"filtered\",\"filtered\",\"filtered\",\"filtered\",\"filtered\",\"filtered\",\"filtered\",\"filtered\",\"filtered\",\"filtered\",\"filtered\",\"filtered\",\"filtered\",\"filtered\",\"filtered\",\"filtered\",\"filtered\",\"filtered\",\"filtered\",\"filtered\",\"filtered\",\"filtered\",\"filtered\",\"filtered\",\"filtered\",\"filtered\",\"filtered\",\"filtered\",\"filtered\",\"filtered\",\"filtered\",\"filtered\",\"filtered\",\"filtered\",\"filtered\",\"filtered\",\"filtered\",\"filtered\",\"filtered\",\"filtered\",\"filtered\",\"filtered\",\"filtered\",\"filtered\",\"filtered\",\"filtered\",\"filtered\",\"filtered\",\"filtered\",\"filtered\",\"filtered\",\"filtered\",\"filtered\",\"filtered\",\"filtered\",\"filtered\",\"filtered\",\"filtered\",\"filtered\",\"filtered\",\"filtered\",\"filtered\",\"filtered\",\"filtered\",\"filtered\",\"filtered\",\"filtered\",\"filtered\",\"filtered\",\"filtered\",\"filtered\",\"filtered\",\"filtered\",\"filtered\",\"filtered\",\"filtered\",\"filtered\",\"filtered\",\"filtered\",\"filtered\",\"filtered\",\"filtered\",\"filtered\",\"filtered\",\"filtered\",\"filtered\",\"filtered\",\"filtered\",\"filtered\",\"filtered\",\"filtered\",\"filtered\",\"filtered\",\"filtered\",\"filtered\",\"filtered\",\"filtered\",\"filtered\",\"filtered\",\"filtered\",\"filtered\",\"filtered\",\"filtered\",\"filtered\",\"filtered\",\"filtered\",\"filtered\",\"filtered\",\"filtered\",\"filtered\",\"filtered\",\"filtered\",\"filtered\",\"filtered\",\"filtered\",\"filtered\",\"filtered\",\"filtered\",\"filtered\",\"filtered\",\"filtered\",\"filtered\",\"filtered\",\"filtered\",\"filtered\",\"filtered\",\"filtered\",\"filtered\",\"filtered\",\"filtered\",\"filtered\",\"filtered\",\"filtered\",\"filtered\",\"filtered\",\"filtered\",\"filtered\",\"filtered\",\"filtered\",\"filtered\",\"filtered\",\"filtered\",\"filtered\",\"filtered\",\"filtered\",\"filtered\",\"filtered\",\"filtered\",\"filtered\",\"filtered\",\"filtered\",\"filtered\",\"filtered\",\"filtered\",\"filtered\",\"filtered\",\"filtered\",\"filtered\",\"filtered\",\"filtered\",\"filtered\",\"filtered\",\"filtered\",\"filtered\",\"filtered\",\"filtered\",\"filtered\",\"filtered\",\"filtered\",\"filtered\",\"filtered\",\"filtered\",\"filtered\",\"filtered\",\"filtered\",\"filtered\",\"filtered\",\"filtered\",\"filtered\",\"filtered\",\"filtered\",\"filtered\",\"filtered\",\"filtered\",\"filtered\",\"filtered\",\"filtered\",\"filtered\",\"filtered\",\"filtered\",\"filtered\",\"filtered\",\"filtered\",\"filtered\",\"filtered\",\"filtered\",\"filtered\",\"filtered\",\"filtered\",\"filtered\",\"filtered\",\"filtered\",\"filtered\",\"filtered\",\"filtered\",\"filtered\",\"filtered\",\"filtered\",\"filtered\",\"filtered\",\"filtered\",\"filtered\",\"filtered\",\"filtered\",\"filtered\",\"filtered\",\"filtered\",\"filtered\",\"filtered\",\"filtered\",\"filtered\",\"filtered\",\"filtered\",\"filtered\",\"filtered\",\"filtered\",\"filtered\",\"filtered\",\"filtered\",\"filtered\",\"filtered\",\"filtered\",\"filtered\",\"filtered\",\"filtered\",\"filtered\",\"filtered\",\"filtered\",\"filtered\",\"filtered\",\"filtered\",\"filtered\",\"filtered\",\"filtered\",\"filtered\",\"filtered\",\"filtered\",\"filtered\",\"filtered\"],\"x0\":\" \",\"xaxis\":\"x2\",\"y\":[118,107,104,110,103,115,109,101,102,108,106,111,112,109,104,105,107,106,110,102,107,114,116,119,119,120,109,98,93,99,97,103,118,114,112,110,106,105,105,108,110,105,107,117,113,110,114,119,110,111,98,100,116,112,110,103,102,99,99,104,100,101,105,107,111,112,114,107,109,115,118,112,111,108,106,114,112,99,95,93,105,120,110,115,115,103,106,107,108,109,106,97,98,97,99,100,100,120,119,113,107,105,106,104,112,110,111,117,116,103,108,109,107,110,105,106,102,104,99,104,117,119,106,108,106,100,113,112,112,118,114,105,105,112,113,109,103,100,116,109,110,118,115,120,112,113,105,114,116,106,114,116,112,105,108,109,105,104,106,100,103,99,109,105,111,110,102,102,97,99,101,117,110,113,111,111,119,110,108,102,104,107,100,110,106,113,107,118,115,112,111,110,114,118,109,107,105,106,104,107,103,110,120,120,105,99,99,102,106,104,108,110,120,119,117,116,112,109,110,104,103,110,113,109,105,99,110,110,112,111,104,106,107,100,113,111,112,114,104,100,101,103,115,114,107,110,105,104,110,111,104,99,100,115,114,110,99,100,102,119,108,104,103,111,110,102,105,107,113,108,105,96,95,99,100,110,113,101,103,102,102,110,106,111,112,116,118,114,104,109,105,102,99,98,101,100,107,120,114,112,106,108,105,107,106,109,110,112,108,110,104,108,107,100,105,104,101,99,111,113,106,104,107,102,104,116,100,101,112,96,113,105,106,108,107,111,110,118,108,107,107,110,106,103,96,98,97,94,99,101,107,110,100,102,98,106,109,104,105,107,110,116,115,103,102,114,104,98,92,98,103,110,119,109,105,101,96,100,98,99,104,105,110,100,113,117,101,105,97,108,102,106,112,104,111,110,107,116,103,117,100,105,109,116,101,99,103,100,101,98,96,94,102,101,110,106,104,103,111,102,100,112,112,119,114,111,106,101,103,115,104,112,112,111,103,105,110,106,110,105,104,112,116,114,113,116,118,108,109,101,112,113,116,103,105,102,100,99,100,113,105,102,105,107,97,96,99,101,110,114,110,103,116,102,105,101,104,105,103,110,102,107,113,103,106,101,102,115,112,110,105,99,101,95,99,108,117,120,103,113,1,1,1,1,0,1,1,0,0,0,1,1,1,1,1,0,0,1,0,0,1,0,1,1,1,1,0,1,0,0,1,1,1,1,1,1,0,0,0,0,1,1,1,0,1,1,1,0,1,1,1,1,1,1,0,0,0,0,1,0,0,0,1,1,0,0,0,1,1,1,1,1,1,1,0,1,1,0,1,0,1,1,1,1,1,0,0,0,0,1,1,0,0,1,0,0,0,1,1,1,1,0,0,0,1,1,1,1,1,0,0,1,1,0,1,1,0,0,0,1,1,1,0,0,0,1,1,1,1,1,1,0,0,0,1,1,0,1,1,0,1,1,1,1,1,1,0,1,1,1,1,1,1,0,0,0,0,0,0,0,0,0,0,0,1,0,0,0,1,0,1,1,1,1,1,1,1,0,0,0,0,0,0,0,0,1,1,1,1,1,1,1,1,1,0,1,0,0,0,0,1,1,1,1,0,0,0,1,0,1,1,1,1,1,1,1,1,1,1,0,0,0,0,0,0,0,0,0,0,1,0,1,0,0,1,1,1,1,0,0,0,0,1,1,0,1,0,0,1,1,1,0,1,1,0,0,0,1,1,1,1,0,1,1,1,0,0,1,0,0,1,0,0,1,0,1,1,0,0,0,1,1,1,1,1,1,1,1,0,0,0,0,0,1,1,0,0,0,1,0,0,0,1,1,0,1,1,1,0,0,1,1,1,0,0,0,0,0,1,1,1,1,0,0,0,1,0,0,1,0,1,1,1,1,1,1,0,1,1,1,1,1,0,0,0,0,0,0,0,0,1,1,1,0,0,0,1,1,0,0,1,1,1,0,1,1,1,0,0,1,0,1,1,1,0,0,0,0,0,1,1,1,1,0,1,1,0,0,0,1,0,0,1,0,1,1,1,1,0,1,0,0,1,1,1,0,1,1,1,0,0,0,1,1,1,1,0,0,0,1,0,1,1,1,1,1,0,1,0,1,1,1,1,0,0,0,1,1,1,0,0,1,1,1,1,1,1,1,0,0,1,1,1,1,0,0,0,0,1,1,1,1,0,0,0,0,1,1,1,1,1,0,1,0,1,0,0,0,1,1,1,1,1,0,1,1,0,0,1,0,1,0,1,1,1,1,1,1,0,0],\"y0\":\" \",\"yaxis\":\"y2\",\"type\":\"box\"},{\"alignmentgroup\":\"True\",\"hovertemplate\":\"variable=%{x}\\u003cbr\\u003evalue=%{y}\\u003cextra\\u003e\\u003c\\u002fextra\\u003e\",\"legendgroup\":\"\",\"marker\":{\"color\":\"#636efa\"},\"name\":\"\",\"notched\":false,\"offsetgroup\":\"\",\"orientation\":\"v\",\"showlegend\":false,\"x\":[\"true\",\"true\",\"true\",\"true\",\"true\",\"true\",\"true\",\"true\",\"true\",\"true\",\"true\",\"true\",\"true\",\"true\",\"true\",\"true\",\"true\",\"true\",\"true\",\"true\",\"true\",\"true\",\"true\",\"true\",\"true\",\"true\",\"true\",\"true\",\"true\",\"true\",\"true\",\"true\",\"true\",\"true\",\"true\",\"true\",\"true\",\"true\",\"true\",\"true\",\"true\",\"true\",\"true\",\"true\",\"true\",\"true\",\"true\",\"true\",\"true\",\"true\",\"true\",\"true\",\"true\",\"true\",\"true\",\"true\",\"true\",\"true\",\"true\",\"true\",\"true\",\"true\",\"true\",\"true\",\"true\",\"true\",\"true\",\"true\",\"true\",\"true\",\"true\",\"true\",\"true\",\"true\",\"true\",\"true\",\"true\",\"true\",\"true\",\"true\",\"true\",\"true\",\"true\",\"true\",\"true\",\"true\",\"true\",\"true\",\"true\",\"true\",\"true\",\"true\",\"true\",\"true\",\"true\",\"true\",\"true\",\"true\",\"true\",\"true\",\"true\",\"true\",\"true\",\"true\",\"true\",\"true\",\"true\",\"true\",\"true\",\"true\",\"true\",\"true\",\"true\",\"true\",\"true\",\"true\",\"true\",\"true\",\"true\",\"true\",\"true\",\"true\",\"true\",\"true\",\"true\",\"true\",\"true\",\"true\",\"true\",\"true\",\"true\",\"true\",\"true\",\"true\",\"true\",\"true\",\"true\",\"true\",\"true\",\"true\",\"true\",\"true\",\"true\",\"true\",\"true\",\"true\",\"true\",\"true\",\"true\",\"true\",\"true\",\"true\",\"true\",\"true\",\"true\",\"true\",\"true\",\"true\",\"true\",\"true\",\"true\",\"true\",\"true\",\"true\",\"true\",\"true\",\"true\",\"true\",\"true\",\"true\",\"true\",\"true\",\"true\",\"true\",\"true\",\"true\",\"true\",\"true\",\"true\",\"true\",\"true\",\"true\",\"true\",\"true\",\"true\",\"true\",\"true\",\"true\",\"true\",\"true\",\"true\",\"true\",\"true\",\"true\",\"true\",\"true\",\"true\",\"true\",\"true\",\"true\",\"true\",\"true\",\"true\",\"true\",\"true\",\"true\",\"true\",\"true\",\"true\",\"true\",\"true\",\"true\",\"true\",\"true\",\"true\",\"true\",\"true\",\"true\",\"true\",\"true\",\"true\",\"true\",\"true\",\"true\",\"true\",\"true\",\"true\",\"true\",\"true\",\"true\",\"true\",\"true\",\"true\",\"true\",\"true\",\"true\",\"true\",\"true\",\"true\",\"true\",\"true\",\"true\",\"true\",\"true\",\"true\",\"true\",\"true\",\"true\",\"true\",\"true\",\"true\",\"true\",\"true\",\"true\",\"true\",\"true\",\"true\",\"true\",\"true\",\"true\",\"true\",\"true\",\"true\",\"true\",\"true\",\"true\",\"true\",\"true\",\"true\",\"true\",\"true\",\"true\",\"true\",\"true\",\"true\",\"true\",\"true\",\"true\",\"true\",\"true\",\"true\",\"true\",\"true\",\"true\",\"true\",\"true\",\"true\",\"true\",\"true\",\"true\",\"true\",\"true\",\"true\",\"true\",\"true\",\"true\",\"true\",\"true\",\"true\",\"true\",\"true\",\"true\",\"true\",\"true\",\"true\",\"true\",\"true\",\"true\",\"true\",\"true\",\"true\",\"true\",\"true\",\"true\",\"true\",\"true\",\"true\",\"true\",\"true\",\"true\",\"true\",\"true\",\"true\",\"true\",\"true\",\"true\",\"true\",\"true\",\"true\",\"true\",\"true\",\"true\",\"true\",\"true\",\"true\",\"true\",\"true\",\"true\",\"true\",\"true\",\"true\",\"true\",\"true\",\"true\",\"true\",\"true\",\"true\",\"true\",\"true\",\"true\",\"true\",\"true\",\"true\",\"true\",\"true\",\"true\",\"true\",\"true\",\"true\",\"true\",\"true\",\"true\",\"true\",\"true\",\"true\",\"true\",\"true\",\"true\",\"true\",\"true\",\"true\",\"true\",\"true\",\"true\",\"true\",\"true\",\"true\",\"true\",\"true\",\"true\",\"true\",\"true\",\"true\",\"true\",\"true\",\"true\",\"true\",\"true\",\"true\",\"true\",\"true\",\"true\",\"true\",\"true\",\"true\",\"true\",\"true\",\"true\",\"true\",\"true\",\"true\",\"true\",\"true\",\"true\",\"true\",\"true\",\"true\",\"true\",\"true\",\"true\",\"true\",\"true\",\"true\",\"true\",\"true\",\"true\",\"true\",\"true\",\"true\",\"true\",\"true\",\"true\",\"true\",\"true\",\"true\",\"true\",\"true\",\"true\",\"true\",\"true\",\"true\",\"true\",\"true\",\"true\",\"true\",\"true\",\"true\",\"true\",\"true\",\"true\",\"true\",\"true\",\"true\",\"true\",\"true\",\"true\",\"true\",\"true\",\"true\",\"true\",\"true\",\"true\",\"true\",\"true\",\"true\",\"true\",\"true\",\"true\",\"true\",\"true\",\"true\",\"true\",\"true\",\"true\",\"true\",\"true\",\"true\",\"true\",\"true\",\"true\",\"true\",\"true\",\"true\",\"true\",\"true\",\"true\",\"true\",\"true\",\"true\",\"true\",\"true\",\"true\",\"true\",\"true\",\"true\",\"true\",\"true\",\"true\",\"true\",\"true\",\"true\",\"true\",\"true\",\"true\",\"true\",\"true\",\"true\",\"true\",\"true\",\"true\",\"filtered\",\"filtered\",\"filtered\",\"filtered\",\"filtered\",\"filtered\",\"filtered\",\"filtered\",\"filtered\",\"filtered\",\"filtered\",\"filtered\",\"filtered\",\"filtered\",\"filtered\",\"filtered\",\"filtered\",\"filtered\",\"filtered\",\"filtered\",\"filtered\",\"filtered\",\"filtered\",\"filtered\",\"filtered\",\"filtered\",\"filtered\",\"filtered\",\"filtered\",\"filtered\",\"filtered\",\"filtered\",\"filtered\",\"filtered\",\"filtered\",\"filtered\",\"filtered\",\"filtered\",\"filtered\",\"filtered\",\"filtered\",\"filtered\",\"filtered\",\"filtered\",\"filtered\",\"filtered\",\"filtered\",\"filtered\",\"filtered\",\"filtered\",\"filtered\",\"filtered\",\"filtered\",\"filtered\",\"filtered\",\"filtered\",\"filtered\",\"filtered\",\"filtered\",\"filtered\",\"filtered\",\"filtered\",\"filtered\",\"filtered\",\"filtered\",\"filtered\",\"filtered\",\"filtered\",\"filtered\",\"filtered\",\"filtered\",\"filtered\",\"filtered\",\"filtered\",\"filtered\",\"filtered\",\"filtered\",\"filtered\",\"filtered\",\"filtered\",\"filtered\",\"filtered\",\"filtered\",\"filtered\",\"filtered\",\"filtered\",\"filtered\",\"filtered\",\"filtered\",\"filtered\",\"filtered\",\"filtered\",\"filtered\",\"filtered\",\"filtered\",\"filtered\",\"filtered\",\"filtered\",\"filtered\",\"filtered\",\"filtered\",\"filtered\",\"filtered\",\"filtered\",\"filtered\",\"filtered\",\"filtered\",\"filtered\",\"filtered\",\"filtered\",\"filtered\",\"filtered\",\"filtered\",\"filtered\",\"filtered\",\"filtered\",\"filtered\",\"filtered\",\"filtered\",\"filtered\",\"filtered\",\"filtered\",\"filtered\",\"filtered\",\"filtered\",\"filtered\",\"filtered\",\"filtered\",\"filtered\",\"filtered\",\"filtered\",\"filtered\",\"filtered\",\"filtered\",\"filtered\",\"filtered\",\"filtered\",\"filtered\",\"filtered\",\"filtered\",\"filtered\",\"filtered\",\"filtered\",\"filtered\",\"filtered\",\"filtered\",\"filtered\",\"filtered\",\"filtered\",\"filtered\",\"filtered\",\"filtered\",\"filtered\",\"filtered\",\"filtered\",\"filtered\",\"filtered\",\"filtered\",\"filtered\",\"filtered\",\"filtered\",\"filtered\",\"filtered\",\"filtered\",\"filtered\",\"filtered\",\"filtered\",\"filtered\",\"filtered\",\"filtered\",\"filtered\",\"filtered\",\"filtered\",\"filtered\",\"filtered\",\"filtered\",\"filtered\",\"filtered\",\"filtered\",\"filtered\",\"filtered\",\"filtered\",\"filtered\",\"filtered\",\"filtered\",\"filtered\",\"filtered\",\"filtered\",\"filtered\",\"filtered\",\"filtered\",\"filtered\",\"filtered\",\"filtered\",\"filtered\",\"filtered\",\"filtered\",\"filtered\",\"filtered\",\"filtered\",\"filtered\",\"filtered\",\"filtered\",\"filtered\",\"filtered\",\"filtered\",\"filtered\",\"filtered\",\"filtered\",\"filtered\",\"filtered\",\"filtered\",\"filtered\",\"filtered\",\"filtered\",\"filtered\",\"filtered\",\"filtered\",\"filtered\",\"filtered\",\"filtered\",\"filtered\",\"filtered\",\"filtered\",\"filtered\",\"filtered\",\"filtered\",\"filtered\",\"filtered\",\"filtered\",\"filtered\",\"filtered\",\"filtered\",\"filtered\",\"filtered\",\"filtered\",\"filtered\",\"filtered\",\"filtered\",\"filtered\",\"filtered\",\"filtered\",\"filtered\",\"filtered\",\"filtered\",\"filtered\",\"filtered\",\"filtered\",\"filtered\",\"filtered\",\"filtered\",\"filtered\",\"filtered\",\"filtered\",\"filtered\",\"filtered\",\"filtered\",\"filtered\",\"filtered\",\"filtered\",\"filtered\",\"filtered\",\"filtered\",\"filtered\",\"filtered\",\"filtered\",\"filtered\",\"filtered\",\"filtered\",\"filtered\",\"filtered\",\"filtered\",\"filtered\",\"filtered\",\"filtered\",\"filtered\",\"filtered\",\"filtered\",\"filtered\",\"filtered\",\"filtered\",\"filtered\",\"filtered\",\"filtered\",\"filtered\",\"filtered\",\"filtered\",\"filtered\",\"filtered\",\"filtered\",\"filtered\",\"filtered\",\"filtered\",\"filtered\",\"filtered\",\"filtered\",\"filtered\",\"filtered\",\"filtered\",\"filtered\",\"filtered\",\"filtered\",\"filtered\",\"filtered\",\"filtered\",\"filtered\",\"filtered\",\"filtered\",\"filtered\",\"filtered\",\"filtered\",\"filtered\",\"filtered\",\"filtered\",\"filtered\",\"filtered\",\"filtered\",\"filtered\",\"filtered\",\"filtered\",\"filtered\",\"filtered\",\"filtered\",\"filtered\",\"filtered\",\"filtered\",\"filtered\",\"filtered\",\"filtered\",\"filtered\",\"filtered\",\"filtered\",\"filtered\",\"filtered\",\"filtered\",\"filtered\",\"filtered\",\"filtered\",\"filtered\",\"filtered\",\"filtered\",\"filtered\",\"filtered\",\"filtered\",\"filtered\",\"filtered\",\"filtered\",\"filtered\",\"filtered\",\"filtered\",\"filtered\",\"filtered\",\"filtered\",\"filtered\",\"filtered\",\"filtered\",\"filtered\",\"filtered\",\"filtered\",\"filtered\",\"filtered\",\"filtered\",\"filtered\",\"filtered\",\"filtered\",\"filtered\",\"filtered\",\"filtered\",\"filtered\",\"filtered\",\"filtered\",\"filtered\",\"filtered\",\"filtered\",\"filtered\",\"filtered\",\"filtered\",\"filtered\",\"filtered\",\"filtered\",\"filtered\",\"filtered\",\"filtered\",\"filtered\",\"filtered\",\"filtered\",\"filtered\",\"filtered\",\"filtered\",\"filtered\",\"filtered\",\"filtered\",\"filtered\",\"filtered\",\"filtered\",\"filtered\",\"filtered\",\"filtered\",\"filtered\",\"filtered\",\"filtered\",\"filtered\",\"filtered\",\"filtered\",\"filtered\",\"filtered\",\"filtered\",\"filtered\",\"filtered\",\"filtered\",\"filtered\",\"filtered\",\"filtered\",\"filtered\",\"filtered\",\"filtered\",\"filtered\",\"filtered\",\"filtered\",\"filtered\",\"filtered\",\"filtered\",\"filtered\",\"filtered\",\"filtered\",\"filtered\",\"filtered\",\"filtered\",\"filtered\",\"filtered\",\"filtered\",\"filtered\",\"filtered\",\"filtered\",\"filtered\",\"filtered\",\"filtered\",\"filtered\",\"filtered\",\"filtered\",\"filtered\",\"filtered\",\"filtered\",\"filtered\",\"filtered\",\"filtered\",\"filtered\",\"filtered\",\"filtered\",\"filtered\",\"filtered\",\"filtered\",\"filtered\",\"filtered\",\"filtered\",\"filtered\",\"filtered\",\"filtered\",\"filtered\",\"filtered\",\"filtered\",\"filtered\",\"filtered\",\"filtered\",\"filtered\",\"filtered\",\"filtered\",\"filtered\",\"filtered\",\"filtered\",\"filtered\",\"filtered\",\"filtered\",\"filtered\",\"filtered\",\"filtered\",\"filtered\",\"filtered\",\"filtered\",\"filtered\",\"filtered\",\"filtered\",\"filtered\",\"filtered\",\"filtered\",\"filtered\",\"filtered\",\"filtered\",\"filtered\",\"filtered\",\"filtered\",\"filtered\",\"filtered\",\"filtered\",\"filtered\",\"filtered\",\"filtered\",\"filtered\",\"filtered\",\"filtered\"],\"x0\":\" \",\"xaxis\":\"x3\",\"y\":[4.0,4.0,3.0,3.0,2.0,5.0,3.0,2.0,1.0,3.0,3.0,4.0,4.0,3.0,3.0,3.0,3.0,3.0,3.0,3.0,3.0,4.0,5.0,5.0,5.0,5.0,5.0,2.0,1.0,2.0,2.0,3.0,4.0,5.0,5.0,5.0,2.0,1.0,1.0,2.0,3.0,2.0,2.0,4.0,5.0,5.0,5.0,5.0,3.0,4.0,3.0,2.0,4.0,4.0,3.0,3.0,3.0,2.0,1.0,2.0,2.0,3.0,2.0,2.0,3.0,4.0,3.0,2.0,3.0,4.0,5.0,5.0,5.0,4.0,3.0,2.0,3.0,2.0,2.0,1.0,3.0,4.0,5.0,5.0,5.0,4.0,3.0,2.0,3.0,4.0,2.0,3.0,2.0,2.0,3.0,4.0,2.0,3.0,4.0,3.0,3.0,2.0,2.0,2.0,3.0,3.0,4.0,4.0,5.0,5.0,5.0,4.0,3.0,2.0,3.0,4.0,3.0,4.0,2.0,5.0,5.0,5.0,4.0,3.0,4.0,3.0,3.0,3.0,3.0,5.0,5.0,5.0,5.0,5.0,5.0,4.0,3.0,2.0,2.0,1.0,2.0,2.0,5.0,4.0,2.0,2.0,3.0,3.0,4.0,2.0,4.0,5.0,5.0,3.0,3.0,3.0,3.0,2.0,2.0,1.0,1.0,1.0,3.0,3.0,4.0,5.0,3.0,3.0,2.0,2.0,2.0,5.0,4.0,4.0,4.0,4.0,4.0,3.0,3.0,3.0,3.0,2.0,2.0,3.0,2.0,4.0,3.0,5.0,5.0,5.0,5.0,5.0,5.0,5.0,3.0,2.0,2.0,2.0,3.0,3.0,3.0,2.0,5.0,5.0,3.0,2.0,2.0,3.0,2.0,3.0,4.0,4.0,4.0,5.0,4.0,5.0,4.0,4.0,4.0,3.0,3.0,3.0,4.0,2.0,2.0,2.0,2.0,2.0,3.0,4.0,3.0,3.0,2.0,2.0,5.0,5.0,4.0,5.0,3.0,1.0,1.0,2.0,3.0,3.0,2.0,4.0,3.0,2.0,3.0,3.0,3.0,2.0,2.0,4.0,4.0,4.0,3.0,3.0,4.0,4.0,5.0,3.0,2.0,3.0,2.0,3.0,2.0,3.0,4.0,4.0,2.0,2.0,1.0,1.0,1.0,3.0,5.0,2.0,2.0,2.0,3.0,3.0,3.0,3.0,4.0,5.0,5.0,5.0,4.0,3.0,2.0,2.0,2.0,1.0,2.0,2.0,3.0,3.0,3.0,3.0,2.0,2.0,2.0,3.0,2.0,3.0,3.0,4.0,3.0,4.0,3.0,4.0,4.0,3.0,2.0,2.0,2.0,1.0,3.0,4.0,3.0,3.0,2.0,2.0,3.0,3.0,3.0,2.0,4.0,2.0,3.0,2.0,3.0,3.0,4.0,4.0,3.0,5.0,5.0,5.0,3.0,3.0,3.0,2.0,2.0,1.0,2.0,1.0,1.0,3.0,3.0,4.0,2.0,3.0,2.0,2.0,3.0,2.0,2.0,2.0,3.0,4.0,5.0,2.0,3.0,4.0,3.0,1.0,1.0,1.0,2.0,3.0,4.0,3.0,2.0,2.0,2.0,1.0,1.0,1.0,3.0,3.0,4.0,3.0,4.0,5.0,2.0,2.0,2.0,3.0,2.0,3.0,4.0,2.0,4.0,3.0,3.0,4.0,3.0,4.0,2.0,2.0,3.0,4.0,3.0,3.0,4.0,3.0,3.0,1.0,1.0,2.0,4.0,3.0,4.0,4.0,3.0,3.0,2.0,2.0,3.0,3.0,4.0,5.0,5.0,5.0,3.0,3.0,2.0,5.0,3.0,2.0,4.0,4.0,3.0,2.0,1.0,1.0,1.0,2.0,2.0,1.0,4.0,5.0,5.0,5.0,4.0,3.0,2.0,3.0,4.0,4.0,4.0,3.0,2.0,2.0,2.0,1.0,1.0,4.0,4.0,3.0,4.0,3.0,2.0,4.0,4.0,5.0,4.0,4.0,5.0,3.0,4.0,2.0,4.0,3.0,3.0,4.0,3.0,4.0,3.0,4.0,4.0,5.0,3.0,2.0,3.0,4.0,3.0,3.0,2.0,4.0,4.0,2.0,3.0,5.0,5.0,5.0,4.0,4.0,0.92,0.76,0.72,0.8,0.65,0.9,0.75,0.68,0.5,0.45,0.52,0.84,0.78,0.62,0.61,0.54,0.66,0.65,0.63,0.62,0.64,0.7,0.94,0.95,0.97,0.94,0.76,0.44,0.46,0.54,0.65,0.74,0.91,0.9,0.94,0.88,0.64,0.58,0.52,0.48,0.46,0.49,0.53,0.87,0.91,0.88,0.86,0.89,0.82,0.78,0.76,0.56,0.78,0.72,0.7,0.64,0.64,0.46,0.36,0.42,0.48,0.47,0.54,0.56,0.52,0.55,0.61,0.57,0.68,0.78,0.94,0.96,0.93,0.84,0.74,0.72,0.74,0.64,0.44,0.46,0.5,0.96,0.92,0.92,0.94,0.76,0.72,0.66,0.64,0.74,0.64,0.38,0.34,0.44,0.36,0.42,0.48,0.86,0.9,0.79,0.71,0.64,0.62,0.57,0.74,0.69,0.87,0.91,0.93,0.68,0.61,0.69,0.62,0.72,0.59,0.66,0.56,0.45,0.47,0.71,0.94,0.94,0.57,0.61,0.57,0.64,0.85,0.78,0.84,0.92,0.96,0.77,0.71,0.79,0.89,0.82,0.76,0.71,0.8,0.78,0.84,0.9,0.92,0.97,0.8,0.81,0.75,0.83,0.96,0.79,0.93,0.94,0.86,0.79,0.8,0.77,0.7,0.65,0.61,0.52,0.57,0.53,0.67,0.68,0.81,0.78,0.65,0.64,0.64,0.65,0.68,0.89,0.86,0.89,0.87,0.85,0.9,0.82,0.72,0.73,0.71,0.71,0.68,0.75,0.72,0.89,0.84,0.93,0.93,0.88,0.9,0.87,0.86,0.94,0.77,0.78,0.73,0.73,0.7,0.72,0.73,0.72,0.97,0.97,0.69,0.57,0.63,0.66,0.64,0.68,0.79,0.82,0.95,0.96,0.94,0.93,0.91,0.85,0.84,0.74,0.76,0.75,0.76,0.71,0.67,0.61,0.63,0.64,0.71,0.82,0.73,0.74,0.69,0.64,0.91,0.88,0.85,0.86,0.7,0.59,0.6,0.65,0.7,0.76,0.63,0.81,0.72,0.71,0.8,0.77,0.74,0.7,0.71,0.93,0.85,0.79,0.76,0.78,0.77,0.9,0.87,0.71,0.7,0.7,0.75,0.71,0.72,0.73,0.83,0.77,0.72,0.54,0.49,0.52,0.58,0.78,0.89,0.7,0.66,0.67,0.68,0.8,0.81,0.8,0.94,0.93,0.92,0.89,0.82,0.79,0.58,0.56,0.56,0.64,0.61,0.68,0.76,0.86,0.9,0.71,0.62,0.66,0.65,0.73,0.62,0.74,0.79,0.8,0.69,0.7,0.76,0.84,0.78,0.67,0.66,0.65,0.54,0.58,0.79,0.8,0.75,0.73,0.72,0.62,0.67,0.81,0.63,0.69,0.8,0.43,0.8,0.73,0.75,0.71,0.73,0.83,0.72,0.94,0.81,0.81,0.75,0.79,0.58,0.59,0.47,0.49,0.47,0.42,0.57,0.62,0.74,0.73,0.64,0.63,0.59,0.73,0.79,0.68,0.7,0.81,0.85,0.93,0.91,0.69,0.77,0.86,0.74,0.57,0.51,0.67,0.72,0.89,0.95,0.79,0.39,0.38,0.34,0.47,0.56,0.71,0.78,0.73,0.82,0.62,0.96,0.96,0.46,0.53,0.49,0.76,0.64,0.71,0.84,0.77,0.89,0.82,0.84,0.91,0.67,0.95,0.63,0.66,0.78,0.91,0.62,0.52,0.61,0.58,0.57,0.61,0.54,0.56,0.59,0.49,0.72,0.76,0.65,0.52,0.6,0.58,0.42,0.77,0.73,0.94,0.91,0.92,0.71,0.71,0.69,0.95,0.74,0.73,0.86,0.71,0.64,0.55,0.58,0.61,0.67,0.66,0.53,0.79,0.92,0.87,0.92,0.91,0.93,0.84,0.8,0.79,0.82,0.89,0.93,0.73,0.71,0.59,0.51,0.37,0.69,0.89,0.77,0.68,0.62,0.57,0.45,0.54,0.71,0.78,0.81,0.86,0.87,0.64,0.9,0.67,0.67,0.59,0.62,0.65,0.71,0.79,0.8,0.78,0.83,0.71,0.73,0.7,0.68,0.79,0.76,0.65,0.67,0.54,0.53,0.62,0.68,0.87,0.96,0.93,0.73,0.84],\"y0\":\" \",\"yaxis\":\"y3\",\"type\":\"box\"}],                        {\"template\":{\"data\":{\"barpolar\":[{\"marker\":{\"line\":{\"color\":\"rgb(17,17,17)\",\"width\":0.5},\"pattern\":{\"fillmode\":\"overlay\",\"size\":10,\"solidity\":0.2}},\"type\":\"barpolar\"}],\"bar\":[{\"error_x\":{\"color\":\"#f2f5fa\"},\"error_y\":{\"color\":\"#f2f5fa\"},\"marker\":{\"line\":{\"color\":\"rgb(17,17,17)\",\"width\":0.5},\"pattern\":{\"fillmode\":\"overlay\",\"size\":10,\"solidity\":0.2}},\"type\":\"bar\"}],\"carpet\":[{\"aaxis\":{\"endlinecolor\":\"#A2B1C6\",\"gridcolor\":\"#506784\",\"linecolor\":\"#506784\",\"minorgridcolor\":\"#506784\",\"startlinecolor\":\"#A2B1C6\"},\"baxis\":{\"endlinecolor\":\"#A2B1C6\",\"gridcolor\":\"#506784\",\"linecolor\":\"#506784\",\"minorgridcolor\":\"#506784\",\"startlinecolor\":\"#A2B1C6\"},\"type\":\"carpet\"}],\"choropleth\":[{\"colorbar\":{\"outlinewidth\":0,\"ticks\":\"\"},\"type\":\"choropleth\"}],\"contourcarpet\":[{\"colorbar\":{\"outlinewidth\":0,\"ticks\":\"\"},\"type\":\"contourcarpet\"}],\"contour\":[{\"colorbar\":{\"outlinewidth\":0,\"ticks\":\"\"},\"colorscale\":[[0.0,\"#0d0887\"],[0.1111111111111111,\"#46039f\"],[0.2222222222222222,\"#7201a8\"],[0.3333333333333333,\"#9c179e\"],[0.4444444444444444,\"#bd3786\"],[0.5555555555555556,\"#d8576b\"],[0.6666666666666666,\"#ed7953\"],[0.7777777777777778,\"#fb9f3a\"],[0.8888888888888888,\"#fdca26\"],[1.0,\"#f0f921\"]],\"type\":\"contour\"}],\"heatmapgl\":[{\"colorbar\":{\"outlinewidth\":0,\"ticks\":\"\"},\"colorscale\":[[0.0,\"#0d0887\"],[0.1111111111111111,\"#46039f\"],[0.2222222222222222,\"#7201a8\"],[0.3333333333333333,\"#9c179e\"],[0.4444444444444444,\"#bd3786\"],[0.5555555555555556,\"#d8576b\"],[0.6666666666666666,\"#ed7953\"],[0.7777777777777778,\"#fb9f3a\"],[0.8888888888888888,\"#fdca26\"],[1.0,\"#f0f921\"]],\"type\":\"heatmapgl\"}],\"heatmap\":[{\"colorbar\":{\"outlinewidth\":0,\"ticks\":\"\"},\"colorscale\":[[0.0,\"#0d0887\"],[0.1111111111111111,\"#46039f\"],[0.2222222222222222,\"#7201a8\"],[0.3333333333333333,\"#9c179e\"],[0.4444444444444444,\"#bd3786\"],[0.5555555555555556,\"#d8576b\"],[0.6666666666666666,\"#ed7953\"],[0.7777777777777778,\"#fb9f3a\"],[0.8888888888888888,\"#fdca26\"],[1.0,\"#f0f921\"]],\"type\":\"heatmap\"}],\"histogram2dcontour\":[{\"colorbar\":{\"outlinewidth\":0,\"ticks\":\"\"},\"colorscale\":[[0.0,\"#0d0887\"],[0.1111111111111111,\"#46039f\"],[0.2222222222222222,\"#7201a8\"],[0.3333333333333333,\"#9c179e\"],[0.4444444444444444,\"#bd3786\"],[0.5555555555555556,\"#d8576b\"],[0.6666666666666666,\"#ed7953\"],[0.7777777777777778,\"#fb9f3a\"],[0.8888888888888888,\"#fdca26\"],[1.0,\"#f0f921\"]],\"type\":\"histogram2dcontour\"}],\"histogram2d\":[{\"colorbar\":{\"outlinewidth\":0,\"ticks\":\"\"},\"colorscale\":[[0.0,\"#0d0887\"],[0.1111111111111111,\"#46039f\"],[0.2222222222222222,\"#7201a8\"],[0.3333333333333333,\"#9c179e\"],[0.4444444444444444,\"#bd3786\"],[0.5555555555555556,\"#d8576b\"],[0.6666666666666666,\"#ed7953\"],[0.7777777777777778,\"#fb9f3a\"],[0.8888888888888888,\"#fdca26\"],[1.0,\"#f0f921\"]],\"type\":\"histogram2d\"}],\"histogram\":[{\"marker\":{\"pattern\":{\"fillmode\":\"overlay\",\"size\":10,\"solidity\":0.2}},\"type\":\"histogram\"}],\"mesh3d\":[{\"colorbar\":{\"outlinewidth\":0,\"ticks\":\"\"},\"type\":\"mesh3d\"}],\"parcoords\":[{\"line\":{\"colorbar\":{\"outlinewidth\":0,\"ticks\":\"\"}},\"type\":\"parcoords\"}],\"pie\":[{\"automargin\":true,\"type\":\"pie\"}],\"scatter3d\":[{\"line\":{\"colorbar\":{\"outlinewidth\":0,\"ticks\":\"\"}},\"marker\":{\"colorbar\":{\"outlinewidth\":0,\"ticks\":\"\"}},\"type\":\"scatter3d\"}],\"scattercarpet\":[{\"marker\":{\"colorbar\":{\"outlinewidth\":0,\"ticks\":\"\"}},\"type\":\"scattercarpet\"}],\"scattergeo\":[{\"marker\":{\"colorbar\":{\"outlinewidth\":0,\"ticks\":\"\"}},\"type\":\"scattergeo\"}],\"scattergl\":[{\"marker\":{\"line\":{\"color\":\"#283442\"}},\"type\":\"scattergl\"}],\"scattermapbox\":[{\"marker\":{\"colorbar\":{\"outlinewidth\":0,\"ticks\":\"\"}},\"type\":\"scattermapbox\"}],\"scatterpolargl\":[{\"marker\":{\"colorbar\":{\"outlinewidth\":0,\"ticks\":\"\"}},\"type\":\"scatterpolargl\"}],\"scatterpolar\":[{\"marker\":{\"colorbar\":{\"outlinewidth\":0,\"ticks\":\"\"}},\"type\":\"scatterpolar\"}],\"scatter\":[{\"marker\":{\"line\":{\"color\":\"#283442\"}},\"type\":\"scatter\"}],\"scatterternary\":[{\"marker\":{\"colorbar\":{\"outlinewidth\":0,\"ticks\":\"\"}},\"type\":\"scatterternary\"}],\"surface\":[{\"colorbar\":{\"outlinewidth\":0,\"ticks\":\"\"},\"colorscale\":[[0.0,\"#0d0887\"],[0.1111111111111111,\"#46039f\"],[0.2222222222222222,\"#7201a8\"],[0.3333333333333333,\"#9c179e\"],[0.4444444444444444,\"#bd3786\"],[0.5555555555555556,\"#d8576b\"],[0.6666666666666666,\"#ed7953\"],[0.7777777777777778,\"#fb9f3a\"],[0.8888888888888888,\"#fdca26\"],[1.0,\"#f0f921\"]],\"type\":\"surface\"}],\"table\":[{\"cells\":{\"fill\":{\"color\":\"#506784\"},\"line\":{\"color\":\"rgb(17,17,17)\"}},\"header\":{\"fill\":{\"color\":\"#2a3f5f\"},\"line\":{\"color\":\"rgb(17,17,17)\"}},\"type\":\"table\"}]},\"layout\":{\"annotationdefaults\":{\"arrowcolor\":\"#f2f5fa\",\"arrowhead\":0,\"arrowwidth\":1},\"autotypenumbers\":\"strict\",\"coloraxis\":{\"colorbar\":{\"outlinewidth\":0,\"ticks\":\"\"}},\"colorscale\":{\"diverging\":[[0,\"#8e0152\"],[0.1,\"#c51b7d\"],[0.2,\"#de77ae\"],[0.3,\"#f1b6da\"],[0.4,\"#fde0ef\"],[0.5,\"#f7f7f7\"],[0.6,\"#e6f5d0\"],[0.7,\"#b8e186\"],[0.8,\"#7fbc41\"],[0.9,\"#4d9221\"],[1,\"#276419\"]],\"sequential\":[[0.0,\"#0d0887\"],[0.1111111111111111,\"#46039f\"],[0.2222222222222222,\"#7201a8\"],[0.3333333333333333,\"#9c179e\"],[0.4444444444444444,\"#bd3786\"],[0.5555555555555556,\"#d8576b\"],[0.6666666666666666,\"#ed7953\"],[0.7777777777777778,\"#fb9f3a\"],[0.8888888888888888,\"#fdca26\"],[1.0,\"#f0f921\"]],\"sequentialminus\":[[0.0,\"#0d0887\"],[0.1111111111111111,\"#46039f\"],[0.2222222222222222,\"#7201a8\"],[0.3333333333333333,\"#9c179e\"],[0.4444444444444444,\"#bd3786\"],[0.5555555555555556,\"#d8576b\"],[0.6666666666666666,\"#ed7953\"],[0.7777777777777778,\"#fb9f3a\"],[0.8888888888888888,\"#fdca26\"],[1.0,\"#f0f921\"]]},\"colorway\":[\"#636efa\",\"#EF553B\",\"#00cc96\",\"#ab63fa\",\"#FFA15A\",\"#19d3f3\",\"#FF6692\",\"#B6E880\",\"#FF97FF\",\"#FECB52\"],\"font\":{\"color\":\"#f2f5fa\"},\"geo\":{\"bgcolor\":\"rgb(17,17,17)\",\"lakecolor\":\"rgb(17,17,17)\",\"landcolor\":\"rgb(17,17,17)\",\"showlakes\":true,\"showland\":true,\"subunitcolor\":\"#506784\"},\"hoverlabel\":{\"align\":\"left\"},\"hovermode\":\"closest\",\"mapbox\":{\"style\":\"dark\"},\"paper_bgcolor\":\"rgb(17,17,17)\",\"plot_bgcolor\":\"rgb(17,17,17)\",\"polar\":{\"angularaxis\":{\"gridcolor\":\"#506784\",\"linecolor\":\"#506784\",\"ticks\":\"\"},\"bgcolor\":\"rgb(17,17,17)\",\"radialaxis\":{\"gridcolor\":\"#506784\",\"linecolor\":\"#506784\",\"ticks\":\"\"}},\"scene\":{\"xaxis\":{\"backgroundcolor\":\"rgb(17,17,17)\",\"gridcolor\":\"#506784\",\"gridwidth\":2,\"linecolor\":\"#506784\",\"showbackground\":true,\"ticks\":\"\",\"zerolinecolor\":\"#C8D4E3\"},\"yaxis\":{\"backgroundcolor\":\"rgb(17,17,17)\",\"gridcolor\":\"#506784\",\"gridwidth\":2,\"linecolor\":\"#506784\",\"showbackground\":true,\"ticks\":\"\",\"zerolinecolor\":\"#C8D4E3\"},\"zaxis\":{\"backgroundcolor\":\"rgb(17,17,17)\",\"gridcolor\":\"#506784\",\"gridwidth\":2,\"linecolor\":\"#506784\",\"showbackground\":true,\"ticks\":\"\",\"zerolinecolor\":\"#C8D4E3\"}},\"shapedefaults\":{\"line\":{\"color\":\"#f2f5fa\"}},\"sliderdefaults\":{\"bgcolor\":\"#C8D4E3\",\"bordercolor\":\"rgb(17,17,17)\",\"borderwidth\":1,\"tickwidth\":0},\"ternary\":{\"aaxis\":{\"gridcolor\":\"#506784\",\"linecolor\":\"#506784\",\"ticks\":\"\"},\"baxis\":{\"gridcolor\":\"#506784\",\"linecolor\":\"#506784\",\"ticks\":\"\"},\"bgcolor\":\"rgb(17,17,17)\",\"caxis\":{\"gridcolor\":\"#506784\",\"linecolor\":\"#506784\",\"ticks\":\"\"}},\"title\":{\"x\":0.05},\"updatemenudefaults\":{\"bgcolor\":\"#506784\",\"borderwidth\":0},\"xaxis\":{\"automargin\":true,\"gridcolor\":\"#283442\",\"linecolor\":\"#506784\",\"ticks\":\"\",\"title\":{\"standoff\":15},\"zerolinecolor\":\"#283442\",\"zerolinewidth\":2},\"yaxis\":{\"automargin\":true,\"gridcolor\":\"#283442\",\"linecolor\":\"#506784\",\"ticks\":\"\",\"title\":{\"standoff\":15},\"zerolinecolor\":\"#283442\",\"zerolinewidth\":2}}},\"xaxis\":{\"anchor\":\"y\",\"domain\":[0.0,0.2888888888888889]},\"yaxis\":{\"anchor\":\"x\",\"domain\":[0.0,1.0]},\"xaxis2\":{\"anchor\":\"y2\",\"domain\":[0.35555555555555557,0.6444444444444445]},\"yaxis2\":{\"anchor\":\"x2\",\"domain\":[0.0,1.0]},\"xaxis3\":{\"anchor\":\"y3\",\"domain\":[0.7111111111111111,1.0]},\"yaxis3\":{\"anchor\":\"x3\",\"domain\":[0.0,1.0]},\"annotations\":[{\"font\":{\"size\":16},\"showarrow\":false,\"text\":\"GRE Score\",\"x\":0.14444444444444446,\"xanchor\":\"center\",\"xref\":\"paper\",\"y\":1.0,\"yanchor\":\"bottom\",\"yref\":\"paper\"},{\"font\":{\"size\":16},\"showarrow\":false,\"text\":\"TOEFL Score\",\"x\":0.5,\"xanchor\":\"center\",\"xref\":\"paper\",\"y\":1.0,\"yanchor\":\"bottom\",\"yref\":\"paper\"},{\"font\":{\"size\":16},\"showarrow\":false,\"text\":\"University Rating\",\"x\":0.8555555555555556,\"xanchor\":\"center\",\"xref\":\"paper\",\"y\":1.0,\"yanchor\":\"bottom\",\"yref\":\"paper\"}],\"font\":{\"color\":\"white\",\"size\":20},\"title\":{\"x\":0.5,\"y\":0.9},\"barmode\":\"overlay\",\"height\":390,\"width\":1470},                        {\"responsive\": true}                    ).then(function(){\n",
              "                            \n",
              "var gd = document.getElementById('0455cf45-1351-4b7d-8487-df8a61d30d10');\n",
              "var x = new MutationObserver(function (mutations, observer) {{\n",
              "        var display = window.getComputedStyle(gd).display;\n",
              "        if (!display || display === 'none') {{\n",
              "            console.log([gd, 'removed!']);\n",
              "            Plotly.purge(gd);\n",
              "            observer.disconnect();\n",
              "        }}\n",
              "}});\n",
              "\n",
              "// Listen for the removal of the full notebook cells\n",
              "var notebookContainer = gd.closest('#notebook-container');\n",
              "if (notebookContainer) {{\n",
              "    x.observe(notebookContainer, {childList: true});\n",
              "}}\n",
              "\n",
              "// Listen for the clearing of the current output cell\n",
              "var outputEl = gd.closest('.output');\n",
              "if (outputEl) {{\n",
              "    x.observe(outputEl, {childList: true});\n",
              "}}\n",
              "\n",
              "                        })                };                            </script>        </div>\n",
              "</body>\n",
              "</html>"
            ]
          },
          "metadata": {}
        }
      ],
      "source": [
        "aka_plot_.Plot_box_2_Features(df,df_filtered,corr_tmp=range(df_filtered.shape[1]))"
      ]
    },
    {
      "cell_type": "markdown",
      "metadata": {
        "id": "1xZijr47qAmN"
      },
      "source": [
        "### Visualize the distribution of the filtered dataset"
      ]
    },
    {
      "cell_type": "markdown",
      "metadata": {
        "id": "x5di4sbnYQ7y"
      },
      "source": [
        "# Search for the most effective ML algorithm to learn the dataset"
      ]
    },
    {
      "cell_type": "code",
      "source": [
        "# pre_proc = 'X'                                # Choose between 'XY' to standardize both 'X' and 'Y',\n",
        "#                                               #                'X' to standardize only 'X',\n",
        "#                                               #                'Y' to standardize only 'Y',\n",
        "\n",
        "X_train, X_test, y_train, y_test = aka_cleaned_data().train_test_cleaned_data(df_filtered,pre_proc)"
      ],
      "metadata": {
        "id": "xyByRh347UbB"
      },
      "execution_count": 34,
      "outputs": []
    },
    {
      "cell_type": "code",
      "source": [
        "clf, df_metric_algorithms, clf_algorithms = aka_regression().train_and_find_best_regressor(X_train, y_train, X_test, y_test)"
      ],
      "metadata": {
        "id": "yIIrA5DrE9sa"
      },
      "execution_count": 35,
      "outputs": []
    },
    {
      "cell_type": "code",
      "source": [
        "fig = aka_plot_.plot_heatmap(df_metric_algorithms)\n",
        "fig.update_layout(\n",
        "    xaxis_title='ML algorithm',\n",
        "    yaxis_title='Metric',\n",
        "    title='Metric Report',\n",
        "    font=dict(size=20)\n",
        ")"
      ],
      "metadata": {
        "colab": {
          "base_uri": "https://localhost:8080/",
          "height": 542
        },
        "id": "2gYu0_OwFtoZ",
        "outputId": "60275867-bad2-4b64-ef9b-19790c5eeaeb"
      },
      "execution_count": 36,
      "outputs": [
        {
          "output_type": "display_data",
          "data": {
            "text/html": [
              "<html>\n",
              "<head><meta charset=\"utf-8\" /></head>\n",
              "<body>\n",
              "    <div>            <script src=\"https://cdnjs.cloudflare.com/ajax/libs/mathjax/2.7.5/MathJax.js?config=TeX-AMS-MML_SVG\"></script><script type=\"text/javascript\">if (window.MathJax && window.MathJax.Hub && window.MathJax.Hub.Config) {window.MathJax.Hub.Config({SVG: {font: \"STIX-Web\"}});}</script>                <script type=\"text/javascript\">window.PlotlyConfig = {MathJaxConfig: 'local'};</script>\n",
              "        <script charset=\"utf-8\" src=\"https://cdn.plot.ly/plotly-2.24.1.min.js\"></script>                <div id=\"422bc4a4-1d20-4b83-a6f8-0ba6115e29c2\" class=\"plotly-graph-div\" style=\"height:525px; width:100%;\"></div>            <script type=\"text/javascript\">                                    window.PLOTLYENV=window.PLOTLYENV || {};                                    if (document.getElementById(\"422bc4a4-1d20-4b83-a6f8-0ba6115e29c2\")) {                    Plotly.newPlot(                        \"422bc4a4-1d20-4b83-a6f8-0ba6115e29c2\",                        [{\"colorscale\":[[0.0,\"#440154\"],[0.1111111111111111,\"#482878\"],[0.2222222222222222,\"#3e4989\"],[0.3333333333333333,\"#31688e\"],[0.4444444444444444,\"#26828e\"],[0.5555555555555556,\"#1f9e89\"],[0.6666666666666666,\"#35b779\"],[0.7777777777777778,\"#6ece58\"],[0.8888888888888888,\"#b5de2b\"],[1.0,\"#fde725\"]],\"hoverongaps\":false,\"x\":[\"Linear Regression\",\"SGD Regression\",\"Ridge Regression\",\"Decision Tree Regression\",\"Random Forest Regression\",\"AdaBoost Regression\",\"Gradient Boost Regression\",\"XGBoost Regression\",\"Bagging Regression\",\"Hist Gradient Boosting Regression\",\"Extra Tree Regression\",\"Cat Boost Regression\"],\"y\":[\"MAE\",\"MSE\",\"MSLE\",\"Median Error\",\"MAPE\",\"Max Error\",\"R2 Score\"],\"z\":[[0.074,0.074,0.074,0.076,0.076,0.077,0.076,0.076,0.076,0.076,0.076,0.076],[0.009,0.009,0.009,0.009,0.009,0.009,0.009,0.009,0.009,0.009,0.009,0.009],[0.003,0.003,0.003,0.003,0.003,0.003,0.003,0.003,0.003,0.003,0.003,0.003],[0.061,0.06,0.062,0.067,0.065,0.069,0.067,0.067,0.064,0.064,0.067,0.067],[0.115,0.114,0.115,0.119,0.119,0.121,0.119,0.119,0.12,0.119,0.119,0.119],[0.293,0.29,0.293,0.287,0.29,0.296,0.287,0.287,0.291,0.288,0.287,0.287],[0.583,0.585,0.583,0.57,0.57,0.558,0.57,0.57,0.569,0.568,0.57,0.57]],\"type\":\"heatmap\"}],                        {\"template\":{\"data\":{\"barpolar\":[{\"marker\":{\"line\":{\"color\":\"rgb(17,17,17)\",\"width\":0.5},\"pattern\":{\"fillmode\":\"overlay\",\"size\":10,\"solidity\":0.2}},\"type\":\"barpolar\"}],\"bar\":[{\"error_x\":{\"color\":\"#f2f5fa\"},\"error_y\":{\"color\":\"#f2f5fa\"},\"marker\":{\"line\":{\"color\":\"rgb(17,17,17)\",\"width\":0.5},\"pattern\":{\"fillmode\":\"overlay\",\"size\":10,\"solidity\":0.2}},\"type\":\"bar\"}],\"carpet\":[{\"aaxis\":{\"endlinecolor\":\"#A2B1C6\",\"gridcolor\":\"#506784\",\"linecolor\":\"#506784\",\"minorgridcolor\":\"#506784\",\"startlinecolor\":\"#A2B1C6\"},\"baxis\":{\"endlinecolor\":\"#A2B1C6\",\"gridcolor\":\"#506784\",\"linecolor\":\"#506784\",\"minorgridcolor\":\"#506784\",\"startlinecolor\":\"#A2B1C6\"},\"type\":\"carpet\"}],\"choropleth\":[{\"colorbar\":{\"outlinewidth\":0,\"ticks\":\"\"},\"type\":\"choropleth\"}],\"contourcarpet\":[{\"colorbar\":{\"outlinewidth\":0,\"ticks\":\"\"},\"type\":\"contourcarpet\"}],\"contour\":[{\"colorbar\":{\"outlinewidth\":0,\"ticks\":\"\"},\"colorscale\":[[0.0,\"#0d0887\"],[0.1111111111111111,\"#46039f\"],[0.2222222222222222,\"#7201a8\"],[0.3333333333333333,\"#9c179e\"],[0.4444444444444444,\"#bd3786\"],[0.5555555555555556,\"#d8576b\"],[0.6666666666666666,\"#ed7953\"],[0.7777777777777778,\"#fb9f3a\"],[0.8888888888888888,\"#fdca26\"],[1.0,\"#f0f921\"]],\"type\":\"contour\"}],\"heatmapgl\":[{\"colorbar\":{\"outlinewidth\":0,\"ticks\":\"\"},\"colorscale\":[[0.0,\"#0d0887\"],[0.1111111111111111,\"#46039f\"],[0.2222222222222222,\"#7201a8\"],[0.3333333333333333,\"#9c179e\"],[0.4444444444444444,\"#bd3786\"],[0.5555555555555556,\"#d8576b\"],[0.6666666666666666,\"#ed7953\"],[0.7777777777777778,\"#fb9f3a\"],[0.8888888888888888,\"#fdca26\"],[1.0,\"#f0f921\"]],\"type\":\"heatmapgl\"}],\"heatmap\":[{\"colorbar\":{\"outlinewidth\":0,\"ticks\":\"\"},\"colorscale\":[[0.0,\"#0d0887\"],[0.1111111111111111,\"#46039f\"],[0.2222222222222222,\"#7201a8\"],[0.3333333333333333,\"#9c179e\"],[0.4444444444444444,\"#bd3786\"],[0.5555555555555556,\"#d8576b\"],[0.6666666666666666,\"#ed7953\"],[0.7777777777777778,\"#fb9f3a\"],[0.8888888888888888,\"#fdca26\"],[1.0,\"#f0f921\"]],\"type\":\"heatmap\"}],\"histogram2dcontour\":[{\"colorbar\":{\"outlinewidth\":0,\"ticks\":\"\"},\"colorscale\":[[0.0,\"#0d0887\"],[0.1111111111111111,\"#46039f\"],[0.2222222222222222,\"#7201a8\"],[0.3333333333333333,\"#9c179e\"],[0.4444444444444444,\"#bd3786\"],[0.5555555555555556,\"#d8576b\"],[0.6666666666666666,\"#ed7953\"],[0.7777777777777778,\"#fb9f3a\"],[0.8888888888888888,\"#fdca26\"],[1.0,\"#f0f921\"]],\"type\":\"histogram2dcontour\"}],\"histogram2d\":[{\"colorbar\":{\"outlinewidth\":0,\"ticks\":\"\"},\"colorscale\":[[0.0,\"#0d0887\"],[0.1111111111111111,\"#46039f\"],[0.2222222222222222,\"#7201a8\"],[0.3333333333333333,\"#9c179e\"],[0.4444444444444444,\"#bd3786\"],[0.5555555555555556,\"#d8576b\"],[0.6666666666666666,\"#ed7953\"],[0.7777777777777778,\"#fb9f3a\"],[0.8888888888888888,\"#fdca26\"],[1.0,\"#f0f921\"]],\"type\":\"histogram2d\"}],\"histogram\":[{\"marker\":{\"pattern\":{\"fillmode\":\"overlay\",\"size\":10,\"solidity\":0.2}},\"type\":\"histogram\"}],\"mesh3d\":[{\"colorbar\":{\"outlinewidth\":0,\"ticks\":\"\"},\"type\":\"mesh3d\"}],\"parcoords\":[{\"line\":{\"colorbar\":{\"outlinewidth\":0,\"ticks\":\"\"}},\"type\":\"parcoords\"}],\"pie\":[{\"automargin\":true,\"type\":\"pie\"}],\"scatter3d\":[{\"line\":{\"colorbar\":{\"outlinewidth\":0,\"ticks\":\"\"}},\"marker\":{\"colorbar\":{\"outlinewidth\":0,\"ticks\":\"\"}},\"type\":\"scatter3d\"}],\"scattercarpet\":[{\"marker\":{\"colorbar\":{\"outlinewidth\":0,\"ticks\":\"\"}},\"type\":\"scattercarpet\"}],\"scattergeo\":[{\"marker\":{\"colorbar\":{\"outlinewidth\":0,\"ticks\":\"\"}},\"type\":\"scattergeo\"}],\"scattergl\":[{\"marker\":{\"line\":{\"color\":\"#283442\"}},\"type\":\"scattergl\"}],\"scattermapbox\":[{\"marker\":{\"colorbar\":{\"outlinewidth\":0,\"ticks\":\"\"}},\"type\":\"scattermapbox\"}],\"scatterpolargl\":[{\"marker\":{\"colorbar\":{\"outlinewidth\":0,\"ticks\":\"\"}},\"type\":\"scatterpolargl\"}],\"scatterpolar\":[{\"marker\":{\"colorbar\":{\"outlinewidth\":0,\"ticks\":\"\"}},\"type\":\"scatterpolar\"}],\"scatter\":[{\"marker\":{\"line\":{\"color\":\"#283442\"}},\"type\":\"scatter\"}],\"scatterternary\":[{\"marker\":{\"colorbar\":{\"outlinewidth\":0,\"ticks\":\"\"}},\"type\":\"scatterternary\"}],\"surface\":[{\"colorbar\":{\"outlinewidth\":0,\"ticks\":\"\"},\"colorscale\":[[0.0,\"#0d0887\"],[0.1111111111111111,\"#46039f\"],[0.2222222222222222,\"#7201a8\"],[0.3333333333333333,\"#9c179e\"],[0.4444444444444444,\"#bd3786\"],[0.5555555555555556,\"#d8576b\"],[0.6666666666666666,\"#ed7953\"],[0.7777777777777778,\"#fb9f3a\"],[0.8888888888888888,\"#fdca26\"],[1.0,\"#f0f921\"]],\"type\":\"surface\"}],\"table\":[{\"cells\":{\"fill\":{\"color\":\"#506784\"},\"line\":{\"color\":\"rgb(17,17,17)\"}},\"header\":{\"fill\":{\"color\":\"#2a3f5f\"},\"line\":{\"color\":\"rgb(17,17,17)\"}},\"type\":\"table\"}]},\"layout\":{\"annotationdefaults\":{\"arrowcolor\":\"#f2f5fa\",\"arrowhead\":0,\"arrowwidth\":1},\"autotypenumbers\":\"strict\",\"coloraxis\":{\"colorbar\":{\"outlinewidth\":0,\"ticks\":\"\"}},\"colorscale\":{\"diverging\":[[0,\"#8e0152\"],[0.1,\"#c51b7d\"],[0.2,\"#de77ae\"],[0.3,\"#f1b6da\"],[0.4,\"#fde0ef\"],[0.5,\"#f7f7f7\"],[0.6,\"#e6f5d0\"],[0.7,\"#b8e186\"],[0.8,\"#7fbc41\"],[0.9,\"#4d9221\"],[1,\"#276419\"]],\"sequential\":[[0.0,\"#0d0887\"],[0.1111111111111111,\"#46039f\"],[0.2222222222222222,\"#7201a8\"],[0.3333333333333333,\"#9c179e\"],[0.4444444444444444,\"#bd3786\"],[0.5555555555555556,\"#d8576b\"],[0.6666666666666666,\"#ed7953\"],[0.7777777777777778,\"#fb9f3a\"],[0.8888888888888888,\"#fdca26\"],[1.0,\"#f0f921\"]],\"sequentialminus\":[[0.0,\"#0d0887\"],[0.1111111111111111,\"#46039f\"],[0.2222222222222222,\"#7201a8\"],[0.3333333333333333,\"#9c179e\"],[0.4444444444444444,\"#bd3786\"],[0.5555555555555556,\"#d8576b\"],[0.6666666666666666,\"#ed7953\"],[0.7777777777777778,\"#fb9f3a\"],[0.8888888888888888,\"#fdca26\"],[1.0,\"#f0f921\"]]},\"colorway\":[\"#636efa\",\"#EF553B\",\"#00cc96\",\"#ab63fa\",\"#FFA15A\",\"#19d3f3\",\"#FF6692\",\"#B6E880\",\"#FF97FF\",\"#FECB52\"],\"font\":{\"color\":\"#f2f5fa\"},\"geo\":{\"bgcolor\":\"rgb(17,17,17)\",\"lakecolor\":\"rgb(17,17,17)\",\"landcolor\":\"rgb(17,17,17)\",\"showlakes\":true,\"showland\":true,\"subunitcolor\":\"#506784\"},\"hoverlabel\":{\"align\":\"left\"},\"hovermode\":\"closest\",\"mapbox\":{\"style\":\"dark\"},\"paper_bgcolor\":\"rgb(17,17,17)\",\"plot_bgcolor\":\"rgb(17,17,17)\",\"polar\":{\"angularaxis\":{\"gridcolor\":\"#506784\",\"linecolor\":\"#506784\",\"ticks\":\"\"},\"bgcolor\":\"rgb(17,17,17)\",\"radialaxis\":{\"gridcolor\":\"#506784\",\"linecolor\":\"#506784\",\"ticks\":\"\"}},\"scene\":{\"xaxis\":{\"backgroundcolor\":\"rgb(17,17,17)\",\"gridcolor\":\"#506784\",\"gridwidth\":2,\"linecolor\":\"#506784\",\"showbackground\":true,\"ticks\":\"\",\"zerolinecolor\":\"#C8D4E3\"},\"yaxis\":{\"backgroundcolor\":\"rgb(17,17,17)\",\"gridcolor\":\"#506784\",\"gridwidth\":2,\"linecolor\":\"#506784\",\"showbackground\":true,\"ticks\":\"\",\"zerolinecolor\":\"#C8D4E3\"},\"zaxis\":{\"backgroundcolor\":\"rgb(17,17,17)\",\"gridcolor\":\"#506784\",\"gridwidth\":2,\"linecolor\":\"#506784\",\"showbackground\":true,\"ticks\":\"\",\"zerolinecolor\":\"#C8D4E3\"}},\"shapedefaults\":{\"line\":{\"color\":\"#f2f5fa\"}},\"sliderdefaults\":{\"bgcolor\":\"#C8D4E3\",\"bordercolor\":\"rgb(17,17,17)\",\"borderwidth\":1,\"tickwidth\":0},\"ternary\":{\"aaxis\":{\"gridcolor\":\"#506784\",\"linecolor\":\"#506784\",\"ticks\":\"\"},\"baxis\":{\"gridcolor\":\"#506784\",\"linecolor\":\"#506784\",\"ticks\":\"\"},\"bgcolor\":\"rgb(17,17,17)\",\"caxis\":{\"gridcolor\":\"#506784\",\"linecolor\":\"#506784\",\"ticks\":\"\"}},\"title\":{\"x\":0.05},\"updatemenudefaults\":{\"bgcolor\":\"#506784\",\"borderwidth\":0},\"xaxis\":{\"automargin\":true,\"gridcolor\":\"#283442\",\"linecolor\":\"#506784\",\"ticks\":\"\",\"title\":{\"standoff\":15},\"zerolinecolor\":\"#283442\",\"zerolinewidth\":2},\"yaxis\":{\"automargin\":true,\"gridcolor\":\"#283442\",\"linecolor\":\"#506784\",\"ticks\":\"\",\"title\":{\"standoff\":15},\"zerolinecolor\":\"#283442\",\"zerolinewidth\":2}}},\"annotations\":[{\"font\":{\"color\":\"black\",\"size\":12},\"showarrow\":false,\"text\":\"0.074\",\"x\":\"Linear Regression\",\"xanchor\":\"center\",\"y\":\"MAE\",\"yanchor\":\"middle\"},{\"font\":{\"color\":\"black\",\"size\":12},\"showarrow\":false,\"text\":\"0.074\",\"x\":\"SGD Regression\",\"xanchor\":\"center\",\"y\":\"MAE\",\"yanchor\":\"middle\"},{\"font\":{\"color\":\"black\",\"size\":12},\"showarrow\":false,\"text\":\"0.074\",\"x\":\"Ridge Regression\",\"xanchor\":\"center\",\"y\":\"MAE\",\"yanchor\":\"middle\"},{\"font\":{\"color\":\"black\",\"size\":12},\"showarrow\":false,\"text\":\"0.076\",\"x\":\"Decision Tree Regression\",\"xanchor\":\"center\",\"y\":\"MAE\",\"yanchor\":\"middle\"},{\"font\":{\"color\":\"black\",\"size\":12},\"showarrow\":false,\"text\":\"0.076\",\"x\":\"Random Forest Regression\",\"xanchor\":\"center\",\"y\":\"MAE\",\"yanchor\":\"middle\"},{\"font\":{\"color\":\"black\",\"size\":12},\"showarrow\":false,\"text\":\"0.077\",\"x\":\"AdaBoost Regression\",\"xanchor\":\"center\",\"y\":\"MAE\",\"yanchor\":\"middle\"},{\"font\":{\"color\":\"black\",\"size\":12},\"showarrow\":false,\"text\":\"0.076\",\"x\":\"Gradient Boost Regression\",\"xanchor\":\"center\",\"y\":\"MAE\",\"yanchor\":\"middle\"},{\"font\":{\"color\":\"black\",\"size\":12},\"showarrow\":false,\"text\":\"0.076\",\"x\":\"XGBoost Regression\",\"xanchor\":\"center\",\"y\":\"MAE\",\"yanchor\":\"middle\"},{\"font\":{\"color\":\"black\",\"size\":12},\"showarrow\":false,\"text\":\"0.076\",\"x\":\"Bagging Regression\",\"xanchor\":\"center\",\"y\":\"MAE\",\"yanchor\":\"middle\"},{\"font\":{\"color\":\"black\",\"size\":12},\"showarrow\":false,\"text\":\"0.076\",\"x\":\"Hist Gradient Boosting Regression\",\"xanchor\":\"center\",\"y\":\"MAE\",\"yanchor\":\"middle\"},{\"font\":{\"color\":\"black\",\"size\":12},\"showarrow\":false,\"text\":\"0.076\",\"x\":\"Extra Tree Regression\",\"xanchor\":\"center\",\"y\":\"MAE\",\"yanchor\":\"middle\"},{\"font\":{\"color\":\"black\",\"size\":12},\"showarrow\":false,\"text\":\"0.076\",\"x\":\"Cat Boost Regression\",\"xanchor\":\"center\",\"y\":\"MAE\",\"yanchor\":\"middle\"},{\"font\":{\"color\":\"black\",\"size\":12},\"showarrow\":false,\"text\":\"0.009\",\"x\":\"Linear Regression\",\"xanchor\":\"center\",\"y\":\"MSE\",\"yanchor\":\"middle\"},{\"font\":{\"color\":\"black\",\"size\":12},\"showarrow\":false,\"text\":\"0.009\",\"x\":\"SGD Regression\",\"xanchor\":\"center\",\"y\":\"MSE\",\"yanchor\":\"middle\"},{\"font\":{\"color\":\"black\",\"size\":12},\"showarrow\":false,\"text\":\"0.009\",\"x\":\"Ridge Regression\",\"xanchor\":\"center\",\"y\":\"MSE\",\"yanchor\":\"middle\"},{\"font\":{\"color\":\"black\",\"size\":12},\"showarrow\":false,\"text\":\"0.009\",\"x\":\"Decision Tree Regression\",\"xanchor\":\"center\",\"y\":\"MSE\",\"yanchor\":\"middle\"},{\"font\":{\"color\":\"black\",\"size\":12},\"showarrow\":false,\"text\":\"0.009\",\"x\":\"Random Forest Regression\",\"xanchor\":\"center\",\"y\":\"MSE\",\"yanchor\":\"middle\"},{\"font\":{\"color\":\"black\",\"size\":12},\"showarrow\":false,\"text\":\"0.009\",\"x\":\"AdaBoost Regression\",\"xanchor\":\"center\",\"y\":\"MSE\",\"yanchor\":\"middle\"},{\"font\":{\"color\":\"black\",\"size\":12},\"showarrow\":false,\"text\":\"0.009\",\"x\":\"Gradient Boost Regression\",\"xanchor\":\"center\",\"y\":\"MSE\",\"yanchor\":\"middle\"},{\"font\":{\"color\":\"black\",\"size\":12},\"showarrow\":false,\"text\":\"0.009\",\"x\":\"XGBoost Regression\",\"xanchor\":\"center\",\"y\":\"MSE\",\"yanchor\":\"middle\"},{\"font\":{\"color\":\"black\",\"size\":12},\"showarrow\":false,\"text\":\"0.009\",\"x\":\"Bagging Regression\",\"xanchor\":\"center\",\"y\":\"MSE\",\"yanchor\":\"middle\"},{\"font\":{\"color\":\"black\",\"size\":12},\"showarrow\":false,\"text\":\"0.009\",\"x\":\"Hist Gradient Boosting Regression\",\"xanchor\":\"center\",\"y\":\"MSE\",\"yanchor\":\"middle\"},{\"font\":{\"color\":\"black\",\"size\":12},\"showarrow\":false,\"text\":\"0.009\",\"x\":\"Extra Tree Regression\",\"xanchor\":\"center\",\"y\":\"MSE\",\"yanchor\":\"middle\"},{\"font\":{\"color\":\"black\",\"size\":12},\"showarrow\":false,\"text\":\"0.009\",\"x\":\"Cat Boost Regression\",\"xanchor\":\"center\",\"y\":\"MSE\",\"yanchor\":\"middle\"},{\"font\":{\"color\":\"black\",\"size\":12},\"showarrow\":false,\"text\":\"0.003\",\"x\":\"Linear Regression\",\"xanchor\":\"center\",\"y\":\"MSLE\",\"yanchor\":\"middle\"},{\"font\":{\"color\":\"black\",\"size\":12},\"showarrow\":false,\"text\":\"0.003\",\"x\":\"SGD Regression\",\"xanchor\":\"center\",\"y\":\"MSLE\",\"yanchor\":\"middle\"},{\"font\":{\"color\":\"black\",\"size\":12},\"showarrow\":false,\"text\":\"0.003\",\"x\":\"Ridge Regression\",\"xanchor\":\"center\",\"y\":\"MSLE\",\"yanchor\":\"middle\"},{\"font\":{\"color\":\"black\",\"size\":12},\"showarrow\":false,\"text\":\"0.003\",\"x\":\"Decision Tree Regression\",\"xanchor\":\"center\",\"y\":\"MSLE\",\"yanchor\":\"middle\"},{\"font\":{\"color\":\"black\",\"size\":12},\"showarrow\":false,\"text\":\"0.003\",\"x\":\"Random Forest Regression\",\"xanchor\":\"center\",\"y\":\"MSLE\",\"yanchor\":\"middle\"},{\"font\":{\"color\":\"black\",\"size\":12},\"showarrow\":false,\"text\":\"0.003\",\"x\":\"AdaBoost Regression\",\"xanchor\":\"center\",\"y\":\"MSLE\",\"yanchor\":\"middle\"},{\"font\":{\"color\":\"black\",\"size\":12},\"showarrow\":false,\"text\":\"0.003\",\"x\":\"Gradient Boost Regression\",\"xanchor\":\"center\",\"y\":\"MSLE\",\"yanchor\":\"middle\"},{\"font\":{\"color\":\"black\",\"size\":12},\"showarrow\":false,\"text\":\"0.003\",\"x\":\"XGBoost Regression\",\"xanchor\":\"center\",\"y\":\"MSLE\",\"yanchor\":\"middle\"},{\"font\":{\"color\":\"black\",\"size\":12},\"showarrow\":false,\"text\":\"0.003\",\"x\":\"Bagging Regression\",\"xanchor\":\"center\",\"y\":\"MSLE\",\"yanchor\":\"middle\"},{\"font\":{\"color\":\"black\",\"size\":12},\"showarrow\":false,\"text\":\"0.003\",\"x\":\"Hist Gradient Boosting Regression\",\"xanchor\":\"center\",\"y\":\"MSLE\",\"yanchor\":\"middle\"},{\"font\":{\"color\":\"black\",\"size\":12},\"showarrow\":false,\"text\":\"0.003\",\"x\":\"Extra Tree Regression\",\"xanchor\":\"center\",\"y\":\"MSLE\",\"yanchor\":\"middle\"},{\"font\":{\"color\":\"black\",\"size\":12},\"showarrow\":false,\"text\":\"0.003\",\"x\":\"Cat Boost Regression\",\"xanchor\":\"center\",\"y\":\"MSLE\",\"yanchor\":\"middle\"},{\"font\":{\"color\":\"black\",\"size\":12},\"showarrow\":false,\"text\":\"0.061\",\"x\":\"Linear Regression\",\"xanchor\":\"center\",\"y\":\"Median Error\",\"yanchor\":\"middle\"},{\"font\":{\"color\":\"black\",\"size\":12},\"showarrow\":false,\"text\":\"0.06\",\"x\":\"SGD Regression\",\"xanchor\":\"center\",\"y\":\"Median Error\",\"yanchor\":\"middle\"},{\"font\":{\"color\":\"black\",\"size\":12},\"showarrow\":false,\"text\":\"0.062\",\"x\":\"Ridge Regression\",\"xanchor\":\"center\",\"y\":\"Median Error\",\"yanchor\":\"middle\"},{\"font\":{\"color\":\"black\",\"size\":12},\"showarrow\":false,\"text\":\"0.067\",\"x\":\"Decision Tree Regression\",\"xanchor\":\"center\",\"y\":\"Median Error\",\"yanchor\":\"middle\"},{\"font\":{\"color\":\"black\",\"size\":12},\"showarrow\":false,\"text\":\"0.065\",\"x\":\"Random Forest Regression\",\"xanchor\":\"center\",\"y\":\"Median Error\",\"yanchor\":\"middle\"},{\"font\":{\"color\":\"black\",\"size\":12},\"showarrow\":false,\"text\":\"0.069\",\"x\":\"AdaBoost Regression\",\"xanchor\":\"center\",\"y\":\"Median Error\",\"yanchor\":\"middle\"},{\"font\":{\"color\":\"black\",\"size\":12},\"showarrow\":false,\"text\":\"0.067\",\"x\":\"Gradient Boost Regression\",\"xanchor\":\"center\",\"y\":\"Median Error\",\"yanchor\":\"middle\"},{\"font\":{\"color\":\"black\",\"size\":12},\"showarrow\":false,\"text\":\"0.067\",\"x\":\"XGBoost Regression\",\"xanchor\":\"center\",\"y\":\"Median Error\",\"yanchor\":\"middle\"},{\"font\":{\"color\":\"black\",\"size\":12},\"showarrow\":false,\"text\":\"0.064\",\"x\":\"Bagging Regression\",\"xanchor\":\"center\",\"y\":\"Median Error\",\"yanchor\":\"middle\"},{\"font\":{\"color\":\"black\",\"size\":12},\"showarrow\":false,\"text\":\"0.064\",\"x\":\"Hist Gradient Boosting Regression\",\"xanchor\":\"center\",\"y\":\"Median Error\",\"yanchor\":\"middle\"},{\"font\":{\"color\":\"black\",\"size\":12},\"showarrow\":false,\"text\":\"0.067\",\"x\":\"Extra Tree Regression\",\"xanchor\":\"center\",\"y\":\"Median Error\",\"yanchor\":\"middle\"},{\"font\":{\"color\":\"black\",\"size\":12},\"showarrow\":false,\"text\":\"0.067\",\"x\":\"Cat Boost Regression\",\"xanchor\":\"center\",\"y\":\"Median Error\",\"yanchor\":\"middle\"},{\"font\":{\"color\":\"black\",\"size\":12},\"showarrow\":false,\"text\":\"0.115\",\"x\":\"Linear Regression\",\"xanchor\":\"center\",\"y\":\"MAPE\",\"yanchor\":\"middle\"},{\"font\":{\"color\":\"black\",\"size\":12},\"showarrow\":false,\"text\":\"0.114\",\"x\":\"SGD Regression\",\"xanchor\":\"center\",\"y\":\"MAPE\",\"yanchor\":\"middle\"},{\"font\":{\"color\":\"black\",\"size\":12},\"showarrow\":false,\"text\":\"0.115\",\"x\":\"Ridge Regression\",\"xanchor\":\"center\",\"y\":\"MAPE\",\"yanchor\":\"middle\"},{\"font\":{\"color\":\"black\",\"size\":12},\"showarrow\":false,\"text\":\"0.119\",\"x\":\"Decision Tree Regression\",\"xanchor\":\"center\",\"y\":\"MAPE\",\"yanchor\":\"middle\"},{\"font\":{\"color\":\"black\",\"size\":12},\"showarrow\":false,\"text\":\"0.119\",\"x\":\"Random Forest Regression\",\"xanchor\":\"center\",\"y\":\"MAPE\",\"yanchor\":\"middle\"},{\"font\":{\"color\":\"black\",\"size\":12},\"showarrow\":false,\"text\":\"0.121\",\"x\":\"AdaBoost Regression\",\"xanchor\":\"center\",\"y\":\"MAPE\",\"yanchor\":\"middle\"},{\"font\":{\"color\":\"black\",\"size\":12},\"showarrow\":false,\"text\":\"0.119\",\"x\":\"Gradient Boost Regression\",\"xanchor\":\"center\",\"y\":\"MAPE\",\"yanchor\":\"middle\"},{\"font\":{\"color\":\"black\",\"size\":12},\"showarrow\":false,\"text\":\"0.119\",\"x\":\"XGBoost Regression\",\"xanchor\":\"center\",\"y\":\"MAPE\",\"yanchor\":\"middle\"},{\"font\":{\"color\":\"black\",\"size\":12},\"showarrow\":false,\"text\":\"0.12\",\"x\":\"Bagging Regression\",\"xanchor\":\"center\",\"y\":\"MAPE\",\"yanchor\":\"middle\"},{\"font\":{\"color\":\"black\",\"size\":12},\"showarrow\":false,\"text\":\"0.119\",\"x\":\"Hist Gradient Boosting Regression\",\"xanchor\":\"center\",\"y\":\"MAPE\",\"yanchor\":\"middle\"},{\"font\":{\"color\":\"black\",\"size\":12},\"showarrow\":false,\"text\":\"0.119\",\"x\":\"Extra Tree Regression\",\"xanchor\":\"center\",\"y\":\"MAPE\",\"yanchor\":\"middle\"},{\"font\":{\"color\":\"black\",\"size\":12},\"showarrow\":false,\"text\":\"0.119\",\"x\":\"Cat Boost Regression\",\"xanchor\":\"center\",\"y\":\"MAPE\",\"yanchor\":\"middle\"},{\"font\":{\"color\":\"black\",\"size\":12},\"showarrow\":false,\"text\":\"0.293\",\"x\":\"Linear Regression\",\"xanchor\":\"center\",\"y\":\"Max Error\",\"yanchor\":\"middle\"},{\"font\":{\"color\":\"black\",\"size\":12},\"showarrow\":false,\"text\":\"0.29\",\"x\":\"SGD Regression\",\"xanchor\":\"center\",\"y\":\"Max Error\",\"yanchor\":\"middle\"},{\"font\":{\"color\":\"black\",\"size\":12},\"showarrow\":false,\"text\":\"0.293\",\"x\":\"Ridge Regression\",\"xanchor\":\"center\",\"y\":\"Max Error\",\"yanchor\":\"middle\"},{\"font\":{\"color\":\"black\",\"size\":12},\"showarrow\":false,\"text\":\"0.287\",\"x\":\"Decision Tree Regression\",\"xanchor\":\"center\",\"y\":\"Max Error\",\"yanchor\":\"middle\"},{\"font\":{\"color\":\"black\",\"size\":12},\"showarrow\":false,\"text\":\"0.29\",\"x\":\"Random Forest Regression\",\"xanchor\":\"center\",\"y\":\"Max Error\",\"yanchor\":\"middle\"},{\"font\":{\"color\":\"black\",\"size\":12},\"showarrow\":false,\"text\":\"0.296\",\"x\":\"AdaBoost Regression\",\"xanchor\":\"center\",\"y\":\"Max Error\",\"yanchor\":\"middle\"},{\"font\":{\"color\":\"black\",\"size\":12},\"showarrow\":false,\"text\":\"0.287\",\"x\":\"Gradient Boost Regression\",\"xanchor\":\"center\",\"y\":\"Max Error\",\"yanchor\":\"middle\"},{\"font\":{\"color\":\"black\",\"size\":12},\"showarrow\":false,\"text\":\"0.287\",\"x\":\"XGBoost Regression\",\"xanchor\":\"center\",\"y\":\"Max Error\",\"yanchor\":\"middle\"},{\"font\":{\"color\":\"black\",\"size\":12},\"showarrow\":false,\"text\":\"0.291\",\"x\":\"Bagging Regression\",\"xanchor\":\"center\",\"y\":\"Max Error\",\"yanchor\":\"middle\"},{\"font\":{\"color\":\"black\",\"size\":12},\"showarrow\":false,\"text\":\"0.288\",\"x\":\"Hist Gradient Boosting Regression\",\"xanchor\":\"center\",\"y\":\"Max Error\",\"yanchor\":\"middle\"},{\"font\":{\"color\":\"black\",\"size\":12},\"showarrow\":false,\"text\":\"0.287\",\"x\":\"Extra Tree Regression\",\"xanchor\":\"center\",\"y\":\"Max Error\",\"yanchor\":\"middle\"},{\"font\":{\"color\":\"black\",\"size\":12},\"showarrow\":false,\"text\":\"0.287\",\"x\":\"Cat Boost Regression\",\"xanchor\":\"center\",\"y\":\"Max Error\",\"yanchor\":\"middle\"},{\"font\":{\"color\":\"black\",\"size\":12},\"showarrow\":false,\"text\":\"0.583\",\"x\":\"Linear Regression\",\"xanchor\":\"center\",\"y\":\"R2 Score\",\"yanchor\":\"middle\"},{\"font\":{\"color\":\"black\",\"size\":12},\"showarrow\":false,\"text\":\"0.585\",\"x\":\"SGD Regression\",\"xanchor\":\"center\",\"y\":\"R2 Score\",\"yanchor\":\"middle\"},{\"font\":{\"color\":\"black\",\"size\":12},\"showarrow\":false,\"text\":\"0.583\",\"x\":\"Ridge Regression\",\"xanchor\":\"center\",\"y\":\"R2 Score\",\"yanchor\":\"middle\"},{\"font\":{\"color\":\"black\",\"size\":12},\"showarrow\":false,\"text\":\"0.57\",\"x\":\"Decision Tree Regression\",\"xanchor\":\"center\",\"y\":\"R2 Score\",\"yanchor\":\"middle\"},{\"font\":{\"color\":\"black\",\"size\":12},\"showarrow\":false,\"text\":\"0.57\",\"x\":\"Random Forest Regression\",\"xanchor\":\"center\",\"y\":\"R2 Score\",\"yanchor\":\"middle\"},{\"font\":{\"color\":\"black\",\"size\":12},\"showarrow\":false,\"text\":\"0.558\",\"x\":\"AdaBoost Regression\",\"xanchor\":\"center\",\"y\":\"R2 Score\",\"yanchor\":\"middle\"},{\"font\":{\"color\":\"black\",\"size\":12},\"showarrow\":false,\"text\":\"0.57\",\"x\":\"Gradient Boost Regression\",\"xanchor\":\"center\",\"y\":\"R2 Score\",\"yanchor\":\"middle\"},{\"font\":{\"color\":\"black\",\"size\":12},\"showarrow\":false,\"text\":\"0.57\",\"x\":\"XGBoost Regression\",\"xanchor\":\"center\",\"y\":\"R2 Score\",\"yanchor\":\"middle\"},{\"font\":{\"color\":\"black\",\"size\":12},\"showarrow\":false,\"text\":\"0.569\",\"x\":\"Bagging Regression\",\"xanchor\":\"center\",\"y\":\"R2 Score\",\"yanchor\":\"middle\"},{\"font\":{\"color\":\"black\",\"size\":12},\"showarrow\":false,\"text\":\"0.568\",\"x\":\"Hist Gradient Boosting Regression\",\"xanchor\":\"center\",\"y\":\"R2 Score\",\"yanchor\":\"middle\"},{\"font\":{\"color\":\"black\",\"size\":12},\"showarrow\":false,\"text\":\"0.57\",\"x\":\"Extra Tree Regression\",\"xanchor\":\"center\",\"y\":\"R2 Score\",\"yanchor\":\"middle\"},{\"font\":{\"color\":\"black\",\"size\":12},\"showarrow\":false,\"text\":\"0.57\",\"x\":\"Cat Boost Regression\",\"xanchor\":\"center\",\"y\":\"R2 Score\",\"yanchor\":\"middle\"}],\"font\":{\"color\":\"white\",\"size\":20},\"title\":{\"text\":\"Metric Report\"},\"barmode\":\"overlay\",\"xaxis\":{\"title\":{\"text\":\"ML algorithm\"}},\"yaxis\":{\"title\":{\"text\":\"Metric\"}}},                        {\"responsive\": true}                    ).then(function(){\n",
              "                            \n",
              "var gd = document.getElementById('422bc4a4-1d20-4b83-a6f8-0ba6115e29c2');\n",
              "var x = new MutationObserver(function (mutations, observer) {{\n",
              "        var display = window.getComputedStyle(gd).display;\n",
              "        if (!display || display === 'none') {{\n",
              "            console.log([gd, 'removed!']);\n",
              "            Plotly.purge(gd);\n",
              "            observer.disconnect();\n",
              "        }}\n",
              "}});\n",
              "\n",
              "// Listen for the removal of the full notebook cells\n",
              "var notebookContainer = gd.closest('#notebook-container');\n",
              "if (notebookContainer) {{\n",
              "    x.observe(notebookContainer, {childList: true});\n",
              "}}\n",
              "\n",
              "// Listen for the clearing of the current output cell\n",
              "var outputEl = gd.closest('.output');\n",
              "if (outputEl) {{\n",
              "    x.observe(outputEl, {childList: true});\n",
              "}}\n",
              "\n",
              "                        })                };                            </script>        </div>\n",
              "</body>\n",
              "</html>"
            ]
          },
          "metadata": {}
        }
      ]
    },
    {
      "cell_type": "code",
      "source": [
        "clf"
      ],
      "metadata": {
        "id": "FgwZpLlu87DX",
        "colab": {
          "base_uri": "https://localhost:8080/",
          "height": 117
        },
        "outputId": "b91fe180-7477-4f40-9fc6-f3c7c0b26e79"
      },
      "execution_count": 38,
      "outputs": [
        {
          "output_type": "execute_result",
          "data": {
            "text/plain": [
              "GridSearchCV(cv=3, estimator=SGDRegressor(), param_grid={}, refit='recall')"
            ],
            "text/html": [
              "<style>#sk-container-id-1 {color: black;background-color: white;}#sk-container-id-1 pre{padding: 0;}#sk-container-id-1 div.sk-toggleable {background-color: white;}#sk-container-id-1 label.sk-toggleable__label {cursor: pointer;display: block;width: 100%;margin-bottom: 0;padding: 0.3em;box-sizing: border-box;text-align: center;}#sk-container-id-1 label.sk-toggleable__label-arrow:before {content: \"▸\";float: left;margin-right: 0.25em;color: #696969;}#sk-container-id-1 label.sk-toggleable__label-arrow:hover:before {color: black;}#sk-container-id-1 div.sk-estimator:hover label.sk-toggleable__label-arrow:before {color: black;}#sk-container-id-1 div.sk-toggleable__content {max-height: 0;max-width: 0;overflow: hidden;text-align: left;background-color: #f0f8ff;}#sk-container-id-1 div.sk-toggleable__content pre {margin: 0.2em;color: black;border-radius: 0.25em;background-color: #f0f8ff;}#sk-container-id-1 input.sk-toggleable__control:checked~div.sk-toggleable__content {max-height: 200px;max-width: 100%;overflow: auto;}#sk-container-id-1 input.sk-toggleable__control:checked~label.sk-toggleable__label-arrow:before {content: \"▾\";}#sk-container-id-1 div.sk-estimator input.sk-toggleable__control:checked~label.sk-toggleable__label {background-color: #d4ebff;}#sk-container-id-1 div.sk-label input.sk-toggleable__control:checked~label.sk-toggleable__label {background-color: #d4ebff;}#sk-container-id-1 input.sk-hidden--visually {border: 0;clip: rect(1px 1px 1px 1px);clip: rect(1px, 1px, 1px, 1px);height: 1px;margin: -1px;overflow: hidden;padding: 0;position: absolute;width: 1px;}#sk-container-id-1 div.sk-estimator {font-family: monospace;background-color: #f0f8ff;border: 1px dotted black;border-radius: 0.25em;box-sizing: border-box;margin-bottom: 0.5em;}#sk-container-id-1 div.sk-estimator:hover {background-color: #d4ebff;}#sk-container-id-1 div.sk-parallel-item::after {content: \"\";width: 100%;border-bottom: 1px solid gray;flex-grow: 1;}#sk-container-id-1 div.sk-label:hover label.sk-toggleable__label {background-color: #d4ebff;}#sk-container-id-1 div.sk-serial::before {content: \"\";position: absolute;border-left: 1px solid gray;box-sizing: border-box;top: 0;bottom: 0;left: 50%;z-index: 0;}#sk-container-id-1 div.sk-serial {display: flex;flex-direction: column;align-items: center;background-color: white;padding-right: 0.2em;padding-left: 0.2em;position: relative;}#sk-container-id-1 div.sk-item {position: relative;z-index: 1;}#sk-container-id-1 div.sk-parallel {display: flex;align-items: stretch;justify-content: center;background-color: white;position: relative;}#sk-container-id-1 div.sk-item::before, #sk-container-id-1 div.sk-parallel-item::before {content: \"\";position: absolute;border-left: 1px solid gray;box-sizing: border-box;top: 0;bottom: 0;left: 50%;z-index: -1;}#sk-container-id-1 div.sk-parallel-item {display: flex;flex-direction: column;z-index: 1;position: relative;background-color: white;}#sk-container-id-1 div.sk-parallel-item:first-child::after {align-self: flex-end;width: 50%;}#sk-container-id-1 div.sk-parallel-item:last-child::after {align-self: flex-start;width: 50%;}#sk-container-id-1 div.sk-parallel-item:only-child::after {width: 0;}#sk-container-id-1 div.sk-dashed-wrapped {border: 1px dashed gray;margin: 0 0.4em 0.5em 0.4em;box-sizing: border-box;padding-bottom: 0.4em;background-color: white;}#sk-container-id-1 div.sk-label label {font-family: monospace;font-weight: bold;display: inline-block;line-height: 1.2em;}#sk-container-id-1 div.sk-label-container {text-align: center;}#sk-container-id-1 div.sk-container {/* jupyter's `normalize.less` sets `[hidden] { display: none; }` but bootstrap.min.css set `[hidden] { display: none !important; }` so we also need the `!important` here to be able to override the default hidden behavior on the sphinx rendered scikit-learn.org. See: https://github.com/scikit-learn/scikit-learn/issues/21755 */display: inline-block !important;position: relative;}#sk-container-id-1 div.sk-text-repr-fallback {display: none;}</style><div id=\"sk-container-id-1\" class=\"sk-top-container\"><div class=\"sk-text-repr-fallback\"><pre>GridSearchCV(cv=3, estimator=SGDRegressor(), param_grid={}, refit=&#x27;recall&#x27;)</pre><b>In a Jupyter environment, please rerun this cell to show the HTML representation or trust the notebook. <br />On GitHub, the HTML representation is unable to render, please try loading this page with nbviewer.org.</b></div><div class=\"sk-container\" hidden><div class=\"sk-item sk-dashed-wrapped\"><div class=\"sk-label-container\"><div class=\"sk-label sk-toggleable\"><input class=\"sk-toggleable__control sk-hidden--visually\" id=\"sk-estimator-id-1\" type=\"checkbox\" ><label for=\"sk-estimator-id-1\" class=\"sk-toggleable__label sk-toggleable__label-arrow\">GridSearchCV</label><div class=\"sk-toggleable__content\"><pre>GridSearchCV(cv=3, estimator=SGDRegressor(), param_grid={}, refit=&#x27;recall&#x27;)</pre></div></div></div><div class=\"sk-parallel\"><div class=\"sk-parallel-item\"><div class=\"sk-item\"><div class=\"sk-label-container\"><div class=\"sk-label sk-toggleable\"><input class=\"sk-toggleable__control sk-hidden--visually\" id=\"sk-estimator-id-2\" type=\"checkbox\" ><label for=\"sk-estimator-id-2\" class=\"sk-toggleable__label sk-toggleable__label-arrow\">estimator: SGDRegressor</label><div class=\"sk-toggleable__content\"><pre>SGDRegressor()</pre></div></div></div><div class=\"sk-serial\"><div class=\"sk-item\"><div class=\"sk-estimator sk-toggleable\"><input class=\"sk-toggleable__control sk-hidden--visually\" id=\"sk-estimator-id-3\" type=\"checkbox\" ><label for=\"sk-estimator-id-3\" class=\"sk-toggleable__label sk-toggleable__label-arrow\">SGDRegressor</label><div class=\"sk-toggleable__content\"><pre>SGDRegressor()</pre></div></div></div></div></div></div></div></div></div></div>"
            ]
          },
          "metadata": {},
          "execution_count": 38
        }
      ]
    },
    {
      "cell_type": "code",
      "source": [
        "y_pred = clf.predict(X_test)"
      ],
      "metadata": {
        "id": "60Hh9QmUur7I"
      },
      "execution_count": 37,
      "outputs": []
    },
    {
      "cell_type": "code",
      "source": [
        "params = np.append(clf.best_estimator_.intercept_, clf.best_estimator_.coef_)\n",
        "y_pred = clf.best_estimator_.predict(X_train)\n",
        "feat_name = df_filtered.columns[:-1]\n",
        "\n",
        "aka_plot_ML().plot_regression_summary(X_train, y_train, y_pred, params, feat_name)"
      ],
      "metadata": {
        "colab": {
          "base_uri": "https://localhost:8080/",
          "height": 542
        },
        "id": "XNCyDk90LLFd",
        "outputId": "1b3c31ac-d9fd-40d6-d439-67697a8529d4"
      },
      "execution_count": 39,
      "outputs": [
        {
          "output_type": "display_data",
          "data": {
            "text/html": [
              "<html>\n",
              "<head><meta charset=\"utf-8\" /></head>\n",
              "<body>\n",
              "    <div>            <script src=\"https://cdnjs.cloudflare.com/ajax/libs/mathjax/2.7.5/MathJax.js?config=TeX-AMS-MML_SVG\"></script><script type=\"text/javascript\">if (window.MathJax && window.MathJax.Hub && window.MathJax.Hub.Config) {window.MathJax.Hub.Config({SVG: {font: \"STIX-Web\"}});}</script>                <script type=\"text/javascript\">window.PlotlyConfig = {MathJaxConfig: 'local'};</script>\n",
              "        <script charset=\"utf-8\" src=\"https://cdn.plot.ly/plotly-2.24.1.min.js\"></script>                <div id=\"9b9f024b-af53-4411-ac9d-433a1e755918\" class=\"plotly-graph-div\" style=\"height:525px; width:100%;\"></div>            <script type=\"text/javascript\">                                    window.PLOTLYENV=window.PLOTLYENV || {};                                    if (document.getElementById(\"9b9f024b-af53-4411-ac9d-433a1e755918\")) {                    Plotly.newPlot(                        \"9b9f024b-af53-4411-ac9d-433a1e755918\",                        [{\"colorscale\":[[0.0,\"#440154\"],[0.1111111111111111,\"#482878\"],[0.2222222222222222,\"#3e4989\"],[0.3333333333333333,\"#31688e\"],[0.4444444444444444,\"#26828e\"],[0.5555555555555556,\"#1f9e89\"],[0.6666666666666666,\"#35b779\"],[0.7777777777777778,\"#6ece58\"],[0.8888888888888888,\"#b5de2b\"],[1.0,\"#fde725\"]],\"reversescale\":false,\"showscale\":false,\"x\":[\"Coef\",\"str err\",\"t values\",\"P \\u003e |t|\",\"[0.025  \",\"   0.975]\"],\"y\":[\"Constant\",\"LOR \",\"Research\"],\"z\":[[0.721,0.005,135.688,0.0,0.711,0.731],[0.0698,0.006,12.311,0.0,0.058,0.082],[0.0511,0.006,9.063,0.0,0.039,0.063]],\"type\":\"heatmap\"}],                        {\"annotations\":[{\"font\":{\"color\":\"#FFFFFF\"},\"showarrow\":false,\"text\":\"0.721\",\"x\":\"Coef\",\"xref\":\"x\",\"y\":\"Constant\",\"yref\":\"y\"},{\"font\":{\"color\":\"#FFFFFF\"},\"showarrow\":false,\"text\":\"0.005\",\"x\":\"str err\",\"xref\":\"x\",\"y\":\"Constant\",\"yref\":\"y\"},{\"font\":{\"color\":\"#000000\"},\"showarrow\":false,\"text\":\"135.688\",\"x\":\"t values\",\"xref\":\"x\",\"y\":\"Constant\",\"yref\":\"y\"},{\"font\":{\"color\":\"#FFFFFF\"},\"showarrow\":false,\"text\":\"0.0\",\"x\":\"P \\u003e |t|\",\"xref\":\"x\",\"y\":\"Constant\",\"yref\":\"y\"},{\"font\":{\"color\":\"#FFFFFF\"},\"showarrow\":false,\"text\":\"0.711\",\"x\":\"[0.025  \",\"xref\":\"x\",\"y\":\"Constant\",\"yref\":\"y\"},{\"font\":{\"color\":\"#FFFFFF\"},\"showarrow\":false,\"text\":\"0.731\",\"x\":\"   0.975]\",\"xref\":\"x\",\"y\":\"Constant\",\"yref\":\"y\"},{\"font\":{\"color\":\"#FFFFFF\"},\"showarrow\":false,\"text\":\"0.0698\",\"x\":\"Coef\",\"xref\":\"x\",\"y\":\"LOR \",\"yref\":\"y\"},{\"font\":{\"color\":\"#FFFFFF\"},\"showarrow\":false,\"text\":\"0.006\",\"x\":\"str err\",\"xref\":\"x\",\"y\":\"LOR \",\"yref\":\"y\"},{\"font\":{\"color\":\"#FFFFFF\"},\"showarrow\":false,\"text\":\"12.311\",\"x\":\"t values\",\"xref\":\"x\",\"y\":\"LOR \",\"yref\":\"y\"},{\"font\":{\"color\":\"#FFFFFF\"},\"showarrow\":false,\"text\":\"0.0\",\"x\":\"P \\u003e |t|\",\"xref\":\"x\",\"y\":\"LOR \",\"yref\":\"y\"},{\"font\":{\"color\":\"#FFFFFF\"},\"showarrow\":false,\"text\":\"0.058\",\"x\":\"[0.025  \",\"xref\":\"x\",\"y\":\"LOR \",\"yref\":\"y\"},{\"font\":{\"color\":\"#FFFFFF\"},\"showarrow\":false,\"text\":\"0.082\",\"x\":\"   0.975]\",\"xref\":\"x\",\"y\":\"LOR \",\"yref\":\"y\"},{\"font\":{\"color\":\"#FFFFFF\"},\"showarrow\":false,\"text\":\"0.0511\",\"x\":\"Coef\",\"xref\":\"x\",\"y\":\"Research\",\"yref\":\"y\"},{\"font\":{\"color\":\"#FFFFFF\"},\"showarrow\":false,\"text\":\"0.006\",\"x\":\"str err\",\"xref\":\"x\",\"y\":\"Research\",\"yref\":\"y\"},{\"font\":{\"color\":\"#FFFFFF\"},\"showarrow\":false,\"text\":\"9.063\",\"x\":\"t values\",\"xref\":\"x\",\"y\":\"Research\",\"yref\":\"y\"},{\"font\":{\"color\":\"#FFFFFF\"},\"showarrow\":false,\"text\":\"0.0\",\"x\":\"P \\u003e |t|\",\"xref\":\"x\",\"y\":\"Research\",\"yref\":\"y\"},{\"font\":{\"color\":\"#FFFFFF\"},\"showarrow\":false,\"text\":\"0.039\",\"x\":\"[0.025  \",\"xref\":\"x\",\"y\":\"Research\",\"yref\":\"y\"},{\"font\":{\"color\":\"#FFFFFF\"},\"showarrow\":false,\"text\":\"0.063\",\"x\":\"   0.975]\",\"xref\":\"x\",\"y\":\"Research\",\"yref\":\"y\"}],\"xaxis\":{\"dtick\":1,\"gridcolor\":\"rgb(0, 0, 0)\",\"side\":\"top\",\"ticks\":\"\",\"title\":{\"font\":{\"size\":14},\"standoff\":25}},\"yaxis\":{\"dtick\":1,\"ticks\":\"\",\"ticksuffix\":\"  \",\"title\":{\"font\":{\"size\":14},\"standoff\":25}},\"template\":{\"data\":{\"barpolar\":[{\"marker\":{\"line\":{\"color\":\"rgb(17,17,17)\",\"width\":0.5},\"pattern\":{\"fillmode\":\"overlay\",\"size\":10,\"solidity\":0.2}},\"type\":\"barpolar\"}],\"bar\":[{\"error_x\":{\"color\":\"#f2f5fa\"},\"error_y\":{\"color\":\"#f2f5fa\"},\"marker\":{\"line\":{\"color\":\"rgb(17,17,17)\",\"width\":0.5},\"pattern\":{\"fillmode\":\"overlay\",\"size\":10,\"solidity\":0.2}},\"type\":\"bar\"}],\"carpet\":[{\"aaxis\":{\"endlinecolor\":\"#A2B1C6\",\"gridcolor\":\"#506784\",\"linecolor\":\"#506784\",\"minorgridcolor\":\"#506784\",\"startlinecolor\":\"#A2B1C6\"},\"baxis\":{\"endlinecolor\":\"#A2B1C6\",\"gridcolor\":\"#506784\",\"linecolor\":\"#506784\",\"minorgridcolor\":\"#506784\",\"startlinecolor\":\"#A2B1C6\"},\"type\":\"carpet\"}],\"choropleth\":[{\"colorbar\":{\"outlinewidth\":0,\"ticks\":\"\"},\"type\":\"choropleth\"}],\"contourcarpet\":[{\"colorbar\":{\"outlinewidth\":0,\"ticks\":\"\"},\"type\":\"contourcarpet\"}],\"contour\":[{\"colorbar\":{\"outlinewidth\":0,\"ticks\":\"\"},\"colorscale\":[[0.0,\"#0d0887\"],[0.1111111111111111,\"#46039f\"],[0.2222222222222222,\"#7201a8\"],[0.3333333333333333,\"#9c179e\"],[0.4444444444444444,\"#bd3786\"],[0.5555555555555556,\"#d8576b\"],[0.6666666666666666,\"#ed7953\"],[0.7777777777777778,\"#fb9f3a\"],[0.8888888888888888,\"#fdca26\"],[1.0,\"#f0f921\"]],\"type\":\"contour\"}],\"heatmapgl\":[{\"colorbar\":{\"outlinewidth\":0,\"ticks\":\"\"},\"colorscale\":[[0.0,\"#0d0887\"],[0.1111111111111111,\"#46039f\"],[0.2222222222222222,\"#7201a8\"],[0.3333333333333333,\"#9c179e\"],[0.4444444444444444,\"#bd3786\"],[0.5555555555555556,\"#d8576b\"],[0.6666666666666666,\"#ed7953\"],[0.7777777777777778,\"#fb9f3a\"],[0.8888888888888888,\"#fdca26\"],[1.0,\"#f0f921\"]],\"type\":\"heatmapgl\"}],\"heatmap\":[{\"colorbar\":{\"outlinewidth\":0,\"ticks\":\"\"},\"colorscale\":[[0.0,\"#0d0887\"],[0.1111111111111111,\"#46039f\"],[0.2222222222222222,\"#7201a8\"],[0.3333333333333333,\"#9c179e\"],[0.4444444444444444,\"#bd3786\"],[0.5555555555555556,\"#d8576b\"],[0.6666666666666666,\"#ed7953\"],[0.7777777777777778,\"#fb9f3a\"],[0.8888888888888888,\"#fdca26\"],[1.0,\"#f0f921\"]],\"type\":\"heatmap\"}],\"histogram2dcontour\":[{\"colorbar\":{\"outlinewidth\":0,\"ticks\":\"\"},\"colorscale\":[[0.0,\"#0d0887\"],[0.1111111111111111,\"#46039f\"],[0.2222222222222222,\"#7201a8\"],[0.3333333333333333,\"#9c179e\"],[0.4444444444444444,\"#bd3786\"],[0.5555555555555556,\"#d8576b\"],[0.6666666666666666,\"#ed7953\"],[0.7777777777777778,\"#fb9f3a\"],[0.8888888888888888,\"#fdca26\"],[1.0,\"#f0f921\"]],\"type\":\"histogram2dcontour\"}],\"histogram2d\":[{\"colorbar\":{\"outlinewidth\":0,\"ticks\":\"\"},\"colorscale\":[[0.0,\"#0d0887\"],[0.1111111111111111,\"#46039f\"],[0.2222222222222222,\"#7201a8\"],[0.3333333333333333,\"#9c179e\"],[0.4444444444444444,\"#bd3786\"],[0.5555555555555556,\"#d8576b\"],[0.6666666666666666,\"#ed7953\"],[0.7777777777777778,\"#fb9f3a\"],[0.8888888888888888,\"#fdca26\"],[1.0,\"#f0f921\"]],\"type\":\"histogram2d\"}],\"histogram\":[{\"marker\":{\"pattern\":{\"fillmode\":\"overlay\",\"size\":10,\"solidity\":0.2}},\"type\":\"histogram\"}],\"mesh3d\":[{\"colorbar\":{\"outlinewidth\":0,\"ticks\":\"\"},\"type\":\"mesh3d\"}],\"parcoords\":[{\"line\":{\"colorbar\":{\"outlinewidth\":0,\"ticks\":\"\"}},\"type\":\"parcoords\"}],\"pie\":[{\"automargin\":true,\"type\":\"pie\"}],\"scatter3d\":[{\"line\":{\"colorbar\":{\"outlinewidth\":0,\"ticks\":\"\"}},\"marker\":{\"colorbar\":{\"outlinewidth\":0,\"ticks\":\"\"}},\"type\":\"scatter3d\"}],\"scattercarpet\":[{\"marker\":{\"colorbar\":{\"outlinewidth\":0,\"ticks\":\"\"}},\"type\":\"scattercarpet\"}],\"scattergeo\":[{\"marker\":{\"colorbar\":{\"outlinewidth\":0,\"ticks\":\"\"}},\"type\":\"scattergeo\"}],\"scattergl\":[{\"marker\":{\"line\":{\"color\":\"#283442\"}},\"type\":\"scattergl\"}],\"scattermapbox\":[{\"marker\":{\"colorbar\":{\"outlinewidth\":0,\"ticks\":\"\"}},\"type\":\"scattermapbox\"}],\"scatterpolargl\":[{\"marker\":{\"colorbar\":{\"outlinewidth\":0,\"ticks\":\"\"}},\"type\":\"scatterpolargl\"}],\"scatterpolar\":[{\"marker\":{\"colorbar\":{\"outlinewidth\":0,\"ticks\":\"\"}},\"type\":\"scatterpolar\"}],\"scatter\":[{\"marker\":{\"line\":{\"color\":\"#283442\"}},\"type\":\"scatter\"}],\"scatterternary\":[{\"marker\":{\"colorbar\":{\"outlinewidth\":0,\"ticks\":\"\"}},\"type\":\"scatterternary\"}],\"surface\":[{\"colorbar\":{\"outlinewidth\":0,\"ticks\":\"\"},\"colorscale\":[[0.0,\"#0d0887\"],[0.1111111111111111,\"#46039f\"],[0.2222222222222222,\"#7201a8\"],[0.3333333333333333,\"#9c179e\"],[0.4444444444444444,\"#bd3786\"],[0.5555555555555556,\"#d8576b\"],[0.6666666666666666,\"#ed7953\"],[0.7777777777777778,\"#fb9f3a\"],[0.8888888888888888,\"#fdca26\"],[1.0,\"#f0f921\"]],\"type\":\"surface\"}],\"table\":[{\"cells\":{\"fill\":{\"color\":\"#506784\"},\"line\":{\"color\":\"rgb(17,17,17)\"}},\"header\":{\"fill\":{\"color\":\"#2a3f5f\"},\"line\":{\"color\":\"rgb(17,17,17)\"}},\"type\":\"table\"}]},\"layout\":{\"annotationdefaults\":{\"arrowcolor\":\"#f2f5fa\",\"arrowhead\":0,\"arrowwidth\":1},\"autotypenumbers\":\"strict\",\"coloraxis\":{\"colorbar\":{\"outlinewidth\":0,\"ticks\":\"\"}},\"colorscale\":{\"diverging\":[[0,\"#8e0152\"],[0.1,\"#c51b7d\"],[0.2,\"#de77ae\"],[0.3,\"#f1b6da\"],[0.4,\"#fde0ef\"],[0.5,\"#f7f7f7\"],[0.6,\"#e6f5d0\"],[0.7,\"#b8e186\"],[0.8,\"#7fbc41\"],[0.9,\"#4d9221\"],[1,\"#276419\"]],\"sequential\":[[0.0,\"#0d0887\"],[0.1111111111111111,\"#46039f\"],[0.2222222222222222,\"#7201a8\"],[0.3333333333333333,\"#9c179e\"],[0.4444444444444444,\"#bd3786\"],[0.5555555555555556,\"#d8576b\"],[0.6666666666666666,\"#ed7953\"],[0.7777777777777778,\"#fb9f3a\"],[0.8888888888888888,\"#fdca26\"],[1.0,\"#f0f921\"]],\"sequentialminus\":[[0.0,\"#0d0887\"],[0.1111111111111111,\"#46039f\"],[0.2222222222222222,\"#7201a8\"],[0.3333333333333333,\"#9c179e\"],[0.4444444444444444,\"#bd3786\"],[0.5555555555555556,\"#d8576b\"],[0.6666666666666666,\"#ed7953\"],[0.7777777777777778,\"#fb9f3a\"],[0.8888888888888888,\"#fdca26\"],[1.0,\"#f0f921\"]]},\"colorway\":[\"#636efa\",\"#EF553B\",\"#00cc96\",\"#ab63fa\",\"#FFA15A\",\"#19d3f3\",\"#FF6692\",\"#B6E880\",\"#FF97FF\",\"#FECB52\"],\"font\":{\"color\":\"#f2f5fa\"},\"geo\":{\"bgcolor\":\"rgb(17,17,17)\",\"lakecolor\":\"rgb(17,17,17)\",\"landcolor\":\"rgb(17,17,17)\",\"showlakes\":true,\"showland\":true,\"subunitcolor\":\"#506784\"},\"hoverlabel\":{\"align\":\"left\"},\"hovermode\":\"closest\",\"mapbox\":{\"style\":\"dark\"},\"paper_bgcolor\":\"rgb(17,17,17)\",\"plot_bgcolor\":\"rgb(17,17,17)\",\"polar\":{\"angularaxis\":{\"gridcolor\":\"#506784\",\"linecolor\":\"#506784\",\"ticks\":\"\"},\"bgcolor\":\"rgb(17,17,17)\",\"radialaxis\":{\"gridcolor\":\"#506784\",\"linecolor\":\"#506784\",\"ticks\":\"\"}},\"scene\":{\"xaxis\":{\"backgroundcolor\":\"rgb(17,17,17)\",\"gridcolor\":\"#506784\",\"gridwidth\":2,\"linecolor\":\"#506784\",\"showbackground\":true,\"ticks\":\"\",\"zerolinecolor\":\"#C8D4E3\"},\"yaxis\":{\"backgroundcolor\":\"rgb(17,17,17)\",\"gridcolor\":\"#506784\",\"gridwidth\":2,\"linecolor\":\"#506784\",\"showbackground\":true,\"ticks\":\"\",\"zerolinecolor\":\"#C8D4E3\"},\"zaxis\":{\"backgroundcolor\":\"rgb(17,17,17)\",\"gridcolor\":\"#506784\",\"gridwidth\":2,\"linecolor\":\"#506784\",\"showbackground\":true,\"ticks\":\"\",\"zerolinecolor\":\"#C8D4E3\"}},\"shapedefaults\":{\"line\":{\"color\":\"#f2f5fa\"}},\"sliderdefaults\":{\"bgcolor\":\"#C8D4E3\",\"bordercolor\":\"rgb(17,17,17)\",\"borderwidth\":1,\"tickwidth\":0},\"ternary\":{\"aaxis\":{\"gridcolor\":\"#506784\",\"linecolor\":\"#506784\",\"ticks\":\"\"},\"baxis\":{\"gridcolor\":\"#506784\",\"linecolor\":\"#506784\",\"ticks\":\"\"},\"bgcolor\":\"rgb(17,17,17)\",\"caxis\":{\"gridcolor\":\"#506784\",\"linecolor\":\"#506784\",\"ticks\":\"\"}},\"title\":{\"x\":0.05},\"updatemenudefaults\":{\"bgcolor\":\"#506784\",\"borderwidth\":0},\"xaxis\":{\"automargin\":true,\"gridcolor\":\"#283442\",\"linecolor\":\"#506784\",\"ticks\":\"\",\"title\":{\"standoff\":15},\"zerolinecolor\":\"#283442\",\"zerolinewidth\":2},\"yaxis\":{\"automargin\":true,\"gridcolor\":\"#283442\",\"linecolor\":\"#506784\",\"ticks\":\"\",\"title\":{\"standoff\":15},\"zerolinecolor\":\"#283442\",\"zerolinewidth\":2}}},\"font\":{\"color\":\"white\",\"size\":20},\"title\":{\"text\":\"Regression Summary\"},\"barmode\":\"overlay\"},                        {\"responsive\": true}                    ).then(function(){\n",
              "                            \n",
              "var gd = document.getElementById('9b9f024b-af53-4411-ac9d-433a1e755918');\n",
              "var x = new MutationObserver(function (mutations, observer) {{\n",
              "        var display = window.getComputedStyle(gd).display;\n",
              "        if (!display || display === 'none') {{\n",
              "            console.log([gd, 'removed!']);\n",
              "            Plotly.purge(gd);\n",
              "            observer.disconnect();\n",
              "        }}\n",
              "}});\n",
              "\n",
              "// Listen for the removal of the full notebook cells\n",
              "var notebookContainer = gd.closest('#notebook-container');\n",
              "if (notebookContainer) {{\n",
              "    x.observe(notebookContainer, {childList: true});\n",
              "}}\n",
              "\n",
              "// Listen for the clearing of the current output cell\n",
              "var outputEl = gd.closest('.output');\n",
              "if (outputEl) {{\n",
              "    x.observe(outputEl, {childList: true});\n",
              "}}\n",
              "\n",
              "                        })                };                            </script>        </div>\n",
              "</body>\n",
              "</html>"
            ]
          },
          "metadata": {}
        }
      ]
    },
    {
      "cell_type": "markdown",
      "metadata": {
        "id": "FQPt3b5VVROU"
      },
      "source": [
        "\n",
        "## Confusion Matrix"
      ]
    },
    {
      "cell_type": "markdown",
      "source": [
        "## Plot Important Features by Weight\n",
        "\n"
      ],
      "metadata": {
        "id": "rGrE0pIoPkIE"
      }
    },
    {
      "cell_type": "code",
      "source": [
        "# aka_plot.plot_important_features(clf.best_estimator_,df_filtered)"
      ],
      "metadata": {
        "id": "7usg_drBNlhu"
      },
      "execution_count": null,
      "outputs": []
    },
    {
      "cell_type": "code",
      "source": [
        "aka_plot_shap(clf.best_estimator_, X_train, feat_name).plot_summary_shap().show()"
      ],
      "metadata": {
        "colab": {
          "base_uri": "https://localhost:8080/",
          "height": 717
        },
        "id": "5ksecAkh3lbH",
        "outputId": "bc41f049-ef80-4e42-ba2a-e81bb3dcdfeb"
      },
      "execution_count": 41,
      "outputs": [
        {
          "output_type": "display_data",
          "data": {
            "text/html": [
              "<html>\n",
              "<head><meta charset=\"utf-8\" /></head>\n",
              "<body>\n",
              "    <div>            <script src=\"https://cdnjs.cloudflare.com/ajax/libs/mathjax/2.7.5/MathJax.js?config=TeX-AMS-MML_SVG\"></script><script type=\"text/javascript\">if (window.MathJax && window.MathJax.Hub && window.MathJax.Hub.Config) {window.MathJax.Hub.Config({SVG: {font: \"STIX-Web\"}});}</script>                <script type=\"text/javascript\">window.PlotlyConfig = {MathJaxConfig: 'local'};</script>\n",
              "        <script charset=\"utf-8\" src=\"https://cdn.plot.ly/plotly-2.24.1.min.js\"></script>                <div id=\"2393dc1f-cf2f-4983-8a5b-fc86b9d32849\" class=\"plotly-graph-div\" style=\"height:700px; width:1000px;\"></div>            <script type=\"text/javascript\">                                    window.PLOTLYENV=window.PLOTLYENV || {};                                    if (document.getElementById(\"2393dc1f-cf2f-4983-8a5b-fc86b9d32849\")) {                    Plotly.newPlot(                        \"2393dc1f-cf2f-4983-8a5b-fc86b9d32849\",                        [{\"marker\":{\"color\":[0.8864052604279182,-1.1281521496355325,0.8864052604279182,-1.1281521496355325,-1.1281521496355325,0.8864052604279182,0.8864052604279182,0.8864052604279182,-1.1281521496355325,-1.1281521496355325,-1.1281521496355325,0.8864052604279182,-1.1281521496355325,-1.1281521496355325,0.8864052604279182,-1.1281521496355325,-1.1281521496355325,-1.1281521496355325,0.8864052604279182,0.8864052604279182,-1.1281521496355325,-1.1281521496355325,-1.1281521496355325,-1.1281521496355325,0.8864052604279182,0.8864052604279182,0.8864052604279182,-1.1281521496355325,0.8864052604279182,0.8864052604279182,-1.1281521496355325,0.8864052604279182,0.8864052604279182,0.8864052604279182,-1.1281521496355325,0.8864052604279182,0.8864052604279182,0.8864052604279182,0.8864052604279182,0.8864052604279182,0.8864052604279182,-1.1281521496355325,-1.1281521496355325,-1.1281521496355325,-1.1281521496355325,0.8864052604279182,0.8864052604279182,-1.1281521496355325,0.8864052604279182,-1.1281521496355325,0.8864052604279182,0.8864052604279182,0.8864052604279182,-1.1281521496355325,-1.1281521496355325,-1.1281521496355325,-1.1281521496355325,-1.1281521496355325,0.8864052604279182,-1.1281521496355325,0.8864052604279182,0.8864052604279182,0.8864052604279182,-1.1281521496355325,-1.1281521496355325,-1.1281521496355325,0.8864052604279182,-1.1281521496355325,-1.1281521496355325,0.8864052604279182,0.8864052604279182,-1.1281521496355325,-1.1281521496355325,-1.1281521496355325,-1.1281521496355325,0.8864052604279182,-1.1281521496355325,-1.1281521496355325,0.8864052604279182,-1.1281521496355325,0.8864052604279182,0.8864052604279182,0.8864052604279182,0.8864052604279182,0.8864052604279182,-1.1281521496355325,0.8864052604279182,-1.1281521496355325,0.8864052604279182,-1.1281521496355325,-1.1281521496355325,-1.1281521496355325,-1.1281521496355325,0.8864052604279182,0.8864052604279182,-1.1281521496355325,0.8864052604279182,-1.1281521496355325,-1.1281521496355325,-1.1281521496355325,0.8864052604279182,-1.1281521496355325,0.8864052604279182,-1.1281521496355325,-1.1281521496355325,-1.1281521496355325,-1.1281521496355325,0.8864052604279182,0.8864052604279182,0.8864052604279182,0.8864052604279182,-1.1281521496355325,-1.1281521496355325,-1.1281521496355325,0.8864052604279182,-1.1281521496355325,0.8864052604279182,0.8864052604279182,0.8864052604279182,-1.1281521496355325,-1.1281521496355325,0.8864052604279182,-1.1281521496355325,0.8864052604279182,0.8864052604279182,0.8864052604279182,-1.1281521496355325,0.8864052604279182,0.8864052604279182,0.8864052604279182,0.8864052604279182,-1.1281521496355325,-1.1281521496355325,-1.1281521496355325,0.8864052604279182,-1.1281521496355325,-1.1281521496355325,0.8864052604279182,-1.1281521496355325,-1.1281521496355325,-1.1281521496355325,0.8864052604279182,0.8864052604279182,0.8864052604279182,0.8864052604279182,-1.1281521496355325,0.8864052604279182,0.8864052604279182,-1.1281521496355325,0.8864052604279182,0.8864052604279182,-1.1281521496355325,0.8864052604279182,0.8864052604279182,-1.1281521496355325,-1.1281521496355325,0.8864052604279182,-1.1281521496355325,0.8864052604279182,0.8864052604279182,-1.1281521496355325,-1.1281521496355325,0.8864052604279182,0.8864052604279182,0.8864052604279182,0.8864052604279182,-1.1281521496355325,0.8864052604279182,-1.1281521496355325,0.8864052604279182,-1.1281521496355325,0.8864052604279182,0.8864052604279182,0.8864052604279182,-1.1281521496355325,0.8864052604279182,-1.1281521496355325,0.8864052604279182,0.8864052604279182,-1.1281521496355325,-1.1281521496355325,0.8864052604279182,0.8864052604279182,-1.1281521496355325,0.8864052604279182,0.8864052604279182,-1.1281521496355325,-1.1281521496355325,-1.1281521496355325,-1.1281521496355325,0.8864052604279182,-1.1281521496355325,0.8864052604279182,-1.1281521496355325,-1.1281521496355325,0.8864052604279182,-1.1281521496355325,0.8864052604279182,-1.1281521496355325,0.8864052604279182,-1.1281521496355325,0.8864052604279182,-1.1281521496355325,-1.1281521496355325,-1.1281521496355325,0.8864052604279182,-1.1281521496355325,0.8864052604279182,0.8864052604279182,0.8864052604279182,0.8864052604279182,-1.1281521496355325,0.8864052604279182,-1.1281521496355325,-1.1281521496355325,0.8864052604279182,0.8864052604279182,-1.1281521496355325,0.8864052604279182,0.8864052604279182,0.8864052604279182,0.8864052604279182,-1.1281521496355325,0.8864052604279182,-1.1281521496355325,-1.1281521496355325,0.8864052604279182,0.8864052604279182,0.8864052604279182,0.8864052604279182,0.8864052604279182,-1.1281521496355325,-1.1281521496355325,-1.1281521496355325,-1.1281521496355325,-1.1281521496355325,-1.1281521496355325,0.8864052604279182,-1.1281521496355325,0.8864052604279182,0.8864052604279182,0.8864052604279182,0.8864052604279182,0.8864052604279182,-1.1281521496355325,-1.1281521496355325,0.8864052604279182,0.8864052604279182,0.8864052604279182,0.8864052604279182,0.8864052604279182,-1.1281521496355325,-1.1281521496355325,-1.1281521496355325,0.8864052604279182,-1.1281521496355325,0.8864052604279182,0.8864052604279182,-1.1281521496355325,0.8864052604279182,-1.1281521496355325,-1.1281521496355325,0.8864052604279182,-1.1281521496355325,0.8864052604279182,-1.1281521496355325,0.8864052604279182,0.8864052604279182,0.8864052604279182,0.8864052604279182,0.8864052604279182,0.8864052604279182,0.8864052604279182,0.8864052604279182,0.8864052604279182,0.8864052604279182,-1.1281521496355325,0.8864052604279182,0.8864052604279182,0.8864052604279182,0.8864052604279182,-1.1281521496355325,0.8864052604279182,-1.1281521496355325,0.8864052604279182,-1.1281521496355325,0.8864052604279182,-1.1281521496355325,0.8864052604279182,-1.1281521496355325,-1.1281521496355325,-1.1281521496355325,0.8864052604279182,-1.1281521496355325,0.8864052604279182,0.8864052604279182,0.8864052604279182,0.8864052604279182,0.8864052604279182,0.8864052604279182,0.8864052604279182,-1.1281521496355325,-1.1281521496355325,0.8864052604279182,-1.1281521496355325,0.8864052604279182,0.8864052604279182,0.8864052604279182,0.8864052604279182,0.8864052604279182,-1.1281521496355325,0.8864052604279182,0.8864052604279182,-1.1281521496355325,0.8864052604279182,0.8864052604279182,-1.1281521496355325,-1.1281521496355325,0.8864052604279182,-1.1281521496355325,0.8864052604279182,0.8864052604279182,0.8864052604279182,0.8864052604279182,0.8864052604279182,0.8864052604279182,-1.1281521496355325,0.8864052604279182,-1.1281521496355325,0.8864052604279182,0.8864052604279182,0.8864052604279182,-1.1281521496355325,0.8864052604279182,0.8864052604279182,-1.1281521496355325,0.8864052604279182,0.8864052604279182,0.8864052604279182,0.8864052604279182,0.8864052604279182,-1.1281521496355325,0.8864052604279182,0.8864052604279182,0.8864052604279182,0.8864052604279182,0.8864052604279182,-1.1281521496355325,-1.1281521496355325,-1.1281521496355325]},\"name\":\"Research\",\"orientation\":\"h\",\"x\":[0.05659268166151864,-0.04630310317760615,0.05659268166151864,-0.04630310317760615,-0.04630310317760615,0.05659268166151864,0.05659268166151864,0.05659268166151864,-0.04630310317760615,-0.04630310317760615,-0.04630310317760615,0.05659268166151864,-0.04630310317760615,-0.04630310317760615,0.05659268166151864,-0.04630310317760615,-0.04630310317760615,-0.04630310317760615,0.05659268166151864,0.05659268166151864,-0.04630310317760615,-0.04630310317760615,-0.04630310317760615,-0.04630310317760615,0.05659268166151864,0.05659268166151864,0.05659268166151864,-0.04630310317760615,0.05659268166151864,0.05659268166151864,-0.04630310317760615,0.05659268166151864,0.05659268166151864,0.05659268166151864,-0.04630310317760615,0.05659268166151864,0.05659268166151864,0.05659268166151864,0.05659268166151864,0.05659268166151864,0.05659268166151864,-0.04630310317760615,-0.04630310317760615,-0.04630310317760615,-0.04630310317760615,0.05659268166151864,0.05659268166151864,-0.04630310317760615,0.05659268166151864,-0.04630310317760615,0.05659268166151864,0.05659268166151864,0.05659268166151864,-0.04630310317760615,-0.04630310317760615,-0.04630310317760615,-0.04630310317760615,-0.04630310317760615,0.05659268166151864,-0.04630310317760615,0.05659268166151864,0.05659268166151864,0.05659268166151864,-0.04630310317760615,-0.04630310317760615,-0.04630310317760615,0.05659268166151864,-0.04630310317760615,-0.04630310317760615,0.05659268166151864,0.05659268166151864,-0.04630310317760615,-0.04630310317760615,-0.04630310317760615,-0.04630310317760615,0.05659268166151864,-0.04630310317760615,-0.04630310317760615,0.05659268166151864,-0.04630310317760615,0.05659268166151864,0.05659268166151864,0.05659268166151864,0.05659268166151864,0.05659268166151864,-0.04630310317760615,0.05659268166151864,-0.04630310317760615,0.05659268166151864,-0.04630310317760615,-0.04630310317760615,-0.04630310317760615,-0.04630310317760615,0.05659268166151864,0.05659268166151864,-0.04630310317760615,0.05659268166151864,-0.04630310317760615,-0.04630310317760615,-0.04630310317760615,0.05659268166151864,-0.04630310317760615,0.05659268166151864,-0.04630310317760615,-0.04630310317760615,-0.04630310317760615,-0.04630310317760615,0.05659268166151864,0.05659268166151864,0.05659268166151864,0.05659268166151864,-0.04630310317760615,-0.04630310317760615,-0.04630310317760615,0.05659268166151864,-0.04630310317760615,0.05659268166151864,0.05659268166151864,0.05659268166151864,-0.04630310317760615,-0.04630310317760615,0.05659268166151864,-0.04630310317760615,0.05659268166151864,0.05659268166151864,0.05659268166151864,-0.04630310317760615,0.05659268166151864,0.05659268166151864,0.05659268166151864,0.05659268166151864,-0.04630310317760615,-0.04630310317760615,-0.04630310317760615,0.05659268166151864,-0.04630310317760615,-0.04630310317760615,0.05659268166151864,-0.04630310317760615,-0.04630310317760615,-0.04630310317760615,0.05659268166151864,0.05659268166151864,0.05659268166151864,0.05659268166151864,-0.04630310317760615,0.05659268166151864,0.05659268166151864,-0.04630310317760615,0.05659268166151864,0.05659268166151864,-0.04630310317760615,0.05659268166151864,0.05659268166151864,-0.04630310317760615,-0.04630310317760615,0.05659268166151864,-0.04630310317760615,0.05659268166151864,0.05659268166151864,-0.04630310317760615,-0.04630310317760615,0.05659268166151864,0.05659268166151864,0.05659268166151864,0.05659268166151864,-0.04630310317760615,0.05659268166151864,-0.04630310317760615,0.05659268166151864,-0.04630310317760615,0.05659268166151864,0.05659268166151864,0.05659268166151864,-0.04630310317760615,0.05659268166151864,-0.04630310317760615,0.05659268166151864,0.05659268166151864,-0.04630310317760615,-0.04630310317760615,0.05659268166151864,0.05659268166151864,-0.04630310317760615,0.05659268166151864,0.05659268166151864,-0.04630310317760615,-0.04630310317760615,-0.04630310317760615,-0.04630310317760615,0.05659268166151864,-0.04630310317760615,0.05659268166151864,-0.04630310317760615,-0.04630310317760615,0.05659268166151864,-0.04630310317760615,0.05659268166151864,-0.04630310317760615,0.05659268166151864,-0.04630310317760615,0.05659268166151864,-0.04630310317760615,-0.04630310317760615,-0.04630310317760615,0.05659268166151864,-0.04630310317760615,0.05659268166151864,0.05659268166151864,0.05659268166151864,0.05659268166151864,-0.04630310317760615,0.05659268166151864,-0.04630310317760615,-0.04630310317760615,0.05659268166151864,0.05659268166151864,-0.04630310317760615,0.05659268166151864,0.05659268166151864,0.05659268166151864,0.05659268166151864,-0.04630310317760615,0.05659268166151864,-0.04630310317760615,-0.04630310317760615,0.05659268166151864,0.05659268166151864,0.05659268166151864,0.05659268166151864,0.05659268166151864,-0.04630310317760615,-0.04630310317760615,-0.04630310317760615,-0.04630310317760615,-0.04630310317760615,-0.04630310317760615,0.05659268166151864,-0.04630310317760615,0.05659268166151864,0.05659268166151864,0.05659268166151864,0.05659268166151864,0.05659268166151864,-0.04630310317760615,-0.04630310317760615,0.05659268166151864,0.05659268166151864,0.05659268166151864,0.05659268166151864,0.05659268166151864,-0.04630310317760615,-0.04630310317760615,-0.04630310317760615,0.05659268166151864,-0.04630310317760615,0.05659268166151864,0.05659268166151864,-0.04630310317760615,0.05659268166151864,-0.04630310317760615,-0.04630310317760615,0.05659268166151864,-0.04630310317760615,0.05659268166151864,-0.04630310317760615,0.05659268166151864,0.05659268166151864,0.05659268166151864,0.05659268166151864,0.05659268166151864,0.05659268166151864,0.05659268166151864,0.05659268166151864,0.05659268166151864,0.05659268166151864,-0.04630310317760615,0.05659268166151864,0.05659268166151864,0.05659268166151864,0.05659268166151864,-0.04630310317760615,0.05659268166151864,-0.04630310317760615,0.05659268166151864,-0.04630310317760615,0.05659268166151864,-0.04630310317760615,0.05659268166151864,-0.04630310317760615,-0.04630310317760615,-0.04630310317760615,0.05659268166151864,-0.04630310317760615,0.05659268166151864,0.05659268166151864,0.05659268166151864,0.05659268166151864,0.05659268166151864,0.05659268166151864,0.05659268166151864,-0.04630310317760615,-0.04630310317760615,0.05659268166151864,-0.04630310317760615,0.05659268166151864,0.05659268166151864,0.05659268166151864,0.05659268166151864,0.05659268166151864,-0.04630310317760615,0.05659268166151864,0.05659268166151864,-0.04630310317760615,0.05659268166151864,0.05659268166151864,-0.04630310317760615,-0.04630310317760615,0.05659268166151864,-0.04630310317760615,0.05659268166151864,0.05659268166151864,0.05659268166151864,0.05659268166151864,0.05659268166151864,0.05659268166151864,-0.04630310317760615,0.05659268166151864,-0.04630310317760615,0.05659268166151864,0.05659268166151864,0.05659268166151864,-0.04630310317760615,0.05659268166151864,0.05659268166151864,-0.04630310317760615,0.05659268166151864,0.05659268166151864,0.05659268166151864,0.05659268166151864,0.05659268166151864,-0.04630310317760615,0.05659268166151864,0.05659268166151864,0.05659268166151864,0.05659268166151864,0.05659268166151864,-0.04630310317760615,-0.04630310317760615,-0.04630310317760615],\"y\":[\"Research\",\"Research\",\"Research\",\"Research\",\"Research\",\"Research\",\"Research\",\"Research\",\"Research\",\"Research\",\"Research\",\"Research\",\"Research\",\"Research\",\"Research\",\"Research\",\"Research\",\"Research\",\"Research\",\"Research\",\"Research\",\"Research\",\"Research\",\"Research\",\"Research\",\"Research\",\"Research\",\"Research\",\"Research\",\"Research\",\"Research\",\"Research\",\"Research\",\"Research\",\"Research\",\"Research\",\"Research\",\"Research\",\"Research\",\"Research\",\"Research\",\"Research\",\"Research\",\"Research\",\"Research\",\"Research\",\"Research\",\"Research\",\"Research\",\"Research\",\"Research\",\"Research\",\"Research\",\"Research\",\"Research\",\"Research\",\"Research\",\"Research\",\"Research\",\"Research\",\"Research\",\"Research\",\"Research\",\"Research\",\"Research\",\"Research\",\"Research\",\"Research\",\"Research\",\"Research\",\"Research\",\"Research\",\"Research\",\"Research\",\"Research\",\"Research\",\"Research\",\"Research\",\"Research\",\"Research\",\"Research\",\"Research\",\"Research\",\"Research\",\"Research\",\"Research\",\"Research\",\"Research\",\"Research\",\"Research\",\"Research\",\"Research\",\"Research\",\"Research\",\"Research\",\"Research\",\"Research\",\"Research\",\"Research\",\"Research\",\"Research\",\"Research\",\"Research\",\"Research\",\"Research\",\"Research\",\"Research\",\"Research\",\"Research\",\"Research\",\"Research\",\"Research\",\"Research\",\"Research\",\"Research\",\"Research\",\"Research\",\"Research\",\"Research\",\"Research\",\"Research\",\"Research\",\"Research\",\"Research\",\"Research\",\"Research\",\"Research\",\"Research\",\"Research\",\"Research\",\"Research\",\"Research\",\"Research\",\"Research\",\"Research\",\"Research\",\"Research\",\"Research\",\"Research\",\"Research\",\"Research\",\"Research\",\"Research\",\"Research\",\"Research\",\"Research\",\"Research\",\"Research\",\"Research\",\"Research\",\"Research\",\"Research\",\"Research\",\"Research\",\"Research\",\"Research\",\"Research\",\"Research\",\"Research\",\"Research\",\"Research\",\"Research\",\"Research\",\"Research\",\"Research\",\"Research\",\"Research\",\"Research\",\"Research\",\"Research\",\"Research\",\"Research\",\"Research\",\"Research\",\"Research\",\"Research\",\"Research\",\"Research\",\"Research\",\"Research\",\"Research\",\"Research\",\"Research\",\"Research\",\"Research\",\"Research\",\"Research\",\"Research\",\"Research\",\"Research\",\"Research\",\"Research\",\"Research\",\"Research\",\"Research\",\"Research\",\"Research\",\"Research\",\"Research\",\"Research\",\"Research\",\"Research\",\"Research\",\"Research\",\"Research\",\"Research\",\"Research\",\"Research\",\"Research\",\"Research\",\"Research\",\"Research\",\"Research\",\"Research\",\"Research\",\"Research\",\"Research\",\"Research\",\"Research\",\"Research\",\"Research\",\"Research\",\"Research\",\"Research\",\"Research\",\"Research\",\"Research\",\"Research\",\"Research\",\"Research\",\"Research\",\"Research\",\"Research\",\"Research\",\"Research\",\"Research\",\"Research\",\"Research\",\"Research\",\"Research\",\"Research\",\"Research\",\"Research\",\"Research\",\"Research\",\"Research\",\"Research\",\"Research\",\"Research\",\"Research\",\"Research\",\"Research\",\"Research\",\"Research\",\"Research\",\"Research\",\"Research\",\"Research\",\"Research\",\"Research\",\"Research\",\"Research\",\"Research\",\"Research\",\"Research\",\"Research\",\"Research\",\"Research\",\"Research\",\"Research\",\"Research\",\"Research\",\"Research\",\"Research\",\"Research\",\"Research\",\"Research\",\"Research\",\"Research\",\"Research\",\"Research\",\"Research\",\"Research\",\"Research\",\"Research\",\"Research\",\"Research\",\"Research\",\"Research\",\"Research\",\"Research\",\"Research\",\"Research\",\"Research\",\"Research\",\"Research\",\"Research\",\"Research\",\"Research\",\"Research\",\"Research\",\"Research\",\"Research\",\"Research\",\"Research\",\"Research\",\"Research\",\"Research\",\"Research\",\"Research\",\"Research\",\"Research\",\"Research\",\"Research\",\"Research\",\"Research\",\"Research\",\"Research\",\"Research\",\"Research\",\"Research\",\"Research\",\"Research\",\"Research\",\"Research\",\"Research\",\"Research\",\"Research\",\"Research\",\"Research\",\"Research\",\"Research\",\"Research\",\"Research\",\"Research\",\"Research\",\"Research\",\"Research\",\"Research\",\"Research\",\"Research\",\"Research\",\"Research\",\"Research\",\"Research\",\"Research\",\"Research\",\"Research\",\"Research\",\"Research\"],\"type\":\"bar\"},{\"marker\":{\"color\":[-0.5235128319002437,0.017306209319016337,0.5581252505382764,-0.5235128319002437,-0.5235128319002437,0.017306209319016337,-1.0643318731195037,0.017306209319016337,-0.5235128319002437,-0.5235128319002437,-0.5235128319002437,-1.605150914338764,1.0989442917575365,-1.605150914338764,0.017306209319016337,0.5581252505382764,0.017306209319016337,0.5581252505382764,0.5581252505382764,1.6397633329767964,-1.605150914338764,-1.0643318731195037,1.0989442917575365,0.017306209319016337,-0.5235128319002437,0.017306209319016337,-0.5235128319002437,-1.0643318731195037,0.017306209319016337,-0.5235128319002437,-1.0643318731195037,0.017306209319016337,-1.0643318731195037,-0.5235128319002437,0.017306209319016337,0.017306209319016337,-0.5235128319002437,0.017306209319016337,0.5581252505382764,0.5581252505382764,-2.145969955558024,-1.0643318731195037,-0.5235128319002437,-2.145969955558024,0.5581252505382764,0.5581252505382764,-1.0643318731195037,-0.5235128319002437,1.6397633329767964,-1.0643318731195037,1.6397633329767964,1.0989442917575365,-1.0643318731195037,0.5581252505382764,-0.5235128319002437,1.0989442917575365,0.017306209319016337,1.6397633329767964,1.0989442917575365,-1.605150914338764,-1.0643318731195037,0.017306209319016337,0.017306209319016337,0.017306209319016337,1.0989442917575365,-0.5235128319002437,0.5581252505382764,-1.0643318731195037,-1.0643318731195037,0.5581252505382764,0.5581252505382764,-1.0643318731195037,0.5581252505382764,-1.0643318731195037,0.017306209319016337,0.5581252505382764,0.5581252505382764,-0.5235128319002437,0.5581252505382764,-1.605150914338764,0.5581252505382764,0.017306209319016337,0.5581252505382764,0.5581252505382764,1.6397633329767964,-1.605150914338764,0.5581252505382764,-1.0643318731195037,0.5581252505382764,0.017306209319016337,-0.5235128319002437,0.5581252505382764,1.0989442917575365,0.5581252505382764,0.5581252505382764,0.5581252505382764,1.6397633329767964,-2.145969955558024,0.5581252505382764,-0.5235128319002437,0.017306209319016337,0.017306209319016337,-1.0643318731195037,1.0989442917575365,1.0989442917575365,-1.0643318731195037,-1.0643318731195037,0.017306209319016337,-0.5235128319002437,1.6397633329767964,1.0989442917575365,0.017306209319016337,-1.605150914338764,-0.5235128319002437,0.5581252505382764,-1.605150914338764,1.0989442917575365,0.5581252505382764,0.5581252505382764,-1.0643318731195037,0.5581252505382764,1.0989442917575365,0.017306209319016337,0.017306209319016337,1.0989442917575365,0.5581252505382764,0.017306209319016337,0.017306209319016337,1.0989442917575365,-0.5235128319002437,-0.5235128319002437,0.5581252505382764,0.5581252505382764,0.017306209319016337,1.6397633329767964,-0.5235128319002437,0.017306209319016337,1.6397633329767964,-1.605150914338764,-1.605150914338764,0.017306209319016337,-1.605150914338764,0.017306209319016337,-0.5235128319002437,0.017306209319016337,-0.5235128319002437,0.5581252505382764,0.5581252505382764,0.5581252505382764,-1.0643318731195037,-1.0643318731195037,0.017306209319016337,0.5581252505382764,0.5581252505382764,0.5581252505382764,-1.0643318731195037,1.6397633329767964,0.017306209319016337,1.0989442917575365,1.6397633329767964,-0.5235128319002437,-1.605150914338764,-0.5235128319002437,1.0989442917575365,-1.605150914338764,0.5581252505382764,-2.145969955558024,1.0989442917575365,-1.0643318731195037,0.5581252505382764,1.0989442917575365,0.017306209319016337,0.5581252505382764,1.0989442917575365,0.017306209319016337,-0.5235128319002437,0.017306209319016337,-0.5235128319002437,-0.5235128319002437,0.017306209319016337,-1.605150914338764,1.0989442917575365,1.6397633329767964,-1.605150914338764,0.017306209319016337,0.017306209319016337,0.5581252505382764,-0.5235128319002437,0.5581252505382764,-1.0643318731195037,0.017306209319016337,-0.5235128319002437,-0.5235128319002437,-1.0643318731195037,-0.5235128319002437,-1.0643318731195037,1.6397633329767964,1.0989442917575365,-0.5235128319002437,0.017306209319016337,1.6397633329767964,-1.605150914338764,-0.5235128319002437,0.5581252505382764,0.5581252505382764,0.017306209319016337,0.5581252505382764,1.0989442917575365,1.0989442917575365,1.0989442917575365,1.0989442917575365,-1.605150914338764,1.0989442917575365,-0.5235128319002437,0.5581252505382764,1.0989442917575365,0.017306209319016337,-1.605150914338764,-0.5235128319002437,1.6397633329767964,-1.0643318731195037,1.6397633329767964,1.0989442917575365,0.017306209319016337,1.6397633329767964,-0.5235128319002437,1.6397633329767964,-0.5235128319002437,-0.5235128319002437,0.5581252505382764,-0.5235128319002437,-1.605150914338764,-2.145969955558024,-1.605150914338764,-0.5235128319002437,0.017306209319016337,-1.0643318731195037,-1.605150914338764,-1.0643318731195037,-0.5235128319002437,-0.5235128319002437,1.6397633329767964,0.017306209319016337,1.0989442917575365,0.5581252505382764,-0.5235128319002437,0.017306209319016337,1.6397633329767964,1.0989442917575365,0.5581252505382764,1.6397633329767964,-1.0643318731195037,-2.145969955558024,-0.5235128319002437,0.5581252505382764,-1.0643318731195037,0.017306209319016337,0.017306209319016337,1.6397633329767964,-0.5235128319002437,-0.5235128319002437,0.5581252505382764,0.5581252505382764,-0.5235128319002437,0.5581252505382764,-0.5235128319002437,1.0989442917575365,1.0989442917575365,-1.0643318731195037,0.5581252505382764,1.0989442917575365,-0.5235128319002437,-1.0643318731195037,0.5581252505382764,0.017306209319016337,-0.5235128319002437,-0.5235128319002437,1.6397633329767964,-2.145969955558024,1.6397633329767964,1.0989442917575365,0.017306209319016337,0.5581252505382764,0.017306209319016337,-0.5235128319002437,-1.605150914338764,-1.0643318731195037,-1.605150914338764,-0.5235128319002437,-0.5235128319002437,0.017306209319016337,0.017306209319016337,-2.145969955558024,1.6397633329767964,0.017306209319016337,1.0989442917575365,0.5581252505382764,0.017306209319016337,0.5581252505382764,-0.5235128319002437,-0.5235128319002437,0.017306209319016337,-0.5235128319002437,1.0989442917575365,-1.605150914338764,0.5581252505382764,1.6397633329767964,1.6397633329767964,1.6397633329767964,0.017306209319016337,-0.5235128319002437,-1.605150914338764,1.6397633329767964,-1.605150914338764,0.5581252505382764,0.017306209319016337,-1.605150914338764,-0.5235128319002437,0.017306209319016337,-1.605150914338764,1.0989442917575365,1.0989442917575365,1.6397633329767964,1.6397633329767964,-0.5235128319002437,-1.605150914338764,0.017306209319016337,1.6397633329767964,-0.5235128319002437,-0.5235128319002437,1.0989442917575365,1.6397633329767964,-2.145969955558024,0.5581252505382764,0.5581252505382764,-0.5235128319002437,-0.5235128319002437,-0.5235128319002437,1.6397633329767964,1.0989442917575365,1.0989442917575365,1.0989442917575365,-1.605150914338764,0.017306209319016337,1.6397633329767964,1.0989442917575365,-0.5235128319002437,-1.605150914338764,0.5581252505382764,0.017306209319016337]},\"name\":\"LOR \",\"orientation\":\"h\",\"x\":[-0.044183613060534595,-0.006419841213923842,0.031343930632686916,-0.044183613060534595,-0.044183613060534595,-0.006419841213923842,-0.08194738490714536,-0.006419841213923842,-0.044183613060534595,-0.044183613060534595,-0.044183613060534595,-0.11971115675375611,0.06910770247929766,-0.11971115675375611,-0.006419841213923842,0.031343930632686916,-0.006419841213923842,0.031343930632686916,0.031343930632686916,0.1068714743259084,-0.11971115675375611,-0.08194738490714536,0.06910770247929766,-0.006419841213923842,-0.044183613060534595,-0.006419841213923842,-0.044183613060534595,-0.08194738490714536,-0.006419841213923842,-0.044183613060534595,-0.08194738490714536,-0.006419841213923842,-0.08194738490714536,-0.044183613060534595,-0.006419841213923842,-0.006419841213923842,-0.044183613060534595,-0.006419841213923842,0.031343930632686916,0.031343930632686916,-0.15747492860036685,-0.08194738490714536,-0.044183613060534595,-0.15747492860036685,0.031343930632686916,0.031343930632686916,-0.08194738490714536,-0.044183613060534595,0.1068714743259084,-0.08194738490714536,0.1068714743259084,0.06910770247929766,-0.08194738490714536,0.031343930632686916,-0.044183613060534595,0.06910770247929766,-0.006419841213923842,0.1068714743259084,0.06910770247929766,-0.11971115675375611,-0.08194738490714536,-0.006419841213923842,-0.006419841213923842,-0.006419841213923842,0.06910770247929766,-0.044183613060534595,0.031343930632686916,-0.08194738490714536,-0.08194738490714536,0.031343930632686916,0.031343930632686916,-0.08194738490714536,0.031343930632686916,-0.08194738490714536,-0.006419841213923842,0.031343930632686916,0.031343930632686916,-0.044183613060534595,0.031343930632686916,-0.11971115675375611,0.031343930632686916,-0.006419841213923842,0.031343930632686916,0.031343930632686916,0.1068714743259084,-0.11971115675375611,0.031343930632686916,-0.08194738490714536,0.031343930632686916,-0.006419841213923842,-0.044183613060534595,0.031343930632686916,0.06910770247929766,0.031343930632686916,0.031343930632686916,0.031343930632686916,0.1068714743259084,-0.15747492860036685,0.031343930632686916,-0.044183613060534595,-0.006419841213923842,-0.006419841213923842,-0.08194738490714536,0.06910770247929766,0.06910770247929766,-0.08194738490714536,-0.08194738490714536,-0.006419841213923842,-0.044183613060534595,0.1068714743259084,0.06910770247929766,-0.006419841213923842,-0.11971115675375611,-0.044183613060534595,0.031343930632686916,-0.11971115675375611,0.06910770247929766,0.031343930632686916,0.031343930632686916,-0.08194738490714536,0.031343930632686916,0.06910770247929766,-0.006419841213923842,-0.006419841213923842,0.06910770247929766,0.031343930632686916,-0.006419841213923842,-0.006419841213923842,0.06910770247929766,-0.044183613060534595,-0.044183613060534595,0.031343930632686916,0.031343930632686916,-0.006419841213923842,0.1068714743259084,-0.044183613060534595,-0.006419841213923842,0.1068714743259084,-0.11971115675375611,-0.11971115675375611,-0.006419841213923842,-0.11971115675375611,-0.006419841213923842,-0.044183613060534595,-0.006419841213923842,-0.044183613060534595,0.031343930632686916,0.031343930632686916,0.031343930632686916,-0.08194738490714536,-0.08194738490714536,-0.006419841213923842,0.031343930632686916,0.031343930632686916,0.031343930632686916,-0.08194738490714536,0.1068714743259084,-0.006419841213923842,0.06910770247929766,0.1068714743259084,-0.044183613060534595,-0.11971115675375611,-0.044183613060534595,0.06910770247929766,-0.11971115675375611,0.031343930632686916,-0.15747492860036685,0.06910770247929766,-0.08194738490714536,0.031343930632686916,0.06910770247929766,-0.006419841213923842,0.031343930632686916,0.06910770247929766,-0.006419841213923842,-0.044183613060534595,-0.006419841213923842,-0.044183613060534595,-0.044183613060534595,-0.006419841213923842,-0.11971115675375611,0.06910770247929766,0.1068714743259084,-0.11971115675375611,-0.006419841213923842,-0.006419841213923842,0.031343930632686916,-0.044183613060534595,0.031343930632686916,-0.08194738490714536,-0.006419841213923842,-0.044183613060534595,-0.044183613060534595,-0.08194738490714536,-0.044183613060534595,-0.08194738490714536,0.1068714743259084,0.06910770247929766,-0.044183613060534595,-0.006419841213923842,0.1068714743259084,-0.11971115675375611,-0.044183613060534595,0.031343930632686916,0.031343930632686916,-0.006419841213923842,0.031343930632686916,0.06910770247929766,0.06910770247929766,0.06910770247929766,0.06910770247929766,-0.11971115675375611,0.06910770247929766,-0.044183613060534595,0.031343930632686916,0.06910770247929766,-0.006419841213923842,-0.11971115675375611,-0.044183613060534595,0.1068714743259084,-0.08194738490714536,0.1068714743259084,0.06910770247929766,-0.006419841213923842,0.1068714743259084,-0.044183613060534595,0.1068714743259084,-0.044183613060534595,-0.044183613060534595,0.031343930632686916,-0.044183613060534595,-0.11971115675375611,-0.15747492860036685,-0.11971115675375611,-0.044183613060534595,-0.006419841213923842,-0.08194738490714536,-0.11971115675375611,-0.08194738490714536,-0.044183613060534595,-0.044183613060534595,0.1068714743259084,-0.006419841213923842,0.06910770247929766,0.031343930632686916,-0.044183613060534595,-0.006419841213923842,0.1068714743259084,0.06910770247929766,0.031343930632686916,0.1068714743259084,-0.08194738490714536,-0.15747492860036685,-0.044183613060534595,0.031343930632686916,-0.08194738490714536,-0.006419841213923842,-0.006419841213923842,0.1068714743259084,-0.044183613060534595,-0.044183613060534595,0.031343930632686916,0.031343930632686916,-0.044183613060534595,0.031343930632686916,-0.044183613060534595,0.06910770247929766,0.06910770247929766,-0.08194738490714536,0.031343930632686916,0.06910770247929766,-0.044183613060534595,-0.08194738490714536,0.031343930632686916,-0.006419841213923842,-0.044183613060534595,-0.044183613060534595,0.1068714743259084,-0.15747492860036685,0.1068714743259084,0.06910770247929766,-0.006419841213923842,0.031343930632686916,-0.006419841213923842,-0.044183613060534595,-0.11971115675375611,-0.08194738490714536,-0.11971115675375611,-0.044183613060534595,-0.044183613060534595,-0.006419841213923842,-0.006419841213923842,-0.15747492860036685,0.1068714743259084,-0.006419841213923842,0.06910770247929766,0.031343930632686916,-0.006419841213923842,0.031343930632686916,-0.044183613060534595,-0.044183613060534595,-0.006419841213923842,-0.044183613060534595,0.06910770247929766,-0.11971115675375611,0.031343930632686916,0.1068714743259084,0.1068714743259084,0.1068714743259084,-0.006419841213923842,-0.044183613060534595,-0.11971115675375611,0.1068714743259084,-0.11971115675375611,0.031343930632686916,-0.006419841213923842,-0.11971115675375611,-0.044183613060534595,-0.006419841213923842,-0.11971115675375611,0.06910770247929766,0.06910770247929766,0.1068714743259084,0.1068714743259084,-0.044183613060534595,-0.11971115675375611,-0.006419841213923842,0.1068714743259084,-0.044183613060534595,-0.044183613060534595,0.06910770247929766,0.1068714743259084,-0.15747492860036685,0.031343930632686916,0.031343930632686916,-0.044183613060534595,-0.044183613060534595,-0.044183613060534595,0.1068714743259084,0.06910770247929766,0.06910770247929766,0.06910770247929766,-0.11971115675375611,-0.006419841213923842,0.1068714743259084,0.06910770247929766,-0.044183613060534595,-0.11971115675375611,0.031343930632686916,-0.006419841213923842],\"y\":[\"LOR \",\"LOR \",\"LOR \",\"LOR \",\"LOR \",\"LOR \",\"LOR \",\"LOR \",\"LOR \",\"LOR \",\"LOR \",\"LOR \",\"LOR \",\"LOR \",\"LOR \",\"LOR \",\"LOR \",\"LOR \",\"LOR \",\"LOR \",\"LOR \",\"LOR \",\"LOR \",\"LOR \",\"LOR \",\"LOR \",\"LOR \",\"LOR \",\"LOR \",\"LOR \",\"LOR \",\"LOR \",\"LOR \",\"LOR \",\"LOR \",\"LOR \",\"LOR \",\"LOR \",\"LOR \",\"LOR \",\"LOR \",\"LOR \",\"LOR \",\"LOR \",\"LOR \",\"LOR \",\"LOR \",\"LOR \",\"LOR \",\"LOR \",\"LOR \",\"LOR \",\"LOR \",\"LOR \",\"LOR \",\"LOR \",\"LOR \",\"LOR \",\"LOR \",\"LOR \",\"LOR \",\"LOR \",\"LOR \",\"LOR \",\"LOR \",\"LOR \",\"LOR \",\"LOR \",\"LOR \",\"LOR \",\"LOR \",\"LOR \",\"LOR \",\"LOR \",\"LOR \",\"LOR \",\"LOR \",\"LOR \",\"LOR \",\"LOR \",\"LOR \",\"LOR \",\"LOR \",\"LOR \",\"LOR \",\"LOR \",\"LOR \",\"LOR \",\"LOR \",\"LOR \",\"LOR \",\"LOR \",\"LOR \",\"LOR \",\"LOR \",\"LOR \",\"LOR \",\"LOR \",\"LOR \",\"LOR \",\"LOR \",\"LOR \",\"LOR \",\"LOR \",\"LOR \",\"LOR \",\"LOR \",\"LOR \",\"LOR \",\"LOR \",\"LOR \",\"LOR \",\"LOR \",\"LOR \",\"LOR \",\"LOR \",\"LOR \",\"LOR \",\"LOR \",\"LOR \",\"LOR \",\"LOR \",\"LOR \",\"LOR \",\"LOR \",\"LOR \",\"LOR \",\"LOR \",\"LOR \",\"LOR \",\"LOR \",\"LOR \",\"LOR \",\"LOR \",\"LOR \",\"LOR \",\"LOR \",\"LOR \",\"LOR \",\"LOR \",\"LOR \",\"LOR \",\"LOR \",\"LOR \",\"LOR \",\"LOR \",\"LOR \",\"LOR \",\"LOR \",\"LOR \",\"LOR \",\"LOR \",\"LOR \",\"LOR \",\"LOR \",\"LOR \",\"LOR \",\"LOR \",\"LOR \",\"LOR \",\"LOR \",\"LOR \",\"LOR \",\"LOR \",\"LOR \",\"LOR \",\"LOR \",\"LOR \",\"LOR \",\"LOR \",\"LOR \",\"LOR \",\"LOR \",\"LOR \",\"LOR \",\"LOR \",\"LOR \",\"LOR \",\"LOR \",\"LOR \",\"LOR \",\"LOR \",\"LOR \",\"LOR \",\"LOR \",\"LOR \",\"LOR \",\"LOR \",\"LOR \",\"LOR \",\"LOR \",\"LOR \",\"LOR \",\"LOR \",\"LOR \",\"LOR \",\"LOR \",\"LOR \",\"LOR \",\"LOR \",\"LOR \",\"LOR \",\"LOR \",\"LOR \",\"LOR \",\"LOR \",\"LOR \",\"LOR \",\"LOR \",\"LOR \",\"LOR \",\"LOR \",\"LOR \",\"LOR \",\"LOR \",\"LOR \",\"LOR \",\"LOR \",\"LOR \",\"LOR \",\"LOR \",\"LOR \",\"LOR \",\"LOR \",\"LOR \",\"LOR \",\"LOR \",\"LOR \",\"LOR \",\"LOR \",\"LOR \",\"LOR \",\"LOR \",\"LOR \",\"LOR \",\"LOR \",\"LOR \",\"LOR \",\"LOR \",\"LOR \",\"LOR \",\"LOR \",\"LOR \",\"LOR \",\"LOR \",\"LOR \",\"LOR \",\"LOR \",\"LOR \",\"LOR \",\"LOR \",\"LOR \",\"LOR \",\"LOR \",\"LOR \",\"LOR \",\"LOR \",\"LOR \",\"LOR \",\"LOR \",\"LOR \",\"LOR \",\"LOR \",\"LOR \",\"LOR \",\"LOR \",\"LOR \",\"LOR \",\"LOR \",\"LOR \",\"LOR \",\"LOR \",\"LOR \",\"LOR \",\"LOR \",\"LOR \",\"LOR \",\"LOR \",\"LOR \",\"LOR \",\"LOR \",\"LOR \",\"LOR \",\"LOR \",\"LOR \",\"LOR \",\"LOR \",\"LOR \",\"LOR \",\"LOR \",\"LOR \",\"LOR \",\"LOR \",\"LOR \",\"LOR \",\"LOR \",\"LOR \",\"LOR \",\"LOR \",\"LOR \",\"LOR \",\"LOR \",\"LOR \",\"LOR \",\"LOR \",\"LOR \",\"LOR \",\"LOR \",\"LOR \",\"LOR \",\"LOR \",\"LOR \",\"LOR \",\"LOR \",\"LOR \",\"LOR \",\"LOR \",\"LOR \",\"LOR \",\"LOR \",\"LOR \",\"LOR \",\"LOR \",\"LOR \",\"LOR \",\"LOR \",\"LOR \",\"LOR \",\"LOR \",\"LOR \",\"LOR \",\"LOR \",\"LOR \",\"LOR \",\"LOR \",\"LOR \",\"LOR \",\"LOR \",\"LOR \",\"LOR \",\"LOR \",\"LOR \",\"LOR \",\"LOR \",\"LOR \",\"LOR \",\"LOR \",\"LOR \",\"LOR \",\"LOR \"],\"type\":\"bar\"}],                        {\"template\":{\"data\":{\"barpolar\":[{\"marker\":{\"line\":{\"color\":\"rgb(17,17,17)\",\"width\":0.5},\"pattern\":{\"fillmode\":\"overlay\",\"size\":10,\"solidity\":0.2}},\"type\":\"barpolar\"}],\"bar\":[{\"error_x\":{\"color\":\"#f2f5fa\"},\"error_y\":{\"color\":\"#f2f5fa\"},\"marker\":{\"line\":{\"color\":\"rgb(17,17,17)\",\"width\":0.5},\"pattern\":{\"fillmode\":\"overlay\",\"size\":10,\"solidity\":0.2}},\"type\":\"bar\"}],\"carpet\":[{\"aaxis\":{\"endlinecolor\":\"#A2B1C6\",\"gridcolor\":\"#506784\",\"linecolor\":\"#506784\",\"minorgridcolor\":\"#506784\",\"startlinecolor\":\"#A2B1C6\"},\"baxis\":{\"endlinecolor\":\"#A2B1C6\",\"gridcolor\":\"#506784\",\"linecolor\":\"#506784\",\"minorgridcolor\":\"#506784\",\"startlinecolor\":\"#A2B1C6\"},\"type\":\"carpet\"}],\"choropleth\":[{\"colorbar\":{\"outlinewidth\":0,\"ticks\":\"\"},\"type\":\"choropleth\"}],\"contourcarpet\":[{\"colorbar\":{\"outlinewidth\":0,\"ticks\":\"\"},\"type\":\"contourcarpet\"}],\"contour\":[{\"colorbar\":{\"outlinewidth\":0,\"ticks\":\"\"},\"colorscale\":[[0.0,\"#0d0887\"],[0.1111111111111111,\"#46039f\"],[0.2222222222222222,\"#7201a8\"],[0.3333333333333333,\"#9c179e\"],[0.4444444444444444,\"#bd3786\"],[0.5555555555555556,\"#d8576b\"],[0.6666666666666666,\"#ed7953\"],[0.7777777777777778,\"#fb9f3a\"],[0.8888888888888888,\"#fdca26\"],[1.0,\"#f0f921\"]],\"type\":\"contour\"}],\"heatmapgl\":[{\"colorbar\":{\"outlinewidth\":0,\"ticks\":\"\"},\"colorscale\":[[0.0,\"#0d0887\"],[0.1111111111111111,\"#46039f\"],[0.2222222222222222,\"#7201a8\"],[0.3333333333333333,\"#9c179e\"],[0.4444444444444444,\"#bd3786\"],[0.5555555555555556,\"#d8576b\"],[0.6666666666666666,\"#ed7953\"],[0.7777777777777778,\"#fb9f3a\"],[0.8888888888888888,\"#fdca26\"],[1.0,\"#f0f921\"]],\"type\":\"heatmapgl\"}],\"heatmap\":[{\"colorbar\":{\"outlinewidth\":0,\"ticks\":\"\"},\"colorscale\":[[0.0,\"#0d0887\"],[0.1111111111111111,\"#46039f\"],[0.2222222222222222,\"#7201a8\"],[0.3333333333333333,\"#9c179e\"],[0.4444444444444444,\"#bd3786\"],[0.5555555555555556,\"#d8576b\"],[0.6666666666666666,\"#ed7953\"],[0.7777777777777778,\"#fb9f3a\"],[0.8888888888888888,\"#fdca26\"],[1.0,\"#f0f921\"]],\"type\":\"heatmap\"}],\"histogram2dcontour\":[{\"colorbar\":{\"outlinewidth\":0,\"ticks\":\"\"},\"colorscale\":[[0.0,\"#0d0887\"],[0.1111111111111111,\"#46039f\"],[0.2222222222222222,\"#7201a8\"],[0.3333333333333333,\"#9c179e\"],[0.4444444444444444,\"#bd3786\"],[0.5555555555555556,\"#d8576b\"],[0.6666666666666666,\"#ed7953\"],[0.7777777777777778,\"#fb9f3a\"],[0.8888888888888888,\"#fdca26\"],[1.0,\"#f0f921\"]],\"type\":\"histogram2dcontour\"}],\"histogram2d\":[{\"colorbar\":{\"outlinewidth\":0,\"ticks\":\"\"},\"colorscale\":[[0.0,\"#0d0887\"],[0.1111111111111111,\"#46039f\"],[0.2222222222222222,\"#7201a8\"],[0.3333333333333333,\"#9c179e\"],[0.4444444444444444,\"#bd3786\"],[0.5555555555555556,\"#d8576b\"],[0.6666666666666666,\"#ed7953\"],[0.7777777777777778,\"#fb9f3a\"],[0.8888888888888888,\"#fdca26\"],[1.0,\"#f0f921\"]],\"type\":\"histogram2d\"}],\"histogram\":[{\"marker\":{\"pattern\":{\"fillmode\":\"overlay\",\"size\":10,\"solidity\":0.2}},\"type\":\"histogram\"}],\"mesh3d\":[{\"colorbar\":{\"outlinewidth\":0,\"ticks\":\"\"},\"type\":\"mesh3d\"}],\"parcoords\":[{\"line\":{\"colorbar\":{\"outlinewidth\":0,\"ticks\":\"\"}},\"type\":\"parcoords\"}],\"pie\":[{\"automargin\":true,\"type\":\"pie\"}],\"scatter3d\":[{\"line\":{\"colorbar\":{\"outlinewidth\":0,\"ticks\":\"\"}},\"marker\":{\"colorbar\":{\"outlinewidth\":0,\"ticks\":\"\"}},\"type\":\"scatter3d\"}],\"scattercarpet\":[{\"marker\":{\"colorbar\":{\"outlinewidth\":0,\"ticks\":\"\"}},\"type\":\"scattercarpet\"}],\"scattergeo\":[{\"marker\":{\"colorbar\":{\"outlinewidth\":0,\"ticks\":\"\"}},\"type\":\"scattergeo\"}],\"scattergl\":[{\"marker\":{\"line\":{\"color\":\"#283442\"}},\"type\":\"scattergl\"}],\"scattermapbox\":[{\"marker\":{\"colorbar\":{\"outlinewidth\":0,\"ticks\":\"\"}},\"type\":\"scattermapbox\"}],\"scatterpolargl\":[{\"marker\":{\"colorbar\":{\"outlinewidth\":0,\"ticks\":\"\"}},\"type\":\"scatterpolargl\"}],\"scatterpolar\":[{\"marker\":{\"colorbar\":{\"outlinewidth\":0,\"ticks\":\"\"}},\"type\":\"scatterpolar\"}],\"scatter\":[{\"marker\":{\"line\":{\"color\":\"#283442\"}},\"type\":\"scatter\"}],\"scatterternary\":[{\"marker\":{\"colorbar\":{\"outlinewidth\":0,\"ticks\":\"\"}},\"type\":\"scatterternary\"}],\"surface\":[{\"colorbar\":{\"outlinewidth\":0,\"ticks\":\"\"},\"colorscale\":[[0.0,\"#0d0887\"],[0.1111111111111111,\"#46039f\"],[0.2222222222222222,\"#7201a8\"],[0.3333333333333333,\"#9c179e\"],[0.4444444444444444,\"#bd3786\"],[0.5555555555555556,\"#d8576b\"],[0.6666666666666666,\"#ed7953\"],[0.7777777777777778,\"#fb9f3a\"],[0.8888888888888888,\"#fdca26\"],[1.0,\"#f0f921\"]],\"type\":\"surface\"}],\"table\":[{\"cells\":{\"fill\":{\"color\":\"#506784\"},\"line\":{\"color\":\"rgb(17,17,17)\"}},\"header\":{\"fill\":{\"color\":\"#2a3f5f\"},\"line\":{\"color\":\"rgb(17,17,17)\"}},\"type\":\"table\"}]},\"layout\":{\"annotationdefaults\":{\"arrowcolor\":\"#f2f5fa\",\"arrowhead\":0,\"arrowwidth\":1},\"autotypenumbers\":\"strict\",\"coloraxis\":{\"colorbar\":{\"outlinewidth\":0,\"ticks\":\"\"}},\"colorscale\":{\"diverging\":[[0,\"#8e0152\"],[0.1,\"#c51b7d\"],[0.2,\"#de77ae\"],[0.3,\"#f1b6da\"],[0.4,\"#fde0ef\"],[0.5,\"#f7f7f7\"],[0.6,\"#e6f5d0\"],[0.7,\"#b8e186\"],[0.8,\"#7fbc41\"],[0.9,\"#4d9221\"],[1,\"#276419\"]],\"sequential\":[[0.0,\"#0d0887\"],[0.1111111111111111,\"#46039f\"],[0.2222222222222222,\"#7201a8\"],[0.3333333333333333,\"#9c179e\"],[0.4444444444444444,\"#bd3786\"],[0.5555555555555556,\"#d8576b\"],[0.6666666666666666,\"#ed7953\"],[0.7777777777777778,\"#fb9f3a\"],[0.8888888888888888,\"#fdca26\"],[1.0,\"#f0f921\"]],\"sequentialminus\":[[0.0,\"#0d0887\"],[0.1111111111111111,\"#46039f\"],[0.2222222222222222,\"#7201a8\"],[0.3333333333333333,\"#9c179e\"],[0.4444444444444444,\"#bd3786\"],[0.5555555555555556,\"#d8576b\"],[0.6666666666666666,\"#ed7953\"],[0.7777777777777778,\"#fb9f3a\"],[0.8888888888888888,\"#fdca26\"],[1.0,\"#f0f921\"]]},\"colorway\":[\"#636efa\",\"#EF553B\",\"#00cc96\",\"#ab63fa\",\"#FFA15A\",\"#19d3f3\",\"#FF6692\",\"#B6E880\",\"#FF97FF\",\"#FECB52\"],\"font\":{\"color\":\"#f2f5fa\"},\"geo\":{\"bgcolor\":\"rgb(17,17,17)\",\"lakecolor\":\"rgb(17,17,17)\",\"landcolor\":\"rgb(17,17,17)\",\"showlakes\":true,\"showland\":true,\"subunitcolor\":\"#506784\"},\"hoverlabel\":{\"align\":\"left\"},\"hovermode\":\"closest\",\"mapbox\":{\"style\":\"dark\"},\"paper_bgcolor\":\"rgb(17,17,17)\",\"plot_bgcolor\":\"rgb(17,17,17)\",\"polar\":{\"angularaxis\":{\"gridcolor\":\"#506784\",\"linecolor\":\"#506784\",\"ticks\":\"\"},\"bgcolor\":\"rgb(17,17,17)\",\"radialaxis\":{\"gridcolor\":\"#506784\",\"linecolor\":\"#506784\",\"ticks\":\"\"}},\"scene\":{\"xaxis\":{\"backgroundcolor\":\"rgb(17,17,17)\",\"gridcolor\":\"#506784\",\"gridwidth\":2,\"linecolor\":\"#506784\",\"showbackground\":true,\"ticks\":\"\",\"zerolinecolor\":\"#C8D4E3\"},\"yaxis\":{\"backgroundcolor\":\"rgb(17,17,17)\",\"gridcolor\":\"#506784\",\"gridwidth\":2,\"linecolor\":\"#506784\",\"showbackground\":true,\"ticks\":\"\",\"zerolinecolor\":\"#C8D4E3\"},\"zaxis\":{\"backgroundcolor\":\"rgb(17,17,17)\",\"gridcolor\":\"#506784\",\"gridwidth\":2,\"linecolor\":\"#506784\",\"showbackground\":true,\"ticks\":\"\",\"zerolinecolor\":\"#C8D4E3\"}},\"shapedefaults\":{\"line\":{\"color\":\"#f2f5fa\"}},\"sliderdefaults\":{\"bgcolor\":\"#C8D4E3\",\"bordercolor\":\"rgb(17,17,17)\",\"borderwidth\":1,\"tickwidth\":0},\"ternary\":{\"aaxis\":{\"gridcolor\":\"#506784\",\"linecolor\":\"#506784\",\"ticks\":\"\"},\"baxis\":{\"gridcolor\":\"#506784\",\"linecolor\":\"#506784\",\"ticks\":\"\"},\"bgcolor\":\"rgb(17,17,17)\",\"caxis\":{\"gridcolor\":\"#506784\",\"linecolor\":\"#506784\",\"ticks\":\"\"}},\"title\":{\"x\":0.05},\"updatemenudefaults\":{\"bgcolor\":\"#506784\",\"borderwidth\":0},\"xaxis\":{\"automargin\":true,\"gridcolor\":\"#283442\",\"linecolor\":\"#506784\",\"ticks\":\"\",\"title\":{\"standoff\":15},\"zerolinecolor\":\"#283442\",\"zerolinewidth\":2},\"yaxis\":{\"automargin\":true,\"gridcolor\":\"#283442\",\"linecolor\":\"#506784\",\"ticks\":\"\",\"title\":{\"standoff\":15},\"zerolinecolor\":\"#283442\",\"zerolinewidth\":2}}},\"margin\":{\"l\":150,\"r\":20,\"t\":50,\"b\":50},\"xaxis\":{\"title\":{\"text\":\"SHAP Value\",\"font\":{\"size\":14},\"standoff\":25}},\"yaxis\":{\"title\":{\"text\":\"Feature\"}},\"barmode\":\"overlay\",\"height\":700,\"width\":1000,\"font\":{\"color\":\"white\",\"size\":20},\"title\":{\"text\":\"SHAP Summary Plot\"}},                        {\"responsive\": true}                    ).then(function(){\n",
              "                            \n",
              "var gd = document.getElementById('2393dc1f-cf2f-4983-8a5b-fc86b9d32849');\n",
              "var x = new MutationObserver(function (mutations, observer) {{\n",
              "        var display = window.getComputedStyle(gd).display;\n",
              "        if (!display || display === 'none') {{\n",
              "            console.log([gd, 'removed!']);\n",
              "            Plotly.purge(gd);\n",
              "            observer.disconnect();\n",
              "        }}\n",
              "}});\n",
              "\n",
              "// Listen for the removal of the full notebook cells\n",
              "var notebookContainer = gd.closest('#notebook-container');\n",
              "if (notebookContainer) {{\n",
              "    x.observe(notebookContainer, {childList: true});\n",
              "}}\n",
              "\n",
              "// Listen for the clearing of the current output cell\n",
              "var outputEl = gd.closest('.output');\n",
              "if (outputEl) {{\n",
              "    x.observe(outputEl, {childList: true});\n",
              "}}\n",
              "\n",
              "                        })                };                            </script>        </div>\n",
              "</body>\n",
              "</html>"
            ]
          },
          "metadata": {}
        }
      ]
    },
    {
      "cell_type": "markdown",
      "source": [
        "# Neural Net"
      ],
      "metadata": {
        "id": "PjBlDnB9-BZu"
      }
    },
    {
      "cell_type": "code",
      "source": [
        "\n",
        "myNN = aka_nn(X_train, X_test, y_train, y_test,activation)\n",
        "model,scre =myNN.DNN(epoch,num_nodes,dropout_prob,lr,batch_size)\n",
        "y_pred = myNN.predict(model)"
      ],
      "metadata": {
        "colab": {
          "base_uri": "https://localhost:8080/"
        },
        "id": "h-XSCsB5-HST",
        "outputId": "56160b6b-3a8d-4e54-8ae4-a0901e8b8e24"
      },
      "execution_count": 42,
      "outputs": [
        {
          "output_type": "stream",
          "name": "stdout",
          "text": [
            "2 nodes, dropout 0.05, lr 0.01, batch size 2\n",
            "5/5 [==============================] - 0s 3ms/step - loss: 0.0211 - accuracy: 0.0000e+00\n",
            "2 nodes, dropout 0.05, lr 0.01, batch size 4\n",
            "5/5 [==============================] - 0s 3ms/step - loss: 0.0107 - accuracy: 0.0000e+00\n",
            "2 nodes, dropout 0.05, lr 0.1, batch size 2\n",
            "5/5 [==============================] - 1s 4ms/step - loss: 0.0212 - accuracy: 0.0000e+00\n",
            "2 nodes, dropout 0.05, lr 0.1, batch size 4\n",
            "5/5 [==============================] - 0s 4ms/step - loss: 0.0220 - accuracy: 0.0000e+00\n",
            "2 nodes, dropout 0.1, lr 0.01, batch size 2\n",
            "5/5 [==============================] - 0s 3ms/step - loss: 0.0110 - accuracy: 0.0000e+00\n",
            "2 nodes, dropout 0.1, lr 0.01, batch size 4\n",
            "5/5 [==============================] - 0s 5ms/step - loss: 0.0120 - accuracy: 0.0000e+00\n",
            "2 nodes, dropout 0.1, lr 0.1, batch size 2\n",
            "5/5 [==============================] - 0s 5ms/step - loss: 0.0178 - accuracy: 0.0000e+00\n",
            "2 nodes, dropout 0.1, lr 0.1, batch size 4\n",
            "5/5 [==============================] - 0s 5ms/step - loss: 0.0178 - accuracy: 0.0000e+00\n",
            "4 nodes, dropout 0.05, lr 0.01, batch size 2\n",
            "5/5 [==============================] - 0s 4ms/step - loss: 0.0121 - accuracy: 0.0000e+00\n",
            "4 nodes, dropout 0.05, lr 0.01, batch size 4\n",
            "5/5 [==============================] - 0s 4ms/step - loss: 0.0109 - accuracy: 0.0000e+00\n",
            "4 nodes, dropout 0.05, lr 0.1, batch size 2\n",
            "5/5 [==============================] - 0s 3ms/step - loss: 0.0233 - accuracy: 0.0000e+00\n",
            "4 nodes, dropout 0.05, lr 0.1, batch size 4\n",
            "5/5 [==============================] - 0s 3ms/step - loss: 0.0210 - accuracy: 0.0000e+00\n",
            "4 nodes, dropout 0.1, lr 0.01, batch size 2\n",
            "5/5 [==============================] - 0s 3ms/step - loss: 0.0109 - accuracy: 0.0000e+00\n",
            "4 nodes, dropout 0.1, lr 0.01, batch size 4\n",
            "5/5 [==============================] - 0s 3ms/step - loss: 0.0101 - accuracy: 0.0000e+00\n",
            "4 nodes, dropout 0.1, lr 0.1, batch size 2\n",
            "5/5 [==============================] - 0s 3ms/step - loss: 0.0210 - accuracy: 0.0000e+00\n",
            "4 nodes, dropout 0.1, lr 0.1, batch size 4\n",
            "5/5 [==============================] - 0s 4ms/step - loss: 0.0215 - accuracy: 0.0000e+00\n",
            "5/5 [==============================] - 0s 4ms/step - loss: 0.0101 - accuracy: 0.0000e+00\n",
            "5/5 [==============================] - 0s 3ms/step\n"
          ]
        }
      ]
    },
    {
      "cell_type": "code",
      "source": [
        "from sklearn.metrics import r2_score\n",
        "y_pred = model.predict(X_test)\n",
        "print(\"R-squared score (DNN):\", r2_score(y_test, y_pred))"
      ],
      "metadata": {
        "colab": {
          "base_uri": "https://localhost:8080/"
        },
        "id": "m7_AsFnYNAUi",
        "outputId": "95017ce1-666d-46e5-c57c-9552f60f9d71"
      },
      "execution_count": 43,
      "outputs": [
        {
          "output_type": "stream",
          "name": "stdout",
          "text": [
            "5/5 [==============================] - 0s 2ms/step\n",
            "R-squared score (DNN): 0.5139939540601548\n"
          ]
        }
      ]
    },
    {
      "cell_type": "code",
      "source": [
        "aka_plot_shap(clf.best_estimator_, X_train, feat_name).plot_summary_shap().show()"
      ],
      "metadata": {
        "colab": {
          "base_uri": "https://localhost:8080/",
          "height": 717
        },
        "id": "ReoS45q0NJKY",
        "outputId": "a63a1f83-f736-459a-d6d1-e51d77e4df8c"
      },
      "execution_count": 44,
      "outputs": [
        {
          "output_type": "display_data",
          "data": {
            "text/html": [
              "<html>\n",
              "<head><meta charset=\"utf-8\" /></head>\n",
              "<body>\n",
              "    <div>            <script src=\"https://cdnjs.cloudflare.com/ajax/libs/mathjax/2.7.5/MathJax.js?config=TeX-AMS-MML_SVG\"></script><script type=\"text/javascript\">if (window.MathJax && window.MathJax.Hub && window.MathJax.Hub.Config) {window.MathJax.Hub.Config({SVG: {font: \"STIX-Web\"}});}</script>                <script type=\"text/javascript\">window.PlotlyConfig = {MathJaxConfig: 'local'};</script>\n",
              "        <script charset=\"utf-8\" src=\"https://cdn.plot.ly/plotly-2.24.1.min.js\"></script>                <div id=\"52afafc3-e17e-4ad6-a298-18ae19bab1a4\" class=\"plotly-graph-div\" style=\"height:700px; width:1000px;\"></div>            <script type=\"text/javascript\">                                    window.PLOTLYENV=window.PLOTLYENV || {};                                    if (document.getElementById(\"52afafc3-e17e-4ad6-a298-18ae19bab1a4\")) {                    Plotly.newPlot(                        \"52afafc3-e17e-4ad6-a298-18ae19bab1a4\",                        [{\"marker\":{\"color\":[0.8864052604279182,-1.1281521496355325,0.8864052604279182,-1.1281521496355325,-1.1281521496355325,0.8864052604279182,0.8864052604279182,0.8864052604279182,-1.1281521496355325,-1.1281521496355325,-1.1281521496355325,0.8864052604279182,-1.1281521496355325,-1.1281521496355325,0.8864052604279182,-1.1281521496355325,-1.1281521496355325,-1.1281521496355325,0.8864052604279182,0.8864052604279182,-1.1281521496355325,-1.1281521496355325,-1.1281521496355325,-1.1281521496355325,0.8864052604279182,0.8864052604279182,0.8864052604279182,-1.1281521496355325,0.8864052604279182,0.8864052604279182,-1.1281521496355325,0.8864052604279182,0.8864052604279182,0.8864052604279182,-1.1281521496355325,0.8864052604279182,0.8864052604279182,0.8864052604279182,0.8864052604279182,0.8864052604279182,0.8864052604279182,-1.1281521496355325,-1.1281521496355325,-1.1281521496355325,-1.1281521496355325,0.8864052604279182,0.8864052604279182,-1.1281521496355325,0.8864052604279182,-1.1281521496355325,0.8864052604279182,0.8864052604279182,0.8864052604279182,-1.1281521496355325,-1.1281521496355325,-1.1281521496355325,-1.1281521496355325,-1.1281521496355325,0.8864052604279182,-1.1281521496355325,0.8864052604279182,0.8864052604279182,0.8864052604279182,-1.1281521496355325,-1.1281521496355325,-1.1281521496355325,0.8864052604279182,-1.1281521496355325,-1.1281521496355325,0.8864052604279182,0.8864052604279182,-1.1281521496355325,-1.1281521496355325,-1.1281521496355325,-1.1281521496355325,0.8864052604279182,-1.1281521496355325,-1.1281521496355325,0.8864052604279182,-1.1281521496355325,0.8864052604279182,0.8864052604279182,0.8864052604279182,0.8864052604279182,0.8864052604279182,-1.1281521496355325,0.8864052604279182,-1.1281521496355325,0.8864052604279182,-1.1281521496355325,-1.1281521496355325,-1.1281521496355325,-1.1281521496355325,0.8864052604279182,0.8864052604279182,-1.1281521496355325,0.8864052604279182,-1.1281521496355325,-1.1281521496355325,-1.1281521496355325,0.8864052604279182,-1.1281521496355325,0.8864052604279182,-1.1281521496355325,-1.1281521496355325,-1.1281521496355325,-1.1281521496355325,0.8864052604279182,0.8864052604279182,0.8864052604279182,0.8864052604279182,-1.1281521496355325,-1.1281521496355325,-1.1281521496355325,0.8864052604279182,-1.1281521496355325,0.8864052604279182,0.8864052604279182,0.8864052604279182,-1.1281521496355325,-1.1281521496355325,0.8864052604279182,-1.1281521496355325,0.8864052604279182,0.8864052604279182,0.8864052604279182,-1.1281521496355325,0.8864052604279182,0.8864052604279182,0.8864052604279182,0.8864052604279182,-1.1281521496355325,-1.1281521496355325,-1.1281521496355325,0.8864052604279182,-1.1281521496355325,-1.1281521496355325,0.8864052604279182,-1.1281521496355325,-1.1281521496355325,-1.1281521496355325,0.8864052604279182,0.8864052604279182,0.8864052604279182,0.8864052604279182,-1.1281521496355325,0.8864052604279182,0.8864052604279182,-1.1281521496355325,0.8864052604279182,0.8864052604279182,-1.1281521496355325,0.8864052604279182,0.8864052604279182,-1.1281521496355325,-1.1281521496355325,0.8864052604279182,-1.1281521496355325,0.8864052604279182,0.8864052604279182,-1.1281521496355325,-1.1281521496355325,0.8864052604279182,0.8864052604279182,0.8864052604279182,0.8864052604279182,-1.1281521496355325,0.8864052604279182,-1.1281521496355325,0.8864052604279182,-1.1281521496355325,0.8864052604279182,0.8864052604279182,0.8864052604279182,-1.1281521496355325,0.8864052604279182,-1.1281521496355325,0.8864052604279182,0.8864052604279182,-1.1281521496355325,-1.1281521496355325,0.8864052604279182,0.8864052604279182,-1.1281521496355325,0.8864052604279182,0.8864052604279182,-1.1281521496355325,-1.1281521496355325,-1.1281521496355325,-1.1281521496355325,0.8864052604279182,-1.1281521496355325,0.8864052604279182,-1.1281521496355325,-1.1281521496355325,0.8864052604279182,-1.1281521496355325,0.8864052604279182,-1.1281521496355325,0.8864052604279182,-1.1281521496355325,0.8864052604279182,-1.1281521496355325,-1.1281521496355325,-1.1281521496355325,0.8864052604279182,-1.1281521496355325,0.8864052604279182,0.8864052604279182,0.8864052604279182,0.8864052604279182,-1.1281521496355325,0.8864052604279182,-1.1281521496355325,-1.1281521496355325,0.8864052604279182,0.8864052604279182,-1.1281521496355325,0.8864052604279182,0.8864052604279182,0.8864052604279182,0.8864052604279182,-1.1281521496355325,0.8864052604279182,-1.1281521496355325,-1.1281521496355325,0.8864052604279182,0.8864052604279182,0.8864052604279182,0.8864052604279182,0.8864052604279182,-1.1281521496355325,-1.1281521496355325,-1.1281521496355325,-1.1281521496355325,-1.1281521496355325,-1.1281521496355325,0.8864052604279182,-1.1281521496355325,0.8864052604279182,0.8864052604279182,0.8864052604279182,0.8864052604279182,0.8864052604279182,-1.1281521496355325,-1.1281521496355325,0.8864052604279182,0.8864052604279182,0.8864052604279182,0.8864052604279182,0.8864052604279182,-1.1281521496355325,-1.1281521496355325,-1.1281521496355325,0.8864052604279182,-1.1281521496355325,0.8864052604279182,0.8864052604279182,-1.1281521496355325,0.8864052604279182,-1.1281521496355325,-1.1281521496355325,0.8864052604279182,-1.1281521496355325,0.8864052604279182,-1.1281521496355325,0.8864052604279182,0.8864052604279182,0.8864052604279182,0.8864052604279182,0.8864052604279182,0.8864052604279182,0.8864052604279182,0.8864052604279182,0.8864052604279182,0.8864052604279182,-1.1281521496355325,0.8864052604279182,0.8864052604279182,0.8864052604279182,0.8864052604279182,-1.1281521496355325,0.8864052604279182,-1.1281521496355325,0.8864052604279182,-1.1281521496355325,0.8864052604279182,-1.1281521496355325,0.8864052604279182,-1.1281521496355325,-1.1281521496355325,-1.1281521496355325,0.8864052604279182,-1.1281521496355325,0.8864052604279182,0.8864052604279182,0.8864052604279182,0.8864052604279182,0.8864052604279182,0.8864052604279182,0.8864052604279182,-1.1281521496355325,-1.1281521496355325,0.8864052604279182,-1.1281521496355325,0.8864052604279182,0.8864052604279182,0.8864052604279182,0.8864052604279182,0.8864052604279182,-1.1281521496355325,0.8864052604279182,0.8864052604279182,-1.1281521496355325,0.8864052604279182,0.8864052604279182,-1.1281521496355325,-1.1281521496355325,0.8864052604279182,-1.1281521496355325,0.8864052604279182,0.8864052604279182,0.8864052604279182,0.8864052604279182,0.8864052604279182,0.8864052604279182,-1.1281521496355325,0.8864052604279182,-1.1281521496355325,0.8864052604279182,0.8864052604279182,0.8864052604279182,-1.1281521496355325,0.8864052604279182,0.8864052604279182,-1.1281521496355325,0.8864052604279182,0.8864052604279182,0.8864052604279182,0.8864052604279182,0.8864052604279182,-1.1281521496355325,0.8864052604279182,0.8864052604279182,0.8864052604279182,0.8864052604279182,0.8864052604279182,-1.1281521496355325,-1.1281521496355325,-1.1281521496355325]},\"name\":\"Research\",\"orientation\":\"h\",\"x\":[0.05659268166151864,-0.04630310317760615,0.05659268166151864,-0.04630310317760615,-0.04630310317760615,0.05659268166151864,0.05659268166151864,0.05659268166151864,-0.04630310317760615,-0.04630310317760615,-0.04630310317760615,0.05659268166151864,-0.04630310317760615,-0.04630310317760615,0.05659268166151864,-0.04630310317760615,-0.04630310317760615,-0.04630310317760615,0.05659268166151864,0.05659268166151864,-0.04630310317760615,-0.04630310317760615,-0.04630310317760615,-0.04630310317760615,0.05659268166151864,0.05659268166151864,0.05659268166151864,-0.04630310317760615,0.05659268166151864,0.05659268166151864,-0.04630310317760615,0.05659268166151864,0.05659268166151864,0.05659268166151864,-0.04630310317760615,0.05659268166151864,0.05659268166151864,0.05659268166151864,0.05659268166151864,0.05659268166151864,0.05659268166151864,-0.04630310317760615,-0.04630310317760615,-0.04630310317760615,-0.04630310317760615,0.05659268166151864,0.05659268166151864,-0.04630310317760615,0.05659268166151864,-0.04630310317760615,0.05659268166151864,0.05659268166151864,0.05659268166151864,-0.04630310317760615,-0.04630310317760615,-0.04630310317760615,-0.04630310317760615,-0.04630310317760615,0.05659268166151864,-0.04630310317760615,0.05659268166151864,0.05659268166151864,0.05659268166151864,-0.04630310317760615,-0.04630310317760615,-0.04630310317760615,0.05659268166151864,-0.04630310317760615,-0.04630310317760615,0.05659268166151864,0.05659268166151864,-0.04630310317760615,-0.04630310317760615,-0.04630310317760615,-0.04630310317760615,0.05659268166151864,-0.04630310317760615,-0.04630310317760615,0.05659268166151864,-0.04630310317760615,0.05659268166151864,0.05659268166151864,0.05659268166151864,0.05659268166151864,0.05659268166151864,-0.04630310317760615,0.05659268166151864,-0.04630310317760615,0.05659268166151864,-0.04630310317760615,-0.04630310317760615,-0.04630310317760615,-0.04630310317760615,0.05659268166151864,0.05659268166151864,-0.04630310317760615,0.05659268166151864,-0.04630310317760615,-0.04630310317760615,-0.04630310317760615,0.05659268166151864,-0.04630310317760615,0.05659268166151864,-0.04630310317760615,-0.04630310317760615,-0.04630310317760615,-0.04630310317760615,0.05659268166151864,0.05659268166151864,0.05659268166151864,0.05659268166151864,-0.04630310317760615,-0.04630310317760615,-0.04630310317760615,0.05659268166151864,-0.04630310317760615,0.05659268166151864,0.05659268166151864,0.05659268166151864,-0.04630310317760615,-0.04630310317760615,0.05659268166151864,-0.04630310317760615,0.05659268166151864,0.05659268166151864,0.05659268166151864,-0.04630310317760615,0.05659268166151864,0.05659268166151864,0.05659268166151864,0.05659268166151864,-0.04630310317760615,-0.04630310317760615,-0.04630310317760615,0.05659268166151864,-0.04630310317760615,-0.04630310317760615,0.05659268166151864,-0.04630310317760615,-0.04630310317760615,-0.04630310317760615,0.05659268166151864,0.05659268166151864,0.05659268166151864,0.05659268166151864,-0.04630310317760615,0.05659268166151864,0.05659268166151864,-0.04630310317760615,0.05659268166151864,0.05659268166151864,-0.04630310317760615,0.05659268166151864,0.05659268166151864,-0.04630310317760615,-0.04630310317760615,0.05659268166151864,-0.04630310317760615,0.05659268166151864,0.05659268166151864,-0.04630310317760615,-0.04630310317760615,0.05659268166151864,0.05659268166151864,0.05659268166151864,0.05659268166151864,-0.04630310317760615,0.05659268166151864,-0.04630310317760615,0.05659268166151864,-0.04630310317760615,0.05659268166151864,0.05659268166151864,0.05659268166151864,-0.04630310317760615,0.05659268166151864,-0.04630310317760615,0.05659268166151864,0.05659268166151864,-0.04630310317760615,-0.04630310317760615,0.05659268166151864,0.05659268166151864,-0.04630310317760615,0.05659268166151864,0.05659268166151864,-0.04630310317760615,-0.04630310317760615,-0.04630310317760615,-0.04630310317760615,0.05659268166151864,-0.04630310317760615,0.05659268166151864,-0.04630310317760615,-0.04630310317760615,0.05659268166151864,-0.04630310317760615,0.05659268166151864,-0.04630310317760615,0.05659268166151864,-0.04630310317760615,0.05659268166151864,-0.04630310317760615,-0.04630310317760615,-0.04630310317760615,0.05659268166151864,-0.04630310317760615,0.05659268166151864,0.05659268166151864,0.05659268166151864,0.05659268166151864,-0.04630310317760615,0.05659268166151864,-0.04630310317760615,-0.04630310317760615,0.05659268166151864,0.05659268166151864,-0.04630310317760615,0.05659268166151864,0.05659268166151864,0.05659268166151864,0.05659268166151864,-0.04630310317760615,0.05659268166151864,-0.04630310317760615,-0.04630310317760615,0.05659268166151864,0.05659268166151864,0.05659268166151864,0.05659268166151864,0.05659268166151864,-0.04630310317760615,-0.04630310317760615,-0.04630310317760615,-0.04630310317760615,-0.04630310317760615,-0.04630310317760615,0.05659268166151864,-0.04630310317760615,0.05659268166151864,0.05659268166151864,0.05659268166151864,0.05659268166151864,0.05659268166151864,-0.04630310317760615,-0.04630310317760615,0.05659268166151864,0.05659268166151864,0.05659268166151864,0.05659268166151864,0.05659268166151864,-0.04630310317760615,-0.04630310317760615,-0.04630310317760615,0.05659268166151864,-0.04630310317760615,0.05659268166151864,0.05659268166151864,-0.04630310317760615,0.05659268166151864,-0.04630310317760615,-0.04630310317760615,0.05659268166151864,-0.04630310317760615,0.05659268166151864,-0.04630310317760615,0.05659268166151864,0.05659268166151864,0.05659268166151864,0.05659268166151864,0.05659268166151864,0.05659268166151864,0.05659268166151864,0.05659268166151864,0.05659268166151864,0.05659268166151864,-0.04630310317760615,0.05659268166151864,0.05659268166151864,0.05659268166151864,0.05659268166151864,-0.04630310317760615,0.05659268166151864,-0.04630310317760615,0.05659268166151864,-0.04630310317760615,0.05659268166151864,-0.04630310317760615,0.05659268166151864,-0.04630310317760615,-0.04630310317760615,-0.04630310317760615,0.05659268166151864,-0.04630310317760615,0.05659268166151864,0.05659268166151864,0.05659268166151864,0.05659268166151864,0.05659268166151864,0.05659268166151864,0.05659268166151864,-0.04630310317760615,-0.04630310317760615,0.05659268166151864,-0.04630310317760615,0.05659268166151864,0.05659268166151864,0.05659268166151864,0.05659268166151864,0.05659268166151864,-0.04630310317760615,0.05659268166151864,0.05659268166151864,-0.04630310317760615,0.05659268166151864,0.05659268166151864,-0.04630310317760615,-0.04630310317760615,0.05659268166151864,-0.04630310317760615,0.05659268166151864,0.05659268166151864,0.05659268166151864,0.05659268166151864,0.05659268166151864,0.05659268166151864,-0.04630310317760615,0.05659268166151864,-0.04630310317760615,0.05659268166151864,0.05659268166151864,0.05659268166151864,-0.04630310317760615,0.05659268166151864,0.05659268166151864,-0.04630310317760615,0.05659268166151864,0.05659268166151864,0.05659268166151864,0.05659268166151864,0.05659268166151864,-0.04630310317760615,0.05659268166151864,0.05659268166151864,0.05659268166151864,0.05659268166151864,0.05659268166151864,-0.04630310317760615,-0.04630310317760615,-0.04630310317760615],\"y\":[\"Research\",\"Research\",\"Research\",\"Research\",\"Research\",\"Research\",\"Research\",\"Research\",\"Research\",\"Research\",\"Research\",\"Research\",\"Research\",\"Research\",\"Research\",\"Research\",\"Research\",\"Research\",\"Research\",\"Research\",\"Research\",\"Research\",\"Research\",\"Research\",\"Research\",\"Research\",\"Research\",\"Research\",\"Research\",\"Research\",\"Research\",\"Research\",\"Research\",\"Research\",\"Research\",\"Research\",\"Research\",\"Research\",\"Research\",\"Research\",\"Research\",\"Research\",\"Research\",\"Research\",\"Research\",\"Research\",\"Research\",\"Research\",\"Research\",\"Research\",\"Research\",\"Research\",\"Research\",\"Research\",\"Research\",\"Research\",\"Research\",\"Research\",\"Research\",\"Research\",\"Research\",\"Research\",\"Research\",\"Research\",\"Research\",\"Research\",\"Research\",\"Research\",\"Research\",\"Research\",\"Research\",\"Research\",\"Research\",\"Research\",\"Research\",\"Research\",\"Research\",\"Research\",\"Research\",\"Research\",\"Research\",\"Research\",\"Research\",\"Research\",\"Research\",\"Research\",\"Research\",\"Research\",\"Research\",\"Research\",\"Research\",\"Research\",\"Research\",\"Research\",\"Research\",\"Research\",\"Research\",\"Research\",\"Research\",\"Research\",\"Research\",\"Research\",\"Research\",\"Research\",\"Research\",\"Research\",\"Research\",\"Research\",\"Research\",\"Research\",\"Research\",\"Research\",\"Research\",\"Research\",\"Research\",\"Research\",\"Research\",\"Research\",\"Research\",\"Research\",\"Research\",\"Research\",\"Research\",\"Research\",\"Research\",\"Research\",\"Research\",\"Research\",\"Research\",\"Research\",\"Research\",\"Research\",\"Research\",\"Research\",\"Research\",\"Research\",\"Research\",\"Research\",\"Research\",\"Research\",\"Research\",\"Research\",\"Research\",\"Research\",\"Research\",\"Research\",\"Research\",\"Research\",\"Research\",\"Research\",\"Research\",\"Research\",\"Research\",\"Research\",\"Research\",\"Research\",\"Research\",\"Research\",\"Research\",\"Research\",\"Research\",\"Research\",\"Research\",\"Research\",\"Research\",\"Research\",\"Research\",\"Research\",\"Research\",\"Research\",\"Research\",\"Research\",\"Research\",\"Research\",\"Research\",\"Research\",\"Research\",\"Research\",\"Research\",\"Research\",\"Research\",\"Research\",\"Research\",\"Research\",\"Research\",\"Research\",\"Research\",\"Research\",\"Research\",\"Research\",\"Research\",\"Research\",\"Research\",\"Research\",\"Research\",\"Research\",\"Research\",\"Research\",\"Research\",\"Research\",\"Research\",\"Research\",\"Research\",\"Research\",\"Research\",\"Research\",\"Research\",\"Research\",\"Research\",\"Research\",\"Research\",\"Research\",\"Research\",\"Research\",\"Research\",\"Research\",\"Research\",\"Research\",\"Research\",\"Research\",\"Research\",\"Research\",\"Research\",\"Research\",\"Research\",\"Research\",\"Research\",\"Research\",\"Research\",\"Research\",\"Research\",\"Research\",\"Research\",\"Research\",\"Research\",\"Research\",\"Research\",\"Research\",\"Research\",\"Research\",\"Research\",\"Research\",\"Research\",\"Research\",\"Research\",\"Research\",\"Research\",\"Research\",\"Research\",\"Research\",\"Research\",\"Research\",\"Research\",\"Research\",\"Research\",\"Research\",\"Research\",\"Research\",\"Research\",\"Research\",\"Research\",\"Research\",\"Research\",\"Research\",\"Research\",\"Research\",\"Research\",\"Research\",\"Research\",\"Research\",\"Research\",\"Research\",\"Research\",\"Research\",\"Research\",\"Research\",\"Research\",\"Research\",\"Research\",\"Research\",\"Research\",\"Research\",\"Research\",\"Research\",\"Research\",\"Research\",\"Research\",\"Research\",\"Research\",\"Research\",\"Research\",\"Research\",\"Research\",\"Research\",\"Research\",\"Research\",\"Research\",\"Research\",\"Research\",\"Research\",\"Research\",\"Research\",\"Research\",\"Research\",\"Research\",\"Research\",\"Research\",\"Research\",\"Research\",\"Research\",\"Research\",\"Research\",\"Research\",\"Research\",\"Research\",\"Research\",\"Research\",\"Research\",\"Research\",\"Research\",\"Research\",\"Research\",\"Research\",\"Research\",\"Research\",\"Research\",\"Research\",\"Research\",\"Research\",\"Research\",\"Research\",\"Research\",\"Research\",\"Research\",\"Research\",\"Research\",\"Research\",\"Research\",\"Research\",\"Research\",\"Research\",\"Research\",\"Research\",\"Research\",\"Research\",\"Research\",\"Research\",\"Research\",\"Research\",\"Research\"],\"type\":\"bar\"},{\"marker\":{\"color\":[-0.5235128319002437,0.017306209319016337,0.5581252505382764,-0.5235128319002437,-0.5235128319002437,0.017306209319016337,-1.0643318731195037,0.017306209319016337,-0.5235128319002437,-0.5235128319002437,-0.5235128319002437,-1.605150914338764,1.0989442917575365,-1.605150914338764,0.017306209319016337,0.5581252505382764,0.017306209319016337,0.5581252505382764,0.5581252505382764,1.6397633329767964,-1.605150914338764,-1.0643318731195037,1.0989442917575365,0.017306209319016337,-0.5235128319002437,0.017306209319016337,-0.5235128319002437,-1.0643318731195037,0.017306209319016337,-0.5235128319002437,-1.0643318731195037,0.017306209319016337,-1.0643318731195037,-0.5235128319002437,0.017306209319016337,0.017306209319016337,-0.5235128319002437,0.017306209319016337,0.5581252505382764,0.5581252505382764,-2.145969955558024,-1.0643318731195037,-0.5235128319002437,-2.145969955558024,0.5581252505382764,0.5581252505382764,-1.0643318731195037,-0.5235128319002437,1.6397633329767964,-1.0643318731195037,1.6397633329767964,1.0989442917575365,-1.0643318731195037,0.5581252505382764,-0.5235128319002437,1.0989442917575365,0.017306209319016337,1.6397633329767964,1.0989442917575365,-1.605150914338764,-1.0643318731195037,0.017306209319016337,0.017306209319016337,0.017306209319016337,1.0989442917575365,-0.5235128319002437,0.5581252505382764,-1.0643318731195037,-1.0643318731195037,0.5581252505382764,0.5581252505382764,-1.0643318731195037,0.5581252505382764,-1.0643318731195037,0.017306209319016337,0.5581252505382764,0.5581252505382764,-0.5235128319002437,0.5581252505382764,-1.605150914338764,0.5581252505382764,0.017306209319016337,0.5581252505382764,0.5581252505382764,1.6397633329767964,-1.605150914338764,0.5581252505382764,-1.0643318731195037,0.5581252505382764,0.017306209319016337,-0.5235128319002437,0.5581252505382764,1.0989442917575365,0.5581252505382764,0.5581252505382764,0.5581252505382764,1.6397633329767964,-2.145969955558024,0.5581252505382764,-0.5235128319002437,0.017306209319016337,0.017306209319016337,-1.0643318731195037,1.0989442917575365,1.0989442917575365,-1.0643318731195037,-1.0643318731195037,0.017306209319016337,-0.5235128319002437,1.6397633329767964,1.0989442917575365,0.017306209319016337,-1.605150914338764,-0.5235128319002437,0.5581252505382764,-1.605150914338764,1.0989442917575365,0.5581252505382764,0.5581252505382764,-1.0643318731195037,0.5581252505382764,1.0989442917575365,0.017306209319016337,0.017306209319016337,1.0989442917575365,0.5581252505382764,0.017306209319016337,0.017306209319016337,1.0989442917575365,-0.5235128319002437,-0.5235128319002437,0.5581252505382764,0.5581252505382764,0.017306209319016337,1.6397633329767964,-0.5235128319002437,0.017306209319016337,1.6397633329767964,-1.605150914338764,-1.605150914338764,0.017306209319016337,-1.605150914338764,0.017306209319016337,-0.5235128319002437,0.017306209319016337,-0.5235128319002437,0.5581252505382764,0.5581252505382764,0.5581252505382764,-1.0643318731195037,-1.0643318731195037,0.017306209319016337,0.5581252505382764,0.5581252505382764,0.5581252505382764,-1.0643318731195037,1.6397633329767964,0.017306209319016337,1.0989442917575365,1.6397633329767964,-0.5235128319002437,-1.605150914338764,-0.5235128319002437,1.0989442917575365,-1.605150914338764,0.5581252505382764,-2.145969955558024,1.0989442917575365,-1.0643318731195037,0.5581252505382764,1.0989442917575365,0.017306209319016337,0.5581252505382764,1.0989442917575365,0.017306209319016337,-0.5235128319002437,0.017306209319016337,-0.5235128319002437,-0.5235128319002437,0.017306209319016337,-1.605150914338764,1.0989442917575365,1.6397633329767964,-1.605150914338764,0.017306209319016337,0.017306209319016337,0.5581252505382764,-0.5235128319002437,0.5581252505382764,-1.0643318731195037,0.017306209319016337,-0.5235128319002437,-0.5235128319002437,-1.0643318731195037,-0.5235128319002437,-1.0643318731195037,1.6397633329767964,1.0989442917575365,-0.5235128319002437,0.017306209319016337,1.6397633329767964,-1.605150914338764,-0.5235128319002437,0.5581252505382764,0.5581252505382764,0.017306209319016337,0.5581252505382764,1.0989442917575365,1.0989442917575365,1.0989442917575365,1.0989442917575365,-1.605150914338764,1.0989442917575365,-0.5235128319002437,0.5581252505382764,1.0989442917575365,0.017306209319016337,-1.605150914338764,-0.5235128319002437,1.6397633329767964,-1.0643318731195037,1.6397633329767964,1.0989442917575365,0.017306209319016337,1.6397633329767964,-0.5235128319002437,1.6397633329767964,-0.5235128319002437,-0.5235128319002437,0.5581252505382764,-0.5235128319002437,-1.605150914338764,-2.145969955558024,-1.605150914338764,-0.5235128319002437,0.017306209319016337,-1.0643318731195037,-1.605150914338764,-1.0643318731195037,-0.5235128319002437,-0.5235128319002437,1.6397633329767964,0.017306209319016337,1.0989442917575365,0.5581252505382764,-0.5235128319002437,0.017306209319016337,1.6397633329767964,1.0989442917575365,0.5581252505382764,1.6397633329767964,-1.0643318731195037,-2.145969955558024,-0.5235128319002437,0.5581252505382764,-1.0643318731195037,0.017306209319016337,0.017306209319016337,1.6397633329767964,-0.5235128319002437,-0.5235128319002437,0.5581252505382764,0.5581252505382764,-0.5235128319002437,0.5581252505382764,-0.5235128319002437,1.0989442917575365,1.0989442917575365,-1.0643318731195037,0.5581252505382764,1.0989442917575365,-0.5235128319002437,-1.0643318731195037,0.5581252505382764,0.017306209319016337,-0.5235128319002437,-0.5235128319002437,1.6397633329767964,-2.145969955558024,1.6397633329767964,1.0989442917575365,0.017306209319016337,0.5581252505382764,0.017306209319016337,-0.5235128319002437,-1.605150914338764,-1.0643318731195037,-1.605150914338764,-0.5235128319002437,-0.5235128319002437,0.017306209319016337,0.017306209319016337,-2.145969955558024,1.6397633329767964,0.017306209319016337,1.0989442917575365,0.5581252505382764,0.017306209319016337,0.5581252505382764,-0.5235128319002437,-0.5235128319002437,0.017306209319016337,-0.5235128319002437,1.0989442917575365,-1.605150914338764,0.5581252505382764,1.6397633329767964,1.6397633329767964,1.6397633329767964,0.017306209319016337,-0.5235128319002437,-1.605150914338764,1.6397633329767964,-1.605150914338764,0.5581252505382764,0.017306209319016337,-1.605150914338764,-0.5235128319002437,0.017306209319016337,-1.605150914338764,1.0989442917575365,1.0989442917575365,1.6397633329767964,1.6397633329767964,-0.5235128319002437,-1.605150914338764,0.017306209319016337,1.6397633329767964,-0.5235128319002437,-0.5235128319002437,1.0989442917575365,1.6397633329767964,-2.145969955558024,0.5581252505382764,0.5581252505382764,-0.5235128319002437,-0.5235128319002437,-0.5235128319002437,1.6397633329767964,1.0989442917575365,1.0989442917575365,1.0989442917575365,-1.605150914338764,0.017306209319016337,1.6397633329767964,1.0989442917575365,-0.5235128319002437,-1.605150914338764,0.5581252505382764,0.017306209319016337]},\"name\":\"LOR \",\"orientation\":\"h\",\"x\":[-0.044183613060534595,-0.006419841213923842,0.031343930632686916,-0.044183613060534595,-0.044183613060534595,-0.006419841213923842,-0.08194738490714536,-0.006419841213923842,-0.044183613060534595,-0.044183613060534595,-0.044183613060534595,-0.11971115675375611,0.06910770247929766,-0.11971115675375611,-0.006419841213923842,0.031343930632686916,-0.006419841213923842,0.031343930632686916,0.031343930632686916,0.1068714743259084,-0.11971115675375611,-0.08194738490714536,0.06910770247929766,-0.006419841213923842,-0.044183613060534595,-0.006419841213923842,-0.044183613060534595,-0.08194738490714536,-0.006419841213923842,-0.044183613060534595,-0.08194738490714536,-0.006419841213923842,-0.08194738490714536,-0.044183613060534595,-0.006419841213923842,-0.006419841213923842,-0.044183613060534595,-0.006419841213923842,0.031343930632686916,0.031343930632686916,-0.15747492860036685,-0.08194738490714536,-0.044183613060534595,-0.15747492860036685,0.031343930632686916,0.031343930632686916,-0.08194738490714536,-0.044183613060534595,0.1068714743259084,-0.08194738490714536,0.1068714743259084,0.06910770247929766,-0.08194738490714536,0.031343930632686916,-0.044183613060534595,0.06910770247929766,-0.006419841213923842,0.1068714743259084,0.06910770247929766,-0.11971115675375611,-0.08194738490714536,-0.006419841213923842,-0.006419841213923842,-0.006419841213923842,0.06910770247929766,-0.044183613060534595,0.031343930632686916,-0.08194738490714536,-0.08194738490714536,0.031343930632686916,0.031343930632686916,-0.08194738490714536,0.031343930632686916,-0.08194738490714536,-0.006419841213923842,0.031343930632686916,0.031343930632686916,-0.044183613060534595,0.031343930632686916,-0.11971115675375611,0.031343930632686916,-0.006419841213923842,0.031343930632686916,0.031343930632686916,0.1068714743259084,-0.11971115675375611,0.031343930632686916,-0.08194738490714536,0.031343930632686916,-0.006419841213923842,-0.044183613060534595,0.031343930632686916,0.06910770247929766,0.031343930632686916,0.031343930632686916,0.031343930632686916,0.1068714743259084,-0.15747492860036685,0.031343930632686916,-0.044183613060534595,-0.006419841213923842,-0.006419841213923842,-0.08194738490714536,0.06910770247929766,0.06910770247929766,-0.08194738490714536,-0.08194738490714536,-0.006419841213923842,-0.044183613060534595,0.1068714743259084,0.06910770247929766,-0.006419841213923842,-0.11971115675375611,-0.044183613060534595,0.031343930632686916,-0.11971115675375611,0.06910770247929766,0.031343930632686916,0.031343930632686916,-0.08194738490714536,0.031343930632686916,0.06910770247929766,-0.006419841213923842,-0.006419841213923842,0.06910770247929766,0.031343930632686916,-0.006419841213923842,-0.006419841213923842,0.06910770247929766,-0.044183613060534595,-0.044183613060534595,0.031343930632686916,0.031343930632686916,-0.006419841213923842,0.1068714743259084,-0.044183613060534595,-0.006419841213923842,0.1068714743259084,-0.11971115675375611,-0.11971115675375611,-0.006419841213923842,-0.11971115675375611,-0.006419841213923842,-0.044183613060534595,-0.006419841213923842,-0.044183613060534595,0.031343930632686916,0.031343930632686916,0.031343930632686916,-0.08194738490714536,-0.08194738490714536,-0.006419841213923842,0.031343930632686916,0.031343930632686916,0.031343930632686916,-0.08194738490714536,0.1068714743259084,-0.006419841213923842,0.06910770247929766,0.1068714743259084,-0.044183613060534595,-0.11971115675375611,-0.044183613060534595,0.06910770247929766,-0.11971115675375611,0.031343930632686916,-0.15747492860036685,0.06910770247929766,-0.08194738490714536,0.031343930632686916,0.06910770247929766,-0.006419841213923842,0.031343930632686916,0.06910770247929766,-0.006419841213923842,-0.044183613060534595,-0.006419841213923842,-0.044183613060534595,-0.044183613060534595,-0.006419841213923842,-0.11971115675375611,0.06910770247929766,0.1068714743259084,-0.11971115675375611,-0.006419841213923842,-0.006419841213923842,0.031343930632686916,-0.044183613060534595,0.031343930632686916,-0.08194738490714536,-0.006419841213923842,-0.044183613060534595,-0.044183613060534595,-0.08194738490714536,-0.044183613060534595,-0.08194738490714536,0.1068714743259084,0.06910770247929766,-0.044183613060534595,-0.006419841213923842,0.1068714743259084,-0.11971115675375611,-0.044183613060534595,0.031343930632686916,0.031343930632686916,-0.006419841213923842,0.031343930632686916,0.06910770247929766,0.06910770247929766,0.06910770247929766,0.06910770247929766,-0.11971115675375611,0.06910770247929766,-0.044183613060534595,0.031343930632686916,0.06910770247929766,-0.006419841213923842,-0.11971115675375611,-0.044183613060534595,0.1068714743259084,-0.08194738490714536,0.1068714743259084,0.06910770247929766,-0.006419841213923842,0.1068714743259084,-0.044183613060534595,0.1068714743259084,-0.044183613060534595,-0.044183613060534595,0.031343930632686916,-0.044183613060534595,-0.11971115675375611,-0.15747492860036685,-0.11971115675375611,-0.044183613060534595,-0.006419841213923842,-0.08194738490714536,-0.11971115675375611,-0.08194738490714536,-0.044183613060534595,-0.044183613060534595,0.1068714743259084,-0.006419841213923842,0.06910770247929766,0.031343930632686916,-0.044183613060534595,-0.006419841213923842,0.1068714743259084,0.06910770247929766,0.031343930632686916,0.1068714743259084,-0.08194738490714536,-0.15747492860036685,-0.044183613060534595,0.031343930632686916,-0.08194738490714536,-0.006419841213923842,-0.006419841213923842,0.1068714743259084,-0.044183613060534595,-0.044183613060534595,0.031343930632686916,0.031343930632686916,-0.044183613060534595,0.031343930632686916,-0.044183613060534595,0.06910770247929766,0.06910770247929766,-0.08194738490714536,0.031343930632686916,0.06910770247929766,-0.044183613060534595,-0.08194738490714536,0.031343930632686916,-0.006419841213923842,-0.044183613060534595,-0.044183613060534595,0.1068714743259084,-0.15747492860036685,0.1068714743259084,0.06910770247929766,-0.006419841213923842,0.031343930632686916,-0.006419841213923842,-0.044183613060534595,-0.11971115675375611,-0.08194738490714536,-0.11971115675375611,-0.044183613060534595,-0.044183613060534595,-0.006419841213923842,-0.006419841213923842,-0.15747492860036685,0.1068714743259084,-0.006419841213923842,0.06910770247929766,0.031343930632686916,-0.006419841213923842,0.031343930632686916,-0.044183613060534595,-0.044183613060534595,-0.006419841213923842,-0.044183613060534595,0.06910770247929766,-0.11971115675375611,0.031343930632686916,0.1068714743259084,0.1068714743259084,0.1068714743259084,-0.006419841213923842,-0.044183613060534595,-0.11971115675375611,0.1068714743259084,-0.11971115675375611,0.031343930632686916,-0.006419841213923842,-0.11971115675375611,-0.044183613060534595,-0.006419841213923842,-0.11971115675375611,0.06910770247929766,0.06910770247929766,0.1068714743259084,0.1068714743259084,-0.044183613060534595,-0.11971115675375611,-0.006419841213923842,0.1068714743259084,-0.044183613060534595,-0.044183613060534595,0.06910770247929766,0.1068714743259084,-0.15747492860036685,0.031343930632686916,0.031343930632686916,-0.044183613060534595,-0.044183613060534595,-0.044183613060534595,0.1068714743259084,0.06910770247929766,0.06910770247929766,0.06910770247929766,-0.11971115675375611,-0.006419841213923842,0.1068714743259084,0.06910770247929766,-0.044183613060534595,-0.11971115675375611,0.031343930632686916,-0.006419841213923842],\"y\":[\"LOR \",\"LOR \",\"LOR \",\"LOR \",\"LOR \",\"LOR \",\"LOR \",\"LOR \",\"LOR \",\"LOR \",\"LOR \",\"LOR \",\"LOR \",\"LOR \",\"LOR \",\"LOR \",\"LOR \",\"LOR \",\"LOR \",\"LOR \",\"LOR \",\"LOR \",\"LOR \",\"LOR \",\"LOR \",\"LOR \",\"LOR \",\"LOR \",\"LOR \",\"LOR \",\"LOR \",\"LOR \",\"LOR \",\"LOR \",\"LOR \",\"LOR \",\"LOR \",\"LOR \",\"LOR \",\"LOR \",\"LOR \",\"LOR \",\"LOR \",\"LOR \",\"LOR \",\"LOR \",\"LOR \",\"LOR \",\"LOR \",\"LOR \",\"LOR \",\"LOR \",\"LOR \",\"LOR \",\"LOR \",\"LOR \",\"LOR \",\"LOR \",\"LOR \",\"LOR \",\"LOR \",\"LOR \",\"LOR \",\"LOR \",\"LOR \",\"LOR \",\"LOR \",\"LOR \",\"LOR \",\"LOR \",\"LOR \",\"LOR \",\"LOR \",\"LOR \",\"LOR \",\"LOR \",\"LOR \",\"LOR \",\"LOR \",\"LOR \",\"LOR \",\"LOR \",\"LOR \",\"LOR \",\"LOR \",\"LOR \",\"LOR \",\"LOR \",\"LOR \",\"LOR \",\"LOR \",\"LOR \",\"LOR \",\"LOR \",\"LOR \",\"LOR \",\"LOR \",\"LOR \",\"LOR \",\"LOR \",\"LOR \",\"LOR \",\"LOR \",\"LOR \",\"LOR \",\"LOR \",\"LOR \",\"LOR \",\"LOR \",\"LOR \",\"LOR \",\"LOR \",\"LOR \",\"LOR \",\"LOR \",\"LOR \",\"LOR \",\"LOR \",\"LOR \",\"LOR \",\"LOR \",\"LOR \",\"LOR \",\"LOR \",\"LOR \",\"LOR \",\"LOR \",\"LOR \",\"LOR \",\"LOR \",\"LOR \",\"LOR \",\"LOR \",\"LOR \",\"LOR \",\"LOR \",\"LOR \",\"LOR \",\"LOR \",\"LOR \",\"LOR \",\"LOR \",\"LOR \",\"LOR \",\"LOR \",\"LOR \",\"LOR \",\"LOR \",\"LOR \",\"LOR \",\"LOR \",\"LOR \",\"LOR \",\"LOR \",\"LOR \",\"LOR \",\"LOR \",\"LOR \",\"LOR \",\"LOR \",\"LOR \",\"LOR \",\"LOR \",\"LOR \",\"LOR \",\"LOR \",\"LOR \",\"LOR \",\"LOR \",\"LOR \",\"LOR \",\"LOR \",\"LOR \",\"LOR \",\"LOR \",\"LOR \",\"LOR \",\"LOR \",\"LOR \",\"LOR \",\"LOR \",\"LOR \",\"LOR \",\"LOR \",\"LOR \",\"LOR \",\"LOR \",\"LOR \",\"LOR \",\"LOR \",\"LOR \",\"LOR \",\"LOR \",\"LOR \",\"LOR \",\"LOR \",\"LOR \",\"LOR \",\"LOR \",\"LOR \",\"LOR \",\"LOR \",\"LOR \",\"LOR \",\"LOR \",\"LOR \",\"LOR \",\"LOR \",\"LOR \",\"LOR \",\"LOR \",\"LOR \",\"LOR \",\"LOR \",\"LOR \",\"LOR \",\"LOR \",\"LOR \",\"LOR \",\"LOR \",\"LOR \",\"LOR \",\"LOR \",\"LOR \",\"LOR \",\"LOR \",\"LOR \",\"LOR \",\"LOR \",\"LOR \",\"LOR \",\"LOR \",\"LOR \",\"LOR \",\"LOR \",\"LOR \",\"LOR \",\"LOR \",\"LOR \",\"LOR \",\"LOR \",\"LOR \",\"LOR \",\"LOR \",\"LOR \",\"LOR \",\"LOR \",\"LOR \",\"LOR \",\"LOR \",\"LOR \",\"LOR \",\"LOR \",\"LOR \",\"LOR \",\"LOR \",\"LOR \",\"LOR \",\"LOR \",\"LOR \",\"LOR \",\"LOR \",\"LOR \",\"LOR \",\"LOR \",\"LOR \",\"LOR \",\"LOR \",\"LOR \",\"LOR \",\"LOR \",\"LOR \",\"LOR \",\"LOR \",\"LOR \",\"LOR \",\"LOR \",\"LOR \",\"LOR \",\"LOR \",\"LOR \",\"LOR \",\"LOR \",\"LOR \",\"LOR \",\"LOR \",\"LOR \",\"LOR \",\"LOR \",\"LOR \",\"LOR \",\"LOR \",\"LOR \",\"LOR \",\"LOR \",\"LOR \",\"LOR \",\"LOR \",\"LOR \",\"LOR \",\"LOR \",\"LOR \",\"LOR \",\"LOR \",\"LOR \",\"LOR \",\"LOR \",\"LOR \",\"LOR \",\"LOR \",\"LOR \",\"LOR \",\"LOR \",\"LOR \",\"LOR \",\"LOR \",\"LOR \",\"LOR \",\"LOR \",\"LOR \",\"LOR \",\"LOR \",\"LOR \",\"LOR \",\"LOR \",\"LOR \",\"LOR \",\"LOR \",\"LOR \",\"LOR \",\"LOR \",\"LOR \",\"LOR \",\"LOR \",\"LOR \",\"LOR \",\"LOR \",\"LOR \",\"LOR \",\"LOR \",\"LOR \",\"LOR \",\"LOR \",\"LOR \",\"LOR \",\"LOR \",\"LOR \",\"LOR \",\"LOR \",\"LOR \"],\"type\":\"bar\"}],                        {\"template\":{\"data\":{\"barpolar\":[{\"marker\":{\"line\":{\"color\":\"rgb(17,17,17)\",\"width\":0.5},\"pattern\":{\"fillmode\":\"overlay\",\"size\":10,\"solidity\":0.2}},\"type\":\"barpolar\"}],\"bar\":[{\"error_x\":{\"color\":\"#f2f5fa\"},\"error_y\":{\"color\":\"#f2f5fa\"},\"marker\":{\"line\":{\"color\":\"rgb(17,17,17)\",\"width\":0.5},\"pattern\":{\"fillmode\":\"overlay\",\"size\":10,\"solidity\":0.2}},\"type\":\"bar\"}],\"carpet\":[{\"aaxis\":{\"endlinecolor\":\"#A2B1C6\",\"gridcolor\":\"#506784\",\"linecolor\":\"#506784\",\"minorgridcolor\":\"#506784\",\"startlinecolor\":\"#A2B1C6\"},\"baxis\":{\"endlinecolor\":\"#A2B1C6\",\"gridcolor\":\"#506784\",\"linecolor\":\"#506784\",\"minorgridcolor\":\"#506784\",\"startlinecolor\":\"#A2B1C6\"},\"type\":\"carpet\"}],\"choropleth\":[{\"colorbar\":{\"outlinewidth\":0,\"ticks\":\"\"},\"type\":\"choropleth\"}],\"contourcarpet\":[{\"colorbar\":{\"outlinewidth\":0,\"ticks\":\"\"},\"type\":\"contourcarpet\"}],\"contour\":[{\"colorbar\":{\"outlinewidth\":0,\"ticks\":\"\"},\"colorscale\":[[0.0,\"#0d0887\"],[0.1111111111111111,\"#46039f\"],[0.2222222222222222,\"#7201a8\"],[0.3333333333333333,\"#9c179e\"],[0.4444444444444444,\"#bd3786\"],[0.5555555555555556,\"#d8576b\"],[0.6666666666666666,\"#ed7953\"],[0.7777777777777778,\"#fb9f3a\"],[0.8888888888888888,\"#fdca26\"],[1.0,\"#f0f921\"]],\"type\":\"contour\"}],\"heatmapgl\":[{\"colorbar\":{\"outlinewidth\":0,\"ticks\":\"\"},\"colorscale\":[[0.0,\"#0d0887\"],[0.1111111111111111,\"#46039f\"],[0.2222222222222222,\"#7201a8\"],[0.3333333333333333,\"#9c179e\"],[0.4444444444444444,\"#bd3786\"],[0.5555555555555556,\"#d8576b\"],[0.6666666666666666,\"#ed7953\"],[0.7777777777777778,\"#fb9f3a\"],[0.8888888888888888,\"#fdca26\"],[1.0,\"#f0f921\"]],\"type\":\"heatmapgl\"}],\"heatmap\":[{\"colorbar\":{\"outlinewidth\":0,\"ticks\":\"\"},\"colorscale\":[[0.0,\"#0d0887\"],[0.1111111111111111,\"#46039f\"],[0.2222222222222222,\"#7201a8\"],[0.3333333333333333,\"#9c179e\"],[0.4444444444444444,\"#bd3786\"],[0.5555555555555556,\"#d8576b\"],[0.6666666666666666,\"#ed7953\"],[0.7777777777777778,\"#fb9f3a\"],[0.8888888888888888,\"#fdca26\"],[1.0,\"#f0f921\"]],\"type\":\"heatmap\"}],\"histogram2dcontour\":[{\"colorbar\":{\"outlinewidth\":0,\"ticks\":\"\"},\"colorscale\":[[0.0,\"#0d0887\"],[0.1111111111111111,\"#46039f\"],[0.2222222222222222,\"#7201a8\"],[0.3333333333333333,\"#9c179e\"],[0.4444444444444444,\"#bd3786\"],[0.5555555555555556,\"#d8576b\"],[0.6666666666666666,\"#ed7953\"],[0.7777777777777778,\"#fb9f3a\"],[0.8888888888888888,\"#fdca26\"],[1.0,\"#f0f921\"]],\"type\":\"histogram2dcontour\"}],\"histogram2d\":[{\"colorbar\":{\"outlinewidth\":0,\"ticks\":\"\"},\"colorscale\":[[0.0,\"#0d0887\"],[0.1111111111111111,\"#46039f\"],[0.2222222222222222,\"#7201a8\"],[0.3333333333333333,\"#9c179e\"],[0.4444444444444444,\"#bd3786\"],[0.5555555555555556,\"#d8576b\"],[0.6666666666666666,\"#ed7953\"],[0.7777777777777778,\"#fb9f3a\"],[0.8888888888888888,\"#fdca26\"],[1.0,\"#f0f921\"]],\"type\":\"histogram2d\"}],\"histogram\":[{\"marker\":{\"pattern\":{\"fillmode\":\"overlay\",\"size\":10,\"solidity\":0.2}},\"type\":\"histogram\"}],\"mesh3d\":[{\"colorbar\":{\"outlinewidth\":0,\"ticks\":\"\"},\"type\":\"mesh3d\"}],\"parcoords\":[{\"line\":{\"colorbar\":{\"outlinewidth\":0,\"ticks\":\"\"}},\"type\":\"parcoords\"}],\"pie\":[{\"automargin\":true,\"type\":\"pie\"}],\"scatter3d\":[{\"line\":{\"colorbar\":{\"outlinewidth\":0,\"ticks\":\"\"}},\"marker\":{\"colorbar\":{\"outlinewidth\":0,\"ticks\":\"\"}},\"type\":\"scatter3d\"}],\"scattercarpet\":[{\"marker\":{\"colorbar\":{\"outlinewidth\":0,\"ticks\":\"\"}},\"type\":\"scattercarpet\"}],\"scattergeo\":[{\"marker\":{\"colorbar\":{\"outlinewidth\":0,\"ticks\":\"\"}},\"type\":\"scattergeo\"}],\"scattergl\":[{\"marker\":{\"line\":{\"color\":\"#283442\"}},\"type\":\"scattergl\"}],\"scattermapbox\":[{\"marker\":{\"colorbar\":{\"outlinewidth\":0,\"ticks\":\"\"}},\"type\":\"scattermapbox\"}],\"scatterpolargl\":[{\"marker\":{\"colorbar\":{\"outlinewidth\":0,\"ticks\":\"\"}},\"type\":\"scatterpolargl\"}],\"scatterpolar\":[{\"marker\":{\"colorbar\":{\"outlinewidth\":0,\"ticks\":\"\"}},\"type\":\"scatterpolar\"}],\"scatter\":[{\"marker\":{\"line\":{\"color\":\"#283442\"}},\"type\":\"scatter\"}],\"scatterternary\":[{\"marker\":{\"colorbar\":{\"outlinewidth\":0,\"ticks\":\"\"}},\"type\":\"scatterternary\"}],\"surface\":[{\"colorbar\":{\"outlinewidth\":0,\"ticks\":\"\"},\"colorscale\":[[0.0,\"#0d0887\"],[0.1111111111111111,\"#46039f\"],[0.2222222222222222,\"#7201a8\"],[0.3333333333333333,\"#9c179e\"],[0.4444444444444444,\"#bd3786\"],[0.5555555555555556,\"#d8576b\"],[0.6666666666666666,\"#ed7953\"],[0.7777777777777778,\"#fb9f3a\"],[0.8888888888888888,\"#fdca26\"],[1.0,\"#f0f921\"]],\"type\":\"surface\"}],\"table\":[{\"cells\":{\"fill\":{\"color\":\"#506784\"},\"line\":{\"color\":\"rgb(17,17,17)\"}},\"header\":{\"fill\":{\"color\":\"#2a3f5f\"},\"line\":{\"color\":\"rgb(17,17,17)\"}},\"type\":\"table\"}]},\"layout\":{\"annotationdefaults\":{\"arrowcolor\":\"#f2f5fa\",\"arrowhead\":0,\"arrowwidth\":1},\"autotypenumbers\":\"strict\",\"coloraxis\":{\"colorbar\":{\"outlinewidth\":0,\"ticks\":\"\"}},\"colorscale\":{\"diverging\":[[0,\"#8e0152\"],[0.1,\"#c51b7d\"],[0.2,\"#de77ae\"],[0.3,\"#f1b6da\"],[0.4,\"#fde0ef\"],[0.5,\"#f7f7f7\"],[0.6,\"#e6f5d0\"],[0.7,\"#b8e186\"],[0.8,\"#7fbc41\"],[0.9,\"#4d9221\"],[1,\"#276419\"]],\"sequential\":[[0.0,\"#0d0887\"],[0.1111111111111111,\"#46039f\"],[0.2222222222222222,\"#7201a8\"],[0.3333333333333333,\"#9c179e\"],[0.4444444444444444,\"#bd3786\"],[0.5555555555555556,\"#d8576b\"],[0.6666666666666666,\"#ed7953\"],[0.7777777777777778,\"#fb9f3a\"],[0.8888888888888888,\"#fdca26\"],[1.0,\"#f0f921\"]],\"sequentialminus\":[[0.0,\"#0d0887\"],[0.1111111111111111,\"#46039f\"],[0.2222222222222222,\"#7201a8\"],[0.3333333333333333,\"#9c179e\"],[0.4444444444444444,\"#bd3786\"],[0.5555555555555556,\"#d8576b\"],[0.6666666666666666,\"#ed7953\"],[0.7777777777777778,\"#fb9f3a\"],[0.8888888888888888,\"#fdca26\"],[1.0,\"#f0f921\"]]},\"colorway\":[\"#636efa\",\"#EF553B\",\"#00cc96\",\"#ab63fa\",\"#FFA15A\",\"#19d3f3\",\"#FF6692\",\"#B6E880\",\"#FF97FF\",\"#FECB52\"],\"font\":{\"color\":\"#f2f5fa\"},\"geo\":{\"bgcolor\":\"rgb(17,17,17)\",\"lakecolor\":\"rgb(17,17,17)\",\"landcolor\":\"rgb(17,17,17)\",\"showlakes\":true,\"showland\":true,\"subunitcolor\":\"#506784\"},\"hoverlabel\":{\"align\":\"left\"},\"hovermode\":\"closest\",\"mapbox\":{\"style\":\"dark\"},\"paper_bgcolor\":\"rgb(17,17,17)\",\"plot_bgcolor\":\"rgb(17,17,17)\",\"polar\":{\"angularaxis\":{\"gridcolor\":\"#506784\",\"linecolor\":\"#506784\",\"ticks\":\"\"},\"bgcolor\":\"rgb(17,17,17)\",\"radialaxis\":{\"gridcolor\":\"#506784\",\"linecolor\":\"#506784\",\"ticks\":\"\"}},\"scene\":{\"xaxis\":{\"backgroundcolor\":\"rgb(17,17,17)\",\"gridcolor\":\"#506784\",\"gridwidth\":2,\"linecolor\":\"#506784\",\"showbackground\":true,\"ticks\":\"\",\"zerolinecolor\":\"#C8D4E3\"},\"yaxis\":{\"backgroundcolor\":\"rgb(17,17,17)\",\"gridcolor\":\"#506784\",\"gridwidth\":2,\"linecolor\":\"#506784\",\"showbackground\":true,\"ticks\":\"\",\"zerolinecolor\":\"#C8D4E3\"},\"zaxis\":{\"backgroundcolor\":\"rgb(17,17,17)\",\"gridcolor\":\"#506784\",\"gridwidth\":2,\"linecolor\":\"#506784\",\"showbackground\":true,\"ticks\":\"\",\"zerolinecolor\":\"#C8D4E3\"}},\"shapedefaults\":{\"line\":{\"color\":\"#f2f5fa\"}},\"sliderdefaults\":{\"bgcolor\":\"#C8D4E3\",\"bordercolor\":\"rgb(17,17,17)\",\"borderwidth\":1,\"tickwidth\":0},\"ternary\":{\"aaxis\":{\"gridcolor\":\"#506784\",\"linecolor\":\"#506784\",\"ticks\":\"\"},\"baxis\":{\"gridcolor\":\"#506784\",\"linecolor\":\"#506784\",\"ticks\":\"\"},\"bgcolor\":\"rgb(17,17,17)\",\"caxis\":{\"gridcolor\":\"#506784\",\"linecolor\":\"#506784\",\"ticks\":\"\"}},\"title\":{\"x\":0.05},\"updatemenudefaults\":{\"bgcolor\":\"#506784\",\"borderwidth\":0},\"xaxis\":{\"automargin\":true,\"gridcolor\":\"#283442\",\"linecolor\":\"#506784\",\"ticks\":\"\",\"title\":{\"standoff\":15},\"zerolinecolor\":\"#283442\",\"zerolinewidth\":2},\"yaxis\":{\"automargin\":true,\"gridcolor\":\"#283442\",\"linecolor\":\"#506784\",\"ticks\":\"\",\"title\":{\"standoff\":15},\"zerolinecolor\":\"#283442\",\"zerolinewidth\":2}}},\"margin\":{\"l\":150,\"r\":20,\"t\":50,\"b\":50},\"xaxis\":{\"title\":{\"text\":\"SHAP Value\",\"font\":{\"size\":14},\"standoff\":25}},\"yaxis\":{\"title\":{\"text\":\"Feature\"}},\"barmode\":\"overlay\",\"height\":700,\"width\":1000,\"font\":{\"color\":\"white\",\"size\":20},\"title\":{\"text\":\"SHAP Summary Plot\"}},                        {\"responsive\": true}                    ).then(function(){\n",
              "                            \n",
              "var gd = document.getElementById('52afafc3-e17e-4ad6-a298-18ae19bab1a4');\n",
              "var x = new MutationObserver(function (mutations, observer) {{\n",
              "        var display = window.getComputedStyle(gd).display;\n",
              "        if (!display || display === 'none') {{\n",
              "            console.log([gd, 'removed!']);\n",
              "            Plotly.purge(gd);\n",
              "            observer.disconnect();\n",
              "        }}\n",
              "}});\n",
              "\n",
              "// Listen for the removal of the full notebook cells\n",
              "var notebookContainer = gd.closest('#notebook-container');\n",
              "if (notebookContainer) {{\n",
              "    x.observe(notebookContainer, {childList: true});\n",
              "}}\n",
              "\n",
              "// Listen for the clearing of the current output cell\n",
              "var outputEl = gd.closest('.output');\n",
              "if (outputEl) {{\n",
              "    x.observe(outputEl, {childList: true});\n",
              "}}\n",
              "\n",
              "                        })                };                            </script>        </div>\n",
              "</body>\n",
              "</html>"
            ]
          },
          "metadata": {}
        }
      ]
    }
  ],
  "metadata": {
    "colab": {
      "provenance": [],
      "include_colab_link": true
    },
    "kernelspec": {
      "display_name": "Python 3",
      "name": "python3"
    },
    "language_info": {
      "name": "python"
    }
  },
  "nbformat": 4,
  "nbformat_minor": 0
}