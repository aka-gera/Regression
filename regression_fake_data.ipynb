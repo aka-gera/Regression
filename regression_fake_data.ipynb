{
  "cells": [
    {
      "cell_type": "markdown",
      "metadata": {
        "id": "view-in-github",
        "colab_type": "text"
      },
      "source": [
        "<a href=\"https://colab.research.google.com/github/aka-gera/Regression/blob/main/regression_fake_data.ipynb\" target=\"_parent\"><img src=\"https://colab.research.google.com/assets/colab-badge.svg\" alt=\"Open In Colab\"/></a>"
      ]
    },
    {
      "cell_type": "markdown",
      "metadata": {
        "id": "b-sJZeE2p5X7"
      },
      "source": [
        "# **Regression**\n",
        "\n",
        "*This algorithm will identify the optimal classification machine learning model for a given dataset.*"
      ]
    },
    {
      "cell_type": "markdown",
      "source": [
        "This dataset is provided by: https://www.kaggle.com/datasets/atulsehwag00/regression-fake-data"
      ],
      "metadata": {
        "id": "f9usGlAB03bR"
      }
    },
    {
      "cell_type": "code",
      "source": [
        "data_dir = f'atulsehwag00/regression-fake-data'"
      ],
      "metadata": {
        "id": "J2okyVwO08a7"
      },
      "execution_count": 79,
      "outputs": []
    },
    {
      "cell_type": "markdown",
      "source": [
        "# Import Dataset"
      ],
      "metadata": {
        "id": "yRLkhjgpmdcf"
      }
    },
    {
      "cell_type": "code",
      "source": [
        "! pip install shap\n",
        "import shap\n"
      ],
      "metadata": {
        "colab": {
          "base_uri": "https://localhost:8080/"
        },
        "id": "SMnIHWtfqbxt",
        "outputId": "c09c6386-5396-4d92-eb5a-170b0dea5e99"
      },
      "execution_count": 80,
      "outputs": [
        {
          "output_type": "stream",
          "name": "stdout",
          "text": [
            "Requirement already satisfied: shap in /usr/local/lib/python3.10/dist-packages (0.45.1)\n",
            "Requirement already satisfied: numpy in /usr/local/lib/python3.10/dist-packages (from shap) (1.25.2)\n",
            "Requirement already satisfied: scipy in /usr/local/lib/python3.10/dist-packages (from shap) (1.11.4)\n",
            "Requirement already satisfied: scikit-learn in /usr/local/lib/python3.10/dist-packages (from shap) (1.2.2)\n",
            "Requirement already satisfied: pandas in /usr/local/lib/python3.10/dist-packages (from shap) (2.0.3)\n",
            "Requirement already satisfied: tqdm>=4.27.0 in /usr/local/lib/python3.10/dist-packages (from shap) (4.66.4)\n",
            "Requirement already satisfied: packaging>20.9 in /usr/local/lib/python3.10/dist-packages (from shap) (24.0)\n",
            "Requirement already satisfied: slicer==0.0.8 in /usr/local/lib/python3.10/dist-packages (from shap) (0.0.8)\n",
            "Requirement already satisfied: numba in /usr/local/lib/python3.10/dist-packages (from shap) (0.58.1)\n",
            "Requirement already satisfied: cloudpickle in /usr/local/lib/python3.10/dist-packages (from shap) (2.2.1)\n",
            "Requirement already satisfied: llvmlite<0.42,>=0.41.0dev0 in /usr/local/lib/python3.10/dist-packages (from numba->shap) (0.41.1)\n",
            "Requirement already satisfied: python-dateutil>=2.8.2 in /usr/local/lib/python3.10/dist-packages (from pandas->shap) (2.8.2)\n",
            "Requirement already satisfied: pytz>=2020.1 in /usr/local/lib/python3.10/dist-packages (from pandas->shap) (2023.4)\n",
            "Requirement already satisfied: tzdata>=2022.1 in /usr/local/lib/python3.10/dist-packages (from pandas->shap) (2024.1)\n",
            "Requirement already satisfied: joblib>=1.1.1 in /usr/local/lib/python3.10/dist-packages (from scikit-learn->shap) (1.4.2)\n",
            "Requirement already satisfied: threadpoolctl>=2.0.0 in /usr/local/lib/python3.10/dist-packages (from scikit-learn->shap) (3.5.0)\n",
            "Requirement already satisfied: six>=1.5 in /usr/local/lib/python3.10/dist-packages (from python-dateutil>=2.8.2->pandas->shap) (1.16.0)\n"
          ]
        }
      ]
    },
    {
      "cell_type": "code",
      "source": [
        "! pip install kaggle"
      ],
      "metadata": {
        "colab": {
          "base_uri": "https://localhost:8080/"
        },
        "id": "ewjPGnzp_km2",
        "outputId": "cc842ef4-03be-48cb-b8c1-d1cda4bc3ea7"
      },
      "execution_count": 81,
      "outputs": [
        {
          "output_type": "stream",
          "name": "stdout",
          "text": [
            "Requirement already satisfied: kaggle in /usr/local/lib/python3.10/dist-packages (1.6.12)\n",
            "Requirement already satisfied: six>=1.10 in /usr/local/lib/python3.10/dist-packages (from kaggle) (1.16.0)\n",
            "Requirement already satisfied: certifi>=2023.7.22 in /usr/local/lib/python3.10/dist-packages (from kaggle) (2024.2.2)\n",
            "Requirement already satisfied: python-dateutil in /usr/local/lib/python3.10/dist-packages (from kaggle) (2.8.2)\n",
            "Requirement already satisfied: requests in /usr/local/lib/python3.10/dist-packages (from kaggle) (2.31.0)\n",
            "Requirement already satisfied: tqdm in /usr/local/lib/python3.10/dist-packages (from kaggle) (4.66.4)\n",
            "Requirement already satisfied: python-slugify in /usr/local/lib/python3.10/dist-packages (from kaggle) (8.0.4)\n",
            "Requirement already satisfied: urllib3 in /usr/local/lib/python3.10/dist-packages (from kaggle) (2.0.7)\n",
            "Requirement already satisfied: bleach in /usr/local/lib/python3.10/dist-packages (from kaggle) (6.1.0)\n",
            "Requirement already satisfied: webencodings in /usr/local/lib/python3.10/dist-packages (from bleach->kaggle) (0.5.1)\n",
            "Requirement already satisfied: text-unidecode>=1.3 in /usr/local/lib/python3.10/dist-packages (from python-slugify->kaggle) (1.3)\n",
            "Requirement already satisfied: charset-normalizer<4,>=2 in /usr/local/lib/python3.10/dist-packages (from requests->kaggle) (3.3.2)\n",
            "Requirement already satisfied: idna<4,>=2.5 in /usr/local/lib/python3.10/dist-packages (from requests->kaggle) (3.7)\n"
          ]
        }
      ]
    },
    {
      "cell_type": "code",
      "source": [
        "from google.colab import drive\n",
        "drive.mount('/content/drive')"
      ],
      "metadata": {
        "colab": {
          "base_uri": "https://localhost:8080/"
        },
        "id": "AxNckLT9AO09",
        "outputId": "ca20ee11-2373-48a5-d33e-7259347d0e84"
      },
      "execution_count": 82,
      "outputs": [
        {
          "output_type": "stream",
          "name": "stdout",
          "text": [
            "Drive already mounted at /content/drive; to attempt to forcibly remount, call drive.mount(\"/content/drive\", force_remount=True).\n"
          ]
        }
      ]
    },
    {
      "cell_type": "code",
      "source": [
        "!pwd\n",
        "%cd /content"
      ],
      "metadata": {
        "colab": {
          "base_uri": "https://localhost:8080/"
        },
        "id": "8tZtD5km7uqF",
        "outputId": "93f0d697-e64a-4d86-aab9-8c2ddb02baf7"
      },
      "execution_count": 83,
      "outputs": [
        {
          "output_type": "stream",
          "name": "stdout",
          "text": [
            "/content/drive/My Drive/ML2023/data-analysis\n",
            "/content\n"
          ]
        }
      ]
    },
    {
      "cell_type": "code",
      "source": [
        "! mkdir ~/.kaggle"
      ],
      "metadata": {
        "id": "2utvMZG0AyMc",
        "colab": {
          "base_uri": "https://localhost:8080/"
        },
        "outputId": "7eb44766-b52d-4851-9b5a-975bf181dd8f"
      },
      "execution_count": 84,
      "outputs": [
        {
          "output_type": "stream",
          "name": "stdout",
          "text": [
            "mkdir: cannot create directory ‘/root/.kaggle’: File exists\n"
          ]
        }
      ]
    },
    {
      "cell_type": "code",
      "source": [
        "! cp /content/drive/MyDrive/Kaggle_API/kaggle.json ~/.kaggle"
      ],
      "metadata": {
        "id": "85Nc5kg7BJkU"
      },
      "execution_count": 85,
      "outputs": []
    },
    {
      "cell_type": "code",
      "source": [
        "! chmod 600 ~/.kaggle/kaggle.json"
      ],
      "metadata": {
        "id": "ZCX-JmVMBW2G"
      },
      "execution_count": 86,
      "outputs": []
    },
    {
      "cell_type": "code",
      "source": [
        "! kaggle datasets download {data_dir}"
      ],
      "metadata": {
        "colab": {
          "base_uri": "https://localhost:8080/"
        },
        "id": "jyQQtXxRBmDN",
        "outputId": "14ceb72b-8329-42c1-a4d1-2b7b645b82d4"
      },
      "execution_count": 87,
      "outputs": [
        {
          "output_type": "stream",
          "name": "stdout",
          "text": [
            "Dataset URL: https://www.kaggle.com/datasets/atulsehwag00/regression-fake-data\n",
            "License(s): unknown\n",
            "regression-fake-data.zip: Skipping, found more recently modified local copy (use --force to force download)\n"
          ]
        }
      ]
    },
    {
      "cell_type": "code",
      "source": [
        "import os\n",
        "file_names = os.listdir()\n",
        "zip_file =   [file for file in file_names if file.endswith('.zip')]\n",
        "zip_file"
      ],
      "metadata": {
        "colab": {
          "base_uri": "https://localhost:8080/"
        },
        "id": "bhhnh1KvzENs",
        "outputId": "1bc50ac4-6d4c-4747-b847-30c4a3444fa0"
      },
      "execution_count": 88,
      "outputs": [
        {
          "output_type": "execute_result",
          "data": {
            "text/plain": [
              "['regression-fake-data.zip']"
            ]
          },
          "metadata": {},
          "execution_count": 88
        }
      ]
    },
    {
      "cell_type": "code",
      "source": [
        "import zipfile\n",
        "\n",
        "# Open the zip file\n",
        "with zipfile.ZipFile(zip_file[-1], 'r') as zip_ref:\n",
        "    zip_ref.extractall()\n",
        "    unzipped_file_names = zip_ref.namelist()\n",
        "unzipped_file_names"
      ],
      "metadata": {
        "colab": {
          "base_uri": "https://localhost:8080/"
        },
        "id": "eS_9ghMWuuP7",
        "outputId": "4d8a92a6-d80e-43a6-fa03-7ad18f098d7f"
      },
      "execution_count": 89,
      "outputs": [
        {
          "output_type": "execute_result",
          "data": {
            "text/plain": [
              "['fake_reg.csv']"
            ]
          },
          "metadata": {},
          "execution_count": 89
        }
      ]
    },
    {
      "cell_type": "markdown",
      "metadata": {
        "id": "FpgaUHtcn-uj"
      },
      "source": [
        "# Import the helper classes"
      ]
    },
    {
      "cell_type": "code",
      "source": [
        "!pwd\n",
        "%cd /content/drive/MyDrive/ML2023/data-analysis"
      ],
      "metadata": {
        "colab": {
          "base_uri": "https://localhost:8080/"
        },
        "id": "19W5o-_3EPCP",
        "outputId": "d799c455-0d5d-446b-e265-9fb88de96eed"
      },
      "execution_count": 90,
      "outputs": [
        {
          "output_type": "stream",
          "name": "stdout",
          "text": [
            "/content\n",
            "/content/drive/MyDrive/ML2023/data-analysis\n"
          ]
        }
      ]
    },
    {
      "cell_type": "code",
      "execution_count": 91,
      "metadata": {
        "id": "XdUonthYtxmU"
      },
      "outputs": [],
      "source": [
        "from sklearn.model_selection import train_test_split\n",
        "from sklearn import preprocessing\n",
        "import math\n",
        "from plotly.subplots import make_subplots\n",
        "\n",
        "from aka_data_analysis.aka_plot import aka_plot, aka_correlation_analysis\n",
        "from aka_data_analysis.aka_learning import aka_learn,aka_clean,aka_filter\n",
        "from aka_data_analysis.aka_regression import aka_regression_analysis\n",
        "\n",
        "aka_plot = aka_plot()\n",
        "aka_corr_an = aka_correlation_analysis()\n",
        "aka_clean = aka_clean()\n",
        "aka_learn = aka_learn()\n",
        "aka_filter = aka_filter()\n",
        "aka_corr_an = aka_correlation_analysis()"
      ]
    },
    {
      "cell_type": "code",
      "source": [
        "from aka_data_analysis.aka_nn import aka_nn"
      ],
      "metadata": {
        "id": "kePy6mir7XgM"
      },
      "execution_count": 92,
      "outputs": []
    },
    {
      "cell_type": "code",
      "execution_count": 93,
      "metadata": {
        "id": "U97UXNVGwY7b"
      },
      "outputs": [],
      "source": [
        "import matplotlib.pyplot as plt\n",
        "\n",
        "from sklearn.metrics import classification_report\n",
        "from sklearn.metrics import confusion_matrix\n",
        "import plotly.figure_factory as ff\n",
        "import plotly.express as px\n",
        "import numpy as np\n",
        "import pandas as pd\n"
      ]
    },
    {
      "cell_type": "markdown",
      "metadata": {
        "id": "emCQ05DcRoSj"
      },
      "source": [
        "# Dataset Information"
      ]
    },
    {
      "cell_type": "code",
      "execution_count": 94,
      "metadata": {
        "id": "xFLpKTpMJeny"
      },
      "outputs": [],
      "source": [
        "df = aka_clean.df_get(f'/content/{unzipped_file_names[0]}')"
      ]
    },
    {
      "cell_type": "code",
      "source": [
        "df.head()"
      ],
      "metadata": {
        "colab": {
          "base_uri": "https://localhost:8080/",
          "height": 206
        },
        "id": "G3jMLkdIm0AS",
        "outputId": "7d7acda4-ace3-45de-bea4-7946f761fa3f"
      },
      "execution_count": 95,
      "outputs": [
        {
          "output_type": "execute_result",
          "data": {
            "text/plain": [
              "        price     feature1     feature2\n",
              "0  461.527929   999.787558   999.766096\n",
              "1  548.130011   998.861615  1001.042403\n",
              "2  410.297162  1000.070267   998.844015\n",
              "3  540.382220   999.952251  1000.440940\n",
              "4  546.024553  1000.446011  1000.338531"
            ],
            "text/html": [
              "\n",
              "  <div id=\"df-264b8ea2-1fb8-4b6c-b879-56c3b1e42934\" class=\"colab-df-container\">\n",
              "    <div>\n",
              "<style scoped>\n",
              "    .dataframe tbody tr th:only-of-type {\n",
              "        vertical-align: middle;\n",
              "    }\n",
              "\n",
              "    .dataframe tbody tr th {\n",
              "        vertical-align: top;\n",
              "    }\n",
              "\n",
              "    .dataframe thead th {\n",
              "        text-align: right;\n",
              "    }\n",
              "</style>\n",
              "<table border=\"1\" class=\"dataframe\">\n",
              "  <thead>\n",
              "    <tr style=\"text-align: right;\">\n",
              "      <th></th>\n",
              "      <th>price</th>\n",
              "      <th>feature1</th>\n",
              "      <th>feature2</th>\n",
              "    </tr>\n",
              "  </thead>\n",
              "  <tbody>\n",
              "    <tr>\n",
              "      <th>0</th>\n",
              "      <td>461.527929</td>\n",
              "      <td>999.787558</td>\n",
              "      <td>999.766096</td>\n",
              "    </tr>\n",
              "    <tr>\n",
              "      <th>1</th>\n",
              "      <td>548.130011</td>\n",
              "      <td>998.861615</td>\n",
              "      <td>1001.042403</td>\n",
              "    </tr>\n",
              "    <tr>\n",
              "      <th>2</th>\n",
              "      <td>410.297162</td>\n",
              "      <td>1000.070267</td>\n",
              "      <td>998.844015</td>\n",
              "    </tr>\n",
              "    <tr>\n",
              "      <th>3</th>\n",
              "      <td>540.382220</td>\n",
              "      <td>999.952251</td>\n",
              "      <td>1000.440940</td>\n",
              "    </tr>\n",
              "    <tr>\n",
              "      <th>4</th>\n",
              "      <td>546.024553</td>\n",
              "      <td>1000.446011</td>\n",
              "      <td>1000.338531</td>\n",
              "    </tr>\n",
              "  </tbody>\n",
              "</table>\n",
              "</div>\n",
              "    <div class=\"colab-df-buttons\">\n",
              "\n",
              "  <div class=\"colab-df-container\">\n",
              "    <button class=\"colab-df-convert\" onclick=\"convertToInteractive('df-264b8ea2-1fb8-4b6c-b879-56c3b1e42934')\"\n",
              "            title=\"Convert this dataframe to an interactive table.\"\n",
              "            style=\"display:none;\">\n",
              "\n",
              "  <svg xmlns=\"http://www.w3.org/2000/svg\" height=\"24px\" viewBox=\"0 -960 960 960\">\n",
              "    <path d=\"M120-120v-720h720v720H120Zm60-500h600v-160H180v160Zm220 220h160v-160H400v160Zm0 220h160v-160H400v160ZM180-400h160v-160H180v160Zm440 0h160v-160H620v160ZM180-180h160v-160H180v160Zm440 0h160v-160H620v160Z\"/>\n",
              "  </svg>\n",
              "    </button>\n",
              "\n",
              "  <style>\n",
              "    .colab-df-container {\n",
              "      display:flex;\n",
              "      gap: 12px;\n",
              "    }\n",
              "\n",
              "    .colab-df-convert {\n",
              "      background-color: #E8F0FE;\n",
              "      border: none;\n",
              "      border-radius: 50%;\n",
              "      cursor: pointer;\n",
              "      display: none;\n",
              "      fill: #1967D2;\n",
              "      height: 32px;\n",
              "      padding: 0 0 0 0;\n",
              "      width: 32px;\n",
              "    }\n",
              "\n",
              "    .colab-df-convert:hover {\n",
              "      background-color: #E2EBFA;\n",
              "      box-shadow: 0px 1px 2px rgba(60, 64, 67, 0.3), 0px 1px 3px 1px rgba(60, 64, 67, 0.15);\n",
              "      fill: #174EA6;\n",
              "    }\n",
              "\n",
              "    .colab-df-buttons div {\n",
              "      margin-bottom: 4px;\n",
              "    }\n",
              "\n",
              "    [theme=dark] .colab-df-convert {\n",
              "      background-color: #3B4455;\n",
              "      fill: #D2E3FC;\n",
              "    }\n",
              "\n",
              "    [theme=dark] .colab-df-convert:hover {\n",
              "      background-color: #434B5C;\n",
              "      box-shadow: 0px 1px 3px 1px rgba(0, 0, 0, 0.15);\n",
              "      filter: drop-shadow(0px 1px 2px rgba(0, 0, 0, 0.3));\n",
              "      fill: #FFFFFF;\n",
              "    }\n",
              "  </style>\n",
              "\n",
              "    <script>\n",
              "      const buttonEl =\n",
              "        document.querySelector('#df-264b8ea2-1fb8-4b6c-b879-56c3b1e42934 button.colab-df-convert');\n",
              "      buttonEl.style.display =\n",
              "        google.colab.kernel.accessAllowed ? 'block' : 'none';\n",
              "\n",
              "      async function convertToInteractive(key) {\n",
              "        const element = document.querySelector('#df-264b8ea2-1fb8-4b6c-b879-56c3b1e42934');\n",
              "        const dataTable =\n",
              "          await google.colab.kernel.invokeFunction('convertToInteractive',\n",
              "                                                    [key], {});\n",
              "        if (!dataTable) return;\n",
              "\n",
              "        const docLinkHtml = 'Like what you see? Visit the ' +\n",
              "          '<a target=\"_blank\" href=https://colab.research.google.com/notebooks/data_table.ipynb>data table notebook</a>'\n",
              "          + ' to learn more about interactive tables.';\n",
              "        element.innerHTML = '';\n",
              "        dataTable['output_type'] = 'display_data';\n",
              "        await google.colab.output.renderOutput(dataTable, element);\n",
              "        const docLink = document.createElement('div');\n",
              "        docLink.innerHTML = docLinkHtml;\n",
              "        element.appendChild(docLink);\n",
              "      }\n",
              "    </script>\n",
              "  </div>\n",
              "\n",
              "\n",
              "<div id=\"df-c1423dd6-95e2-4bd5-97cd-9eb47a11dad0\">\n",
              "  <button class=\"colab-df-quickchart\" onclick=\"quickchart('df-c1423dd6-95e2-4bd5-97cd-9eb47a11dad0')\"\n",
              "            title=\"Suggest charts\"\n",
              "            style=\"display:none;\">\n",
              "\n",
              "<svg xmlns=\"http://www.w3.org/2000/svg\" height=\"24px\"viewBox=\"0 0 24 24\"\n",
              "     width=\"24px\">\n",
              "    <g>\n",
              "        <path d=\"M19 3H5c-1.1 0-2 .9-2 2v14c0 1.1.9 2 2 2h14c1.1 0 2-.9 2-2V5c0-1.1-.9-2-2-2zM9 17H7v-7h2v7zm4 0h-2V7h2v10zm4 0h-2v-4h2v4z\"/>\n",
              "    </g>\n",
              "</svg>\n",
              "  </button>\n",
              "\n",
              "<style>\n",
              "  .colab-df-quickchart {\n",
              "      --bg-color: #E8F0FE;\n",
              "      --fill-color: #1967D2;\n",
              "      --hover-bg-color: #E2EBFA;\n",
              "      --hover-fill-color: #174EA6;\n",
              "      --disabled-fill-color: #AAA;\n",
              "      --disabled-bg-color: #DDD;\n",
              "  }\n",
              "\n",
              "  [theme=dark] .colab-df-quickchart {\n",
              "      --bg-color: #3B4455;\n",
              "      --fill-color: #D2E3FC;\n",
              "      --hover-bg-color: #434B5C;\n",
              "      --hover-fill-color: #FFFFFF;\n",
              "      --disabled-bg-color: #3B4455;\n",
              "      --disabled-fill-color: #666;\n",
              "  }\n",
              "\n",
              "  .colab-df-quickchart {\n",
              "    background-color: var(--bg-color);\n",
              "    border: none;\n",
              "    border-radius: 50%;\n",
              "    cursor: pointer;\n",
              "    display: none;\n",
              "    fill: var(--fill-color);\n",
              "    height: 32px;\n",
              "    padding: 0;\n",
              "    width: 32px;\n",
              "  }\n",
              "\n",
              "  .colab-df-quickchart:hover {\n",
              "    background-color: var(--hover-bg-color);\n",
              "    box-shadow: 0 1px 2px rgba(60, 64, 67, 0.3), 0 1px 3px 1px rgba(60, 64, 67, 0.15);\n",
              "    fill: var(--button-hover-fill-color);\n",
              "  }\n",
              "\n",
              "  .colab-df-quickchart-complete:disabled,\n",
              "  .colab-df-quickchart-complete:disabled:hover {\n",
              "    background-color: var(--disabled-bg-color);\n",
              "    fill: var(--disabled-fill-color);\n",
              "    box-shadow: none;\n",
              "  }\n",
              "\n",
              "  .colab-df-spinner {\n",
              "    border: 2px solid var(--fill-color);\n",
              "    border-color: transparent;\n",
              "    border-bottom-color: var(--fill-color);\n",
              "    animation:\n",
              "      spin 1s steps(1) infinite;\n",
              "  }\n",
              "\n",
              "  @keyframes spin {\n",
              "    0% {\n",
              "      border-color: transparent;\n",
              "      border-bottom-color: var(--fill-color);\n",
              "      border-left-color: var(--fill-color);\n",
              "    }\n",
              "    20% {\n",
              "      border-color: transparent;\n",
              "      border-left-color: var(--fill-color);\n",
              "      border-top-color: var(--fill-color);\n",
              "    }\n",
              "    30% {\n",
              "      border-color: transparent;\n",
              "      border-left-color: var(--fill-color);\n",
              "      border-top-color: var(--fill-color);\n",
              "      border-right-color: var(--fill-color);\n",
              "    }\n",
              "    40% {\n",
              "      border-color: transparent;\n",
              "      border-right-color: var(--fill-color);\n",
              "      border-top-color: var(--fill-color);\n",
              "    }\n",
              "    60% {\n",
              "      border-color: transparent;\n",
              "      border-right-color: var(--fill-color);\n",
              "    }\n",
              "    80% {\n",
              "      border-color: transparent;\n",
              "      border-right-color: var(--fill-color);\n",
              "      border-bottom-color: var(--fill-color);\n",
              "    }\n",
              "    90% {\n",
              "      border-color: transparent;\n",
              "      border-bottom-color: var(--fill-color);\n",
              "    }\n",
              "  }\n",
              "</style>\n",
              "\n",
              "  <script>\n",
              "    async function quickchart(key) {\n",
              "      const quickchartButtonEl =\n",
              "        document.querySelector('#' + key + ' button');\n",
              "      quickchartButtonEl.disabled = true;  // To prevent multiple clicks.\n",
              "      quickchartButtonEl.classList.add('colab-df-spinner');\n",
              "      try {\n",
              "        const charts = await google.colab.kernel.invokeFunction(\n",
              "            'suggestCharts', [key], {});\n",
              "      } catch (error) {\n",
              "        console.error('Error during call to suggestCharts:', error);\n",
              "      }\n",
              "      quickchartButtonEl.classList.remove('colab-df-spinner');\n",
              "      quickchartButtonEl.classList.add('colab-df-quickchart-complete');\n",
              "    }\n",
              "    (() => {\n",
              "      let quickchartButtonEl =\n",
              "        document.querySelector('#df-c1423dd6-95e2-4bd5-97cd-9eb47a11dad0 button');\n",
              "      quickchartButtonEl.style.display =\n",
              "        google.colab.kernel.accessAllowed ? 'block' : 'none';\n",
              "    })();\n",
              "  </script>\n",
              "</div>\n",
              "\n",
              "    </div>\n",
              "  </div>\n"
            ],
            "application/vnd.google.colaboratory.intrinsic+json": {
              "type": "dataframe",
              "variable_name": "df",
              "summary": "{\n  \"name\": \"df\",\n  \"rows\": 1000,\n  \"fields\": [\n    {\n      \"column\": \"price\",\n      \"properties\": {\n        \"dtype\": \"number\",\n        \"std\": 93.78543079033274,\n        \"min\": 223.34679276337343,\n        \"max\": 774.4078544514234,\n        \"num_unique_values\": 1000,\n        \"samples\": [\n          402.2963187329033,\n          624.1561984672744,\n          582.4550662975032\n        ],\n        \"semantic_type\": \"\",\n        \"description\": \"\"\n      }\n    },\n    {\n      \"column\": \"feature1\",\n      \"properties\": {\n        \"dtype\": \"number\",\n        \"std\": 0.9740178775035345,\n        \"min\": 997.058347208966,\n        \"max\": 1003.2079336486612,\n        \"num_unique_values\": 1000,\n        \"samples\": [\n          999.5412155772106,\n          1000.6186221563844,\n          1000.8607937541136\n        ],\n        \"semantic_type\": \"\",\n        \"description\": \"\"\n      }\n    },\n    {\n      \"column\": \"feature2\",\n      \"properties\": {\n        \"dtype\": \"number\",\n        \"std\": 0.9483300251569233,\n        \"min\": 996.9956509692493,\n        \"max\": 1002.66630765155,\n        \"num_unique_values\": 1000,\n        \"samples\": [\n          999.1411432823083,\n          1001.1190508063044,\n          1000.6549633927756\n        ],\n        \"semantic_type\": \"\",\n        \"description\": \"\"\n      }\n    }\n  ]\n}"
            }
          },
          "metadata": {},
          "execution_count": 95
        }
      ]
    },
    {
      "cell_type": "code",
      "execution_count": 96,
      "metadata": {
        "colab": {
          "base_uri": "https://localhost:8080/"
        },
        "id": "8iUAkCmTtYT5",
        "outputId": "24a52415-882e-4fc3-fdf1-e18f096bf245"
      },
      "outputs": [
        {
          "output_type": "stream",
          "name": "stdout",
          "text": [
            "<class 'pandas.core.frame.DataFrame'>\n",
            "RangeIndex: 1000 entries, 0 to 999\n",
            "Data columns (total 3 columns):\n",
            " #   Column    Non-Null Count  Dtype  \n",
            "---  ------    --------------  -----  \n",
            " 0   price     1000 non-null   float64\n",
            " 1   feature1  1000 non-null   float64\n",
            " 2   feature2  1000 non-null   float64\n",
            "dtypes: float64(3)\n",
            "memory usage: 23.6 KB\n"
          ]
        }
      ],
      "source": [
        "df.info()"
      ]
    },
    {
      "cell_type": "code",
      "source": [
        "fig = aka_plot.Plot_histogram_Features(df,[0,1,2] )\n",
        "if fig is not None:\n",
        "    fig.show()"
      ],
      "metadata": {
        "colab": {
          "base_uri": "https://localhost:8080/",
          "height": 437
        },
        "id": "ZBrUYRWXSQIx",
        "outputId": "a78ab97e-a209-40ed-99fe-0fb31ea938ab"
      },
      "execution_count": 97,
      "outputs": [
        {
          "output_type": "display_data",
          "data": {
            "text/html": [
              "<html>\n",
              "<head><meta charset=\"utf-8\" /></head>\n",
              "<body>\n",
              "    <div>            <script src=\"https://cdnjs.cloudflare.com/ajax/libs/mathjax/2.7.5/MathJax.js?config=TeX-AMS-MML_SVG\"></script><script type=\"text/javascript\">if (window.MathJax && window.MathJax.Hub && window.MathJax.Hub.Config) {window.MathJax.Hub.Config({SVG: {font: \"STIX-Web\"}});}</script>                <script type=\"text/javascript\">window.PlotlyConfig = {MathJaxConfig: 'local'};</script>\n",
              "        <script charset=\"utf-8\" src=\"https://cdn.plot.ly/plotly-2.24.1.min.js\"></script>                <div id=\"d910f6d1-30a4-4522-80a3-b80428a395da\" class=\"plotly-graph-div\" style=\"height:400px; width:1500px;\"></div>            <script type=\"text/javascript\">                                    window.PLOTLYENV=window.PLOTLYENV || {};                                    if (document.getElementById(\"d910f6d1-30a4-4522-80a3-b80428a395da\")) {                    Plotly.newPlot(                        \"d910f6d1-30a4-4522-80a3-b80428a395da\",                        [{\"x\":[461.52792939358096,548.1300114599096,410.2971616727477,540.3822198140741,546.0245529164561,542.9836715980255,555.4856641557159,417.569724534508,373.146531216796,633.3502924774541,624.247092064156,475.3724172064315,600.3684448550833,532.8329517531153,472.8353627974771,506.31229096481167,508.4144059952209,610.4553519022312,323.65776197680174,446.2123038899063,362.1227029921573,433.4106402600616,562.0025764698489,637.3096207432424,522.808007536568,469.80282429759,543.1099277810902,565.434169937479,530.0328538065396,610.5801650305415,482.5564118848851,327.5600405221574,579.7308387221567,448.4298146790867,628.9770918674018,536.7973721638596,570.0672954330697,357.82557518578705,612.0849273173208,444.6797084597428,600.1186364029229,523.5331277555823,512.949944948852,614.8813168955378,404.353032511081,643.6885180735171,488.9566039775478,443.2046857171032,514.4790663755915,514.8817405773764,325.058522166333,554.662058504202,451.39140000665856,587.6788772559202,477.7374972127375,574.5156068712286,548.910799095615,528.6908835586818,443.21100481790927,397.88209319073707,355.7953522325841,460.6947813773974,534.7673736990871,537.6067329045089,603.6699034695841,547.2757915319635,567.3086215314689,454.32901321420496,492.6045144721288,643.1359317769884,477.43051629936485,497.4125183701755,559.0437853350255,576.6784383687008,292.1917811049085,542.9953999614753,547.7319823874158,507.43439141143006,408.12200074037287,595.4334856131899,463.3552035980994,468.3569804514317,462.0048018889012,410.3591240728469,467.4605955215901,497.2397861315607,411.63794463924177,583.0659840897691,441.9503669068689,536.0409091513951,530.9871743876214,364.5084209320396,626.0686516896824,434.62971003006857,523.0234419809312,484.10880902261175,411.57560703304586,722.2639443310222,519.4629917650527,558.5032104812539,526.2429778194082,531.277546867594,470.8906700663708,459.9249453763113,577.5829850114998,599.9057313773181,584.9284375629157,357.3422339089137,392.04726870632,515.7784459657249,390.2092367966402,497.4914823945552,506.7403250925609,395.5147751225993,239.65626376379964,507.6052942953172,628.8494043731677,468.0732468761311,444.9447338982071,527.3171959571247,415.44298463184975,363.4303791025056,591.8690919523219,391.1246665610285,526.1019195960951,402.00959595271183,563.6778173748048,362.2401834624175,514.313498693531,322.3143519655322,513.5197319995317,340.05814211570635,560.7947177823255,489.7945978379802,381.0736788052949,558.3493927897489,451.8041723989507,451.7914013389133,442.17202785952793,488.7869177427834,433.09376956069445,518.0070965780235,511.6945465433186,334.8945962154536,490.78489309260766,510.4635656667628,565.0254089166355,542.3014050784392,655.4261980567373,433.51753016010537,373.06190747893777,517.3219999764311,609.9695553559047,401.2803369760671,540.7438188593637,410.53824962836654,441.7417973978801,448.7013865381404,377.570426071083,450.85178617636,695.0806435129189,548.9485124900032,479.7088766090232,345.01181992120416,576.8525516722201,337.95129475852843,466.8394785961299,429.91541294796457,567.8818928320967,422.7785260527181,559.7847254049152,503.7568725115727,355.3522887850328,622.3714738337385,450.9760715027984,591.7141350896221,522.429934159432,474.0863463936184,423.0524338603942,466.7044580592094,481.9254704456524,362.9186760609314,566.0576393534825,457.0595881125368,580.8806048404939,497.3392189695792,519.1723751776766,640.4048525816643,477.2583976324784,506.5037054786037,634.2482933047978,311.8713776455462,556.6121542753991,446.36031515187625,543.8302791183833,617.6150990412137,491.5512871489272,441.9052267428249,418.4571783885716,524.4734839878822,483.1348270899156,622.9976430469436,424.6084077486387,515.1475399066105,496.8904766764585,534.2343669565399,627.3802760954953,460.02329028167605,338.1338417212897,397.6205961806861,562.0579360412577,504.6938964425924,490.99787401882185,361.42640522094473,608.1280402149021,625.0793860828061,461.3807860924571,533.0721080527547,438.2654059686041,404.1423947469101,458.527897670574,455.1395339891374,521.8795946235425,507.0979898219253,480.8069403066062,539.6839972923619,376.3262553288048,449.4584840008588,457.77794629094,531.1634175761965,599.8118558066404,526.6736175695605,512.1515175049309,510.02950867087566,391.265475827755,593.667795701298,415.60708684154974,469.0728386308848,485.2247759198016,354.9288423214043,316.6368480069826,464.4449480901343,649.3959165226917,474.0250134637421,551.5600604270005,631.8891574061099,597.712571717935,532.6287977160746,445.5828214197511,599.923826118107,375.9593804443484,581.9074848338294,464.99440569880034,417.2388720613262,570.6460652965347,414.7544520045376,578.2240203394963,405.9289894892562,626.6797542983625,484.019526532353,275.33337527107074,531.6619389143916,223.34679276337343,637.7789690800714,553.8799961236667,487.737916297914,439.090259556184,378.04069830748494,379.23669121225765,537.1252403330948,553.1238781129516,505.69270876964464,421.53806533892566,510.88504978963226,567.1947060080355,697.7071580223301,388.7466322454392,578.3290181441334,734.2765030956431,449.3281448801714,512.049048950007,357.2959144643571,360.2321249322739,395.1204533230811,423.7000169912119,443.809838908192,595.9658196768545,515.56181282673,531.9290881048648,530.135086275425,448.63240577003785,527.6158769330265,453.4582975151477,417.54122634841247,656.9730856638855,546.2313799070295,492.9359193936364,379.9091337212608,511.36670783252816,503.5141998158496,519.4605524660828,611.1476368756989,411.051577817881,403.4130154697376,496.75415064104175,466.0044086550277,528.1286134266179,633.4512532694235,567.044977945725,435.09849105576666,537.9288848306378,452.71044444227255,609.3840752976031,396.196571095286,504.4313726322902,626.6942779410521,493.0120177916112,724.471875749426,713.4666734620962,565.191845594684,551.5737279509531,451.8976478174946,565.9672306647051,367.79190440290176,576.3214434479853,579.428430937895,489.0976077206559,487.18793877496415,621.1188559609227,481.9070413935198,700.9836802505966,599.9911809246321,522.3588837323506,646.8239135994891,568.6131874454458,511.2982453301132,760.651016694891,304.4326151846456,543.3206422153502,399.8665189638588,585.1682144076741,484.2298120008516,425.84365096282784,550.4749492549695,325.7948026305991,364.0350138103205,439.4965351724188,518.2631242651357,693.9884929035138,512.5957017349169,257.7119972438171,524.3243802884606,402.19551340113657,579.8517864859472,476.0712297402995,411.1842387237991,367.7635423918606,400.63495185511874,609.5807074570155,612.4702560910661,366.3818868024921,485.50390002770087,443.3970356135937,479.56906766958593,559.6984891073345,432.821619908345,328.2055040133165,524.371195474605,552.7789350933658,630.6136393266559,424.8107860865061,375.1375471510901,338.93370122470503,574.7400108316077,355.8148512530355,378.7933970693719,555.9997870240727,642.3708192002453,347.8763132730069,330.0823022536812,392.70436827153407,519.3264095596427,612.7537014986588,469.246860523441,460.3199909765118,646.2592859245788,452.7344993500761,446.6617038043286,392.5778737731593,419.1123504148279,485.6714038180176,533.5507459870914,558.6879694815866,433.4151443319604,572.6784321239863,474.34929884413896,587.4556674283482,603.6048816226984,679.8950229235796,454.0284118449107,641.2963611091914,523.1264342532802,451.8644194189002,369.9145129775208,602.1202497949819,589.2837976726473,552.3587431275491,497.82077750643896,645.7084402037391,299.3944141929243,416.3753031772155,371.22410360513095,305.4222122133839,476.194975228927,718.2565398630599,481.6458132080981,449.79721212220096,423.13089618336056,487.2327680525943,486.74414446614657,333.08087339141025,560.1354366122368,711.6577732776482,424.6110882127841,367.8849900241112,502.8467148995792,661.164368621826,422.4424354446581,612.7279103266178,526.4475195141854,462.8816308379672,574.5783776538541,477.8062599329995,431.1886968123592,596.271616771598,367.0456173319431,610.296501886043,573.8382695891298,561.6815935984445,316.9505926044769,353.78339460659504,462.2423973066748,395.7453134872051,461.1794450249759,265.3188349140617,516.2860375640063,495.5435853423662,655.0298841020265,361.96928555187753,383.934415519679,339.21223298208145,438.9769913647519,518.3603954341966,587.0691898597458,513.588510643147,541.1289475020037,318.24228660349524,407.4105058685124,401.5399622814862,530.2762592125852,421.5295114897206,509.0580574626169,460.1838562987829,387.892724619406,560.9377906210058,586.5598064859136,426.3627846258843,479.9191566059864,525.7046566146622,555.4208713451699,530.6830145332789,469.8723866295668,606.3150518198445,364.8521078416688,360.1607811760624,425.1061584752634,365.5608775485973,480.2301228171844,533.4842626492591,477.32136010791135,685.0730652908377,595.8536379669682,510.8785785502258,403.69954917011,493.9642073677289,368.9200953998454,549.8476200686011,601.7678083780327,508.2038913458533,418.9300451928782,564.3682236213733,604.1106609943602,599.2805067162914,527.8807722583516,547.0728669378357,576.8926402006383,491.80281222710687,518.7063021846278,532.6265316415288,685.2165407916625,441.387240111764,315.5189290330409,581.511438083857,585.1566919161073,481.2061489900144,470.46051802314713,535.5436758282534,489.057551961728,731.5095583727039,539.7932304046632,421.26795581123406,480.5991150274344,530.2103988218163,464.1158700554973,633.4727288005175,449.4161187948157,635.3470661306967,537.2492280531452,572.3806506416186,553.9046287651987,616.5106010129126,402.2963187329033,456.8999523716808,505.7472641309476,601.6384957833875,510.8866119550272,556.832097111368,379.109820566372,453.4968121816982,594.6866457350071,567.4636876935175,498.9283393958094,413.1007145169893,437.1817974099192,699.733841022974,351.42908062100173,593.2305193771007,544.1813100407738,438.76371593759967,446.8769875458974,471.9943596721792,461.1406242277295,689.1734888970261,521.7969924671536,603.8875773722033,655.3914031914753,369.7858254085389,509.84188626144095,475.1758576737966,338.0902386001779,480.8061679559197,587.3077703193196,503.3900014110533,518.1278833901422,506.3392986265895,647.3615595713675,453.1382414237832,396.0499847621306,612.5053394264529,618.9336345873538,524.5689545585435,666.0622254538048,657.9549142636489,496.06904958233,524.3839383524133,461.4904899199929,433.998384459224,572.313053851413,451.9264153228441,362.68807581712446,514.8947441637532,427.3695697745074,435.51362445479134,566.2717255663605,452.3723832877561,375.6230235600407,466.4902006464921,465.17802914248296,405.4001656198269,427.74126220629387,358.85061321399496,481.5334626750023,358.68011197072985,375.3118020534009,550.1424624779931,556.543975646635,595.3809465162147,512.5837775336678,665.0473923595973,549.2905454911648,569.8733603076373,550.293400617648,607.4194029570825,617.3773773196228,613.4266291463498,604.5726140930071,516.985813775865,401.8950557292264,448.5535721941784,475.9469962202677,501.89188819006887,498.6284209016306,474.20540259707184,568.6047779754276,698.4104139622187,550.896739913604,481.5243697169256,498.463590852865,515.9009900702896,478.0803033433381,562.8473668138763,578.5238572292519,564.9556812960161,497.4647268379185,526.3425972096086,568.7320592249458,439.6505402427454,624.9925040414096,370.7417775351673,553.0768173295677,414.85687715394846,448.51914415847193,347.191118195517,631.5606939182501,527.057541591376,553.3241975102603,514.4056408574132,444.0546928396544,341.6878955248129,565.2499549384387,436.5549497151016,548.61436053478,501.6220601516152,362.2492810487827,309.35587862899024,435.2615532825878,428.3161487668162,308.2234312505793,536.5906687647899,774.4078544514234,428.84321278579625,552.8891290224539,297.29389413193223,637.858708266419,564.1115379147367,648.0101493228949,404.129286546174,508.82552564170834,539.5404931828281,467.6685222133391,489.1245800656128,571.1882917880894,497.7227482641622,396.9287685858524,414.1107281383127,406.28845394039297,579.5584899835791,406.616067101664,515.2152027559486,564.186814876514,578.5886064550515,408.2862018238552,581.5425266161899,667.4812481039403,622.8655182813751,500.133045805441,379.1313120747972,502.7194800207069,343.73541799243674,441.4847402127855,499.2123511732978,542.3620489701357,547.6240432533422,535.9294754207793,461.5207671175384,529.4394397952852,521.6158872397277,547.7129283710759,584.3811077238026,465.99980649077486,489.9964651504756,634.5322379035152,639.8183622492462,500.7218448019106,514.6937858883663,380.1398491626706,402.7886092221642,507.4431866249745,516.6620498627744,246.73972005907947,345.8514994672988,728.5415864322357,593.4748072346498,623.0544955505633,466.7870243436057,524.9670294677807,695.7728281714869,498.1900003268827,420.2389007506976,449.2596750838818,518.3487726828051,608.6446635232969,476.08427343745393,425.4599912007873,388.02606419840566,595.5444319135589,606.2179593555021,502.3583131601892,470.96358489786303,565.0768903509581,570.1685123652715,505.6318839857883,443.1869176626926,387.6460558788804,592.7579164984965,528.145469496525,610.0917076356588,543.3237843031621,651.3961288610681,552.9145202623566,662.9250462337401,571.7062626221265,521.7744574040415,565.9362004993941,526.2924796076577,525.5561777268364,547.1290144613744,556.3815691313789,643.552572050058,310.1908531730263,316.973734928554,581.2475743350167,675.7602689783545,637.2716109929202,503.2706587604634,386.8315800060643,449.2279729320876,624.1561984672744,708.0181057952304,436.669659071071,582.4550662975032,523.1597791418912,454.013630390762,458.3300266195937,553.1340606815943,575.6865675909281,399.7469088068518,479.0377818356649,377.13616235703495,611.8475488365282,457.6956861393197,320.68694050820136,607.664730777356,431.4798732315574,536.0059362422857,487.2531004481291,357.11605236061723,406.9749600643883,367.8845614688098,352.2825871829781,428.43268623934017,674.3110204717076,455.035335389043,493.5381876707219,323.74660823424256,570.8743858811187,522.353586759007,512.3707856660071,344.4453879977802,603.4429248374895,494.1976924767502,623.1044501461381,615.5627227003581,501.0952022102914,460.4308638029236,511.1937567124921,619.1047848619293,425.2042215634771,439.3866776326462,609.7226947958968,520.9731598310524,564.9102229349046,574.5730747304841,273.4326379844824,416.5796721407011,414.0040053422642,602.5491467107406,501.81396345804,657.2588888850354,545.5852027603559,363.1143358473566,587.1013486660677,535.983125681759,357.04441400326664,543.9185096206758,487.4695239600374,491.0377341596269,618.1234169612334,442.9335794860026,528.4401545262326,492.8732710472319,497.0438764547785,606.2973619885972,368.90204455683545,463.83315595884665,411.35636172881794,670.2123763314803,408.5223636229996,484.43638366363615,492.6419263025697,381.8529899454828,613.9599526151189,327.3602412914911,491.7924066257116,585.4441278525176,380.3945668981375,554.7626665975166,493.8566807467015,526.2107461997405,385.3965598752692,484.4615914773384,332.22764351726505,564.6720717082741,649.4400682453601,424.727789864844,618.0869511093333,511.89276393719206,331.1216882835573,558.1640943139216,493.5696494772566,396.05573682777606,631.3714016891532,478.4448661860958,628.5449945553794,499.75474684304015,506.82347359944407,258.6440374650206,478.3582379162217,460.542508237649,552.6266595288025,519.608167509648,456.9876155138211,562.6259752623373,560.9872101282104,588.2426814682234,579.4306547224112,490.6889113372992,372.777435623285,677.2762868619468,420.76621322790896,478.0863680719154,608.7991805065571,498.40036413961457,351.0900891824846,604.796523497614,584.2941507757286,552.3685963906154,514.8563640360836,324.75278473266786,551.6500996267873,646.4213711515152,412.0162778546955,542.0558131371063,376.82027574959096,485.6554219902819,530.001044317915,531.4823722132704,502.9017022067338,320.22783440806137,410.1722868892717,307.4926247103735,414.3215432846649,429.4725952238923,611.3728069058627,579.498008236646,645.8481536313017,528.2198725865861,487.2993308145905,530.9931459235912,374.1976028222568,453.8258268427462,535.0456265906083,381.3683267833461,657.7186800834027,403.062563714416,502.4059214810828,612.4871622053737,473.14373027270807,648.49853653127,477.5930158742664,478.8571900724637,469.1131060543613,558.8774158715853,560.6780518579453,484.5601050438824,602.9701102968114,501.8883171716771,296.9898467523172,409.95257742757775,429.2145201425672,529.7197158482275,503.21614080888776,656.6547446078308,378.8143046473172,627.6401641581881,420.3567696783402,347.1952143642697,559.9610884667389,437.9040143613833,382.4819857252664,446.6125099210281,578.9434831748149,427.85700337884055,563.5836374859741,603.5586958725381,445.9404665779002,577.3166504922734,453.9716661022563,367.1609664246921,591.503582140253,404.9031621848372,403.9032741282778,425.4826051100135,657.8001981385914,664.5087763153145,503.0504487642296,518.6675614514002,544.4987832475178,409.6767581547419,338.5727093977407,427.4869950555411,349.71799435208027,434.3865431630347,549.9363662656307,524.5896561047118,502.9094733167608,342.05906592218327,622.0320501070222,654.8391207616507,434.6937537437557,470.554637500956,380.4770786125914,560.3817655002244,549.2573511044259,494.2516391505415,450.4248441539551,594.8404770774418,412.9068767078235,433.42313493255097,512.0497922742833,478.0481180067042,413.2997399109179,415.84564074123193,511.5858341897693,472.8914243365848,657.9317362206364,560.6640923157407,587.743082829888,472.0676642650616,390.8626783254045,329.0670351290492,526.7267308621437,452.1023860774978,413.8722623378417,666.4417081533038,487.76923069610143,560.6378551057595,449.81047625964646,499.9483098716154,429.2677210625381,508.9117648312799,546.2039332153029,621.5970322630156,413.8417803555996,449.0260696578263,447.0531904319864,595.4864806458586,480.8773329570647,667.708564873697,594.6095887530881,600.0432909105972,508.1997820470308,359.1950799155941,365.8832807057999,576.7384252541588,515.3251905810469,423.65453318503705,543.49227763603,577.2929236694818,421.058946419443,625.0801846230726,434.2752828285205,657.7342506736767,518.3561442572383,481.8628060691199,476.5260782558536,457.3131860879925,456.7209924867339,403.315575615986,599.3670934765121],\"type\":\"histogram\",\"xaxis\":\"x\",\"yaxis\":\"y\"},{\"x\":[999.7875575188532,998.8616149123676,1000.0702669091074,999.9522512998312,1000.446010934907,999.693183680952,1000.2758550559212,1000.414204534198,1000.016606483984,999.9056456127552,1002.0999754232564,1000.2308192953344,999.7043113938888,1000.7715755888736,999.3229434497522,1000.3794028860226,998.5131313474504,1001.401115475032,999.6872831681928,1001.254834008036,998.8064520621442,1000.0030487422692,1002.1074940808264,1001.1589761399993,999.4912284357132,1000.4318800074147,1000.1318692016968,999.34709691058,1000.2244304219928,1000.8071350954356,999.6517091506616,1000.1133067451556,999.9240058305924,999.666962694923,1000.7282142369336,1001.4552170319088,1000.4824719686828,998.5105326770024,1001.813058340374,998.7935419254766,999.540358581744,999.246727575384,998.675374143725,1001.5342689799348,999.425448016052,998.9991530762936,1000.076137332396,1000.9819298254256,1000.063324619991,1001.3015785867116,999.8625557670354,1001.8386075014164,999.0579635220872,1000.7532695473732,1000.3443378203089,1002.024018976604,999.4084948838406,1000.1495094873792,1000.9022585240303,997.8444536884356,1000.274992434101,999.0544773028096,999.8703102989118,1000.594239107535,1000.7005733129672,999.6680108058104,1000.7582472143084,999.255154095728,999.9385439675772,999.941499511516,999.8485752871989,1001.0567669597596,1001.029236892782,999.7383889266667,998.2459397060712,1000.2833131217798,1001.9690229456388,1001.0118892985856,1000.6133364100492,999.87281784668,999.5566833516724,999.2115239850638,999.4469815786088,1000.3940515507192,1000.2339280941104,999.9896921110152,999.5202044464506,1001.1146295568948,1000.111218901029,999.542001654476,1000.1984505335924,1000.0302272769276,1000.8399645627258,999.8440408847702,1001.2754521106824,1000.298882276325,1000.1032294882576,1000.903094233254,998.3333395675096,999.80154704303,1000.854236398925,999.9109988739782,1000.5569024698368,999.3711269226512,1000.6400670235582,999.8470522638424,1000.22655641551,999.5234410681788,998.7342754954276,999.2308824456668,999.631750576103,999.5076709332628,1000.1048997186944,1000.7001404176036,998.8347907722496,999.575306548012,1001.1259431933964,1000.3504536184356,999.8310581784916,1000.2550633209338,998.0990081935828,1000.7908273472092,999.5714735992696,999.8195315649316,1000.597062814846,998.222203600612,1001.2712576469576,998.3097789964572,1000.9733449412972,997.9681200276044,999.9057109898982,1000.4055403859498,999.0180910263232,999.0461965946272,999.0726456205012,999.4985940673366,1000.5680009166788,1001.071397915102,998.5647247774084,999.941843574359,1000.292604563503,999.5800505132949,1000.115483793387,997.2576222349628,1000.3940625193404,999.8540903537992,1000.7630442250752,1000.3996130629308,999.2263647434236,997.964100638909,997.1439009593956,999.5008804666636,1001.2669806993042,998.4372626142728,1000.671364785388,998.9044637158602,1000.3708107939786,998.0822159193332,998.1010403722292,1000.1588590116615,1000.4271255336054,1001.4189893437276,999.7042389657812,1000.4902137521116,999.1020792472432,1000.925944404718,999.3720607753008,999.2121010361734,998.7041887131768,998.9685854160804,1000.9453409903414,1000.4145976653716,998.9679268580348,1000.3429517351826,999.6291171713908,1001.7555607081396,1000.9860585113478,1001.2307077313792,1000.4144115002488,999.1000423798988,1000.2642724176828,999.1903166525228,1000.0219777536564,999.7860919740403,1000.4470499913753,999.434066173344,999.8299345738697,1000.762021358536,1000.7577317191162,999.0898242819984,1000.924756355266,998.4569075477684,1000.7397098362356,1001.1920080115536,999.3775166991006,998.3812840585632,1001.3809473365196,1000.3681513049156,998.8689003039976,999.3373836729364,999.8646740266876,999.6936340873992,1000.5054818386056,999.0919913083198,1000.6276331035236,1001.4658096726558,1001.1739975943954,1000.473866507372,999.2123982339854,998.9533222288788,1000.2156186964686,999.3325218212884,999.8161291544544,998.9540642586626,1000.8203202902548,1000.921650425093,999.527614434268,1000.7859519045272,999.3785231303872,999.7973483895876,998.927288123256,999.854569964742,1001.558375008784,998.9973327603312,998.5042365036568,1001.416978483675,999.9260162652794,998.3140404438334,999.485797655067,1001.1396743184852,1001.1622416770432,1001.0641015916814,1000.0234621675736,999.2646123409548,1002.1804642427333,999.6459545793214,999.3185962712872,1000.3034619898071,1000.703090141288,999.2333838523972,997.9274264124278,1000.2599840979108,999.7144549315674,999.5792370403684,999.3974992063183,998.6077197780144,1001.8105543714132,1000.006586269654,999.0692661240244,998.6434569381356,999.7132541335468,1000.12230458311,999.05500356645,1000.0473732788844,999.5210714564964,1001.4105380060756,1001.5878451383014,999.864425244688,1000.7771821308528,998.8566592864588,998.4316393473964,1001.505406945811,999.9064128758312,1000.0081474160525,1000.0931277949504,999.6156512649138,998.2373451302144,999.0942818820548,1000.60907146487,1000.3090236312656,1000.689045182807,999.8592634699744,1000.0362420173328,1000.411647960037,1001.4181542277648,1002.1086371832654,999.349156485497,1002.2994872168372,1002.2007804170902,999.1218589095024,1001.4856319319146,998.6995247253471,998.0336362988578,999.6424130223202,1000.493348038634,999.4200826715625,1001.964373819161,1000.4564091203216,1000.7549475548208,1000.6351066408246,998.4888950193566,999.2297623962874,1000.08268694377,999.2136083928492,999.1042660115876,1001.6629024985124,999.325264436854,999.3203819757116,1002.1379551353192,999.9858901879908,1000.9306555493796,1000.5351531682348,999.8669889349852,1000.2865293125255,999.6005398165288,999.9571106433584,1000.1433737154794,1001.8398292486538,999.565928937967,998.8105588624768,998.7599494690156,999.3869093223848,1000.8415630504486,999.332888179404,1000.06920158524,1000.1413672119378,1001.3474508568283,1001.785056049304,1000.0645460519792,1001.022785816642,999.2961464766588,1000.6302227627068,999.8998852211282,999.2542594265518,1001.249933343356,999.462505919845,999.693412479975,1000.5867015394954,1000.975465458312,998.7996650907256,1001.6129354209212,999.6051176538384,999.4314996306026,1001.165662367992,999.8512246088836,1001.472549856028,1002.0137828772856,999.9816766397964,998.087518811168,1000.4118931194448,1002.148208869864,1000.4595490022132,1000.7913506153078,1000.5123771945912,999.9923672242472,998.3592390225672,1000.393583823603,999.936467270798,1001.1809598832948,999.0053071731592,998.5438728759076,999.8132800353892,998.8068757010864,1002.7154027398254,999.5839843735748,1000.5973014625948,1000.0784778286812,1000.0777510418966,1000.3315002173788,1001.2618057010006,999.2636568169144,999.6989430471908,999.8414866481886,998.9041725252416,1000.1650687496192,998.557802089514,999.1616287880712,1000.5578617550296,1001.0025551914688,999.4017537858922,1000.7693363189172,998.7717778565086,998.802498028912,999.0941552625084,999.9148278069408,999.266729371938,998.1896400507524,1000.3507321201208,998.5523866511338,998.9124325158244,1000.927695517779,999.8139727320976,1000.9139772384216,1000.0629658363796,1000.6715231578664,999.4703524874452,1000.4998448342856,1000.2517898941882,999.0104133925988,999.6407999795108,1000.5475428587952,999.6639182364336,1000.2161007227136,999.5306067787526,1000.6090700245464,1001.4081941299128,1001.0191041181612,1000.0267792795712,998.5971238569646,998.455315715933,1001.1850247310228,999.4621812283476,1000.5681624566864,999.6480691936182,1000.2701433339984,999.9895917674512,999.4249497507228,1000.39421568289,1000.149569745654,1000.3922321457352,998.7939290931392,997.615475972712,1000.872374187264,999.9057637460998,999.8841393460066,1000.2596056993168,999.538359174324,1000.8963075551728,999.5659434691852,999.234199323512,1000.4196987297988,1000.5736580960736,1000.3551637358128,998.4509104630806,1000.7454326299752,1000.8068037153546,1001.6910861803937,999.709337170444,1000.746747306921,999.0570409168377,1000.1023833493164,1000.5792867549472,999.585837017346,999.68267354568,1000.386168817219,998.8625673040904,1000.1104826233984,1000.460414422973,999.2785341322732,999.8997690131664,999.7615013730812,999.3194783948908,999.5584923392784,999.3375545371586,1000.598779278498,1000.1388601000386,1000.7767990171424,1000.8508179869578,1001.0001766935828,998.0393742791211,999.6419418148142,1000.5170854064544,1000.6808924557492,1000.0468938076184,1001.3763617982654,998.7850204363916,999.747179242346,999.541408729344,1000.4724267535092,999.3086350549842,997.7513412103692,1000.8186484313792,998.9440823525256,998.334493117245,1000.1887173822422,1001.4653531323034,998.4442304576058,1001.3804406786278,999.378024662532,1001.204703960482,999.0709937424394,1000.5710328925952,1001.6746003017788,999.9605016912744,999.1165638107246,999.6799094156576,999.3361658633742,999.8583212367504,1000.3414884362325,1001.5943225114506,1002.0886298169736,1000.7996966137312,998.2638401038682,999.801399120459,999.2675297008088,1000.3913124552683,999.8234544604744,1001.0356317548532,1000.478535024162,999.6641509954254,1001.8999573874128,999.8801953973536,1000.7748155863418,1000.1980658918204,1000.7563070277432,1001.538661722321,999.6197783466232,1000.249551164704,1000.1098195491542,1000.1191576157591,1000.4229189691022,999.165115255102,999.5454261835682,1000.8007787611303,1000.347341267222,1001.036500370064,999.4876595192002,999.3200788943286,1000.1630372518636,999.6351320503372,997.8955969121088,1000.2082194779008,1000.5079476077252,1000.4877291411068,1001.6065327416156,1000.5484282093862,1000.9503206484624,1000.1737711262896,999.3926514977212,1000.3330622769702,1000.6330373034264,999.5412155772106,998.8595977258256,1000.2555621645944,999.7456077770894,998.7024201552794,1000.0116818232982,999.4876319194408,999.2250855667648,1001.7428718441736,1001.1014635255876,999.308599432115,999.7827459246704,999.4229183306728,1000.307253913776,1000.3107993738032,1002.3937276368124,1001.2145991148748,999.4630980262682,999.302223544472,1001.4015933099952,1001.6340756453512,1001.209290652358,999.2711788676417,1000.4232197657836,999.0967379037968,998.7818736630948,999.5576069684022,999.7177387118238,998.2993190984388,998.9806552340092,1000.2434914477172,999.033341823506,1000.2633819158189,1000.259986922176,1000.065919490799,1000.9127684366692,1000.0652613572964,998.835135290988,1001.70865501787,1001.229917284268,1000.4549839916192,1001.8593179472408,999.4993493065172,999.2996824484068,1000.4541553608613,1000.0611748695828,1000.8248985271732,1001.0192157753486,1000.2186746494692,1000.3719266380436,999.6742637510588,998.7792892030805,1000.5565304711567,999.9925772102245,999.67125607388,999.7350669539388,998.317250451576,999.616875534608,1000.2723251381328,1000.433463858233,999.7536478650364,998.6879404850824,1000.5532767126648,1000.4006562314664,999.74859499949,1000.8476287312918,999.3813611414132,1001.269507362438,999.8973218215316,999.9311850204256,1000.1719804533894,1000.2158078586629,1000.2288754343638,1000.1531484433542,1000.9765697586477,1000.757818335944,998.176216520311,1000.0202133628072,999.9851273956816,1000.4689175801128,1000.6367514923336,999.5946436080226,999.716108612042,1001.1109798475628,1001.5706156971854,1000.6498071667828,1000.968192679142,998.927235019916,1000.4721944676644,999.9247297751303,1001.4447998566436,1000.5857864589598,999.8402634052496,1001.2061518509032,1001.4391067260148,998.7915201027688,999.2872549223245,999.1607143884056,1000.428420479679,998.5582022576708,999.8344561584236,999.9450195460668,1000.5862719667422,998.5154236646976,1001.0976316271943,998.3965736745866,999.5381245263444,999.8209155496796,1002.0037480522564,1000.2727885426748,999.5031650098042,999.5379314399088,998.5014725724544,997.8034483553936,997.8663307335538,999.4778401056373,1000.4154525081226,999.471009821048,1001.410151845287,1000.6076196584596,998.521792660091,1000.1123219255044,1000.782709931352,1002.0952659802264,1000.602829969046,999.0420015172743,998.9582657954068,999.6277834721984,999.6066361326116,1000.647009900946,1000.5494020402052,1001.060220558777,998.8726102306296,998.9994054081131,998.1406192153414,999.3512813005062,1000.6622534725382,1000.4552542434144,1000.1038936133745,999.4585136172844,1000.406417235156,1000.5995961531364,1002.1808252130924,999.8416325458684,1000.9945604129746,999.6587909628591,999.9246228922316,998.8994799079628,999.689135965914,1000.1339503971616,999.8444900965404,1001.7859422149986,1001.9103195312751,1000.702073702146,998.799835826626,998.901089248269,1000.9811937737296,1000.1408654633494,998.2284793030556,999.8172901489744,1001.7978245736788,1001.3860845233652,1000.1109664974966,1000.9283387109056,999.7204577412256,998.6372757201384,1001.8712954713906,999.9816775243958,999.2565608535036,998.251219911258,1000.5135695219336,999.9606827964,1000.2502081289924,999.998877450616,1001.124727177885,999.7027786586136,999.8413934196652,999.9212661193668,998.200536378648,1001.1082330519996,1001.1031527872258,1001.2604102138664,1001.2310874054446,1000.6894586309024,1000.2489416360644,1001.2577808017018,1000.1906438971316,998.9341016905062,999.2566707887108,1000.2898585504628,999.0301967218182,1001.6575235717498,998.3450913253324,1000.28396831266,999.9773436874792,999.430955652654,1000.128136352896,1001.598300871212,999.684351958796,1000.6018538800236,1000.2177475144453,998.232572566139,998.26232829848,999.2793676010943,1001.2753276858278,999.8792026570349,999.2829483605528,1002.409943824335,998.5767264761544,999.4393187110792,1001.658640745203,999.9531148932516,1001.2957213249854,999.8228009705192,999.3841366983476,1000.5481945264822,1000.6186221563844,1003.2079336486612,1000.467344305148,1000.8607937541136,1001.856572127089,1000.2048353034198,999.70706920054,1000.6868300531528,1000.0253364378732,998.3886289724844,999.8215449411844,999.7554927049148,1000.0324366648844,1000.72258943558,999.7429930482922,1001.7257523156518,1001.0284022256544,1001.5344980500212,999.597346204522,1000.3161217299926,1001.7384937596736,999.2345026347248,999.388914918772,999.9134987010584,1000.1752725187076,999.1452765744024,999.6322128759804,999.0002794596916,1002.2318245737736,999.719870542547,1000.4270920869984,999.1438831982132,999.6854459306566,999.7194542095604,1000.3201511032848,1002.01792616831,999.2524657510324,998.467830441916,998.4079089546412,998.8015251989748,1000.359239090002,1000.3522228953036,1000.772357558986,998.9638371696864,1000.3861584589598,999.1948814825136,1000.6727386550232,998.8478751925368,999.1319046749036,1001.3588774517424,999.0180043970696,1003.0123663395876,999.256502036594,998.899486822205,1001.7129946858864,1000.473160244706,998.4959402101388,1002.2755534430617,1000.1712320904796,998.7170752104184,1000.2626832784188,999.1843563741568,1000.6465773361284,999.317222136868,999.1713572162008,999.0347636199164,999.7885683044984,999.210672083135,1000.0678297904012,1001.1778436078084,998.1806575081042,1000.0123329040226,1000.2719431349342,999.0594675573486,1000.603312068792,999.9842390773226,1000.1782363762136,1001.602913096734,999.264464237697,1001.0740343569472,999.5386824635422,999.9989057592652,1000.5050717669212,999.0949014313768,999.0340452989892,1000.3964528658956,1000.842887122606,1000.685709951016,1000.5826265993394,999.3302357589364,999.5167195346368,998.3719291516728,1000.3459200192782,999.8213290455844,1000.6416802567328,999.654975457874,1000.3363169103048,1001.4061076220604,1001.4923336703298,997.058347208966,999.7712510259628,999.2388205086728,1000.1022106445034,999.0024813661196,999.9298680542852,1001.2530767682956,1001.0998484193937,999.0097329799108,1002.0324349571032,999.5442523781074,998.9566154592958,1001.921940538873,998.4645901657908,999.129116682442,999.858742829542,1000.2774664156656,998.1508521319596,1000.8149018182104,1000.320647506536,999.2306714701184,999.8144163776512,999.3307063024496,999.3762042330244,1000.4738652332468,1000.4235448905932,1001.9021464172666,1000.2413666973254,1000.4465824182818,1001.442675518308,1000.9041997979044,998.7516308721928,999.6540693925332,999.813217601016,998.892237545158,998.9331012041864,999.2945366059796,1000.989604427744,1000.2553180608816,999.7172904250012,998.8430166803558,999.6532620321746,1001.4564101402384,1000.2391233501954,999.4593634289532,1001.0215651608908,999.8385760833992,999.3155639724954,1000.1683375286008,999.7915108142114,1000.4213529803852,999.3162586116554,1000.0953598499482,999.5173181914632,999.8107452921582,998.595031615268,1000.28688005563,999.7827490258314,999.7145735102912,1000.682117752182,998.519966378922,998.225630107198,1000.1507573150178,1000.1875096913848,1000.6220073727608,998.7199247570354,999.749246117123,999.2510681766332,1001.0929831022275,999.5003509225178,998.9080595045,1001.5856025998348,998.5702326066324,999.6047986585552,1000.6528570253444,1000.6931146375856,999.2716318020592,1001.2528060799413,1000.4296125618888,998.109493270418,1000.4941486329,1001.3460175213752,998.1113156727084,1000.737251183426,999.4032523884836,999.956639734046,998.8192711776036,1002.129912450296,1002.2364470018264,997.6911840083416,1000.9218731065474,1001.0584591439874,999.4082386159548,998.7662670748726,998.2421022071871,998.1137444459856,999.0219601806753,999.9119628297328,999.7648944090688,997.2523276853868,1000.123297516303,1000.3750546317556,1002.5628040644388,999.944988829092,1000.4711087315516,999.884154586496,1001.1905555988568,999.3072135651058,999.98801843981,1000.083310260698,1000.038706008563,1000.2641083594672,1000.456367066515,999.52058286306,1000.3254017216386,998.7390190540508,999.8677738730072,998.9297807002688,999.0758749135068,1000.2866205242718,999.6545929819296,1001.105424528004,1000.645258429878,998.9280852495452,998.9300525231216,999.4651048796204,1000.8275777655311,1000.8758650693394,1000.8259759498512,1000.8707352407192,1000.5972099256808,999.2408065884624,1000.5849395908872,1000.1813304477496,999.4709343680788,1000.1547789629,1000.7431472865062,999.1536757174772,1000.9700116133524,1000.5074433719252,999.791586689002,999.078165358738,1000.0887557378168,1000.3287668581552,1000.159990971344,1001.1767365922752,998.2787342876436,998.6287528771855,1000.0006930467548,1001.040520848454,999.8160043504872,999.47202579686,1000.3170631503624,1001.0989500213094,1001.7247400689898,998.8385076877804,1000.5473533213732,1000.127270044991,998.9604109506528,1000.0189880645116,998.8553786888548,1001.4516461723786,1000.7710227509132,999.2322435973798],\"type\":\"histogram\",\"xaxis\":\"x2\",\"yaxis\":\"y2\"},{\"x\":[999.7660961983588,1001.0424031538956,998.8440146285708,1000.440940309762,1000.3385312934138,1000.6280062225202,1000.444949437216,998.8784862396268,998.475996714074,1001.5944813896192,1000.4889149679746,999.5639425977988,1001.3861565774104,999.939106918522,1000.055359565865,999.8292801841648,1000.7177563029114,1000.4865928693204,998.1774564383384,998.7724224980918,998.9567829125324,999.1431146145878,999.777492627623,1001.0779914137092,1000.5451767964876,999.4286018544504,1000.4094220705874,1001.0191945956328,1000.276173558712,1000.8427064981222,1000.0600105123546,997.9761287454476,1000.9257261238848,999.7039946779148,1001.1104617548068,999.7651197891018,1000.51681866568,999.030769629359,1000.3940316201378,999.9086070971204,1001.2346066869844,1000.6760651308952,1000.7624611590388,1000.5537843911584,999.1979887733896,1002.0561547012248,999.7775334696612,998.9601219675884,1000.1629874166696,999.5432240746844,998.0624364132668,999.8305875876464,999.88800301723,1000.5575821758332,999.5603603213234,999.919989276386,1000.8667166539024,1000.3242664142662,998.9526003607664,999.7955265119213,998.1414105875398,1000.0516349629488,1000.4973788586644,1000.1454019541457,1000.8749635944192,1000.7293107282778,1000.4204360396924,999.8739711574082,999.9416331890028,1001.6638686956676,999.897668613709,999.4479409691502,1000.2650405569652,1000.9878624247884,998.4973934671648,1000.3786678044222,999.6666087950068,999.612155214119,998.7117783061932,1001.0765682824764,999.8619823511074,1000.0221895472948,999.8683983705248,998.7720951702568,999.4585837757062,999.960892380719,999.2907577599856,1000.5578097372914,999.2335257031708,1000.6433087772804,1000.2159845582814,998.4239214708203,1000.96872538949,999.3967720603852,999.7036526953524,999.765630330745,999.015290244293,1002.09059149754,1000.972026055466,1000.728763644048,999.9105208116564,1000.4094130716576,999.3544170556812,999.8305240783644,1000.5855656608388,1001.1929036208168,1000.8262030797172,998.6515692193644,999.3786877649688,1000.5635815330525,998.9564191907778,1000.1093275675074,999.9978502306636,998.6023487191998,997.5871167813008,1000.2971716782486,1000.9551343139636,999.4753519284492,999.4927513677052,1000.1631823534314,999.9020603897472,998.1214371266076,1001.2979200719208,998.9070808006086,1000.0026765680084,999.6273333293226,1000.1579084532708,999.2808868756453,999.7052392397112,999.009851784984,1000.1702286542268,998.0812781355376,1001.113262595689,1000.4019180574708,999.04709011227,1000.8654997933668,999.154168456184,998.8885109601988,999.8786532728392,999.861749871003,999.1114137960056,1000.4313542745674,1000.0672862247468,999.3205747193982,999.7071924454164,1000.09736758765,1000.341619310644,1000.282716484042,1002.0300656339932,1000.2415326800448,999.8076721238414,1000.3959068810698,1000.7216554066928,999.5987880424888,1000.1756914054666,999.4918912857186,999.1607168768546,1000.1898220023528,999.4188002544158,999.4560190237372,1001.9764748846324,999.9052178313428,999.9872332595024,997.9974461739451,1001.20842433633,997.7883908880642,999.9054050105342,999.550944860594,1001.337092447718,999.5992828611506,1000.366972632075,999.8485481361764,998.7981665611792,1001.2164785724024,999.5479968397256,1000.2517907613272,999.9286447391409,999.1058256369648,998.9609644700598,1000.0023007633667,999.6739062415502,998.9248684495636,1000.7131281082836,999.6122661244484,1000.778594314143,1000.1063481930572,1000.3474227735018,1001.2186853164172,999.4224862624432,1000.49993229594,1001.0641147463556,998.5627628396904,1000.3045414223792,998.9160846443126,1000.7587744573914,1002.1100312583042,999.340630866213,999.20391459363,999.5848688259736,1000.5895262223928,999.8396373775098,1001.4589363838688,998.8761661946252,1000.5239105249084,999.755829202112,999.7679980784824,1000.8680913064616,999.3747622808568,998.5209733562468,999.3841552476584,1000.6580573807272,1000.2970389106508,999.8989154630058,998.8652622372468,1000.848692280802,1001.0624791957156,999.8255072512536,999.993094573326,999.5531242646654,998.96915789143,1000.0651197080786,999.471415529904,999.5682358381176,1000.5842860285989,1000.4149763910686,999.881925752696,998.6982925178036,1000.1937719902312,999.67147784958,999.8712180047804,1000.4896244774516,999.7338505942,1000.1990583743228,1000.4182231616028,997.8293755687788,1001.4122639723583,999.4106554530028,999.6361612374571,999.4281624964268,998.6616797174496,998.9110754858768,999.4908319279896,1001.8432102195754,999.8863511326188,1000.7544434659072,1002.1177179272262,1000.3417693098936,1000.3638690325494,999.7992201896888,1001.782647488861,998.7980937349412,1000.8900320351594,1000.0179933175745,999.1117139290716,1001.1227426210104,998.3548282352656,1000.146205159613,998.8868793097728,1001.0259360209376,1000.4045555863726,998.2427503331198,999.7965956784158,996.9956509692493,1001.5623806809666,1000.5201231717464,1000.1032494916476,1000.040328937944,998.9592025127448,998.3956183914614,1000.2076861163968,1000.31215902536,1000.1633323373832,999.1958020905744,999.8671708554429,1000.0046724859776,1001.2051002447593,999.0512465689728,999.8873846874632,1001.7439876790946,999.8306808504432,999.427707526786,998.9770214751576,999.2782637111134,999.0606890369146,998.9079763151376,999.645456526316,1000.1515938794198,999.9284258303652,1000.0039898377552,1000.06819360506,1000.12658143551,1000.6378289779948,999.4434712899696,999.5155230463648,1002.208186217366,999.8455811942652,1000.208170180209,998.9560838227462,999.176752127074,1000.0322614913844,999.7723360061716,1000.9529414108548,999.074156076565,998.829350136104,1000.1030632592413,999.5753297286556,1000.2968198266136,1000.761759283276,1000.9125224550296,999.8216567979996,1001.0279293992652,999.8495910419858,1000.802755924007,999.1548409196646,1000.0183984334964,1001.381056689092,999.4250632385804,1001.7354204879344,1002.3335090717442,1000.2814585470456,1000.8860769435876,999.1866910357742,1000.8938327377468,998.9035762487032,1000.3938576539456,1001.2017614156214,999.9538080307716,999.6137538874882,1000.9019631213712,1000.3392542672152,1001.5822894911474,1001.3383407607972,1000.5769534632258,1001.0792529362864,1000.8232573259828,999.3710196266228,1002.1341643816838,997.682906875928,1001.3350945996236,998.5966045856642,999.9952095545368,999.602489328294,998.893454268327,1000.3844372277936,998.0549135541044,999.2390540605372,999.1778168307478,1000.2368734187382,1001.7114674199868,1000.5846970897262,997.9299982336156,1000.3751948015712,999.4172953473546,999.6504560875871,1000.0441358054412,998.7795954153906,998.4461936478774,998.8231961154572,1001.0689712882825,1000.696289065259,998.8871272058364,1000.01948507418,999.4498248206652,1000.2252386253568,1000.6654648044922,999.7520666349318,998.4337815075536,1000.0543169537776,1000.0238362673044,1001.7697260906684,998.80616706886,999.2316931262992,998.6766180739518,1001.2311538785812,998.4225030181152,998.9916584759524,1001.4497584018102,1001.4919948607522,998.9606704525085,998.4851282638398,998.3205242298172,1000.3443082359878,1000.9122220059872,999.5885474730544,999.2184730959768,1001.8703533835888,999.2078831531458,999.3076879854834,999.3133804176592,999.2206150344206,999.5958952194442,1000.5879232691448,1000.5537718950388,999.5175267119632,1000.5627543946218,999.1264265280962,1000.5166600020642,1001.226686294769,1002.66630765155,1000.1376738977906,1001.099978224067,1000.5503029535238,999.2504078032686,998.7529581678068,1001.0778897204862,1000.9792979666172,1000.898388143552,999.7150608133014,1001.5781520107796,997.5955865181112,999.7376435534568,999.5744078807194,997.387926656438,999.8884833918964,1002.5334806394694,999.6661030178196,999.6477576141292,998.6983692908244,1000.0162173692216,1000.2585015202344,997.8785742291568,1000.4101077727912,1002.2034937868516,999.8752596469268,998.2419449219562,999.6748117230852,1001.0526201755544,999.2336824444548,1000.9043339588986,1000.7555416688308,999.4766180740228,1000.5953347056038,999.95051546604,999.3678953163936,1000.8220685297184,999.156621119081,1001.1782350440018,1000.5549621236476,1001.0175144838572,997.9999573916972,998.4180241386532,999.9650894667368,998.961784048028,999.8965378444371,997.0354846750351,1000.0792091718032,999.503894665958,1001.2710741258294,998.0096955786274,999.6264674615818,998.370562742152,999.0863585982528,999.7214311676424,1000.9544860619994,999.5240450552362,1001.0246123288894,998.0531130271478,999.1940975957737,998.7098449155684,1000.7027491736628,1000.182477531898,999.630045873916,1000.0428138783592,999.5285184446076,1000.5409972339976,1000.236417361366,999.7988482310584,999.0823974270164,1000.6124092532108,1000.0316327381388,1000.6955355681804,999.3991760340766,1000.4484662955176,998.4646129686148,998.8038426415748,999.229381834042,998.7781760229692,999.9125679370792,1000.2895951903844,998.9566788607748,1001.028922757302,1000.7189581914564,1000.920300625168,999.022684813644,1000.3422509954346,998.3671210771364,1000.6431466447387,1000.6512310461312,999.7950904607997,999.1563800625694,999.8733819978436,1001.3320651500868,1000.7405769066232,1000.374205909439,1000.1356991599264,1000.1713476617062,1000.1999303313394,1000.130121993996,1000.2982953440418,1002.0031653838512,999.1136311920012,998.364391606486,1001.1041369794624,1000.6134536592248,999.6949362361656,999.2190502957758,1000.6307117690116,1000.1060930859782,1002.562477466509,1000.6384127780882,1000.0858649664387,999.693088521455,1000.114802963904,999.3212914359216,1000.8026826708171,999.2171762175536,1001.1570931058257,1000.494971197523,1001.176235127378,1000.435880005582,1000.949190936196,999.1411432823083,1000.01421222942,999.905156930061,1001.1956938250174,1000.689208615223,1000.680525925353,998.8657015782168,999.7718234774768,1000.3504077007308,1000.2965781341768,1000.4080761153448,999.1375350379112,999.5038395366448,1002.1284558454852,998.1299823517012,999.928628690678,999.8385241438,999.5599440297754,999.7473669235432,999.0178695552296,998.8095038784284,1001.5213056953808,1000.5197298468272,1001.0040508871868,1002.1607524469612,999.100538046236,1000.266792474738,999.8226466726876,998.8997079203708,1000.3714961132548,1000.9279083453958,1000.4411873738431,1000.0798548199806,1000.0373926042848,1001.5889639002356,999.0859714085452,998.8976753683868,1001.8840641011,1000.5456871325836,999.6440087278152,1001.6918754987372,1001.0268408261326,1000.1867705493548,1000.5502513792574,999.3632187637284,999.2164619707668,1000.3558147484944,998.8683186052806,998.383895335088,1000.030364162772,999.2576416261118,999.7674448623596,1000.5356378382636,999.4153922997313,998.7787530351408,999.7117705391285,1000.3493870147092,999.1442914962744,999.0807940303312,998.227294304448,999.9280220425486,999.0296735419824,998.322839148486,1000.3924271404876,1000.7065592442198,1000.687312221804,1000.4790917690764,1001.3427893558996,1000.5395810450016,1000.8321354580372,1000.4977434594372,1001.0953277708122,1001.2130411559858,1001.1888403463018,1000.7433360840568,999.8858146528572,999.7161237146278,999.3935320491248,999.7895297921988,999.671220592866,999.6073807366704,999.8950116563597,1000.9041088883372,1001.7729172670232,999.9261491909316,999.5350305550812,999.610435727042,1000.6144635823032,999.4699614061934,1000.7078652085524,1000.2157939360444,1000.5493303261096,999.9931464036914,999.7825772839273,1000.1919670584642,999.86220145782,1001.7702773260712,998.9046455174308,1000.3415225990148,999.7825473869432,999.3827380565972,998.258900165044,1001.175575429214,1000.8912072263709,1000.2223605747008,1000.8977874327364,999.540287910286,998.2842458013532,999.9267008129482,999.1829096147126,1000.715887290687,1000.2984608644754,999.0578078776434,998.8730392651188,1000.1970908622078,999.3257305826904,997.6813014709018,1000.701675318118,1002.4254706773794,999.0336303199656,1001.187170959204,997.6856527750156,1001.1428558064164,999.7632553783352,1001.3794893254912,999.413857984034,1000.53332941477,1000.524747580072,999.826783104481,999.6023945545004,1000.5440525040866,999.6058692176669,999.41187715068,999.562835819121,999.7611544496856,1001.2875927805272,998.673069603176,1000.0504784241735,1000.643429355398,1001.0636824133452,998.7828616728176,1000.671234534898,1000.8786657311688,1001.406074674326,999.6533449132712,998.6649498316052,1000.0116069679862,998.7446299220434,999.4802742619004,999.9495605812996,1000.5279639620592,999.7576089002064,999.4651113899272,999.2789809521108,1000.9171220092328,1000.7496394794074,1000.0909412345704,1000.8339365203498,1000.4199713872276,999.9376998943874,1000.5579783466908,1000.9358477520868,1000.011253211719,999.6629049362988,998.8366234196416,999.5535747499551,999.179794098328,1000.130101571728,997.5251866265182,999.0679277669728,1002.2280132308224,1000.9968908168644,1001.363167549746,999.6906834288634,999.7485241133644,1002.321608703438,1000.0581610571652,999.1301012301652,1000.169044289797,999.6311906826176,1000.7464268845998,999.1094834958508,998.6371184214596,998.477363877412,1001.0102330000544,1000.6122597200638,999.9318233901472,1000.1849977614136,1001.0342296732796,1000.6703407131516,1000.4304063591997,998.5806348959078,999.5129484215622,1000.8362240438468,1000.3393594711216,1001.4468994011507,1000.430919770275,1000.8629267206152,1000.6704015950598,1001.5607459445812,1000.725392413764,1001.0227017426226,1001.4293793083766,1000.596551794096,999.6433866358228,1000.6400081823076,1000.9015432638248,1000.4875261976176,998.4662762517676,998.1652381467264,1000.2253383689092,1001.9589766965846,1000.9964117021556,1000.17879614367,999.0046838956464,999.2622262101246,1001.1190508063044,1000.8731408377632,999.0711610204912,1000.6549633927756,999.4860442009,999.3197592610472,999.6638734076408,1000.3975334334508,1000.8688680373152,999.5593560318396,999.8841244164709,998.7432390774328,1001.219938110686,999.2147183034084,998.0692748221982,1000.436784810084,998.8246315050764,999.6458455709594,1000.074946858983,998.2013100246744,998.198308352118,998.8113077374336,998.601301885397,999.189289772268,1001.7602593888454,999.819291717664,1000.120779040254,998.440796672662,999.8096749634942,1000.4104056820228,999.885685015493,998.6964412355788,1001.3077276520928,1000.1156875949858,1001.2760463143971,1000.4093492173,1000.3280760528804,1000.21620780002,1000.8473755260316,1001.8420980443284,998.9766331201708,999.1806166316062,1000.8143963299656,1000.7262210091766,1000.6113570376932,1001.1473622751362,997.1395180350332,999.6218479443354,999.4693436353156,1000.4989501459596,1000.52517772788,1000.426094338328,1000.8091288689684,998.915927576355,1000.213874044324,1000.1883300502836,998.977362114162,999.5485391542836,999.8737492982588,1000.5761272791292,1001.255814275173,999.7879540943508,999.8835083855148,1000.2383983613804,1000.374025635672,1001.580036782574,998.6160154686982,999.9175512231247,998.9735686872206,1001.359234773415,999.6951226841866,999.8446782327404,999.7328817906543,999.1218465438706,1000.9932349676078,998.145638338734,999.770659136156,1000.2097747318878,998.9509537319342,1000.0906358693096,1000.203308741358,1000.3094364488468,998.4509325763167,1000.2395968666026,998.6348293545044,1000.5312588308748,1001.2145184262058,998.7527058075052,1001.0493541474912,1000.516497948514,998.2427572070916,1001.4504393114312,999.7113763922332,998.9536207518984,1001.2600338687274,1000.0366543671232,1001.2277584310232,999.4276816848654,999.3170148939146,998.6043139399434,999.942200414334,999.8435087742124,1000.5453737709948,1000.667853596175,999.6034579279062,1000.1002206038006,1000.1681347236284,1001.4847734331232,999.9654160019036,1000.0309251569084,999.0047434529356,1001.14068964766,999.8365441758392,1000.1907475860468,1001.244123675506,999.9052823439772,999.1088725715584,1000.9267078456826,1000.7351059426323,1000.9682480255664,1000.1643536864184,998.3562614334804,1000.8413480017985,1001.4454281451494,998.7844819521312,999.623106317033,998.491084423138,999.6043024074328,999.75011750367,1000.0224422749442,1000.6920279197756,998.0593701239186,999.1219399363944,998.2965768754082,999.3923008341064,999.5334353097056,1000.7718986812932,1000.831031795415,1001.8219295554936,1000.8470177352048,1000.0545103454182,999.7298780536884,998.5604958067804,999.7301904331024,999.9954064590718,998.6963927750094,1002.118702595375,998.74495599993,1000.021169564734,1001.1019761811166,1000.0075116787492,1001.648703655777,1000.0021862098728,999.8137991468687,1000.1746689855194,1000.5578265938934,1000.6644432344802,1000.0624653501494,1000.9205535666456,1000.6990554376296,998.4731398460236,998.9260238135428,999.210645243246,1000.1110699038604,1000.691641972672,1001.8721047897138,999.0118550817076,1000.958074056051,999.3089718391304,998.7819942330502,1000.0357638641724,1000.0490836039132,998.9053940026432,999.1361536581918,1000.6115204617624,999.5912902792702,1000.177815166058,1000.9765973336708,1000.3067811861882,1000.6607325078616,998.8848771158172,999.2989108945586,1000.7079235348316,999.2345979193708,998.9183656954672,999.7912233313656,1000.816521162992,1000.9015575201868,1001.1681436841784,999.8514538930448,1000.0847521387868,999.2615107142052,998.71521621813,999.903162876118,999.1619843350152,999.6798859557496,1000.6666409559232,1000.3309538352914,1001.4178721630616,998.074654672642,1001.2243293671028,1000.553564284494,999.4216054320208,999.4070184671556,998.6137120235472,1000.2462320061796,1000.8355433591132,999.9218025990764,999.3349244365032,1001.096297384408,998.9138478425658,999.0944124424548,1000.3350494906548,999.6578719154028,999.5128600106284,999.1937754222732,1000.6577166294873,1000.1955018818976,1001.6169440141754,1000.876904693194,1000.472712703357,999.4170607405986,999.2577785181284,998.5349489211924,1000.5181270900512,999.052433716639,998.5870991634102,1001.51666861716,999.4312160572488,1000.3917989458416,999.7367864493368,999.76260825347,999.0771653329252,1000.2807829745942,1000.481868423038,1000.9678423435462,999.3566518636914,998.9549396098377,999.1633271747648,1001.1916947834366,1000.129222660384,1001.8535356107338,1000.9175507328108,1000.9880043909012,999.525139242516,999.1751519770316,999.1641436797902,1000.8749842857544,999.8086418557856,999.271888214223,1000.547553460226,1000.7758768523316,998.5612485230116,1000.638738062489,999.7059234196794,1001.56584256576,1000.0946505942576,1000.2422432536572,999.672731720676,1000.0200261557756,998.8476055350642,998.5628508600396,1001.451407131737],\"type\":\"histogram\",\"xaxis\":\"x3\",\"yaxis\":\"y3\"}],                        {\"template\":{\"data\":{\"barpolar\":[{\"marker\":{\"line\":{\"color\":\"rgb(17,17,17)\",\"width\":0.5},\"pattern\":{\"fillmode\":\"overlay\",\"size\":10,\"solidity\":0.2}},\"type\":\"barpolar\"}],\"bar\":[{\"error_x\":{\"color\":\"#f2f5fa\"},\"error_y\":{\"color\":\"#f2f5fa\"},\"marker\":{\"line\":{\"color\":\"rgb(17,17,17)\",\"width\":0.5},\"pattern\":{\"fillmode\":\"overlay\",\"size\":10,\"solidity\":0.2}},\"type\":\"bar\"}],\"carpet\":[{\"aaxis\":{\"endlinecolor\":\"#A2B1C6\",\"gridcolor\":\"#506784\",\"linecolor\":\"#506784\",\"minorgridcolor\":\"#506784\",\"startlinecolor\":\"#A2B1C6\"},\"baxis\":{\"endlinecolor\":\"#A2B1C6\",\"gridcolor\":\"#506784\",\"linecolor\":\"#506784\",\"minorgridcolor\":\"#506784\",\"startlinecolor\":\"#A2B1C6\"},\"type\":\"carpet\"}],\"choropleth\":[{\"colorbar\":{\"outlinewidth\":0,\"ticks\":\"\"},\"type\":\"choropleth\"}],\"contourcarpet\":[{\"colorbar\":{\"outlinewidth\":0,\"ticks\":\"\"},\"type\":\"contourcarpet\"}],\"contour\":[{\"colorbar\":{\"outlinewidth\":0,\"ticks\":\"\"},\"colorscale\":[[0.0,\"#0d0887\"],[0.1111111111111111,\"#46039f\"],[0.2222222222222222,\"#7201a8\"],[0.3333333333333333,\"#9c179e\"],[0.4444444444444444,\"#bd3786\"],[0.5555555555555556,\"#d8576b\"],[0.6666666666666666,\"#ed7953\"],[0.7777777777777778,\"#fb9f3a\"],[0.8888888888888888,\"#fdca26\"],[1.0,\"#f0f921\"]],\"type\":\"contour\"}],\"heatmapgl\":[{\"colorbar\":{\"outlinewidth\":0,\"ticks\":\"\"},\"colorscale\":[[0.0,\"#0d0887\"],[0.1111111111111111,\"#46039f\"],[0.2222222222222222,\"#7201a8\"],[0.3333333333333333,\"#9c179e\"],[0.4444444444444444,\"#bd3786\"],[0.5555555555555556,\"#d8576b\"],[0.6666666666666666,\"#ed7953\"],[0.7777777777777778,\"#fb9f3a\"],[0.8888888888888888,\"#fdca26\"],[1.0,\"#f0f921\"]],\"type\":\"heatmapgl\"}],\"heatmap\":[{\"colorbar\":{\"outlinewidth\":0,\"ticks\":\"\"},\"colorscale\":[[0.0,\"#0d0887\"],[0.1111111111111111,\"#46039f\"],[0.2222222222222222,\"#7201a8\"],[0.3333333333333333,\"#9c179e\"],[0.4444444444444444,\"#bd3786\"],[0.5555555555555556,\"#d8576b\"],[0.6666666666666666,\"#ed7953\"],[0.7777777777777778,\"#fb9f3a\"],[0.8888888888888888,\"#fdca26\"],[1.0,\"#f0f921\"]],\"type\":\"heatmap\"}],\"histogram2dcontour\":[{\"colorbar\":{\"outlinewidth\":0,\"ticks\":\"\"},\"colorscale\":[[0.0,\"#0d0887\"],[0.1111111111111111,\"#46039f\"],[0.2222222222222222,\"#7201a8\"],[0.3333333333333333,\"#9c179e\"],[0.4444444444444444,\"#bd3786\"],[0.5555555555555556,\"#d8576b\"],[0.6666666666666666,\"#ed7953\"],[0.7777777777777778,\"#fb9f3a\"],[0.8888888888888888,\"#fdca26\"],[1.0,\"#f0f921\"]],\"type\":\"histogram2dcontour\"}],\"histogram2d\":[{\"colorbar\":{\"outlinewidth\":0,\"ticks\":\"\"},\"colorscale\":[[0.0,\"#0d0887\"],[0.1111111111111111,\"#46039f\"],[0.2222222222222222,\"#7201a8\"],[0.3333333333333333,\"#9c179e\"],[0.4444444444444444,\"#bd3786\"],[0.5555555555555556,\"#d8576b\"],[0.6666666666666666,\"#ed7953\"],[0.7777777777777778,\"#fb9f3a\"],[0.8888888888888888,\"#fdca26\"],[1.0,\"#f0f921\"]],\"type\":\"histogram2d\"}],\"histogram\":[{\"marker\":{\"pattern\":{\"fillmode\":\"overlay\",\"size\":10,\"solidity\":0.2}},\"type\":\"histogram\"}],\"mesh3d\":[{\"colorbar\":{\"outlinewidth\":0,\"ticks\":\"\"},\"type\":\"mesh3d\"}],\"parcoords\":[{\"line\":{\"colorbar\":{\"outlinewidth\":0,\"ticks\":\"\"}},\"type\":\"parcoords\"}],\"pie\":[{\"automargin\":true,\"type\":\"pie\"}],\"scatter3d\":[{\"line\":{\"colorbar\":{\"outlinewidth\":0,\"ticks\":\"\"}},\"marker\":{\"colorbar\":{\"outlinewidth\":0,\"ticks\":\"\"}},\"type\":\"scatter3d\"}],\"scattercarpet\":[{\"marker\":{\"colorbar\":{\"outlinewidth\":0,\"ticks\":\"\"}},\"type\":\"scattercarpet\"}],\"scattergeo\":[{\"marker\":{\"colorbar\":{\"outlinewidth\":0,\"ticks\":\"\"}},\"type\":\"scattergeo\"}],\"scattergl\":[{\"marker\":{\"line\":{\"color\":\"#283442\"}},\"type\":\"scattergl\"}],\"scattermapbox\":[{\"marker\":{\"colorbar\":{\"outlinewidth\":0,\"ticks\":\"\"}},\"type\":\"scattermapbox\"}],\"scatterpolargl\":[{\"marker\":{\"colorbar\":{\"outlinewidth\":0,\"ticks\":\"\"}},\"type\":\"scatterpolargl\"}],\"scatterpolar\":[{\"marker\":{\"colorbar\":{\"outlinewidth\":0,\"ticks\":\"\"}},\"type\":\"scatterpolar\"}],\"scatter\":[{\"marker\":{\"line\":{\"color\":\"#283442\"}},\"type\":\"scatter\"}],\"scatterternary\":[{\"marker\":{\"colorbar\":{\"outlinewidth\":0,\"ticks\":\"\"}},\"type\":\"scatterternary\"}],\"surface\":[{\"colorbar\":{\"outlinewidth\":0,\"ticks\":\"\"},\"colorscale\":[[0.0,\"#0d0887\"],[0.1111111111111111,\"#46039f\"],[0.2222222222222222,\"#7201a8\"],[0.3333333333333333,\"#9c179e\"],[0.4444444444444444,\"#bd3786\"],[0.5555555555555556,\"#d8576b\"],[0.6666666666666666,\"#ed7953\"],[0.7777777777777778,\"#fb9f3a\"],[0.8888888888888888,\"#fdca26\"],[1.0,\"#f0f921\"]],\"type\":\"surface\"}],\"table\":[{\"cells\":{\"fill\":{\"color\":\"#506784\"},\"line\":{\"color\":\"rgb(17,17,17)\"}},\"header\":{\"fill\":{\"color\":\"#2a3f5f\"},\"line\":{\"color\":\"rgb(17,17,17)\"}},\"type\":\"table\"}]},\"layout\":{\"annotationdefaults\":{\"arrowcolor\":\"#f2f5fa\",\"arrowhead\":0,\"arrowwidth\":1},\"autotypenumbers\":\"strict\",\"coloraxis\":{\"colorbar\":{\"outlinewidth\":0,\"ticks\":\"\"}},\"colorscale\":{\"diverging\":[[0,\"#8e0152\"],[0.1,\"#c51b7d\"],[0.2,\"#de77ae\"],[0.3,\"#f1b6da\"],[0.4,\"#fde0ef\"],[0.5,\"#f7f7f7\"],[0.6,\"#e6f5d0\"],[0.7,\"#b8e186\"],[0.8,\"#7fbc41\"],[0.9,\"#4d9221\"],[1,\"#276419\"]],\"sequential\":[[0.0,\"#0d0887\"],[0.1111111111111111,\"#46039f\"],[0.2222222222222222,\"#7201a8\"],[0.3333333333333333,\"#9c179e\"],[0.4444444444444444,\"#bd3786\"],[0.5555555555555556,\"#d8576b\"],[0.6666666666666666,\"#ed7953\"],[0.7777777777777778,\"#fb9f3a\"],[0.8888888888888888,\"#fdca26\"],[1.0,\"#f0f921\"]],\"sequentialminus\":[[0.0,\"#0d0887\"],[0.1111111111111111,\"#46039f\"],[0.2222222222222222,\"#7201a8\"],[0.3333333333333333,\"#9c179e\"],[0.4444444444444444,\"#bd3786\"],[0.5555555555555556,\"#d8576b\"],[0.6666666666666666,\"#ed7953\"],[0.7777777777777778,\"#fb9f3a\"],[0.8888888888888888,\"#fdca26\"],[1.0,\"#f0f921\"]]},\"colorway\":[\"#636efa\",\"#EF553B\",\"#00cc96\",\"#ab63fa\",\"#FFA15A\",\"#19d3f3\",\"#FF6692\",\"#B6E880\",\"#FF97FF\",\"#FECB52\"],\"font\":{\"color\":\"#f2f5fa\"},\"geo\":{\"bgcolor\":\"rgb(17,17,17)\",\"lakecolor\":\"rgb(17,17,17)\",\"landcolor\":\"rgb(17,17,17)\",\"showlakes\":true,\"showland\":true,\"subunitcolor\":\"#506784\"},\"hoverlabel\":{\"align\":\"left\"},\"hovermode\":\"closest\",\"mapbox\":{\"style\":\"dark\"},\"paper_bgcolor\":\"rgb(17,17,17)\",\"plot_bgcolor\":\"rgb(17,17,17)\",\"polar\":{\"angularaxis\":{\"gridcolor\":\"#506784\",\"linecolor\":\"#506784\",\"ticks\":\"\"},\"bgcolor\":\"rgb(17,17,17)\",\"radialaxis\":{\"gridcolor\":\"#506784\",\"linecolor\":\"#506784\",\"ticks\":\"\"}},\"scene\":{\"xaxis\":{\"backgroundcolor\":\"rgb(17,17,17)\",\"gridcolor\":\"#506784\",\"gridwidth\":2,\"linecolor\":\"#506784\",\"showbackground\":true,\"ticks\":\"\",\"zerolinecolor\":\"#C8D4E3\"},\"yaxis\":{\"backgroundcolor\":\"rgb(17,17,17)\",\"gridcolor\":\"#506784\",\"gridwidth\":2,\"linecolor\":\"#506784\",\"showbackground\":true,\"ticks\":\"\",\"zerolinecolor\":\"#C8D4E3\"},\"zaxis\":{\"backgroundcolor\":\"rgb(17,17,17)\",\"gridcolor\":\"#506784\",\"gridwidth\":2,\"linecolor\":\"#506784\",\"showbackground\":true,\"ticks\":\"\",\"zerolinecolor\":\"#C8D4E3\"}},\"shapedefaults\":{\"line\":{\"color\":\"#f2f5fa\"}},\"sliderdefaults\":{\"bgcolor\":\"#C8D4E3\",\"bordercolor\":\"rgb(17,17,17)\",\"borderwidth\":1,\"tickwidth\":0},\"ternary\":{\"aaxis\":{\"gridcolor\":\"#506784\",\"linecolor\":\"#506784\",\"ticks\":\"\"},\"baxis\":{\"gridcolor\":\"#506784\",\"linecolor\":\"#506784\",\"ticks\":\"\"},\"bgcolor\":\"rgb(17,17,17)\",\"caxis\":{\"gridcolor\":\"#506784\",\"linecolor\":\"#506784\",\"ticks\":\"\"}},\"title\":{\"x\":0.05},\"updatemenudefaults\":{\"bgcolor\":\"#506784\",\"borderwidth\":0},\"xaxis\":{\"automargin\":true,\"gridcolor\":\"#283442\",\"linecolor\":\"#506784\",\"ticks\":\"\",\"title\":{\"standoff\":15},\"zerolinecolor\":\"#283442\",\"zerolinewidth\":2},\"yaxis\":{\"automargin\":true,\"gridcolor\":\"#283442\",\"linecolor\":\"#506784\",\"ticks\":\"\",\"title\":{\"standoff\":15},\"zerolinecolor\":\"#283442\",\"zerolinewidth\":2}}},\"xaxis\":{\"anchor\":\"y\",\"domain\":[0.0,0.2888888888888889]},\"yaxis\":{\"anchor\":\"x\",\"domain\":[0.0,1.0]},\"xaxis2\":{\"anchor\":\"y2\",\"domain\":[0.35555555555555557,0.6444444444444445]},\"yaxis2\":{\"anchor\":\"x2\",\"domain\":[0.0,1.0]},\"xaxis3\":{\"anchor\":\"y3\",\"domain\":[0.7111111111111111,1.0]},\"yaxis3\":{\"anchor\":\"x3\",\"domain\":[0.0,1.0]},\"annotations\":[{\"font\":{\"size\":16},\"showarrow\":false,\"text\":\"price\",\"x\":0.14444444444444446,\"xanchor\":\"center\",\"xref\":\"paper\",\"y\":1.0,\"yanchor\":\"bottom\",\"yref\":\"paper\"},{\"font\":{\"size\":16},\"showarrow\":false,\"text\":\"feature1\",\"x\":0.5,\"xanchor\":\"center\",\"xref\":\"paper\",\"y\":1.0,\"yanchor\":\"bottom\",\"yref\":\"paper\"},{\"font\":{\"size\":16},\"showarrow\":false,\"text\":\"feature2\",\"x\":0.8555555555555556,\"xanchor\":\"center\",\"xref\":\"paper\",\"y\":1.0,\"yanchor\":\"bottom\",\"yref\":\"paper\"}],\"height\":400,\"width\":1500,\"font\":{\"color\":\"white\",\"size\":20},\"title\":{\"x\":0.5,\"y\":0.9},\"barmode\":\"overlay\"},                        {\"responsive\": true}                    ).then(function(){\n",
              "                            \n",
              "var gd = document.getElementById('d910f6d1-30a4-4522-80a3-b80428a395da');\n",
              "var x = new MutationObserver(function (mutations, observer) {{\n",
              "        var display = window.getComputedStyle(gd).display;\n",
              "        if (!display || display === 'none') {{\n",
              "            console.log([gd, 'removed!']);\n",
              "            Plotly.purge(gd);\n",
              "            observer.disconnect();\n",
              "        }}\n",
              "}});\n",
              "\n",
              "// Listen for the removal of the full notebook cells\n",
              "var notebookContainer = gd.closest('#notebook-container');\n",
              "if (notebookContainer) {{\n",
              "    x.observe(notebookContainer, {childList: true});\n",
              "}}\n",
              "\n",
              "// Listen for the clearing of the current output cell\n",
              "var outputEl = gd.closest('.output');\n",
              "if (outputEl) {{\n",
              "    x.observe(outputEl, {childList: true});\n",
              "}}\n",
              "\n",
              "                        })                };                            </script>        </div>\n",
              "</body>\n",
              "</html>"
            ]
          },
          "metadata": {}
        }
      ]
    },
    {
      "cell_type": "code",
      "execution_count": 98,
      "metadata": {
        "colab": {
          "base_uri": "https://localhost:8080/",
          "height": 300
        },
        "id": "WQCv7KmWIyK6",
        "outputId": "4d084649-b86e-4d42-9b4d-977da091e257"
      },
      "outputs": [
        {
          "output_type": "execute_result",
          "data": {
            "text/plain": [
              "             price     feature1     feature2\n",
              "count  1000.000000  1000.000000  1000.000000\n",
              "mean    498.673029  1000.014171   999.979847\n",
              "std      93.785431     0.974018     0.948330\n",
              "min     223.346793   997.058347   996.995651\n",
              "25%     433.025732   999.332068   999.316106\n",
              "50%     502.382117  1000.009915  1000.002243\n",
              "75%     564.921588  1000.637580  1000.645380\n",
              "max     774.407854  1003.207934  1002.666308"
            ],
            "text/html": [
              "\n",
              "  <div id=\"df-1069420e-3c9f-470e-b214-4310c204ccb0\" class=\"colab-df-container\">\n",
              "    <div>\n",
              "<style scoped>\n",
              "    .dataframe tbody tr th:only-of-type {\n",
              "        vertical-align: middle;\n",
              "    }\n",
              "\n",
              "    .dataframe tbody tr th {\n",
              "        vertical-align: top;\n",
              "    }\n",
              "\n",
              "    .dataframe thead th {\n",
              "        text-align: right;\n",
              "    }\n",
              "</style>\n",
              "<table border=\"1\" class=\"dataframe\">\n",
              "  <thead>\n",
              "    <tr style=\"text-align: right;\">\n",
              "      <th></th>\n",
              "      <th>price</th>\n",
              "      <th>feature1</th>\n",
              "      <th>feature2</th>\n",
              "    </tr>\n",
              "  </thead>\n",
              "  <tbody>\n",
              "    <tr>\n",
              "      <th>count</th>\n",
              "      <td>1000.000000</td>\n",
              "      <td>1000.000000</td>\n",
              "      <td>1000.000000</td>\n",
              "    </tr>\n",
              "    <tr>\n",
              "      <th>mean</th>\n",
              "      <td>498.673029</td>\n",
              "      <td>1000.014171</td>\n",
              "      <td>999.979847</td>\n",
              "    </tr>\n",
              "    <tr>\n",
              "      <th>std</th>\n",
              "      <td>93.785431</td>\n",
              "      <td>0.974018</td>\n",
              "      <td>0.948330</td>\n",
              "    </tr>\n",
              "    <tr>\n",
              "      <th>min</th>\n",
              "      <td>223.346793</td>\n",
              "      <td>997.058347</td>\n",
              "      <td>996.995651</td>\n",
              "    </tr>\n",
              "    <tr>\n",
              "      <th>25%</th>\n",
              "      <td>433.025732</td>\n",
              "      <td>999.332068</td>\n",
              "      <td>999.316106</td>\n",
              "    </tr>\n",
              "    <tr>\n",
              "      <th>50%</th>\n",
              "      <td>502.382117</td>\n",
              "      <td>1000.009915</td>\n",
              "      <td>1000.002243</td>\n",
              "    </tr>\n",
              "    <tr>\n",
              "      <th>75%</th>\n",
              "      <td>564.921588</td>\n",
              "      <td>1000.637580</td>\n",
              "      <td>1000.645380</td>\n",
              "    </tr>\n",
              "    <tr>\n",
              "      <th>max</th>\n",
              "      <td>774.407854</td>\n",
              "      <td>1003.207934</td>\n",
              "      <td>1002.666308</td>\n",
              "    </tr>\n",
              "  </tbody>\n",
              "</table>\n",
              "</div>\n",
              "    <div class=\"colab-df-buttons\">\n",
              "\n",
              "  <div class=\"colab-df-container\">\n",
              "    <button class=\"colab-df-convert\" onclick=\"convertToInteractive('df-1069420e-3c9f-470e-b214-4310c204ccb0')\"\n",
              "            title=\"Convert this dataframe to an interactive table.\"\n",
              "            style=\"display:none;\">\n",
              "\n",
              "  <svg xmlns=\"http://www.w3.org/2000/svg\" height=\"24px\" viewBox=\"0 -960 960 960\">\n",
              "    <path d=\"M120-120v-720h720v720H120Zm60-500h600v-160H180v160Zm220 220h160v-160H400v160Zm0 220h160v-160H400v160ZM180-400h160v-160H180v160Zm440 0h160v-160H620v160ZM180-180h160v-160H180v160Zm440 0h160v-160H620v160Z\"/>\n",
              "  </svg>\n",
              "    </button>\n",
              "\n",
              "  <style>\n",
              "    .colab-df-container {\n",
              "      display:flex;\n",
              "      gap: 12px;\n",
              "    }\n",
              "\n",
              "    .colab-df-convert {\n",
              "      background-color: #E8F0FE;\n",
              "      border: none;\n",
              "      border-radius: 50%;\n",
              "      cursor: pointer;\n",
              "      display: none;\n",
              "      fill: #1967D2;\n",
              "      height: 32px;\n",
              "      padding: 0 0 0 0;\n",
              "      width: 32px;\n",
              "    }\n",
              "\n",
              "    .colab-df-convert:hover {\n",
              "      background-color: #E2EBFA;\n",
              "      box-shadow: 0px 1px 2px rgba(60, 64, 67, 0.3), 0px 1px 3px 1px rgba(60, 64, 67, 0.15);\n",
              "      fill: #174EA6;\n",
              "    }\n",
              "\n",
              "    .colab-df-buttons div {\n",
              "      margin-bottom: 4px;\n",
              "    }\n",
              "\n",
              "    [theme=dark] .colab-df-convert {\n",
              "      background-color: #3B4455;\n",
              "      fill: #D2E3FC;\n",
              "    }\n",
              "\n",
              "    [theme=dark] .colab-df-convert:hover {\n",
              "      background-color: #434B5C;\n",
              "      box-shadow: 0px 1px 3px 1px rgba(0, 0, 0, 0.15);\n",
              "      filter: drop-shadow(0px 1px 2px rgba(0, 0, 0, 0.3));\n",
              "      fill: #FFFFFF;\n",
              "    }\n",
              "  </style>\n",
              "\n",
              "    <script>\n",
              "      const buttonEl =\n",
              "        document.querySelector('#df-1069420e-3c9f-470e-b214-4310c204ccb0 button.colab-df-convert');\n",
              "      buttonEl.style.display =\n",
              "        google.colab.kernel.accessAllowed ? 'block' : 'none';\n",
              "\n",
              "      async function convertToInteractive(key) {\n",
              "        const element = document.querySelector('#df-1069420e-3c9f-470e-b214-4310c204ccb0');\n",
              "        const dataTable =\n",
              "          await google.colab.kernel.invokeFunction('convertToInteractive',\n",
              "                                                    [key], {});\n",
              "        if (!dataTable) return;\n",
              "\n",
              "        const docLinkHtml = 'Like what you see? Visit the ' +\n",
              "          '<a target=\"_blank\" href=https://colab.research.google.com/notebooks/data_table.ipynb>data table notebook</a>'\n",
              "          + ' to learn more about interactive tables.';\n",
              "        element.innerHTML = '';\n",
              "        dataTable['output_type'] = 'display_data';\n",
              "        await google.colab.output.renderOutput(dataTable, element);\n",
              "        const docLink = document.createElement('div');\n",
              "        docLink.innerHTML = docLinkHtml;\n",
              "        element.appendChild(docLink);\n",
              "      }\n",
              "    </script>\n",
              "  </div>\n",
              "\n",
              "\n",
              "<div id=\"df-01995294-2bf6-4577-90b4-ddd34dadf009\">\n",
              "  <button class=\"colab-df-quickchart\" onclick=\"quickchart('df-01995294-2bf6-4577-90b4-ddd34dadf009')\"\n",
              "            title=\"Suggest charts\"\n",
              "            style=\"display:none;\">\n",
              "\n",
              "<svg xmlns=\"http://www.w3.org/2000/svg\" height=\"24px\"viewBox=\"0 0 24 24\"\n",
              "     width=\"24px\">\n",
              "    <g>\n",
              "        <path d=\"M19 3H5c-1.1 0-2 .9-2 2v14c0 1.1.9 2 2 2h14c1.1 0 2-.9 2-2V5c0-1.1-.9-2-2-2zM9 17H7v-7h2v7zm4 0h-2V7h2v10zm4 0h-2v-4h2v4z\"/>\n",
              "    </g>\n",
              "</svg>\n",
              "  </button>\n",
              "\n",
              "<style>\n",
              "  .colab-df-quickchart {\n",
              "      --bg-color: #E8F0FE;\n",
              "      --fill-color: #1967D2;\n",
              "      --hover-bg-color: #E2EBFA;\n",
              "      --hover-fill-color: #174EA6;\n",
              "      --disabled-fill-color: #AAA;\n",
              "      --disabled-bg-color: #DDD;\n",
              "  }\n",
              "\n",
              "  [theme=dark] .colab-df-quickchart {\n",
              "      --bg-color: #3B4455;\n",
              "      --fill-color: #D2E3FC;\n",
              "      --hover-bg-color: #434B5C;\n",
              "      --hover-fill-color: #FFFFFF;\n",
              "      --disabled-bg-color: #3B4455;\n",
              "      --disabled-fill-color: #666;\n",
              "  }\n",
              "\n",
              "  .colab-df-quickchart {\n",
              "    background-color: var(--bg-color);\n",
              "    border: none;\n",
              "    border-radius: 50%;\n",
              "    cursor: pointer;\n",
              "    display: none;\n",
              "    fill: var(--fill-color);\n",
              "    height: 32px;\n",
              "    padding: 0;\n",
              "    width: 32px;\n",
              "  }\n",
              "\n",
              "  .colab-df-quickchart:hover {\n",
              "    background-color: var(--hover-bg-color);\n",
              "    box-shadow: 0 1px 2px rgba(60, 64, 67, 0.3), 0 1px 3px 1px rgba(60, 64, 67, 0.15);\n",
              "    fill: var(--button-hover-fill-color);\n",
              "  }\n",
              "\n",
              "  .colab-df-quickchart-complete:disabled,\n",
              "  .colab-df-quickchart-complete:disabled:hover {\n",
              "    background-color: var(--disabled-bg-color);\n",
              "    fill: var(--disabled-fill-color);\n",
              "    box-shadow: none;\n",
              "  }\n",
              "\n",
              "  .colab-df-spinner {\n",
              "    border: 2px solid var(--fill-color);\n",
              "    border-color: transparent;\n",
              "    border-bottom-color: var(--fill-color);\n",
              "    animation:\n",
              "      spin 1s steps(1) infinite;\n",
              "  }\n",
              "\n",
              "  @keyframes spin {\n",
              "    0% {\n",
              "      border-color: transparent;\n",
              "      border-bottom-color: var(--fill-color);\n",
              "      border-left-color: var(--fill-color);\n",
              "    }\n",
              "    20% {\n",
              "      border-color: transparent;\n",
              "      border-left-color: var(--fill-color);\n",
              "      border-top-color: var(--fill-color);\n",
              "    }\n",
              "    30% {\n",
              "      border-color: transparent;\n",
              "      border-left-color: var(--fill-color);\n",
              "      border-top-color: var(--fill-color);\n",
              "      border-right-color: var(--fill-color);\n",
              "    }\n",
              "    40% {\n",
              "      border-color: transparent;\n",
              "      border-right-color: var(--fill-color);\n",
              "      border-top-color: var(--fill-color);\n",
              "    }\n",
              "    60% {\n",
              "      border-color: transparent;\n",
              "      border-right-color: var(--fill-color);\n",
              "    }\n",
              "    80% {\n",
              "      border-color: transparent;\n",
              "      border-right-color: var(--fill-color);\n",
              "      border-bottom-color: var(--fill-color);\n",
              "    }\n",
              "    90% {\n",
              "      border-color: transparent;\n",
              "      border-bottom-color: var(--fill-color);\n",
              "    }\n",
              "  }\n",
              "</style>\n",
              "\n",
              "  <script>\n",
              "    async function quickchart(key) {\n",
              "      const quickchartButtonEl =\n",
              "        document.querySelector('#' + key + ' button');\n",
              "      quickchartButtonEl.disabled = true;  // To prevent multiple clicks.\n",
              "      quickchartButtonEl.classList.add('colab-df-spinner');\n",
              "      try {\n",
              "        const charts = await google.colab.kernel.invokeFunction(\n",
              "            'suggestCharts', [key], {});\n",
              "      } catch (error) {\n",
              "        console.error('Error during call to suggestCharts:', error);\n",
              "      }\n",
              "      quickchartButtonEl.classList.remove('colab-df-spinner');\n",
              "      quickchartButtonEl.classList.add('colab-df-quickchart-complete');\n",
              "    }\n",
              "    (() => {\n",
              "      let quickchartButtonEl =\n",
              "        document.querySelector('#df-01995294-2bf6-4577-90b4-ddd34dadf009 button');\n",
              "      quickchartButtonEl.style.display =\n",
              "        google.colab.kernel.accessAllowed ? 'block' : 'none';\n",
              "    })();\n",
              "  </script>\n",
              "</div>\n",
              "\n",
              "    </div>\n",
              "  </div>\n"
            ],
            "application/vnd.google.colaboratory.intrinsic+json": {
              "type": "dataframe",
              "summary": "{\n  \"name\": \"df\",\n  \"rows\": 8,\n  \"fields\": [\n    {\n      \"column\": \"price\",\n      \"properties\": {\n        \"dtype\": \"number\",\n        \"std\": 286.48859370939954,\n        \"min\": 93.78543079033274,\n        \"max\": 1000.0,\n        \"num_unique_values\": 8,\n        \"samples\": [\n          498.6730289967182,\n          502.382117320636,\n          1000.0\n        ],\n        \"semantic_type\": \"\",\n        \"description\": \"\"\n      }\n    },\n    {\n      \"column\": \"feature1\",\n      \"properties\": {\n        \"dtype\": \"number\",\n        \"std\": 353.22615740384975,\n        \"min\": 0.9740178775035345,\n        \"max\": 1003.2079336486612,\n        \"num_unique_values\": 8,\n        \"samples\": [\n          1000.0141712017494,\n          1000.0099146196753,\n          1000.0\n        ],\n        \"semantic_type\": \"\",\n        \"description\": \"\"\n      }\n    },\n    {\n      \"column\": \"feature2\",\n      \"properties\": {\n        \"dtype\": \"number\",\n        \"std\": 353.2016193314689,\n        \"min\": 0.9483300251569233,\n        \"max\": 1002.66630765155,\n        \"num_unique_values\": 8,\n        \"samples\": [\n          999.9798474486432,\n          1000.0022434866198,\n          1000.0\n        ],\n        \"semantic_type\": \"\",\n        \"description\": \"\"\n      }\n    }\n  ]\n}"
            }
          },
          "metadata": {},
          "execution_count": 98
        }
      ],
      "source": [
        "df.describe()"
      ]
    },
    {
      "cell_type": "markdown",
      "source": [
        "# Clean Dataset"
      ],
      "metadata": {
        "id": "tufVDJy9nmly"
      }
    },
    {
      "cell_type": "markdown",
      "source": [
        "## Drop Duplicate data"
      ],
      "metadata": {
        "id": "nfkpctzENqNm"
      }
    },
    {
      "cell_type": "code",
      "source": [
        "df.drop_duplicates()"
      ],
      "metadata": {
        "id": "YwM7bJgfnkU_",
        "colab": {
          "base_uri": "https://localhost:8080/",
          "height": 424
        },
        "outputId": "3641e544-e6a6-4cd2-bd3f-db9768683053"
      },
      "execution_count": 99,
      "outputs": [
        {
          "output_type": "execute_result",
          "data": {
            "text/plain": [
              "          price     feature1     feature2\n",
              "0    461.527929   999.787558   999.766096\n",
              "1    548.130011   998.861615  1001.042403\n",
              "2    410.297162  1000.070267   998.844015\n",
              "3    540.382220   999.952251  1000.440940\n",
              "4    546.024553  1000.446011  1000.338531\n",
              "..          ...          ...          ...\n",
              "995  476.526078  1000.018988   999.672732\n",
              "996  457.313186   998.855379  1000.020026\n",
              "997  456.720992  1001.451646   998.847606\n",
              "998  403.315576  1000.771023   998.562851\n",
              "999  599.367093   999.232244  1001.451407\n",
              "\n",
              "[1000 rows x 3 columns]"
            ],
            "text/html": [
              "\n",
              "  <div id=\"df-2af55c44-8146-481b-860f-3a4c08baea5b\" class=\"colab-df-container\">\n",
              "    <div>\n",
              "<style scoped>\n",
              "    .dataframe tbody tr th:only-of-type {\n",
              "        vertical-align: middle;\n",
              "    }\n",
              "\n",
              "    .dataframe tbody tr th {\n",
              "        vertical-align: top;\n",
              "    }\n",
              "\n",
              "    .dataframe thead th {\n",
              "        text-align: right;\n",
              "    }\n",
              "</style>\n",
              "<table border=\"1\" class=\"dataframe\">\n",
              "  <thead>\n",
              "    <tr style=\"text-align: right;\">\n",
              "      <th></th>\n",
              "      <th>price</th>\n",
              "      <th>feature1</th>\n",
              "      <th>feature2</th>\n",
              "    </tr>\n",
              "  </thead>\n",
              "  <tbody>\n",
              "    <tr>\n",
              "      <th>0</th>\n",
              "      <td>461.527929</td>\n",
              "      <td>999.787558</td>\n",
              "      <td>999.766096</td>\n",
              "    </tr>\n",
              "    <tr>\n",
              "      <th>1</th>\n",
              "      <td>548.130011</td>\n",
              "      <td>998.861615</td>\n",
              "      <td>1001.042403</td>\n",
              "    </tr>\n",
              "    <tr>\n",
              "      <th>2</th>\n",
              "      <td>410.297162</td>\n",
              "      <td>1000.070267</td>\n",
              "      <td>998.844015</td>\n",
              "    </tr>\n",
              "    <tr>\n",
              "      <th>3</th>\n",
              "      <td>540.382220</td>\n",
              "      <td>999.952251</td>\n",
              "      <td>1000.440940</td>\n",
              "    </tr>\n",
              "    <tr>\n",
              "      <th>4</th>\n",
              "      <td>546.024553</td>\n",
              "      <td>1000.446011</td>\n",
              "      <td>1000.338531</td>\n",
              "    </tr>\n",
              "    <tr>\n",
              "      <th>...</th>\n",
              "      <td>...</td>\n",
              "      <td>...</td>\n",
              "      <td>...</td>\n",
              "    </tr>\n",
              "    <tr>\n",
              "      <th>995</th>\n",
              "      <td>476.526078</td>\n",
              "      <td>1000.018988</td>\n",
              "      <td>999.672732</td>\n",
              "    </tr>\n",
              "    <tr>\n",
              "      <th>996</th>\n",
              "      <td>457.313186</td>\n",
              "      <td>998.855379</td>\n",
              "      <td>1000.020026</td>\n",
              "    </tr>\n",
              "    <tr>\n",
              "      <th>997</th>\n",
              "      <td>456.720992</td>\n",
              "      <td>1001.451646</td>\n",
              "      <td>998.847606</td>\n",
              "    </tr>\n",
              "    <tr>\n",
              "      <th>998</th>\n",
              "      <td>403.315576</td>\n",
              "      <td>1000.771023</td>\n",
              "      <td>998.562851</td>\n",
              "    </tr>\n",
              "    <tr>\n",
              "      <th>999</th>\n",
              "      <td>599.367093</td>\n",
              "      <td>999.232244</td>\n",
              "      <td>1001.451407</td>\n",
              "    </tr>\n",
              "  </tbody>\n",
              "</table>\n",
              "<p>1000 rows × 3 columns</p>\n",
              "</div>\n",
              "    <div class=\"colab-df-buttons\">\n",
              "\n",
              "  <div class=\"colab-df-container\">\n",
              "    <button class=\"colab-df-convert\" onclick=\"convertToInteractive('df-2af55c44-8146-481b-860f-3a4c08baea5b')\"\n",
              "            title=\"Convert this dataframe to an interactive table.\"\n",
              "            style=\"display:none;\">\n",
              "\n",
              "  <svg xmlns=\"http://www.w3.org/2000/svg\" height=\"24px\" viewBox=\"0 -960 960 960\">\n",
              "    <path d=\"M120-120v-720h720v720H120Zm60-500h600v-160H180v160Zm220 220h160v-160H400v160Zm0 220h160v-160H400v160ZM180-400h160v-160H180v160Zm440 0h160v-160H620v160ZM180-180h160v-160H180v160Zm440 0h160v-160H620v160Z\"/>\n",
              "  </svg>\n",
              "    </button>\n",
              "\n",
              "  <style>\n",
              "    .colab-df-container {\n",
              "      display:flex;\n",
              "      gap: 12px;\n",
              "    }\n",
              "\n",
              "    .colab-df-convert {\n",
              "      background-color: #E8F0FE;\n",
              "      border: none;\n",
              "      border-radius: 50%;\n",
              "      cursor: pointer;\n",
              "      display: none;\n",
              "      fill: #1967D2;\n",
              "      height: 32px;\n",
              "      padding: 0 0 0 0;\n",
              "      width: 32px;\n",
              "    }\n",
              "\n",
              "    .colab-df-convert:hover {\n",
              "      background-color: #E2EBFA;\n",
              "      box-shadow: 0px 1px 2px rgba(60, 64, 67, 0.3), 0px 1px 3px 1px rgba(60, 64, 67, 0.15);\n",
              "      fill: #174EA6;\n",
              "    }\n",
              "\n",
              "    .colab-df-buttons div {\n",
              "      margin-bottom: 4px;\n",
              "    }\n",
              "\n",
              "    [theme=dark] .colab-df-convert {\n",
              "      background-color: #3B4455;\n",
              "      fill: #D2E3FC;\n",
              "    }\n",
              "\n",
              "    [theme=dark] .colab-df-convert:hover {\n",
              "      background-color: #434B5C;\n",
              "      box-shadow: 0px 1px 3px 1px rgba(0, 0, 0, 0.15);\n",
              "      filter: drop-shadow(0px 1px 2px rgba(0, 0, 0, 0.3));\n",
              "      fill: #FFFFFF;\n",
              "    }\n",
              "  </style>\n",
              "\n",
              "    <script>\n",
              "      const buttonEl =\n",
              "        document.querySelector('#df-2af55c44-8146-481b-860f-3a4c08baea5b button.colab-df-convert');\n",
              "      buttonEl.style.display =\n",
              "        google.colab.kernel.accessAllowed ? 'block' : 'none';\n",
              "\n",
              "      async function convertToInteractive(key) {\n",
              "        const element = document.querySelector('#df-2af55c44-8146-481b-860f-3a4c08baea5b');\n",
              "        const dataTable =\n",
              "          await google.colab.kernel.invokeFunction('convertToInteractive',\n",
              "                                                    [key], {});\n",
              "        if (!dataTable) return;\n",
              "\n",
              "        const docLinkHtml = 'Like what you see? Visit the ' +\n",
              "          '<a target=\"_blank\" href=https://colab.research.google.com/notebooks/data_table.ipynb>data table notebook</a>'\n",
              "          + ' to learn more about interactive tables.';\n",
              "        element.innerHTML = '';\n",
              "        dataTable['output_type'] = 'display_data';\n",
              "        await google.colab.output.renderOutput(dataTable, element);\n",
              "        const docLink = document.createElement('div');\n",
              "        docLink.innerHTML = docLinkHtml;\n",
              "        element.appendChild(docLink);\n",
              "      }\n",
              "    </script>\n",
              "  </div>\n",
              "\n",
              "\n",
              "<div id=\"df-dffeb872-e45f-4755-86da-b9205d0ec96f\">\n",
              "  <button class=\"colab-df-quickchart\" onclick=\"quickchart('df-dffeb872-e45f-4755-86da-b9205d0ec96f')\"\n",
              "            title=\"Suggest charts\"\n",
              "            style=\"display:none;\">\n",
              "\n",
              "<svg xmlns=\"http://www.w3.org/2000/svg\" height=\"24px\"viewBox=\"0 0 24 24\"\n",
              "     width=\"24px\">\n",
              "    <g>\n",
              "        <path d=\"M19 3H5c-1.1 0-2 .9-2 2v14c0 1.1.9 2 2 2h14c1.1 0 2-.9 2-2V5c0-1.1-.9-2-2-2zM9 17H7v-7h2v7zm4 0h-2V7h2v10zm4 0h-2v-4h2v4z\"/>\n",
              "    </g>\n",
              "</svg>\n",
              "  </button>\n",
              "\n",
              "<style>\n",
              "  .colab-df-quickchart {\n",
              "      --bg-color: #E8F0FE;\n",
              "      --fill-color: #1967D2;\n",
              "      --hover-bg-color: #E2EBFA;\n",
              "      --hover-fill-color: #174EA6;\n",
              "      --disabled-fill-color: #AAA;\n",
              "      --disabled-bg-color: #DDD;\n",
              "  }\n",
              "\n",
              "  [theme=dark] .colab-df-quickchart {\n",
              "      --bg-color: #3B4455;\n",
              "      --fill-color: #D2E3FC;\n",
              "      --hover-bg-color: #434B5C;\n",
              "      --hover-fill-color: #FFFFFF;\n",
              "      --disabled-bg-color: #3B4455;\n",
              "      --disabled-fill-color: #666;\n",
              "  }\n",
              "\n",
              "  .colab-df-quickchart {\n",
              "    background-color: var(--bg-color);\n",
              "    border: none;\n",
              "    border-radius: 50%;\n",
              "    cursor: pointer;\n",
              "    display: none;\n",
              "    fill: var(--fill-color);\n",
              "    height: 32px;\n",
              "    padding: 0;\n",
              "    width: 32px;\n",
              "  }\n",
              "\n",
              "  .colab-df-quickchart:hover {\n",
              "    background-color: var(--hover-bg-color);\n",
              "    box-shadow: 0 1px 2px rgba(60, 64, 67, 0.3), 0 1px 3px 1px rgba(60, 64, 67, 0.15);\n",
              "    fill: var(--button-hover-fill-color);\n",
              "  }\n",
              "\n",
              "  .colab-df-quickchart-complete:disabled,\n",
              "  .colab-df-quickchart-complete:disabled:hover {\n",
              "    background-color: var(--disabled-bg-color);\n",
              "    fill: var(--disabled-fill-color);\n",
              "    box-shadow: none;\n",
              "  }\n",
              "\n",
              "  .colab-df-spinner {\n",
              "    border: 2px solid var(--fill-color);\n",
              "    border-color: transparent;\n",
              "    border-bottom-color: var(--fill-color);\n",
              "    animation:\n",
              "      spin 1s steps(1) infinite;\n",
              "  }\n",
              "\n",
              "  @keyframes spin {\n",
              "    0% {\n",
              "      border-color: transparent;\n",
              "      border-bottom-color: var(--fill-color);\n",
              "      border-left-color: var(--fill-color);\n",
              "    }\n",
              "    20% {\n",
              "      border-color: transparent;\n",
              "      border-left-color: var(--fill-color);\n",
              "      border-top-color: var(--fill-color);\n",
              "    }\n",
              "    30% {\n",
              "      border-color: transparent;\n",
              "      border-left-color: var(--fill-color);\n",
              "      border-top-color: var(--fill-color);\n",
              "      border-right-color: var(--fill-color);\n",
              "    }\n",
              "    40% {\n",
              "      border-color: transparent;\n",
              "      border-right-color: var(--fill-color);\n",
              "      border-top-color: var(--fill-color);\n",
              "    }\n",
              "    60% {\n",
              "      border-color: transparent;\n",
              "      border-right-color: var(--fill-color);\n",
              "    }\n",
              "    80% {\n",
              "      border-color: transparent;\n",
              "      border-right-color: var(--fill-color);\n",
              "      border-bottom-color: var(--fill-color);\n",
              "    }\n",
              "    90% {\n",
              "      border-color: transparent;\n",
              "      border-bottom-color: var(--fill-color);\n",
              "    }\n",
              "  }\n",
              "</style>\n",
              "\n",
              "  <script>\n",
              "    async function quickchart(key) {\n",
              "      const quickchartButtonEl =\n",
              "        document.querySelector('#' + key + ' button');\n",
              "      quickchartButtonEl.disabled = true;  // To prevent multiple clicks.\n",
              "      quickchartButtonEl.classList.add('colab-df-spinner');\n",
              "      try {\n",
              "        const charts = await google.colab.kernel.invokeFunction(\n",
              "            'suggestCharts', [key], {});\n",
              "      } catch (error) {\n",
              "        console.error('Error during call to suggestCharts:', error);\n",
              "      }\n",
              "      quickchartButtonEl.classList.remove('colab-df-spinner');\n",
              "      quickchartButtonEl.classList.add('colab-df-quickchart-complete');\n",
              "    }\n",
              "    (() => {\n",
              "      let quickchartButtonEl =\n",
              "        document.querySelector('#df-dffeb872-e45f-4755-86da-b9205d0ec96f button');\n",
              "      quickchartButtonEl.style.display =\n",
              "        google.colab.kernel.accessAllowed ? 'block' : 'none';\n",
              "    })();\n",
              "  </script>\n",
              "</div>\n",
              "\n",
              "    </div>\n",
              "  </div>\n"
            ],
            "application/vnd.google.colaboratory.intrinsic+json": {
              "type": "dataframe",
              "summary": "{\n  \"name\": \"df\",\n  \"rows\": 1000,\n  \"fields\": [\n    {\n      \"column\": \"price\",\n      \"properties\": {\n        \"dtype\": \"number\",\n        \"std\": 93.78543079033274,\n        \"min\": 223.34679276337343,\n        \"max\": 774.4078544514234,\n        \"num_unique_values\": 1000,\n        \"samples\": [\n          402.2963187329033,\n          624.1561984672744,\n          582.4550662975032\n        ],\n        \"semantic_type\": \"\",\n        \"description\": \"\"\n      }\n    },\n    {\n      \"column\": \"feature1\",\n      \"properties\": {\n        \"dtype\": \"number\",\n        \"std\": 0.9740178775035345,\n        \"min\": 997.058347208966,\n        \"max\": 1003.2079336486612,\n        \"num_unique_values\": 1000,\n        \"samples\": [\n          999.5412155772106,\n          1000.6186221563844,\n          1000.8607937541136\n        ],\n        \"semantic_type\": \"\",\n        \"description\": \"\"\n      }\n    },\n    {\n      \"column\": \"feature2\",\n      \"properties\": {\n        \"dtype\": \"number\",\n        \"std\": 0.9483300251569233,\n        \"min\": 996.9956509692493,\n        \"max\": 1002.66630765155,\n        \"num_unique_values\": 1000,\n        \"samples\": [\n          999.1411432823083,\n          1001.1190508063044,\n          1000.6549633927756\n        ],\n        \"semantic_type\": \"\",\n        \"description\": \"\"\n      }\n    }\n  ]\n}"
            }
          },
          "metadata": {},
          "execution_count": 99
        }
      ]
    },
    {
      "cell_type": "markdown",
      "metadata": {
        "id": "xhpDvWQjWkTn"
      },
      "source": [
        "## Swap the target and the last feature"
      ]
    },
    {
      "cell_type": "code",
      "execution_count": 100,
      "metadata": {
        "colab": {
          "base_uri": "https://localhost:8080/",
          "height": 206
        },
        "id": "1pAqlbkSWVNq",
        "outputId": "406087ac-e267-4ccd-df26-d3799e345155"
      },
      "outputs": [
        {
          "output_type": "execute_result",
          "data": {
            "text/plain": [
              "      feature1     feature2       price\n",
              "0   999.787558   999.766096  461.527929\n",
              "1   998.861615  1001.042403  548.130011\n",
              "2  1000.070267   998.844015  410.297162\n",
              "3   999.952251  1000.440940  540.382220\n",
              "4  1000.446011  1000.338531  546.024553"
            ],
            "text/html": [
              "\n",
              "  <div id=\"df-e891fc57-6366-421d-9ab1-abb868eb8aa5\" class=\"colab-df-container\">\n",
              "    <div>\n",
              "<style scoped>\n",
              "    .dataframe tbody tr th:only-of-type {\n",
              "        vertical-align: middle;\n",
              "    }\n",
              "\n",
              "    .dataframe tbody tr th {\n",
              "        vertical-align: top;\n",
              "    }\n",
              "\n",
              "    .dataframe thead th {\n",
              "        text-align: right;\n",
              "    }\n",
              "</style>\n",
              "<table border=\"1\" class=\"dataframe\">\n",
              "  <thead>\n",
              "    <tr style=\"text-align: right;\">\n",
              "      <th></th>\n",
              "      <th>feature1</th>\n",
              "      <th>feature2</th>\n",
              "      <th>price</th>\n",
              "    </tr>\n",
              "  </thead>\n",
              "  <tbody>\n",
              "    <tr>\n",
              "      <th>0</th>\n",
              "      <td>999.787558</td>\n",
              "      <td>999.766096</td>\n",
              "      <td>461.527929</td>\n",
              "    </tr>\n",
              "    <tr>\n",
              "      <th>1</th>\n",
              "      <td>998.861615</td>\n",
              "      <td>1001.042403</td>\n",
              "      <td>548.130011</td>\n",
              "    </tr>\n",
              "    <tr>\n",
              "      <th>2</th>\n",
              "      <td>1000.070267</td>\n",
              "      <td>998.844015</td>\n",
              "      <td>410.297162</td>\n",
              "    </tr>\n",
              "    <tr>\n",
              "      <th>3</th>\n",
              "      <td>999.952251</td>\n",
              "      <td>1000.440940</td>\n",
              "      <td>540.382220</td>\n",
              "    </tr>\n",
              "    <tr>\n",
              "      <th>4</th>\n",
              "      <td>1000.446011</td>\n",
              "      <td>1000.338531</td>\n",
              "      <td>546.024553</td>\n",
              "    </tr>\n",
              "  </tbody>\n",
              "</table>\n",
              "</div>\n",
              "    <div class=\"colab-df-buttons\">\n",
              "\n",
              "  <div class=\"colab-df-container\">\n",
              "    <button class=\"colab-df-convert\" onclick=\"convertToInteractive('df-e891fc57-6366-421d-9ab1-abb868eb8aa5')\"\n",
              "            title=\"Convert this dataframe to an interactive table.\"\n",
              "            style=\"display:none;\">\n",
              "\n",
              "  <svg xmlns=\"http://www.w3.org/2000/svg\" height=\"24px\" viewBox=\"0 -960 960 960\">\n",
              "    <path d=\"M120-120v-720h720v720H120Zm60-500h600v-160H180v160Zm220 220h160v-160H400v160Zm0 220h160v-160H400v160ZM180-400h160v-160H180v160Zm440 0h160v-160H620v160ZM180-180h160v-160H180v160Zm440 0h160v-160H620v160Z\"/>\n",
              "  </svg>\n",
              "    </button>\n",
              "\n",
              "  <style>\n",
              "    .colab-df-container {\n",
              "      display:flex;\n",
              "      gap: 12px;\n",
              "    }\n",
              "\n",
              "    .colab-df-convert {\n",
              "      background-color: #E8F0FE;\n",
              "      border: none;\n",
              "      border-radius: 50%;\n",
              "      cursor: pointer;\n",
              "      display: none;\n",
              "      fill: #1967D2;\n",
              "      height: 32px;\n",
              "      padding: 0 0 0 0;\n",
              "      width: 32px;\n",
              "    }\n",
              "\n",
              "    .colab-df-convert:hover {\n",
              "      background-color: #E2EBFA;\n",
              "      box-shadow: 0px 1px 2px rgba(60, 64, 67, 0.3), 0px 1px 3px 1px rgba(60, 64, 67, 0.15);\n",
              "      fill: #174EA6;\n",
              "    }\n",
              "\n",
              "    .colab-df-buttons div {\n",
              "      margin-bottom: 4px;\n",
              "    }\n",
              "\n",
              "    [theme=dark] .colab-df-convert {\n",
              "      background-color: #3B4455;\n",
              "      fill: #D2E3FC;\n",
              "    }\n",
              "\n",
              "    [theme=dark] .colab-df-convert:hover {\n",
              "      background-color: #434B5C;\n",
              "      box-shadow: 0px 1px 3px 1px rgba(0, 0, 0, 0.15);\n",
              "      filter: drop-shadow(0px 1px 2px rgba(0, 0, 0, 0.3));\n",
              "      fill: #FFFFFF;\n",
              "    }\n",
              "  </style>\n",
              "\n",
              "    <script>\n",
              "      const buttonEl =\n",
              "        document.querySelector('#df-e891fc57-6366-421d-9ab1-abb868eb8aa5 button.colab-df-convert');\n",
              "      buttonEl.style.display =\n",
              "        google.colab.kernel.accessAllowed ? 'block' : 'none';\n",
              "\n",
              "      async function convertToInteractive(key) {\n",
              "        const element = document.querySelector('#df-e891fc57-6366-421d-9ab1-abb868eb8aa5');\n",
              "        const dataTable =\n",
              "          await google.colab.kernel.invokeFunction('convertToInteractive',\n",
              "                                                    [key], {});\n",
              "        if (!dataTable) return;\n",
              "\n",
              "        const docLinkHtml = 'Like what you see? Visit the ' +\n",
              "          '<a target=\"_blank\" href=https://colab.research.google.com/notebooks/data_table.ipynb>data table notebook</a>'\n",
              "          + ' to learn more about interactive tables.';\n",
              "        element.innerHTML = '';\n",
              "        dataTable['output_type'] = 'display_data';\n",
              "        await google.colab.output.renderOutput(dataTable, element);\n",
              "        const docLink = document.createElement('div');\n",
              "        docLink.innerHTML = docLinkHtml;\n",
              "        element.appendChild(docLink);\n",
              "      }\n",
              "    </script>\n",
              "  </div>\n",
              "\n",
              "\n",
              "<div id=\"df-fa248c8b-8ab4-4750-8191-4f55366a0630\">\n",
              "  <button class=\"colab-df-quickchart\" onclick=\"quickchart('df-fa248c8b-8ab4-4750-8191-4f55366a0630')\"\n",
              "            title=\"Suggest charts\"\n",
              "            style=\"display:none;\">\n",
              "\n",
              "<svg xmlns=\"http://www.w3.org/2000/svg\" height=\"24px\"viewBox=\"0 0 24 24\"\n",
              "     width=\"24px\">\n",
              "    <g>\n",
              "        <path d=\"M19 3H5c-1.1 0-2 .9-2 2v14c0 1.1.9 2 2 2h14c1.1 0 2-.9 2-2V5c0-1.1-.9-2-2-2zM9 17H7v-7h2v7zm4 0h-2V7h2v10zm4 0h-2v-4h2v4z\"/>\n",
              "    </g>\n",
              "</svg>\n",
              "  </button>\n",
              "\n",
              "<style>\n",
              "  .colab-df-quickchart {\n",
              "      --bg-color: #E8F0FE;\n",
              "      --fill-color: #1967D2;\n",
              "      --hover-bg-color: #E2EBFA;\n",
              "      --hover-fill-color: #174EA6;\n",
              "      --disabled-fill-color: #AAA;\n",
              "      --disabled-bg-color: #DDD;\n",
              "  }\n",
              "\n",
              "  [theme=dark] .colab-df-quickchart {\n",
              "      --bg-color: #3B4455;\n",
              "      --fill-color: #D2E3FC;\n",
              "      --hover-bg-color: #434B5C;\n",
              "      --hover-fill-color: #FFFFFF;\n",
              "      --disabled-bg-color: #3B4455;\n",
              "      --disabled-fill-color: #666;\n",
              "  }\n",
              "\n",
              "  .colab-df-quickchart {\n",
              "    background-color: var(--bg-color);\n",
              "    border: none;\n",
              "    border-radius: 50%;\n",
              "    cursor: pointer;\n",
              "    display: none;\n",
              "    fill: var(--fill-color);\n",
              "    height: 32px;\n",
              "    padding: 0;\n",
              "    width: 32px;\n",
              "  }\n",
              "\n",
              "  .colab-df-quickchart:hover {\n",
              "    background-color: var(--hover-bg-color);\n",
              "    box-shadow: 0 1px 2px rgba(60, 64, 67, 0.3), 0 1px 3px 1px rgba(60, 64, 67, 0.15);\n",
              "    fill: var(--button-hover-fill-color);\n",
              "  }\n",
              "\n",
              "  .colab-df-quickchart-complete:disabled,\n",
              "  .colab-df-quickchart-complete:disabled:hover {\n",
              "    background-color: var(--disabled-bg-color);\n",
              "    fill: var(--disabled-fill-color);\n",
              "    box-shadow: none;\n",
              "  }\n",
              "\n",
              "  .colab-df-spinner {\n",
              "    border: 2px solid var(--fill-color);\n",
              "    border-color: transparent;\n",
              "    border-bottom-color: var(--fill-color);\n",
              "    animation:\n",
              "      spin 1s steps(1) infinite;\n",
              "  }\n",
              "\n",
              "  @keyframes spin {\n",
              "    0% {\n",
              "      border-color: transparent;\n",
              "      border-bottom-color: var(--fill-color);\n",
              "      border-left-color: var(--fill-color);\n",
              "    }\n",
              "    20% {\n",
              "      border-color: transparent;\n",
              "      border-left-color: var(--fill-color);\n",
              "      border-top-color: var(--fill-color);\n",
              "    }\n",
              "    30% {\n",
              "      border-color: transparent;\n",
              "      border-left-color: var(--fill-color);\n",
              "      border-top-color: var(--fill-color);\n",
              "      border-right-color: var(--fill-color);\n",
              "    }\n",
              "    40% {\n",
              "      border-color: transparent;\n",
              "      border-right-color: var(--fill-color);\n",
              "      border-top-color: var(--fill-color);\n",
              "    }\n",
              "    60% {\n",
              "      border-color: transparent;\n",
              "      border-right-color: var(--fill-color);\n",
              "    }\n",
              "    80% {\n",
              "      border-color: transparent;\n",
              "      border-right-color: var(--fill-color);\n",
              "      border-bottom-color: var(--fill-color);\n",
              "    }\n",
              "    90% {\n",
              "      border-color: transparent;\n",
              "      border-bottom-color: var(--fill-color);\n",
              "    }\n",
              "  }\n",
              "</style>\n",
              "\n",
              "  <script>\n",
              "    async function quickchart(key) {\n",
              "      const quickchartButtonEl =\n",
              "        document.querySelector('#' + key + ' button');\n",
              "      quickchartButtonEl.disabled = true;  // To prevent multiple clicks.\n",
              "      quickchartButtonEl.classList.add('colab-df-spinner');\n",
              "      try {\n",
              "        const charts = await google.colab.kernel.invokeFunction(\n",
              "            'suggestCharts', [key], {});\n",
              "      } catch (error) {\n",
              "        console.error('Error during call to suggestCharts:', error);\n",
              "      }\n",
              "      quickchartButtonEl.classList.remove('colab-df-spinner');\n",
              "      quickchartButtonEl.classList.add('colab-df-quickchart-complete');\n",
              "    }\n",
              "    (() => {\n",
              "      let quickchartButtonEl =\n",
              "        document.querySelector('#df-fa248c8b-8ab4-4750-8191-4f55366a0630 button');\n",
              "      quickchartButtonEl.style.display =\n",
              "        google.colab.kernel.accessAllowed ? 'block' : 'none';\n",
              "    })();\n",
              "  </script>\n",
              "</div>\n",
              "\n",
              "    </div>\n",
              "  </div>\n"
            ],
            "application/vnd.google.colaboratory.intrinsic+json": {
              "type": "dataframe",
              "variable_name": "df",
              "summary": "{\n  \"name\": \"df\",\n  \"rows\": 1000,\n  \"fields\": [\n    {\n      \"column\": \"feature1\",\n      \"properties\": {\n        \"dtype\": \"number\",\n        \"std\": 0.9740178775035345,\n        \"min\": 997.058347208966,\n        \"max\": 1003.2079336486612,\n        \"num_unique_values\": 1000,\n        \"samples\": [\n          999.5412155772106,\n          1000.6186221563844,\n          1000.8607937541136\n        ],\n        \"semantic_type\": \"\",\n        \"description\": \"\"\n      }\n    },\n    {\n      \"column\": \"feature2\",\n      \"properties\": {\n        \"dtype\": \"number\",\n        \"std\": 0.9483300251569233,\n        \"min\": 996.9956509692493,\n        \"max\": 1002.66630765155,\n        \"num_unique_values\": 1000,\n        \"samples\": [\n          999.1411432823083,\n          1001.1190508063044,\n          1000.6549633927756\n        ],\n        \"semantic_type\": \"\",\n        \"description\": \"\"\n      }\n    },\n    {\n      \"column\": \"price\",\n      \"properties\": {\n        \"dtype\": \"number\",\n        \"std\": 93.78543079033274,\n        \"min\": 223.34679276337343,\n        \"max\": 774.4078544514234,\n        \"num_unique_values\": 1000,\n        \"samples\": [\n          402.2963187329033,\n          624.1561984672744,\n          582.4550662975032\n        ],\n        \"semantic_type\": \"\",\n        \"description\": \"\"\n      }\n    }\n  ]\n}"
            }
          },
          "metadata": {},
          "execution_count": 100
        }
      ],
      "source": [
        "df = aka_clean.swap_features(df,0)\n",
        "df.head()"
      ]
    },
    {
      "cell_type": "markdown",
      "metadata": {
        "id": "LmFTFmq0aUm6"
      },
      "source": [
        "### Drop feature(s)\n"
      ]
    },
    {
      "cell_type": "code",
      "execution_count": 101,
      "metadata": {
        "colab": {
          "base_uri": "https://localhost:8080/",
          "height": 206
        },
        "id": "76ACXdCrapdG",
        "outputId": "241e0be5-4a7a-41f0-e3b1-454c15932ba8"
      },
      "outputs": [
        {
          "output_type": "execute_result",
          "data": {
            "text/plain": [
              "      feature1     feature2       price\n",
              "0   999.787558   999.766096  461.527929\n",
              "1   998.861615  1001.042403  548.130011\n",
              "2  1000.070267   998.844015  410.297162\n",
              "3   999.952251  1000.440940  540.382220\n",
              "4  1000.446011  1000.338531  546.024553"
            ],
            "text/html": [
              "\n",
              "  <div id=\"df-d7f4fd8d-c952-42c2-88a6-b597b5f2480c\" class=\"colab-df-container\">\n",
              "    <div>\n",
              "<style scoped>\n",
              "    .dataframe tbody tr th:only-of-type {\n",
              "        vertical-align: middle;\n",
              "    }\n",
              "\n",
              "    .dataframe tbody tr th {\n",
              "        vertical-align: top;\n",
              "    }\n",
              "\n",
              "    .dataframe thead th {\n",
              "        text-align: right;\n",
              "    }\n",
              "</style>\n",
              "<table border=\"1\" class=\"dataframe\">\n",
              "  <thead>\n",
              "    <tr style=\"text-align: right;\">\n",
              "      <th></th>\n",
              "      <th>feature1</th>\n",
              "      <th>feature2</th>\n",
              "      <th>price</th>\n",
              "    </tr>\n",
              "  </thead>\n",
              "  <tbody>\n",
              "    <tr>\n",
              "      <th>0</th>\n",
              "      <td>999.787558</td>\n",
              "      <td>999.766096</td>\n",
              "      <td>461.527929</td>\n",
              "    </tr>\n",
              "    <tr>\n",
              "      <th>1</th>\n",
              "      <td>998.861615</td>\n",
              "      <td>1001.042403</td>\n",
              "      <td>548.130011</td>\n",
              "    </tr>\n",
              "    <tr>\n",
              "      <th>2</th>\n",
              "      <td>1000.070267</td>\n",
              "      <td>998.844015</td>\n",
              "      <td>410.297162</td>\n",
              "    </tr>\n",
              "    <tr>\n",
              "      <th>3</th>\n",
              "      <td>999.952251</td>\n",
              "      <td>1000.440940</td>\n",
              "      <td>540.382220</td>\n",
              "    </tr>\n",
              "    <tr>\n",
              "      <th>4</th>\n",
              "      <td>1000.446011</td>\n",
              "      <td>1000.338531</td>\n",
              "      <td>546.024553</td>\n",
              "    </tr>\n",
              "  </tbody>\n",
              "</table>\n",
              "</div>\n",
              "    <div class=\"colab-df-buttons\">\n",
              "\n",
              "  <div class=\"colab-df-container\">\n",
              "    <button class=\"colab-df-convert\" onclick=\"convertToInteractive('df-d7f4fd8d-c952-42c2-88a6-b597b5f2480c')\"\n",
              "            title=\"Convert this dataframe to an interactive table.\"\n",
              "            style=\"display:none;\">\n",
              "\n",
              "  <svg xmlns=\"http://www.w3.org/2000/svg\" height=\"24px\" viewBox=\"0 -960 960 960\">\n",
              "    <path d=\"M120-120v-720h720v720H120Zm60-500h600v-160H180v160Zm220 220h160v-160H400v160Zm0 220h160v-160H400v160ZM180-400h160v-160H180v160Zm440 0h160v-160H620v160ZM180-180h160v-160H180v160Zm440 0h160v-160H620v160Z\"/>\n",
              "  </svg>\n",
              "    </button>\n",
              "\n",
              "  <style>\n",
              "    .colab-df-container {\n",
              "      display:flex;\n",
              "      gap: 12px;\n",
              "    }\n",
              "\n",
              "    .colab-df-convert {\n",
              "      background-color: #E8F0FE;\n",
              "      border: none;\n",
              "      border-radius: 50%;\n",
              "      cursor: pointer;\n",
              "      display: none;\n",
              "      fill: #1967D2;\n",
              "      height: 32px;\n",
              "      padding: 0 0 0 0;\n",
              "      width: 32px;\n",
              "    }\n",
              "\n",
              "    .colab-df-convert:hover {\n",
              "      background-color: #E2EBFA;\n",
              "      box-shadow: 0px 1px 2px rgba(60, 64, 67, 0.3), 0px 1px 3px 1px rgba(60, 64, 67, 0.15);\n",
              "      fill: #174EA6;\n",
              "    }\n",
              "\n",
              "    .colab-df-buttons div {\n",
              "      margin-bottom: 4px;\n",
              "    }\n",
              "\n",
              "    [theme=dark] .colab-df-convert {\n",
              "      background-color: #3B4455;\n",
              "      fill: #D2E3FC;\n",
              "    }\n",
              "\n",
              "    [theme=dark] .colab-df-convert:hover {\n",
              "      background-color: #434B5C;\n",
              "      box-shadow: 0px 1px 3px 1px rgba(0, 0, 0, 0.15);\n",
              "      filter: drop-shadow(0px 1px 2px rgba(0, 0, 0, 0.3));\n",
              "      fill: #FFFFFF;\n",
              "    }\n",
              "  </style>\n",
              "\n",
              "    <script>\n",
              "      const buttonEl =\n",
              "        document.querySelector('#df-d7f4fd8d-c952-42c2-88a6-b597b5f2480c button.colab-df-convert');\n",
              "      buttonEl.style.display =\n",
              "        google.colab.kernel.accessAllowed ? 'block' : 'none';\n",
              "\n",
              "      async function convertToInteractive(key) {\n",
              "        const element = document.querySelector('#df-d7f4fd8d-c952-42c2-88a6-b597b5f2480c');\n",
              "        const dataTable =\n",
              "          await google.colab.kernel.invokeFunction('convertToInteractive',\n",
              "                                                    [key], {});\n",
              "        if (!dataTable) return;\n",
              "\n",
              "        const docLinkHtml = 'Like what you see? Visit the ' +\n",
              "          '<a target=\"_blank\" href=https://colab.research.google.com/notebooks/data_table.ipynb>data table notebook</a>'\n",
              "          + ' to learn more about interactive tables.';\n",
              "        element.innerHTML = '';\n",
              "        dataTable['output_type'] = 'display_data';\n",
              "        await google.colab.output.renderOutput(dataTable, element);\n",
              "        const docLink = document.createElement('div');\n",
              "        docLink.innerHTML = docLinkHtml;\n",
              "        element.appendChild(docLink);\n",
              "      }\n",
              "    </script>\n",
              "  </div>\n",
              "\n",
              "\n",
              "<div id=\"df-63d328ee-1c09-4d11-97d6-6bdf5783256d\">\n",
              "  <button class=\"colab-df-quickchart\" onclick=\"quickchart('df-63d328ee-1c09-4d11-97d6-6bdf5783256d')\"\n",
              "            title=\"Suggest charts\"\n",
              "            style=\"display:none;\">\n",
              "\n",
              "<svg xmlns=\"http://www.w3.org/2000/svg\" height=\"24px\"viewBox=\"0 0 24 24\"\n",
              "     width=\"24px\">\n",
              "    <g>\n",
              "        <path d=\"M19 3H5c-1.1 0-2 .9-2 2v14c0 1.1.9 2 2 2h14c1.1 0 2-.9 2-2V5c0-1.1-.9-2-2-2zM9 17H7v-7h2v7zm4 0h-2V7h2v10zm4 0h-2v-4h2v4z\"/>\n",
              "    </g>\n",
              "</svg>\n",
              "  </button>\n",
              "\n",
              "<style>\n",
              "  .colab-df-quickchart {\n",
              "      --bg-color: #E8F0FE;\n",
              "      --fill-color: #1967D2;\n",
              "      --hover-bg-color: #E2EBFA;\n",
              "      --hover-fill-color: #174EA6;\n",
              "      --disabled-fill-color: #AAA;\n",
              "      --disabled-bg-color: #DDD;\n",
              "  }\n",
              "\n",
              "  [theme=dark] .colab-df-quickchart {\n",
              "      --bg-color: #3B4455;\n",
              "      --fill-color: #D2E3FC;\n",
              "      --hover-bg-color: #434B5C;\n",
              "      --hover-fill-color: #FFFFFF;\n",
              "      --disabled-bg-color: #3B4455;\n",
              "      --disabled-fill-color: #666;\n",
              "  }\n",
              "\n",
              "  .colab-df-quickchart {\n",
              "    background-color: var(--bg-color);\n",
              "    border: none;\n",
              "    border-radius: 50%;\n",
              "    cursor: pointer;\n",
              "    display: none;\n",
              "    fill: var(--fill-color);\n",
              "    height: 32px;\n",
              "    padding: 0;\n",
              "    width: 32px;\n",
              "  }\n",
              "\n",
              "  .colab-df-quickchart:hover {\n",
              "    background-color: var(--hover-bg-color);\n",
              "    box-shadow: 0 1px 2px rgba(60, 64, 67, 0.3), 0 1px 3px 1px rgba(60, 64, 67, 0.15);\n",
              "    fill: var(--button-hover-fill-color);\n",
              "  }\n",
              "\n",
              "  .colab-df-quickchart-complete:disabled,\n",
              "  .colab-df-quickchart-complete:disabled:hover {\n",
              "    background-color: var(--disabled-bg-color);\n",
              "    fill: var(--disabled-fill-color);\n",
              "    box-shadow: none;\n",
              "  }\n",
              "\n",
              "  .colab-df-spinner {\n",
              "    border: 2px solid var(--fill-color);\n",
              "    border-color: transparent;\n",
              "    border-bottom-color: var(--fill-color);\n",
              "    animation:\n",
              "      spin 1s steps(1) infinite;\n",
              "  }\n",
              "\n",
              "  @keyframes spin {\n",
              "    0% {\n",
              "      border-color: transparent;\n",
              "      border-bottom-color: var(--fill-color);\n",
              "      border-left-color: var(--fill-color);\n",
              "    }\n",
              "    20% {\n",
              "      border-color: transparent;\n",
              "      border-left-color: var(--fill-color);\n",
              "      border-top-color: var(--fill-color);\n",
              "    }\n",
              "    30% {\n",
              "      border-color: transparent;\n",
              "      border-left-color: var(--fill-color);\n",
              "      border-top-color: var(--fill-color);\n",
              "      border-right-color: var(--fill-color);\n",
              "    }\n",
              "    40% {\n",
              "      border-color: transparent;\n",
              "      border-right-color: var(--fill-color);\n",
              "      border-top-color: var(--fill-color);\n",
              "    }\n",
              "    60% {\n",
              "      border-color: transparent;\n",
              "      border-right-color: var(--fill-color);\n",
              "    }\n",
              "    80% {\n",
              "      border-color: transparent;\n",
              "      border-right-color: var(--fill-color);\n",
              "      border-bottom-color: var(--fill-color);\n",
              "    }\n",
              "    90% {\n",
              "      border-color: transparent;\n",
              "      border-bottom-color: var(--fill-color);\n",
              "    }\n",
              "  }\n",
              "</style>\n",
              "\n",
              "  <script>\n",
              "    async function quickchart(key) {\n",
              "      const quickchartButtonEl =\n",
              "        document.querySelector('#' + key + ' button');\n",
              "      quickchartButtonEl.disabled = true;  // To prevent multiple clicks.\n",
              "      quickchartButtonEl.classList.add('colab-df-spinner');\n",
              "      try {\n",
              "        const charts = await google.colab.kernel.invokeFunction(\n",
              "            'suggestCharts', [key], {});\n",
              "      } catch (error) {\n",
              "        console.error('Error during call to suggestCharts:', error);\n",
              "      }\n",
              "      quickchartButtonEl.classList.remove('colab-df-spinner');\n",
              "      quickchartButtonEl.classList.add('colab-df-quickchart-complete');\n",
              "    }\n",
              "    (() => {\n",
              "      let quickchartButtonEl =\n",
              "        document.querySelector('#df-63d328ee-1c09-4d11-97d6-6bdf5783256d button');\n",
              "      quickchartButtonEl.style.display =\n",
              "        google.colab.kernel.accessAllowed ? 'block' : 'none';\n",
              "    })();\n",
              "  </script>\n",
              "</div>\n",
              "\n",
              "    </div>\n",
              "  </div>\n"
            ],
            "application/vnd.google.colaboratory.intrinsic+json": {
              "type": "dataframe",
              "variable_name": "df",
              "summary": "{\n  \"name\": \"df\",\n  \"rows\": 1000,\n  \"fields\": [\n    {\n      \"column\": \"feature1\",\n      \"properties\": {\n        \"dtype\": \"number\",\n        \"std\": 0.9740178775035345,\n        \"min\": 997.058347208966,\n        \"max\": 1003.2079336486612,\n        \"num_unique_values\": 1000,\n        \"samples\": [\n          999.5412155772106,\n          1000.6186221563844,\n          1000.8607937541136\n        ],\n        \"semantic_type\": \"\",\n        \"description\": \"\"\n      }\n    },\n    {\n      \"column\": \"feature2\",\n      \"properties\": {\n        \"dtype\": \"number\",\n        \"std\": 0.9483300251569233,\n        \"min\": 996.9956509692493,\n        \"max\": 1002.66630765155,\n        \"num_unique_values\": 1000,\n        \"samples\": [\n          999.1411432823083,\n          1001.1190508063044,\n          1000.6549633927756\n        ],\n        \"semantic_type\": \"\",\n        \"description\": \"\"\n      }\n    },\n    {\n      \"column\": \"price\",\n      \"properties\": {\n        \"dtype\": \"number\",\n        \"std\": 93.78543079033274,\n        \"min\": 223.34679276337343,\n        \"max\": 774.4078544514234,\n        \"num_unique_values\": 1000,\n        \"samples\": [\n          402.2963187329033,\n          624.1561984672744,\n          582.4550662975032\n        ],\n        \"semantic_type\": \"\",\n        \"description\": \"\"\n      }\n    }\n  ]\n}"
            }
          },
          "metadata": {},
          "execution_count": 101
        }
      ],
      "source": [
        "feat =  []\n",
        "df = aka_clean.drop_feature(df,feat)\n",
        "df.head()"
      ]
    },
    {
      "cell_type": "markdown",
      "metadata": {
        "id": "4JD1xdyLtwiT"
      },
      "source": [
        "##  Convert categorical variables into numerical representations"
      ]
    },
    {
      "cell_type": "code",
      "execution_count": 102,
      "metadata": {
        "colab": {
          "base_uri": "https://localhost:8080/",
          "height": 206
        },
        "id": "xLfFY8Dgb5jG",
        "outputId": "ca6172c1-f9b0-427b-f7b2-12b3e11ac335"
      },
      "outputs": [
        {
          "output_type": "execute_result",
          "data": {
            "text/plain": [
              "      feature1     feature2       price\n",
              "0   999.787558   999.766096  461.527929\n",
              "1   998.861615  1001.042403  548.130011\n",
              "2  1000.070267   998.844015  410.297162\n",
              "3   999.952251  1000.440940  540.382220\n",
              "4  1000.446011  1000.338531  546.024553"
            ],
            "text/html": [
              "\n",
              "  <div id=\"df-78b96b4e-65dd-47da-9169-6e1c8e698757\" class=\"colab-df-container\">\n",
              "    <div>\n",
              "<style scoped>\n",
              "    .dataframe tbody tr th:only-of-type {\n",
              "        vertical-align: middle;\n",
              "    }\n",
              "\n",
              "    .dataframe tbody tr th {\n",
              "        vertical-align: top;\n",
              "    }\n",
              "\n",
              "    .dataframe thead th {\n",
              "        text-align: right;\n",
              "    }\n",
              "</style>\n",
              "<table border=\"1\" class=\"dataframe\">\n",
              "  <thead>\n",
              "    <tr style=\"text-align: right;\">\n",
              "      <th></th>\n",
              "      <th>feature1</th>\n",
              "      <th>feature2</th>\n",
              "      <th>price</th>\n",
              "    </tr>\n",
              "  </thead>\n",
              "  <tbody>\n",
              "    <tr>\n",
              "      <th>0</th>\n",
              "      <td>999.787558</td>\n",
              "      <td>999.766096</td>\n",
              "      <td>461.527929</td>\n",
              "    </tr>\n",
              "    <tr>\n",
              "      <th>1</th>\n",
              "      <td>998.861615</td>\n",
              "      <td>1001.042403</td>\n",
              "      <td>548.130011</td>\n",
              "    </tr>\n",
              "    <tr>\n",
              "      <th>2</th>\n",
              "      <td>1000.070267</td>\n",
              "      <td>998.844015</td>\n",
              "      <td>410.297162</td>\n",
              "    </tr>\n",
              "    <tr>\n",
              "      <th>3</th>\n",
              "      <td>999.952251</td>\n",
              "      <td>1000.440940</td>\n",
              "      <td>540.382220</td>\n",
              "    </tr>\n",
              "    <tr>\n",
              "      <th>4</th>\n",
              "      <td>1000.446011</td>\n",
              "      <td>1000.338531</td>\n",
              "      <td>546.024553</td>\n",
              "    </tr>\n",
              "  </tbody>\n",
              "</table>\n",
              "</div>\n",
              "    <div class=\"colab-df-buttons\">\n",
              "\n",
              "  <div class=\"colab-df-container\">\n",
              "    <button class=\"colab-df-convert\" onclick=\"convertToInteractive('df-78b96b4e-65dd-47da-9169-6e1c8e698757')\"\n",
              "            title=\"Convert this dataframe to an interactive table.\"\n",
              "            style=\"display:none;\">\n",
              "\n",
              "  <svg xmlns=\"http://www.w3.org/2000/svg\" height=\"24px\" viewBox=\"0 -960 960 960\">\n",
              "    <path d=\"M120-120v-720h720v720H120Zm60-500h600v-160H180v160Zm220 220h160v-160H400v160Zm0 220h160v-160H400v160ZM180-400h160v-160H180v160Zm440 0h160v-160H620v160ZM180-180h160v-160H180v160Zm440 0h160v-160H620v160Z\"/>\n",
              "  </svg>\n",
              "    </button>\n",
              "\n",
              "  <style>\n",
              "    .colab-df-container {\n",
              "      display:flex;\n",
              "      gap: 12px;\n",
              "    }\n",
              "\n",
              "    .colab-df-convert {\n",
              "      background-color: #E8F0FE;\n",
              "      border: none;\n",
              "      border-radius: 50%;\n",
              "      cursor: pointer;\n",
              "      display: none;\n",
              "      fill: #1967D2;\n",
              "      height: 32px;\n",
              "      padding: 0 0 0 0;\n",
              "      width: 32px;\n",
              "    }\n",
              "\n",
              "    .colab-df-convert:hover {\n",
              "      background-color: #E2EBFA;\n",
              "      box-shadow: 0px 1px 2px rgba(60, 64, 67, 0.3), 0px 1px 3px 1px rgba(60, 64, 67, 0.15);\n",
              "      fill: #174EA6;\n",
              "    }\n",
              "\n",
              "    .colab-df-buttons div {\n",
              "      margin-bottom: 4px;\n",
              "    }\n",
              "\n",
              "    [theme=dark] .colab-df-convert {\n",
              "      background-color: #3B4455;\n",
              "      fill: #D2E3FC;\n",
              "    }\n",
              "\n",
              "    [theme=dark] .colab-df-convert:hover {\n",
              "      background-color: #434B5C;\n",
              "      box-shadow: 0px 1px 3px 1px rgba(0, 0, 0, 0.15);\n",
              "      filter: drop-shadow(0px 1px 2px rgba(0, 0, 0, 0.3));\n",
              "      fill: #FFFFFF;\n",
              "    }\n",
              "  </style>\n",
              "\n",
              "    <script>\n",
              "      const buttonEl =\n",
              "        document.querySelector('#df-78b96b4e-65dd-47da-9169-6e1c8e698757 button.colab-df-convert');\n",
              "      buttonEl.style.display =\n",
              "        google.colab.kernel.accessAllowed ? 'block' : 'none';\n",
              "\n",
              "      async function convertToInteractive(key) {\n",
              "        const element = document.querySelector('#df-78b96b4e-65dd-47da-9169-6e1c8e698757');\n",
              "        const dataTable =\n",
              "          await google.colab.kernel.invokeFunction('convertToInteractive',\n",
              "                                                    [key], {});\n",
              "        if (!dataTable) return;\n",
              "\n",
              "        const docLinkHtml = 'Like what you see? Visit the ' +\n",
              "          '<a target=\"_blank\" href=https://colab.research.google.com/notebooks/data_table.ipynb>data table notebook</a>'\n",
              "          + ' to learn more about interactive tables.';\n",
              "        element.innerHTML = '';\n",
              "        dataTable['output_type'] = 'display_data';\n",
              "        await google.colab.output.renderOutput(dataTable, element);\n",
              "        const docLink = document.createElement('div');\n",
              "        docLink.innerHTML = docLinkHtml;\n",
              "        element.appendChild(docLink);\n",
              "      }\n",
              "    </script>\n",
              "  </div>\n",
              "\n",
              "\n",
              "<div id=\"df-00daff9b-4d75-4b0b-8445-19858764a502\">\n",
              "  <button class=\"colab-df-quickchart\" onclick=\"quickchart('df-00daff9b-4d75-4b0b-8445-19858764a502')\"\n",
              "            title=\"Suggest charts\"\n",
              "            style=\"display:none;\">\n",
              "\n",
              "<svg xmlns=\"http://www.w3.org/2000/svg\" height=\"24px\"viewBox=\"0 0 24 24\"\n",
              "     width=\"24px\">\n",
              "    <g>\n",
              "        <path d=\"M19 3H5c-1.1 0-2 .9-2 2v14c0 1.1.9 2 2 2h14c1.1 0 2-.9 2-2V5c0-1.1-.9-2-2-2zM9 17H7v-7h2v7zm4 0h-2V7h2v10zm4 0h-2v-4h2v4z\"/>\n",
              "    </g>\n",
              "</svg>\n",
              "  </button>\n",
              "\n",
              "<style>\n",
              "  .colab-df-quickchart {\n",
              "      --bg-color: #E8F0FE;\n",
              "      --fill-color: #1967D2;\n",
              "      --hover-bg-color: #E2EBFA;\n",
              "      --hover-fill-color: #174EA6;\n",
              "      --disabled-fill-color: #AAA;\n",
              "      --disabled-bg-color: #DDD;\n",
              "  }\n",
              "\n",
              "  [theme=dark] .colab-df-quickchart {\n",
              "      --bg-color: #3B4455;\n",
              "      --fill-color: #D2E3FC;\n",
              "      --hover-bg-color: #434B5C;\n",
              "      --hover-fill-color: #FFFFFF;\n",
              "      --disabled-bg-color: #3B4455;\n",
              "      --disabled-fill-color: #666;\n",
              "  }\n",
              "\n",
              "  .colab-df-quickchart {\n",
              "    background-color: var(--bg-color);\n",
              "    border: none;\n",
              "    border-radius: 50%;\n",
              "    cursor: pointer;\n",
              "    display: none;\n",
              "    fill: var(--fill-color);\n",
              "    height: 32px;\n",
              "    padding: 0;\n",
              "    width: 32px;\n",
              "  }\n",
              "\n",
              "  .colab-df-quickchart:hover {\n",
              "    background-color: var(--hover-bg-color);\n",
              "    box-shadow: 0 1px 2px rgba(60, 64, 67, 0.3), 0 1px 3px 1px rgba(60, 64, 67, 0.15);\n",
              "    fill: var(--button-hover-fill-color);\n",
              "  }\n",
              "\n",
              "  .colab-df-quickchart-complete:disabled,\n",
              "  .colab-df-quickchart-complete:disabled:hover {\n",
              "    background-color: var(--disabled-bg-color);\n",
              "    fill: var(--disabled-fill-color);\n",
              "    box-shadow: none;\n",
              "  }\n",
              "\n",
              "  .colab-df-spinner {\n",
              "    border: 2px solid var(--fill-color);\n",
              "    border-color: transparent;\n",
              "    border-bottom-color: var(--fill-color);\n",
              "    animation:\n",
              "      spin 1s steps(1) infinite;\n",
              "  }\n",
              "\n",
              "  @keyframes spin {\n",
              "    0% {\n",
              "      border-color: transparent;\n",
              "      border-bottom-color: var(--fill-color);\n",
              "      border-left-color: var(--fill-color);\n",
              "    }\n",
              "    20% {\n",
              "      border-color: transparent;\n",
              "      border-left-color: var(--fill-color);\n",
              "      border-top-color: var(--fill-color);\n",
              "    }\n",
              "    30% {\n",
              "      border-color: transparent;\n",
              "      border-left-color: var(--fill-color);\n",
              "      border-top-color: var(--fill-color);\n",
              "      border-right-color: var(--fill-color);\n",
              "    }\n",
              "    40% {\n",
              "      border-color: transparent;\n",
              "      border-right-color: var(--fill-color);\n",
              "      border-top-color: var(--fill-color);\n",
              "    }\n",
              "    60% {\n",
              "      border-color: transparent;\n",
              "      border-right-color: var(--fill-color);\n",
              "    }\n",
              "    80% {\n",
              "      border-color: transparent;\n",
              "      border-right-color: var(--fill-color);\n",
              "      border-bottom-color: var(--fill-color);\n",
              "    }\n",
              "    90% {\n",
              "      border-color: transparent;\n",
              "      border-bottom-color: var(--fill-color);\n",
              "    }\n",
              "  }\n",
              "</style>\n",
              "\n",
              "  <script>\n",
              "    async function quickchart(key) {\n",
              "      const quickchartButtonEl =\n",
              "        document.querySelector('#' + key + ' button');\n",
              "      quickchartButtonEl.disabled = true;  // To prevent multiple clicks.\n",
              "      quickchartButtonEl.classList.add('colab-df-spinner');\n",
              "      try {\n",
              "        const charts = await google.colab.kernel.invokeFunction(\n",
              "            'suggestCharts', [key], {});\n",
              "      } catch (error) {\n",
              "        console.error('Error during call to suggestCharts:', error);\n",
              "      }\n",
              "      quickchartButtonEl.classList.remove('colab-df-spinner');\n",
              "      quickchartButtonEl.classList.add('colab-df-quickchart-complete');\n",
              "    }\n",
              "    (() => {\n",
              "      let quickchartButtonEl =\n",
              "        document.querySelector('#df-00daff9b-4d75-4b0b-8445-19858764a502 button');\n",
              "      quickchartButtonEl.style.display =\n",
              "        google.colab.kernel.accessAllowed ? 'block' : 'none';\n",
              "    })();\n",
              "  </script>\n",
              "</div>\n",
              "\n",
              "    </div>\n",
              "  </div>\n"
            ],
            "application/vnd.google.colaboratory.intrinsic+json": {
              "type": "dataframe",
              "variable_name": "df",
              "summary": "{\n  \"name\": \"df\",\n  \"rows\": 1000,\n  \"fields\": [\n    {\n      \"column\": \"feature1\",\n      \"properties\": {\n        \"dtype\": \"number\",\n        \"std\": 0.9740178775035345,\n        \"min\": 997.058347208966,\n        \"max\": 1003.2079336486612,\n        \"num_unique_values\": 1000,\n        \"samples\": [\n          999.5412155772106,\n          1000.6186221563844,\n          1000.8607937541136\n        ],\n        \"semantic_type\": \"\",\n        \"description\": \"\"\n      }\n    },\n    {\n      \"column\": \"feature2\",\n      \"properties\": {\n        \"dtype\": \"number\",\n        \"std\": 0.9483300251569233,\n        \"min\": 996.9956509692493,\n        \"max\": 1002.66630765155,\n        \"num_unique_values\": 1000,\n        \"samples\": [\n          999.1411432823083,\n          1001.1190508063044,\n          1000.6549633927756\n        ],\n        \"semantic_type\": \"\",\n        \"description\": \"\"\n      }\n    },\n    {\n      \"column\": \"price\",\n      \"properties\": {\n        \"dtype\": \"number\",\n        \"std\": 93.78543079033274,\n        \"min\": 223.34679276337343,\n        \"max\": 774.4078544514234,\n        \"num_unique_values\": 1000,\n        \"samples\": [\n          402.2963187329033,\n          624.1561984672744,\n          582.4550662975032\n        ],\n        \"semantic_type\": \"\",\n        \"description\": \"\"\n      }\n    }\n  ]\n}"
            }
          },
          "metadata": {},
          "execution_count": 102
        }
      ],
      "source": [
        "mapping,swapMapping = aka_clean.CleaningVar(df)\n",
        "df = aka_clean.CleaningDF(df,mapping)\n",
        "df.head()"
      ]
    },
    {
      "cell_type": "markdown",
      "source": [
        "## Balance Dataset"
      ],
      "metadata": {
        "id": "j2KTmD9Xn9aK"
      }
    },
    {
      "cell_type": "code",
      "source": [
        "# aka_plot.plot_pie(df,-1)"
      ],
      "metadata": {
        "id": "z0iL0Tfdbdlz"
      },
      "execution_count": 103,
      "outputs": []
    },
    {
      "cell_type": "code",
      "source": [
        "# df = aka_clean.balance_df(df,'j')\n",
        "# aka_plot.plot_pie(df, -1)"
      ],
      "metadata": {
        "id": "7My5BDLnjNw4"
      },
      "execution_count": 104,
      "outputs": []
    },
    {
      "cell_type": "markdown",
      "source": [
        "## Correlation Matrix"
      ],
      "metadata": {
        "id": "VK48IBfjMYTT"
      }
    },
    {
      "cell_type": "code",
      "source": [
        "aka_corr_an.Plot_Correlation_Matrix(df)"
      ],
      "metadata": {
        "colab": {
          "base_uri": "https://localhost:8080/",
          "height": 817
        },
        "id": "kGFzlKLRLgGN",
        "outputId": "f9fa1204-cdd0-4189-83f3-cf0c4324a241"
      },
      "execution_count": 105,
      "outputs": [
        {
          "output_type": "display_data",
          "data": {
            "text/html": [
              "<html>\n",
              "<head><meta charset=\"utf-8\" /></head>\n",
              "<body>\n",
              "    <div>            <script src=\"https://cdnjs.cloudflare.com/ajax/libs/mathjax/2.7.5/MathJax.js?config=TeX-AMS-MML_SVG\"></script><script type=\"text/javascript\">if (window.MathJax && window.MathJax.Hub && window.MathJax.Hub.Config) {window.MathJax.Hub.Config({SVG: {font: \"STIX-Web\"}});}</script>                <script type=\"text/javascript\">window.PlotlyConfig = {MathJaxConfig: 'local'};</script>\n",
              "        <script charset=\"utf-8\" src=\"https://cdn.plot.ly/plotly-2.24.1.min.js\"></script>                <div id=\"9e76a8fc-b9a9-4db4-a812-851875f1f77b\" class=\"plotly-graph-div\" style=\"height:800px; width:900px;\"></div>            <script type=\"text/javascript\">                                    window.PLOTLYENV=window.PLOTLYENV || {};                                    if (document.getElementById(\"9e76a8fc-b9a9-4db4-a812-851875f1f77b\")) {                    Plotly.newPlot(                        \"9e76a8fc-b9a9-4db4-a812-851875f1f77b\",                        [{\"coloraxis\":\"coloraxis\",\"name\":\"0\",\"x\":[\"feature1\",\"feature2\",\"price\"],\"y\":[\"feature1\",\"feature2\",\"price\"],\"z\":[[1.0,0.030606960846439317,0.4441901971722187],[0.030606960846439317,1.0,0.9075761311122278],[0.4441901971722187,0.9075761311122278,1.0]],\"type\":\"heatmap\",\"xaxis\":\"x\",\"yaxis\":\"y\",\"hovertemplate\":\"x: %{x}\\u003cbr\\u003ey: %{y}\\u003cbr\\u003eCorrelation: %{z}\\u003cextra\\u003e\\u003c\\u002fextra\\u003e\"}],                        {\"template\":{\"data\":{\"barpolar\":[{\"marker\":{\"line\":{\"color\":\"rgb(17,17,17)\",\"width\":0.5},\"pattern\":{\"fillmode\":\"overlay\",\"size\":10,\"solidity\":0.2}},\"type\":\"barpolar\"}],\"bar\":[{\"error_x\":{\"color\":\"#f2f5fa\"},\"error_y\":{\"color\":\"#f2f5fa\"},\"marker\":{\"line\":{\"color\":\"rgb(17,17,17)\",\"width\":0.5},\"pattern\":{\"fillmode\":\"overlay\",\"size\":10,\"solidity\":0.2}},\"type\":\"bar\"}],\"carpet\":[{\"aaxis\":{\"endlinecolor\":\"#A2B1C6\",\"gridcolor\":\"#506784\",\"linecolor\":\"#506784\",\"minorgridcolor\":\"#506784\",\"startlinecolor\":\"#A2B1C6\"},\"baxis\":{\"endlinecolor\":\"#A2B1C6\",\"gridcolor\":\"#506784\",\"linecolor\":\"#506784\",\"minorgridcolor\":\"#506784\",\"startlinecolor\":\"#A2B1C6\"},\"type\":\"carpet\"}],\"choropleth\":[{\"colorbar\":{\"outlinewidth\":0,\"ticks\":\"\"},\"type\":\"choropleth\"}],\"contourcarpet\":[{\"colorbar\":{\"outlinewidth\":0,\"ticks\":\"\"},\"type\":\"contourcarpet\"}],\"contour\":[{\"colorbar\":{\"outlinewidth\":0,\"ticks\":\"\"},\"colorscale\":[[0.0,\"#0d0887\"],[0.1111111111111111,\"#46039f\"],[0.2222222222222222,\"#7201a8\"],[0.3333333333333333,\"#9c179e\"],[0.4444444444444444,\"#bd3786\"],[0.5555555555555556,\"#d8576b\"],[0.6666666666666666,\"#ed7953\"],[0.7777777777777778,\"#fb9f3a\"],[0.8888888888888888,\"#fdca26\"],[1.0,\"#f0f921\"]],\"type\":\"contour\"}],\"heatmapgl\":[{\"colorbar\":{\"outlinewidth\":0,\"ticks\":\"\"},\"colorscale\":[[0.0,\"#0d0887\"],[0.1111111111111111,\"#46039f\"],[0.2222222222222222,\"#7201a8\"],[0.3333333333333333,\"#9c179e\"],[0.4444444444444444,\"#bd3786\"],[0.5555555555555556,\"#d8576b\"],[0.6666666666666666,\"#ed7953\"],[0.7777777777777778,\"#fb9f3a\"],[0.8888888888888888,\"#fdca26\"],[1.0,\"#f0f921\"]],\"type\":\"heatmapgl\"}],\"heatmap\":[{\"colorbar\":{\"outlinewidth\":0,\"ticks\":\"\"},\"colorscale\":[[0.0,\"#0d0887\"],[0.1111111111111111,\"#46039f\"],[0.2222222222222222,\"#7201a8\"],[0.3333333333333333,\"#9c179e\"],[0.4444444444444444,\"#bd3786\"],[0.5555555555555556,\"#d8576b\"],[0.6666666666666666,\"#ed7953\"],[0.7777777777777778,\"#fb9f3a\"],[0.8888888888888888,\"#fdca26\"],[1.0,\"#f0f921\"]],\"type\":\"heatmap\"}],\"histogram2dcontour\":[{\"colorbar\":{\"outlinewidth\":0,\"ticks\":\"\"},\"colorscale\":[[0.0,\"#0d0887\"],[0.1111111111111111,\"#46039f\"],[0.2222222222222222,\"#7201a8\"],[0.3333333333333333,\"#9c179e\"],[0.4444444444444444,\"#bd3786\"],[0.5555555555555556,\"#d8576b\"],[0.6666666666666666,\"#ed7953\"],[0.7777777777777778,\"#fb9f3a\"],[0.8888888888888888,\"#fdca26\"],[1.0,\"#f0f921\"]],\"type\":\"histogram2dcontour\"}],\"histogram2d\":[{\"colorbar\":{\"outlinewidth\":0,\"ticks\":\"\"},\"colorscale\":[[0.0,\"#0d0887\"],[0.1111111111111111,\"#46039f\"],[0.2222222222222222,\"#7201a8\"],[0.3333333333333333,\"#9c179e\"],[0.4444444444444444,\"#bd3786\"],[0.5555555555555556,\"#d8576b\"],[0.6666666666666666,\"#ed7953\"],[0.7777777777777778,\"#fb9f3a\"],[0.8888888888888888,\"#fdca26\"],[1.0,\"#f0f921\"]],\"type\":\"histogram2d\"}],\"histogram\":[{\"marker\":{\"pattern\":{\"fillmode\":\"overlay\",\"size\":10,\"solidity\":0.2}},\"type\":\"histogram\"}],\"mesh3d\":[{\"colorbar\":{\"outlinewidth\":0,\"ticks\":\"\"},\"type\":\"mesh3d\"}],\"parcoords\":[{\"line\":{\"colorbar\":{\"outlinewidth\":0,\"ticks\":\"\"}},\"type\":\"parcoords\"}],\"pie\":[{\"automargin\":true,\"type\":\"pie\"}],\"scatter3d\":[{\"line\":{\"colorbar\":{\"outlinewidth\":0,\"ticks\":\"\"}},\"marker\":{\"colorbar\":{\"outlinewidth\":0,\"ticks\":\"\"}},\"type\":\"scatter3d\"}],\"scattercarpet\":[{\"marker\":{\"colorbar\":{\"outlinewidth\":0,\"ticks\":\"\"}},\"type\":\"scattercarpet\"}],\"scattergeo\":[{\"marker\":{\"colorbar\":{\"outlinewidth\":0,\"ticks\":\"\"}},\"type\":\"scattergeo\"}],\"scattergl\":[{\"marker\":{\"line\":{\"color\":\"#283442\"}},\"type\":\"scattergl\"}],\"scattermapbox\":[{\"marker\":{\"colorbar\":{\"outlinewidth\":0,\"ticks\":\"\"}},\"type\":\"scattermapbox\"}],\"scatterpolargl\":[{\"marker\":{\"colorbar\":{\"outlinewidth\":0,\"ticks\":\"\"}},\"type\":\"scatterpolargl\"}],\"scatterpolar\":[{\"marker\":{\"colorbar\":{\"outlinewidth\":0,\"ticks\":\"\"}},\"type\":\"scatterpolar\"}],\"scatter\":[{\"marker\":{\"line\":{\"color\":\"#283442\"}},\"type\":\"scatter\"}],\"scatterternary\":[{\"marker\":{\"colorbar\":{\"outlinewidth\":0,\"ticks\":\"\"}},\"type\":\"scatterternary\"}],\"surface\":[{\"colorbar\":{\"outlinewidth\":0,\"ticks\":\"\"},\"colorscale\":[[0.0,\"#0d0887\"],[0.1111111111111111,\"#46039f\"],[0.2222222222222222,\"#7201a8\"],[0.3333333333333333,\"#9c179e\"],[0.4444444444444444,\"#bd3786\"],[0.5555555555555556,\"#d8576b\"],[0.6666666666666666,\"#ed7953\"],[0.7777777777777778,\"#fb9f3a\"],[0.8888888888888888,\"#fdca26\"],[1.0,\"#f0f921\"]],\"type\":\"surface\"}],\"table\":[{\"cells\":{\"fill\":{\"color\":\"#506784\"},\"line\":{\"color\":\"rgb(17,17,17)\"}},\"header\":{\"fill\":{\"color\":\"#2a3f5f\"},\"line\":{\"color\":\"rgb(17,17,17)\"}},\"type\":\"table\"}]},\"layout\":{\"annotationdefaults\":{\"arrowcolor\":\"#f2f5fa\",\"arrowhead\":0,\"arrowwidth\":1},\"autotypenumbers\":\"strict\",\"coloraxis\":{\"colorbar\":{\"outlinewidth\":0,\"ticks\":\"\"}},\"colorscale\":{\"diverging\":[[0,\"#8e0152\"],[0.1,\"#c51b7d\"],[0.2,\"#de77ae\"],[0.3,\"#f1b6da\"],[0.4,\"#fde0ef\"],[0.5,\"#f7f7f7\"],[0.6,\"#e6f5d0\"],[0.7,\"#b8e186\"],[0.8,\"#7fbc41\"],[0.9,\"#4d9221\"],[1,\"#276419\"]],\"sequential\":[[0.0,\"#0d0887\"],[0.1111111111111111,\"#46039f\"],[0.2222222222222222,\"#7201a8\"],[0.3333333333333333,\"#9c179e\"],[0.4444444444444444,\"#bd3786\"],[0.5555555555555556,\"#d8576b\"],[0.6666666666666666,\"#ed7953\"],[0.7777777777777778,\"#fb9f3a\"],[0.8888888888888888,\"#fdca26\"],[1.0,\"#f0f921\"]],\"sequentialminus\":[[0.0,\"#0d0887\"],[0.1111111111111111,\"#46039f\"],[0.2222222222222222,\"#7201a8\"],[0.3333333333333333,\"#9c179e\"],[0.4444444444444444,\"#bd3786\"],[0.5555555555555556,\"#d8576b\"],[0.6666666666666666,\"#ed7953\"],[0.7777777777777778,\"#fb9f3a\"],[0.8888888888888888,\"#fdca26\"],[1.0,\"#f0f921\"]]},\"colorway\":[\"#636efa\",\"#EF553B\",\"#00cc96\",\"#ab63fa\",\"#FFA15A\",\"#19d3f3\",\"#FF6692\",\"#B6E880\",\"#FF97FF\",\"#FECB52\"],\"font\":{\"color\":\"#f2f5fa\"},\"geo\":{\"bgcolor\":\"rgb(17,17,17)\",\"lakecolor\":\"rgb(17,17,17)\",\"landcolor\":\"rgb(17,17,17)\",\"showlakes\":true,\"showland\":true,\"subunitcolor\":\"#506784\"},\"hoverlabel\":{\"align\":\"left\"},\"hovermode\":\"closest\",\"mapbox\":{\"style\":\"dark\"},\"paper_bgcolor\":\"rgb(17,17,17)\",\"plot_bgcolor\":\"rgb(17,17,17)\",\"polar\":{\"angularaxis\":{\"gridcolor\":\"#506784\",\"linecolor\":\"#506784\",\"ticks\":\"\"},\"bgcolor\":\"rgb(17,17,17)\",\"radialaxis\":{\"gridcolor\":\"#506784\",\"linecolor\":\"#506784\",\"ticks\":\"\"}},\"scene\":{\"xaxis\":{\"backgroundcolor\":\"rgb(17,17,17)\",\"gridcolor\":\"#506784\",\"gridwidth\":2,\"linecolor\":\"#506784\",\"showbackground\":true,\"ticks\":\"\",\"zerolinecolor\":\"#C8D4E3\"},\"yaxis\":{\"backgroundcolor\":\"rgb(17,17,17)\",\"gridcolor\":\"#506784\",\"gridwidth\":2,\"linecolor\":\"#506784\",\"showbackground\":true,\"ticks\":\"\",\"zerolinecolor\":\"#C8D4E3\"},\"zaxis\":{\"backgroundcolor\":\"rgb(17,17,17)\",\"gridcolor\":\"#506784\",\"gridwidth\":2,\"linecolor\":\"#506784\",\"showbackground\":true,\"ticks\":\"\",\"zerolinecolor\":\"#C8D4E3\"}},\"shapedefaults\":{\"line\":{\"color\":\"#f2f5fa\"}},\"sliderdefaults\":{\"bgcolor\":\"#C8D4E3\",\"bordercolor\":\"rgb(17,17,17)\",\"borderwidth\":1,\"tickwidth\":0},\"ternary\":{\"aaxis\":{\"gridcolor\":\"#506784\",\"linecolor\":\"#506784\",\"ticks\":\"\"},\"baxis\":{\"gridcolor\":\"#506784\",\"linecolor\":\"#506784\",\"ticks\":\"\"},\"bgcolor\":\"rgb(17,17,17)\",\"caxis\":{\"gridcolor\":\"#506784\",\"linecolor\":\"#506784\",\"ticks\":\"\"}},\"title\":{\"x\":0.05},\"updatemenudefaults\":{\"bgcolor\":\"#506784\",\"borderwidth\":0},\"xaxis\":{\"automargin\":true,\"gridcolor\":\"#283442\",\"linecolor\":\"#506784\",\"ticks\":\"\",\"title\":{\"standoff\":15},\"zerolinecolor\":\"#283442\",\"zerolinewidth\":2},\"yaxis\":{\"automargin\":true,\"gridcolor\":\"#283442\",\"linecolor\":\"#506784\",\"ticks\":\"\",\"title\":{\"standoff\":15},\"zerolinecolor\":\"#283442\",\"zerolinewidth\":2}}},\"xaxis\":{\"anchor\":\"y\",\"domain\":[0.0,1.0],\"scaleanchor\":\"y\",\"constrain\":\"domain\",\"title\":{\"font\":{\"size\":14},\"standoff\":25}},\"yaxis\":{\"anchor\":\"x\",\"domain\":[0.0,1.0],\"autorange\":\"reversed\",\"constrain\":\"domain\"},\"coloraxis\":{\"colorbar\":{\"title\":{\"text\":\"Correlation\"}},\"colorscale\":[[0.0,\"#0d0887\"],[0.1111111111111111,\"#46039f\"],[0.2222222222222222,\"#7201a8\"],[0.3333333333333333,\"#9c179e\"],[0.4444444444444444,\"#bd3786\"],[0.5555555555555556,\"#d8576b\"],[0.6666666666666666,\"#ed7953\"],[0.7777777777777778,\"#fb9f3a\"],[0.8888888888888888,\"#fdca26\"],[1.0,\"#f0f921\"]]},\"margin\":{\"t\":60},\"font\":{\"color\":\"white\",\"size\":20},\"title\":{\"x\":0.5,\"y\":0.9},\"barmode\":\"overlay\",\"height\":800,\"width\":900},                        {\"responsive\": true}                    ).then(function(){\n",
              "                            \n",
              "var gd = document.getElementById('9e76a8fc-b9a9-4db4-a812-851875f1f77b');\n",
              "var x = new MutationObserver(function (mutations, observer) {{\n",
              "        var display = window.getComputedStyle(gd).display;\n",
              "        if (!display || display === 'none') {{\n",
              "            console.log([gd, 'removed!']);\n",
              "            Plotly.purge(gd);\n",
              "            observer.disconnect();\n",
              "        }}\n",
              "}});\n",
              "\n",
              "// Listen for the removal of the full notebook cells\n",
              "var notebookContainer = gd.closest('#notebook-container');\n",
              "if (notebookContainer) {{\n",
              "    x.observe(notebookContainer, {childList: true});\n",
              "}}\n",
              "\n",
              "// Listen for the clearing of the current output cell\n",
              "var outputEl = gd.closest('.output');\n",
              "if (outputEl) {{\n",
              "    x.observe(outputEl, {childList: true});\n",
              "}}\n",
              "\n",
              "                        })                };                            </script>        </div>\n",
              "</body>\n",
              "</html>"
            ]
          },
          "metadata": {}
        }
      ]
    },
    {
      "cell_type": "code",
      "execution_count": 106,
      "metadata": {
        "id": "OEyFThCDdg2l",
        "colab": {
          "base_uri": "https://localhost:8080/"
        },
        "outputId": "b63a1422-d310-46eb-8d66-a305eb4357e8"
      },
      "outputs": [
        {
          "output_type": "stream",
          "name": "stdout",
          "text": [
            "We dropped 5 outliers and remove 1 feature(s)\n",
            "The filtered dataset's shape is (995, 2) \n"
          ]
        }
      ],
      "source": [
        "\n",
        "confidence_interval_limit =   [-3,3]             # Define the limits m of the confidence interval [-m, m] and eliminate the outliers'''\n",
        "\n",
        "correlation_percentage_threshold = .5      # Set the limit of the correlation between the feature to be removed\n",
        "\n",
        "df_filtered,corr_tmp = aka_learn.filter_drop_corr_df(df,confidence_interval_limit,correlation_percentage_threshold)\n",
        "\n",
        "print(f'We dropped {df.shape[0]-df_filtered.shape[0]} outliers and remove {df.shape[1]-df_filtered.shape[1]} feature(s)')\n",
        "print(f'The filtered dataset\\'s shape is {df_filtered.shape} ')"
      ]
    },
    {
      "cell_type": "markdown",
      "metadata": {
        "id": "OAeEyQirWmYQ"
      },
      "source": [
        "## Graph the features that are highly correlated\n"
      ]
    },
    {
      "cell_type": "code",
      "execution_count": 107,
      "metadata": {
        "id": "hcLxqqDVjHmT",
        "colab": {
          "base_uri": "https://localhost:8080/",
          "height": 437
        },
        "outputId": "8e686a94-ab79-44e2-fe31-ef7c0e97a553"
      },
      "outputs": [
        {
          "output_type": "display_data",
          "data": {
            "text/html": [
              "<html>\n",
              "<head><meta charset=\"utf-8\" /></head>\n",
              "<body>\n",
              "    <div>            <script src=\"https://cdnjs.cloudflare.com/ajax/libs/mathjax/2.7.5/MathJax.js?config=TeX-AMS-MML_SVG\"></script><script type=\"text/javascript\">if (window.MathJax && window.MathJax.Hub && window.MathJax.Hub.Config) {window.MathJax.Hub.Config({SVG: {font: \"STIX-Web\"}});}</script>                <script type=\"text/javascript\">window.PlotlyConfig = {MathJaxConfig: 'local'};</script>\n",
              "        <script charset=\"utf-8\" src=\"https://cdn.plot.ly/plotly-2.24.1.min.js\"></script>                <div id=\"163374aa-9264-469b-b8be-20004c086a3a\" class=\"plotly-graph-div\" style=\"height:400px; width:1500px;\"></div>            <script type=\"text/javascript\">                                    window.PLOTLYENV=window.PLOTLYENV || {};                                    if (document.getElementById(\"163374aa-9264-469b-b8be-20004c086a3a\")) {                    Plotly.newPlot(                        \"163374aa-9264-469b-b8be-20004c086a3a\",                        [{\"hovertemplate\":\"price=%{x}\\u003cbr\\u003efeature2=%{y}\\u003cextra\\u003e\\u003c\\u002fextra\\u003e\",\"legendgroup\":\"\",\"marker\":{\"color\":\"#636efa\",\"symbol\":\"circle\"},\"mode\":\"markers\",\"name\":\"\",\"orientation\":\"v\",\"showlegend\":false,\"x\":[461.52792939358096,548.1300114599096,410.2971616727477,540.3822198140741,546.0245529164561,542.9836715980255,555.4856641557159,417.569724534508,373.146531216796,633.3502924774541,624.247092064156,475.3724172064315,600.3684448550833,532.8329517531153,472.8353627974771,506.31229096481167,508.4144059952209,610.4553519022312,323.65776197680174,446.2123038899063,362.1227029921573,433.4106402600616,562.0025764698489,637.3096207432424,522.808007536568,469.80282429759,543.1099277810902,565.434169937479,530.0328538065396,610.5801650305415,482.5564118848851,327.5600405221574,579.7308387221567,448.4298146790867,628.9770918674018,536.7973721638596,570.0672954330697,357.82557518578705,612.0849273173208,444.6797084597428,600.1186364029229,523.5331277555823,512.949944948852,614.8813168955378,404.353032511081,643.6885180735171,488.9566039775478,443.2046857171032,514.4790663755915,514.8817405773764,325.058522166333,554.662058504202,451.39140000665856,587.6788772559202,477.7374972127375,574.5156068712286,548.910799095615,528.6908835586818,443.21100481790927,397.88209319073707,355.7953522325841,460.6947813773974,534.7673736990871,537.6067329045089,603.6699034695841,547.2757915319635,567.3086215314689,454.32901321420496,492.6045144721288,643.1359317769884,477.43051629936485,497.4125183701755,559.0437853350255,576.6784383687008,292.1917811049085,542.9953999614753,547.7319823874158,507.43439141143006,408.12200074037287,595.4334856131899,463.3552035980994,468.3569804514317,462.0048018889012,410.3591240728469,467.4605955215901,497.2397861315607,411.63794463924177,583.0659840897691,441.9503669068689,536.0409091513951,530.9871743876214,364.5084209320396,626.0686516896824,434.62971003006857,523.0234419809312,484.10880902261175,411.57560703304586,722.2639443310222,519.4629917650527,558.5032104812539,526.2429778194082,531.277546867594,470.8906700663708,459.9249453763113,577.5829850114998,599.9057313773181,584.9284375629157,357.3422339089137,392.04726870632,515.7784459657249,390.2092367966402,497.4914823945552,506.7403250925609,395.5147751225993,239.65626376379964,507.6052942953172,628.8494043731677,468.0732468761311,444.9447338982071,527.3171959571247,415.44298463184975,363.4303791025056,591.8690919523219,391.1246665610285,526.1019195960951,402.00959595271183,563.6778173748048,362.2401834624175,514.313498693531,322.3143519655322,513.5197319995317,340.05814211570635,560.7947177823255,489.7945978379802,381.0736788052949,558.3493927897489,451.8041723989507,451.7914013389133,442.17202785952793,488.7869177427834,433.09376956069445,518.0070965780235,511.6945465433186,334.8945962154536,490.78489309260766,510.4635656667628,565.0254089166355,542.3014050784392,655.4261980567373,433.51753016010537,373.06190747893777,517.3219999764311,609.9695553559047,401.2803369760671,540.7438188593637,410.53824962836654,441.7417973978801,448.7013865381404,377.570426071083,450.85178617636,695.0806435129189,548.9485124900032,479.7088766090232,345.01181992120416,576.8525516722201,337.95129475852843,466.8394785961299,429.91541294796457,567.8818928320967,422.7785260527181,559.7847254049152,503.7568725115727,355.3522887850328,622.3714738337385,450.9760715027984,591.7141350896221,522.429934159432,474.0863463936184,423.0524338603942,466.7044580592094,481.9254704456524,362.9186760609314,566.0576393534825,457.0595881125368,580.8806048404939,497.3392189695792,519.1723751776766,640.4048525816643,477.2583976324784,506.5037054786037,634.2482933047978,311.8713776455462,556.6121542753991,446.36031515187625,543.8302791183833,617.6150990412137,491.5512871489272,441.9052267428249,418.4571783885716,524.4734839878822,483.1348270899156,622.9976430469436,424.6084077486387,515.1475399066105,496.8904766764585,534.2343669565399,627.3802760954953,460.02329028167605,338.1338417212897,397.6205961806861,562.0579360412577,504.6938964425924,490.99787401882185,361.42640522094473,608.1280402149021,625.0793860828061,461.3807860924571,533.0721080527547,438.2654059686041,404.1423947469101,458.527897670574,455.1395339891374,521.8795946235425,507.0979898219253,480.8069403066062,539.6839972923619,376.3262553288048,449.4584840008588,457.77794629094,531.1634175761965,599.8118558066404,526.6736175695605,512.1515175049309,510.02950867087566,391.265475827755,593.667795701298,415.60708684154974,469.0728386308848,485.2247759198016,354.9288423214043,316.6368480069826,464.4449480901343,649.3959165226917,474.0250134637421,551.5600604270005,631.8891574061099,597.712571717935,532.6287977160746,445.5828214197511,599.923826118107,375.9593804443484,581.9074848338294,464.99440569880034,417.2388720613262,570.6460652965347,414.7544520045376,578.2240203394963,405.9289894892562,626.6797542983625,484.019526532353,275.33337527107074,531.6619389143916,223.34679276337343,637.7789690800714,553.8799961236667,487.737916297914,439.090259556184,378.04069830748494,379.23669121225765,537.1252403330948,553.1238781129516,505.69270876964464,421.53806533892566,510.88504978963226,567.1947060080355,697.7071580223301,388.7466322454392,578.3290181441334,734.2765030956431,449.3281448801714,512.049048950007,357.2959144643571,360.2321249322739,395.1204533230811,423.7000169912119,443.809838908192,595.9658196768545,515.56181282673,531.9290881048648,530.135086275425,448.63240577003785,527.6158769330265,453.4582975151477,417.54122634841247,656.9730856638855,546.2313799070295,492.9359193936364,379.9091337212608,511.36670783252816,503.5141998158496,519.4605524660828,611.1476368756989,411.051577817881,403.4130154697376,496.75415064104175,466.0044086550277,528.1286134266179,633.4512532694235,567.044977945725,435.09849105576666,537.9288848306378,452.71044444227255,609.3840752976031,396.196571095286,504.4313726322902,626.6942779410521,493.0120177916112,724.471875749426,713.4666734620962,565.191845594684,551.5737279509531,451.8976478174946,565.9672306647051,367.79190440290176,576.3214434479853,579.428430937895,489.0976077206559,487.18793877496415,621.1188559609227,481.9070413935198,700.9836802505966,599.9911809246321,522.3588837323506,646.8239135994891,568.6131874454458,511.2982453301132,760.651016694891,304.4326151846456,543.3206422153502,399.8665189638588,585.1682144076741,484.2298120008516,425.84365096282784,550.4749492549695,325.7948026305991,364.0350138103205,439.4965351724188,518.2631242651357,693.9884929035138,512.5957017349169,257.7119972438171,524.3243802884606,402.19551340113657,579.8517864859472,476.0712297402995,411.1842387237991,367.7635423918606,400.63495185511874,609.5807074570155,612.4702560910661,366.3818868024921,485.50390002770087,443.3970356135937,479.56906766958593,559.6984891073345,432.821619908345,328.2055040133165,524.371195474605,552.7789350933658,630.6136393266559,424.8107860865061,375.1375471510901,338.93370122470503,574.7400108316077,355.8148512530355,378.7933970693719,555.9997870240727,642.3708192002453,347.8763132730069,330.0823022536812,392.70436827153407,519.3264095596427,612.7537014986588,469.246860523441,460.3199909765118,646.2592859245788,452.7344993500761,446.6617038043286,392.5778737731593,419.1123504148279,485.6714038180176,533.5507459870914,558.6879694815866,433.4151443319604,572.6784321239863,474.34929884413896,587.4556674283482,603.6048816226984,679.8950229235796,454.0284118449107,641.2963611091914,523.1264342532802,451.8644194189002,369.9145129775208,602.1202497949819,589.2837976726473,552.3587431275491,497.82077750643896,645.7084402037391,299.3944141929243,416.3753031772155,371.22410360513095,305.4222122133839,476.194975228927,718.2565398630599,481.6458132080981,449.79721212220096,423.13089618336056,487.2327680525943,486.74414446614657,333.08087339141025,560.1354366122368,711.6577732776482,424.6110882127841,367.8849900241112,502.8467148995792,661.164368621826,422.4424354446581,612.7279103266178,526.4475195141854,462.8816308379672,574.5783776538541,477.8062599329995,431.1886968123592,596.271616771598,367.0456173319431,610.296501886043,573.8382695891298,561.6815935984445,316.9505926044769,353.78339460659504,462.2423973066748,395.7453134872051,461.1794450249759,265.3188349140617,516.2860375640063,495.5435853423662,655.0298841020265,361.96928555187753,383.934415519679,339.21223298208145,438.9769913647519,518.3603954341966,587.0691898597458,513.588510643147,541.1289475020037,318.24228660349524,407.4105058685124,401.5399622814862,530.2762592125852,421.5295114897206,509.0580574626169,460.1838562987829,387.892724619406,560.9377906210058,586.5598064859136,426.3627846258843,479.9191566059864,525.7046566146622,555.4208713451699,530.6830145332789,469.8723866295668,606.3150518198445,364.8521078416688,360.1607811760624,425.1061584752634,365.5608775485973,480.2301228171844,533.4842626492591,477.32136010791135,685.0730652908377,595.8536379669682,510.8785785502258,403.69954917011,493.9642073677289,368.9200953998454,549.8476200686011,601.7678083780327,508.2038913458533,418.9300451928782,564.3682236213733,604.1106609943602,599.2805067162914,527.8807722583516,547.0728669378357,576.8926402006383,491.80281222710687,518.7063021846278,532.6265316415288,685.2165407916625,441.387240111764,315.5189290330409,581.511438083857,585.1566919161073,481.2061489900144,470.46051802314713,535.5436758282534,489.057551961728,731.5095583727039,539.7932304046632,421.26795581123406,480.5991150274344,530.2103988218163,464.1158700554973,633.4727288005175,449.4161187948157,635.3470661306967,537.2492280531452,572.3806506416186,553.9046287651987,616.5106010129126,402.2963187329033,456.8999523716808,505.7472641309476,601.6384957833875,510.8866119550272,556.832097111368,379.109820566372,453.4968121816982,594.6866457350071,567.4636876935175,498.9283393958094,413.1007145169893,437.1817974099192,699.733841022974,351.42908062100173,593.2305193771007,544.1813100407738,438.76371593759967,446.8769875458974,471.9943596721792,461.1406242277295,689.1734888970261,521.7969924671536,603.8875773722033,655.3914031914753,369.7858254085389,509.84188626144095,475.1758576737966,338.0902386001779,480.8061679559197,587.3077703193196,503.3900014110533,518.1278833901422,506.3392986265895,647.3615595713675,453.1382414237832,396.0499847621306,612.5053394264529,618.9336345873538,524.5689545585435,666.0622254538048,657.9549142636489,496.06904958233,524.3839383524133,461.4904899199929,433.998384459224,572.313053851413,451.9264153228441,362.68807581712446,514.8947441637532,427.3695697745074,435.51362445479134,566.2717255663605,452.3723832877561,375.6230235600407,466.4902006464921,465.17802914248296,405.4001656198269,427.74126220629387,358.85061321399496,481.5334626750023,358.68011197072985,375.3118020534009,550.1424624779931,556.543975646635,595.3809465162147,512.5837775336678,665.0473923595973,549.2905454911648,569.8733603076373,550.293400617648,607.4194029570825,617.3773773196228,613.4266291463498,604.5726140930071,516.985813775865,401.8950557292264,448.5535721941784,475.9469962202677,501.89188819006887,498.6284209016306,474.20540259707184,568.6047779754276,698.4104139622187,550.896739913604,481.5243697169256,498.463590852865,515.9009900702896,478.0803033433381,562.8473668138763,578.5238572292519,564.9556812960161,497.4647268379185,526.3425972096086,568.7320592249458,439.6505402427454,624.9925040414096,370.7417775351673,553.0768173295677,414.85687715394846,448.51914415847193,347.191118195517,631.5606939182501,527.057541591376,553.3241975102603,514.4056408574132,444.0546928396544,341.6878955248129,565.2499549384387,436.5549497151016,548.61436053478,501.6220601516152,362.2492810487827,309.35587862899024,435.2615532825878,428.3161487668162,308.2234312505793,536.5906687647899,774.4078544514234,428.84321278579625,552.8891290224539,297.29389413193223,637.858708266419,564.1115379147367,648.0101493228949,404.129286546174,508.82552564170834,539.5404931828281,467.6685222133391,489.1245800656128,571.1882917880894,497.7227482641622,396.9287685858524,414.1107281383127,406.28845394039297,579.5584899835791,406.616067101664,515.2152027559486,564.186814876514,578.5886064550515,408.2862018238552,581.5425266161899,667.4812481039403,622.8655182813751,500.133045805441,379.1313120747972,502.7194800207069,343.73541799243674,441.4847402127855,499.2123511732978,542.3620489701357,547.6240432533422,535.9294754207793,461.5207671175384,529.4394397952852,521.6158872397277,547.7129283710759,584.3811077238026,465.99980649077486,489.9964651504756,634.5322379035152,639.8183622492462,500.7218448019106,514.6937858883663,380.1398491626706,402.7886092221642,507.4431866249745,516.6620498627744,246.73972005907947,345.8514994672988,728.5415864322357,593.4748072346498,623.0544955505633,466.7870243436057,524.9670294677807,695.7728281714869,498.1900003268827,420.2389007506976,449.2596750838818,518.3487726828051,608.6446635232969,476.08427343745393,425.4599912007873,388.02606419840566,595.5444319135589,606.2179593555021,502.3583131601892,470.96358489786303,565.0768903509581,570.1685123652715,505.6318839857883,443.1869176626926,387.6460558788804,592.7579164984965,528.145469496525,610.0917076356588,543.3237843031621,651.3961288610681,552.9145202623566,662.9250462337401,571.7062626221265,521.7744574040415,565.9362004993941,526.2924796076577,525.5561777268364,547.1290144613744,556.3815691313789,643.552572050058,310.1908531730263,316.973734928554,581.2475743350167,675.7602689783545,637.2716109929202,503.2706587604634,386.8315800060643,449.2279729320876,624.1561984672744,708.0181057952304,436.669659071071,582.4550662975032,523.1597791418912,454.013630390762,458.3300266195937,553.1340606815943,575.6865675909281,399.7469088068518,479.0377818356649,377.13616235703495,611.8475488365282,457.6956861393197,320.68694050820136,607.664730777356,431.4798732315574,536.0059362422857,487.2531004481291,357.11605236061723,406.9749600643883,367.8845614688098,352.2825871829781,428.43268623934017,674.3110204717076,455.035335389043,493.5381876707219,323.74660823424256,570.8743858811187,522.353586759007,512.3707856660071,344.4453879977802,603.4429248374895,494.1976924767502,623.1044501461381,615.5627227003581,501.0952022102914,460.4308638029236,511.1937567124921,619.1047848619293,425.2042215634771,439.3866776326462,609.7226947958968,520.9731598310524,564.9102229349046,574.5730747304841,273.4326379844824,416.5796721407011,414.0040053422642,602.5491467107406,501.81396345804,657.2588888850354,545.5852027603559,363.1143358473566,587.1013486660677,535.983125681759,357.04441400326664,543.9185096206758,487.4695239600374,491.0377341596269,618.1234169612334,442.9335794860026,528.4401545262326,492.8732710472319,497.0438764547785,606.2973619885972,368.90204455683545,463.83315595884665,411.35636172881794,670.2123763314803,408.5223636229996,484.43638366363615,492.6419263025697,381.8529899454828,613.9599526151189,327.3602412914911,491.7924066257116,585.4441278525176,380.3945668981375,554.7626665975166,493.8566807467015,526.2107461997405,385.3965598752692,484.4615914773384,332.22764351726505,564.6720717082741,649.4400682453601,424.727789864844,618.0869511093333,511.89276393719206,331.1216882835573,558.1640943139216,493.5696494772566,396.05573682777606,631.3714016891532,478.4448661860958,628.5449945553794,499.75474684304015,506.82347359944407,258.6440374650206,478.3582379162217,460.542508237649,552.6266595288025,519.608167509648,456.9876155138211,562.6259752623373,560.9872101282104,588.2426814682234,579.4306547224112,490.6889113372992,372.777435623285,677.2762868619468,420.76621322790896,478.0863680719154,608.7991805065571,498.40036413961457,351.0900891824846,604.796523497614,584.2941507757286,552.3685963906154,514.8563640360836,324.75278473266786,551.6500996267873,646.4213711515152,412.0162778546955,542.0558131371063,376.82027574959096,485.6554219902819,530.001044317915,531.4823722132704,502.9017022067338,320.22783440806137,410.1722868892717,307.4926247103735,414.3215432846649,429.4725952238923,611.3728069058627,579.498008236646,645.8481536313017,528.2198725865861,487.2993308145905,530.9931459235912,374.1976028222568,453.8258268427462,535.0456265906083,381.3683267833461,657.7186800834027,403.062563714416,502.4059214810828,612.4871622053737,473.14373027270807,648.49853653127,477.5930158742664,478.8571900724637,469.1131060543613,558.8774158715853,560.6780518579453,484.5601050438824,602.9701102968114,501.8883171716771,296.9898467523172,409.95257742757775,429.2145201425672,529.7197158482275,503.21614080888776,656.6547446078308,378.8143046473172,627.6401641581881,420.3567696783402,347.1952143642697,559.9610884667389,437.9040143613833,382.4819857252664,446.6125099210281,578.9434831748149,427.85700337884055,563.5836374859741,603.5586958725381,445.9404665779002,577.3166504922734,453.9716661022563,367.1609664246921,591.503582140253,404.9031621848372,403.9032741282778,425.4826051100135,657.8001981385914,664.5087763153145,503.0504487642296,518.6675614514002,544.4987832475178,409.6767581547419,338.5727093977407,427.4869950555411,349.71799435208027,434.3865431630347,549.9363662656307,524.5896561047118,502.9094733167608,342.05906592218327,622.0320501070222,654.8391207616507,434.6937537437557,470.554637500956,380.4770786125914,560.3817655002244,549.2573511044259,494.2516391505415,450.4248441539551,594.8404770774418,412.9068767078235,433.42313493255097,512.0497922742833,478.0481180067042,413.2997399109179,415.84564074123193,511.5858341897693,472.8914243365848,657.9317362206364,560.6640923157407,587.743082829888,472.0676642650616,390.8626783254045,329.0670351290492,526.7267308621437,452.1023860774978,413.8722623378417,666.4417081533038,487.76923069610143,560.6378551057595,449.81047625964646,499.9483098716154,429.2677210625381,508.9117648312799,546.2039332153029,621.5970322630156,413.8417803555996,449.0260696578263,447.0531904319864,595.4864806458586,480.8773329570647,667.708564873697,594.6095887530881,600.0432909105972,508.1997820470308,359.1950799155941,365.8832807057999,576.7384252541588,515.3251905810469,423.65453318503705,543.49227763603,577.2929236694818,421.058946419443,625.0801846230726,434.2752828285205,657.7342506736767,518.3561442572383,481.8628060691199,476.5260782558536,457.3131860879925,456.7209924867339,403.315575615986,599.3670934765121],\"xaxis\":\"x\",\"y\":[999.7660961983588,1001.0424031538956,998.8440146285708,1000.440940309762,1000.3385312934138,1000.6280062225202,1000.444949437216,998.8784862396268,998.475996714074,1001.5944813896192,1000.4889149679746,999.5639425977988,1001.3861565774104,999.939106918522,1000.055359565865,999.8292801841648,1000.7177563029114,1000.4865928693204,998.1774564383384,998.7724224980918,998.9567829125324,999.1431146145878,999.777492627623,1001.0779914137092,1000.5451767964876,999.4286018544504,1000.4094220705874,1001.0191945956328,1000.276173558712,1000.8427064981222,1000.0600105123546,997.9761287454476,1000.9257261238848,999.7039946779148,1001.1104617548068,999.7651197891018,1000.51681866568,999.030769629359,1000.3940316201378,999.9086070971204,1001.2346066869844,1000.6760651308952,1000.7624611590388,1000.5537843911584,999.1979887733896,1002.0561547012248,999.7775334696612,998.9601219675884,1000.1629874166696,999.5432240746844,998.0624364132668,999.8305875876464,999.88800301723,1000.5575821758332,999.5603603213234,999.919989276386,1000.8667166539024,1000.3242664142662,998.9526003607664,999.7955265119213,998.1414105875398,1000.0516349629488,1000.4973788586644,1000.1454019541457,1000.8749635944192,1000.7293107282778,1000.4204360396924,999.8739711574082,999.9416331890028,1001.6638686956676,999.897668613709,999.4479409691502,1000.2650405569652,1000.9878624247884,998.4973934671648,1000.3786678044222,999.6666087950068,999.612155214119,998.7117783061932,1001.0765682824764,999.8619823511074,1000.0221895472948,999.8683983705248,998.7720951702568,999.4585837757062,999.960892380719,999.2907577599856,1000.5578097372914,999.2335257031708,1000.6433087772804,1000.2159845582814,998.4239214708203,1000.96872538949,999.3967720603852,999.7036526953524,999.765630330745,999.015290244293,1002.09059149754,1000.972026055466,1000.728763644048,999.9105208116564,1000.4094130716576,999.3544170556812,999.8305240783644,1000.5855656608388,1001.1929036208168,1000.8262030797172,998.6515692193644,999.3786877649688,1000.5635815330525,998.9564191907778,1000.1093275675074,999.9978502306636,998.6023487191998,997.5871167813008,1000.2971716782486,1000.9551343139636,999.4753519284492,999.4927513677052,1000.1631823534314,999.9020603897472,998.1214371266076,1001.2979200719208,998.9070808006086,1000.0026765680084,999.6273333293226,1000.1579084532708,999.2808868756453,999.7052392397112,999.009851784984,1000.1702286542268,998.0812781355376,1001.113262595689,1000.4019180574708,999.04709011227,1000.8654997933668,999.154168456184,998.8885109601988,999.8786532728392,999.861749871003,999.1114137960056,1000.4313542745674,1000.0672862247468,999.3205747193982,999.7071924454164,1000.09736758765,1000.341619310644,1000.282716484042,1002.0300656339932,1000.2415326800448,999.8076721238414,1000.3959068810698,1000.7216554066928,999.5987880424888,1000.1756914054666,999.4918912857186,999.1607168768546,1000.1898220023528,999.4188002544158,999.4560190237372,1001.9764748846324,999.9052178313428,999.9872332595024,997.9974461739451,1001.20842433633,997.7883908880642,999.9054050105342,999.550944860594,1001.337092447718,999.5992828611506,1000.366972632075,999.8485481361764,998.7981665611792,1001.2164785724024,999.5479968397256,1000.2517907613272,999.9286447391409,999.1058256369648,998.9609644700598,1000.0023007633667,999.6739062415502,998.9248684495636,1000.7131281082836,999.6122661244484,1000.778594314143,1000.1063481930572,1000.3474227735018,1001.2186853164172,999.4224862624432,1000.49993229594,1001.0641147463556,998.5627628396904,1000.3045414223792,998.9160846443126,1000.7587744573914,1002.1100312583042,999.340630866213,999.20391459363,999.5848688259736,1000.5895262223928,999.8396373775098,1001.4589363838688,998.8761661946252,1000.5239105249084,999.755829202112,999.7679980784824,1000.8680913064616,999.3747622808568,998.5209733562468,999.3841552476584,1000.6580573807272,1000.2970389106508,999.8989154630058,998.8652622372468,1000.848692280802,1001.0624791957156,999.8255072512536,999.993094573326,999.5531242646654,998.96915789143,1000.0651197080786,999.471415529904,999.5682358381176,1000.5842860285989,1000.4149763910686,999.881925752696,998.6982925178036,1000.1937719902312,999.67147784958,999.8712180047804,1000.4896244774516,999.7338505942,1000.1990583743228,1000.4182231616028,997.8293755687788,1001.4122639723583,999.4106554530028,999.6361612374571,999.4281624964268,998.6616797174496,998.9110754858768,999.4908319279896,1001.8432102195754,999.8863511326188,1000.7544434659072,1002.1177179272262,1000.3417693098936,1000.3638690325494,999.7992201896888,1001.782647488861,998.7980937349412,1000.8900320351594,1000.0179933175745,999.1117139290716,1001.1227426210104,998.3548282352656,1000.146205159613,998.8868793097728,1001.0259360209376,1000.4045555863726,998.2427503331198,999.7965956784158,996.9956509692493,1001.5623806809666,1000.5201231717464,1000.1032494916476,1000.040328937944,998.9592025127448,998.3956183914614,1000.2076861163968,1000.31215902536,1000.1633323373832,999.1958020905744,999.8671708554429,1000.0046724859776,1001.2051002447593,999.0512465689728,999.8873846874632,1001.7439876790946,999.8306808504432,999.427707526786,998.9770214751576,999.2782637111134,999.0606890369146,998.9079763151376,999.645456526316,1000.1515938794198,999.9284258303652,1000.0039898377552,1000.06819360506,1000.12658143551,1000.6378289779948,999.4434712899696,999.5155230463648,1002.208186217366,999.8455811942652,1000.208170180209,998.9560838227462,999.176752127074,1000.0322614913844,999.7723360061716,1000.9529414108548,999.074156076565,998.829350136104,1000.1030632592413,999.5753297286556,1000.2968198266136,1000.761759283276,1000.9125224550296,999.8216567979996,1001.0279293992652,999.8495910419858,1000.802755924007,999.1548409196646,1000.0183984334964,1001.381056689092,999.4250632385804,1001.7354204879344,1002.3335090717442,1000.2814585470456,1000.8860769435876,999.1866910357742,1000.8938327377468,998.9035762487032,1000.3938576539456,1001.2017614156214,999.9538080307716,999.6137538874882,1000.9019631213712,1000.3392542672152,1001.5822894911474,1001.3383407607972,1000.5769534632258,1001.0792529362864,1000.8232573259828,999.3710196266228,1002.1341643816838,997.682906875928,1001.3350945996236,998.5966045856642,999.9952095545368,999.602489328294,998.893454268327,1000.3844372277936,998.0549135541044,999.2390540605372,999.1778168307478,1000.2368734187382,1001.7114674199868,1000.5846970897262,997.9299982336156,1000.3751948015712,999.4172953473546,999.6504560875871,1000.0441358054412,998.7795954153906,998.4461936478774,998.8231961154572,1001.0689712882825,1000.696289065259,998.8871272058364,1000.01948507418,999.4498248206652,1000.2252386253568,1000.6654648044922,999.7520666349318,998.4337815075536,1000.0543169537776,1000.0238362673044,1001.7697260906684,998.80616706886,999.2316931262992,998.6766180739518,1001.2311538785812,998.4225030181152,998.9916584759524,1001.4497584018102,1001.4919948607522,998.9606704525085,998.4851282638398,998.3205242298172,1000.3443082359878,1000.9122220059872,999.5885474730544,999.2184730959768,1001.8703533835888,999.2078831531458,999.3076879854834,999.3133804176592,999.2206150344206,999.5958952194442,1000.5879232691448,1000.5537718950388,999.5175267119632,1000.5627543946218,999.1264265280962,1000.5166600020642,1001.226686294769,1002.66630765155,1000.1376738977906,1001.099978224067,1000.5503029535238,999.2504078032686,998.7529581678068,1001.0778897204862,1000.9792979666172,1000.898388143552,999.7150608133014,1001.5781520107796,997.5955865181112,999.7376435534568,999.5744078807194,997.387926656438,999.8884833918964,1002.5334806394694,999.6661030178196,999.6477576141292,998.6983692908244,1000.0162173692216,1000.2585015202344,997.8785742291568,1000.4101077727912,1002.2034937868516,999.8752596469268,998.2419449219562,999.6748117230852,1001.0526201755544,999.2336824444548,1000.9043339588986,1000.7555416688308,999.4766180740228,1000.5953347056038,999.95051546604,999.3678953163936,1000.8220685297184,999.156621119081,1001.1782350440018,1000.5549621236476,1001.0175144838572,997.9999573916972,998.4180241386532,999.9650894667368,998.961784048028,999.8965378444371,997.0354846750351,1000.0792091718032,999.503894665958,1001.2710741258294,998.0096955786274,999.6264674615818,998.370562742152,999.0863585982528,999.7214311676424,1000.9544860619994,999.5240450552362,1001.0246123288894,998.0531130271478,999.1940975957737,998.7098449155684,1000.7027491736628,1000.182477531898,999.630045873916,1000.0428138783592,999.5285184446076,1000.5409972339976,1000.236417361366,999.7988482310584,999.0823974270164,1000.6124092532108,1000.0316327381388,1000.6955355681804,999.3991760340766,1000.4484662955176,998.4646129686148,998.8038426415748,999.229381834042,998.7781760229692,999.9125679370792,1000.2895951903844,998.9566788607748,1001.028922757302,1000.7189581914564,1000.920300625168,999.022684813644,1000.3422509954346,998.3671210771364,1000.6431466447387,1000.6512310461312,999.7950904607997,999.1563800625694,999.8733819978436,1001.3320651500868,1000.7405769066232,1000.374205909439,1000.1356991599264,1000.1713476617062,1000.1999303313394,1000.130121993996,1000.2982953440418,1002.0031653838512,999.1136311920012,998.364391606486,1001.1041369794624,1000.6134536592248,999.6949362361656,999.2190502957758,1000.6307117690116,1000.1060930859782,1002.562477466509,1000.6384127780882,1000.0858649664387,999.693088521455,1000.114802963904,999.3212914359216,1000.8026826708171,999.2171762175536,1001.1570931058257,1000.494971197523,1001.176235127378,1000.435880005582,1000.949190936196,999.1411432823083,1000.01421222942,999.905156930061,1001.1956938250174,1000.689208615223,1000.680525925353,998.8657015782168,999.7718234774768,1000.3504077007308,1000.2965781341768,1000.4080761153448,999.1375350379112,999.5038395366448,1002.1284558454852,998.1299823517012,999.928628690678,999.8385241438,999.5599440297754,999.7473669235432,999.0178695552296,998.8095038784284,1001.5213056953808,1000.5197298468272,1001.0040508871868,1002.1607524469612,999.100538046236,1000.266792474738,999.8226466726876,998.8997079203708,1000.3714961132548,1000.9279083453958,1000.4411873738431,1000.0798548199806,1000.0373926042848,1001.5889639002356,999.0859714085452,998.8976753683868,1001.8840641011,1000.5456871325836,999.6440087278152,1001.6918754987372,1001.0268408261326,1000.1867705493548,1000.5502513792574,999.3632187637284,999.2164619707668,1000.3558147484944,998.8683186052806,998.383895335088,1000.030364162772,999.2576416261118,999.7674448623596,1000.5356378382636,999.4153922997313,998.7787530351408,999.7117705391285,1000.3493870147092,999.1442914962744,999.0807940303312,998.227294304448,999.9280220425486,999.0296735419824,998.322839148486,1000.3924271404876,1000.7065592442198,1000.687312221804,1000.4790917690764,1001.3427893558996,1000.5395810450016,1000.8321354580372,1000.4977434594372,1001.0953277708122,1001.2130411559858,1001.1888403463018,1000.7433360840568,999.8858146528572,999.7161237146278,999.3935320491248,999.7895297921988,999.671220592866,999.6073807366704,999.8950116563597,1000.9041088883372,1001.7729172670232,999.9261491909316,999.5350305550812,999.610435727042,1000.6144635823032,999.4699614061934,1000.7078652085524,1000.2157939360444,1000.5493303261096,999.9931464036914,999.7825772839273,1000.1919670584642,999.86220145782,1001.7702773260712,998.9046455174308,1000.3415225990148,999.7825473869432,999.3827380565972,998.258900165044,1001.175575429214,1000.8912072263709,1000.2223605747008,1000.8977874327364,999.540287910286,998.2842458013532,999.9267008129482,999.1829096147126,1000.715887290687,1000.2984608644754,999.0578078776434,998.8730392651188,1000.1970908622078,999.3257305826904,997.6813014709018,1000.701675318118,1002.4254706773794,999.0336303199656,1001.187170959204,997.6856527750156,1001.1428558064164,999.7632553783352,1001.3794893254912,999.413857984034,1000.53332941477,1000.524747580072,999.826783104481,999.6023945545004,1000.5440525040866,999.6058692176669,999.41187715068,999.562835819121,999.7611544496856,1001.2875927805272,998.673069603176,1000.0504784241735,1000.643429355398,1001.0636824133452,998.7828616728176,1000.671234534898,1000.8786657311688,1001.406074674326,999.6533449132712,998.6649498316052,1000.0116069679862,998.7446299220434,999.4802742619004,999.9495605812996,1000.5279639620592,999.7576089002064,999.4651113899272,999.2789809521108,1000.9171220092328,1000.7496394794074,1000.0909412345704,1000.8339365203498,1000.4199713872276,999.9376998943874,1000.5579783466908,1000.9358477520868,1000.011253211719,999.6629049362988,998.8366234196416,999.5535747499551,999.179794098328,1000.130101571728,997.5251866265182,999.0679277669728,1002.2280132308224,1000.9968908168644,1001.363167549746,999.6906834288634,999.7485241133644,1002.321608703438,1000.0581610571652,999.1301012301652,1000.169044289797,999.6311906826176,1000.7464268845998,999.1094834958508,998.6371184214596,998.477363877412,1001.0102330000544,1000.6122597200638,999.9318233901472,1000.1849977614136,1001.0342296732796,1000.6703407131516,1000.4304063591997,998.5806348959078,999.5129484215622,1000.8362240438468,1000.3393594711216,1001.4468994011507,1000.430919770275,1000.8629267206152,1000.6704015950598,1001.5607459445812,1000.725392413764,1001.0227017426226,1001.4293793083766,1000.596551794096,999.6433866358228,1000.6400081823076,1000.9015432638248,1000.4875261976176,998.4662762517676,998.1652381467264,1000.2253383689092,1001.9589766965846,1000.9964117021556,1000.17879614367,999.0046838956464,999.2622262101246,1001.1190508063044,1000.8731408377632,999.0711610204912,1000.6549633927756,999.4860442009,999.3197592610472,999.6638734076408,1000.3975334334508,1000.8688680373152,999.5593560318396,999.8841244164709,998.7432390774328,1001.219938110686,999.2147183034084,998.0692748221982,1000.436784810084,998.8246315050764,999.6458455709594,1000.074946858983,998.2013100246744,998.198308352118,998.8113077374336,998.601301885397,999.189289772268,1001.7602593888454,999.819291717664,1000.120779040254,998.440796672662,999.8096749634942,1000.4104056820228,999.885685015493,998.6964412355788,1001.3077276520928,1000.1156875949858,1001.2760463143971,1000.4093492173,1000.3280760528804,1000.21620780002,1000.8473755260316,1001.8420980443284,998.9766331201708,999.1806166316062,1000.8143963299656,1000.7262210091766,1000.6113570376932,1001.1473622751362,997.1395180350332,999.6218479443354,999.4693436353156,1000.4989501459596,1000.52517772788,1000.426094338328,1000.8091288689684,998.915927576355,1000.213874044324,1000.1883300502836,998.977362114162,999.5485391542836,999.8737492982588,1000.5761272791292,1001.255814275173,999.7879540943508,999.8835083855148,1000.2383983613804,1000.374025635672,1001.580036782574,998.6160154686982,999.9175512231247,998.9735686872206,1001.359234773415,999.6951226841866,999.8446782327404,999.7328817906543,999.1218465438706,1000.9932349676078,998.145638338734,999.770659136156,1000.2097747318878,998.9509537319342,1000.0906358693096,1000.203308741358,1000.3094364488468,998.4509325763167,1000.2395968666026,998.6348293545044,1000.5312588308748,1001.2145184262058,998.7527058075052,1001.0493541474912,1000.516497948514,998.2427572070916,1001.4504393114312,999.7113763922332,998.9536207518984,1001.2600338687274,1000.0366543671232,1001.2277584310232,999.4276816848654,999.3170148939146,998.6043139399434,999.942200414334,999.8435087742124,1000.5453737709948,1000.667853596175,999.6034579279062,1000.1002206038006,1000.1681347236284,1001.4847734331232,999.9654160019036,1000.0309251569084,999.0047434529356,1001.14068964766,999.8365441758392,1000.1907475860468,1001.244123675506,999.9052823439772,999.1088725715584,1000.9267078456826,1000.7351059426323,1000.9682480255664,1000.1643536864184,998.3562614334804,1000.8413480017985,1001.4454281451494,998.7844819521312,999.623106317033,998.491084423138,999.6043024074328,999.75011750367,1000.0224422749442,1000.6920279197756,998.0593701239186,999.1219399363944,998.2965768754082,999.3923008341064,999.5334353097056,1000.7718986812932,1000.831031795415,1001.8219295554936,1000.8470177352048,1000.0545103454182,999.7298780536884,998.5604958067804,999.7301904331024,999.9954064590718,998.6963927750094,1002.118702595375,998.74495599993,1000.021169564734,1001.1019761811166,1000.0075116787492,1001.648703655777,1000.0021862098728,999.8137991468687,1000.1746689855194,1000.5578265938934,1000.6644432344802,1000.0624653501494,1000.9205535666456,1000.6990554376296,998.4731398460236,998.9260238135428,999.210645243246,1000.1110699038604,1000.691641972672,1001.8721047897138,999.0118550817076,1000.958074056051,999.3089718391304,998.7819942330502,1000.0357638641724,1000.0490836039132,998.9053940026432,999.1361536581918,1000.6115204617624,999.5912902792702,1000.177815166058,1000.9765973336708,1000.3067811861882,1000.6607325078616,998.8848771158172,999.2989108945586,1000.7079235348316,999.2345979193708,998.9183656954672,999.7912233313656,1000.816521162992,1000.9015575201868,1001.1681436841784,999.8514538930448,1000.0847521387868,999.2615107142052,998.71521621813,999.903162876118,999.1619843350152,999.6798859557496,1000.6666409559232,1000.3309538352914,1001.4178721630616,998.074654672642,1001.2243293671028,1000.553564284494,999.4216054320208,999.4070184671556,998.6137120235472,1000.2462320061796,1000.8355433591132,999.9218025990764,999.3349244365032,1001.096297384408,998.9138478425658,999.0944124424548,1000.3350494906548,999.6578719154028,999.5128600106284,999.1937754222732,1000.6577166294873,1000.1955018818976,1001.6169440141754,1000.876904693194,1000.472712703357,999.4170607405986,999.2577785181284,998.5349489211924,1000.5181270900512,999.052433716639,998.5870991634102,1001.51666861716,999.4312160572488,1000.3917989458416,999.7367864493368,999.76260825347,999.0771653329252,1000.2807829745942,1000.481868423038,1000.9678423435462,999.3566518636914,998.9549396098377,999.1633271747648,1001.1916947834366,1000.129222660384,1001.8535356107338,1000.9175507328108,1000.9880043909012,999.525139242516,999.1751519770316,999.1641436797902,1000.8749842857544,999.8086418557856,999.271888214223,1000.547553460226,1000.7758768523316,998.5612485230116,1000.638738062489,999.7059234196794,1001.56584256576,1000.0946505942576,1000.2422432536572,999.672731720676,1000.0200261557756,998.8476055350642,998.5628508600396,1001.451407131737],\"yaxis\":\"y\",\"type\":\"scatter\"},{\"hovertemplate\":\"\\u003cb\\u003eOLS trendline\\u003c\\u002fb\\u003e\\u003cbr\\u003efeature2 = 0.00917714 * price + 995.403\\u003cbr\\u003eR\\u003csup\\u003e2\\u003c\\u002fsup\\u003e=0.823694\\u003cbr\\u003e\\u003cbr\\u003eprice=%{x}\\u003cbr\\u003efeature2=%{y} \\u003cb\\u003e(trend)\\u003c\\u002fb\\u003e\\u003cextra\\u003e\\u003c\\u002fextra\\u003e\",\"legendgroup\":\"\",\"marker\":{\"color\":\"#636efa\",\"symbol\":\"circle\"},\"mode\":\"lines\",\"name\":\"\",\"showlegend\":false,\"x\":[223.34679276337343,239.65626376379964,246.73972005907947,257.7119972438171,258.6440374650206,265.3188349140617,273.4326379844824,275.33337527107074,292.1917811049085,296.9898467523172,297.29389413193223,299.3944141929243,304.4326151846456,305.4222122133839,307.4926247103735,308.2234312505793,309.35587862899024,310.1908531730263,311.8713776455462,315.5189290330409,316.6368480069826,316.9505926044769,316.973734928554,318.24228660349524,320.22783440806137,320.68694050820136,322.3143519655322,323.65776197680174,323.74660823424256,324.75278473266786,325.058522166333,325.7948026305991,327.3602412914911,327.5600405221574,328.2055040133165,329.0670351290492,330.0823022536812,331.1216882835573,332.22764351726505,333.08087339141025,334.8945962154536,337.95129475852843,338.0902386001779,338.1338417212897,338.5727093977407,338.93370122470503,339.21223298208145,340.05814211570635,341.6878955248129,342.05906592218327,343.73541799243674,344.4453879977802,345.01181992120416,345.8514994672988,347.191118195517,347.1952143642697,347.8763132730069,349.71799435208027,351.0900891824846,351.42908062100173,352.2825871829781,353.78339460659504,354.9288423214043,355.3522887850328,355.7953522325841,355.8148512530355,357.04441400326664,357.11605236061723,357.2959144643571,357.3422339089137,357.82557518578705,358.68011197072985,358.85061321399496,359.1950799155941,360.1607811760624,360.2321249322739,361.42640522094473,361.96928555187753,362.1227029921573,362.2401834624175,362.2492810487827,362.68807581712446,362.9186760609314,363.1143358473566,363.4303791025056,364.0350138103205,364.5084209320396,364.8521078416688,365.5608775485973,365.8832807057999,366.3818868024921,367.0456173319431,367.1609664246921,367.7635423918606,367.79190440290176,367.8845614688098,367.8849900241112,368.90204455683545,368.9200953998454,369.7858254085389,369.9145129775208,370.7417775351673,371.22410360513095,372.777435623285,373.06190747893777,373.146531216796,374.1976028222568,375.1375471510901,375.3118020534009,375.6230235600407,375.9593804443484,376.3262553288048,376.82027574959096,377.13616235703495,377.570426071083,378.04069830748494,378.7933970693719,378.8143046473172,379.109820566372,379.1313120747972,379.23669121225765,379.9091337212608,380.1398491626706,380.3945668981375,380.4770786125914,381.0736788052949,381.3683267833461,381.8529899454828,382.4819857252664,383.934415519679,385.3965598752692,386.8315800060643,387.6460558788804,387.892724619406,388.02606419840566,388.7466322454392,390.2092367966402,390.8626783254045,391.1246665610285,391.265475827755,392.04726870632,392.5778737731593,392.70436827153407,395.1204533230811,395.5147751225993,395.7453134872051,396.0499847621306,396.05573682777606,396.196571095286,396.9287685858524,397.6205961806861,397.88209319073707,399.7469088068518,399.8665189638588,400.63495185511874,401.2803369760671,401.5399622814862,401.8950557292264,402.00959595271183,402.19551340113657,402.2963187329033,402.7886092221642,403.062563714416,403.315575615986,403.4130154697376,403.69954917011,403.9032741282778,404.129286546174,404.1423947469101,404.353032511081,404.9031621848372,405.4001656198269,405.9289894892562,406.28845394039297,406.616067101664,406.9749600643883,407.4105058685124,408.12200074037287,408.2862018238552,408.5223636229996,409.6767581547419,409.95257742757775,410.1722868892717,410.2971616727477,410.3591240728469,410.53824962836654,411.051577817881,411.1842387237991,411.35636172881794,411.57560703304586,411.63794463924177,412.0162778546955,412.9068767078235,413.1007145169893,413.2997399109179,413.8417803555996,413.8722623378417,414.0040053422642,414.1107281383127,414.3215432846649,414.7544520045376,414.85687715394846,415.44298463184975,415.60708684154974,415.84564074123193,416.3753031772155,416.5796721407011,417.2388720613262,417.54122634841247,417.569724534508,418.4571783885716,418.9300451928782,419.1123504148279,420.2389007506976,420.3567696783402,420.76621322790896,421.058946419443,421.26795581123406,421.5295114897206,421.53806533892566,422.4424354446581,422.7785260527181,423.0524338603942,423.13089618336056,423.65453318503705,423.7000169912119,424.6084077486387,424.6110882127841,424.727789864844,424.8107860865061,425.1061584752634,425.2042215634771,425.4599912007873,425.4826051100135,425.84365096282784,426.3627846258843,427.3695697745074,427.4869950555411,427.74126220629387,427.85700337884055,428.3161487668162,428.43268623934017,428.84321278579625,429.2145201425672,429.2677210625381,429.4725952238923,429.91541294796457,431.1886968123592,431.4798732315574,432.821619908345,433.09376956069445,433.4106402600616,433.4151443319604,433.42313493255097,433.51753016010537,433.998384459224,434.2752828285205,434.3865431630347,434.62971003006857,434.6937537437557,435.09849105576666,435.2615532825878,435.51362445479134,436.5549497151016,436.669659071071,437.1817974099192,437.9040143613833,438.2654059686041,438.76371593759967,438.9769913647519,439.090259556184,439.3866776326462,439.4965351724188,439.6505402427454,441.387240111764,441.4847402127855,441.7417973978801,441.9052267428249,441.9503669068689,442.17202785952793,442.9335794860026,443.1869176626926,443.2046857171032,443.21100481790927,443.3970356135937,443.809838908192,444.0546928396544,444.6797084597428,444.9447338982071,445.5828214197511,445.9404665779002,446.2123038899063,446.36031515187625,446.6125099210281,446.6617038043286,446.8769875458974,447.0531904319864,448.4298146790867,448.51914415847193,448.5535721941784,448.63240577003785,448.7013865381404,449.0260696578263,449.2279729320876,449.2596750838818,449.3281448801714,449.4161187948157,449.4584840008588,449.79721212220096,449.81047625964646,450.4248441539551,450.85178617636,450.9760715027984,451.39140000665856,451.7914013389133,451.8041723989507,451.8644194189002,451.8976478174946,451.9264153228441,452.1023860774978,452.3723832877561,452.71044444227255,452.7344993500761,453.1382414237832,453.4582975151477,453.4968121816982,453.8258268427462,453.9716661022563,454.013630390762,454.0284118449107,454.32901321420496,455.035335389043,455.1395339891374,456.7209924867339,456.8999523716808,456.9876155138211,457.0595881125368,457.3131860879925,457.6956861393197,457.77794629094,458.3300266195937,458.527897670574,459.9249453763113,460.02329028167605,460.1838562987829,460.3199909765118,460.4308638029236,460.542508237649,460.6947813773974,461.1406242277295,461.1794450249759,461.3807860924571,461.4904899199929,461.5207671175384,461.52792939358096,462.0048018889012,462.2423973066748,462.8816308379672,463.3552035980994,463.83315595884665,464.1158700554973,464.4449480901343,464.99440569880034,465.17802914248296,465.99980649077486,466.0044086550277,466.4902006464921,466.7044580592094,466.7870243436057,466.8394785961299,467.4605955215901,467.6685222133391,468.0732468761311,468.3569804514317,469.0728386308848,469.1131060543613,469.246860523441,469.80282429759,469.8723866295668,470.46051802314713,470.554637500956,470.8906700663708,470.96358489786303,471.9943596721792,472.0676642650616,472.8353627974771,472.8914243365848,473.14373027270807,474.0250134637421,474.0863463936184,474.20540259707184,474.34929884413896,475.1758576737966,475.3724172064315,475.9469962202677,476.0712297402995,476.08427343745393,476.194975228927,476.5260782558536,477.2583976324784,477.32136010791135,477.43051629936485,477.5930158742664,477.7374972127375,477.8062599329995,478.0481180067042,478.0803033433381,478.0863680719154,478.3582379162217,478.4448661860958,478.8571900724637,479.0377818356649,479.56906766958593,479.7088766090232,479.9191566059864,480.2301228171844,480.5991150274344,480.8061679559197,480.8069403066062,480.8773329570647,481.2061489900144,481.5243697169256,481.5334626750023,481.6458132080981,481.8628060691199,481.9070413935198,481.9254704456524,482.5564118848851,483.1348270899156,484.019526532353,484.10880902261175,484.2298120008516,484.43638366363615,484.4615914773384,484.5601050438824,485.2247759198016,485.50390002770087,485.6554219902819,485.6714038180176,486.74414446614657,487.18793877496415,487.2327680525943,487.2531004481291,487.2993308145905,487.4695239600374,487.737916297914,487.76923069610143,488.7869177427834,488.9566039775478,489.057551961728,489.0976077206559,489.1245800656128,489.7945978379802,489.9964651504756,490.6889113372992,490.78489309260766,490.99787401882185,491.0377341596269,491.5512871489272,491.7924066257116,491.80281222710687,492.6045144721288,492.6419263025697,492.8732710472319,492.9359193936364,493.0120177916112,493.5381876707219,493.5696494772566,493.8566807467015,493.9642073677289,494.1976924767502,494.2516391505415,495.5435853423662,496.06904958233,496.75415064104175,496.8904766764585,497.0438764547785,497.2397861315607,497.3392189695792,497.4125183701755,497.4647268379185,497.4914823945552,497.7227482641622,497.82077750643896,498.1900003268827,498.40036413961457,498.463590852865,498.6284209016306,498.9283393958094,499.2123511732978,499.75474684304015,499.9483098716154,500.133045805441,500.7218448019106,501.0952022102914,501.6220601516152,501.81396345804,501.8883171716771,501.89188819006887,502.3583131601892,502.4059214810828,502.7194800207069,502.8467148995792,502.9017022067338,502.9094733167608,503.0504487642296,503.21614080888776,503.2706587604634,503.3900014110533,503.5141998158496,503.7568725115727,504.4313726322902,504.6938964425924,505.6318839857883,505.69270876964464,505.7472641309476,506.31229096481167,506.3392986265895,506.5037054786037,506.7403250925609,506.82347359944407,507.0979898219253,507.43439141143006,507.4431866249745,507.6052942953172,508.1997820470308,508.2038913458533,508.4144059952209,508.82552564170834,508.9117648312799,509.0580574626169,509.84188626144095,510.02950867087566,510.4635656667628,510.8785785502258,510.88504978963226,510.8866119550272,511.1937567124921,511.2982453301132,511.36670783252816,511.5858341897693,511.6945465433186,511.89276393719206,512.049048950007,512.0497922742833,512.1515175049309,512.3707856660071,512.5837775336678,512.5957017349169,512.949944948852,513.5197319995317,513.588510643147,514.313498693531,514.4056408574132,514.4790663755915,514.6937858883663,514.8563640360836,514.8817405773764,514.8947441637532,515.1475399066105,515.2152027559486,515.3251905810469,515.56181282673,515.7784459657249,515.9009900702896,516.2860375640063,516.6620498627744,516.985813775865,517.3219999764311,518.0070965780235,518.1278833901422,518.2631242651357,518.3487726828051,518.3561442572383,518.3603954341966,518.6675614514002,518.7063021846278,519.1723751776766,519.3264095596427,519.4605524660828,519.4629917650527,519.608167509648,520.9731598310524,521.6158872397277,521.7744574040415,521.7969924671536,521.8795946235425,522.353586759007,522.3588837323506,522.429934159432,522.808007536568,523.0234419809312,523.1264342532802,523.1597791418912,523.5331277555823,524.3243802884606,524.371195474605,524.3839383524133,524.4734839878822,524.5689545585435,524.5896561047118,524.9670294677807,525.5561777268364,525.7046566146622,526.1019195960951,526.2107461997405,526.2429778194082,526.2924796076577,526.3425972096086,526.4475195141854,526.6736175695605,526.7267308621437,527.057541591376,527.3171959571247,527.6158769330265,527.8807722583516,528.1286134266179,528.145469496525,528.2198725865861,528.4401545262326,528.6908835586818,529.4394397952852,529.7197158482275,530.001044317915,530.0328538065396,530.135086275425,530.2103988218163,530.2762592125852,530.6830145332789,530.9871743876214,530.9931459235912,531.1634175761965,531.277546867594,531.4823722132704,531.6619389143916,531.9290881048648,532.6265316415288,532.6287977160746,532.8329517531153,533.0721080527547,533.4842626492591,533.5507459870914,534.2343669565399,534.7673736990871,535.0456265906083,535.5436758282534,535.9294754207793,535.983125681759,536.0059362422857,536.0409091513951,536.5906687647899,536.7973721638596,537.1252403330948,537.2492280531452,537.6067329045089,537.9288848306378,539.5404931828281,539.6839972923619,539.7932304046632,540.3822198140741,540.7438188593637,541.1289475020037,542.0558131371063,542.3014050784392,542.3620489701357,542.9836715980255,542.9953999614753,543.1099277810902,543.3206422153502,543.3237843031621,543.49227763603,543.8302791183833,543.9185096206758,544.1813100407738,544.4987832475178,545.5852027603559,546.0245529164561,546.2039332153029,546.2313799070295,547.0728669378357,547.1290144613744,547.2757915319635,547.6240432533422,547.7129283710759,547.7319823874158,548.1300114599096,548.61436053478,548.910799095615,548.9485124900032,549.2573511044259,549.2905454911648,549.8476200686011,549.9363662656307,550.1424624779931,550.293400617648,550.4749492549695,550.896739913604,551.5600604270005,551.5737279509531,551.6500996267873,552.3587431275491,552.3685963906154,552.6266595288025,552.7789350933658,552.8891290224539,552.9145202623566,553.0768173295677,553.1238781129516,553.1340606815943,553.3241975102603,553.8799961236667,553.9046287651987,554.662058504202,554.7626665975166,555.4208713451699,555.4856641557159,555.9997870240727,556.3815691313789,556.543975646635,556.6121542753991,556.832097111368,558.1640943139216,558.3493927897489,558.5032104812539,558.6879694815866,558.8774158715853,559.0437853350255,559.6984891073345,559.7847254049152,559.9610884667389,560.1354366122368,560.3817655002244,560.6378551057595,560.6640923157407,560.6780518579453,560.7947177823255,560.9377906210058,560.9872101282104,561.6815935984445,562.0025764698489,562.0579360412577,562.6259752623373,562.8473668138763,563.5836374859741,563.6778173748048,564.1115379147367,564.186814876514,564.3682236213733,564.6720717082741,564.9102229349046,564.9556812960161,565.0254089166355,565.0768903509581,565.191845594684,565.2499549384387,565.434169937479,565.9362004993941,565.9672306647051,566.0576393534825,566.2717255663605,567.044977945725,567.1947060080355,567.3086215314689,567.4636876935175,567.8818928320967,568.6047779754276,568.6131874454458,568.7320592249458,569.8733603076373,570.0672954330697,570.1685123652715,570.6460652965347,570.8743858811187,571.1882917880894,571.7062626221265,572.313053851413,572.3806506416186,572.6784321239863,573.8382695891298,574.5156068712286,574.5730747304841,574.5783776538541,574.7400108316077,575.6865675909281,576.3214434479853,576.6784383687008,576.7384252541588,576.8525516722201,576.8926402006383,577.2929236694818,577.3166504922734,577.5829850114998,578.2240203394963,578.3290181441334,578.5238572292519,578.5886064550515,578.9434831748149,579.428430937895,579.4306547224112,579.498008236646,579.5584899835791,579.7308387221567,579.8517864859472,580.8806048404939,581.2475743350167,581.511438083857,581.5425266161899,581.9074848338294,582.4550662975032,583.0659840897691,584.2941507757286,584.3811077238026,584.9284375629157,585.1566919161073,585.1682144076741,585.4441278525176,586.5598064859136,587.0691898597458,587.1013486660677,587.3077703193196,587.4556674283482,587.6788772559202,587.743082829888,588.2426814682234,589.2837976726473,591.503582140253,591.7141350896221,591.8690919523219,592.7579164984965,593.2305193771007,593.4748072346498,593.667795701298,594.6095887530881,594.6866457350071,594.8404770774418,595.3809465162147,595.4334856131899,595.4864806458586,595.5444319135589,595.8536379669682,595.9658196768545,596.271616771598,597.712571717935,599.2805067162914,599.3670934765121,599.8118558066404,599.9057313773181,599.923826118107,599.9911809246321,600.0432909105972,600.1186364029229,600.3684448550833,601.6384957833875,601.7678083780327,602.1202497949819,602.5491467107406,602.9701102968114,603.4429248374895,603.5586958725381,603.6048816226984,603.6699034695841,603.8875773722033,604.1106609943602,604.5726140930071,604.796523497614,606.2179593555021,606.2973619885972,606.3150518198445,607.4194029570825,607.664730777356,608.1280402149021,608.6446635232969,608.7991805065571,609.3840752976031,609.5807074570155,609.7226947958968,609.9695553559047,610.0917076356588,610.296501886043,610.4553519022312,610.5801650305415,611.1476368756989,611.3728069058627,611.8475488365282,612.0849273173208,612.4702560910661,612.4871622053737,612.5053394264529,612.7279103266178,612.7537014986588,613.4266291463498,613.9599526151189,614.8813168955378,615.5627227003581,616.5106010129126,617.3773773196228,617.6150990412137,618.0869511093333,618.1234169612334,618.9336345873538,619.1047848619293,621.1188559609227,621.5970322630156,622.0320501070222,622.3714738337385,622.8655182813751,622.9976430469436,623.0544955505633,623.1044501461381,624.1561984672744,624.247092064156,624.9925040414096,625.0793860828061,625.0801846230726,626.0686516896824,626.6797542983625,626.6942779410521,627.3802760954953,627.6401641581881,628.5449945553794,628.8494043731677,628.9770918674018,630.6136393266559,631.3714016891532,631.5606939182501,631.8891574061099,633.3502924774541,633.4512532694235,633.4727288005175,634.2482933047978,634.5322379035152,635.3470661306967,637.2716109929202,637.3096207432424,637.7789690800714,637.858708266419,639.8183622492462,640.4048525816643,641.2963611091914,642.3708192002453,643.1359317769884,643.552572050058,643.6885180735171,645.7084402037391,645.8481536313017,646.2592859245788,646.4213711515152,646.8239135994891,647.3615595713675,648.0101493228949,648.49853653127,649.3959165226917,649.4400682453601,651.3961288610681,654.8391207616507,655.0298841020265,655.3914031914753,655.4261980567373,656.6547446078308,656.9730856638855,657.2588888850354,657.7186800834027,657.7342506736767,657.8001981385914,657.9317362206364,657.9549142636489,661.164368621826,662.9250462337401,664.5087763153145,665.0473923595973,666.0622254538048,666.4417081533038,667.4812481039403,667.708564873697,670.2123763314803,674.3110204717076,675.7602689783545,677.2762868619468,679.8950229235796,685.0730652908377,685.2165407916625,689.1734888970261,693.9884929035138,695.0806435129189,695.7728281714869,697.7071580223301,698.4104139622187,699.733841022974,700.9836802505966,708.0181057952304,711.6577732776482,713.4666734620962,718.2565398630599,722.2639443310222,724.471875749426,728.5415864322357,731.5095583727039,734.2765030956431,760.651016694891,774.4078544514234],\"xaxis\":\"x\",\"y\":[997.4531410108624,997.602815251637,997.6678210965862,997.7685151814619,997.7770686417474,997.8383241687037,997.9127856465977,997.9302289720296,998.0849408626718,998.1289733658073,998.1317636500968,998.1510404093094,998.1972766672657,998.2063583342275,998.2253587922172,998.2320655035542,998.2424581276666,998.2501208029884,998.2655432053778,998.299017282164,998.3092765771262,998.3121558541075,998.3123682343733,998.3240099061862,998.3422315493139,998.3464448286392,998.361379805641,998.3737084626208,998.3745238168483,998.3837576358657,998.3865634300118,998.3933203762969,998.4076866204897,998.4095202052919,998.4154437118227,998.4233501004265,998.432667345361,998.4422059327799,998.4523554348656,998.4601856418426,998.4768304236787,998.5048821632906,998.5061572698842,998.5065574216761,998.5105849702259,998.5138978414786,998.5164539654214,998.5242169889638,998.5391734583766,998.5425797397589,998.5579638514434,998.5644793430569,998.569677566107,998.5773834198745,998.5896772837324,998.589714874832,998.5959654124524,998.6128667710099,998.6254586724888,998.628569643175,998.636402389354,998.6501755038635,998.660687433837,998.6645734598123,998.6686395135259,998.6688184586972,998.6801023238281,998.6807597588084,998.6824103778764,998.6828354577393,998.6872711465884,998.6951133472642,998.6966780604382,998.6998392783609,998.7087016505967,998.7093563819822,998.7203164551491,998.7252985420214,998.7267064748044,998.72778460911,998.7278680989015,998.7318949783634,998.7340112282659,998.7358068248234,998.7387071968996,998.7442560121148,998.7486005338665,998.7517545955317,998.7582590718428,998.7612178096078,998.7657935857914,998.7718847314252,998.7729433057885,998.7784732276599,998.7787335097051,998.7795838362418,998.7795877691524,998.7889214173748,998.7890870724241,998.7970319948415,998.7982129782213,998.8058048979459,998.8102312701026,998.8244864099831,998.8270970470182,998.8278736506073,998.8375194781479,998.8461454755076,998.847744636523,998.850600758755,998.8536875517777,998.857054412652,998.8615881054619,998.8644870399607,998.8684723373192,998.8727880898006,998.8796957090431,998.8798875807387,998.8825995706507,998.8827968011559,998.8837638798792,998.8899349765381,998.8920522836247,998.894389863039,998.8951470843011,998.9006221656748,998.9033261903737,998.9077740103442,998.9135463904408,998.9268755368461,998.9402938351049,998.9534632106515,998.9609377668704,998.9632014795599,998.9644251550703,998.9710379063584,998.9844604278951,998.9904571499657,998.992861451752,998.9941536776059,999.001328297527,999.0061977326257,999.0073585898973,999.0295313320867,999.0331500770454,999.035265759074,999.038061768936,999.0381145564273,999.0394070117169,999.0461264879951,999.0524754842318,999.0548752779739,999.0719889453344,999.0730866240658,999.0801386375605,999.0860614248774,999.0884440417307,999.0917027827526,999.0927539340123,999.0944601238047,999.0953852280891,999.0999030450813,999.1024171628374,999.1047390875813,999.1056333064146,999.10826286528,999.1101324770192,999.1122066238172,999.112326919564,999.114259971067,999.1193085861474,999.1238696544858,999.1287227432928,999.1320215976093,999.1350281482926,999.1383217579819,999.142318821256,999.1488483067775,999.1503552025256,999.1525224915803,999.1631165277136,999.1656477588155,999.1676640625245,999.1688100554514,999.1693786928519,999.1710225525163,999.1757334353543,999.1769508825894,999.1785304788923,999.180542522965,999.1811146036829,999.1845866192241,999.1927597664202,999.1945386424438,999.1963651256406,999.2013395047621,999.2016192420723,999.2028282656,999.2038076752616,999.205742354625,999.2097152170171,999.2106551865891,999.2160339748873,999.2175399632572,999.2197292049449,999.2245899893916,999.2264655112554,999.2325150788738,999.2352898254222,999.2355513571646,999.243695642275,999.2480352054602,999.2497082453573,999.2600467515057,999.2611284507377,999.2648859700602,999.2675724225019,999.2694905302094,999.2718908623597,999.271969362201,999.2802688900614,999.2833532394305,999.2858669287559,999.2865869881999,999.2913924764138,999.2918098875092,999.3001463134387,999.3001709124239,999.3012418994088,999.3020035670596,999.3047142397744,999.3056141781154,999.3079614109764,999.3081689419071,999.3114823089626,999.3162464694234,999.3254858741067,999.3265635019333,999.3288969462701,999.3299591188033,999.3341727586785,999.3352422389652,999.3390096970978,999.3424172353753,999.342905467477,999.3447856256105,999.3488494242862,999.3605345240475,999.363206689777,999.3755200821093,999.3780176366033,999.380925602248,999.3809669367304,999.3810402675623,999.3819065454456,999.3863194109606,999.3888605450779,999.3898815963491,999.3921131718677,999.3927009097669,999.396415239305,999.3979116836101,999.4002249751522,999.4097813591534,999.4108340625651,999.4155340259812,999.4221619094902,999.4254784495811,999.4300515081602,999.4320087658563,999.4330482435043,999.4357685126379,999.4367766902702,999.4381900158144,999.4541279474826,999.4550227192134,999.4573817680761,999.4588815814743,999.4592958389192,999.461330051727,999.4683189149158,999.4706438339309,999.4708068937906,999.470864885041,999.4725721150365,999.4763604671975,999.4786075251366,999.4843433787646,999.4867755533757,999.492631369627,999.4959135280435,999.4984082161476,999.4997665356946,999.5020809615028,999.5025324204822,999.5045081087537,999.506125146682,999.518758615236,999.5195784040573,999.5198943548386,999.5206178213209,999.5212508672422,999.5242305285341,999.5260834224314,999.526374357404,999.5270027140673,999.5278100626858,999.5281988539624,999.531307408151,999.5314291349501,999.5370672729458,999.540985378141,999.5421259615404,999.5459374878913,999.5496083546969,999.5497255564575,999.5502784515802,999.550583393128,999.55084739645,999.5524623040764,999.5549401053156,999.5580425386586,999.5582632938297,999.5619684899301,999.5649056883518,999.565259142702,999.5682785551401,999.5696169419241,999.5700020539257,999.5701377053473,999.57289636513,999.579378380105,999.5803346248758,999.5948478852961,999.596490224579,999.597294721196,999.5979552235549,999.6002825267788,999.6037927819414,999.604547694577,999.6096142110837,999.6114301007177,999.6242509981385,999.625153522754,999.626627059002,999.6278763855149,999.6288938805714,999.6299184567825,999.6313158881634,999.6354074488355,999.6357637125889,999.6376114470379,999.6386182140321,999.6388960720053,999.6389618011898,999.6433381251479,999.6455185707164,999.6513849040555,999.6557309458935,999.6601171799241,999.662711685765,999.6657316797911,999.6707741272385,999.6724592646364,999.6800008274919,999.6800430621812,999.6845012415725,999.6864675110842,999.687225233142,999.6877066129748,999.6934066877502,999.6953148593717,999.6990290728263,999.7016329345619,999.7082024627525,999.7085720023922,999.7097994854055,999.7149016408214,999.7155400238336,999.7209373858822,999.7218011331724,999.7248849498765,999.7255540992342,999.7350136599857,999.7356863862369,999.7427316604203,999.7432461448142,999.7455615908168,999.7536492469108,999.754212107577,999.7553047026012,999.7566252580949,999.7642107012574,999.7660145549087,999.7712875449191,999.772427652884,999.7725473566725,999.773563282118,999.7766018597746,999.7833224546179,999.783900269846,999.7849020111091,999.7863932918809,999.7877192168384,999.7883502617047,999.7905698262483,999.7908651954742,999.7909208523159,999.7934158389734,999.7942108384262,999.7979947909924,999.7996521062448,999.8045277888359,999.8058108345499,999.8077406027744,999.8105943821255,999.8139806739874,999.8158808269642,999.8158879149319,999.8165339178901,999.8195515074909,999.8224718625225,999.8225553098395,999.8235863660118,999.8255777391057,999.8259836927136,999.8261528186397,999.8319430543186,999.837251249579,999.8453702570782,999.8461896146738,999.8473000755158,999.8491958118516,999.8494271473975,999.8503312198397,999.8564309951614,999.8589925551856,999.8603830929112,999.8605297603251,999.8703744476269,999.874447208554,999.8748586129517,999.8750452061198,999.8754694685009,999.8770313542193,999.8794944273257,999.8797818038307,999.88912125672,999.8906784904499,999.891604903875,999.8919725010402,999.8922200299302,999.8983688744502,999.9002214383214,999.9065761114612,999.9074569491262,999.909411504147,999.909777306098,999.9144902519544,999.9167030382932,999.916798531917,999.9241558628107,999.9244991962835,999.9266222785719,999.9271972109951,999.9278955763768,999.9327243091526,999.9330130384441,999.9356471635688,999.9366339500418,999.938776674746,999.9392717507324,999.9511281172189,999.9559503742479,999.9622376401447,999.9634887227733,999.9648964934701,999.9666943833055,999.9676068920274,999.9682795706283,999.9687586948605,999.9690042342546,999.9711265926959,999.9720262204282,999.9754146286314,999.9773451660446,999.9779254062192,999.9794380740676,999.9821904670122,999.9847968818472,999.9897745209175,999.9915508752422,999.9932462221138,999.9986497108451,1000.002076062726,1000.0069111099425,1000.0086722327704,1000.009354586946,1000.0093873586691,1000.0136678042628,1000.0141047123197,1000.0169822818225,1000.0181499336669,1000.0186545596877,1000.0187258762247,1000.020019627142,1000.0215402056443,1000.0220405243248,1000.0231357481134,1000.0242755338209,1000.0265025742619,1000.0326925539043,1000.0351017707325,1000.0437098104034,1000.0442680077442,1000.0447686697389,1000.0499539980905,1000.0502018510878,1000.0517106352017,1000.0538821256854,1000.0546451908785,1000.0571644637096,1000.060251666998,1000.0603323818729,1000.0618200660829,1000.0672757612974,1000.0673134728934,1000.0692453945551,1000.0730182956476,1000.0738097244574,1000.0751522718966,1000.0823455757358,1000.084067412188,1000.0880508124657,1000.0918594423251,1000.0919188297721,1000.0919331659771,1000.0947518753259,1000.0957107816271,1000.0963390713533,1000.0983500238332,1000.0993476919353,1000.1011667600054,1000.1026010088929,1000.1026078304812,1000.1035413768032,1000.1055536306361,1000.1075082860681,1000.10761771609,1000.1108686544003,1000.1160976679109,1000.1167288589081,1000.1233821731701,1000.1242277743808,1000.1249016103799,1000.1268721206468,1000.1283641224919,1000.1285970064739,1000.1287163421605,1000.1310362831863,1000.1316572343871,1000.1326666076658,1000.1348381223012,1000.1368261941769,1000.1379507981455,1000.1414844315345,1000.1449351477066,1000.1479063733142,1000.150991599949,1000.1572788249422,1000.1583873019982,1000.1596284259614,1000.160414433177,1000.1604820831215,1000.1605210967524,1000.1633400012047,1000.1636955301996,1000.1679727456518,1000.1693863401929,1000.1706173879488,1000.1706397737283,1000.1719720713455,1000.1844987921303,1000.1903971892589,1000.1918524092935,1000.1920592166425,1000.1928172679027,1000.1971671584054,1000.1972157694526,1000.1978678089166,1000.2013374398862,1000.2033145111777,1000.2042596853142,1000.2045656959069,1000.2079919670776,1000.2152533995371,1000.2156830288882,1000.2157999720166,1000.2166217445317,1000.2174978909854,1000.2176878718993,1000.2211510787442,1000.2265577727061,1000.2279203837194,1000.231566120306,1000.2325648368968,1000.2328606308685,1000.2333149155337,1000.2337748516053,1000.2347377379109,1000.2368126706158,1000.2373000985491,1000.2403359937499,1000.2427188772938,1000.2454599133642,1000.2478908939094,1000.250165366128,1000.2503200565816,1000.2510028638914,1000.2530244213086,1000.255325395851,1000.2621949985737,1000.2647671301548,1000.267348919908,1000.2676408399254,1000.2685790412419,1000.2692701947565,1000.269874604549,1000.2736074536283,1000.2763987701137,1000.2764535717141,1000.2780161779034,1000.2790635579834,1000.2809432681288,1000.2825911762466,1000.2850428408196,1000.2914433753208,1000.2914641713961,1000.2933377208506,1000.2955324908448,1000.2993148898149,1000.2999250164777,1000.3061986993935,1000.3110901749978,1000.3136437397505,1000.3182144055625,1000.3217549410649,1000.3222472968304,1000.3224566324568,1000.3227775836157,1000.3278228026018,1000.3297197478994,1000.3327286388255,1000.3338664910505,1000.3371473618524,1000.3401037940357,1000.3548937437854,1000.3562107005795,1000.3572131477557,1000.3626183839327,1000.3659368277109,1000.3694712058148,1000.3779771782175,1000.3802310089739,1000.3807875462427,1000.3864922619183,1000.38659989471,1000.3876509321378,1000.3895846872526,1000.3896135226213,1000.3911598089277,1000.394261694651,1000.3950713980095,1000.3974831533235,1000.4003966482605,1000.4103668683703,1000.4143988447014,1000.4160450421801,1000.4162969242152,1000.4240193655165,1000.4245346390013,1000.4258816322057,1000.4290775857712,1000.4298932966249,1000.4300681579327,1000.4337209250415,1000.4381658625903,1000.4408863197117,1000.4412324206779,1000.4440666747831,1000.4443713041995,1000.4494836536087,1000.450298089568,1000.4521894626305,1000.4535746425333,1000.4552407391501,1000.4591115695771,1000.4651989524377,1000.4653243811699,1000.4660252544599,1000.4725285725598,1000.4726189972994,1000.4749872779308,1000.4763847315646,1000.4773959962877,1000.4776290151608,1000.4791184374918,1000.4795503207223,1000.4796437675442,1000.4813886791648,1000.4864893188778,1000.4867153759903,1000.4936664120553,1000.4945897062555,1000.5006301410358,1000.5012247534991,1000.5059429292133,1000.5094465957056,1000.5109370224563,1000.5115627070354,1000.5135811524519,1000.5258050725289,1000.5275055819252,1000.5289171878684,1000.5306127464245,1000.5323513217952,1000.5338781170622,1000.5398864229139,1000.5406778251837,1000.5422963330665,1000.5438963497874,1000.5461569436036,1000.5485071128567,1000.5487478953127,1000.5488760039362,1000.5499466630432,1000.5512596620058,1000.5517131915667,1000.5580856434207,1000.5610313470291,1000.5615393893697,1000.5667523628097,1000.5687841032867,1000.5755409597076,1000.5764052613981,1000.5803855739737,1000.5810764009233,1000.5827412137278,1000.585529669081,1000.5877152153831,1000.5881323929658,1000.5887722928544,1000.5892447450018,1000.590299704959,1000.5908329823355,1000.5925235485175,1000.5971307514856,1000.5974155195466,1000.5982452124198,1000.600209910807,1000.6073061534016,1000.6086802282597,1000.6097256465619,1000.6111487098894,1000.6149866355097,1000.6216206511067,1000.6216978259605,1000.6227887285008,1000.6332626042656,1000.6350423733738,1000.6359712549717,1000.6403538233832,1000.642449152542,1000.6453299098822,1000.6500833989026,1000.6556520048096,1000.6562723497767,1000.6590051310723,1000.669649117748,1000.6758651344076,1000.6763925247933,1000.6764411904446,1000.6779245201716,1000.6866112007082,1000.6924375430763,1000.6957137341751,1000.696264242008,1000.6973115957189,1000.6976794936143,1000.701352949626,1000.7015706939162,1000.7040148821401,1000.7098977508135,1000.7108613299935,1000.7126493948631,1000.7132436073432,1000.7165003594229,1000.720950791215,1000.720971199189,1000.7215893115795,1000.7221443608237,1000.7237260287144,1000.7248359828458,1000.7342775892663,1000.7376453183899,1000.7400668320169,1000.7403521357201,1000.7437014070814,1000.7487266368902,1000.7543331128287,1000.7656041660873,1000.7664021818649,1000.7714251024809,1000.773519823825,1000.7736255673024,1000.7761576626338,1000.7863963976852,1000.7910710784114,1000.7913662041651,1000.7932605638429,1000.7946178357928,1000.7966662628371,1000.7972554861501,1000.8018403710237,1000.8113948364904,1000.8317661014361,1000.833698374582,1000.8351204348547,1000.8432772989938,1000.8476144400967,1000.8498563030981,1000.8516273845896,1000.8602703479322,1000.8609775103696,1000.8623892415891,1000.867349203375,1000.8678313618368,1000.8683177044827,1000.8688495311739,1000.8716871573166,1000.8727166641753,1000.8755230058393,1000.8887468459981,1000.9031359994204,1000.9039306179337,1000.9080122625245,1000.9088737714458,1000.909039829351,1000.9096579536009,1000.9101361740525,1000.9108276299163,1000.9131201561678,1000.9247755868334,1000.925962306159,1000.9291967091325,1000.9331327546507,1000.93699599492,1000.9413350784747,1000.9423975250601,1000.9428213779913,1000.9434180923523,1000.9454157154579,1000.9474629842979,1000.951702390917,1000.9537572380752,1000.9668019488959,1000.9675306376942,1000.9676929796893,1000.9778277607629,1000.9800791676441,1000.9843310215704,1000.9890721441641,1000.9904901676031,1000.9958578269085,1000.9976623470657,1000.9989653842485,1001.0012308572915,1001.0023518654302,1001.0042312902099,1001.0056890784833,1001.0068345055925,1001.0120422721461,1001.0141086882371,1001.0184654597126,1001.0206439144208,1001.0241801291551,1001.0243352788729,1001.0245020937109,1001.0265446572313,1001.0267813463363,1001.0329568951792,1001.0378512774232,1001.0463067631434,1001.0525601171911,1001.061258925802,1001.0692134502391,1001.0713950549149,1001.0757253057276,1001.0760599578263,1001.0834954355341,1001.0850661049571,1001.1035495102496,1001.1079377994205,1001.1119300175325,1001.1150449553865,1001.119578868694,1001.1207913956958,1001.121313138879,1001.1217715790189,1001.1314236168714,1001.1322577598123,1001.139098507238,1001.1398958355868,1001.1399031638998,1001.148974461045,1001.1545826330689,1001.1547159185196,1001.1610114171864,1001.163396445399,1001.1717001974168,1001.174493807851,1001.1756656134083,1001.1906844327465,1001.1976385213427,1001.1993756819578,1001.2023900362042,1001.2157990721238,1001.2167256030876,1001.2169226869668,1001.2240401482471,1001.2266459465734,1001.2341237363964,1001.2517855471984,1001.2521343678635,1001.2564416415925,1001.2571734189859,1001.2751574309782,1001.2805397327846,1001.2887212281868,1001.2985816766966,1001.3056032192119,1001.3094267838478,1001.3106743790547,1001.3292114800593,1001.3304936492477,1001.3342666664015,1001.3357541446454,1001.3394483316168,1001.3443823820618,1001.3503345787107,1001.3548165747616,1001.3630519533891,1001.3634571397724,1001.3814081749445,1001.4130049814074,1001.4147556426113,1001.418073352624,1001.4183926698503,1001.429667209183,1001.4325886684916,1001.4352115236495,1001.4394310902148,1001.4395739836464,1001.4401791925303,1001.4413863354574,1001.4415990435208,1001.4710526440912,1001.4872106227776,1001.5017447298338,1001.5066876827657,1001.5160009445437,1001.5194835090568,1001.5290235090276,1001.5311096260407,1001.5540874454302,1001.5917012619592,1001.6050012132525,1001.6189139162287,1001.642946414389,1001.6904660157298,1001.6917827099779,1001.7280961626607,1001.7722841114286,1001.7823069265934,1001.7886591996527,1001.8064108086304,1001.812864684349,1001.8250099550653,1001.836479900196,1001.9010357832562,1001.9344375083698,1001.9510380321842,1001.9949952897163,1002.0317717873232,1002.0520342752191,1002.0893825654613,1002.1166200489345,1002.1420126782025,1002.3840551882671,1002.5103035654594],\"yaxis\":\"y\",\"type\":\"scatter\"}],                        {\"template\":{\"data\":{\"barpolar\":[{\"marker\":{\"line\":{\"color\":\"rgb(17,17,17)\",\"width\":0.5},\"pattern\":{\"fillmode\":\"overlay\",\"size\":10,\"solidity\":0.2}},\"type\":\"barpolar\"}],\"bar\":[{\"error_x\":{\"color\":\"#f2f5fa\"},\"error_y\":{\"color\":\"#f2f5fa\"},\"marker\":{\"line\":{\"color\":\"rgb(17,17,17)\",\"width\":0.5},\"pattern\":{\"fillmode\":\"overlay\",\"size\":10,\"solidity\":0.2}},\"type\":\"bar\"}],\"carpet\":[{\"aaxis\":{\"endlinecolor\":\"#A2B1C6\",\"gridcolor\":\"#506784\",\"linecolor\":\"#506784\",\"minorgridcolor\":\"#506784\",\"startlinecolor\":\"#A2B1C6\"},\"baxis\":{\"endlinecolor\":\"#A2B1C6\",\"gridcolor\":\"#506784\",\"linecolor\":\"#506784\",\"minorgridcolor\":\"#506784\",\"startlinecolor\":\"#A2B1C6\"},\"type\":\"carpet\"}],\"choropleth\":[{\"colorbar\":{\"outlinewidth\":0,\"ticks\":\"\"},\"type\":\"choropleth\"}],\"contourcarpet\":[{\"colorbar\":{\"outlinewidth\":0,\"ticks\":\"\"},\"type\":\"contourcarpet\"}],\"contour\":[{\"colorbar\":{\"outlinewidth\":0,\"ticks\":\"\"},\"colorscale\":[[0.0,\"#0d0887\"],[0.1111111111111111,\"#46039f\"],[0.2222222222222222,\"#7201a8\"],[0.3333333333333333,\"#9c179e\"],[0.4444444444444444,\"#bd3786\"],[0.5555555555555556,\"#d8576b\"],[0.6666666666666666,\"#ed7953\"],[0.7777777777777778,\"#fb9f3a\"],[0.8888888888888888,\"#fdca26\"],[1.0,\"#f0f921\"]],\"type\":\"contour\"}],\"heatmapgl\":[{\"colorbar\":{\"outlinewidth\":0,\"ticks\":\"\"},\"colorscale\":[[0.0,\"#0d0887\"],[0.1111111111111111,\"#46039f\"],[0.2222222222222222,\"#7201a8\"],[0.3333333333333333,\"#9c179e\"],[0.4444444444444444,\"#bd3786\"],[0.5555555555555556,\"#d8576b\"],[0.6666666666666666,\"#ed7953\"],[0.7777777777777778,\"#fb9f3a\"],[0.8888888888888888,\"#fdca26\"],[1.0,\"#f0f921\"]],\"type\":\"heatmapgl\"}],\"heatmap\":[{\"colorbar\":{\"outlinewidth\":0,\"ticks\":\"\"},\"colorscale\":[[0.0,\"#0d0887\"],[0.1111111111111111,\"#46039f\"],[0.2222222222222222,\"#7201a8\"],[0.3333333333333333,\"#9c179e\"],[0.4444444444444444,\"#bd3786\"],[0.5555555555555556,\"#d8576b\"],[0.6666666666666666,\"#ed7953\"],[0.7777777777777778,\"#fb9f3a\"],[0.8888888888888888,\"#fdca26\"],[1.0,\"#f0f921\"]],\"type\":\"heatmap\"}],\"histogram2dcontour\":[{\"colorbar\":{\"outlinewidth\":0,\"ticks\":\"\"},\"colorscale\":[[0.0,\"#0d0887\"],[0.1111111111111111,\"#46039f\"],[0.2222222222222222,\"#7201a8\"],[0.3333333333333333,\"#9c179e\"],[0.4444444444444444,\"#bd3786\"],[0.5555555555555556,\"#d8576b\"],[0.6666666666666666,\"#ed7953\"],[0.7777777777777778,\"#fb9f3a\"],[0.8888888888888888,\"#fdca26\"],[1.0,\"#f0f921\"]],\"type\":\"histogram2dcontour\"}],\"histogram2d\":[{\"colorbar\":{\"outlinewidth\":0,\"ticks\":\"\"},\"colorscale\":[[0.0,\"#0d0887\"],[0.1111111111111111,\"#46039f\"],[0.2222222222222222,\"#7201a8\"],[0.3333333333333333,\"#9c179e\"],[0.4444444444444444,\"#bd3786\"],[0.5555555555555556,\"#d8576b\"],[0.6666666666666666,\"#ed7953\"],[0.7777777777777778,\"#fb9f3a\"],[0.8888888888888888,\"#fdca26\"],[1.0,\"#f0f921\"]],\"type\":\"histogram2d\"}],\"histogram\":[{\"marker\":{\"pattern\":{\"fillmode\":\"overlay\",\"size\":10,\"solidity\":0.2}},\"type\":\"histogram\"}],\"mesh3d\":[{\"colorbar\":{\"outlinewidth\":0,\"ticks\":\"\"},\"type\":\"mesh3d\"}],\"parcoords\":[{\"line\":{\"colorbar\":{\"outlinewidth\":0,\"ticks\":\"\"}},\"type\":\"parcoords\"}],\"pie\":[{\"automargin\":true,\"type\":\"pie\"}],\"scatter3d\":[{\"line\":{\"colorbar\":{\"outlinewidth\":0,\"ticks\":\"\"}},\"marker\":{\"colorbar\":{\"outlinewidth\":0,\"ticks\":\"\"}},\"type\":\"scatter3d\"}],\"scattercarpet\":[{\"marker\":{\"colorbar\":{\"outlinewidth\":0,\"ticks\":\"\"}},\"type\":\"scattercarpet\"}],\"scattergeo\":[{\"marker\":{\"colorbar\":{\"outlinewidth\":0,\"ticks\":\"\"}},\"type\":\"scattergeo\"}],\"scattergl\":[{\"marker\":{\"line\":{\"color\":\"#283442\"}},\"type\":\"scattergl\"}],\"scattermapbox\":[{\"marker\":{\"colorbar\":{\"outlinewidth\":0,\"ticks\":\"\"}},\"type\":\"scattermapbox\"}],\"scatterpolargl\":[{\"marker\":{\"colorbar\":{\"outlinewidth\":0,\"ticks\":\"\"}},\"type\":\"scatterpolargl\"}],\"scatterpolar\":[{\"marker\":{\"colorbar\":{\"outlinewidth\":0,\"ticks\":\"\"}},\"type\":\"scatterpolar\"}],\"scatter\":[{\"marker\":{\"line\":{\"color\":\"#283442\"}},\"type\":\"scatter\"}],\"scatterternary\":[{\"marker\":{\"colorbar\":{\"outlinewidth\":0,\"ticks\":\"\"}},\"type\":\"scatterternary\"}],\"surface\":[{\"colorbar\":{\"outlinewidth\":0,\"ticks\":\"\"},\"colorscale\":[[0.0,\"#0d0887\"],[0.1111111111111111,\"#46039f\"],[0.2222222222222222,\"#7201a8\"],[0.3333333333333333,\"#9c179e\"],[0.4444444444444444,\"#bd3786\"],[0.5555555555555556,\"#d8576b\"],[0.6666666666666666,\"#ed7953\"],[0.7777777777777778,\"#fb9f3a\"],[0.8888888888888888,\"#fdca26\"],[1.0,\"#f0f921\"]],\"type\":\"surface\"}],\"table\":[{\"cells\":{\"fill\":{\"color\":\"#506784\"},\"line\":{\"color\":\"rgb(17,17,17)\"}},\"header\":{\"fill\":{\"color\":\"#2a3f5f\"},\"line\":{\"color\":\"rgb(17,17,17)\"}},\"type\":\"table\"}]},\"layout\":{\"annotationdefaults\":{\"arrowcolor\":\"#f2f5fa\",\"arrowhead\":0,\"arrowwidth\":1},\"autotypenumbers\":\"strict\",\"coloraxis\":{\"colorbar\":{\"outlinewidth\":0,\"ticks\":\"\"}},\"colorscale\":{\"diverging\":[[0,\"#8e0152\"],[0.1,\"#c51b7d\"],[0.2,\"#de77ae\"],[0.3,\"#f1b6da\"],[0.4,\"#fde0ef\"],[0.5,\"#f7f7f7\"],[0.6,\"#e6f5d0\"],[0.7,\"#b8e186\"],[0.8,\"#7fbc41\"],[0.9,\"#4d9221\"],[1,\"#276419\"]],\"sequential\":[[0.0,\"#0d0887\"],[0.1111111111111111,\"#46039f\"],[0.2222222222222222,\"#7201a8\"],[0.3333333333333333,\"#9c179e\"],[0.4444444444444444,\"#bd3786\"],[0.5555555555555556,\"#d8576b\"],[0.6666666666666666,\"#ed7953\"],[0.7777777777777778,\"#fb9f3a\"],[0.8888888888888888,\"#fdca26\"],[1.0,\"#f0f921\"]],\"sequentialminus\":[[0.0,\"#0d0887\"],[0.1111111111111111,\"#46039f\"],[0.2222222222222222,\"#7201a8\"],[0.3333333333333333,\"#9c179e\"],[0.4444444444444444,\"#bd3786\"],[0.5555555555555556,\"#d8576b\"],[0.6666666666666666,\"#ed7953\"],[0.7777777777777778,\"#fb9f3a\"],[0.8888888888888888,\"#fdca26\"],[1.0,\"#f0f921\"]]},\"colorway\":[\"#636efa\",\"#EF553B\",\"#00cc96\",\"#ab63fa\",\"#FFA15A\",\"#19d3f3\",\"#FF6692\",\"#B6E880\",\"#FF97FF\",\"#FECB52\"],\"font\":{\"color\":\"#f2f5fa\"},\"geo\":{\"bgcolor\":\"rgb(17,17,17)\",\"lakecolor\":\"rgb(17,17,17)\",\"landcolor\":\"rgb(17,17,17)\",\"showlakes\":true,\"showland\":true,\"subunitcolor\":\"#506784\"},\"hoverlabel\":{\"align\":\"left\"},\"hovermode\":\"closest\",\"mapbox\":{\"style\":\"dark\"},\"paper_bgcolor\":\"rgb(17,17,17)\",\"plot_bgcolor\":\"rgb(17,17,17)\",\"polar\":{\"angularaxis\":{\"gridcolor\":\"#506784\",\"linecolor\":\"#506784\",\"ticks\":\"\"},\"bgcolor\":\"rgb(17,17,17)\",\"radialaxis\":{\"gridcolor\":\"#506784\",\"linecolor\":\"#506784\",\"ticks\":\"\"}},\"scene\":{\"xaxis\":{\"backgroundcolor\":\"rgb(17,17,17)\",\"gridcolor\":\"#506784\",\"gridwidth\":2,\"linecolor\":\"#506784\",\"showbackground\":true,\"ticks\":\"\",\"zerolinecolor\":\"#C8D4E3\"},\"yaxis\":{\"backgroundcolor\":\"rgb(17,17,17)\",\"gridcolor\":\"#506784\",\"gridwidth\":2,\"linecolor\":\"#506784\",\"showbackground\":true,\"ticks\":\"\",\"zerolinecolor\":\"#C8D4E3\"},\"zaxis\":{\"backgroundcolor\":\"rgb(17,17,17)\",\"gridcolor\":\"#506784\",\"gridwidth\":2,\"linecolor\":\"#506784\",\"showbackground\":true,\"ticks\":\"\",\"zerolinecolor\":\"#C8D4E3\"}},\"shapedefaults\":{\"line\":{\"color\":\"#f2f5fa\"}},\"sliderdefaults\":{\"bgcolor\":\"#C8D4E3\",\"bordercolor\":\"rgb(17,17,17)\",\"borderwidth\":1,\"tickwidth\":0},\"ternary\":{\"aaxis\":{\"gridcolor\":\"#506784\",\"linecolor\":\"#506784\",\"ticks\":\"\"},\"baxis\":{\"gridcolor\":\"#506784\",\"linecolor\":\"#506784\",\"ticks\":\"\"},\"bgcolor\":\"rgb(17,17,17)\",\"caxis\":{\"gridcolor\":\"#506784\",\"linecolor\":\"#506784\",\"ticks\":\"\"}},\"title\":{\"x\":0.05},\"updatemenudefaults\":{\"bgcolor\":\"#506784\",\"borderwidth\":0},\"xaxis\":{\"automargin\":true,\"gridcolor\":\"#283442\",\"linecolor\":\"#506784\",\"ticks\":\"\",\"title\":{\"standoff\":15},\"zerolinecolor\":\"#283442\",\"zerolinewidth\":2},\"yaxis\":{\"automargin\":true,\"gridcolor\":\"#283442\",\"linecolor\":\"#506784\",\"ticks\":\"\",\"title\":{\"standoff\":15},\"zerolinecolor\":\"#283442\",\"zerolinewidth\":2}}},\"xaxis\":{\"anchor\":\"y\",\"domain\":[0.0,0.2888888888888889],\"title\":{\"text\":\"price\"}},\"yaxis\":{\"anchor\":\"x\",\"domain\":[0.0,1.0],\"title\":{\"text\":\"feature2\"}},\"xaxis2\":{\"anchor\":\"y2\",\"domain\":[0.35555555555555557,0.6444444444444445]},\"yaxis2\":{\"anchor\":\"x2\",\"domain\":[0.0,1.0]},\"xaxis3\":{\"anchor\":\"y3\",\"domain\":[0.7111111111111111,1.0]},\"yaxis3\":{\"anchor\":\"x3\",\"domain\":[0.0,1.0]},\"font\":{\"color\":\"white\",\"size\":20},\"title\":{\"x\":0.5,\"y\":0.9},\"barmode\":\"overlay\",\"height\":400,\"width\":1500},                        {\"responsive\": true}                    ).then(function(){\n",
              "                            \n",
              "var gd = document.getElementById('163374aa-9264-469b-b8be-20004c086a3a');\n",
              "var x = new MutationObserver(function (mutations, observer) {{\n",
              "        var display = window.getComputedStyle(gd).display;\n",
              "        if (!display || display === 'none') {{\n",
              "            console.log([gd, 'removed!']);\n",
              "            Plotly.purge(gd);\n",
              "            observer.disconnect();\n",
              "        }}\n",
              "}});\n",
              "\n",
              "// Listen for the removal of the full notebook cells\n",
              "var notebookContainer = gd.closest('#notebook-container');\n",
              "if (notebookContainer) {{\n",
              "    x.observe(notebookContainer, {childList: true});\n",
              "}}\n",
              "\n",
              "// Listen for the clearing of the current output cell\n",
              "var outputEl = gd.closest('.output');\n",
              "if (outputEl) {{\n",
              "    x.observe(outputEl, {childList: true});\n",
              "}}\n",
              "\n",
              "                        })                };                            </script>        </div>\n",
              "</body>\n",
              "</html>"
            ]
          },
          "metadata": {}
        }
      ],
      "source": [
        "fig = aka_corr_an.Plot_Correlate_Features(df,list(corr_tmp))\n",
        "if fig is not None:\n",
        "    fig.show()"
      ]
    },
    {
      "cell_type": "markdown",
      "metadata": {
        "id": "1xZijr47qAmN"
      },
      "source": [
        "### Visualize the distribution of the filtered dataset"
      ]
    },
    {
      "cell_type": "code",
      "execution_count": 108,
      "metadata": {
        "id": "n8QWUaRh-oPa",
        "colab": {
          "base_uri": "https://localhost:8080/",
          "height": 437
        },
        "outputId": "7847ab9d-5595-4f49-e436-a2d2924893bd"
      },
      "outputs": [
        {
          "output_type": "display_data",
          "data": {
            "text/html": [
              "<html>\n",
              "<head><meta charset=\"utf-8\" /></head>\n",
              "<body>\n",
              "    <div>            <script src=\"https://cdnjs.cloudflare.com/ajax/libs/mathjax/2.7.5/MathJax.js?config=TeX-AMS-MML_SVG\"></script><script type=\"text/javascript\">if (window.MathJax && window.MathJax.Hub && window.MathJax.Hub.Config) {window.MathJax.Hub.Config({SVG: {font: \"STIX-Web\"}});}</script>                <script type=\"text/javascript\">window.PlotlyConfig = {MathJaxConfig: 'local'};</script>\n",
              "        <script charset=\"utf-8\" src=\"https://cdn.plot.ly/plotly-2.24.1.min.js\"></script>                <div id=\"ae89a07a-8fc2-4a21-978c-4afa5517dd21\" class=\"plotly-graph-div\" style=\"height:400px; width:1500px;\"></div>            <script type=\"text/javascript\">                                    window.PLOTLYENV=window.PLOTLYENV || {};                                    if (document.getElementById(\"ae89a07a-8fc2-4a21-978c-4afa5517dd21\")) {                    Plotly.newPlot(                        \"ae89a07a-8fc2-4a21-978c-4afa5517dd21\",                        [{\"alignmentgroup\":\"True\",\"hovertemplate\":\"variable=%{x}\\u003cbr\\u003evalue=%{y}\\u003cextra\\u003e\\u003c\\u002fextra\\u003e\",\"legendgroup\":\"\",\"marker\":{\"color\":\"#636efa\"},\"name\":\"\",\"notched\":false,\"offsetgroup\":\"\",\"orientation\":\"v\",\"showlegend\":false,\"x\":[\"true\",\"true\",\"true\",\"true\",\"true\",\"true\",\"true\",\"true\",\"true\",\"true\",\"true\",\"true\",\"true\",\"true\",\"true\",\"true\",\"true\",\"true\",\"true\",\"true\",\"true\",\"true\",\"true\",\"true\",\"true\",\"true\",\"true\",\"true\",\"true\",\"true\",\"true\",\"true\",\"true\",\"true\",\"true\",\"true\",\"true\",\"true\",\"true\",\"true\",\"true\",\"true\",\"true\",\"true\",\"true\",\"true\",\"true\",\"true\",\"true\",\"true\",\"true\",\"true\",\"true\",\"true\",\"true\",\"true\",\"true\",\"true\",\"true\",\"true\",\"true\",\"true\",\"true\",\"true\",\"true\",\"true\",\"true\",\"true\",\"true\",\"true\",\"true\",\"true\",\"true\",\"true\",\"true\",\"true\",\"true\",\"true\",\"true\",\"true\",\"true\",\"true\",\"true\",\"true\",\"true\",\"true\",\"true\",\"true\",\"true\",\"true\",\"true\",\"true\",\"true\",\"true\",\"true\",\"true\",\"true\",\"true\",\"true\",\"true\",\"true\",\"true\",\"true\",\"true\",\"true\",\"true\",\"true\",\"true\",\"true\",\"true\",\"true\",\"true\",\"true\",\"true\",\"true\",\"true\",\"true\",\"true\",\"true\",\"true\",\"true\",\"true\",\"true\",\"true\",\"true\",\"true\",\"true\",\"true\",\"true\",\"true\",\"true\",\"true\",\"true\",\"true\",\"true\",\"true\",\"true\",\"true\",\"true\",\"true\",\"true\",\"true\",\"true\",\"true\",\"true\",\"true\",\"true\",\"true\",\"true\",\"true\",\"true\",\"true\",\"true\",\"true\",\"true\",\"true\",\"true\",\"true\",\"true\",\"true\",\"true\",\"true\",\"true\",\"true\",\"true\",\"true\",\"true\",\"true\",\"true\",\"true\",\"true\",\"true\",\"true\",\"true\",\"true\",\"true\",\"true\",\"true\",\"true\",\"true\",\"true\",\"true\",\"true\",\"true\",\"true\",\"true\",\"true\",\"true\",\"true\",\"true\",\"true\",\"true\",\"true\",\"true\",\"true\",\"true\",\"true\",\"true\",\"true\",\"true\",\"true\",\"true\",\"true\",\"true\",\"true\",\"true\",\"true\",\"true\",\"true\",\"true\",\"true\",\"true\",\"true\",\"true\",\"true\",\"true\",\"true\",\"true\",\"true\",\"true\",\"true\",\"true\",\"true\",\"true\",\"true\",\"true\",\"true\",\"true\",\"true\",\"true\",\"true\",\"true\",\"true\",\"true\",\"true\",\"true\",\"true\",\"true\",\"true\",\"true\",\"true\",\"true\",\"true\",\"true\",\"true\",\"true\",\"true\",\"true\",\"true\",\"true\",\"true\",\"true\",\"true\",\"true\",\"true\",\"true\",\"true\",\"true\",\"true\",\"true\",\"true\",\"true\",\"true\",\"true\",\"true\",\"true\",\"true\",\"true\",\"true\",\"true\",\"true\",\"true\",\"true\",\"true\",\"true\",\"true\",\"true\",\"true\",\"true\",\"true\",\"true\",\"true\",\"true\",\"true\",\"true\",\"true\",\"true\",\"true\",\"true\",\"true\",\"true\",\"true\",\"true\",\"true\",\"true\",\"true\",\"true\",\"true\",\"true\",\"true\",\"true\",\"true\",\"true\",\"true\",\"true\",\"true\",\"true\",\"true\",\"true\",\"true\",\"true\",\"true\",\"true\",\"true\",\"true\",\"true\",\"true\",\"true\",\"true\",\"true\",\"true\",\"true\",\"true\",\"true\",\"true\",\"true\",\"true\",\"true\",\"true\",\"true\",\"true\",\"true\",\"true\",\"true\",\"true\",\"true\",\"true\",\"true\",\"true\",\"true\",\"true\",\"true\",\"true\",\"true\",\"true\",\"true\",\"true\",\"true\",\"true\",\"true\",\"true\",\"true\",\"true\",\"true\",\"true\",\"true\",\"true\",\"true\",\"true\",\"true\",\"true\",\"true\",\"true\",\"true\",\"true\",\"true\",\"true\",\"true\",\"true\",\"true\",\"true\",\"true\",\"true\",\"true\",\"true\",\"true\",\"true\",\"true\",\"true\",\"true\",\"true\",\"true\",\"true\",\"true\",\"true\",\"true\",\"true\",\"true\",\"true\",\"true\",\"true\",\"true\",\"true\",\"true\",\"true\",\"true\",\"true\",\"true\",\"true\",\"true\",\"true\",\"true\",\"true\",\"true\",\"true\",\"true\",\"true\",\"true\",\"true\",\"true\",\"true\",\"true\",\"true\",\"true\",\"true\",\"true\",\"true\",\"true\",\"true\",\"true\",\"true\",\"true\",\"true\",\"true\",\"true\",\"true\",\"true\",\"true\",\"true\",\"true\",\"true\",\"true\",\"true\",\"true\",\"true\",\"true\",\"true\",\"true\",\"true\",\"true\",\"true\",\"true\",\"true\",\"true\",\"true\",\"true\",\"true\",\"true\",\"true\",\"true\",\"true\",\"true\",\"true\",\"true\",\"true\",\"true\",\"true\",\"true\",\"true\",\"true\",\"true\",\"true\",\"true\",\"true\",\"true\",\"true\",\"true\",\"true\",\"true\",\"true\",\"true\",\"true\",\"true\",\"true\",\"true\",\"true\",\"true\",\"true\",\"true\",\"true\",\"true\",\"true\",\"true\",\"true\",\"true\",\"true\",\"true\",\"true\",\"true\",\"true\",\"true\",\"true\",\"true\",\"true\",\"true\",\"true\",\"true\",\"true\",\"true\",\"true\",\"true\",\"true\",\"true\",\"true\",\"true\",\"true\",\"true\",\"true\",\"true\",\"true\",\"true\",\"true\",\"true\",\"true\",\"true\",\"true\",\"true\",\"true\",\"true\",\"true\",\"true\",\"true\",\"true\",\"true\",\"true\",\"true\",\"true\",\"true\",\"true\",\"true\",\"true\",\"true\",\"true\",\"true\",\"true\",\"true\",\"true\",\"true\",\"true\",\"true\",\"true\",\"true\",\"true\",\"true\",\"true\",\"true\",\"true\",\"true\",\"true\",\"true\",\"true\",\"true\",\"true\",\"true\",\"true\",\"true\",\"true\",\"true\",\"true\",\"true\",\"true\",\"true\",\"true\",\"true\",\"true\",\"true\",\"true\",\"true\",\"true\",\"true\",\"true\",\"true\",\"true\",\"true\",\"true\",\"true\",\"true\",\"true\",\"true\",\"true\",\"true\",\"true\",\"true\",\"true\",\"true\",\"true\",\"true\",\"true\",\"true\",\"true\",\"true\",\"true\",\"true\",\"true\",\"true\",\"true\",\"true\",\"true\",\"true\",\"true\",\"true\",\"true\",\"true\",\"true\",\"true\",\"true\",\"true\",\"true\",\"true\",\"true\",\"true\",\"true\",\"true\",\"true\",\"true\",\"true\",\"true\",\"true\",\"true\",\"true\",\"true\",\"true\",\"true\",\"true\",\"true\",\"true\",\"true\",\"true\",\"true\",\"true\",\"true\",\"true\",\"true\",\"true\",\"true\",\"true\",\"true\",\"true\",\"true\",\"true\",\"true\",\"true\",\"true\",\"true\",\"true\",\"true\",\"true\",\"true\",\"true\",\"true\",\"true\",\"true\",\"true\",\"true\",\"true\",\"true\",\"true\",\"true\",\"true\",\"true\",\"true\",\"true\",\"true\",\"true\",\"true\",\"true\",\"true\",\"true\",\"true\",\"true\",\"true\",\"true\",\"true\",\"true\",\"true\",\"true\",\"true\",\"true\",\"true\",\"true\",\"true\",\"true\",\"true\",\"true\",\"true\",\"true\",\"true\",\"true\",\"true\",\"true\",\"true\",\"true\",\"true\",\"true\",\"true\",\"true\",\"true\",\"true\",\"true\",\"true\",\"true\",\"true\",\"true\",\"true\",\"true\",\"true\",\"true\",\"true\",\"true\",\"true\",\"true\",\"true\",\"true\",\"true\",\"true\",\"true\",\"true\",\"true\",\"true\",\"true\",\"true\",\"true\",\"true\",\"true\",\"true\",\"true\",\"true\",\"true\",\"true\",\"true\",\"true\",\"true\",\"true\",\"true\",\"true\",\"true\",\"true\",\"true\",\"true\",\"true\",\"true\",\"true\",\"true\",\"true\",\"true\",\"true\",\"true\",\"true\",\"true\",\"true\",\"true\",\"true\",\"true\",\"true\",\"true\",\"true\",\"true\",\"true\",\"true\",\"true\",\"true\",\"true\",\"true\",\"true\",\"true\",\"true\",\"true\",\"true\",\"true\",\"true\",\"true\",\"true\",\"true\",\"true\",\"true\",\"true\",\"true\",\"true\",\"true\",\"true\",\"true\",\"true\",\"true\",\"true\",\"true\",\"true\",\"true\",\"true\",\"true\",\"true\",\"true\",\"true\",\"true\",\"true\",\"true\",\"true\",\"true\",\"true\",\"true\",\"true\",\"true\",\"true\",\"true\",\"true\",\"true\",\"true\",\"true\",\"true\",\"true\",\"true\",\"true\",\"true\",\"true\",\"true\",\"true\",\"true\",\"true\",\"true\",\"true\",\"true\",\"true\",\"true\",\"true\",\"true\",\"true\",\"true\",\"true\",\"true\",\"true\",\"true\",\"true\",\"true\",\"true\",\"true\",\"true\",\"true\",\"true\",\"true\",\"true\",\"true\",\"true\",\"true\",\"true\",\"true\",\"true\",\"true\",\"true\",\"true\",\"true\",\"true\",\"true\",\"true\",\"true\",\"true\",\"true\",\"true\",\"true\",\"true\",\"true\",\"true\",\"true\",\"true\",\"true\",\"true\",\"true\",\"true\",\"true\",\"true\",\"true\",\"true\",\"true\",\"true\",\"true\",\"true\",\"true\",\"true\",\"true\",\"true\",\"true\",\"true\",\"true\",\"true\",\"true\",\"true\",\"true\",\"true\",\"true\",\"true\",\"true\",\"true\",\"true\",\"true\",\"true\",\"true\",\"true\",\"true\",\"true\",\"true\",\"true\",\"true\",\"true\",\"true\",\"true\",\"true\",\"true\",\"true\",\"true\",\"true\",\"true\",\"true\",\"true\",\"true\",\"true\",\"true\",\"true\",\"true\",\"true\",\"true\",\"true\",\"true\",\"true\",\"true\",\"true\",\"true\",\"true\",\"true\",\"true\",\"true\",\"true\",\"true\",\"true\",\"true\",\"true\",\"true\",\"true\",\"true\",\"true\",\"true\",\"true\",\"true\",\"true\",\"true\",\"true\",\"true\",\"true\",\"true\",\"true\",\"true\",\"true\",\"true\",\"true\",\"true\",\"true\",\"true\",\"true\",\"true\",\"true\",\"true\",\"true\",\"true\",\"true\",\"true\",\"true\",\"true\",\"true\",\"true\",\"true\",\"true\",\"true\",\"true\",\"true\",\"true\",\"true\",\"true\",\"true\",\"true\",\"true\",\"true\",\"true\",\"true\",\"true\",\"true\",\"true\",\"true\",\"true\",\"true\",\"true\",\"true\",\"true\",\"true\",\"true\",\"true\",\"true\",\"true\",\"true\",\"true\",\"true\",\"true\",\"true\",\"true\",\"filtered\",\"filtered\",\"filtered\",\"filtered\",\"filtered\",\"filtered\",\"filtered\",\"filtered\",\"filtered\",\"filtered\",\"filtered\",\"filtered\",\"filtered\",\"filtered\",\"filtered\",\"filtered\",\"filtered\",\"filtered\",\"filtered\",\"filtered\",\"filtered\",\"filtered\",\"filtered\",\"filtered\",\"filtered\",\"filtered\",\"filtered\",\"filtered\",\"filtered\",\"filtered\",\"filtered\",\"filtered\",\"filtered\",\"filtered\",\"filtered\",\"filtered\",\"filtered\",\"filtered\",\"filtered\",\"filtered\",\"filtered\",\"filtered\",\"filtered\",\"filtered\",\"filtered\",\"filtered\",\"filtered\",\"filtered\",\"filtered\",\"filtered\",\"filtered\",\"filtered\",\"filtered\",\"filtered\",\"filtered\",\"filtered\",\"filtered\",\"filtered\",\"filtered\",\"filtered\",\"filtered\",\"filtered\",\"filtered\",\"filtered\",\"filtered\",\"filtered\",\"filtered\",\"filtered\",\"filtered\",\"filtered\",\"filtered\",\"filtered\",\"filtered\",\"filtered\",\"filtered\",\"filtered\",\"filtered\",\"filtered\",\"filtered\",\"filtered\",\"filtered\",\"filtered\",\"filtered\",\"filtered\",\"filtered\",\"filtered\",\"filtered\",\"filtered\",\"filtered\",\"filtered\",\"filtered\",\"filtered\",\"filtered\",\"filtered\",\"filtered\",\"filtered\",\"filtered\",\"filtered\",\"filtered\",\"filtered\",\"filtered\",\"filtered\",\"filtered\",\"filtered\",\"filtered\",\"filtered\",\"filtered\",\"filtered\",\"filtered\",\"filtered\",\"filtered\",\"filtered\",\"filtered\",\"filtered\",\"filtered\",\"filtered\",\"filtered\",\"filtered\",\"filtered\",\"filtered\",\"filtered\",\"filtered\",\"filtered\",\"filtered\",\"filtered\",\"filtered\",\"filtered\",\"filtered\",\"filtered\",\"filtered\",\"filtered\",\"filtered\",\"filtered\",\"filtered\",\"filtered\",\"filtered\",\"filtered\",\"filtered\",\"filtered\",\"filtered\",\"filtered\",\"filtered\",\"filtered\",\"filtered\",\"filtered\",\"filtered\",\"filtered\",\"filtered\",\"filtered\",\"filtered\",\"filtered\",\"filtered\",\"filtered\",\"filtered\",\"filtered\",\"filtered\",\"filtered\",\"filtered\",\"filtered\",\"filtered\",\"filtered\",\"filtered\",\"filtered\",\"filtered\",\"filtered\",\"filtered\",\"filtered\",\"filtered\",\"filtered\",\"filtered\",\"filtered\",\"filtered\",\"filtered\",\"filtered\",\"filtered\",\"filtered\",\"filtered\",\"filtered\",\"filtered\",\"filtered\",\"filtered\",\"filtered\",\"filtered\",\"filtered\",\"filtered\",\"filtered\",\"filtered\",\"filtered\",\"filtered\",\"filtered\",\"filtered\",\"filtered\",\"filtered\",\"filtered\",\"filtered\",\"filtered\",\"filtered\",\"filtered\",\"filtered\",\"filtered\",\"filtered\",\"filtered\",\"filtered\",\"filtered\",\"filtered\",\"filtered\",\"filtered\",\"filtered\",\"filtered\",\"filtered\",\"filtered\",\"filtered\",\"filtered\",\"filtered\",\"filtered\",\"filtered\",\"filtered\",\"filtered\",\"filtered\",\"filtered\",\"filtered\",\"filtered\",\"filtered\",\"filtered\",\"filtered\",\"filtered\",\"filtered\",\"filtered\",\"filtered\",\"filtered\",\"filtered\",\"filtered\",\"filtered\",\"filtered\",\"filtered\",\"filtered\",\"filtered\",\"filtered\",\"filtered\",\"filtered\",\"filtered\",\"filtered\",\"filtered\",\"filtered\",\"filtered\",\"filtered\",\"filtered\",\"filtered\",\"filtered\",\"filtered\",\"filtered\",\"filtered\",\"filtered\",\"filtered\",\"filtered\",\"filtered\",\"filtered\",\"filtered\",\"filtered\",\"filtered\",\"filtered\",\"filtered\",\"filtered\",\"filtered\",\"filtered\",\"filtered\",\"filtered\",\"filtered\",\"filtered\",\"filtered\",\"filtered\",\"filtered\",\"filtered\",\"filtered\",\"filtered\",\"filtered\",\"filtered\",\"filtered\",\"filtered\",\"filtered\",\"filtered\",\"filtered\",\"filtered\",\"filtered\",\"filtered\",\"filtered\",\"filtered\",\"filtered\",\"filtered\",\"filtered\",\"filtered\",\"filtered\",\"filtered\",\"filtered\",\"filtered\",\"filtered\",\"filtered\",\"filtered\",\"filtered\",\"filtered\",\"filtered\",\"filtered\",\"filtered\",\"filtered\",\"filtered\",\"filtered\",\"filtered\",\"filtered\",\"filtered\",\"filtered\",\"filtered\",\"filtered\",\"filtered\",\"filtered\",\"filtered\",\"filtered\",\"filtered\",\"filtered\",\"filtered\",\"filtered\",\"filtered\",\"filtered\",\"filtered\",\"filtered\",\"filtered\",\"filtered\",\"filtered\",\"filtered\",\"filtered\",\"filtered\",\"filtered\",\"filtered\",\"filtered\",\"filtered\",\"filtered\",\"filtered\",\"filtered\",\"filtered\",\"filtered\",\"filtered\",\"filtered\",\"filtered\",\"filtered\",\"filtered\",\"filtered\",\"filtered\",\"filtered\",\"filtered\",\"filtered\",\"filtered\",\"filtered\",\"filtered\",\"filtered\",\"filtered\",\"filtered\",\"filtered\",\"filtered\",\"filtered\",\"filtered\",\"filtered\",\"filtered\",\"filtered\",\"filtered\",\"filtered\",\"filtered\",\"filtered\",\"filtered\",\"filtered\",\"filtered\",\"filtered\",\"filtered\",\"filtered\",\"filtered\",\"filtered\",\"filtered\",\"filtered\",\"filtered\",\"filtered\",\"filtered\",\"filtered\",\"filtered\",\"filtered\",\"filtered\",\"filtered\",\"filtered\",\"filtered\",\"filtered\",\"filtered\",\"filtered\",\"filtered\",\"filtered\",\"filtered\",\"filtered\",\"filtered\",\"filtered\",\"filtered\",\"filtered\",\"filtered\",\"filtered\",\"filtered\",\"filtered\",\"filtered\",\"filtered\",\"filtered\",\"filtered\",\"filtered\",\"filtered\",\"filtered\",\"filtered\",\"filtered\",\"filtered\",\"filtered\",\"filtered\",\"filtered\",\"filtered\",\"filtered\",\"filtered\",\"filtered\",\"filtered\",\"filtered\",\"filtered\",\"filtered\",\"filtered\",\"filtered\",\"filtered\",\"filtered\",\"filtered\",\"filtered\",\"filtered\",\"filtered\",\"filtered\",\"filtered\",\"filtered\",\"filtered\",\"filtered\",\"filtered\",\"filtered\",\"filtered\",\"filtered\",\"filtered\",\"filtered\",\"filtered\",\"filtered\",\"filtered\",\"filtered\",\"filtered\",\"filtered\",\"filtered\",\"filtered\",\"filtered\",\"filtered\",\"filtered\",\"filtered\",\"filtered\",\"filtered\",\"filtered\",\"filtered\",\"filtered\",\"filtered\",\"filtered\",\"filtered\",\"filtered\",\"filtered\",\"filtered\",\"filtered\",\"filtered\",\"filtered\",\"filtered\",\"filtered\",\"filtered\",\"filtered\",\"filtered\",\"filtered\",\"filtered\",\"filtered\",\"filtered\",\"filtered\",\"filtered\",\"filtered\",\"filtered\",\"filtered\",\"filtered\",\"filtered\",\"filtered\",\"filtered\",\"filtered\",\"filtered\",\"filtered\",\"filtered\",\"filtered\",\"filtered\",\"filtered\",\"filtered\",\"filtered\",\"filtered\",\"filtered\",\"filtered\",\"filtered\",\"filtered\",\"filtered\",\"filtered\",\"filtered\",\"filtered\",\"filtered\",\"filtered\",\"filtered\",\"filtered\",\"filtered\",\"filtered\",\"filtered\",\"filtered\",\"filtered\",\"filtered\",\"filtered\",\"filtered\",\"filtered\",\"filtered\",\"filtered\",\"filtered\",\"filtered\",\"filtered\",\"filtered\",\"filtered\",\"filtered\",\"filtered\",\"filtered\",\"filtered\",\"filtered\",\"filtered\",\"filtered\",\"filtered\",\"filtered\",\"filtered\",\"filtered\",\"filtered\",\"filtered\",\"filtered\",\"filtered\",\"filtered\",\"filtered\",\"filtered\",\"filtered\",\"filtered\",\"filtered\",\"filtered\",\"filtered\",\"filtered\",\"filtered\",\"filtered\",\"filtered\",\"filtered\",\"filtered\",\"filtered\",\"filtered\",\"filtered\",\"filtered\",\"filtered\",\"filtered\",\"filtered\",\"filtered\",\"filtered\",\"filtered\",\"filtered\",\"filtered\",\"filtered\",\"filtered\",\"filtered\",\"filtered\",\"filtered\",\"filtered\",\"filtered\",\"filtered\",\"filtered\",\"filtered\",\"filtered\",\"filtered\",\"filtered\",\"filtered\",\"filtered\",\"filtered\",\"filtered\",\"filtered\",\"filtered\",\"filtered\",\"filtered\",\"filtered\",\"filtered\",\"filtered\",\"filtered\",\"filtered\",\"filtered\",\"filtered\",\"filtered\",\"filtered\",\"filtered\",\"filtered\",\"filtered\",\"filtered\",\"filtered\",\"filtered\",\"filtered\",\"filtered\",\"filtered\",\"filtered\",\"filtered\",\"filtered\",\"filtered\",\"filtered\",\"filtered\",\"filtered\",\"filtered\",\"filtered\",\"filtered\",\"filtered\",\"filtered\",\"filtered\",\"filtered\",\"filtered\",\"filtered\",\"filtered\",\"filtered\",\"filtered\",\"filtered\",\"filtered\",\"filtered\",\"filtered\",\"filtered\",\"filtered\",\"filtered\",\"filtered\",\"filtered\",\"filtered\",\"filtered\",\"filtered\",\"filtered\",\"filtered\",\"filtered\",\"filtered\",\"filtered\",\"filtered\",\"filtered\",\"filtered\",\"filtered\",\"filtered\",\"filtered\",\"filtered\",\"filtered\",\"filtered\",\"filtered\",\"filtered\",\"filtered\",\"filtered\",\"filtered\",\"filtered\",\"filtered\",\"filtered\",\"filtered\",\"filtered\",\"filtered\",\"filtered\",\"filtered\",\"filtered\",\"filtered\",\"filtered\",\"filtered\",\"filtered\",\"filtered\",\"filtered\",\"filtered\",\"filtered\",\"filtered\",\"filtered\",\"filtered\",\"filtered\",\"filtered\",\"filtered\",\"filtered\",\"filtered\",\"filtered\",\"filtered\",\"filtered\",\"filtered\",\"filtered\",\"filtered\",\"filtered\",\"filtered\",\"filtered\",\"filtered\",\"filtered\",\"filtered\",\"filtered\",\"filtered\",\"filtered\",\"filtered\",\"filtered\",\"filtered\",\"filtered\",\"filtered\",\"filtered\",\"filtered\",\"filtered\",\"filtered\",\"filtered\",\"filtered\",\"filtered\",\"filtered\",\"filtered\",\"filtered\",\"filtered\",\"filtered\",\"filtered\",\"filtered\",\"filtered\",\"filtered\",\"filtered\",\"filtered\",\"filtered\",\"filtered\",\"filtered\",\"filtered\",\"filtered\",\"filtered\",\"filtered\",\"filtered\",\"filtered\",\"filtered\",\"filtered\",\"filtered\",\"filtered\",\"filtered\",\"filtered\",\"filtered\",\"filtered\",\"filtered\",\"filtered\",\"filtered\",\"filtered\",\"filtered\",\"filtered\",\"filtered\",\"filtered\",\"filtered\",\"filtered\",\"filtered\",\"filtered\",\"filtered\",\"filtered\",\"filtered\",\"filtered\",\"filtered\",\"filtered\",\"filtered\",\"filtered\",\"filtered\",\"filtered\",\"filtered\",\"filtered\",\"filtered\",\"filtered\",\"filtered\",\"filtered\",\"filtered\",\"filtered\",\"filtered\",\"filtered\",\"filtered\",\"filtered\",\"filtered\",\"filtered\",\"filtered\",\"filtered\",\"filtered\",\"filtered\",\"filtered\",\"filtered\",\"filtered\",\"filtered\",\"filtered\",\"filtered\",\"filtered\",\"filtered\",\"filtered\",\"filtered\",\"filtered\",\"filtered\",\"filtered\",\"filtered\",\"filtered\",\"filtered\",\"filtered\",\"filtered\",\"filtered\",\"filtered\",\"filtered\",\"filtered\",\"filtered\",\"filtered\",\"filtered\",\"filtered\",\"filtered\",\"filtered\",\"filtered\",\"filtered\",\"filtered\",\"filtered\",\"filtered\",\"filtered\",\"filtered\",\"filtered\",\"filtered\",\"filtered\",\"filtered\",\"filtered\",\"filtered\",\"filtered\",\"filtered\",\"filtered\",\"filtered\",\"filtered\",\"filtered\",\"filtered\",\"filtered\",\"filtered\",\"filtered\",\"filtered\",\"filtered\",\"filtered\",\"filtered\",\"filtered\",\"filtered\",\"filtered\",\"filtered\",\"filtered\",\"filtered\",\"filtered\",\"filtered\",\"filtered\",\"filtered\",\"filtered\",\"filtered\",\"filtered\",\"filtered\",\"filtered\",\"filtered\",\"filtered\",\"filtered\",\"filtered\",\"filtered\",\"filtered\",\"filtered\",\"filtered\",\"filtered\",\"filtered\",\"filtered\",\"filtered\",\"filtered\",\"filtered\",\"filtered\",\"filtered\",\"filtered\",\"filtered\",\"filtered\",\"filtered\",\"filtered\",\"filtered\",\"filtered\",\"filtered\",\"filtered\",\"filtered\",\"filtered\",\"filtered\",\"filtered\",\"filtered\",\"filtered\",\"filtered\",\"filtered\",\"filtered\",\"filtered\",\"filtered\",\"filtered\",\"filtered\",\"filtered\",\"filtered\",\"filtered\",\"filtered\",\"filtered\",\"filtered\",\"filtered\",\"filtered\",\"filtered\",\"filtered\",\"filtered\",\"filtered\",\"filtered\",\"filtered\",\"filtered\",\"filtered\",\"filtered\",\"filtered\",\"filtered\",\"filtered\",\"filtered\",\"filtered\",\"filtered\",\"filtered\",\"filtered\",\"filtered\",\"filtered\",\"filtered\",\"filtered\",\"filtered\",\"filtered\",\"filtered\",\"filtered\",\"filtered\",\"filtered\",\"filtered\",\"filtered\",\"filtered\",\"filtered\",\"filtered\",\"filtered\",\"filtered\",\"filtered\",\"filtered\",\"filtered\",\"filtered\",\"filtered\",\"filtered\",\"filtered\",\"filtered\",\"filtered\",\"filtered\",\"filtered\",\"filtered\",\"filtered\",\"filtered\",\"filtered\",\"filtered\",\"filtered\",\"filtered\",\"filtered\",\"filtered\",\"filtered\",\"filtered\",\"filtered\",\"filtered\",\"filtered\",\"filtered\",\"filtered\",\"filtered\",\"filtered\",\"filtered\",\"filtered\",\"filtered\",\"filtered\",\"filtered\",\"filtered\",\"filtered\",\"filtered\",\"filtered\",\"filtered\",\"filtered\",\"filtered\",\"filtered\",\"filtered\",\"filtered\",\"filtered\",\"filtered\",\"filtered\",\"filtered\",\"filtered\",\"filtered\",\"filtered\",\"filtered\",\"filtered\",\"filtered\",\"filtered\",\"filtered\",\"filtered\",\"filtered\",\"filtered\",\"filtered\",\"filtered\",\"filtered\",\"filtered\",\"filtered\",\"filtered\",\"filtered\",\"filtered\",\"filtered\",\"filtered\",\"filtered\",\"filtered\",\"filtered\",\"filtered\",\"filtered\",\"filtered\",\"filtered\",\"filtered\"],\"x0\":\" \",\"xaxis\":\"x\",\"y\":[999.7875575188532,998.8616149123676,1000.0702669091074,999.9522512998312,1000.446010934907,999.693183680952,1000.2758550559212,1000.414204534198,1000.016606483984,999.9056456127552,1002.0999754232564,1000.2308192953344,999.7043113938888,1000.7715755888736,999.3229434497522,1000.3794028860226,998.5131313474504,1001.401115475032,999.6872831681928,1001.254834008036,998.8064520621442,1000.0030487422692,1002.1074940808264,1001.1589761399993,999.4912284357132,1000.4318800074147,1000.1318692016968,999.34709691058,1000.2244304219928,1000.8071350954356,999.6517091506616,1000.1133067451556,999.9240058305924,999.666962694923,1000.7282142369336,1001.4552170319088,1000.4824719686828,998.5105326770024,1001.813058340374,998.7935419254766,999.540358581744,999.246727575384,998.675374143725,1001.5342689799348,999.425448016052,998.9991530762936,1000.076137332396,1000.9819298254256,1000.063324619991,1001.3015785867116,999.8625557670354,1001.8386075014164,999.0579635220872,1000.7532695473732,1000.3443378203089,1002.024018976604,999.4084948838406,1000.1495094873792,1000.9022585240303,997.8444536884356,1000.274992434101,999.0544773028096,999.8703102989118,1000.594239107535,1000.7005733129672,999.6680108058104,1000.7582472143084,999.255154095728,999.9385439675772,999.941499511516,999.8485752871989,1001.0567669597596,1001.029236892782,999.7383889266667,998.2459397060712,1000.2833131217798,1001.9690229456388,1001.0118892985856,1000.6133364100492,999.87281784668,999.5566833516724,999.2115239850638,999.4469815786088,1000.3940515507192,1000.2339280941104,999.9896921110152,999.5202044464506,1001.1146295568948,1000.111218901029,999.542001654476,1000.1984505335924,1000.0302272769276,1000.8399645627258,999.8440408847702,1001.2754521106824,1000.298882276325,1000.1032294882576,1000.903094233254,998.3333395675096,999.80154704303,1000.854236398925,999.9109988739782,1000.5569024698368,999.3711269226512,1000.6400670235582,999.8470522638424,1000.22655641551,999.5234410681788,998.7342754954276,999.2308824456668,999.631750576103,999.5076709332628,1000.1048997186944,1000.7001404176036,998.8347907722496,999.575306548012,1001.1259431933964,1000.3504536184356,999.8310581784916,1000.2550633209338,998.0990081935828,1000.7908273472092,999.5714735992696,999.8195315649316,1000.597062814846,998.222203600612,1001.2712576469576,998.3097789964572,1000.9733449412972,997.9681200276044,999.9057109898982,1000.4055403859498,999.0180910263232,999.0461965946272,999.0726456205012,999.4985940673366,1000.5680009166788,1001.071397915102,998.5647247774084,999.941843574359,1000.292604563503,999.5800505132949,1000.115483793387,997.2576222349628,1000.3940625193404,999.8540903537992,1000.7630442250752,1000.3996130629308,999.2263647434236,997.964100638909,997.1439009593956,999.5008804666636,1001.2669806993042,998.4372626142728,1000.671364785388,998.9044637158602,1000.3708107939786,998.0822159193332,998.1010403722292,1000.1588590116615,1000.4271255336054,1001.4189893437276,999.7042389657812,1000.4902137521116,999.1020792472432,1000.925944404718,999.3720607753008,999.2121010361734,998.7041887131768,998.9685854160804,1000.9453409903414,1000.4145976653716,998.9679268580348,1000.3429517351826,999.6291171713908,1001.7555607081396,1000.9860585113478,1001.2307077313792,1000.4144115002488,999.1000423798988,1000.2642724176828,999.1903166525228,1000.0219777536564,999.7860919740403,1000.4470499913753,999.434066173344,999.8299345738697,1000.762021358536,1000.7577317191162,999.0898242819984,1000.924756355266,998.4569075477684,1000.7397098362356,1001.1920080115536,999.3775166991006,998.3812840585632,1001.3809473365196,1000.3681513049156,998.8689003039976,999.3373836729364,999.8646740266876,999.6936340873992,1000.5054818386056,999.0919913083198,1000.6276331035236,1001.4658096726558,1001.1739975943954,1000.473866507372,999.2123982339854,998.9533222288788,1000.2156186964686,999.3325218212884,999.8161291544544,998.9540642586626,1000.8203202902548,1000.921650425093,999.527614434268,1000.7859519045272,999.3785231303872,999.7973483895876,998.927288123256,999.854569964742,1001.558375008784,998.9973327603312,998.5042365036568,1001.416978483675,999.9260162652794,998.3140404438334,999.485797655067,1001.1396743184852,1001.1622416770432,1001.0641015916814,1000.0234621675736,999.2646123409548,1002.1804642427333,999.6459545793214,999.3185962712872,1000.3034619898071,1000.703090141288,999.2333838523972,997.9274264124278,1000.2599840979108,999.7144549315674,999.5792370403684,999.3974992063183,998.6077197780144,1001.8105543714132,1000.006586269654,999.0692661240244,998.6434569381356,999.7132541335468,1000.12230458311,999.05500356645,1000.0473732788844,999.5210714564964,1001.4105380060756,1001.5878451383014,999.864425244688,1000.7771821308528,998.8566592864588,998.4316393473964,1001.505406945811,999.9064128758312,1000.0081474160525,1000.0931277949504,999.6156512649138,998.2373451302144,999.0942818820548,1000.60907146487,1000.3090236312656,1000.689045182807,999.8592634699744,1000.0362420173328,1000.411647960037,1001.4181542277648,1002.1086371832654,999.349156485497,1002.2994872168372,1002.2007804170902,999.1218589095024,1001.4856319319146,998.6995247253471,998.0336362988578,999.6424130223202,1000.493348038634,999.4200826715625,1001.964373819161,1000.4564091203216,1000.7549475548208,1000.6351066408246,998.4888950193566,999.2297623962874,1000.08268694377,999.2136083928492,999.1042660115876,1001.6629024985124,999.325264436854,999.3203819757116,1002.1379551353192,999.9858901879908,1000.9306555493796,1000.5351531682348,999.8669889349852,1000.2865293125255,999.6005398165288,999.9571106433584,1000.1433737154794,1001.8398292486538,999.565928937967,998.8105588624768,998.7599494690156,999.3869093223848,1000.8415630504486,999.332888179404,1000.06920158524,1000.1413672119378,1001.3474508568283,1001.785056049304,1000.0645460519792,1001.022785816642,999.2961464766588,1000.6302227627068,999.8998852211282,999.2542594265518,1001.249933343356,999.462505919845,999.693412479975,1000.5867015394954,1000.975465458312,998.7996650907256,1001.6129354209212,999.6051176538384,999.4314996306026,1001.165662367992,999.8512246088836,1001.472549856028,1002.0137828772856,999.9816766397964,998.087518811168,1000.4118931194448,1002.148208869864,1000.4595490022132,1000.7913506153078,1000.5123771945912,999.9923672242472,998.3592390225672,1000.393583823603,999.936467270798,1001.1809598832948,999.0053071731592,998.5438728759076,999.8132800353892,998.8068757010864,1002.7154027398254,999.5839843735748,1000.5973014625948,1000.0784778286812,1000.0777510418966,1000.3315002173788,1001.2618057010006,999.2636568169144,999.6989430471908,999.8414866481886,998.9041725252416,1000.1650687496192,998.557802089514,999.1616287880712,1000.5578617550296,1001.0025551914688,999.4017537858922,1000.7693363189172,998.7717778565086,998.802498028912,999.0941552625084,999.9148278069408,999.266729371938,998.1896400507524,1000.3507321201208,998.5523866511338,998.9124325158244,1000.927695517779,999.8139727320976,1000.9139772384216,1000.0629658363796,1000.6715231578664,999.4703524874452,1000.4998448342856,1000.2517898941882,999.0104133925988,999.6407999795108,1000.5475428587952,999.6639182364336,1000.2161007227136,999.5306067787526,1000.6090700245464,1001.4081941299128,1001.0191041181612,1000.0267792795712,998.5971238569646,998.455315715933,1001.1850247310228,999.4621812283476,1000.5681624566864,999.6480691936182,1000.2701433339984,999.9895917674512,999.4249497507228,1000.39421568289,1000.149569745654,1000.3922321457352,998.7939290931392,997.615475972712,1000.872374187264,999.9057637460998,999.8841393460066,1000.2596056993168,999.538359174324,1000.8963075551728,999.5659434691852,999.234199323512,1000.4196987297988,1000.5736580960736,1000.3551637358128,998.4509104630806,1000.7454326299752,1000.8068037153546,1001.6910861803937,999.709337170444,1000.746747306921,999.0570409168377,1000.1023833493164,1000.5792867549472,999.585837017346,999.68267354568,1000.386168817219,998.8625673040904,1000.1104826233984,1000.460414422973,999.2785341322732,999.8997690131664,999.7615013730812,999.3194783948908,999.5584923392784,999.3375545371586,1000.598779278498,1000.1388601000386,1000.7767990171424,1000.8508179869578,1001.0001766935828,998.0393742791211,999.6419418148142,1000.5170854064544,1000.6808924557492,1000.0468938076184,1001.3763617982654,998.7850204363916,999.747179242346,999.541408729344,1000.4724267535092,999.3086350549842,997.7513412103692,1000.8186484313792,998.9440823525256,998.334493117245,1000.1887173822422,1001.4653531323034,998.4442304576058,1001.3804406786278,999.378024662532,1001.204703960482,999.0709937424394,1000.5710328925952,1001.6746003017788,999.9605016912744,999.1165638107246,999.6799094156576,999.3361658633742,999.8583212367504,1000.3414884362325,1001.5943225114506,1002.0886298169736,1000.7996966137312,998.2638401038682,999.801399120459,999.2675297008088,1000.3913124552683,999.8234544604744,1001.0356317548532,1000.478535024162,999.6641509954254,1001.8999573874128,999.8801953973536,1000.7748155863418,1000.1980658918204,1000.7563070277432,1001.538661722321,999.6197783466232,1000.249551164704,1000.1098195491542,1000.1191576157591,1000.4229189691022,999.165115255102,999.5454261835682,1000.8007787611303,1000.347341267222,1001.036500370064,999.4876595192002,999.3200788943286,1000.1630372518636,999.6351320503372,997.8955969121088,1000.2082194779008,1000.5079476077252,1000.4877291411068,1001.6065327416156,1000.5484282093862,1000.9503206484624,1000.1737711262896,999.3926514977212,1000.3330622769702,1000.6330373034264,999.5412155772106,998.8595977258256,1000.2555621645944,999.7456077770894,998.7024201552794,1000.0116818232982,999.4876319194408,999.2250855667648,1001.7428718441736,1001.1014635255876,999.308599432115,999.7827459246704,999.4229183306728,1000.307253913776,1000.3107993738032,1002.3937276368124,1001.2145991148748,999.4630980262682,999.302223544472,1001.4015933099952,1001.6340756453512,1001.209290652358,999.2711788676417,1000.4232197657836,999.0967379037968,998.7818736630948,999.5576069684022,999.7177387118238,998.2993190984388,998.9806552340092,1000.2434914477172,999.033341823506,1000.2633819158189,1000.259986922176,1000.065919490799,1000.9127684366692,1000.0652613572964,998.835135290988,1001.70865501787,1001.229917284268,1000.4549839916192,1001.8593179472408,999.4993493065172,999.2996824484068,1000.4541553608613,1000.0611748695828,1000.8248985271732,1001.0192157753486,1000.2186746494692,1000.3719266380436,999.6742637510588,998.7792892030805,1000.5565304711567,999.9925772102245,999.67125607388,999.7350669539388,998.317250451576,999.616875534608,1000.2723251381328,1000.433463858233,999.7536478650364,998.6879404850824,1000.5532767126648,1000.4006562314664,999.74859499949,1000.8476287312918,999.3813611414132,1001.269507362438,999.8973218215316,999.9311850204256,1000.1719804533894,1000.2158078586629,1000.2288754343638,1000.1531484433542,1000.9765697586477,1000.757818335944,998.176216520311,1000.0202133628072,999.9851273956816,1000.4689175801128,1000.6367514923336,999.5946436080226,999.716108612042,1001.1109798475628,1001.5706156971854,1000.6498071667828,1000.968192679142,998.927235019916,1000.4721944676644,999.9247297751303,1001.4447998566436,1000.5857864589598,999.8402634052496,1001.2061518509032,1001.4391067260148,998.7915201027688,999.2872549223245,999.1607143884056,1000.428420479679,998.5582022576708,999.8344561584236,999.9450195460668,1000.5862719667422,998.5154236646976,1001.0976316271943,998.3965736745866,999.5381245263444,999.8209155496796,1002.0037480522564,1000.2727885426748,999.5031650098042,999.5379314399088,998.5014725724544,997.8034483553936,997.8663307335538,999.4778401056373,1000.4154525081226,999.471009821048,1001.410151845287,1000.6076196584596,998.521792660091,1000.1123219255044,1000.782709931352,1002.0952659802264,1000.602829969046,999.0420015172743,998.9582657954068,999.6277834721984,999.6066361326116,1000.647009900946,1000.5494020402052,1001.060220558777,998.8726102306296,998.9994054081131,998.1406192153414,999.3512813005062,1000.6622534725382,1000.4552542434144,1000.1038936133745,999.4585136172844,1000.406417235156,1000.5995961531364,1002.1808252130924,999.8416325458684,1000.9945604129746,999.6587909628591,999.9246228922316,998.8994799079628,999.689135965914,1000.1339503971616,999.8444900965404,1001.7859422149986,1001.9103195312751,1000.702073702146,998.799835826626,998.901089248269,1000.9811937737296,1000.1408654633494,998.2284793030556,999.8172901489744,1001.7978245736788,1001.3860845233652,1000.1109664974966,1000.9283387109056,999.7204577412256,998.6372757201384,1001.8712954713906,999.9816775243958,999.2565608535036,998.251219911258,1000.5135695219336,999.9606827964,1000.2502081289924,999.998877450616,1001.124727177885,999.7027786586136,999.8413934196652,999.9212661193668,998.200536378648,1001.1082330519996,1001.1031527872258,1001.2604102138664,1001.2310874054446,1000.6894586309024,1000.2489416360644,1001.2577808017018,1000.1906438971316,998.9341016905062,999.2566707887108,1000.2898585504628,999.0301967218182,1001.6575235717498,998.3450913253324,1000.28396831266,999.9773436874792,999.430955652654,1000.128136352896,1001.598300871212,999.684351958796,1000.6018538800236,1000.2177475144453,998.232572566139,998.26232829848,999.2793676010943,1001.2753276858278,999.8792026570349,999.2829483605528,1002.409943824335,998.5767264761544,999.4393187110792,1001.658640745203,999.9531148932516,1001.2957213249854,999.8228009705192,999.3841366983476,1000.5481945264822,1000.6186221563844,1003.2079336486612,1000.467344305148,1000.8607937541136,1001.856572127089,1000.2048353034198,999.70706920054,1000.6868300531528,1000.0253364378732,998.3886289724844,999.8215449411844,999.7554927049148,1000.0324366648844,1000.72258943558,999.7429930482922,1001.7257523156518,1001.0284022256544,1001.5344980500212,999.597346204522,1000.3161217299926,1001.7384937596736,999.2345026347248,999.388914918772,999.9134987010584,1000.1752725187076,999.1452765744024,999.6322128759804,999.0002794596916,1002.2318245737736,999.719870542547,1000.4270920869984,999.1438831982132,999.6854459306566,999.7194542095604,1000.3201511032848,1002.01792616831,999.2524657510324,998.467830441916,998.4079089546412,998.8015251989748,1000.359239090002,1000.3522228953036,1000.772357558986,998.9638371696864,1000.3861584589598,999.1948814825136,1000.6727386550232,998.8478751925368,999.1319046749036,1001.3588774517424,999.0180043970696,1003.0123663395876,999.256502036594,998.899486822205,1001.7129946858864,1000.473160244706,998.4959402101388,1002.2755534430617,1000.1712320904796,998.7170752104184,1000.2626832784188,999.1843563741568,1000.6465773361284,999.317222136868,999.1713572162008,999.0347636199164,999.7885683044984,999.210672083135,1000.0678297904012,1001.1778436078084,998.1806575081042,1000.0123329040226,1000.2719431349342,999.0594675573486,1000.603312068792,999.9842390773226,1000.1782363762136,1001.602913096734,999.264464237697,1001.0740343569472,999.5386824635422,999.9989057592652,1000.5050717669212,999.0949014313768,999.0340452989892,1000.3964528658956,1000.842887122606,1000.685709951016,1000.5826265993394,999.3302357589364,999.5167195346368,998.3719291516728,1000.3459200192782,999.8213290455844,1000.6416802567328,999.654975457874,1000.3363169103048,1001.4061076220604,1001.4923336703298,997.058347208966,999.7712510259628,999.2388205086728,1000.1022106445034,999.0024813661196,999.9298680542852,1001.2530767682956,1001.0998484193937,999.0097329799108,1002.0324349571032,999.5442523781074,998.9566154592958,1001.921940538873,998.4645901657908,999.129116682442,999.858742829542,1000.2774664156656,998.1508521319596,1000.8149018182104,1000.320647506536,999.2306714701184,999.8144163776512,999.3307063024496,999.3762042330244,1000.4738652332468,1000.4235448905932,1001.9021464172666,1000.2413666973254,1000.4465824182818,1001.442675518308,1000.9041997979044,998.7516308721928,999.6540693925332,999.813217601016,998.892237545158,998.9331012041864,999.2945366059796,1000.989604427744,1000.2553180608816,999.7172904250012,998.8430166803558,999.6532620321746,1001.4564101402384,1000.2391233501954,999.4593634289532,1001.0215651608908,999.8385760833992,999.3155639724954,1000.1683375286008,999.7915108142114,1000.4213529803852,999.3162586116554,1000.0953598499482,999.5173181914632,999.8107452921582,998.595031615268,1000.28688005563,999.7827490258314,999.7145735102912,1000.682117752182,998.519966378922,998.225630107198,1000.1507573150178,1000.1875096913848,1000.6220073727608,998.7199247570354,999.749246117123,999.2510681766332,1001.0929831022275,999.5003509225178,998.9080595045,1001.5856025998348,998.5702326066324,999.6047986585552,1000.6528570253444,1000.6931146375856,999.2716318020592,1001.2528060799413,1000.4296125618888,998.109493270418,1000.4941486329,1001.3460175213752,998.1113156727084,1000.737251183426,999.4032523884836,999.956639734046,998.8192711776036,1002.129912450296,1002.2364470018264,997.6911840083416,1000.9218731065474,1001.0584591439874,999.4082386159548,998.7662670748726,998.2421022071871,998.1137444459856,999.0219601806753,999.9119628297328,999.7648944090688,997.2523276853868,1000.123297516303,1000.3750546317556,1002.5628040644388,999.944988829092,1000.4711087315516,999.884154586496,1001.1905555988568,999.3072135651058,999.98801843981,1000.083310260698,1000.038706008563,1000.2641083594672,1000.456367066515,999.52058286306,1000.3254017216386,998.7390190540508,999.8677738730072,998.9297807002688,999.0758749135068,1000.2866205242718,999.6545929819296,1001.105424528004,1000.645258429878,998.9280852495452,998.9300525231216,999.4651048796204,1000.8275777655311,1000.8758650693394,1000.8259759498512,1000.8707352407192,1000.5972099256808,999.2408065884624,1000.5849395908872,1000.1813304477496,999.4709343680788,1000.1547789629,1000.7431472865062,999.1536757174772,1000.9700116133524,1000.5074433719252,999.791586689002,999.078165358738,1000.0887557378168,1000.3287668581552,1000.159990971344,1001.1767365922752,998.2787342876436,998.6287528771855,1000.0006930467548,1001.040520848454,999.8160043504872,999.47202579686,1000.3170631503624,1001.0989500213094,1001.7247400689898,998.8385076877804,1000.5473533213732,1000.127270044991,998.9604109506528,1000.0189880645116,998.8553786888548,1001.4516461723786,1000.7710227509132,999.2322435973798,999.7875575188532,998.8616149123676,1000.0702669091074,999.9522512998312,1000.446010934907,999.693183680952,1000.2758550559212,1000.414204534198,1000.016606483984,999.9056456127552,1002.0999754232564,1000.2308192953344,999.7043113938888,1000.7715755888736,999.3229434497522,1000.3794028860226,998.5131313474504,1001.401115475032,999.6872831681928,1001.254834008036,998.8064520621442,1000.0030487422692,1002.1074940808264,1001.1589761399993,999.4912284357132,1000.4318800074147,1000.1318692016968,999.34709691058,1000.2244304219928,1000.8071350954356,999.6517091506616,1000.1133067451556,999.9240058305924,999.666962694923,1000.7282142369336,1001.4552170319088,1000.4824719686828,998.5105326770024,1001.813058340374,998.7935419254766,999.540358581744,999.246727575384,998.675374143725,1001.5342689799348,999.425448016052,998.9991530762936,1000.076137332396,1000.9819298254256,1000.063324619991,1001.3015785867116,999.8625557670354,1001.8386075014164,999.0579635220872,1000.7532695473732,1000.3443378203089,1002.024018976604,999.4084948838406,1000.1495094873792,1000.9022585240303,997.8444536884356,1000.274992434101,999.0544773028096,999.8703102989118,1000.594239107535,1000.7005733129672,999.6680108058104,1000.7582472143084,999.255154095728,999.9385439675772,999.941499511516,999.8485752871989,1001.0567669597596,1001.029236892782,999.7383889266667,998.2459397060712,1000.2833131217798,1001.9690229456388,1001.0118892985856,1000.6133364100492,999.87281784668,999.5566833516724,999.2115239850638,999.4469815786088,1000.3940515507192,1000.2339280941104,999.9896921110152,999.5202044464506,1001.1146295568948,1000.111218901029,999.542001654476,1000.1984505335924,1000.0302272769276,1000.8399645627258,999.8440408847702,1001.2754521106824,1000.298882276325,1000.1032294882576,1000.903094233254,998.3333395675096,999.80154704303,1000.854236398925,999.9109988739782,1000.5569024698368,999.3711269226512,1000.6400670235582,999.8470522638424,1000.22655641551,999.5234410681788,998.7342754954276,999.2308824456668,999.631750576103,999.5076709332628,1000.1048997186944,1000.7001404176036,998.8347907722496,999.575306548012,1001.1259431933964,1000.3504536184356,999.8310581784916,1000.2550633209338,998.0990081935828,1000.7908273472092,999.5714735992696,999.8195315649316,1000.597062814846,998.222203600612,1001.2712576469576,998.3097789964572,1000.9733449412972,997.9681200276044,999.9057109898982,1000.4055403859498,999.0180910263232,999.0461965946272,999.0726456205012,999.4985940673366,1000.5680009166788,1001.071397915102,998.5647247774084,999.941843574359,1000.292604563503,999.5800505132949,1000.115483793387,997.2576222349628,1000.3940625193404,999.8540903537992,1000.7630442250752,1000.3996130629308,999.2263647434236,997.964100638909,997.1439009593956,999.5008804666636,1001.2669806993042,998.4372626142728,1000.671364785388,998.9044637158602,1000.3708107939786,998.0822159193332,998.1010403722292,1000.1588590116615,1000.4271255336054,1001.4189893437276,999.7042389657812,1000.4902137521116,999.1020792472432,1000.925944404718,999.3720607753008,999.2121010361734,998.7041887131768,998.9685854160804,1000.9453409903414,1000.4145976653716,998.9679268580348,1000.3429517351826,999.6291171713908,1001.7555607081396,1000.9860585113478,1001.2307077313792,1000.4144115002488,999.1000423798988,1000.2642724176828,999.1903166525228,1000.0219777536564,999.7860919740403,1000.4470499913753,999.434066173344,999.8299345738697,1000.762021358536,1000.7577317191162,999.0898242819984,1000.924756355266,998.4569075477684,1000.7397098362356,1001.1920080115536,999.3775166991006,998.3812840585632,1001.3809473365196,1000.3681513049156,998.8689003039976,999.3373836729364,999.8646740266876,999.6936340873992,1000.5054818386056,999.0919913083198,1000.6276331035236,1001.4658096726558,1001.1739975943954,1000.473866507372,999.2123982339854,998.9533222288788,1000.2156186964686,999.3325218212884,999.8161291544544,998.9540642586626,1000.8203202902548,1000.921650425093,999.527614434268,1000.7859519045272,999.3785231303872,999.7973483895876,998.927288123256,999.854569964742,1001.558375008784,998.9973327603312,998.5042365036568,1001.416978483675,999.9260162652794,998.3140404438334,999.485797655067,1001.1396743184852,1001.1622416770432,1001.0641015916814,1000.0234621675736,999.2646123409548,1002.1804642427333,999.6459545793214,999.3185962712872,1000.3034619898071,1000.703090141288,999.2333838523972,997.9274264124278,1000.2599840979108,999.7144549315674,999.5792370403684,999.3974992063183,998.6077197780144,1001.8105543714132,1000.006586269654,999.0692661240244,998.6434569381356,999.7132541335468,1000.12230458311,999.05500356645,1000.0473732788844,999.5210714564964,1001.4105380060756,1001.5878451383014,999.864425244688,1000.7771821308528,998.8566592864588,998.4316393473964,1001.505406945811,null,1000.0081474160525,1000.0931277949504,999.6156512649138,998.2373451302144,999.0942818820548,1000.60907146487,1000.3090236312656,1000.689045182807,999.8592634699744,1000.0362420173328,1000.411647960037,1001.4181542277648,1002.1086371832654,999.349156485497,1002.2994872168372,1002.2007804170902,999.1218589095024,1001.4856319319146,998.6995247253471,998.0336362988578,999.6424130223202,1000.493348038634,999.4200826715625,1001.964373819161,1000.4564091203216,1000.7549475548208,1000.6351066408246,998.4888950193566,999.2297623962874,1000.08268694377,999.2136083928492,999.1042660115876,1001.6629024985124,999.325264436854,999.3203819757116,1002.1379551353192,999.9858901879908,1000.9306555493796,1000.5351531682348,999.8669889349852,1000.2865293125255,999.6005398165288,999.9571106433584,1000.1433737154794,1001.8398292486538,999.565928937967,998.8105588624768,998.7599494690156,999.3869093223848,1000.8415630504486,999.332888179404,1000.06920158524,1000.1413672119378,1001.3474508568283,1001.785056049304,1000.0645460519792,1001.022785816642,999.2961464766588,1000.6302227627068,999.8998852211282,999.2542594265518,1001.249933343356,999.462505919845,999.693412479975,1000.5867015394954,1000.975465458312,998.7996650907256,1001.6129354209212,999.6051176538384,999.4314996306026,1001.165662367992,999.8512246088836,1001.472549856028,1002.0137828772856,999.9816766397964,998.087518811168,1000.4118931194448,1002.148208869864,1000.4595490022132,1000.7913506153078,1000.5123771945912,999.9923672242472,998.3592390225672,1000.393583823603,999.936467270798,1001.1809598832948,999.0053071731592,998.5438728759076,999.8132800353892,998.8068757010864,1002.7154027398254,999.5839843735748,1000.5973014625948,1000.0784778286812,1000.0777510418966,1000.3315002173788,1001.2618057010006,999.2636568169144,999.6989430471908,999.8414866481886,998.9041725252416,1000.1650687496192,998.557802089514,999.1616287880712,1000.5578617550296,1001.0025551914688,999.4017537858922,1000.7693363189172,998.7717778565086,998.802498028912,999.0941552625084,999.9148278069408,999.266729371938,998.1896400507524,1000.3507321201208,998.5523866511338,998.9124325158244,1000.927695517779,999.8139727320976,1000.9139772384216,1000.0629658363796,1000.6715231578664,999.4703524874452,1000.4998448342856,1000.2517898941882,999.0104133925988,999.6407999795108,1000.5475428587952,999.6639182364336,1000.2161007227136,999.5306067787526,1000.6090700245464,1001.4081941299128,1001.0191041181612,1000.0267792795712,998.5971238569646,998.455315715933,1001.1850247310228,999.4621812283476,1000.5681624566864,999.6480691936182,1000.2701433339984,999.9895917674512,999.4249497507228,1000.39421568289,1000.149569745654,1000.3922321457352,998.7939290931392,997.615475972712,1000.872374187264,999.9057637460998,999.8841393460066,1000.2596056993168,999.538359174324,1000.8963075551728,999.5659434691852,999.234199323512,1000.4196987297988,1000.5736580960736,1000.3551637358128,998.4509104630806,1000.7454326299752,1000.8068037153546,1001.6910861803937,999.709337170444,1000.746747306921,999.0570409168377,1000.1023833493164,1000.5792867549472,999.585837017346,999.68267354568,1000.386168817219,998.8625673040904,1000.1104826233984,1000.460414422973,999.2785341322732,999.8997690131664,999.7615013730812,999.3194783948908,999.5584923392784,999.3375545371586,null,1000.1388601000386,1000.7767990171424,1000.8508179869578,1001.0001766935828,998.0393742791211,999.6419418148142,1000.5170854064544,1000.6808924557492,1000.0468938076184,1001.3763617982654,998.7850204363916,999.747179242346,999.541408729344,1000.4724267535092,999.3086350549842,997.7513412103692,1000.8186484313792,998.9440823525256,998.334493117245,1000.1887173822422,1001.4653531323034,998.4442304576058,1001.3804406786278,999.378024662532,1001.204703960482,999.0709937424394,1000.5710328925952,1001.6746003017788,999.9605016912744,999.1165638107246,999.6799094156576,999.3361658633742,999.8583212367504,1000.3414884362325,1001.5943225114506,1002.0886298169736,1000.7996966137312,998.2638401038682,999.801399120459,999.2675297008088,1000.3913124552683,999.8234544604744,1001.0356317548532,1000.478535024162,999.6641509954254,1001.8999573874128,999.8801953973536,1000.7748155863418,1000.1980658918204,1000.7563070277432,1001.538661722321,999.6197783466232,1000.249551164704,1000.1098195491542,1000.1191576157591,1000.4229189691022,999.165115255102,999.5454261835682,1000.8007787611303,1000.347341267222,1001.036500370064,999.4876595192002,999.3200788943286,1000.1630372518636,999.6351320503372,997.8955969121088,1000.2082194779008,1000.5079476077252,1000.4877291411068,1001.6065327416156,1000.5484282093862,1000.9503206484624,1000.1737711262896,999.3926514977212,1000.3330622769702,1000.6330373034264,999.5412155772106,998.8595977258256,1000.2555621645944,999.7456077770894,998.7024201552794,1000.0116818232982,999.4876319194408,999.2250855667648,1001.7428718441736,1001.1014635255876,999.308599432115,999.7827459246704,999.4229183306728,1000.307253913776,1000.3107993738032,1002.3937276368124,1001.2145991148748,999.4630980262682,999.302223544472,1001.4015933099952,1001.6340756453512,1001.209290652358,999.2711788676417,1000.4232197657836,999.0967379037968,998.7818736630948,999.5576069684022,999.7177387118238,998.2993190984388,998.9806552340092,1000.2434914477172,999.033341823506,1000.2633819158189,1000.259986922176,1000.065919490799,1000.9127684366692,1000.0652613572964,998.835135290988,1001.70865501787,1001.229917284268,1000.4549839916192,1001.8593179472408,999.4993493065172,999.2996824484068,1000.4541553608613,1000.0611748695828,1000.8248985271732,1001.0192157753486,1000.2186746494692,1000.3719266380436,999.6742637510588,998.7792892030805,1000.5565304711567,999.9925772102245,999.67125607388,999.7350669539388,998.317250451576,999.616875534608,1000.2723251381328,1000.433463858233,999.7536478650364,998.6879404850824,1000.5532767126648,1000.4006562314664,999.74859499949,1000.8476287312918,999.3813611414132,1001.269507362438,999.8973218215316,999.9311850204256,1000.1719804533894,1000.2158078586629,1000.2288754343638,1000.1531484433542,1000.9765697586477,1000.757818335944,998.176216520311,1000.0202133628072,999.9851273956816,1000.4689175801128,1000.6367514923336,999.5946436080226,999.716108612042,1001.1109798475628,1001.5706156971854,1000.6498071667828,1000.968192679142,998.927235019916,1000.4721944676644,999.9247297751303,1001.4447998566436,1000.5857864589598,999.8402634052496,1001.2061518509032,1001.4391067260148,998.7915201027688,999.2872549223245,999.1607143884056,1000.428420479679,998.5582022576708,999.8344561584236,999.9450195460668,1000.5862719667422,998.5154236646976,1001.0976316271943,998.3965736745866,999.5381245263444,999.8209155496796,1002.0037480522564,1000.2727885426748,999.5031650098042,999.5379314399088,998.5014725724544,997.8034483553936,997.8663307335538,999.4778401056373,1000.4154525081226,999.471009821048,1001.410151845287,1000.6076196584596,998.521792660091,1000.1123219255044,1000.782709931352,1002.0952659802264,1000.602829969046,999.0420015172743,998.9582657954068,999.6277834721984,999.6066361326116,1000.647009900946,1000.5494020402052,1001.060220558777,998.8726102306296,998.9994054081131,998.1406192153414,999.3512813005062,1000.6622534725382,1000.4552542434144,1000.1038936133745,999.4585136172844,1000.406417235156,1000.5995961531364,1002.1808252130924,999.8416325458684,1000.9945604129746,999.6587909628591,999.9246228922316,998.8994799079628,999.689135965914,1000.1339503971616,999.8444900965404,1001.7859422149986,1001.9103195312751,1000.702073702146,998.799835826626,998.901089248269,1000.9811937737296,1000.1408654633494,998.2284793030556,999.8172901489744,1001.7978245736788,1001.3860845233652,1000.1109664974966,1000.9283387109056,999.7204577412256,998.6372757201384,1001.8712954713906,999.9816775243958,999.2565608535036,998.251219911258,1000.5135695219336,999.9606827964,1000.2502081289924,999.998877450616,1001.124727177885,999.7027786586136,999.8413934196652,999.9212661193668,998.200536378648,1001.1082330519996,1001.1031527872258,1001.2604102138664,1001.2310874054446,1000.6894586309024,1000.2489416360644,1001.2577808017018,1000.1906438971316,998.9341016905062,999.2566707887108,1000.2898585504628,999.0301967218182,1001.6575235717498,998.3450913253324,1000.28396831266,999.9773436874792,999.430955652654,1000.128136352896,1001.598300871212,999.684351958796,1000.6018538800236,1000.2177475144453,998.232572566139,998.26232829848,999.2793676010943,1001.2753276858278,999.8792026570349,999.2829483605528,1002.409943824335,998.5767264761544,999.4393187110792,1001.658640745203,999.9531148932516,1001.2957213249854,999.8228009705192,999.3841366983476,1000.5481945264822,1000.6186221563844,null,1000.467344305148,1000.8607937541136,1001.856572127089,1000.2048353034198,999.70706920054,1000.6868300531528,1000.0253364378732,998.3886289724844,999.8215449411844,999.7554927049148,1000.0324366648844,1000.72258943558,999.7429930482922,1001.7257523156518,1001.0284022256544,1001.5344980500212,999.597346204522,1000.3161217299926,1001.7384937596736,999.2345026347248,999.388914918772,999.9134987010584,1000.1752725187076,999.1452765744024,999.6322128759804,999.0002794596916,1002.2318245737736,999.719870542547,1000.4270920869984,999.1438831982132,999.6854459306566,999.7194542095604,1000.3201511032848,1002.01792616831,999.2524657510324,998.467830441916,998.4079089546412,998.8015251989748,1000.359239090002,1000.3522228953036,1000.772357558986,998.9638371696864,1000.3861584589598,999.1948814825136,1000.6727386550232,998.8478751925368,999.1319046749036,1001.3588774517424,999.0180043970696,null,999.256502036594,998.899486822205,1001.7129946858864,1000.473160244706,998.4959402101388,1002.2755534430617,1000.1712320904796,998.7170752104184,1000.2626832784188,999.1843563741568,1000.6465773361284,999.317222136868,999.1713572162008,999.0347636199164,999.7885683044984,999.210672083135,1000.0678297904012,1001.1778436078084,998.1806575081042,1000.0123329040226,1000.2719431349342,999.0594675573486,1000.603312068792,999.9842390773226,1000.1782363762136,1001.602913096734,999.264464237697,1001.0740343569472,999.5386824635422,999.9989057592652,1000.5050717669212,999.0949014313768,999.0340452989892,1000.3964528658956,1000.842887122606,1000.685709951016,1000.5826265993394,999.3302357589364,999.5167195346368,998.3719291516728,1000.3459200192782,999.8213290455844,1000.6416802567328,999.654975457874,1000.3363169103048,1001.4061076220604,1001.4923336703298,null,999.7712510259628,999.2388205086728,1000.1022106445034,999.0024813661196,999.9298680542852,1001.2530767682956,1001.0998484193937,999.0097329799108,1002.0324349571032,999.5442523781074,998.9566154592958,1001.921940538873,998.4645901657908,999.129116682442,999.858742829542,1000.2774664156656,998.1508521319596,1000.8149018182104,1000.320647506536,999.2306714701184,999.8144163776512,999.3307063024496,999.3762042330244,1000.4738652332468,1000.4235448905932,1001.9021464172666,1000.2413666973254,1000.4465824182818,1001.442675518308,1000.9041997979044,998.7516308721928,999.6540693925332,999.813217601016,998.892237545158,998.9331012041864,999.2945366059796,1000.989604427744,1000.2553180608816,999.7172904250012,998.8430166803558,999.6532620321746,1001.4564101402384,1000.2391233501954,999.4593634289532,1001.0215651608908,999.8385760833992,999.3155639724954,1000.1683375286008,999.7915108142114,1000.4213529803852,999.3162586116554,1000.0953598499482,999.5173181914632,999.8107452921582,998.595031615268,1000.28688005563,999.7827490258314,999.7145735102912,1000.682117752182,998.519966378922,998.225630107198,1000.1507573150178,1000.1875096913848,1000.6220073727608,998.7199247570354,999.749246117123,999.2510681766332,1001.0929831022275,999.5003509225178,998.9080595045,1001.5856025998348,998.5702326066324,999.6047986585552,1000.6528570253444,1000.6931146375856,999.2716318020592,1001.2528060799413,1000.4296125618888,998.109493270418,1000.4941486329,1001.3460175213752,998.1113156727084,1000.737251183426,999.4032523884836,999.956639734046,998.8192711776036,1002.129912450296,1002.2364470018264,997.6911840083416,1000.9218731065474,1001.0584591439874,999.4082386159548,998.7662670748726,998.2421022071871,998.1137444459856,999.0219601806753,999.9119628297328,999.7648944090688,997.2523276853868,1000.123297516303,1000.3750546317556,1002.5628040644388,999.944988829092,1000.4711087315516,999.884154586496,1001.1905555988568,999.3072135651058,999.98801843981,1000.083310260698,1000.038706008563,1000.2641083594672,1000.456367066515,999.52058286306,1000.3254017216386,998.7390190540508,999.8677738730072,998.9297807002688,999.0758749135068,1000.2866205242718,999.6545929819296,1001.105424528004,1000.645258429878,998.9280852495452,998.9300525231216,999.4651048796204,1000.8275777655311,1000.8758650693394,1000.8259759498512,1000.8707352407192,1000.5972099256808,999.2408065884624,1000.5849395908872,1000.1813304477496,999.4709343680788,1000.1547789629,1000.7431472865062,999.1536757174772,1000.9700116133524,1000.5074433719252,999.791586689002,999.078165358738,1000.0887557378168,1000.3287668581552,1000.159990971344,1001.1767365922752,998.2787342876436,998.6287528771855,1000.0006930467548,1001.040520848454,999.8160043504872,999.47202579686,1000.3170631503624,1001.0989500213094,1001.7247400689898,998.8385076877804,1000.5473533213732,1000.127270044991,998.9604109506528,1000.0189880645116,998.8553786888548,1001.4516461723786,1000.7710227509132,999.2322435973798],\"y0\":\" \",\"yaxis\":\"y\",\"type\":\"box\"},{\"alignmentgroup\":\"True\",\"hovertemplate\":\"variable=%{x}\\u003cbr\\u003evalue=%{y}\\u003cextra\\u003e\\u003c\\u002fextra\\u003e\",\"legendgroup\":\"\",\"marker\":{\"color\":\"#636efa\"},\"name\":\"\",\"notched\":false,\"offsetgroup\":\"\",\"orientation\":\"v\",\"showlegend\":false,\"x\":[\"true\",\"true\",\"true\",\"true\",\"true\",\"true\",\"true\",\"true\",\"true\",\"true\",\"true\",\"true\",\"true\",\"true\",\"true\",\"true\",\"true\",\"true\",\"true\",\"true\",\"true\",\"true\",\"true\",\"true\",\"true\",\"true\",\"true\",\"true\",\"true\",\"true\",\"true\",\"true\",\"true\",\"true\",\"true\",\"true\",\"true\",\"true\",\"true\",\"true\",\"true\",\"true\",\"true\",\"true\",\"true\",\"true\",\"true\",\"true\",\"true\",\"true\",\"true\",\"true\",\"true\",\"true\",\"true\",\"true\",\"true\",\"true\",\"true\",\"true\",\"true\",\"true\",\"true\",\"true\",\"true\",\"true\",\"true\",\"true\",\"true\",\"true\",\"true\",\"true\",\"true\",\"true\",\"true\",\"true\",\"true\",\"true\",\"true\",\"true\",\"true\",\"true\",\"true\",\"true\",\"true\",\"true\",\"true\",\"true\",\"true\",\"true\",\"true\",\"true\",\"true\",\"true\",\"true\",\"true\",\"true\",\"true\",\"true\",\"true\",\"true\",\"true\",\"true\",\"true\",\"true\",\"true\",\"true\",\"true\",\"true\",\"true\",\"true\",\"true\",\"true\",\"true\",\"true\",\"true\",\"true\",\"true\",\"true\",\"true\",\"true\",\"true\",\"true\",\"true\",\"true\",\"true\",\"true\",\"true\",\"true\",\"true\",\"true\",\"true\",\"true\",\"true\",\"true\",\"true\",\"true\",\"true\",\"true\",\"true\",\"true\",\"true\",\"true\",\"true\",\"true\",\"true\",\"true\",\"true\",\"true\",\"true\",\"true\",\"true\",\"true\",\"true\",\"true\",\"true\",\"true\",\"true\",\"true\",\"true\",\"true\",\"true\",\"true\",\"true\",\"true\",\"true\",\"true\",\"true\",\"true\",\"true\",\"true\",\"true\",\"true\",\"true\",\"true\",\"true\",\"true\",\"true\",\"true\",\"true\",\"true\",\"true\",\"true\",\"true\",\"true\",\"true\",\"true\",\"true\",\"true\",\"true\",\"true\",\"true\",\"true\",\"true\",\"true\",\"true\",\"true\",\"true\",\"true\",\"true\",\"true\",\"true\",\"true\",\"true\",\"true\",\"true\",\"true\",\"true\",\"true\",\"true\",\"true\",\"true\",\"true\",\"true\",\"true\",\"true\",\"true\",\"true\",\"true\",\"true\",\"true\",\"true\",\"true\",\"true\",\"true\",\"true\",\"true\",\"true\",\"true\",\"true\",\"true\",\"true\",\"true\",\"true\",\"true\",\"true\",\"true\",\"true\",\"true\",\"true\",\"true\",\"true\",\"true\",\"true\",\"true\",\"true\",\"true\",\"true\",\"true\",\"true\",\"true\",\"true\",\"true\",\"true\",\"true\",\"true\",\"true\",\"true\",\"true\",\"true\",\"true\",\"true\",\"true\",\"true\",\"true\",\"true\",\"true\",\"true\",\"true\",\"true\",\"true\",\"true\",\"true\",\"true\",\"true\",\"true\",\"true\",\"true\",\"true\",\"true\",\"true\",\"true\",\"true\",\"true\",\"true\",\"true\",\"true\",\"true\",\"true\",\"true\",\"true\",\"true\",\"true\",\"true\",\"true\",\"true\",\"true\",\"true\",\"true\",\"true\",\"true\",\"true\",\"true\",\"true\",\"true\",\"true\",\"true\",\"true\",\"true\",\"true\",\"true\",\"true\",\"true\",\"true\",\"true\",\"true\",\"true\",\"true\",\"true\",\"true\",\"true\",\"true\",\"true\",\"true\",\"true\",\"true\",\"true\",\"true\",\"true\",\"true\",\"true\",\"true\",\"true\",\"true\",\"true\",\"true\",\"true\",\"true\",\"true\",\"true\",\"true\",\"true\",\"true\",\"true\",\"true\",\"true\",\"true\",\"true\",\"true\",\"true\",\"true\",\"true\",\"true\",\"true\",\"true\",\"true\",\"true\",\"true\",\"true\",\"true\",\"true\",\"true\",\"true\",\"true\",\"true\",\"true\",\"true\",\"true\",\"true\",\"true\",\"true\",\"true\",\"true\",\"true\",\"true\",\"true\",\"true\",\"true\",\"true\",\"true\",\"true\",\"true\",\"true\",\"true\",\"true\",\"true\",\"true\",\"true\",\"true\",\"true\",\"true\",\"true\",\"true\",\"true\",\"true\",\"true\",\"true\",\"true\",\"true\",\"true\",\"true\",\"true\",\"true\",\"true\",\"true\",\"true\",\"true\",\"true\",\"true\",\"true\",\"true\",\"true\",\"true\",\"true\",\"true\",\"true\",\"true\",\"true\",\"true\",\"true\",\"true\",\"true\",\"true\",\"true\",\"true\",\"true\",\"true\",\"true\",\"true\",\"true\",\"true\",\"true\",\"true\",\"true\",\"true\",\"true\",\"true\",\"true\",\"true\",\"true\",\"true\",\"true\",\"true\",\"true\",\"true\",\"true\",\"true\",\"true\",\"true\",\"true\",\"true\",\"true\",\"true\",\"true\",\"true\",\"true\",\"true\",\"true\",\"true\",\"true\",\"true\",\"true\",\"true\",\"true\",\"true\",\"true\",\"true\",\"true\",\"true\",\"true\",\"true\",\"true\",\"true\",\"true\",\"true\",\"true\",\"true\",\"true\",\"true\",\"true\",\"true\",\"true\",\"true\",\"true\",\"true\",\"true\",\"true\",\"true\",\"true\",\"true\",\"true\",\"true\",\"true\",\"true\",\"true\",\"true\",\"true\",\"true\",\"true\",\"true\",\"true\",\"true\",\"true\",\"true\",\"true\",\"true\",\"true\",\"true\",\"true\",\"true\",\"true\",\"true\",\"true\",\"true\",\"true\",\"true\",\"true\",\"true\",\"true\",\"true\",\"true\",\"true\",\"true\",\"true\",\"true\",\"true\",\"true\",\"true\",\"true\",\"true\",\"true\",\"true\",\"true\",\"true\",\"true\",\"true\",\"true\",\"true\",\"true\",\"true\",\"true\",\"true\",\"true\",\"true\",\"true\",\"true\",\"true\",\"true\",\"true\",\"true\",\"true\",\"true\",\"true\",\"true\",\"true\",\"true\",\"true\",\"true\",\"true\",\"true\",\"true\",\"true\",\"true\",\"true\",\"true\",\"true\",\"true\",\"true\",\"true\",\"true\",\"true\",\"true\",\"true\",\"true\",\"true\",\"true\",\"true\",\"true\",\"true\",\"true\",\"true\",\"true\",\"true\",\"true\",\"true\",\"true\",\"true\",\"true\",\"true\",\"true\",\"true\",\"true\",\"true\",\"true\",\"true\",\"true\",\"true\",\"true\",\"true\",\"true\",\"true\",\"true\",\"true\",\"true\",\"true\",\"true\",\"true\",\"true\",\"true\",\"true\",\"true\",\"true\",\"true\",\"true\",\"true\",\"true\",\"true\",\"true\",\"true\",\"true\",\"true\",\"true\",\"true\",\"true\",\"true\",\"true\",\"true\",\"true\",\"true\",\"true\",\"true\",\"true\",\"true\",\"true\",\"true\",\"true\",\"true\",\"true\",\"true\",\"true\",\"true\",\"true\",\"true\",\"true\",\"true\",\"true\",\"true\",\"true\",\"true\",\"true\",\"true\",\"true\",\"true\",\"true\",\"true\",\"true\",\"true\",\"true\",\"true\",\"true\",\"true\",\"true\",\"true\",\"true\",\"true\",\"true\",\"true\",\"true\",\"true\",\"true\",\"true\",\"true\",\"true\",\"true\",\"true\",\"true\",\"true\",\"true\",\"true\",\"true\",\"true\",\"true\",\"true\",\"true\",\"true\",\"true\",\"true\",\"true\",\"true\",\"true\",\"true\",\"true\",\"true\",\"true\",\"true\",\"true\",\"true\",\"true\",\"true\",\"true\",\"true\",\"true\",\"true\",\"true\",\"true\",\"true\",\"true\",\"true\",\"true\",\"true\",\"true\",\"true\",\"true\",\"true\",\"true\",\"true\",\"true\",\"true\",\"true\",\"true\",\"true\",\"true\",\"true\",\"true\",\"true\",\"true\",\"true\",\"true\",\"true\",\"true\",\"true\",\"true\",\"true\",\"true\",\"true\",\"true\",\"true\",\"true\",\"true\",\"true\",\"true\",\"true\",\"true\",\"true\",\"true\",\"true\",\"true\",\"true\",\"true\",\"true\",\"true\",\"true\",\"true\",\"true\",\"true\",\"true\",\"true\",\"true\",\"true\",\"true\",\"true\",\"true\",\"true\",\"true\",\"true\",\"true\",\"true\",\"true\",\"true\",\"true\",\"true\",\"true\",\"true\",\"true\",\"true\",\"true\",\"true\",\"true\",\"true\",\"true\",\"true\",\"true\",\"true\",\"true\",\"true\",\"true\",\"true\",\"true\",\"true\",\"true\",\"true\",\"true\",\"true\",\"true\",\"true\",\"true\",\"true\",\"true\",\"true\",\"true\",\"true\",\"true\",\"true\",\"true\",\"true\",\"true\",\"true\",\"true\",\"true\",\"true\",\"true\",\"true\",\"true\",\"true\",\"true\",\"true\",\"true\",\"true\",\"true\",\"true\",\"true\",\"true\",\"true\",\"true\",\"true\",\"true\",\"true\",\"true\",\"true\",\"true\",\"true\",\"true\",\"true\",\"true\",\"true\",\"true\",\"true\",\"true\",\"true\",\"true\",\"true\",\"true\",\"true\",\"true\",\"true\",\"true\",\"true\",\"true\",\"true\",\"true\",\"true\",\"true\",\"true\",\"true\",\"true\",\"true\",\"true\",\"true\",\"true\",\"true\",\"true\",\"true\",\"true\",\"true\",\"true\",\"true\",\"true\",\"true\",\"true\",\"true\",\"true\",\"true\",\"true\",\"true\",\"true\",\"true\",\"true\",\"true\",\"true\",\"true\",\"true\",\"true\",\"true\",\"true\",\"true\",\"true\",\"true\",\"true\",\"true\",\"true\",\"true\",\"true\",\"true\",\"true\",\"true\",\"true\",\"true\",\"true\",\"true\",\"true\",\"true\",\"true\",\"true\",\"true\",\"true\",\"true\",\"true\",\"true\",\"true\",\"true\",\"true\",\"true\",\"true\",\"true\",\"true\",\"true\",\"true\",\"true\",\"true\",\"true\",\"true\",\"true\",\"true\",\"true\",\"true\",\"true\",\"true\",\"true\",\"true\",\"true\",\"true\",\"true\",\"true\",\"true\",\"true\",\"true\",\"true\",\"true\",\"true\",\"true\",\"true\",\"true\",\"true\",\"true\",\"true\",\"true\",\"true\",\"true\",\"true\",\"true\",\"true\",\"true\",\"true\",\"true\",\"true\",\"true\",\"true\",\"true\",\"true\",\"true\",\"true\",\"true\",\"true\",\"true\",\"true\",\"true\",\"true\",\"true\",\"true\",\"true\",\"true\",\"true\",\"true\",\"true\",\"true\",\"true\",\"true\",\"true\",\"true\",\"true\",\"true\",\"true\",\"true\",\"true\",\"true\",\"true\",\"true\",\"true\",\"true\",\"true\",\"true\",\"true\",\"true\",\"true\",\"true\",\"true\",\"true\",\"true\",\"true\",\"true\",\"filtered\",\"filtered\",\"filtered\",\"filtered\",\"filtered\",\"filtered\",\"filtered\",\"filtered\",\"filtered\",\"filtered\",\"filtered\",\"filtered\",\"filtered\",\"filtered\",\"filtered\",\"filtered\",\"filtered\",\"filtered\",\"filtered\",\"filtered\",\"filtered\",\"filtered\",\"filtered\",\"filtered\",\"filtered\",\"filtered\",\"filtered\",\"filtered\",\"filtered\",\"filtered\",\"filtered\",\"filtered\",\"filtered\",\"filtered\",\"filtered\",\"filtered\",\"filtered\",\"filtered\",\"filtered\",\"filtered\",\"filtered\",\"filtered\",\"filtered\",\"filtered\",\"filtered\",\"filtered\",\"filtered\",\"filtered\",\"filtered\",\"filtered\",\"filtered\",\"filtered\",\"filtered\",\"filtered\",\"filtered\",\"filtered\",\"filtered\",\"filtered\",\"filtered\",\"filtered\",\"filtered\",\"filtered\",\"filtered\",\"filtered\",\"filtered\",\"filtered\",\"filtered\",\"filtered\",\"filtered\",\"filtered\",\"filtered\",\"filtered\",\"filtered\",\"filtered\",\"filtered\",\"filtered\",\"filtered\",\"filtered\",\"filtered\",\"filtered\",\"filtered\",\"filtered\",\"filtered\",\"filtered\",\"filtered\",\"filtered\",\"filtered\",\"filtered\",\"filtered\",\"filtered\",\"filtered\",\"filtered\",\"filtered\",\"filtered\",\"filtered\",\"filtered\",\"filtered\",\"filtered\",\"filtered\",\"filtered\",\"filtered\",\"filtered\",\"filtered\",\"filtered\",\"filtered\",\"filtered\",\"filtered\",\"filtered\",\"filtered\",\"filtered\",\"filtered\",\"filtered\",\"filtered\",\"filtered\",\"filtered\",\"filtered\",\"filtered\",\"filtered\",\"filtered\",\"filtered\",\"filtered\",\"filtered\",\"filtered\",\"filtered\",\"filtered\",\"filtered\",\"filtered\",\"filtered\",\"filtered\",\"filtered\",\"filtered\",\"filtered\",\"filtered\",\"filtered\",\"filtered\",\"filtered\",\"filtered\",\"filtered\",\"filtered\",\"filtered\",\"filtered\",\"filtered\",\"filtered\",\"filtered\",\"filtered\",\"filtered\",\"filtered\",\"filtered\",\"filtered\",\"filtered\",\"filtered\",\"filtered\",\"filtered\",\"filtered\",\"filtered\",\"filtered\",\"filtered\",\"filtered\",\"filtered\",\"filtered\",\"filtered\",\"filtered\",\"filtered\",\"filtered\",\"filtered\",\"filtered\",\"filtered\",\"filtered\",\"filtered\",\"filtered\",\"filtered\",\"filtered\",\"filtered\",\"filtered\",\"filtered\",\"filtered\",\"filtered\",\"filtered\",\"filtered\",\"filtered\",\"filtered\",\"filtered\",\"filtered\",\"filtered\",\"filtered\",\"filtered\",\"filtered\",\"filtered\",\"filtered\",\"filtered\",\"filtered\",\"filtered\",\"filtered\",\"filtered\",\"filtered\",\"filtered\",\"filtered\",\"filtered\",\"filtered\",\"filtered\",\"filtered\",\"filtered\",\"filtered\",\"filtered\",\"filtered\",\"filtered\",\"filtered\",\"filtered\",\"filtered\",\"filtered\",\"filtered\",\"filtered\",\"filtered\",\"filtered\",\"filtered\",\"filtered\",\"filtered\",\"filtered\",\"filtered\",\"filtered\",\"filtered\",\"filtered\",\"filtered\",\"filtered\",\"filtered\",\"filtered\",\"filtered\",\"filtered\",\"filtered\",\"filtered\",\"filtered\",\"filtered\",\"filtered\",\"filtered\",\"filtered\",\"filtered\",\"filtered\",\"filtered\",\"filtered\",\"filtered\",\"filtered\",\"filtered\",\"filtered\",\"filtered\",\"filtered\",\"filtered\",\"filtered\",\"filtered\",\"filtered\",\"filtered\",\"filtered\",\"filtered\",\"filtered\",\"filtered\",\"filtered\",\"filtered\",\"filtered\",\"filtered\",\"filtered\",\"filtered\",\"filtered\",\"filtered\",\"filtered\",\"filtered\",\"filtered\",\"filtered\",\"filtered\",\"filtered\",\"filtered\",\"filtered\",\"filtered\",\"filtered\",\"filtered\",\"filtered\",\"filtered\",\"filtered\",\"filtered\",\"filtered\",\"filtered\",\"filtered\",\"filtered\",\"filtered\",\"filtered\",\"filtered\",\"filtered\",\"filtered\",\"filtered\",\"filtered\",\"filtered\",\"filtered\",\"filtered\",\"filtered\",\"filtered\",\"filtered\",\"filtered\",\"filtered\",\"filtered\",\"filtered\",\"filtered\",\"filtered\",\"filtered\",\"filtered\",\"filtered\",\"filtered\",\"filtered\",\"filtered\",\"filtered\",\"filtered\",\"filtered\",\"filtered\",\"filtered\",\"filtered\",\"filtered\",\"filtered\",\"filtered\",\"filtered\",\"filtered\",\"filtered\",\"filtered\",\"filtered\",\"filtered\",\"filtered\",\"filtered\",\"filtered\",\"filtered\",\"filtered\",\"filtered\",\"filtered\",\"filtered\",\"filtered\",\"filtered\",\"filtered\",\"filtered\",\"filtered\",\"filtered\",\"filtered\",\"filtered\",\"filtered\",\"filtered\",\"filtered\",\"filtered\",\"filtered\",\"filtered\",\"filtered\",\"filtered\",\"filtered\",\"filtered\",\"filtered\",\"filtered\",\"filtered\",\"filtered\",\"filtered\",\"filtered\",\"filtered\",\"filtered\",\"filtered\",\"filtered\",\"filtered\",\"filtered\",\"filtered\",\"filtered\",\"filtered\",\"filtered\",\"filtered\",\"filtered\",\"filtered\",\"filtered\",\"filtered\",\"filtered\",\"filtered\",\"filtered\",\"filtered\",\"filtered\",\"filtered\",\"filtered\",\"filtered\",\"filtered\",\"filtered\",\"filtered\",\"filtered\",\"filtered\",\"filtered\",\"filtered\",\"filtered\",\"filtered\",\"filtered\",\"filtered\",\"filtered\",\"filtered\",\"filtered\",\"filtered\",\"filtered\",\"filtered\",\"filtered\",\"filtered\",\"filtered\",\"filtered\",\"filtered\",\"filtered\",\"filtered\",\"filtered\",\"filtered\",\"filtered\",\"filtered\",\"filtered\",\"filtered\",\"filtered\",\"filtered\",\"filtered\",\"filtered\",\"filtered\",\"filtered\",\"filtered\",\"filtered\",\"filtered\",\"filtered\",\"filtered\",\"filtered\",\"filtered\",\"filtered\",\"filtered\",\"filtered\",\"filtered\",\"filtered\",\"filtered\",\"filtered\",\"filtered\",\"filtered\",\"filtered\",\"filtered\",\"filtered\",\"filtered\",\"filtered\",\"filtered\",\"filtered\",\"filtered\",\"filtered\",\"filtered\",\"filtered\",\"filtered\",\"filtered\",\"filtered\",\"filtered\",\"filtered\",\"filtered\",\"filtered\",\"filtered\",\"filtered\",\"filtered\",\"filtered\",\"filtered\",\"filtered\",\"filtered\",\"filtered\",\"filtered\",\"filtered\",\"filtered\",\"filtered\",\"filtered\",\"filtered\",\"filtered\",\"filtered\",\"filtered\",\"filtered\",\"filtered\",\"filtered\",\"filtered\",\"filtered\",\"filtered\",\"filtered\",\"filtered\",\"filtered\",\"filtered\",\"filtered\",\"filtered\",\"filtered\",\"filtered\",\"filtered\",\"filtered\",\"filtered\",\"filtered\",\"filtered\",\"filtered\",\"filtered\",\"filtered\",\"filtered\",\"filtered\",\"filtered\",\"filtered\",\"filtered\",\"filtered\",\"filtered\",\"filtered\",\"filtered\",\"filtered\",\"filtered\",\"filtered\",\"filtered\",\"filtered\",\"filtered\",\"filtered\",\"filtered\",\"filtered\",\"filtered\",\"filtered\",\"filtered\",\"filtered\",\"filtered\",\"filtered\",\"filtered\",\"filtered\",\"filtered\",\"filtered\",\"filtered\",\"filtered\",\"filtered\",\"filtered\",\"filtered\",\"filtered\",\"filtered\",\"filtered\",\"filtered\",\"filtered\",\"filtered\",\"filtered\",\"filtered\",\"filtered\",\"filtered\",\"filtered\",\"filtered\",\"filtered\",\"filtered\",\"filtered\",\"filtered\",\"filtered\",\"filtered\",\"filtered\",\"filtered\",\"filtered\",\"filtered\",\"filtered\",\"filtered\",\"filtered\",\"filtered\",\"filtered\",\"filtered\",\"filtered\",\"filtered\",\"filtered\",\"filtered\",\"filtered\",\"filtered\",\"filtered\",\"filtered\",\"filtered\",\"filtered\",\"filtered\",\"filtered\",\"filtered\",\"filtered\",\"filtered\",\"filtered\",\"filtered\",\"filtered\",\"filtered\",\"filtered\",\"filtered\",\"filtered\",\"filtered\",\"filtered\",\"filtered\",\"filtered\",\"filtered\",\"filtered\",\"filtered\",\"filtered\",\"filtered\",\"filtered\",\"filtered\",\"filtered\",\"filtered\",\"filtered\",\"filtered\",\"filtered\",\"filtered\",\"filtered\",\"filtered\",\"filtered\",\"filtered\",\"filtered\",\"filtered\",\"filtered\",\"filtered\",\"filtered\",\"filtered\",\"filtered\",\"filtered\",\"filtered\",\"filtered\",\"filtered\",\"filtered\",\"filtered\",\"filtered\",\"filtered\",\"filtered\",\"filtered\",\"filtered\",\"filtered\",\"filtered\",\"filtered\",\"filtered\",\"filtered\",\"filtered\",\"filtered\",\"filtered\",\"filtered\",\"filtered\",\"filtered\",\"filtered\",\"filtered\",\"filtered\",\"filtered\",\"filtered\",\"filtered\",\"filtered\",\"filtered\",\"filtered\",\"filtered\",\"filtered\",\"filtered\",\"filtered\",\"filtered\",\"filtered\",\"filtered\",\"filtered\",\"filtered\",\"filtered\",\"filtered\",\"filtered\",\"filtered\",\"filtered\",\"filtered\",\"filtered\",\"filtered\",\"filtered\",\"filtered\",\"filtered\",\"filtered\",\"filtered\",\"filtered\",\"filtered\",\"filtered\",\"filtered\",\"filtered\",\"filtered\",\"filtered\",\"filtered\",\"filtered\",\"filtered\",\"filtered\",\"filtered\",\"filtered\",\"filtered\",\"filtered\",\"filtered\",\"filtered\",\"filtered\",\"filtered\",\"filtered\",\"filtered\",\"filtered\",\"filtered\",\"filtered\",\"filtered\",\"filtered\",\"filtered\",\"filtered\",\"filtered\",\"filtered\",\"filtered\",\"filtered\",\"filtered\",\"filtered\",\"filtered\",\"filtered\",\"filtered\",\"filtered\",\"filtered\",\"filtered\",\"filtered\",\"filtered\",\"filtered\",\"filtered\",\"filtered\",\"filtered\",\"filtered\",\"filtered\",\"filtered\",\"filtered\",\"filtered\",\"filtered\",\"filtered\",\"filtered\",\"filtered\",\"filtered\",\"filtered\",\"filtered\",\"filtered\",\"filtered\",\"filtered\",\"filtered\",\"filtered\",\"filtered\",\"filtered\",\"filtered\",\"filtered\",\"filtered\",\"filtered\",\"filtered\",\"filtered\",\"filtered\",\"filtered\",\"filtered\",\"filtered\",\"filtered\",\"filtered\",\"filtered\",\"filtered\",\"filtered\",\"filtered\",\"filtered\",\"filtered\",\"filtered\",\"filtered\",\"filtered\",\"filtered\",\"filtered\",\"filtered\",\"filtered\",\"filtered\",\"filtered\",\"filtered\",\"filtered\",\"filtered\",\"filtered\",\"filtered\",\"filtered\",\"filtered\",\"filtered\",\"filtered\",\"filtered\",\"filtered\",\"filtered\",\"filtered\",\"filtered\",\"filtered\",\"filtered\",\"filtered\",\"filtered\",\"filtered\",\"filtered\",\"filtered\",\"filtered\",\"filtered\",\"filtered\",\"filtered\",\"filtered\",\"filtered\",\"filtered\",\"filtered\",\"filtered\",\"filtered\",\"filtered\",\"filtered\",\"filtered\",\"filtered\",\"filtered\",\"filtered\",\"filtered\",\"filtered\",\"filtered\",\"filtered\",\"filtered\",\"filtered\",\"filtered\",\"filtered\",\"filtered\",\"filtered\",\"filtered\",\"filtered\",\"filtered\",\"filtered\",\"filtered\",\"filtered\",\"filtered\",\"filtered\",\"filtered\",\"filtered\",\"filtered\",\"filtered\",\"filtered\",\"filtered\",\"filtered\",\"filtered\",\"filtered\",\"filtered\",\"filtered\",\"filtered\",\"filtered\",\"filtered\",\"filtered\",\"filtered\",\"filtered\",\"filtered\",\"filtered\",\"filtered\",\"filtered\",\"filtered\",\"filtered\",\"filtered\",\"filtered\",\"filtered\",\"filtered\",\"filtered\",\"filtered\",\"filtered\",\"filtered\",\"filtered\",\"filtered\",\"filtered\",\"filtered\",\"filtered\",\"filtered\",\"filtered\",\"filtered\",\"filtered\",\"filtered\",\"filtered\",\"filtered\",\"filtered\",\"filtered\",\"filtered\",\"filtered\",\"filtered\",\"filtered\",\"filtered\",\"filtered\",\"filtered\",\"filtered\",\"filtered\",\"filtered\",\"filtered\",\"filtered\",\"filtered\",\"filtered\",\"filtered\",\"filtered\",\"filtered\",\"filtered\",\"filtered\",\"filtered\",\"filtered\",\"filtered\",\"filtered\",\"filtered\",\"filtered\",\"filtered\",\"filtered\",\"filtered\",\"filtered\",\"filtered\",\"filtered\",\"filtered\",\"filtered\",\"filtered\",\"filtered\",\"filtered\",\"filtered\",\"filtered\",\"filtered\",\"filtered\",\"filtered\",\"filtered\",\"filtered\",\"filtered\",\"filtered\",\"filtered\",\"filtered\",\"filtered\",\"filtered\",\"filtered\",\"filtered\",\"filtered\",\"filtered\",\"filtered\",\"filtered\",\"filtered\",\"filtered\",\"filtered\",\"filtered\",\"filtered\",\"filtered\",\"filtered\",\"filtered\",\"filtered\",\"filtered\",\"filtered\",\"filtered\",\"filtered\",\"filtered\",\"filtered\",\"filtered\",\"filtered\",\"filtered\",\"filtered\",\"filtered\",\"filtered\",\"filtered\",\"filtered\",\"filtered\",\"filtered\",\"filtered\",\"filtered\",\"filtered\",\"filtered\",\"filtered\",\"filtered\",\"filtered\",\"filtered\",\"filtered\",\"filtered\",\"filtered\",\"filtered\",\"filtered\",\"filtered\",\"filtered\",\"filtered\",\"filtered\",\"filtered\",\"filtered\",\"filtered\",\"filtered\",\"filtered\",\"filtered\",\"filtered\",\"filtered\",\"filtered\",\"filtered\",\"filtered\",\"filtered\",\"filtered\",\"filtered\",\"filtered\",\"filtered\",\"filtered\",\"filtered\",\"filtered\",\"filtered\",\"filtered\",\"filtered\",\"filtered\",\"filtered\",\"filtered\",\"filtered\",\"filtered\",\"filtered\",\"filtered\",\"filtered\",\"filtered\",\"filtered\",\"filtered\",\"filtered\",\"filtered\",\"filtered\",\"filtered\",\"filtered\",\"filtered\",\"filtered\",\"filtered\",\"filtered\",\"filtered\",\"filtered\",\"filtered\",\"filtered\",\"filtered\",\"filtered\",\"filtered\",\"filtered\",\"filtered\",\"filtered\",\"filtered\",\"filtered\",\"filtered\",\"filtered\",\"filtered\",\"filtered\",\"filtered\",\"filtered\",\"filtered\",\"filtered\"],\"x0\":\" \",\"xaxis\":\"x2\",\"y\":[999.7660961983588,1001.0424031538956,998.8440146285708,1000.440940309762,1000.3385312934138,1000.6280062225202,1000.444949437216,998.8784862396268,998.475996714074,1001.5944813896192,1000.4889149679746,999.5639425977988,1001.3861565774104,999.939106918522,1000.055359565865,999.8292801841648,1000.7177563029114,1000.4865928693204,998.1774564383384,998.7724224980918,998.9567829125324,999.1431146145878,999.777492627623,1001.0779914137092,1000.5451767964876,999.4286018544504,1000.4094220705874,1001.0191945956328,1000.276173558712,1000.8427064981222,1000.0600105123546,997.9761287454476,1000.9257261238848,999.7039946779148,1001.1104617548068,999.7651197891018,1000.51681866568,999.030769629359,1000.3940316201378,999.9086070971204,1001.2346066869844,1000.6760651308952,1000.7624611590388,1000.5537843911584,999.1979887733896,1002.0561547012248,999.7775334696612,998.9601219675884,1000.1629874166696,999.5432240746844,998.0624364132668,999.8305875876464,999.88800301723,1000.5575821758332,999.5603603213234,999.919989276386,1000.8667166539024,1000.3242664142662,998.9526003607664,999.7955265119213,998.1414105875398,1000.0516349629488,1000.4973788586644,1000.1454019541457,1000.8749635944192,1000.7293107282778,1000.4204360396924,999.8739711574082,999.9416331890028,1001.6638686956676,999.897668613709,999.4479409691502,1000.2650405569652,1000.9878624247884,998.4973934671648,1000.3786678044222,999.6666087950068,999.612155214119,998.7117783061932,1001.0765682824764,999.8619823511074,1000.0221895472948,999.8683983705248,998.7720951702568,999.4585837757062,999.960892380719,999.2907577599856,1000.5578097372914,999.2335257031708,1000.6433087772804,1000.2159845582814,998.4239214708203,1000.96872538949,999.3967720603852,999.7036526953524,999.765630330745,999.015290244293,1002.09059149754,1000.972026055466,1000.728763644048,999.9105208116564,1000.4094130716576,999.3544170556812,999.8305240783644,1000.5855656608388,1001.1929036208168,1000.8262030797172,998.6515692193644,999.3786877649688,1000.5635815330525,998.9564191907778,1000.1093275675074,999.9978502306636,998.6023487191998,997.5871167813008,1000.2971716782486,1000.9551343139636,999.4753519284492,999.4927513677052,1000.1631823534314,999.9020603897472,998.1214371266076,1001.2979200719208,998.9070808006086,1000.0026765680084,999.6273333293226,1000.1579084532708,999.2808868756453,999.7052392397112,999.009851784984,1000.1702286542268,998.0812781355376,1001.113262595689,1000.4019180574708,999.04709011227,1000.8654997933668,999.154168456184,998.8885109601988,999.8786532728392,999.861749871003,999.1114137960056,1000.4313542745674,1000.0672862247468,999.3205747193982,999.7071924454164,1000.09736758765,1000.341619310644,1000.282716484042,1002.0300656339932,1000.2415326800448,999.8076721238414,1000.3959068810698,1000.7216554066928,999.5987880424888,1000.1756914054666,999.4918912857186,999.1607168768546,1000.1898220023528,999.4188002544158,999.4560190237372,1001.9764748846324,999.9052178313428,999.9872332595024,997.9974461739451,1001.20842433633,997.7883908880642,999.9054050105342,999.550944860594,1001.337092447718,999.5992828611506,1000.366972632075,999.8485481361764,998.7981665611792,1001.2164785724024,999.5479968397256,1000.2517907613272,999.9286447391409,999.1058256369648,998.9609644700598,1000.0023007633667,999.6739062415502,998.9248684495636,1000.7131281082836,999.6122661244484,1000.778594314143,1000.1063481930572,1000.3474227735018,1001.2186853164172,999.4224862624432,1000.49993229594,1001.0641147463556,998.5627628396904,1000.3045414223792,998.9160846443126,1000.7587744573914,1002.1100312583042,999.340630866213,999.20391459363,999.5848688259736,1000.5895262223928,999.8396373775098,1001.4589363838688,998.8761661946252,1000.5239105249084,999.755829202112,999.7679980784824,1000.8680913064616,999.3747622808568,998.5209733562468,999.3841552476584,1000.6580573807272,1000.2970389106508,999.8989154630058,998.8652622372468,1000.848692280802,1001.0624791957156,999.8255072512536,999.993094573326,999.5531242646654,998.96915789143,1000.0651197080786,999.471415529904,999.5682358381176,1000.5842860285989,1000.4149763910686,999.881925752696,998.6982925178036,1000.1937719902312,999.67147784958,999.8712180047804,1000.4896244774516,999.7338505942,1000.1990583743228,1000.4182231616028,997.8293755687788,1001.4122639723583,999.4106554530028,999.6361612374571,999.4281624964268,998.6616797174496,998.9110754858768,999.4908319279896,1001.8432102195754,999.8863511326188,1000.7544434659072,1002.1177179272262,1000.3417693098936,1000.3638690325494,999.7992201896888,1001.782647488861,998.7980937349412,1000.8900320351594,1000.0179933175745,999.1117139290716,1001.1227426210104,998.3548282352656,1000.146205159613,998.8868793097728,1001.0259360209376,1000.4045555863726,998.2427503331198,999.7965956784158,996.9956509692493,1001.5623806809666,1000.5201231717464,1000.1032494916476,1000.040328937944,998.9592025127448,998.3956183914614,1000.2076861163968,1000.31215902536,1000.1633323373832,999.1958020905744,999.8671708554429,1000.0046724859776,1001.2051002447593,999.0512465689728,999.8873846874632,1001.7439876790946,999.8306808504432,999.427707526786,998.9770214751576,999.2782637111134,999.0606890369146,998.9079763151376,999.645456526316,1000.1515938794198,999.9284258303652,1000.0039898377552,1000.06819360506,1000.12658143551,1000.6378289779948,999.4434712899696,999.5155230463648,1002.208186217366,999.8455811942652,1000.208170180209,998.9560838227462,999.176752127074,1000.0322614913844,999.7723360061716,1000.9529414108548,999.074156076565,998.829350136104,1000.1030632592413,999.5753297286556,1000.2968198266136,1000.761759283276,1000.9125224550296,999.8216567979996,1001.0279293992652,999.8495910419858,1000.802755924007,999.1548409196646,1000.0183984334964,1001.381056689092,999.4250632385804,1001.7354204879344,1002.3335090717442,1000.2814585470456,1000.8860769435876,999.1866910357742,1000.8938327377468,998.9035762487032,1000.3938576539456,1001.2017614156214,999.9538080307716,999.6137538874882,1000.9019631213712,1000.3392542672152,1001.5822894911474,1001.3383407607972,1000.5769534632258,1001.0792529362864,1000.8232573259828,999.3710196266228,1002.1341643816838,997.682906875928,1001.3350945996236,998.5966045856642,999.9952095545368,999.602489328294,998.893454268327,1000.3844372277936,998.0549135541044,999.2390540605372,999.1778168307478,1000.2368734187382,1001.7114674199868,1000.5846970897262,997.9299982336156,1000.3751948015712,999.4172953473546,999.6504560875871,1000.0441358054412,998.7795954153906,998.4461936478774,998.8231961154572,1001.0689712882825,1000.696289065259,998.8871272058364,1000.01948507418,999.4498248206652,1000.2252386253568,1000.6654648044922,999.7520666349318,998.4337815075536,1000.0543169537776,1000.0238362673044,1001.7697260906684,998.80616706886,999.2316931262992,998.6766180739518,1001.2311538785812,998.4225030181152,998.9916584759524,1001.4497584018102,1001.4919948607522,998.9606704525085,998.4851282638398,998.3205242298172,1000.3443082359878,1000.9122220059872,999.5885474730544,999.2184730959768,1001.8703533835888,999.2078831531458,999.3076879854834,999.3133804176592,999.2206150344206,999.5958952194442,1000.5879232691448,1000.5537718950388,999.5175267119632,1000.5627543946218,999.1264265280962,1000.5166600020642,1001.226686294769,1002.66630765155,1000.1376738977906,1001.099978224067,1000.5503029535238,999.2504078032686,998.7529581678068,1001.0778897204862,1000.9792979666172,1000.898388143552,999.7150608133014,1001.5781520107796,997.5955865181112,999.7376435534568,999.5744078807194,997.387926656438,999.8884833918964,1002.5334806394694,999.6661030178196,999.6477576141292,998.6983692908244,1000.0162173692216,1000.2585015202344,997.8785742291568,1000.4101077727912,1002.2034937868516,999.8752596469268,998.2419449219562,999.6748117230852,1001.0526201755544,999.2336824444548,1000.9043339588986,1000.7555416688308,999.4766180740228,1000.5953347056038,999.95051546604,999.3678953163936,1000.8220685297184,999.156621119081,1001.1782350440018,1000.5549621236476,1001.0175144838572,997.9999573916972,998.4180241386532,999.9650894667368,998.961784048028,999.8965378444371,997.0354846750351,1000.0792091718032,999.503894665958,1001.2710741258294,998.0096955786274,999.6264674615818,998.370562742152,999.0863585982528,999.7214311676424,1000.9544860619994,999.5240450552362,1001.0246123288894,998.0531130271478,999.1940975957737,998.7098449155684,1000.7027491736628,1000.182477531898,999.630045873916,1000.0428138783592,999.5285184446076,1000.5409972339976,1000.236417361366,999.7988482310584,999.0823974270164,1000.6124092532108,1000.0316327381388,1000.6955355681804,999.3991760340766,1000.4484662955176,998.4646129686148,998.8038426415748,999.229381834042,998.7781760229692,999.9125679370792,1000.2895951903844,998.9566788607748,1001.028922757302,1000.7189581914564,1000.920300625168,999.022684813644,1000.3422509954346,998.3671210771364,1000.6431466447387,1000.6512310461312,999.7950904607997,999.1563800625694,999.8733819978436,1001.3320651500868,1000.7405769066232,1000.374205909439,1000.1356991599264,1000.1713476617062,1000.1999303313394,1000.130121993996,1000.2982953440418,1002.0031653838512,999.1136311920012,998.364391606486,1001.1041369794624,1000.6134536592248,999.6949362361656,999.2190502957758,1000.6307117690116,1000.1060930859782,1002.562477466509,1000.6384127780882,1000.0858649664387,999.693088521455,1000.114802963904,999.3212914359216,1000.8026826708171,999.2171762175536,1001.1570931058257,1000.494971197523,1001.176235127378,1000.435880005582,1000.949190936196,999.1411432823083,1000.01421222942,999.905156930061,1001.1956938250174,1000.689208615223,1000.680525925353,998.8657015782168,999.7718234774768,1000.3504077007308,1000.2965781341768,1000.4080761153448,999.1375350379112,999.5038395366448,1002.1284558454852,998.1299823517012,999.928628690678,999.8385241438,999.5599440297754,999.7473669235432,999.0178695552296,998.8095038784284,1001.5213056953808,1000.5197298468272,1001.0040508871868,1002.1607524469612,999.100538046236,1000.266792474738,999.8226466726876,998.8997079203708,1000.3714961132548,1000.9279083453958,1000.4411873738431,1000.0798548199806,1000.0373926042848,1001.5889639002356,999.0859714085452,998.8976753683868,1001.8840641011,1000.5456871325836,999.6440087278152,1001.6918754987372,1001.0268408261326,1000.1867705493548,1000.5502513792574,999.3632187637284,999.2164619707668,1000.3558147484944,998.8683186052806,998.383895335088,1000.030364162772,999.2576416261118,999.7674448623596,1000.5356378382636,999.4153922997313,998.7787530351408,999.7117705391285,1000.3493870147092,999.1442914962744,999.0807940303312,998.227294304448,999.9280220425486,999.0296735419824,998.322839148486,1000.3924271404876,1000.7065592442198,1000.687312221804,1000.4790917690764,1001.3427893558996,1000.5395810450016,1000.8321354580372,1000.4977434594372,1001.0953277708122,1001.2130411559858,1001.1888403463018,1000.7433360840568,999.8858146528572,999.7161237146278,999.3935320491248,999.7895297921988,999.671220592866,999.6073807366704,999.8950116563597,1000.9041088883372,1001.7729172670232,999.9261491909316,999.5350305550812,999.610435727042,1000.6144635823032,999.4699614061934,1000.7078652085524,1000.2157939360444,1000.5493303261096,999.9931464036914,999.7825772839273,1000.1919670584642,999.86220145782,1001.7702773260712,998.9046455174308,1000.3415225990148,999.7825473869432,999.3827380565972,998.258900165044,1001.175575429214,1000.8912072263709,1000.2223605747008,1000.8977874327364,999.540287910286,998.2842458013532,999.9267008129482,999.1829096147126,1000.715887290687,1000.2984608644754,999.0578078776434,998.8730392651188,1000.1970908622078,999.3257305826904,997.6813014709018,1000.701675318118,1002.4254706773794,999.0336303199656,1001.187170959204,997.6856527750156,1001.1428558064164,999.7632553783352,1001.3794893254912,999.413857984034,1000.53332941477,1000.524747580072,999.826783104481,999.6023945545004,1000.5440525040866,999.6058692176669,999.41187715068,999.562835819121,999.7611544496856,1001.2875927805272,998.673069603176,1000.0504784241735,1000.643429355398,1001.0636824133452,998.7828616728176,1000.671234534898,1000.8786657311688,1001.406074674326,999.6533449132712,998.6649498316052,1000.0116069679862,998.7446299220434,999.4802742619004,999.9495605812996,1000.5279639620592,999.7576089002064,999.4651113899272,999.2789809521108,1000.9171220092328,1000.7496394794074,1000.0909412345704,1000.8339365203498,1000.4199713872276,999.9376998943874,1000.5579783466908,1000.9358477520868,1000.011253211719,999.6629049362988,998.8366234196416,999.5535747499551,999.179794098328,1000.130101571728,997.5251866265182,999.0679277669728,1002.2280132308224,1000.9968908168644,1001.363167549746,999.6906834288634,999.7485241133644,1002.321608703438,1000.0581610571652,999.1301012301652,1000.169044289797,999.6311906826176,1000.7464268845998,999.1094834958508,998.6371184214596,998.477363877412,1001.0102330000544,1000.6122597200638,999.9318233901472,1000.1849977614136,1001.0342296732796,1000.6703407131516,1000.4304063591997,998.5806348959078,999.5129484215622,1000.8362240438468,1000.3393594711216,1001.4468994011507,1000.430919770275,1000.8629267206152,1000.6704015950598,1001.5607459445812,1000.725392413764,1001.0227017426226,1001.4293793083766,1000.596551794096,999.6433866358228,1000.6400081823076,1000.9015432638248,1000.4875261976176,998.4662762517676,998.1652381467264,1000.2253383689092,1001.9589766965846,1000.9964117021556,1000.17879614367,999.0046838956464,999.2622262101246,1001.1190508063044,1000.8731408377632,999.0711610204912,1000.6549633927756,999.4860442009,999.3197592610472,999.6638734076408,1000.3975334334508,1000.8688680373152,999.5593560318396,999.8841244164709,998.7432390774328,1001.219938110686,999.2147183034084,998.0692748221982,1000.436784810084,998.8246315050764,999.6458455709594,1000.074946858983,998.2013100246744,998.198308352118,998.8113077374336,998.601301885397,999.189289772268,1001.7602593888454,999.819291717664,1000.120779040254,998.440796672662,999.8096749634942,1000.4104056820228,999.885685015493,998.6964412355788,1001.3077276520928,1000.1156875949858,1001.2760463143971,1000.4093492173,1000.3280760528804,1000.21620780002,1000.8473755260316,1001.8420980443284,998.9766331201708,999.1806166316062,1000.8143963299656,1000.7262210091766,1000.6113570376932,1001.1473622751362,997.1395180350332,999.6218479443354,999.4693436353156,1000.4989501459596,1000.52517772788,1000.426094338328,1000.8091288689684,998.915927576355,1000.213874044324,1000.1883300502836,998.977362114162,999.5485391542836,999.8737492982588,1000.5761272791292,1001.255814275173,999.7879540943508,999.8835083855148,1000.2383983613804,1000.374025635672,1001.580036782574,998.6160154686982,999.9175512231247,998.9735686872206,1001.359234773415,999.6951226841866,999.8446782327404,999.7328817906543,999.1218465438706,1000.9932349676078,998.145638338734,999.770659136156,1000.2097747318878,998.9509537319342,1000.0906358693096,1000.203308741358,1000.3094364488468,998.4509325763167,1000.2395968666026,998.6348293545044,1000.5312588308748,1001.2145184262058,998.7527058075052,1001.0493541474912,1000.516497948514,998.2427572070916,1001.4504393114312,999.7113763922332,998.9536207518984,1001.2600338687274,1000.0366543671232,1001.2277584310232,999.4276816848654,999.3170148939146,998.6043139399434,999.942200414334,999.8435087742124,1000.5453737709948,1000.667853596175,999.6034579279062,1000.1002206038006,1000.1681347236284,1001.4847734331232,999.9654160019036,1000.0309251569084,999.0047434529356,1001.14068964766,999.8365441758392,1000.1907475860468,1001.244123675506,999.9052823439772,999.1088725715584,1000.9267078456826,1000.7351059426323,1000.9682480255664,1000.1643536864184,998.3562614334804,1000.8413480017985,1001.4454281451494,998.7844819521312,999.623106317033,998.491084423138,999.6043024074328,999.75011750367,1000.0224422749442,1000.6920279197756,998.0593701239186,999.1219399363944,998.2965768754082,999.3923008341064,999.5334353097056,1000.7718986812932,1000.831031795415,1001.8219295554936,1000.8470177352048,1000.0545103454182,999.7298780536884,998.5604958067804,999.7301904331024,999.9954064590718,998.6963927750094,1002.118702595375,998.74495599993,1000.021169564734,1001.1019761811166,1000.0075116787492,1001.648703655777,1000.0021862098728,999.8137991468687,1000.1746689855194,1000.5578265938934,1000.6644432344802,1000.0624653501494,1000.9205535666456,1000.6990554376296,998.4731398460236,998.9260238135428,999.210645243246,1000.1110699038604,1000.691641972672,1001.8721047897138,999.0118550817076,1000.958074056051,999.3089718391304,998.7819942330502,1000.0357638641724,1000.0490836039132,998.9053940026432,999.1361536581918,1000.6115204617624,999.5912902792702,1000.177815166058,1000.9765973336708,1000.3067811861882,1000.6607325078616,998.8848771158172,999.2989108945586,1000.7079235348316,999.2345979193708,998.9183656954672,999.7912233313656,1000.816521162992,1000.9015575201868,1001.1681436841784,999.8514538930448,1000.0847521387868,999.2615107142052,998.71521621813,999.903162876118,999.1619843350152,999.6798859557496,1000.6666409559232,1000.3309538352914,1001.4178721630616,998.074654672642,1001.2243293671028,1000.553564284494,999.4216054320208,999.4070184671556,998.6137120235472,1000.2462320061796,1000.8355433591132,999.9218025990764,999.3349244365032,1001.096297384408,998.9138478425658,999.0944124424548,1000.3350494906548,999.6578719154028,999.5128600106284,999.1937754222732,1000.6577166294873,1000.1955018818976,1001.6169440141754,1000.876904693194,1000.472712703357,999.4170607405986,999.2577785181284,998.5349489211924,1000.5181270900512,999.052433716639,998.5870991634102,1001.51666861716,999.4312160572488,1000.3917989458416,999.7367864493368,999.76260825347,999.0771653329252,1000.2807829745942,1000.481868423038,1000.9678423435462,999.3566518636914,998.9549396098377,999.1633271747648,1001.1916947834366,1000.129222660384,1001.8535356107338,1000.9175507328108,1000.9880043909012,999.525139242516,999.1751519770316,999.1641436797902,1000.8749842857544,999.8086418557856,999.271888214223,1000.547553460226,1000.7758768523316,998.5612485230116,1000.638738062489,999.7059234196794,1001.56584256576,1000.0946505942576,1000.2422432536572,999.672731720676,1000.0200261557756,998.8476055350642,998.5628508600396,1001.451407131737,461.52792939358096,548.1300114599096,410.2971616727477,540.3822198140741,546.0245529164561,542.9836715980255,555.4856641557159,417.569724534508,373.146531216796,633.3502924774541,624.247092064156,475.3724172064315,600.3684448550833,532.8329517531153,472.8353627974771,506.31229096481167,508.4144059952209,610.4553519022312,323.65776197680174,446.2123038899063,362.1227029921573,433.4106402600616,562.0025764698489,637.3096207432424,522.808007536568,469.80282429759,543.1099277810902,565.434169937479,530.0328538065396,610.5801650305415,482.5564118848851,327.5600405221574,579.7308387221567,448.4298146790867,628.9770918674018,536.7973721638596,570.0672954330697,357.82557518578705,612.0849273173208,444.6797084597428,600.1186364029229,523.5331277555823,512.949944948852,614.8813168955378,404.353032511081,643.6885180735171,488.9566039775478,443.2046857171032,514.4790663755915,514.8817405773764,325.058522166333,554.662058504202,451.39140000665856,587.6788772559202,477.7374972127375,574.5156068712286,548.910799095615,528.6908835586818,443.21100481790927,397.88209319073707,355.7953522325841,460.6947813773974,534.7673736990871,537.6067329045089,603.6699034695841,547.2757915319635,567.3086215314689,454.32901321420496,492.6045144721288,643.1359317769884,477.43051629936485,497.4125183701755,559.0437853350255,576.6784383687008,292.1917811049085,542.9953999614753,547.7319823874158,507.43439141143006,408.12200074037287,595.4334856131899,463.3552035980994,468.3569804514317,462.0048018889012,410.3591240728469,467.4605955215901,497.2397861315607,411.63794463924177,583.0659840897691,441.9503669068689,536.0409091513951,530.9871743876214,364.5084209320396,626.0686516896824,434.62971003006857,523.0234419809312,484.10880902261175,411.57560703304586,722.2639443310222,519.4629917650527,558.5032104812539,526.2429778194082,531.277546867594,470.8906700663708,459.9249453763113,577.5829850114998,599.9057313773181,584.9284375629157,357.3422339089137,392.04726870632,515.7784459657249,390.2092367966402,497.4914823945552,506.7403250925609,395.5147751225993,239.65626376379964,507.6052942953172,628.8494043731677,468.0732468761311,444.9447338982071,527.3171959571247,415.44298463184975,363.4303791025056,591.8690919523219,391.1246665610285,526.1019195960951,402.00959595271183,563.6778173748048,362.2401834624175,514.313498693531,322.3143519655322,513.5197319995317,340.05814211570635,560.7947177823255,489.7945978379802,381.0736788052949,558.3493927897489,451.8041723989507,451.7914013389133,442.17202785952793,488.7869177427834,433.09376956069445,518.0070965780235,511.6945465433186,334.8945962154536,490.78489309260766,510.4635656667628,565.0254089166355,542.3014050784392,655.4261980567373,433.51753016010537,373.06190747893777,517.3219999764311,609.9695553559047,401.2803369760671,540.7438188593637,410.53824962836654,441.7417973978801,448.7013865381404,377.570426071083,450.85178617636,695.0806435129189,548.9485124900032,479.7088766090232,345.01181992120416,576.8525516722201,337.95129475852843,466.8394785961299,429.91541294796457,567.8818928320967,422.7785260527181,559.7847254049152,503.7568725115727,355.3522887850328,622.3714738337385,450.9760715027984,591.7141350896221,522.429934159432,474.0863463936184,423.0524338603942,466.7044580592094,481.9254704456524,362.9186760609314,566.0576393534825,457.0595881125368,580.8806048404939,497.3392189695792,519.1723751776766,640.4048525816643,477.2583976324784,506.5037054786037,634.2482933047978,311.8713776455462,556.6121542753991,446.36031515187625,543.8302791183833,617.6150990412137,491.5512871489272,441.9052267428249,418.4571783885716,524.4734839878822,483.1348270899156,622.9976430469436,424.6084077486387,515.1475399066105,496.8904766764585,534.2343669565399,627.3802760954953,460.02329028167605,338.1338417212897,397.6205961806861,562.0579360412577,504.6938964425924,490.99787401882185,361.42640522094473,608.1280402149021,625.0793860828061,461.3807860924571,533.0721080527547,438.2654059686041,404.1423947469101,458.527897670574,455.1395339891374,521.8795946235425,507.0979898219253,480.8069403066062,539.6839972923619,376.3262553288048,449.4584840008588,457.77794629094,531.1634175761965,599.8118558066404,526.6736175695605,512.1515175049309,510.02950867087566,391.265475827755,593.667795701298,415.60708684154974,469.0728386308848,485.2247759198016,354.9288423214043,316.6368480069826,464.4449480901343,649.3959165226917,474.0250134637421,551.5600604270005,631.8891574061099,597.712571717935,532.6287977160746,445.5828214197511,599.923826118107,375.9593804443484,581.9074848338294,464.99440569880034,417.2388720613262,570.6460652965347,414.7544520045376,578.2240203394963,405.9289894892562,626.6797542983625,484.019526532353,275.33337527107074,531.6619389143916,null,637.7789690800714,553.8799961236667,487.737916297914,439.090259556184,378.04069830748494,379.23669121225765,537.1252403330948,553.1238781129516,505.69270876964464,421.53806533892566,510.88504978963226,567.1947060080355,697.7071580223301,388.7466322454392,578.3290181441334,734.2765030956431,449.3281448801714,512.049048950007,357.2959144643571,360.2321249322739,395.1204533230811,423.7000169912119,443.809838908192,595.9658196768545,515.56181282673,531.9290881048648,530.135086275425,448.63240577003785,527.6158769330265,453.4582975151477,417.54122634841247,656.9730856638855,546.2313799070295,492.9359193936364,379.9091337212608,511.36670783252816,503.5141998158496,519.4605524660828,611.1476368756989,411.051577817881,403.4130154697376,496.75415064104175,466.0044086550277,528.1286134266179,633.4512532694235,567.044977945725,435.09849105576666,537.9288848306378,452.71044444227255,609.3840752976031,396.196571095286,504.4313726322902,626.6942779410521,493.0120177916112,724.471875749426,713.4666734620962,565.191845594684,551.5737279509531,451.8976478174946,565.9672306647051,367.79190440290176,576.3214434479853,579.428430937895,489.0976077206559,487.18793877496415,621.1188559609227,481.9070413935198,700.9836802505966,599.9911809246321,522.3588837323506,646.8239135994891,568.6131874454458,511.2982453301132,760.651016694891,304.4326151846456,543.3206422153502,399.8665189638588,585.1682144076741,484.2298120008516,425.84365096282784,550.4749492549695,325.7948026305991,364.0350138103205,439.4965351724188,518.2631242651357,693.9884929035138,512.5957017349169,257.7119972438171,524.3243802884606,402.19551340113657,579.8517864859472,476.0712297402995,411.1842387237991,367.7635423918606,400.63495185511874,609.5807074570155,612.4702560910661,366.3818868024921,485.50390002770087,443.3970356135937,479.56906766958593,559.6984891073345,432.821619908345,328.2055040133165,524.371195474605,552.7789350933658,630.6136393266559,424.8107860865061,375.1375471510901,338.93370122470503,574.7400108316077,355.8148512530355,378.7933970693719,555.9997870240727,642.3708192002453,347.8763132730069,330.0823022536812,392.70436827153407,519.3264095596427,612.7537014986588,469.246860523441,460.3199909765118,646.2592859245788,452.7344993500761,446.6617038043286,392.5778737731593,419.1123504148279,485.6714038180176,533.5507459870914,558.6879694815866,433.4151443319604,572.6784321239863,474.34929884413896,587.4556674283482,603.6048816226984,679.8950229235796,454.0284118449107,641.2963611091914,523.1264342532802,451.8644194189002,369.9145129775208,602.1202497949819,589.2837976726473,552.3587431275491,497.82077750643896,645.7084402037391,299.3944141929243,416.3753031772155,371.22410360513095,305.4222122133839,476.194975228927,718.2565398630599,481.6458132080981,449.79721212220096,423.13089618336056,487.2327680525943,486.74414446614657,333.08087339141025,560.1354366122368,711.6577732776482,424.6110882127841,367.8849900241112,502.8467148995792,661.164368621826,422.4424354446581,612.7279103266178,526.4475195141854,462.8816308379672,574.5783776538541,477.8062599329995,431.1886968123592,596.271616771598,367.0456173319431,610.296501886043,573.8382695891298,561.6815935984445,316.9505926044769,353.78339460659504,462.2423973066748,395.7453134872051,461.1794450249759,null,516.2860375640063,495.5435853423662,655.0298841020265,361.96928555187753,383.934415519679,339.21223298208145,438.9769913647519,518.3603954341966,587.0691898597458,513.588510643147,541.1289475020037,318.24228660349524,407.4105058685124,401.5399622814862,530.2762592125852,421.5295114897206,509.0580574626169,460.1838562987829,387.892724619406,560.9377906210058,586.5598064859136,426.3627846258843,479.9191566059864,525.7046566146622,555.4208713451699,530.6830145332789,469.8723866295668,606.3150518198445,364.8521078416688,360.1607811760624,425.1061584752634,365.5608775485973,480.2301228171844,533.4842626492591,477.32136010791135,685.0730652908377,595.8536379669682,510.8785785502258,403.69954917011,493.9642073677289,368.9200953998454,549.8476200686011,601.7678083780327,508.2038913458533,418.9300451928782,564.3682236213733,604.1106609943602,599.2805067162914,527.8807722583516,547.0728669378357,576.8926402006383,491.80281222710687,518.7063021846278,532.6265316415288,685.2165407916625,441.387240111764,315.5189290330409,581.511438083857,585.1566919161073,481.2061489900144,470.46051802314713,535.5436758282534,489.057551961728,731.5095583727039,539.7932304046632,421.26795581123406,480.5991150274344,530.2103988218163,464.1158700554973,633.4727288005175,449.4161187948157,635.3470661306967,537.2492280531452,572.3806506416186,553.9046287651987,616.5106010129126,402.2963187329033,456.8999523716808,505.7472641309476,601.6384957833875,510.8866119550272,556.832097111368,379.109820566372,453.4968121816982,594.6866457350071,567.4636876935175,498.9283393958094,413.1007145169893,437.1817974099192,699.733841022974,351.42908062100173,593.2305193771007,544.1813100407738,438.76371593759967,446.8769875458974,471.9943596721792,461.1406242277295,689.1734888970261,521.7969924671536,603.8875773722033,655.3914031914753,369.7858254085389,509.84188626144095,475.1758576737966,338.0902386001779,480.8061679559197,587.3077703193196,503.3900014110533,518.1278833901422,506.3392986265895,647.3615595713675,453.1382414237832,396.0499847621306,612.5053394264529,618.9336345873538,524.5689545585435,666.0622254538048,657.9549142636489,496.06904958233,524.3839383524133,461.4904899199929,433.998384459224,572.313053851413,451.9264153228441,362.68807581712446,514.8947441637532,427.3695697745074,435.51362445479134,566.2717255663605,452.3723832877561,375.6230235600407,466.4902006464921,465.17802914248296,405.4001656198269,427.74126220629387,358.85061321399496,481.5334626750023,358.68011197072985,375.3118020534009,550.1424624779931,556.543975646635,595.3809465162147,512.5837775336678,665.0473923595973,549.2905454911648,569.8733603076373,550.293400617648,607.4194029570825,617.3773773196228,613.4266291463498,604.5726140930071,516.985813775865,401.8950557292264,448.5535721941784,475.9469962202677,501.89188819006887,498.6284209016306,474.20540259707184,568.6047779754276,698.4104139622187,550.896739913604,481.5243697169256,498.463590852865,515.9009900702896,478.0803033433381,562.8473668138763,578.5238572292519,564.9556812960161,497.4647268379185,526.3425972096086,568.7320592249458,439.6505402427454,624.9925040414096,370.7417775351673,553.0768173295677,414.85687715394846,448.51914415847193,347.191118195517,631.5606939182501,527.057541591376,553.3241975102603,514.4056408574132,444.0546928396544,341.6878955248129,565.2499549384387,436.5549497151016,548.61436053478,501.6220601516152,362.2492810487827,309.35587862899024,435.2615532825878,428.3161487668162,308.2234312505793,536.5906687647899,774.4078544514234,428.84321278579625,552.8891290224539,297.29389413193223,637.858708266419,564.1115379147367,648.0101493228949,404.129286546174,508.82552564170834,539.5404931828281,467.6685222133391,489.1245800656128,571.1882917880894,497.7227482641622,396.9287685858524,414.1107281383127,406.28845394039297,579.5584899835791,406.616067101664,515.2152027559486,564.186814876514,578.5886064550515,408.2862018238552,581.5425266161899,667.4812481039403,622.8655182813751,500.133045805441,379.1313120747972,502.7194800207069,343.73541799243674,441.4847402127855,499.2123511732978,542.3620489701357,547.6240432533422,535.9294754207793,461.5207671175384,529.4394397952852,521.6158872397277,547.7129283710759,584.3811077238026,465.99980649077486,489.9964651504756,634.5322379035152,639.8183622492462,500.7218448019106,514.6937858883663,380.1398491626706,402.7886092221642,507.4431866249745,516.6620498627744,246.73972005907947,345.8514994672988,728.5415864322357,593.4748072346498,623.0544955505633,466.7870243436057,524.9670294677807,695.7728281714869,498.1900003268827,420.2389007506976,449.2596750838818,518.3487726828051,608.6446635232969,476.08427343745393,425.4599912007873,388.02606419840566,595.5444319135589,606.2179593555021,502.3583131601892,470.96358489786303,565.0768903509581,570.1685123652715,505.6318839857883,443.1869176626926,387.6460558788804,592.7579164984965,528.145469496525,610.0917076356588,543.3237843031621,651.3961288610681,552.9145202623566,662.9250462337401,571.7062626221265,521.7744574040415,565.9362004993941,526.2924796076577,525.5561777268364,547.1290144613744,556.3815691313789,643.552572050058,310.1908531730263,316.973734928554,581.2475743350167,675.7602689783545,637.2716109929202,503.2706587604634,386.8315800060643,449.2279729320876,624.1561984672744,null,436.669659071071,582.4550662975032,523.1597791418912,454.013630390762,458.3300266195937,553.1340606815943,575.6865675909281,399.7469088068518,479.0377818356649,377.13616235703495,611.8475488365282,457.6956861393197,320.68694050820136,607.664730777356,431.4798732315574,536.0059362422857,487.2531004481291,357.11605236061723,406.9749600643883,367.8845614688098,352.2825871829781,428.43268623934017,674.3110204717076,455.035335389043,493.5381876707219,323.74660823424256,570.8743858811187,522.353586759007,512.3707856660071,344.4453879977802,603.4429248374895,494.1976924767502,623.1044501461381,615.5627227003581,501.0952022102914,460.4308638029236,511.1937567124921,619.1047848619293,425.2042215634771,439.3866776326462,609.7226947958968,520.9731598310524,564.9102229349046,574.5730747304841,273.4326379844824,416.5796721407011,414.0040053422642,602.5491467107406,501.81396345804,null,545.5852027603559,363.1143358473566,587.1013486660677,535.983125681759,357.04441400326664,543.9185096206758,487.4695239600374,491.0377341596269,618.1234169612334,442.9335794860026,528.4401545262326,492.8732710472319,497.0438764547785,606.2973619885972,368.90204455683545,463.83315595884665,411.35636172881794,670.2123763314803,408.5223636229996,484.43638366363615,492.6419263025697,381.8529899454828,613.9599526151189,327.3602412914911,491.7924066257116,585.4441278525176,380.3945668981375,554.7626665975166,493.8566807467015,526.2107461997405,385.3965598752692,484.4615914773384,332.22764351726505,564.6720717082741,649.4400682453601,424.727789864844,618.0869511093333,511.89276393719206,331.1216882835573,558.1640943139216,493.5696494772566,396.05573682777606,631.3714016891532,478.4448661860958,628.5449945553794,499.75474684304015,506.82347359944407,null,478.3582379162217,460.542508237649,552.6266595288025,519.608167509648,456.9876155138211,562.6259752623373,560.9872101282104,588.2426814682234,579.4306547224112,490.6889113372992,372.777435623285,677.2762868619468,420.76621322790896,478.0863680719154,608.7991805065571,498.40036413961457,351.0900891824846,604.796523497614,584.2941507757286,552.3685963906154,514.8563640360836,324.75278473266786,551.6500996267873,646.4213711515152,412.0162778546955,542.0558131371063,376.82027574959096,485.6554219902819,530.001044317915,531.4823722132704,502.9017022067338,320.22783440806137,410.1722868892717,307.4926247103735,414.3215432846649,429.4725952238923,611.3728069058627,579.498008236646,645.8481536313017,528.2198725865861,487.2993308145905,530.9931459235912,374.1976028222568,453.8258268427462,535.0456265906083,381.3683267833461,657.7186800834027,403.062563714416,502.4059214810828,612.4871622053737,473.14373027270807,648.49853653127,477.5930158742664,478.8571900724637,469.1131060543613,558.8774158715853,560.6780518579453,484.5601050438824,602.9701102968114,501.8883171716771,296.9898467523172,409.95257742757775,429.2145201425672,529.7197158482275,503.21614080888776,656.6547446078308,378.8143046473172,627.6401641581881,420.3567696783402,347.1952143642697,559.9610884667389,437.9040143613833,382.4819857252664,446.6125099210281,578.9434831748149,427.85700337884055,563.5836374859741,603.5586958725381,445.9404665779002,577.3166504922734,453.9716661022563,367.1609664246921,591.503582140253,404.9031621848372,403.9032741282778,425.4826051100135,657.8001981385914,664.5087763153145,503.0504487642296,518.6675614514002,544.4987832475178,409.6767581547419,338.5727093977407,427.4869950555411,349.71799435208027,434.3865431630347,549.9363662656307,524.5896561047118,502.9094733167608,342.05906592218327,622.0320501070222,654.8391207616507,434.6937537437557,470.554637500956,380.4770786125914,560.3817655002244,549.2573511044259,494.2516391505415,450.4248441539551,594.8404770774418,412.9068767078235,433.42313493255097,512.0497922742833,478.0481180067042,413.2997399109179,415.84564074123193,511.5858341897693,472.8914243365848,657.9317362206364,560.6640923157407,587.743082829888,472.0676642650616,390.8626783254045,329.0670351290492,526.7267308621437,452.1023860774978,413.8722623378417,666.4417081533038,487.76923069610143,560.6378551057595,449.81047625964646,499.9483098716154,429.2677210625381,508.9117648312799,546.2039332153029,621.5970322630156,413.8417803555996,449.0260696578263,447.0531904319864,595.4864806458586,480.8773329570647,667.708564873697,594.6095887530881,600.0432909105972,508.1997820470308,359.1950799155941,365.8832807057999,576.7384252541588,515.3251905810469,423.65453318503705,543.49227763603,577.2929236694818,421.058946419443,625.0801846230726,434.2752828285205,657.7342506736767,518.3561442572383,481.8628060691199,476.5260782558536,457.3131860879925,456.7209924867339,403.315575615986,599.3670934765121],\"y0\":\" \",\"yaxis\":\"y2\",\"type\":\"box\"}],                        {\"template\":{\"data\":{\"barpolar\":[{\"marker\":{\"line\":{\"color\":\"rgb(17,17,17)\",\"width\":0.5},\"pattern\":{\"fillmode\":\"overlay\",\"size\":10,\"solidity\":0.2}},\"type\":\"barpolar\"}],\"bar\":[{\"error_x\":{\"color\":\"#f2f5fa\"},\"error_y\":{\"color\":\"#f2f5fa\"},\"marker\":{\"line\":{\"color\":\"rgb(17,17,17)\",\"width\":0.5},\"pattern\":{\"fillmode\":\"overlay\",\"size\":10,\"solidity\":0.2}},\"type\":\"bar\"}],\"carpet\":[{\"aaxis\":{\"endlinecolor\":\"#A2B1C6\",\"gridcolor\":\"#506784\",\"linecolor\":\"#506784\",\"minorgridcolor\":\"#506784\",\"startlinecolor\":\"#A2B1C6\"},\"baxis\":{\"endlinecolor\":\"#A2B1C6\",\"gridcolor\":\"#506784\",\"linecolor\":\"#506784\",\"minorgridcolor\":\"#506784\",\"startlinecolor\":\"#A2B1C6\"},\"type\":\"carpet\"}],\"choropleth\":[{\"colorbar\":{\"outlinewidth\":0,\"ticks\":\"\"},\"type\":\"choropleth\"}],\"contourcarpet\":[{\"colorbar\":{\"outlinewidth\":0,\"ticks\":\"\"},\"type\":\"contourcarpet\"}],\"contour\":[{\"colorbar\":{\"outlinewidth\":0,\"ticks\":\"\"},\"colorscale\":[[0.0,\"#0d0887\"],[0.1111111111111111,\"#46039f\"],[0.2222222222222222,\"#7201a8\"],[0.3333333333333333,\"#9c179e\"],[0.4444444444444444,\"#bd3786\"],[0.5555555555555556,\"#d8576b\"],[0.6666666666666666,\"#ed7953\"],[0.7777777777777778,\"#fb9f3a\"],[0.8888888888888888,\"#fdca26\"],[1.0,\"#f0f921\"]],\"type\":\"contour\"}],\"heatmapgl\":[{\"colorbar\":{\"outlinewidth\":0,\"ticks\":\"\"},\"colorscale\":[[0.0,\"#0d0887\"],[0.1111111111111111,\"#46039f\"],[0.2222222222222222,\"#7201a8\"],[0.3333333333333333,\"#9c179e\"],[0.4444444444444444,\"#bd3786\"],[0.5555555555555556,\"#d8576b\"],[0.6666666666666666,\"#ed7953\"],[0.7777777777777778,\"#fb9f3a\"],[0.8888888888888888,\"#fdca26\"],[1.0,\"#f0f921\"]],\"type\":\"heatmapgl\"}],\"heatmap\":[{\"colorbar\":{\"outlinewidth\":0,\"ticks\":\"\"},\"colorscale\":[[0.0,\"#0d0887\"],[0.1111111111111111,\"#46039f\"],[0.2222222222222222,\"#7201a8\"],[0.3333333333333333,\"#9c179e\"],[0.4444444444444444,\"#bd3786\"],[0.5555555555555556,\"#d8576b\"],[0.6666666666666666,\"#ed7953\"],[0.7777777777777778,\"#fb9f3a\"],[0.8888888888888888,\"#fdca26\"],[1.0,\"#f0f921\"]],\"type\":\"heatmap\"}],\"histogram2dcontour\":[{\"colorbar\":{\"outlinewidth\":0,\"ticks\":\"\"},\"colorscale\":[[0.0,\"#0d0887\"],[0.1111111111111111,\"#46039f\"],[0.2222222222222222,\"#7201a8\"],[0.3333333333333333,\"#9c179e\"],[0.4444444444444444,\"#bd3786\"],[0.5555555555555556,\"#d8576b\"],[0.6666666666666666,\"#ed7953\"],[0.7777777777777778,\"#fb9f3a\"],[0.8888888888888888,\"#fdca26\"],[1.0,\"#f0f921\"]],\"type\":\"histogram2dcontour\"}],\"histogram2d\":[{\"colorbar\":{\"outlinewidth\":0,\"ticks\":\"\"},\"colorscale\":[[0.0,\"#0d0887\"],[0.1111111111111111,\"#46039f\"],[0.2222222222222222,\"#7201a8\"],[0.3333333333333333,\"#9c179e\"],[0.4444444444444444,\"#bd3786\"],[0.5555555555555556,\"#d8576b\"],[0.6666666666666666,\"#ed7953\"],[0.7777777777777778,\"#fb9f3a\"],[0.8888888888888888,\"#fdca26\"],[1.0,\"#f0f921\"]],\"type\":\"histogram2d\"}],\"histogram\":[{\"marker\":{\"pattern\":{\"fillmode\":\"overlay\",\"size\":10,\"solidity\":0.2}},\"type\":\"histogram\"}],\"mesh3d\":[{\"colorbar\":{\"outlinewidth\":0,\"ticks\":\"\"},\"type\":\"mesh3d\"}],\"parcoords\":[{\"line\":{\"colorbar\":{\"outlinewidth\":0,\"ticks\":\"\"}},\"type\":\"parcoords\"}],\"pie\":[{\"automargin\":true,\"type\":\"pie\"}],\"scatter3d\":[{\"line\":{\"colorbar\":{\"outlinewidth\":0,\"ticks\":\"\"}},\"marker\":{\"colorbar\":{\"outlinewidth\":0,\"ticks\":\"\"}},\"type\":\"scatter3d\"}],\"scattercarpet\":[{\"marker\":{\"colorbar\":{\"outlinewidth\":0,\"ticks\":\"\"}},\"type\":\"scattercarpet\"}],\"scattergeo\":[{\"marker\":{\"colorbar\":{\"outlinewidth\":0,\"ticks\":\"\"}},\"type\":\"scattergeo\"}],\"scattergl\":[{\"marker\":{\"line\":{\"color\":\"#283442\"}},\"type\":\"scattergl\"}],\"scattermapbox\":[{\"marker\":{\"colorbar\":{\"outlinewidth\":0,\"ticks\":\"\"}},\"type\":\"scattermapbox\"}],\"scatterpolargl\":[{\"marker\":{\"colorbar\":{\"outlinewidth\":0,\"ticks\":\"\"}},\"type\":\"scatterpolargl\"}],\"scatterpolar\":[{\"marker\":{\"colorbar\":{\"outlinewidth\":0,\"ticks\":\"\"}},\"type\":\"scatterpolar\"}],\"scatter\":[{\"marker\":{\"line\":{\"color\":\"#283442\"}},\"type\":\"scatter\"}],\"scatterternary\":[{\"marker\":{\"colorbar\":{\"outlinewidth\":0,\"ticks\":\"\"}},\"type\":\"scatterternary\"}],\"surface\":[{\"colorbar\":{\"outlinewidth\":0,\"ticks\":\"\"},\"colorscale\":[[0.0,\"#0d0887\"],[0.1111111111111111,\"#46039f\"],[0.2222222222222222,\"#7201a8\"],[0.3333333333333333,\"#9c179e\"],[0.4444444444444444,\"#bd3786\"],[0.5555555555555556,\"#d8576b\"],[0.6666666666666666,\"#ed7953\"],[0.7777777777777778,\"#fb9f3a\"],[0.8888888888888888,\"#fdca26\"],[1.0,\"#f0f921\"]],\"type\":\"surface\"}],\"table\":[{\"cells\":{\"fill\":{\"color\":\"#506784\"},\"line\":{\"color\":\"rgb(17,17,17)\"}},\"header\":{\"fill\":{\"color\":\"#2a3f5f\"},\"line\":{\"color\":\"rgb(17,17,17)\"}},\"type\":\"table\"}]},\"layout\":{\"annotationdefaults\":{\"arrowcolor\":\"#f2f5fa\",\"arrowhead\":0,\"arrowwidth\":1},\"autotypenumbers\":\"strict\",\"coloraxis\":{\"colorbar\":{\"outlinewidth\":0,\"ticks\":\"\"}},\"colorscale\":{\"diverging\":[[0,\"#8e0152\"],[0.1,\"#c51b7d\"],[0.2,\"#de77ae\"],[0.3,\"#f1b6da\"],[0.4,\"#fde0ef\"],[0.5,\"#f7f7f7\"],[0.6,\"#e6f5d0\"],[0.7,\"#b8e186\"],[0.8,\"#7fbc41\"],[0.9,\"#4d9221\"],[1,\"#276419\"]],\"sequential\":[[0.0,\"#0d0887\"],[0.1111111111111111,\"#46039f\"],[0.2222222222222222,\"#7201a8\"],[0.3333333333333333,\"#9c179e\"],[0.4444444444444444,\"#bd3786\"],[0.5555555555555556,\"#d8576b\"],[0.6666666666666666,\"#ed7953\"],[0.7777777777777778,\"#fb9f3a\"],[0.8888888888888888,\"#fdca26\"],[1.0,\"#f0f921\"]],\"sequentialminus\":[[0.0,\"#0d0887\"],[0.1111111111111111,\"#46039f\"],[0.2222222222222222,\"#7201a8\"],[0.3333333333333333,\"#9c179e\"],[0.4444444444444444,\"#bd3786\"],[0.5555555555555556,\"#d8576b\"],[0.6666666666666666,\"#ed7953\"],[0.7777777777777778,\"#fb9f3a\"],[0.8888888888888888,\"#fdca26\"],[1.0,\"#f0f921\"]]},\"colorway\":[\"#636efa\",\"#EF553B\",\"#00cc96\",\"#ab63fa\",\"#FFA15A\",\"#19d3f3\",\"#FF6692\",\"#B6E880\",\"#FF97FF\",\"#FECB52\"],\"font\":{\"color\":\"#f2f5fa\"},\"geo\":{\"bgcolor\":\"rgb(17,17,17)\",\"lakecolor\":\"rgb(17,17,17)\",\"landcolor\":\"rgb(17,17,17)\",\"showlakes\":true,\"showland\":true,\"subunitcolor\":\"#506784\"},\"hoverlabel\":{\"align\":\"left\"},\"hovermode\":\"closest\",\"mapbox\":{\"style\":\"dark\"},\"paper_bgcolor\":\"rgb(17,17,17)\",\"plot_bgcolor\":\"rgb(17,17,17)\",\"polar\":{\"angularaxis\":{\"gridcolor\":\"#506784\",\"linecolor\":\"#506784\",\"ticks\":\"\"},\"bgcolor\":\"rgb(17,17,17)\",\"radialaxis\":{\"gridcolor\":\"#506784\",\"linecolor\":\"#506784\",\"ticks\":\"\"}},\"scene\":{\"xaxis\":{\"backgroundcolor\":\"rgb(17,17,17)\",\"gridcolor\":\"#506784\",\"gridwidth\":2,\"linecolor\":\"#506784\",\"showbackground\":true,\"ticks\":\"\",\"zerolinecolor\":\"#C8D4E3\"},\"yaxis\":{\"backgroundcolor\":\"rgb(17,17,17)\",\"gridcolor\":\"#506784\",\"gridwidth\":2,\"linecolor\":\"#506784\",\"showbackground\":true,\"ticks\":\"\",\"zerolinecolor\":\"#C8D4E3\"},\"zaxis\":{\"backgroundcolor\":\"rgb(17,17,17)\",\"gridcolor\":\"#506784\",\"gridwidth\":2,\"linecolor\":\"#506784\",\"showbackground\":true,\"ticks\":\"\",\"zerolinecolor\":\"#C8D4E3\"}},\"shapedefaults\":{\"line\":{\"color\":\"#f2f5fa\"}},\"sliderdefaults\":{\"bgcolor\":\"#C8D4E3\",\"bordercolor\":\"rgb(17,17,17)\",\"borderwidth\":1,\"tickwidth\":0},\"ternary\":{\"aaxis\":{\"gridcolor\":\"#506784\",\"linecolor\":\"#506784\",\"ticks\":\"\"},\"baxis\":{\"gridcolor\":\"#506784\",\"linecolor\":\"#506784\",\"ticks\":\"\"},\"bgcolor\":\"rgb(17,17,17)\",\"caxis\":{\"gridcolor\":\"#506784\",\"linecolor\":\"#506784\",\"ticks\":\"\"}},\"title\":{\"x\":0.05},\"updatemenudefaults\":{\"bgcolor\":\"#506784\",\"borderwidth\":0},\"xaxis\":{\"automargin\":true,\"gridcolor\":\"#283442\",\"linecolor\":\"#506784\",\"ticks\":\"\",\"title\":{\"standoff\":15},\"zerolinecolor\":\"#283442\",\"zerolinewidth\":2},\"yaxis\":{\"automargin\":true,\"gridcolor\":\"#283442\",\"linecolor\":\"#506784\",\"ticks\":\"\",\"title\":{\"standoff\":15},\"zerolinecolor\":\"#283442\",\"zerolinewidth\":2}}},\"xaxis\":{\"anchor\":\"y\",\"domain\":[0.0,0.2888888888888889]},\"yaxis\":{\"anchor\":\"x\",\"domain\":[0.0,1.0]},\"xaxis2\":{\"anchor\":\"y2\",\"domain\":[0.35555555555555557,0.6444444444444445]},\"yaxis2\":{\"anchor\":\"x2\",\"domain\":[0.0,1.0]},\"xaxis3\":{\"anchor\":\"y3\",\"domain\":[0.7111111111111111,1.0]},\"yaxis3\":{\"anchor\":\"x3\",\"domain\":[0.0,1.0]},\"annotations\":[{\"font\":{\"size\":16},\"showarrow\":false,\"text\":\"feature1\",\"x\":0.14444444444444446,\"xanchor\":\"center\",\"xref\":\"paper\",\"y\":1.0,\"yanchor\":\"bottom\",\"yref\":\"paper\"},{\"font\":{\"size\":16},\"showarrow\":false,\"text\":\"feature2\",\"x\":0.5,\"xanchor\":\"center\",\"xref\":\"paper\",\"y\":1.0,\"yanchor\":\"bottom\",\"yref\":\"paper\"}],\"font\":{\"color\":\"white\",\"size\":20},\"title\":{\"x\":0.5,\"y\":0.9},\"barmode\":\"overlay\",\"height\":400,\"width\":1500},                        {\"responsive\": true}                    ).then(function(){\n",
              "                            \n",
              "var gd = document.getElementById('ae89a07a-8fc2-4a21-978c-4afa5517dd21');\n",
              "var x = new MutationObserver(function (mutations, observer) {{\n",
              "        var display = window.getComputedStyle(gd).display;\n",
              "        if (!display || display === 'none') {{\n",
              "            console.log([gd, 'removed!']);\n",
              "            Plotly.purge(gd);\n",
              "            observer.disconnect();\n",
              "        }}\n",
              "}});\n",
              "\n",
              "// Listen for the removal of the full notebook cells\n",
              "var notebookContainer = gd.closest('#notebook-container');\n",
              "if (notebookContainer) {{\n",
              "    x.observe(notebookContainer, {childList: true});\n",
              "}}\n",
              "\n",
              "// Listen for the clearing of the current output cell\n",
              "var outputEl = gd.closest('.output');\n",
              "if (outputEl) {{\n",
              "    x.observe(outputEl, {childList: true});\n",
              "}}\n",
              "\n",
              "                        })                };                            </script>        </div>\n",
              "</body>\n",
              "</html>"
            ]
          },
          "metadata": {}
        }
      ],
      "source": [
        "aka_plot.Plot_box_Features(df,df_filtered,corr_tmp=range(df_filtered.shape[1]))"
      ]
    },
    {
      "cell_type": "markdown",
      "metadata": {
        "id": "x5di4sbnYQ7y"
      },
      "source": [
        "# Search for the most effective ML algorithm to learn the dataset"
      ]
    },
    {
      "cell_type": "code",
      "source": [
        "pre_proc = 'X'                                # Choose between 'XY' to standardize both 'X' and 'Y',\n",
        "                                              #                'X' to standardize only 'X',\n",
        "                                              #                'Y' to standardize only 'Y',\n",
        "\n",
        "X_train, X_test, y_train, y_test = aka_learn.Learning_data(df_filtered,pre_proc)"
      ],
      "metadata": {
        "id": "xyByRh347UbB"
      },
      "execution_count": 109,
      "outputs": []
    },
    {
      "cell_type": "markdown",
      "source": [
        "## Linear Regression"
      ],
      "metadata": {
        "id": "vMen54E4UXLH"
      }
    },
    {
      "cell_type": "code",
      "source": [
        "\n",
        "from sklearn.linear_model import LinearRegression\n",
        "from scipy import stats\n",
        "from sklearn.metrics import r2_score\n",
        "\n",
        "\n",
        "clf = LinearRegression()\n",
        "clf.fit(X_train,y_train)\n",
        "y_pred = clf.predict(X_test)\n",
        "print(\"R-squared score (Linear Regression):\", r2_score(y_test, y_pred))"
      ],
      "metadata": {
        "id": "60Hh9QmUur7I",
        "colab": {
          "base_uri": "https://localhost:8080/"
        },
        "outputId": "9f7e5013-7b79-41c3-c0ee-8897cc86e136"
      },
      "execution_count": 110,
      "outputs": [
        {
          "output_type": "stream",
          "name": "stdout",
          "text": [
            "R-squared score (Linear Regression): 0.21909939393706557\n"
          ]
        }
      ]
    },
    {
      "cell_type": "code",
      "source": [
        "params = np.append(clf.intercept_,clf.coef_)\n",
        "print(params)\n",
        "y_pred = clf.predict(X_train)\n",
        "feat_name = df_filtered.columns[:-1]\n",
        "\n",
        "aka_regression_analysis().plot_regression_summary(X_train, y_train, y_pred, params, feat_name)"
      ],
      "metadata": {
        "colab": {
          "base_uri": "https://localhost:8080/",
          "height": 577
        },
        "id": "lyX2qb_2EKmY",
        "outputId": "18e7776d-c700-4cf7-824b-a13e42980829"
      },
      "execution_count": 111,
      "outputs": [
        {
          "output_type": "stream",
          "name": "stdout",
          "text": [
            "[501.16478158  39.03272485]\n",
            "[3.17548085 3.20069893]\n"
          ]
        },
        {
          "output_type": "display_data",
          "data": {
            "text/html": [
              "<html>\n",
              "<head><meta charset=\"utf-8\" /></head>\n",
              "<body>\n",
              "    <div>            <script src=\"https://cdnjs.cloudflare.com/ajax/libs/mathjax/2.7.5/MathJax.js?config=TeX-AMS-MML_SVG\"></script><script type=\"text/javascript\">if (window.MathJax && window.MathJax.Hub && window.MathJax.Hub.Config) {window.MathJax.Hub.Config({SVG: {font: \"STIX-Web\"}});}</script>                <script type=\"text/javascript\">window.PlotlyConfig = {MathJaxConfig: 'local'};</script>\n",
              "        <script charset=\"utf-8\" src=\"https://cdn.plot.ly/plotly-2.24.1.min.js\"></script>                <div id=\"ea23524a-b433-493c-9de9-ea7b2b4cc843\" class=\"plotly-graph-div\" style=\"height:525px; width:100%;\"></div>            <script type=\"text/javascript\">                                    window.PLOTLYENV=window.PLOTLYENV || {};                                    if (document.getElementById(\"ea23524a-b433-493c-9de9-ea7b2b4cc843\")) {                    Plotly.newPlot(                        \"ea23524a-b433-493c-9de9-ea7b2b4cc843\",                        [{\"colorscale\":[[0.0,\"#440154\"],[0.1111111111111111,\"#482878\"],[0.2222222222222222,\"#3e4989\"],[0.3333333333333333,\"#31688e\"],[0.4444444444444444,\"#26828e\"],[0.5555555555555556,\"#1f9e89\"],[0.6666666666666666,\"#35b779\"],[0.7777777777777778,\"#6ece58\"],[0.8888888888888888,\"#b5de2b\"],[1.0,\"#fde725\"]],\"reversescale\":false,\"showscale\":false,\"x\":[\"Coef\",\"str err\",\"t values\",\"P \\u003e |t|\",\"[0.025  \",\"   0.975]\"],\"y\":[\"Constant\",\"feature1\"],\"z\":[[501.1648,3.175,157.823,0.0,494.931,507.399],[39.0327,3.201,12.195,0.0,32.748,45.318]],\"type\":\"heatmap\"}],                        {\"annotations\":[{\"font\":{\"color\":\"#000000\"},\"showarrow\":false,\"text\":\"501.1648\",\"x\":\"Coef\",\"xref\":\"x\",\"y\":\"Constant\",\"yref\":\"y\"},{\"font\":{\"color\":\"#FFFFFF\"},\"showarrow\":false,\"text\":\"3.175\",\"x\":\"str err\",\"xref\":\"x\",\"y\":\"Constant\",\"yref\":\"y\"},{\"font\":{\"color\":\"#FFFFFF\"},\"showarrow\":false,\"text\":\"157.823\",\"x\":\"t values\",\"xref\":\"x\",\"y\":\"Constant\",\"yref\":\"y\"},{\"font\":{\"color\":\"#FFFFFF\"},\"showarrow\":false,\"text\":\"0.0\",\"x\":\"P \\u003e |t|\",\"xref\":\"x\",\"y\":\"Constant\",\"yref\":\"y\"},{\"font\":{\"color\":\"#000000\"},\"showarrow\":false,\"text\":\"494.931\",\"x\":\"[0.025  \",\"xref\":\"x\",\"y\":\"Constant\",\"yref\":\"y\"},{\"font\":{\"color\":\"#000000\"},\"showarrow\":false,\"text\":\"507.399\",\"x\":\"   0.975]\",\"xref\":\"x\",\"y\":\"Constant\",\"yref\":\"y\"},{\"font\":{\"color\":\"#FFFFFF\"},\"showarrow\":false,\"text\":\"39.0327\",\"x\":\"Coef\",\"xref\":\"x\",\"y\":\"feature1\",\"yref\":\"y\"},{\"font\":{\"color\":\"#FFFFFF\"},\"showarrow\":false,\"text\":\"3.201\",\"x\":\"str err\",\"xref\":\"x\",\"y\":\"feature1\",\"yref\":\"y\"},{\"font\":{\"color\":\"#FFFFFF\"},\"showarrow\":false,\"text\":\"12.195\",\"x\":\"t values\",\"xref\":\"x\",\"y\":\"feature1\",\"yref\":\"y\"},{\"font\":{\"color\":\"#FFFFFF\"},\"showarrow\":false,\"text\":\"0.0\",\"x\":\"P \\u003e |t|\",\"xref\":\"x\",\"y\":\"feature1\",\"yref\":\"y\"},{\"font\":{\"color\":\"#FFFFFF\"},\"showarrow\":false,\"text\":\"32.748\",\"x\":\"[0.025  \",\"xref\":\"x\",\"y\":\"feature1\",\"yref\":\"y\"},{\"font\":{\"color\":\"#FFFFFF\"},\"showarrow\":false,\"text\":\"45.318\",\"x\":\"   0.975]\",\"xref\":\"x\",\"y\":\"feature1\",\"yref\":\"y\"}],\"xaxis\":{\"dtick\":1,\"gridcolor\":\"rgb(0, 0, 0)\",\"side\":\"top\",\"ticks\":\"\",\"title\":{\"font\":{\"size\":14},\"standoff\":25}},\"yaxis\":{\"dtick\":1,\"ticks\":\"\",\"ticksuffix\":\"  \",\"title\":{\"font\":{\"size\":14},\"standoff\":25}},\"template\":{\"data\":{\"barpolar\":[{\"marker\":{\"line\":{\"color\":\"rgb(17,17,17)\",\"width\":0.5},\"pattern\":{\"fillmode\":\"overlay\",\"size\":10,\"solidity\":0.2}},\"type\":\"barpolar\"}],\"bar\":[{\"error_x\":{\"color\":\"#f2f5fa\"},\"error_y\":{\"color\":\"#f2f5fa\"},\"marker\":{\"line\":{\"color\":\"rgb(17,17,17)\",\"width\":0.5},\"pattern\":{\"fillmode\":\"overlay\",\"size\":10,\"solidity\":0.2}},\"type\":\"bar\"}],\"carpet\":[{\"aaxis\":{\"endlinecolor\":\"#A2B1C6\",\"gridcolor\":\"#506784\",\"linecolor\":\"#506784\",\"minorgridcolor\":\"#506784\",\"startlinecolor\":\"#A2B1C6\"},\"baxis\":{\"endlinecolor\":\"#A2B1C6\",\"gridcolor\":\"#506784\",\"linecolor\":\"#506784\",\"minorgridcolor\":\"#506784\",\"startlinecolor\":\"#A2B1C6\"},\"type\":\"carpet\"}],\"choropleth\":[{\"colorbar\":{\"outlinewidth\":0,\"ticks\":\"\"},\"type\":\"choropleth\"}],\"contourcarpet\":[{\"colorbar\":{\"outlinewidth\":0,\"ticks\":\"\"},\"type\":\"contourcarpet\"}],\"contour\":[{\"colorbar\":{\"outlinewidth\":0,\"ticks\":\"\"},\"colorscale\":[[0.0,\"#0d0887\"],[0.1111111111111111,\"#46039f\"],[0.2222222222222222,\"#7201a8\"],[0.3333333333333333,\"#9c179e\"],[0.4444444444444444,\"#bd3786\"],[0.5555555555555556,\"#d8576b\"],[0.6666666666666666,\"#ed7953\"],[0.7777777777777778,\"#fb9f3a\"],[0.8888888888888888,\"#fdca26\"],[1.0,\"#f0f921\"]],\"type\":\"contour\"}],\"heatmapgl\":[{\"colorbar\":{\"outlinewidth\":0,\"ticks\":\"\"},\"colorscale\":[[0.0,\"#0d0887\"],[0.1111111111111111,\"#46039f\"],[0.2222222222222222,\"#7201a8\"],[0.3333333333333333,\"#9c179e\"],[0.4444444444444444,\"#bd3786\"],[0.5555555555555556,\"#d8576b\"],[0.6666666666666666,\"#ed7953\"],[0.7777777777777778,\"#fb9f3a\"],[0.8888888888888888,\"#fdca26\"],[1.0,\"#f0f921\"]],\"type\":\"heatmapgl\"}],\"heatmap\":[{\"colorbar\":{\"outlinewidth\":0,\"ticks\":\"\"},\"colorscale\":[[0.0,\"#0d0887\"],[0.1111111111111111,\"#46039f\"],[0.2222222222222222,\"#7201a8\"],[0.3333333333333333,\"#9c179e\"],[0.4444444444444444,\"#bd3786\"],[0.5555555555555556,\"#d8576b\"],[0.6666666666666666,\"#ed7953\"],[0.7777777777777778,\"#fb9f3a\"],[0.8888888888888888,\"#fdca26\"],[1.0,\"#f0f921\"]],\"type\":\"heatmap\"}],\"histogram2dcontour\":[{\"colorbar\":{\"outlinewidth\":0,\"ticks\":\"\"},\"colorscale\":[[0.0,\"#0d0887\"],[0.1111111111111111,\"#46039f\"],[0.2222222222222222,\"#7201a8\"],[0.3333333333333333,\"#9c179e\"],[0.4444444444444444,\"#bd3786\"],[0.5555555555555556,\"#d8576b\"],[0.6666666666666666,\"#ed7953\"],[0.7777777777777778,\"#fb9f3a\"],[0.8888888888888888,\"#fdca26\"],[1.0,\"#f0f921\"]],\"type\":\"histogram2dcontour\"}],\"histogram2d\":[{\"colorbar\":{\"outlinewidth\":0,\"ticks\":\"\"},\"colorscale\":[[0.0,\"#0d0887\"],[0.1111111111111111,\"#46039f\"],[0.2222222222222222,\"#7201a8\"],[0.3333333333333333,\"#9c179e\"],[0.4444444444444444,\"#bd3786\"],[0.5555555555555556,\"#d8576b\"],[0.6666666666666666,\"#ed7953\"],[0.7777777777777778,\"#fb9f3a\"],[0.8888888888888888,\"#fdca26\"],[1.0,\"#f0f921\"]],\"type\":\"histogram2d\"}],\"histogram\":[{\"marker\":{\"pattern\":{\"fillmode\":\"overlay\",\"size\":10,\"solidity\":0.2}},\"type\":\"histogram\"}],\"mesh3d\":[{\"colorbar\":{\"outlinewidth\":0,\"ticks\":\"\"},\"type\":\"mesh3d\"}],\"parcoords\":[{\"line\":{\"colorbar\":{\"outlinewidth\":0,\"ticks\":\"\"}},\"type\":\"parcoords\"}],\"pie\":[{\"automargin\":true,\"type\":\"pie\"}],\"scatter3d\":[{\"line\":{\"colorbar\":{\"outlinewidth\":0,\"ticks\":\"\"}},\"marker\":{\"colorbar\":{\"outlinewidth\":0,\"ticks\":\"\"}},\"type\":\"scatter3d\"}],\"scattercarpet\":[{\"marker\":{\"colorbar\":{\"outlinewidth\":0,\"ticks\":\"\"}},\"type\":\"scattercarpet\"}],\"scattergeo\":[{\"marker\":{\"colorbar\":{\"outlinewidth\":0,\"ticks\":\"\"}},\"type\":\"scattergeo\"}],\"scattergl\":[{\"marker\":{\"line\":{\"color\":\"#283442\"}},\"type\":\"scattergl\"}],\"scattermapbox\":[{\"marker\":{\"colorbar\":{\"outlinewidth\":0,\"ticks\":\"\"}},\"type\":\"scattermapbox\"}],\"scatterpolargl\":[{\"marker\":{\"colorbar\":{\"outlinewidth\":0,\"ticks\":\"\"}},\"type\":\"scatterpolargl\"}],\"scatterpolar\":[{\"marker\":{\"colorbar\":{\"outlinewidth\":0,\"ticks\":\"\"}},\"type\":\"scatterpolar\"}],\"scatter\":[{\"marker\":{\"line\":{\"color\":\"#283442\"}},\"type\":\"scatter\"}],\"scatterternary\":[{\"marker\":{\"colorbar\":{\"outlinewidth\":0,\"ticks\":\"\"}},\"type\":\"scatterternary\"}],\"surface\":[{\"colorbar\":{\"outlinewidth\":0,\"ticks\":\"\"},\"colorscale\":[[0.0,\"#0d0887\"],[0.1111111111111111,\"#46039f\"],[0.2222222222222222,\"#7201a8\"],[0.3333333333333333,\"#9c179e\"],[0.4444444444444444,\"#bd3786\"],[0.5555555555555556,\"#d8576b\"],[0.6666666666666666,\"#ed7953\"],[0.7777777777777778,\"#fb9f3a\"],[0.8888888888888888,\"#fdca26\"],[1.0,\"#f0f921\"]],\"type\":\"surface\"}],\"table\":[{\"cells\":{\"fill\":{\"color\":\"#506784\"},\"line\":{\"color\":\"rgb(17,17,17)\"}},\"header\":{\"fill\":{\"color\":\"#2a3f5f\"},\"line\":{\"color\":\"rgb(17,17,17)\"}},\"type\":\"table\"}]},\"layout\":{\"annotationdefaults\":{\"arrowcolor\":\"#f2f5fa\",\"arrowhead\":0,\"arrowwidth\":1},\"autotypenumbers\":\"strict\",\"coloraxis\":{\"colorbar\":{\"outlinewidth\":0,\"ticks\":\"\"}},\"colorscale\":{\"diverging\":[[0,\"#8e0152\"],[0.1,\"#c51b7d\"],[0.2,\"#de77ae\"],[0.3,\"#f1b6da\"],[0.4,\"#fde0ef\"],[0.5,\"#f7f7f7\"],[0.6,\"#e6f5d0\"],[0.7,\"#b8e186\"],[0.8,\"#7fbc41\"],[0.9,\"#4d9221\"],[1,\"#276419\"]],\"sequential\":[[0.0,\"#0d0887\"],[0.1111111111111111,\"#46039f\"],[0.2222222222222222,\"#7201a8\"],[0.3333333333333333,\"#9c179e\"],[0.4444444444444444,\"#bd3786\"],[0.5555555555555556,\"#d8576b\"],[0.6666666666666666,\"#ed7953\"],[0.7777777777777778,\"#fb9f3a\"],[0.8888888888888888,\"#fdca26\"],[1.0,\"#f0f921\"]],\"sequentialminus\":[[0.0,\"#0d0887\"],[0.1111111111111111,\"#46039f\"],[0.2222222222222222,\"#7201a8\"],[0.3333333333333333,\"#9c179e\"],[0.4444444444444444,\"#bd3786\"],[0.5555555555555556,\"#d8576b\"],[0.6666666666666666,\"#ed7953\"],[0.7777777777777778,\"#fb9f3a\"],[0.8888888888888888,\"#fdca26\"],[1.0,\"#f0f921\"]]},\"colorway\":[\"#636efa\",\"#EF553B\",\"#00cc96\",\"#ab63fa\",\"#FFA15A\",\"#19d3f3\",\"#FF6692\",\"#B6E880\",\"#FF97FF\",\"#FECB52\"],\"font\":{\"color\":\"#f2f5fa\"},\"geo\":{\"bgcolor\":\"rgb(17,17,17)\",\"lakecolor\":\"rgb(17,17,17)\",\"landcolor\":\"rgb(17,17,17)\",\"showlakes\":true,\"showland\":true,\"subunitcolor\":\"#506784\"},\"hoverlabel\":{\"align\":\"left\"},\"hovermode\":\"closest\",\"mapbox\":{\"style\":\"dark\"},\"paper_bgcolor\":\"rgb(17,17,17)\",\"plot_bgcolor\":\"rgb(17,17,17)\",\"polar\":{\"angularaxis\":{\"gridcolor\":\"#506784\",\"linecolor\":\"#506784\",\"ticks\":\"\"},\"bgcolor\":\"rgb(17,17,17)\",\"radialaxis\":{\"gridcolor\":\"#506784\",\"linecolor\":\"#506784\",\"ticks\":\"\"}},\"scene\":{\"xaxis\":{\"backgroundcolor\":\"rgb(17,17,17)\",\"gridcolor\":\"#506784\",\"gridwidth\":2,\"linecolor\":\"#506784\",\"showbackground\":true,\"ticks\":\"\",\"zerolinecolor\":\"#C8D4E3\"},\"yaxis\":{\"backgroundcolor\":\"rgb(17,17,17)\",\"gridcolor\":\"#506784\",\"gridwidth\":2,\"linecolor\":\"#506784\",\"showbackground\":true,\"ticks\":\"\",\"zerolinecolor\":\"#C8D4E3\"},\"zaxis\":{\"backgroundcolor\":\"rgb(17,17,17)\",\"gridcolor\":\"#506784\",\"gridwidth\":2,\"linecolor\":\"#506784\",\"showbackground\":true,\"ticks\":\"\",\"zerolinecolor\":\"#C8D4E3\"}},\"shapedefaults\":{\"line\":{\"color\":\"#f2f5fa\"}},\"sliderdefaults\":{\"bgcolor\":\"#C8D4E3\",\"bordercolor\":\"rgb(17,17,17)\",\"borderwidth\":1,\"tickwidth\":0},\"ternary\":{\"aaxis\":{\"gridcolor\":\"#506784\",\"linecolor\":\"#506784\",\"ticks\":\"\"},\"baxis\":{\"gridcolor\":\"#506784\",\"linecolor\":\"#506784\",\"ticks\":\"\"},\"bgcolor\":\"rgb(17,17,17)\",\"caxis\":{\"gridcolor\":\"#506784\",\"linecolor\":\"#506784\",\"ticks\":\"\"}},\"title\":{\"x\":0.05},\"updatemenudefaults\":{\"bgcolor\":\"#506784\",\"borderwidth\":0},\"xaxis\":{\"automargin\":true,\"gridcolor\":\"#283442\",\"linecolor\":\"#506784\",\"ticks\":\"\",\"title\":{\"standoff\":15},\"zerolinecolor\":\"#283442\",\"zerolinewidth\":2},\"yaxis\":{\"automargin\":true,\"gridcolor\":\"#283442\",\"linecolor\":\"#506784\",\"ticks\":\"\",\"title\":{\"standoff\":15},\"zerolinecolor\":\"#283442\",\"zerolinewidth\":2}}},\"title\":{\"text\":\"Regression Summary\",\"x\":0.5,\"y\":0.9},\"font\":{\"color\":\"white\",\"size\":20},\"barmode\":\"overlay\"},                        {\"responsive\": true}                    ).then(function(){\n",
              "                            \n",
              "var gd = document.getElementById('ea23524a-b433-493c-9de9-ea7b2b4cc843');\n",
              "var x = new MutationObserver(function (mutations, observer) {{\n",
              "        var display = window.getComputedStyle(gd).display;\n",
              "        if (!display || display === 'none') {{\n",
              "            console.log([gd, 'removed!']);\n",
              "            Plotly.purge(gd);\n",
              "            observer.disconnect();\n",
              "        }}\n",
              "}});\n",
              "\n",
              "// Listen for the removal of the full notebook cells\n",
              "var notebookContainer = gd.closest('#notebook-container');\n",
              "if (notebookContainer) {{\n",
              "    x.observe(notebookContainer, {childList: true});\n",
              "}}\n",
              "\n",
              "// Listen for the clearing of the current output cell\n",
              "var outputEl = gd.closest('.output');\n",
              "if (outputEl) {{\n",
              "    x.observe(outputEl, {childList: true});\n",
              "}}\n",
              "\n",
              "                        })                };                            </script>        </div>\n",
              "</body>\n",
              "</html>"
            ]
          },
          "metadata": {}
        }
      ]
    },
    {
      "cell_type": "code",
      "source": [
        "explainer = shap.Explainer(clf, X_train)\n",
        "shap_values = explainer(X_train)\n",
        "shap.summary_plot(shap_values, X_train)"
      ],
      "metadata": {
        "colab": {
          "base_uri": "https://localhost:8080/",
          "height": 197
        },
        "id": "QQ7tpHDJrqiU",
        "outputId": "6131e569-6785-4f23-bdef-0245430dabce"
      },
      "execution_count": 112,
      "outputs": [
        {
          "output_type": "display_data",
          "data": {
            "text/plain": [
              "<Figure size 800x190 with 2 Axes>"
            ],
            "image/png": "[encoded data removed]"
          },
          "metadata": {}
        }
      ]
    },
    {
      "cell_type": "markdown",
      "source": [
        "## Xgboost Regression"
      ],
      "metadata": {
        "id": "iOjmftwoUlYk"
      }
    },
    {
      "cell_type": "code",
      "source": [
        "import xgboost as xgb  # Importing xgboost library as xgb\n",
        "\n",
        "clf = xgb.XGBRegressor()\n",
        "clf.fit(X_train,y_train)\n",
        "y_pred = clf.predict(X_test)\n",
        "print(\"R-squared score (XGBoost classifier):\", r2_score(y_test, y_pred))\n"
      ],
      "metadata": {
        "colab": {
          "base_uri": "https://localhost:8080/"
        },
        "id": "Z2HWbWJ1Ngeo",
        "outputId": "b6ec8cd8-6960-4488-d46c-189fb3c0ab3b"
      },
      "execution_count": 113,
      "outputs": [
        {
          "output_type": "stream",
          "name": "stdout",
          "text": [
            "R-squared score (XGBoost classifier): -0.04642430822986743\n"
          ]
        }
      ]
    },
    {
      "cell_type": "code",
      "source": [
        "explainer = shap.Explainer(clf, X_train)\n",
        "shap_values = explainer(X_train)\n",
        "shap.summary_plot(shap_values, X_train)"
      ],
      "metadata": {
        "colab": {
          "base_uri": "https://localhost:8080/",
          "height": 197
        },
        "id": "SzvMz9SormJP",
        "outputId": "e0dd62bb-ca47-42b9-b9b3-dbad7911b409"
      },
      "execution_count": 114,
      "outputs": [
        {
          "output_type": "display_data",
          "data": {
            "text/plain": [
              "<Figure size 800x190 with 2 Axes>"
            ],
            "image/png": "[encoded data removed]"
          },
          "metadata": {}
        }
      ]
    },
    {
      "cell_type": "markdown",
      "source": [
        "# Statsmodels Regression"
      ],
      "metadata": {
        "id": "l7e3M1boUGLf"
      }
    },
    {
      "cell_type": "code",
      "source": [
        "\n",
        "from statsmodels.regression import linear_model\n",
        "from statsmodels.api import add_constant\n",
        "\n",
        "# Add a constant to the independent variable matrix\n",
        "X_train_with_const = add_constant(X_train)\n",
        "\n",
        "# Fit the OLS model\n",
        "model = linear_model.OLS(y_train, X_train_with_const)\n",
        "results = model.fit()\n",
        "\n",
        "# Print the summary of the regression results\n",
        "print(\"Summary:\")\n",
        "print(results.summary())\n"
      ],
      "metadata": {
        "colab": {
          "base_uri": "https://localhost:8080/"
        },
        "id": "5X8LQTvm7n4S",
        "outputId": "fc8bbf28-3968-4fd2-907b-43464e07165f"
      },
      "execution_count": 115,
      "outputs": [
        {
          "output_type": "stream",
          "name": "stdout",
          "text": [
            "Summary:\n",
            "                            OLS Regression Results                            \n",
            "==============================================================================\n",
            "Dep. Variable:                  price   R-squared:                       0.176\n",
            "Model:                            OLS   Adj. R-squared:                  0.175\n",
            "Method:                 Least Squares   F-statistic:                     148.7\n",
            "Date:                Fri, 10 May 2024   Prob (F-statistic):           3.93e-31\n",
            "Time:                        06:56:45   Log-Likelihood:                -4068.5\n",
            "No. Observations:                 696   AIC:                             8141.\n",
            "Df Residuals:                     694   BIC:                             8150.\n",
            "Df Model:                           1                                         \n",
            "Covariance Type:            nonrobust                                         \n",
            "==============================================================================\n",
            "                 coef    std err          t      P>|t|      [0.025      0.975]\n",
            "------------------------------------------------------------------------------\n",
            "const        501.1648      3.175    157.823      0.000     494.930     507.399\n",
            "x1            39.0327      3.201     12.195      0.000      32.749      45.317\n",
            "==============================================================================\n",
            "Omnibus:                        0.329   Durbin-Watson:                   1.928\n",
            "Prob(Omnibus):                  0.848   Jarque-Bera (JB):                0.432\n",
            "Skew:                           0.016   Prob(JB):                        0.806\n",
            "Kurtosis:                       2.882   Cond. No.                         1.02\n",
            "==============================================================================\n",
            "\n",
            "Notes:\n",
            "[1] Standard Errors assume that the covariance matrix of the errors is correctly specified.\n"
          ]
        }
      ]
    },
    {
      "cell_type": "markdown",
      "source": [
        "# Neural Net"
      ],
      "metadata": {
        "id": "PjBlDnB9-BZu"
      }
    },
    {
      "cell_type": "markdown",
      "source": [
        "## Neural Network Parameters"
      ],
      "metadata": {
        "id": "w29VEJq2CHuO"
      }
    },
    {
      "cell_type": "code",
      "source": [
        "activation = 'relu'\n",
        "epoch = 10\n",
        "num_nodes = [2,4]\n",
        "dropout_prob = [0.05,0.1]\n",
        "lr = [0.01,0.1]\n",
        "batch_size = [2,4]"
      ],
      "metadata": {
        "id": "k87RX2zE-u4o"
      },
      "execution_count": 116,
      "outputs": []
    },
    {
      "cell_type": "code",
      "source": [
        "\n",
        "myNN = aka_nn(X_train, X_test, y_train, y_test,activation)\n",
        "model,scre =myNN.DNN(epoch,num_nodes,dropout_prob,lr,batch_size)\n"
      ],
      "metadata": {
        "colab": {
          "base_uri": "https://localhost:8080/"
        },
        "id": "h-XSCsB5-HST",
        "outputId": "5e8936a2-49eb-4ea2-e114-9daa4acc6dd3"
      },
      "execution_count": 117,
      "outputs": [
        {
          "output_type": "stream",
          "name": "stdout",
          "text": [
            "2 nodes, dropout 0.05, lr 0.01, batch size 2\n",
            "10/10 [==============================] - 1s 4ms/step - loss: 7212.3184 - accuracy: 0.0000e+00\n",
            "2 nodes, dropout 0.05, lr 0.01, batch size 4\n",
            "10/10 [==============================] - 0s 3ms/step - loss: 7412.2749 - accuracy: 0.0000e+00\n",
            "2 nodes, dropout 0.05, lr 0.1, batch size 2\n",
            "10/10 [==============================] - 0s 2ms/step - loss: 70874.7969 - accuracy: 0.0000e+00\n",
            "2 nodes, dropout 0.05, lr 0.1, batch size 4\n",
            "10/10 [==============================] - 0s 2ms/step - loss: 140310.2812 - accuracy: 0.0000e+00\n",
            "2 nodes, dropout 0.1, lr 0.01, batch size 2\n",
            "10/10 [==============================] - 0s 3ms/step - loss: 225441.3594 - accuracy: 0.0000e+00\n",
            "2 nodes, dropout 0.1, lr 0.01, batch size 4\n",
            "10/10 [==============================] - 0s 2ms/step - loss: 8311.1113 - accuracy: 0.0000e+00\n",
            "2 nodes, dropout 0.1, lr 0.1, batch size 2\n",
            "10/10 [==============================] - 0s 2ms/step - loss: 6835.9341 - accuracy: 0.0000e+00\n",
            "2 nodes, dropout 0.1, lr 0.1, batch size 4\n",
            "10/10 [==============================] - 0s 2ms/step - loss: 6884.7192 - accuracy: 0.0000e+00\n",
            "4 nodes, dropout 0.05, lr 0.01, batch size 2\n",
            "10/10 [==============================] - 0s 3ms/step - loss: 6752.5381 - accuracy: 0.0000e+00\n",
            "4 nodes, dropout 0.05, lr 0.01, batch size 4\n",
            "10/10 [==============================] - 0s 2ms/step - loss: 6797.7539 - accuracy: 0.0000e+00\n",
            "4 nodes, dropout 0.05, lr 0.1, batch size 2\n",
            "10/10 [==============================] - 0s 3ms/step - loss: 7073.1055 - accuracy: 0.0000e+00\n",
            "4 nodes, dropout 0.05, lr 0.1, batch size 4\n",
            "10/10 [==============================] - 0s 3ms/step - loss: 9586.7871 - accuracy: 0.0000e+00\n",
            "4 nodes, dropout 0.1, lr 0.01, batch size 2\n",
            "10/10 [==============================] - 0s 2ms/step - loss: 6814.6567 - accuracy: 0.0000e+00\n",
            "4 nodes, dropout 0.1, lr 0.01, batch size 4\n",
            "10/10 [==============================] - 0s 3ms/step - loss: 7635.3804 - accuracy: 0.0000e+00\n",
            "4 nodes, dropout 0.1, lr 0.1, batch size 2\n",
            "10/10 [==============================] - 0s 3ms/step - loss: 7262.7397 - accuracy: 0.0000e+00\n",
            "4 nodes, dropout 0.1, lr 0.1, batch size 4\n",
            "10/10 [==============================] - 0s 2ms/step - loss: 6702.1558 - accuracy: 0.0000e+00\n",
            "10/10 [==============================] - 0s 2ms/step - loss: 6702.1558 - accuracy: 0.0000e+00\n"
          ]
        }
      ]
    },
    {
      "cell_type": "code",
      "source": [
        "y_pred = model.predict(X_test)\n",
        "print(\"R-squared score (DNN):\", r2_score(y_test, y_pred))"
      ],
      "metadata": {
        "colab": {
          "base_uri": "https://localhost:8080/"
        },
        "id": "OUxV0voTQof8",
        "outputId": "b7aeb04d-07d2-43b6-99b1-3d1c2f8f820f"
      },
      "execution_count": 118,
      "outputs": [
        {
          "output_type": "stream",
          "name": "stdout",
          "text": [
            "10/10 [==============================] - 0s 2ms/step\n",
            "R-squared score (DNN): 0.22932647281692675\n"
          ]
        }
      ]
    },
    {
      "cell_type": "code",
      "source": [
        "explainer = shap.Explainer(clf, X_train)\n",
        "shap_values = explainer(X_train)\n",
        "shap.summary_plot(shap_values, X_train)"
      ],
      "metadata": {
        "colab": {
          "base_uri": "https://localhost:8080/",
          "height": 197
        },
        "id": "bdVxQ_svofc1",
        "outputId": "cef5325f-6e49-4203-cc7c-5063608f2150"
      },
      "execution_count": 119,
      "outputs": [
        {
          "output_type": "display_data",
          "data": {
            "text/plain": [
              "<Figure size 800x190 with 2 Axes>"
            ],
            "image/png": "[encoded data removed]"
          },
          "metadata": {}
        }
      ]
    }
  ],
  "metadata": {
    "colab": {
      "provenance": [],
      "include_colab_link": true
    },
    "kernelspec": {
      "display_name": "Python 3",
      "name": "python3"
    },
    "language_info": {
      "name": "python"
    }
  },
  "nbformat": 4,
  "nbformat_minor": 0
}